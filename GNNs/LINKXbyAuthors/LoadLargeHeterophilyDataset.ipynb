{
 "cells": [
  {
   "cell_type": "code",
   "execution_count": 1,
   "id": "efbf9bc6",
   "metadata": {},
   "outputs": [],
   "source": [
    "import os\n",
    "import sys\n",
    "if not os.getcwd().endswith(\"Submodular\"):\n",
    "    sys.path.append('../../Submodular')    "
   ]
  },
  {
   "cell_type": "code",
   "execution_count": 2,
   "id": "0c6d49d1",
   "metadata": {},
   "outputs": [],
   "source": [
    "import DeviceDir\n",
    "\n",
    "DIR, RESULTS_DIR = DeviceDir.get_directory()\n",
    "device, NUM_PROCESSORS = DeviceDir.get_device()"
   ]
  },
  {
   "cell_type": "code",
   "execution_count": 5,
   "id": "5f06584e",
   "metadata": {},
   "outputs": [],
   "source": [
    "import torch"
   ]
  },
  {
   "cell_type": "code",
   "execution_count": 8,
   "id": "5b8003bd",
   "metadata": {},
   "outputs": [],
   "source": [
    "from torch_geometric.data import Data"
   ]
  },
  {
   "cell_type": "code",
   "execution_count": 14,
   "id": "6cb374f4",
   "metadata": {},
   "outputs": [
    {
     "data": {
      "text/plain": [
       "Data(x=[168114, 7], edge_index=[2, 6797557], y=[168114])"
      ]
     },
     "execution_count": 14,
     "metadata": {},
     "output_type": "execute_result"
    }
   ],
   "source": [
    "def load_dataset(DATASET_NAME):\n",
    "    \n",
    "    FolderName = DIR + 'LINKXdataset/'+ DATASET_NAME+'/'\n",
    "\n",
    "    data = Data()\n",
    "    \n",
    "    data.x = torch.load(FolderName+'x.pt')\n",
    "    data.edge_index =torch.load(FolderName+'edge_index.pt')\n",
    "    data.y = torch.load(FolderName+'y.pt')\n",
    "    \n",
    "    return data\n",
    "\n",
    "#'pokec', 'arxiv-year', 'snap-patents', 'twitch-gamer'\n",
    "\n",
    "load_dataset('twitch-gamer')"
   ]
  },
  {
   "cell_type": "code",
   "execution_count": null,
   "id": "eb9e518b",
   "metadata": {},
   "outputs": [],
   "source": []
  }
 ],
 "metadata": {
  "kernelspec": {
   "display_name": "py38cu11",
   "language": "python",
   "name": "py38cu11"
  },
  "language_info": {
   "codemirror_mode": {
    "name": "ipython",
    "version": 3
   },
   "file_extension": ".py",
   "mimetype": "text/x-python",
   "name": "python",
   "nbconvert_exporter": "python",
   "pygments_lexer": "ipython3",
   "version": "3.8.13"
  }
 },
 "nbformat": 4,
 "nbformat_minor": 5
}
