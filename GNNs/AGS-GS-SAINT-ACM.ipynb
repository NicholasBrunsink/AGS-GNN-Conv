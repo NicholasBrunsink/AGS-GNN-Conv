{
 "cells": [
  {
   "cell_type": "markdown",
   "id": "44415f5a",
   "metadata": {},
   "source": [
    "# AGS-GNN Graph Sampling"
   ]
  },
  {
   "cell_type": "code",
   "execution_count": 2,
   "id": "7ac319c5",
   "metadata": {},
   "outputs": [],
   "source": [
    "import sys\n",
    "sys.path.append('../Submodular')\n",
    "\n",
    "import DeviceDir\n",
    "\n",
    "DIR, RESULTS_DIR = DeviceDir.get_directory()\n",
    "device, NUM_PROCESSORS = DeviceDir.get_device()"
   ]
  },
  {
   "cell_type": "code",
   "execution_count": 3,
   "id": "782d8b87",
   "metadata": {},
   "outputs": [],
   "source": [
    "from ipynb.fs.full.Dataset import get_data\n",
    "from ipynb.fs.full.Dataset import datasets as available_datasets\n",
    "from ipynb.fs.full.Utils import save_plot"
   ]
  },
  {
   "cell_type": "code",
   "execution_count": 4,
   "id": "d11e7a9f",
   "metadata": {},
   "outputs": [],
   "source": [
    "import argparse\n",
    "from argparse import ArgumentParser\n",
    "\n",
    "#set default arguments here\n",
    "def get_configuration():\n",
    "    parser = ArgumentParser()\n",
    "    parser.add_argument('--epochs', type=int, default=1)\n",
    "    parser.add_argument('--log_info', type=bool, default=True)\n",
    "    parser.add_argument('--pbar', type=bool, default=False)\n",
    "    parser.add_argument('--batch_size', type=int, default=2048)\n",
    "    parser.add_argument('--learning_rate', type=float, default=0.01)\n",
    "    parser.add_argument('--num_gpus', type=int, default=-1)\n",
    "    parser.add_argument('--parallel_mode', type=str, default=\"dp\", choices=['dp', 'ddp', 'ddp2'])\n",
    "    parser.add_argument('--dataset', type=str, default=\"Cora\", choices=available_datasets)\n",
    "    parser.add_argument('--use_normalization', action='store_false', default=True)\n",
    "    parser.add_argument('-f') ##dummy for jupyternotebook\n",
    "    args = parser.parse_args()\n",
    "    \n",
    "    dict_args = vars(args)\n",
    "    \n",
    "    return args, dict_args\n",
    "\n",
    "args, dict_args = get_configuration()"
   ]
  },
  {
   "cell_type": "code",
   "execution_count": 5,
   "id": "38ae0932",
   "metadata": {},
   "outputs": [],
   "source": [
    "import random\n",
    "import numpy as np\n",
    "import torch\n",
    "\n",
    "seed = 123\n",
    "\n",
    "random.seed(seed)\n",
    "np.random.seed(seed)\n",
    "torch.manual_seed(seed)\n",
    "None"
   ]
  },
  {
   "cell_type": "markdown",
   "id": "9141f832",
   "metadata": {},
   "source": [
    "## GNN model"
   ]
  },
  {
   "cell_type": "code",
   "execution_count": 6,
   "id": "bbd4df8e",
   "metadata": {},
   "outputs": [],
   "source": [
    "import os\n",
    "import math\n",
    "import time\n",
    "import torch_geometric\n",
    "from torch_geometric.data import Data, Dataset\n",
    "from torch_geometric.nn import GCNConv, GATConv, SAGEConv, GINConv, ChebConv\n",
    "from torch_geometric.nn import GraphConv, TransformerConv\n",
    "from torch_geometric.utils import degree\n",
    "import torch.nn.functional as F\n",
    "from sklearn.metrics import accuracy_score\n",
    "from ipynb.fs.full.SpatialConv import SpatialConv\n",
    "from tqdm import tqdm\n",
    "import torch.nn as nn"
   ]
  },
  {
   "cell_type": "markdown",
   "id": "9edb2011",
   "metadata": {},
   "source": [
    "## Homophilic GNN"
   ]
  },
  {
   "cell_type": "code",
   "execution_count": 7,
   "id": "2402dec7",
   "metadata": {},
   "outputs": [],
   "source": [
    "class HomophilicNet(torch.nn.Module):\n",
    "    def __init__(self, num_features, num_classes, hidden_channels, end_hidden):\n",
    "        super().__init__()\n",
    "        in_channels = num_features\n",
    "        out_channels = num_classes\n",
    "        self.conv1 = GraphConv(in_channels, hidden_channels)\n",
    "        self.conv2 = GraphConv(hidden_channels, hidden_channels)\n",
    "#         self.conv3 = GraphConv(hidden_channels, hidden_channels)\n",
    "#         self.lin = torch.nn.Linear(3 * hidden_channels, end_hidden)\n",
    "#         self.lin2 = torch.nn.Linear(3 * hidden_channels, out_channels)\n",
    "        self.lin = torch.nn.Linear(2 * hidden_channels, end_hidden)\n",
    "        self.lin2 = torch.nn.Linear(2 * hidden_channels, out_channels)\n",
    "\n",
    "\n",
    "    def set_aggr(self, aggr):\n",
    "        self.conv1.aggr = aggr\n",
    "        self.conv2.aggr = aggr\n",
    "#         self.conv3.aggr = aggr\n",
    "\n",
    "    def forward(self, x0, edge_index, edge_weight=None):\n",
    "        x1 = F.relu(self.conv1(x0, edge_index, edge_weight))\n",
    "        x1 = F.dropout(x1, p=0.2, training=self.training)\n",
    "        x2 = F.relu(self.conv2(x1, edge_index, edge_weight))\n",
    "        x2 = F.dropout(x2, p=0.2, training=self.training)\n",
    "#         x3 = F.relu(self.conv3(x2, edge_index, edge_weight))\n",
    "#         x3 = F.dropout(x3, p=0.2, training=self.training)\n",
    "#         x = torch.cat([x1, x2, x3], dim=-1)\n",
    "\n",
    "        x = torch.cat([x1, x2], dim=-1)\n",
    "        \n",
    "        c1 = self.lin(x)\n",
    "        c2 = self.lin2(x)\n",
    "        \n",
    "        return F.relu(c1), c2.log_softmax(dim=-1)"
   ]
  },
  {
   "cell_type": "markdown",
   "id": "2525b2fa",
   "metadata": {},
   "source": [
    "## Heterophilic GNN"
   ]
  },
  {
   "cell_type": "code",
   "execution_count": 8,
   "id": "3777acf2",
   "metadata": {},
   "outputs": [],
   "source": [
    "#replace this part with ACMGCN\n",
    "#import ACM.modelgeom.layers as layers\n",
    "from ACM.modelgeom.models import GCN\n",
    "import scipy.sparse as sp\n",
    "from torch_geometric.utils.convert import to_scipy_sparse_matrix\n",
    "from ipynb.fs.full.ACM.models.Test import normalize_tensor, sparse_mx_to_torch_sparse_tensor"
   ]
  },
  {
   "cell_type": "code",
   "execution_count": 9,
   "id": "ad18eada",
   "metadata": {},
   "outputs": [],
   "source": [
    "class HeterophilicNet(torch.nn.Module):\n",
    "    def __init__(self, num_features, num_classes, hidden_channels, end_hidden, N):\n",
    "        super().__init__()\n",
    "        in_channels = num_features\n",
    "        out_channels = num_classes\n",
    "                \n",
    "        self.hetero_gnn  = GCN(\n",
    "            nfeat=num_features,\n",
    "            nhid=hidden_channels,\n",
    "            nclass=hidden_channels,\n",
    "            nlayers=2,\n",
    "            nnodes=N,\n",
    "            dropout=0.2,\n",
    "            model_type='acmgcnp',\n",
    "            structure_info=1,\n",
    "            variant=True,)\n",
    "        \n",
    "        self.lin = torch.nn.Linear(hidden_channels, end_hidden)\n",
    "        self.lin2 = torch.nn.Linear(hidden_channels, out_channels)\n",
    "\n",
    "    def forward(self, batch_data):\n",
    "                \n",
    "        n = batch_data.num_nodes\n",
    "        x = batch_data.x\n",
    "        \n",
    "        #print(batch_data)\n",
    "        \n",
    "        edge_index, _ = torch_geometric.utils.add_self_loops(batch_data.edge_index, num_nodes=n)\n",
    "        \n",
    "        adj_low_unnormalized = to_scipy_sparse_matrix(edge_index)\n",
    "        \n",
    "#         print(sp.identity(n).shape)\n",
    "#         print(adj_low_unnormalized.shape)\n",
    "        \n",
    "        \n",
    "        adj_low = normalize_tensor(sp.identity(n) + adj_low_unnormalized)\n",
    "        adj_high = sp.identity(n) - adj_low\n",
    "        adj_low = sparse_mx_to_torch_sparse_tensor(adj_low).to(device)\n",
    "        adj_high = sparse_mx_to_torch_sparse_tensor(adj_high).to(device)\n",
    "        adj_low_unnormalized = sparse_mx_to_torch_sparse_tensor(adj_low_unnormalized).to(device)\n",
    "\n",
    "#         print(x.device, adj_low.device, adj_high.device, adj_low_unnormalized.device)\n",
    "        \n",
    "        x = self.hetero_gnn(x, adj_low, adj_high, adj_low_unnormalized)\n",
    "        \n",
    "        c1 = self.lin(x)\n",
    "        c2 = self.lin2(x)\n",
    "        \n",
    "        return F.relu(c1), c2.log_softmax(dim=-1)"
   ]
  },
  {
   "cell_type": "markdown",
   "id": "595ef962",
   "metadata": {},
   "source": [
    "## Combination Network"
   ]
  },
  {
   "cell_type": "code",
   "execution_count": 10,
   "id": "b24c3ae9",
   "metadata": {},
   "outputs": [],
   "source": [
    "class AGSGNN(torch.nn.Module):\n",
    "    def __init__(self, num_features,num_classes, hidden_channels=256, dropout=0.5, N = 0):\n",
    "        super().__init__()\n",
    "        self.num_classes = num_classes\n",
    "        \n",
    "        hidden = int(hidden_channels/2)        \n",
    "        self.gnn1 = HomophilicNet(num_features, num_classes, hidden_channels, hidden)\n",
    "        self.gnn2 = HeterophilicNet(num_features, num_classes, hidden_channels, hidden, N = N)\n",
    "        self.p = dropout\n",
    "        self.com_lin = nn.Linear(hidden*2, num_classes)      \n",
    "        \n",
    "    def forward(self, batch_data):\n",
    "        \n",
    "        #out = model(batch_data.x, batch_data.edge_index, batch_data.edge_weight)\n",
    "        #out = model(batch_data.x, batch_data.edge_index)\n",
    "        \n",
    "        x1, x1c1 = self.gnn1(batch_data[0].x, batch_data[0].edge_index, batch_data[0].weight)\n",
    "        x2, x2c2 = self.gnn2(batch_data[1])\n",
    "\n",
    "#         x1 = self.gnn1(batch_data[0].x, batch_data[0].edge_index)\n",
    "#         x2 = self.gnn2(batch_data[1].x, batch_data[1].edge_index)\n",
    "\n",
    "        a1 = F.relu(x1)\n",
    "        a1 = F.dropout(a1, p=self.p, training=self.training)\n",
    "        \n",
    "        s1 = F.relu(x2)        \n",
    "        s1 = F.dropout(s1, p=self.p, training=self.training)\n",
    "        \n",
    "        batch_size = batch_data[0].batch_size        \n",
    "        x = torch.cat([a1[:batch_size,:], s1[:batch_size,:]], dim=-1)\n",
    "        x = self.com_lin(x)\n",
    "        \n",
    "        #return x\n",
    "    \n",
    "        return x.log_softmax(dim=-1), x1c1, x2c2"
   ]
  },
  {
   "cell_type": "markdown",
   "id": "88b17b8e",
   "metadata": {},
   "source": [
    "## GNN Training and Testing"
   ]
  },
  {
   "cell_type": "code",
   "execution_count": 11,
   "id": "e11e841d",
   "metadata": {},
   "outputs": [],
   "source": [
    "from ipynb.fs.full.a2AGS_Graph_Sampler import AGSGraphSampler\n",
    "from torch_geometric.loader import NeighborSampler, NeighborLoader"
   ]
  },
  {
   "cell_type": "code",
   "execution_count": 12,
   "id": "83409b9c",
   "metadata": {},
   "outputs": [],
   "source": [
    "from collections import Counter\n",
    "import random\n",
    "\n",
    "def prediction(y_pred_seed, y_pred_hm, y_pred_ht):\n",
    "    \n",
    "    all_tensors = [y_pred_seed, y_pred_hm, y_pred_ht]\n",
    "    final_predictions = []\n",
    "\n",
    "    for i in range(len(y_pred_seed)):\n",
    "        values_at_index = [tensor[i].item() for tensor in all_tensors]\n",
    "        counter = Counter(values_at_index)\n",
    "        most_common_values = counter.most_common()\n",
    "\n",
    "        # Check if there's a tie\n",
    "        if len(most_common_values) > 1 and most_common_values[0][1] == most_common_values[1][1]:\n",
    "            #selected_value = random.choice([value for value, count in most_common_values[:2]])\n",
    "            selected_value = y_pred_seed[i].item()\n",
    "        else:\n",
    "            selected_value = most_common_values[0][0]\n",
    "\n",
    "        final_predictions.append(selected_value)\n",
    "            \n",
    "    return torch.LongTensor(final_predictions)\n",
    "\n",
    "y_pred_seed = torch.tensor([0, 1, 2, 2, 1])\n",
    "y_pred_hm = torch.tensor([2, 1, 1, 0, 2])\n",
    "y_pred_ht = torch.tensor([0, 2, 1, 1, 0])\n",
    "\n",
    "\n",
    "# prediction(y_pred_seed,y_pred_hm,y_pred_ht)"
   ]
  },
  {
   "cell_type": "code",
   "execution_count": 13,
   "id": "5ac415e3",
   "metadata": {},
   "outputs": [],
   "source": [
    "def test(model, loader, mask, name='Train', channel='all'):\n",
    "    if args.log_info:\n",
    "        pbar = tqdm(total=sum(mask).item())\n",
    "        pbar.set_description(f'Evaluating {name}')\n",
    "\n",
    "    model.eval()\n",
    "    \n",
    "    total_correct=0\n",
    "    total_examples=0\n",
    "    \n",
    "    with torch.no_grad():                  \n",
    "    \n",
    "        for i,batch_data in enumerate(loader):\n",
    "            \n",
    "            batch_data = [b_data.to(device) for b_data in batch_data]\n",
    "            batch_size = batch_data[0].batch_size\n",
    "            batch_data[0].weight = batch_data[0].edge_norm * batch_data[0].edge_weight\n",
    "            \n",
    "            out, out1, out2 = model(batch_data)\n",
    "                \n",
    "            #print(out.shape, out1.shape, out2.shape)\n",
    "            \n",
    "            y_pred_seed = out[:batch_size].argmax(dim=-1).cpu()\n",
    "            y_pred_hm = out1[:batch_size].argmax(dim=-1).cpu()\n",
    "            y_pred_ht = out2[:batch_size].argmax(dim=-1).cpu()\n",
    "            \n",
    "            #print(y_pred_seed.shape,y_pred_hm.shape, y_pred_ht.shape)\n",
    "            \n",
    "            \n",
    "            y_true = batch_data[0].y[:batch_size]\n",
    "            \n",
    "            if name == 'Train':\n",
    "                t_mask = batch_data[0].train_mask[:batch_size]\n",
    "            elif name == 'Validation':\n",
    "                t_mask = batch_data[0].val_mask[:batch_size]\n",
    "            else:\n",
    "                t_mask = batch_data[0].test_mask[:batch_size]\n",
    "\n",
    "            if channel=='sd':\n",
    "                y_pred = y_pred_seed\n",
    "            elif channel=='hm':\n",
    "                y_pred = y_pred_hm\n",
    "            elif channel=='ht':\n",
    "                y_pred = y_pred_ht\n",
    "            else:\n",
    "                y_pred = prediction(y_pred_seed, y_pred_hm, y_pred_ht)\n",
    "\n",
    "            #print(y_pred)                \n",
    "            correct = y_pred.eq(y_true.cpu())\n",
    "            total_correct+= correct[t_mask].sum().item()\n",
    "            items = t_mask.sum().item()\n",
    "            total_examples+= items           \n",
    "            if args.log_info:\n",
    "                pbar.update(items)\n",
    "    \n",
    "    if args.log_info:\n",
    "        pbar.close()\n",
    "\n",
    "    return total_correct/total_examples\n"
   ]
  },
  {
   "cell_type": "code",
   "execution_count": 14,
   "id": "85fa0de2",
   "metadata": {},
   "outputs": [],
   "source": [
    "#https://github.com/GraphSAINT/GraphSAINT/issues/11\n",
    "    \n",
    "def train(DATASET_NAME,model, data, dataset, epochs=1, channel='all', BATCH_SIZE=1024): #'all', 'hm', 'ht', 'sd'\n",
    "        \n",
    "    optimizer = torch.optim.Adam(model.parameters(), lr=0.001)    \n",
    "    if data.y.ndim == 1:\n",
    "        criterion = torch.nn.CrossEntropyLoss() #regular logits as output\n",
    "#         criterion = torch.nn.NLLLoss() ## if log softmax used as activation\n",
    "    else:\n",
    "        criterion = torch.nn.BCEWithLogitsLoss()     #multillabel\n",
    "    \n",
    "    row, col = data.edge_index\n",
    "    data.edge_weight = 1. / degree(col, data.num_nodes)[col]  # Norm by in-degree.\n",
    "    \n",
    "    #minibatch_size= 2048\n",
    "    minibatch_size = BATCH_SIZE\n",
    "    \n",
    "    sampler_dir = DIR+'AGSGSAINTACM/'+DATASET_NAME\n",
    "    if not os.path.exists(sampler_dir):\n",
    "        os.makedirs(sampler_dir)\n",
    "        \n",
    "    #batch_size= min(1024, data.num_nodes)\n",
    "    #num_steps=math.ceil(sum (data.train_mask)/batch_size)    \n",
    "    num_steps=math.ceil(data.num_nodes/minibatch_size)\n",
    "    num_workers = 8  if data.num_nodes>50000 else 0\n",
    "    \n",
    "    \n",
    "    sample_func =['rw', 'rw']\n",
    "    weight_func =[\n",
    "        {'exact':False,'weight':'random'}, #exact for exact size to the batch\n",
    "        {'exact':True,'weight':'random'}\n",
    "    ]\n",
    "\n",
    "    params={'knn':{'metric':'cosine'},\n",
    "            'submodular':{'metric':'cosine'},\n",
    "            'link-nn':{'value':'min'},\n",
    "            'link-sub':{'value':'max'},\n",
    "            'disjoint':{'value':'mst'},\n",
    "           }\n",
    "    \n",
    "    loader = AGSGraphSampler(\n",
    "        data, batch_size=minibatch_size, walk_length=2, num_steps=num_steps, sample_coverage=100,\n",
    "        num_workers=num_workers,log=args.log_info,save_dir=sampler_dir,recompute = False, shuffle = False,\n",
    "        sample_func = sample_func, weight_func=weight_func, params=params)\n",
    "        \n",
    "    \n",
    "    #for evaluation\n",
    "    train_num_steps = int(torch.ceil(sum(data.train_mask)/minibatch_size))\n",
    "    val_num_steps = int(torch.ceil(sum(data.val_mask)/minibatch_size))\n",
    "    test_num_steps = int(torch.ceil(sum(data.test_mask)/minibatch_size))\n",
    "    \n",
    "    train_loader = AGSGraphSampler(\n",
    "        data, input_nodes = data.train_mask, batch_size=minibatch_size, walk_length=2, num_steps=train_num_steps, \n",
    "        sample_coverage=100,num_workers=num_workers,log=args.log_info,save_dir=sampler_dir,\n",
    "        recompute = False, shuffle = False,sample_func = sample_func, weight_func=weight_func, params=params)\n",
    "    \n",
    "    \n",
    "    val_loader = AGSGraphSampler(\n",
    "        data, input_nodes = data.val_mask, batch_size=minibatch_size, walk_length=2, num_steps=val_num_steps, \n",
    "        sample_coverage=100,num_workers=num_workers,log=args.log_info,save_dir=sampler_dir,\n",
    "        recompute = False, shuffle = False,sample_func = sample_func, weight_func=weight_func, params=params)\n",
    "        \n",
    "    test_loader = AGSGraphSampler(\n",
    "        data, input_nodes = data.test_mask, batch_size=minibatch_size, walk_length=2, num_steps=test_num_steps, \n",
    "        sample_coverage=100,num_workers=num_workers,log=args.log_info,save_dir=sampler_dir,\n",
    "        recompute = False, shuffle = False,sample_func = sample_func, weight_func=weight_func, params=params)\n",
    "            \n",
    "            \n",
    "    best_acc=0    \n",
    "    train_losses = []; val_accuracies = []; train_accuracies = []; test_accuracies = []    \n",
    "    max_iteration = epochs    \n",
    "    \n",
    "    \n",
    "    th_node = 10000\n",
    "    \n",
    "    if (minibatch_size == data.num_nodes) and data.num_nodes<th_node:\n",
    "        test_data = data.clone()\n",
    "        test_data.weight = loader.edge_norm * test_data.edge_weight\n",
    "        test_data.seed_node=torch.arange(test_data.num_nodes)  \n",
    "        test_data.batch_size=test_data.seed_node.shape[0]\n",
    "        all_data = [test_data.to(device), test_data.to(device)]    \n",
    "        \n",
    "        if args.log_info:\n",
    "            print(all_data)\n",
    "            \n",
    "    for epoch in range(1,epochs+1):\n",
    "        \n",
    "        if args.log_info:\n",
    "            pbar = tqdm(total=num_steps)\n",
    "            pbar.set_description(f'Epoch {epoch:02d}')\n",
    "        \n",
    "        model.train()\n",
    "        #if model.__class__.__name__ == 'Net':\n",
    "            #model.set_aggr('add' if args.use_normalization else 'mean')\n",
    "        model.gnn1.set_aggr('add' if args.use_normalization else 'mean')\n",
    "        #model.gnn2.set_aggr('add' if args.use_normalization else 'mean')\n",
    "\n",
    "        total_loss = total_examples = 0\n",
    "        total_loss_seed = total_loss_hm = total_loss_ht = 0\n",
    "        total_seed_example = total_hm_example = total_ht_example = 0\n",
    "                    \n",
    "        for i,batch_data in enumerate(loader):\n",
    "            \n",
    "#             print(batch_data);\n",
    "#             print(\"*\"*50)            \n",
    "            \n",
    "            batch_data = [b_data.to(device) for b_data in batch_data]\n",
    "            batch_size = batch_data[0].batch_size\n",
    "            mask = batch_data[0].train_mask[:batch_size]\n",
    "            y_true = batch_data[0].y[:batch_size]\n",
    "            \n",
    "            if torch.sum(mask) == 0:\n",
    "                print(\"no training mask in seed node\")\n",
    "#                 continue\n",
    "\n",
    "            optimizer.zero_grad()\n",
    "            if args.use_normalization:                 \n",
    "                \n",
    "                batch_data[0].weight = batch_data[0].edge_norm * batch_data[0].edge_weight\n",
    "                batch_data[1].weight = batch_data[1].edge_norm * batch_data[1].edge_weight\n",
    "                \n",
    "                out, out1, out2 = model(batch_data)                            \n",
    "                #print(out.shape, out1.shape, out2.shape)\n",
    "                \n",
    "                                \n",
    "#                 print(out[:batch_size][mask].shape, y_true[mask].shape)                \n",
    "#                 print(loss.shape)\n",
    "#                 print(batch_data[0].node_norm.shape)\n",
    "#                 print(batch_data[0].node_norm[:batch_size].shape)\n",
    "#                 loss = criterion(out, batch_data.y, reduction='none')\n",
    "\n",
    "                #--------- loss computation seed nodes --------- #                \n",
    "                loss_seed = F.nll_loss(out[:batch_size][mask], y_true[mask], reduction='none')\n",
    "                loss_seed = (loss_seed * batch_data[0].node_norm[:batch_size][mask]).sum()\n",
    "        \n",
    "                #--------- loss computation homophily nodes --------- #\n",
    "            \n",
    "                loss_hm = F.nll_loss(out1[batch_data[0].train_mask], batch_data[0].y[batch_data[0].train_mask], reduction='none')\n",
    "                loss_hm = (loss_hm * batch_data[0].node_norm[batch_data[0].train_mask]).sum()\n",
    "                \n",
    "                #--------- loss computation homophily nodes --------- #\n",
    "                loss_ht = F.nll_loss(out2[batch_data[1].train_mask], batch_data[1].y[batch_data[1].train_mask], reduction='none')\n",
    "                loss_ht = (loss_ht * batch_data[1].node_norm[batch_data[1].train_mask]).sum()\n",
    "                \n",
    "                if channel=='sd':loss = loss_seed\n",
    "                elif channel=='hm':loss = loss_hm\n",
    "                elif channel=='ht':loss = loss_ht\n",
    "                else:loss = loss_seed + loss_hm + loss_ht                \n",
    "\n",
    "            else:\n",
    "                batch_data[0].weight = None\n",
    "                batch_data[1].weight = None\n",
    "                    \n",
    "                out, out1, out2 = model(batch_data)                            \n",
    "                #print(out.shape, out1.shape, out2.shape)\n",
    "                \n",
    "                mask = batch_data[0].train_mask[:batch_size]\n",
    "                y_true = batch_data[0].y[:batch_size]\n",
    "                \n",
    "                #--------- loss computation seed nodes --------- #                \n",
    "                loss_seed = F.nll_loss(out[:batch_size][mask], y_true[mask])\n",
    "                \n",
    "                #--------- loss computation homophily nodes --------- #\n",
    "                loss_hm = F.nll_loss(out1[batch_data[0].train_mask], batch_data[0].y[batch_data[0].train_mask])\n",
    "                \n",
    "                #--------- loss computation homophily nodes --------- #\n",
    "                loss_ht = F.nll_loss(out2[batch_data[1].train_mask], batch_data[1].y[batch_data[1].train_mask])\n",
    "                #loss = criterion(out[batch_data.train_mask], batch_data.y[batch_data.train_mask])\n",
    "                \n",
    "                if channel=='sd':loss = loss_seed\n",
    "                elif channel=='hm':loss = loss_hm\n",
    "                elif channel=='ht':loss = loss_ht\n",
    "                else:loss = loss_seed + loss_hm + loss_ht\n",
    "                                                        \n",
    "            loss.backward()\n",
    "            optimizer.step()\n",
    "            \n",
    "            total_loss_seed+= loss_seed.item()*batch_size\n",
    "            total_loss_hm+= loss_hm.item()*sum(batch_data[0].train_mask).item()\n",
    "            total_loss_ht+= loss_ht.item()*sum(batch_data[1].train_mask).item()\n",
    "            \n",
    "            total_seed_example+= sum(mask).item()\n",
    "            total_hm_example+=sum(batch_data[0].train_mask).item()\n",
    "            total_ht_example+=sum(batch_data[1].train_mask).item()\n",
    "            \n",
    "            if args.log_info:\n",
    "                pbar.update(1)\n",
    "        \n",
    "        if args.log_info:\n",
    "            pbar.close()\n",
    "            \n",
    "        total_loss_seed /= max(total_seed_example,1)\n",
    "        total_loss_hm /= max(total_hm_example,1)\n",
    "        total_loss_ht /= max(total_ht_example,1)\n",
    "        \n",
    "        total_loss=total_loss_seed+total_loss_hm+total_loss_ht\n",
    "        total_examples = total_seed_example + total_hm_example + total_ht_example\n",
    "        \n",
    "        if args.log_info:\n",
    "            print(f'Loss:{total_loss:0.4f} seed:{total_loss_seed:0.4f} hm:{total_loss_hm:0.4f} ht:{total_loss_ht:0.4f}')\n",
    "            print(f'Example:{total_examples:1d} seed:{total_seed_example:1d} hm:{total_hm_example:1d} ht:{total_ht_example:1d}')\n",
    "        \n",
    "        if channel=='sd':train_losses.append(total_loss_seed)\n",
    "        elif channel=='hm':train_losses.append(total_loss_hm)\n",
    "        elif channel=='ht':train_losses.append(total_loss_ht)\n",
    "        else:train_losses.append(total_loss)\n",
    "                        \n",
    "\n",
    "        model.eval()       \n",
    "        model.gnn1.set_aggr('add' if args.use_normalization else 'mean')\n",
    "#         model.gnn2.set_aggr('add' if args.use_normalization else 'mean')\n",
    "        accs = [0,0,0]\n",
    "        \n",
    "        if (minibatch_size == data.num_nodes) and data.num_nodes<th_node:\n",
    "                        \n",
    "            with torch.no_grad():\n",
    "                out, out1, out2 = model(all_data)\n",
    "                \n",
    "                #print(out.shape, out1.shape, out2.shape)\n",
    "                y_pred_seed = out.argmax(dim=-1).cpu()\n",
    "                y_pred_hm = out1.argmax(dim=-1).cpu()\n",
    "                y_pred_ht = out2.argmax(dim=-1).cpu()\n",
    "                \n",
    "                if channel=='sd':\n",
    "                    y_pred = y_pred_seed\n",
    "                elif channel=='hm':\n",
    "                    y_pred = y_pred_hm\n",
    "                elif channel=='ht':\n",
    "                    y_pred = y_pred_ht\n",
    "                else:\n",
    "                    y_pred = prediction(y_pred_seed, y_pred_hm, y_pred_ht)\n",
    "                \n",
    "                #print(y_pred)                \n",
    "                correct = y_pred.eq(data.y.cpu())\n",
    "                accs = []\n",
    "                for _, mask in data('train_mask', 'val_mask', 'test_mask'):\n",
    "                    accs.append(correct[mask].sum().item() / mask.sum().item()) \n",
    "                                                    \n",
    "        else:\n",
    "            accs[0] = test(model, train_loader, data.train_mask, name='Train',channel=channel)\n",
    "            accs[1] = test(model, val_loader, data.val_mask, name='Validation',channel=channel)\n",
    "            accs[2] = test(model, test_loader, data.test_mask, name='Test',channel=channel)\n",
    "            \n",
    "        train_accuracies.append(accs[0])\n",
    "        val_accuracies.append(accs[1])\n",
    "        test_accuracies.append(accs[2])\n",
    "        std_dev = np.std(train_losses[-5:])\n",
    "        \n",
    "        if args.log_info:\n",
    "            print(f'Epoch: {epoch:03d}, Train Loss: {loss:.4f}, Train: {accs[0]:.4f}, Val: {accs[1]:.4f}, Test: {accs[2]:.4f}, Std dev: {std_dev:.4f}')\n",
    "        \n",
    "        if epoch>=5 and std_dev<=1e-3:\n",
    "            if args.log_info:\n",
    "                print(\"Iteration for convergence: \", epoch)\n",
    "            max_iteration = epoch\n",
    "            break\n",
    "    \n",
    "    if args.log_info:\n",
    "        save_plot([train_losses, train_accuracies, val_accuracies, test_accuracies], labels=['Loss','Train','Validation','Test'], name='Results/AGSGSValidation', yname='Accuracy', xname='Epoch')\n",
    "        print (\"Best Validation Accuracy, \",max(val_accuracies))\n",
    "        print (\"Best Test Accuracy, \",max(test_accuracies))\n",
    "    \n",
    "    if (minibatch_size == data.num_nodes) and data.num_nodes<th_node:\n",
    "        del all_data\n",
    "    \n",
    "    return max(test_accuracies), max_iteration"
   ]
  },
  {
   "cell_type": "code",
   "execution_count": 15,
   "id": "34bee9e8",
   "metadata": {},
   "outputs": [],
   "source": [
    "def AGSGSperformanceSampler(DATASET_NAME,data, dataset, num_classes, epochs=1,channel='all'):\n",
    "    \n",
    "    ###\n",
    "    BATCH_SIZE = min(data.num_nodes, 1024)\n",
    "    \n",
    "    if args.log_info:\n",
    "        print(\"BATCH SIZE: \", BATCH_SIZE)\n",
    "        \n",
    "    model = AGSGNN(data.x.shape[1], num_classes, hidden_channels=256, N = BATCH_SIZE).to(device)            \n",
    "    \n",
    "    if args.log_info:\n",
    "        print(model)\n",
    "    \n",
    "    itr, accuracy = train(DATASET_NAME, model, data, dataset, epochs, channel, BATCH_SIZE)\n",
    "    \n",
    "    return itr, accuracy, model"
   ]
  },
  {
   "cell_type": "code",
   "execution_count": 16,
   "id": "0ce2248e",
   "metadata": {},
   "outputs": [],
   "source": [
    "from sklearn.decomposition import TruncatedSVD\n",
    "import numpy as np\n",
    "\n",
    "def adj_feature(data):    \n",
    "    adj_mat = torch.zeros((data.num_nodes,data.num_nodes))\n",
    "    edges = data.edge_index.t()\n",
    "    adj_mat[edges[:,0], edges[:,1]] = 1\n",
    "    adj_mat[edges[:,1], edges[:,0]] = 1\n",
    "    \n",
    "#     n_components = data.x.shape[1]\n",
    "    n_components = min(256, data.x.shape[1], data.num_nodes)\n",
    "\n",
    "    svd = TruncatedSVD(n_components=n_components)\n",
    "    x = svd.fit_transform(adj_mat)\n",
    "    \n",
    "    x = torch.Tensor(x)\n",
    "    x.shape    \n",
    "    \n",
    "    return x\n",
    "\n",
    "# x = adj_feature(data)\n",
    "# x.shape"
   ]
  },
  {
   "cell_type": "code",
   "execution_count": 21,
   "id": "586728b2",
   "metadata": {},
   "outputs": [
    {
     "name": "stdout",
     "output_type": "stream",
     "text": [
      "N  5201  E  217073  d  41.73678138819458 0.08891735225915909 0.2239430993795395 0.042996399104595184 0.3737970292568207 Data(x=[5201, 2089], edge_index=[2, 217073], y=[5201], train_mask=[5201], val_mask=[5201], test_mask=[5201])\n",
      "BATCH SIZE:  1024\n",
      "AGSGNN(\n",
      "  (gnn1): HomophilicNet(\n",
      "    (conv1): GraphConv(2089, 256)\n",
      "    (conv2): GraphConv(256, 256)\n",
      "    (lin): Linear(in_features=512, out_features=128, bias=True)\n",
      "    (lin2): Linear(in_features=512, out_features=5, bias=True)\n",
      "  )\n",
      "  (gnn2): HeterophilicNet(\n",
      "    (hetero_gnn): GCN(\n",
      "      (gcns): ModuleList(\n",
      "        (0): GraphConvolution (2089 -> 256)\n",
      "        (1): GraphConvolution (256 -> 256)\n",
      "      )\n",
      "      (mlps): ModuleList()\n",
      "    )\n",
      "    (lin): Linear(in_features=256, out_features=128, bias=True)\n",
      "    (lin2): Linear(in_features=256, out_features=5, bias=True)\n",
      "  )\n",
      "  (com_lin): Linear(in_features=256, out_features=5, bias=True)\n",
      ")\n",
      "loading saved norm\n",
      "loading saved norm\n",
      "loading saved norm\n",
      "loading saved norm\n"
     ]
    },
    {
     "name": "stderr",
     "output_type": "stream",
     "text": [
      "Epoch 01: 100%|██████████| 6/6 [00:00<00:00, 15.63it/s]\n"
     ]
    },
    {
     "name": "stdout",
     "output_type": "stream",
     "text": [
      "Loss:2.7367 seed:1.2648 hm:0.8366 ht:0.6353\n",
      "Example:10240 seed:2654 hm:4649 ht:2937\n"
     ]
    },
    {
     "name": "stderr",
     "output_type": "stream",
     "text": [
      "Evaluating Train: 100%|██████████| 2496/2496 [00:00<00:00, 33748.92it/s]\n",
      "Evaluating Validation: 100%|██████████| 1664/1664 [00:00<00:00, 47483.87it/s]\n",
      "Evaluating Test: 100%|██████████| 1041/1041 [00:00<00:00, 34080.07it/s]\n"
     ]
    },
    {
     "name": "stdout",
     "output_type": "stream",
     "text": [
      "Epoch: 001, Train Loss: 0.6006, Train: 0.2003, Val: 0.2019, Test: 0.1979, Std dev: 0.0000\n"
     ]
    },
    {
     "name": "stderr",
     "output_type": "stream",
     "text": [
      "Epoch 02: 100%|██████████| 6/6 [00:00<00:00, 16.71it/s]\n"
     ]
    },
    {
     "name": "stdout",
     "output_type": "stream",
     "text": [
      "Loss:2.7119 seed:1.2470 hm:0.8387 ht:0.6262\n",
      "Example:10386 seed:2697 hm:4717 ht:2972\n"
     ]
    },
    {
     "name": "stderr",
     "output_type": "stream",
     "text": [
      "Evaluating Train: 100%|██████████| 2496/2496 [00:00<00:00, 33822.63it/s]\n",
      "Evaluating Validation: 100%|██████████| 1664/1664 [00:00<00:00, 46938.11it/s]\n",
      "Evaluating Test: 100%|██████████| 1041/1041 [00:00<00:00, 31881.29it/s]\n"
     ]
    },
    {
     "name": "stdout",
     "output_type": "stream",
     "text": [
      "Epoch: 002, Train Loss: 0.6279, Train: 0.2007, Val: 0.2007, Test: 0.1979, Std dev: 0.0046\n"
     ]
    },
    {
     "name": "stderr",
     "output_type": "stream",
     "text": [
      "Epoch 03: 100%|██████████| 6/6 [00:00<00:00, 16.58it/s]\n"
     ]
    },
    {
     "name": "stdout",
     "output_type": "stream",
     "text": [
      "Loss:2.7038 seed:1.2671 hm:0.8372 ht:0.5995\n",
      "Example:10263 seed:2654 hm:4698 ht:2911\n"
     ]
    },
    {
     "name": "stderr",
     "output_type": "stream",
     "text": [
      "Evaluating Train: 100%|██████████| 2496/2496 [00:00<00:00, 32600.15it/s]\n",
      "Evaluating Validation: 100%|██████████| 1664/1664 [00:00<00:00, 42181.07it/s]\n",
      "Evaluating Test: 100%|██████████| 1041/1041 [00:00<00:00, 32325.50it/s]\n"
     ]
    },
    {
     "name": "stdout",
     "output_type": "stream",
     "text": [
      "Epoch: 003, Train Loss: 0.6054, Train: 0.2035, Val: 0.2043, Test: 0.1988, Std dev: 0.0152\n"
     ]
    },
    {
     "name": "stderr",
     "output_type": "stream",
     "text": [
      "Epoch 04: 100%|██████████| 6/6 [00:00<00:00, 14.12it/s]\n"
     ]
    },
    {
     "name": "stdout",
     "output_type": "stream",
     "text": [
      "Loss:2.6693 seed:1.2404 hm:0.8311 ht:0.5978\n",
      "Example:10314 seed:2681 hm:4678 ht:2955\n"
     ]
    },
    {
     "name": "stderr",
     "output_type": "stream",
     "text": [
      "Evaluating Train: 100%|██████████| 2496/2496 [00:00<00:00, 41987.11it/s]\n",
      "Evaluating Validation: 100%|██████████| 1664/1664 [00:00<00:00, 40056.95it/s]\n",
      "Evaluating Test: 100%|██████████| 1041/1041 [00:00<00:00, 17073.35it/s]\n"
     ]
    },
    {
     "name": "stdout",
     "output_type": "stream",
     "text": [
      "Epoch: 004, Train Loss: 0.6278, Train: 0.2151, Val: 0.2145, Test: 0.2200, Std dev: 0.0164\n"
     ]
    },
    {
     "name": "stderr",
     "output_type": "stream",
     "text": [
      "Epoch 05: 100%|██████████| 6/6 [00:00<00:00, 14.86it/s]\n"
     ]
    },
    {
     "name": "stdout",
     "output_type": "stream",
     "text": [
      "Loss:2.6551 seed:1.2559 hm:0.8254 ht:0.5739\n",
      "Example:10226 seed:2669 hm:4620 ht:2937\n"
     ]
    },
    {
     "name": "stderr",
     "output_type": "stream",
     "text": [
      "Evaluating Train: 100%|██████████| 2496/2496 [00:00<00:00, 34876.85it/s]\n",
      "Evaluating Validation: 100%|██████████| 1664/1664 [00:00<00:00, 21520.86it/s]\n",
      "Evaluating Test: 100%|██████████| 1041/1041 [00:00<00:00, 26963.27it/s]\n"
     ]
    },
    {
     "name": "stdout",
     "output_type": "stream",
     "text": [
      "Epoch: 005, Train Loss: 0.5654, Train: 0.2841, Val: 0.2620, Test: 0.2469, Std dev: 0.0219\n"
     ]
    },
    {
     "name": "stderr",
     "output_type": "stream",
     "text": [
      "Epoch 06: 100%|██████████| 6/6 [00:00<00:00, 15.65it/s]\n"
     ]
    },
    {
     "name": "stdout",
     "output_type": "stream",
     "text": [
      "Loss:2.6403 seed:1.2642 hm:0.8277 ht:0.5485\n",
      "Example:10204 seed:2638 hm:4670 ht:2896\n"
     ]
    },
    {
     "name": "stderr",
     "output_type": "stream",
     "text": [
      "Evaluating Train: 100%|██████████| 2496/2496 [00:00<00:00, 29296.00it/s]\n",
      "Evaluating Validation: 100%|██████████| 1664/1664 [00:00<00:00, 39087.58it/s]\n",
      "Evaluating Test: 100%|██████████| 1041/1041 [00:00<00:00, 29787.22it/s]\n"
     ]
    },
    {
     "name": "stdout",
     "output_type": "stream",
     "text": [
      "Epoch: 006, Train Loss: 0.5421, Train: 0.3081, Val: 0.2861, Test: 0.2747, Std dev: 0.0262\n"
     ]
    },
    {
     "name": "stderr",
     "output_type": "stream",
     "text": [
      "Epoch 07: 100%|██████████| 6/6 [00:00<00:00, 14.13it/s]\n"
     ]
    },
    {
     "name": "stdout",
     "output_type": "stream",
     "text": [
      "Loss:2.5962 seed:1.2470 hm:0.8229 ht:0.5263\n",
      "Example:10198 seed:2634 hm:4673 ht:2891\n"
     ]
    },
    {
     "name": "stderr",
     "output_type": "stream",
     "text": [
      "Evaluating Train: 100%|██████████| 2496/2496 [00:00<00:00, 28415.20it/s]\n",
      "Evaluating Validation: 100%|██████████| 1664/1664 [00:00<00:00, 29906.42it/s]\n",
      "Evaluating Test: 100%|██████████| 1041/1041 [00:00<00:00, 33678.14it/s]\n"
     ]
    },
    {
     "name": "stdout",
     "output_type": "stream",
     "text": [
      "Epoch: 007, Train Loss: 0.5358, Train: 0.3321, Val: 0.2957, Test: 0.2997, Std dev: 0.0284\n"
     ]
    },
    {
     "name": "stderr",
     "output_type": "stream",
     "text": [
      "Epoch 08: 100%|██████████| 6/6 [00:00<00:00, 14.26it/s]\n"
     ]
    },
    {
     "name": "stdout",
     "output_type": "stream",
     "text": [
      "Loss:2.6319 seed:1.2692 hm:0.8395 ht:0.5232\n",
      "Example:10218 seed:2646 hm:4642 ht:2930\n"
     ]
    },
    {
     "name": "stderr",
     "output_type": "stream",
     "text": [
      "Evaluating Train: 100%|██████████| 2496/2496 [00:00<00:00, 39516.48it/s]\n",
      "Evaluating Validation: 100%|██████████| 1664/1664 [00:00<00:00, 39537.30it/s]\n",
      "Evaluating Test: 100%|██████████| 1041/1041 [00:00<00:00, 16811.45it/s]\n"
     ]
    },
    {
     "name": "stdout",
     "output_type": "stream",
     "text": [
      "Epoch: 008, Train Loss: 0.5290, Train: 0.3646, Val: 0.2975, Test: 0.3180, Std dev: 0.0285\n"
     ]
    },
    {
     "name": "stderr",
     "output_type": "stream",
     "text": [
      "Epoch 09: 100%|██████████| 6/6 [00:00<00:00, 15.60it/s]\n"
     ]
    },
    {
     "name": "stdout",
     "output_type": "stream",
     "text": [
      "Loss:2.6066 seed:1.2592 hm:0.8379 ht:0.5095\n",
      "Example:10275 seed:2663 hm:4661 ht:2951\n"
     ]
    },
    {
     "name": "stderr",
     "output_type": "stream",
     "text": [
      "Evaluating Train: 100%|██████████| 2496/2496 [00:00<00:00, 27100.72it/s]\n",
      "Evaluating Validation: 100%|██████████| 1664/1664 [00:00<00:00, 42447.87it/s]\n",
      "Evaluating Test: 100%|██████████| 1041/1041 [00:00<00:00, 29621.31it/s]\n"
     ]
    },
    {
     "name": "stdout",
     "output_type": "stream",
     "text": [
      "Epoch: 009, Train Loss: 0.4946, Train: 0.4103, Val: 0.3071, Test: 0.3208, Std dev: 0.0226\n"
     ]
    },
    {
     "name": "stderr",
     "output_type": "stream",
     "text": [
      "Epoch 10: 100%|██████████| 6/6 [00:00<00:00, 14.49it/s]\n"
     ]
    },
    {
     "name": "stdout",
     "output_type": "stream",
     "text": [
      "Loss:2.5690 seed:1.2362 hm:0.8442 ht:0.4886\n",
      "Example:10519 seed:2740 hm:4753 ht:3026\n"
     ]
    },
    {
     "name": "stderr",
     "output_type": "stream",
     "text": [
      "Evaluating Train: 100%|██████████| 2496/2496 [00:00<00:00, 31333.94it/s]\n",
      "Evaluating Validation: 100%|██████████| 1664/1664 [00:00<00:00, 26358.35it/s]\n",
      "Evaluating Test: 100%|██████████| 1041/1041 [00:00<00:00, 28451.06it/s]\n"
     ]
    },
    {
     "name": "stdout",
     "output_type": "stream",
     "text": [
      "Epoch: 010, Train Loss: 0.5162, Train: 0.4635, Val: 0.3143, Test: 0.3401, Std dev: 0.0198\n"
     ]
    },
    {
     "name": "stderr",
     "output_type": "stream",
     "text": [
      "Epoch 11: 100%|██████████| 6/6 [00:00<00:00, 16.53it/s]\n"
     ]
    },
    {
     "name": "stdout",
     "output_type": "stream",
     "text": [
      "Loss:2.5577 seed:1.2502 hm:0.8402 ht:0.4673\n",
      "Example:10245 seed:2638 hm:4669 ht:2938\n"
     ]
    },
    {
     "name": "stderr",
     "output_type": "stream",
     "text": [
      "Evaluating Train: 100%|██████████| 2496/2496 [00:00<00:00, 23526.97it/s]\n",
      "Evaluating Validation: 100%|██████████| 1664/1664 [00:00<00:00, 37165.57it/s]\n",
      "Evaluating Test: 100%|██████████| 1041/1041 [00:00<00:00, 29706.36it/s]\n"
     ]
    },
    {
     "name": "stdout",
     "output_type": "stream",
     "text": [
      "Epoch: 011, Train Loss: 0.4490, Train: 0.5048, Val: 0.3269, Test: 0.3391, Std dev: 0.0223\n"
     ]
    },
    {
     "name": "stderr",
     "output_type": "stream",
     "text": [
      "Epoch 12: 100%|██████████| 6/6 [00:00<00:00, 14.04it/s]\n"
     ]
    },
    {
     "name": "stdout",
     "output_type": "stream",
     "text": [
      "Loss:2.5285 seed:1.2659 hm:0.8343 ht:0.4284\n",
      "Example:10160 seed:2603 hm:4660 ht:2897\n"
     ]
    },
    {
     "name": "stderr",
     "output_type": "stream",
     "text": [
      "Evaluating Train: 100%|██████████| 2496/2496 [00:00<00:00, 42483.44it/s]\n",
      "Evaluating Validation: 100%|██████████| 1664/1664 [00:00<00:00, 21437.24it/s]\n",
      "Evaluating Test: 100%|██████████| 1041/1041 [00:00<00:00, 29387.85it/s]\n"
     ]
    },
    {
     "name": "stdout",
     "output_type": "stream",
     "text": [
      "Epoch: 012, Train Loss: 0.4815, Train: 0.5329, Val: 0.3275, Test: 0.3449, Std dev: 0.0334\n"
     ]
    },
    {
     "name": "stderr",
     "output_type": "stream",
     "text": [
      "Epoch 13: 100%|██████████| 6/6 [00:00<00:00, 15.65it/s]\n"
     ]
    },
    {
     "name": "stdout",
     "output_type": "stream",
     "text": [
      "Loss:2.4820 seed:1.2506 hm:0.8201 ht:0.4114\n",
      "Example:10174 seed:2645 hm:4597 ht:2932\n"
     ]
    },
    {
     "name": "stderr",
     "output_type": "stream",
     "text": [
      "Evaluating Train: 100%|██████████| 2496/2496 [00:00<00:00, 28147.80it/s]\n",
      "Evaluating Validation: 100%|██████████| 1664/1664 [00:00<00:00, 43944.02it/s]\n",
      "Evaluating Test: 100%|██████████| 1041/1041 [00:00<00:00, 27264.99it/s]\n"
     ]
    },
    {
     "name": "stdout",
     "output_type": "stream",
     "text": [
      "Epoch: 013, Train Loss: 0.3818, Train: 0.5593, Val: 0.3329, Test: 0.3497, Std dev: 0.0366\n"
     ]
    },
    {
     "name": "stderr",
     "output_type": "stream",
     "text": [
      "Epoch 14: 100%|██████████| 6/6 [00:00<00:00, 14.03it/s]\n"
     ]
    },
    {
     "name": "stdout",
     "output_type": "stream",
     "text": [
      "Loss:2.4874 seed:1.2590 hm:0.8363 ht:0.3920\n",
      "Example:10348 seed:2690 hm:4699 ht:2959\n"
     ]
    },
    {
     "name": "stderr",
     "output_type": "stream",
     "text": [
      "Evaluating Train: 100%|██████████| 2496/2496 [00:00<00:00, 32732.14it/s]\n",
      "Evaluating Validation: 100%|██████████| 1664/1664 [00:00<00:00, 38194.31it/s]\n",
      "Evaluating Test: 100%|██████████| 1041/1041 [00:00<00:00, 28808.86it/s]\n"
     ]
    },
    {
     "name": "stdout",
     "output_type": "stream",
     "text": [
      "Epoch: 014, Train Loss: 0.3599, Train: 0.5805, Val: 0.3305, Test: 0.3535, Std dev: 0.0356\n"
     ]
    },
    {
     "name": "stderr",
     "output_type": "stream",
     "text": [
      "Epoch 15: 100%|██████████| 6/6 [00:00<00:00, 14.56it/s]\n"
     ]
    },
    {
     "name": "stdout",
     "output_type": "stream",
     "text": [
      "Loss:2.4493 seed:1.2557 hm:0.8348 ht:0.3588\n",
      "Example:10205 seed:2635 hm:4663 ht:2907\n"
     ]
    },
    {
     "name": "stderr",
     "output_type": "stream",
     "text": [
      "Evaluating Train: 100%|██████████| 2496/2496 [00:00<00:00, 33064.51it/s]\n",
      "Evaluating Validation: 100%|██████████| 1664/1664 [00:00<00:00, 26030.49it/s]\n",
      "Evaluating Test: 100%|██████████| 1041/1041 [00:00<00:00, 29591.60it/s]\n"
     ]
    },
    {
     "name": "stdout",
     "output_type": "stream",
     "text": [
      "Epoch: 015, Train Loss: 0.3411, Train: 0.6122, Val: 0.3389, Test: 0.3487, Std dev: 0.0362\n"
     ]
    },
    {
     "name": "stderr",
     "output_type": "stream",
     "text": [
      "Epoch 16: 100%|██████████| 6/6 [00:00<00:00, 13.78it/s]\n"
     ]
    },
    {
     "name": "stdout",
     "output_type": "stream",
     "text": [
      "Loss:2.4000 seed:1.2391 hm:0.8288 ht:0.3320\n",
      "Example:10338 seed:2701 hm:4641 ht:2996\n"
     ]
    },
    {
     "name": "stderr",
     "output_type": "stream",
     "text": [
      "Evaluating Train: 100%|██████████| 2496/2496 [00:00<00:00, 41795.68it/s]\n",
      "Evaluating Validation: 100%|██████████| 1664/1664 [00:00<00:00, 39164.79it/s]\n",
      "Evaluating Test: 100%|██████████| 1041/1041 [00:00<00:00, 17226.39it/s]\n"
     ]
    },
    {
     "name": "stdout",
     "output_type": "stream",
     "text": [
      "Epoch: 016, Train Loss: 0.3400, Train: 0.6302, Val: 0.3413, Test: 0.3631, Std dev: 0.0350\n"
     ]
    },
    {
     "name": "stderr",
     "output_type": "stream",
     "text": [
      "Epoch 17: 100%|██████████| 6/6 [00:00<00:00, 15.56it/s]\n"
     ]
    },
    {
     "name": "stdout",
     "output_type": "stream",
     "text": [
      "Loss:2.4659 seed:1.2730 hm:0.8536 ht:0.3393\n",
      "Example:10329 seed:2662 hm:4711 ht:2956\n"
     ]
    },
    {
     "name": "stderr",
     "output_type": "stream",
     "text": [
      "Evaluating Train: 100%|██████████| 2496/2496 [00:00<00:00, 25342.74it/s]\n",
      "Evaluating Validation: 100%|██████████| 1664/1664 [00:00<00:00, 41669.83it/s]\n",
      "Evaluating Test: 100%|██████████| 1041/1041 [00:00<00:00, 36862.96it/s]\n"
     ]
    },
    {
     "name": "stdout",
     "output_type": "stream",
     "text": [
      "Epoch: 017, Train Loss: 0.3616, Train: 0.6518, Val: 0.3377, Test: 0.3641, Std dev: 0.0305\n"
     ]
    },
    {
     "name": "stderr",
     "output_type": "stream",
     "text": [
      "Epoch 18: 100%|██████████| 6/6 [00:00<00:00, 14.22it/s]\n"
     ]
    },
    {
     "name": "stdout",
     "output_type": "stream",
     "text": [
      "Loss:2.4124 seed:1.2600 hm:0.8493 ht:0.3032\n",
      "Example:10409 seed:2710 hm:4727 ht:2972\n"
     ]
    },
    {
     "name": "stderr",
     "output_type": "stream",
     "text": [
      "Evaluating Train: 100%|██████████| 2496/2496 [00:00<00:00, 41863.87it/s]\n",
      "Evaluating Validation: 100%|██████████| 1664/1664 [00:00<00:00, 22111.44it/s]\n",
      "Evaluating Test: 100%|██████████| 1041/1041 [00:00<00:00, 25736.32it/s]\n"
     ]
    },
    {
     "name": "stdout",
     "output_type": "stream",
     "text": [
      "Epoch: 018, Train Loss: 0.3145, Train: 0.6771, Val: 0.3377, Test: 0.3641, Std dev: 0.0295\n"
     ]
    },
    {
     "name": "stderr",
     "output_type": "stream",
     "text": [
      "Epoch 19: 100%|██████████| 6/6 [00:00<00:00, 15.48it/s]\n"
     ]
    },
    {
     "name": "stdout",
     "output_type": "stream",
     "text": [
      "Loss:2.4041 seed:1.2629 hm:0.8392 ht:0.3019\n",
      "Example:10322 seed:2686 hm:4680 ht:2956\n"
     ]
    },
    {
     "name": "stderr",
     "output_type": "stream",
     "text": [
      "Evaluating Train: 100%|██████████| 2496/2496 [00:00<00:00, 46025.40it/s]\n",
      "Evaluating Validation: 100%|██████████| 1664/1664 [00:00<00:00, 41752.84it/s]\n",
      "Evaluating Test: 100%|██████████| 1041/1041 [00:00<00:00, 22006.75it/s]\n"
     ]
    },
    {
     "name": "stdout",
     "output_type": "stream",
     "text": [
      "Epoch: 019, Train Loss: 0.3055, Train: 0.6903, Val: 0.3353, Test: 0.3564, Std dev: 0.0218\n"
     ]
    },
    {
     "name": "stderr",
     "output_type": "stream",
     "text": [
      "Epoch 20: 100%|██████████| 6/6 [00:00<00:00, 16.35it/s]\n"
     ]
    },
    {
     "name": "stdout",
     "output_type": "stream",
     "text": [
      "Loss:2.4181 seed:1.2776 hm:0.8635 ht:0.2770\n",
      "Example:10476 seed:2722 hm:4767 ht:2987\n"
     ]
    },
    {
     "name": "stderr",
     "output_type": "stream",
     "text": [
      "Evaluating Train: 100%|██████████| 2496/2496 [00:00<00:00, 44554.74it/s]\n",
      "Evaluating Validation: 100%|██████████| 1664/1664 [00:00<00:00, 29030.19it/s]\n",
      "Evaluating Test: 100%|██████████| 1041/1041 [00:00<00:00, 35516.61it/s]\n"
     ]
    },
    {
     "name": "stdout",
     "output_type": "stream",
     "text": [
      "Epoch: 020, Train Loss: 0.2620, Train: 0.7083, Val: 0.3480, Test: 0.3449, Std dev: 0.0225\n"
     ]
    },
    {
     "name": "stderr",
     "output_type": "stream",
     "text": [
      "Epoch 21: 100%|██████████| 6/6 [00:00<00:00, 17.41it/s]\n"
     ]
    },
    {
     "name": "stdout",
     "output_type": "stream",
     "text": [
      "Loss:2.3263 seed:1.2379 hm:0.8299 ht:0.2585\n",
      "Example:10370 seed:2694 hm:4705 ht:2971\n"
     ]
    },
    {
     "name": "stderr",
     "output_type": "stream",
     "text": [
      "Evaluating Train: 100%|██████████| 2496/2496 [00:00<00:00, 41406.06it/s]\n",
      "Evaluating Validation: 100%|██████████| 1664/1664 [00:00<00:00, 29689.51it/s]\n",
      "Evaluating Test: 100%|██████████| 1041/1041 [00:00<00:00, 36949.69it/s]\n"
     ]
    },
    {
     "name": "stdout",
     "output_type": "stream",
     "text": [
      "Epoch: 021, Train Loss: 0.2497, Train: 0.7192, Val: 0.3456, Test: 0.3602, Std dev: 0.0273\n"
     ]
    },
    {
     "name": "stderr",
     "output_type": "stream",
     "text": [
      "Epoch 22: 100%|██████████| 6/6 [00:00<00:00, 17.38it/s]\n"
     ]
    },
    {
     "name": "stdout",
     "output_type": "stream",
     "text": [
      "Loss:2.3278 seed:1.2520 hm:0.8342 ht:0.2416\n",
      "Example:10346 seed:2688 hm:4692 ht:2966\n"
     ]
    },
    {
     "name": "stderr",
     "output_type": "stream",
     "text": [
      "Evaluating Train: 100%|██████████| 2496/2496 [00:00<00:00, 41268.95it/s]\n",
      "Evaluating Validation: 100%|██████████| 1664/1664 [00:00<00:00, 28865.82it/s]\n",
      "Evaluating Test: 100%|██████████| 1041/1041 [00:00<00:00, 36727.15it/s]\n"
     ]
    },
    {
     "name": "stdout",
     "output_type": "stream",
     "text": [
      "Epoch: 022, Train Loss: 0.2344, Train: 0.7528, Val: 0.3480, Test: 0.3564, Std dev: 0.0241\n"
     ]
    },
    {
     "name": "stderr",
     "output_type": "stream",
     "text": [
      "Epoch 23: 100%|██████████| 6/6 [00:00<00:00, 17.10it/s]\n"
     ]
    },
    {
     "name": "stdout",
     "output_type": "stream",
     "text": [
      "Loss:2.3453 seed:1.2625 hm:0.8555 ht:0.2273\n",
      "Example:10541 seed:2762 hm:4745 ht:3034\n"
     ]
    },
    {
     "name": "stderr",
     "output_type": "stream",
     "text": [
      "Evaluating Train: 100%|██████████| 2496/2496 [00:00<00:00, 41078.35it/s]\n",
      "Evaluating Validation: 100%|██████████| 1664/1664 [00:00<00:00, 31965.24it/s]\n",
      "Evaluating Test: 100%|██████████| 1041/1041 [00:00<00:00, 20205.70it/s]\n"
     ]
    },
    {
     "name": "stdout",
     "output_type": "stream",
     "text": [
      "Epoch: 023, Train Loss: 0.2352, Train: 0.7732, Val: 0.3594, Test: 0.3602, Std dev: 0.0263\n"
     ]
    },
    {
     "name": "stderr",
     "output_type": "stream",
     "text": [
      "Epoch 24: 100%|██████████| 6/6 [00:00<00:00, 17.35it/s]\n"
     ]
    },
    {
     "name": "stdout",
     "output_type": "stream",
     "text": [
      "Loss:2.3416 seed:1.2701 hm:0.8576 ht:0.2140\n",
      "Example:10499 seed:2728 hm:4771 ht:3000\n"
     ]
    },
    {
     "name": "stderr",
     "output_type": "stream",
     "text": [
      "Evaluating Train: 100%|██████████| 2496/2496 [00:00<00:00, 46923.39it/s]\n",
      "Evaluating Validation: 100%|██████████| 1664/1664 [00:00<00:00, 38072.00it/s]\n",
      "Evaluating Test: 100%|██████████| 1041/1041 [00:00<00:00, 20910.06it/s]\n"
     ]
    },
    {
     "name": "stdout",
     "output_type": "stream",
     "text": [
      "Epoch: 024, Train Loss: 0.2081, Train: 0.7861, Val: 0.3552, Test: 0.3622, Std dev: 0.0223\n"
     ]
    },
    {
     "name": "stderr",
     "output_type": "stream",
     "text": [
      "Epoch 25: 100%|██████████| 6/6 [00:00<00:00, 16.18it/s]\n"
     ]
    },
    {
     "name": "stdout",
     "output_type": "stream",
     "text": [
      "Loss:2.2853 seed:1.2541 hm:0.8317 ht:0.1995\n",
      "Example:10302 seed:2674 hm:4679 ht:2949\n"
     ]
    },
    {
     "name": "stderr",
     "output_type": "stream",
     "text": [
      "Evaluating Train: 100%|██████████| 2496/2496 [00:00<00:00, 44952.48it/s]\n",
      "Evaluating Validation: 100%|██████████| 1664/1664 [00:00<00:00, 32049.05it/s]\n",
      "Evaluating Test: 100%|██████████| 1041/1041 [00:00<00:00, 36183.26it/s]\n"
     ]
    },
    {
     "name": "stdout",
     "output_type": "stream",
     "text": [
      "Epoch: 025, Train Loss: 0.1970, Train: 0.8033, Val: 0.3540, Test: 0.3622, Std dev: 0.0206\n"
     ]
    },
    {
     "name": "stderr",
     "output_type": "stream",
     "text": [
      "Epoch 26: 100%|██████████| 6/6 [00:00<00:00, 17.37it/s]\n"
     ]
    },
    {
     "name": "stdout",
     "output_type": "stream",
     "text": [
      "Loss:2.2955 seed:1.2623 hm:0.8419 ht:0.1913\n",
      "Example:10325 seed:2687 hm:4689 ht:2949\n"
     ]
    },
    {
     "name": "stderr",
     "output_type": "stream",
     "text": [
      "Evaluating Train: 100%|██████████| 2496/2496 [00:00<00:00, 42065.73it/s]\n",
      "Evaluating Validation: 100%|██████████| 1664/1664 [00:00<00:00, 31810.80it/s]\n",
      "Evaluating Test: 100%|██████████| 1041/1041 [00:00<00:00, 30935.30it/s]\n"
     ]
    },
    {
     "name": "stdout",
     "output_type": "stream",
     "text": [
      "Epoch: 026, Train Loss: 0.2065, Train: 0.8277, Val: 0.3684, Test: 0.3622, Std dev: 0.0182\n"
     ]
    },
    {
     "name": "stderr",
     "output_type": "stream",
     "text": [
      "Epoch 27: 100%|██████████| 6/6 [00:00<00:00, 17.26it/s]\n"
     ]
    },
    {
     "name": "stdout",
     "output_type": "stream",
     "text": [
      "Loss:2.2543 seed:1.2570 hm:0.8225 ht:0.1747\n",
      "Example:10150 seed:2623 hm:4630 ht:2897\n"
     ]
    },
    {
     "name": "stderr",
     "output_type": "stream",
     "text": [
      "Evaluating Train: 100%|██████████| 2496/2496 [00:00<00:00, 41896.21it/s]\n",
      "Evaluating Validation: 100%|██████████| 1664/1664 [00:00<00:00, 27495.18it/s]\n",
      "Evaluating Test: 100%|██████████| 1041/1041 [00:00<00:00, 36731.78it/s]\n"
     ]
    },
    {
     "name": "stdout",
     "output_type": "stream",
     "text": [
      "Epoch: 027, Train Loss: 0.1681, Train: 0.8381, Val: 0.3558, Test: 0.3631, Std dev: 0.0182\n"
     ]
    },
    {
     "name": "stderr",
     "output_type": "stream",
     "text": [
      "Epoch 28: 100%|██████████| 6/6 [00:00<00:00, 17.88it/s]\n"
     ]
    },
    {
     "name": "stdout",
     "output_type": "stream",
     "text": [
      "Loss:2.2827 seed:1.2709 hm:0.8411 ht:0.1708\n",
      "Example:10241 seed:2642 hm:4686 ht:2913\n"
     ]
    },
    {
     "name": "stderr",
     "output_type": "stream",
     "text": [
      "Evaluating Train: 100%|██████████| 2496/2496 [00:00<00:00, 34173.83it/s]\n",
      "Evaluating Validation: 100%|██████████| 1664/1664 [00:00<00:00, 45293.80it/s]\n",
      "Evaluating Test: 100%|██████████| 1041/1041 [00:00<00:00, 31158.71it/s]\n"
     ]
    },
    {
     "name": "stdout",
     "output_type": "stream",
     "text": [
      "Epoch: 028, Train Loss: 0.1779, Train: 0.8510, Val: 0.3630, Test: 0.3622, Std dev: 0.0159\n"
     ]
    },
    {
     "name": "stderr",
     "output_type": "stream",
     "text": [
      "Epoch 29: 100%|██████████| 6/6 [00:00<00:00, 16.48it/s]\n"
     ]
    },
    {
     "name": "stdout",
     "output_type": "stream",
     "text": [
      "Loss:2.2817 seed:1.2625 hm:0.8551 ht:0.1640\n",
      "Example:10492 seed:2720 hm:4784 ht:2988\n"
     ]
    },
    {
     "name": "stderr",
     "output_type": "stream",
     "text": [
      "Evaluating Train: 100%|██████████| 2496/2496 [00:00<00:00, 46955.17it/s]\n",
      "Evaluating Validation: 100%|██████████| 1664/1664 [00:00<00:00, 45817.72it/s]\n",
      "Evaluating Test: 100%|██████████| 1041/1041 [00:00<00:00, 25329.48it/s]\n"
     ]
    },
    {
     "name": "stdout",
     "output_type": "stream",
     "text": [
      "Epoch: 029, Train Loss: 0.1625, Train: 0.8654, Val: 0.3624, Test: 0.3622, Std dev: 0.0132\n"
     ]
    },
    {
     "name": "stderr",
     "output_type": "stream",
     "text": [
      "Epoch 30: 100%|██████████| 6/6 [00:00<00:00, 17.61it/s]\n"
     ]
    },
    {
     "name": "stdout",
     "output_type": "stream",
     "text": [
      "Loss:2.3038 seed:1.2795 hm:0.8659 ht:0.1584\n",
      "Example:10532 seed:2726 hm:4800 ht:3006\n"
     ]
    },
    {
     "name": "stderr",
     "output_type": "stream",
     "text": [
      "Evaluating Train: 100%|██████████| 2496/2496 [00:00<00:00, 47788.30it/s]\n",
      "Evaluating Validation: 100%|██████████| 1664/1664 [00:00<00:00, 43985.84it/s]\n",
      "Evaluating Test: 100%|██████████| 1041/1041 [00:00<00:00, 26813.91it/s]\n"
     ]
    },
    {
     "name": "stdout",
     "output_type": "stream",
     "text": [
      "Epoch: 030, Train Loss: 0.1499, Train: 0.8650, Val: 0.3582, Test: 0.3535, Std dev: 0.0112\n"
     ]
    },
    {
     "name": "stderr",
     "output_type": "stream",
     "text": [
      "Epoch 31: 100%|██████████| 6/6 [00:00<00:00, 17.28it/s]\n"
     ]
    },
    {
     "name": "stdout",
     "output_type": "stream",
     "text": [
      "Loss:2.2642 seed:1.2576 hm:0.8514 ht:0.1552\n",
      "Example:10459 seed:2704 hm:4750 ht:3005\n"
     ]
    },
    {
     "name": "stderr",
     "output_type": "stream",
     "text": [
      "Evaluating Train: 100%|██████████| 2496/2496 [00:00<00:00, 38317.18it/s]\n",
      "Evaluating Validation: 100%|██████████| 1664/1664 [00:00<00:00, 23979.89it/s]\n",
      "Evaluating Test: 100%|██████████| 1041/1041 [00:00<00:00, 32478.67it/s]\n"
     ]
    },
    {
     "name": "stdout",
     "output_type": "stream",
     "text": [
      "Epoch: 031, Train Loss: 0.1619, Train: 0.8834, Val: 0.3570, Test: 0.3573, Std dev: 0.0073\n"
     ]
    },
    {
     "name": "stderr",
     "output_type": "stream",
     "text": [
      "Epoch 32: 100%|██████████| 6/6 [00:00<00:00, 14.37it/s]\n"
     ]
    },
    {
     "name": "stdout",
     "output_type": "stream",
     "text": [
      "Loss:2.2433 seed:1.2611 hm:0.8418 ht:0.1404\n",
      "Example:10430 seed:2717 hm:4727 ht:2986\n"
     ]
    },
    {
     "name": "stderr",
     "output_type": "stream",
     "text": [
      "Evaluating Train: 100%|██████████| 2496/2496 [00:00<00:00, 38980.32it/s]\n",
      "Evaluating Validation: 100%|██████████| 1664/1664 [00:00<00:00, 29469.01it/s]\n",
      "Evaluating Test: 100%|██████████| 1041/1041 [00:00<00:00, 31972.34it/s]\n"
     ]
    },
    {
     "name": "stdout",
     "output_type": "stream",
     "text": [
      "Epoch: 032, Train Loss: 0.1173, Train: 0.8830, Val: 0.3546, Test: 0.3564, Std dev: 0.0102\n"
     ]
    },
    {
     "name": "stderr",
     "output_type": "stream",
     "text": [
      "Epoch 33: 100%|██████████| 6/6 [00:00<00:00, 15.61it/s]\n"
     ]
    },
    {
     "name": "stdout",
     "output_type": "stream",
     "text": [
      "Loss:2.2374 seed:1.2646 hm:0.8384 ht:0.1344\n",
      "Example:10277 seed:2668 hm:4656 ht:2953\n"
     ]
    },
    {
     "name": "stderr",
     "output_type": "stream",
     "text": [
      "Evaluating Train: 100%|██████████| 2496/2496 [00:00<00:00, 23340.55it/s]\n",
      "Evaluating Validation: 100%|██████████| 1664/1664 [00:00<00:00, 39087.58it/s]\n",
      "Evaluating Test: 100%|██████████| 1041/1041 [00:00<00:00, 31291.58it/s]\n"
     ]
    },
    {
     "name": "stdout",
     "output_type": "stream",
     "text": [
      "Epoch: 033, Train Loss: 0.1288, Train: 0.8998, Val: 0.3600, Test: 0.3641, Std dev: 0.0112\n"
     ]
    },
    {
     "name": "stderr",
     "output_type": "stream",
     "text": [
      "Epoch 34: 100%|██████████| 6/6 [00:00<00:00, 14.66it/s]\n"
     ]
    },
    {
     "name": "stdout",
     "output_type": "stream",
     "text": [
      "Loss:2.2169 seed:1.2605 hm:0.8279 ht:0.1286\n",
      "Example:10106 seed:2584 hm:4655 ht:2867\n"
     ]
    },
    {
     "name": "stderr",
     "output_type": "stream",
     "text": [
      "Evaluating Train: 100%|██████████| 2496/2496 [00:00<00:00, 42093.13it/s]\n",
      "Evaluating Validation: 100%|██████████| 1664/1664 [00:00<00:00, 27007.56it/s]\n",
      "Evaluating Test: 100%|██████████| 1041/1041 [00:00<00:00, 21526.64it/s]\n"
     ]
    },
    {
     "name": "stdout",
     "output_type": "stream",
     "text": [
      "Epoch: 034, Train Loss: 0.1163, Train: 0.9042, Val: 0.3618, Test: 0.3612, Std dev: 0.0116\n"
     ]
    },
    {
     "name": "stderr",
     "output_type": "stream",
     "text": [
      "Epoch 35: 100%|██████████| 6/6 [00:00<00:00, 16.05it/s]\n"
     ]
    },
    {
     "name": "stdout",
     "output_type": "stream",
     "text": [
      "Loss:2.2213 seed:1.2573 hm:0.8359 ht:0.1281\n",
      "Example:10250 seed:2660 hm:4654 ht:2936\n"
     ]
    },
    {
     "name": "stderr",
     "output_type": "stream",
     "text": [
      "Evaluating Train: 100%|██████████| 2496/2496 [00:00<00:00, 29396.44it/s]\n",
      "Evaluating Validation: 100%|██████████| 1664/1664 [00:00<00:00, 39227.08it/s]\n",
      "Evaluating Test: 100%|██████████| 1041/1041 [00:00<00:00, 30835.90it/s]\n"
     ]
    },
    {
     "name": "stdout",
     "output_type": "stream",
     "text": [
      "Epoch: 035, Train Loss: 0.1274, Train: 0.9127, Val: 0.3684, Test: 0.3650, Std dev: 0.0100\n"
     ]
    },
    {
     "name": "stderr",
     "output_type": "stream",
     "text": [
      "Epoch 36: 100%|██████████| 6/6 [00:00<00:00, 14.56it/s]\n"
     ]
    },
    {
     "name": "stdout",
     "output_type": "stream",
     "text": [
      "Loss:2.1981 seed:1.2542 hm:0.8300 ht:0.1139\n",
      "Example:10262 seed:2655 hm:4689 ht:2918\n"
     ]
    },
    {
     "name": "stderr",
     "output_type": "stream",
     "text": [
      "Evaluating Train: 100%|██████████| 2496/2496 [00:00<00:00, 41436.54it/s]\n",
      "Evaluating Validation: 100%|██████████| 1664/1664 [00:00<00:00, 22623.41it/s]\n",
      "Evaluating Test: 100%|██████████| 1041/1041 [00:00<00:00, 29010.41it/s]\n"
     ]
    },
    {
     "name": "stdout",
     "output_type": "stream",
     "text": [
      "Epoch: 036, Train Loss: 0.0972, Train: 0.9147, Val: 0.3546, Test: 0.3679, Std dev: 0.0088\n"
     ]
    },
    {
     "name": "stderr",
     "output_type": "stream",
     "text": [
      "Epoch 37: 100%|██████████| 6/6 [00:00<00:00, 15.37it/s]\n"
     ]
    },
    {
     "name": "stdout",
     "output_type": "stream",
     "text": [
      "Loss:2.2143 seed:1.2680 hm:0.8371 ht:0.1092\n",
      "Example:10275 seed:2668 hm:4671 ht:2936\n"
     ]
    },
    {
     "name": "stderr",
     "output_type": "stream",
     "text": [
      "Evaluating Train: 100%|██████████| 2496/2496 [00:00<00:00, 30726.87it/s]\n",
      "Evaluating Validation: 100%|██████████| 1664/1664 [00:00<00:00, 40135.03it/s]\n",
      "Evaluating Test: 100%|██████████| 1041/1041 [00:00<00:00, 33688.80it/s]\n"
     ]
    },
    {
     "name": "stdout",
     "output_type": "stream",
     "text": [
      "Epoch: 037, Train Loss: 0.1030, Train: 0.9235, Val: 0.3582, Test: 0.3660, Std dev: 0.0096\n"
     ]
    },
    {
     "name": "stderr",
     "output_type": "stream",
     "text": [
      "Epoch 38: 100%|██████████| 6/6 [00:00<00:00, 14.47it/s]\n"
     ]
    },
    {
     "name": "stdout",
     "output_type": "stream",
     "text": [
      "Loss:2.2061 seed:1.2682 hm:0.8295 ht:0.1084\n",
      "Example:10164 seed:2621 hm:4650 ht:2893\n"
     ]
    },
    {
     "name": "stderr",
     "output_type": "stream",
     "text": [
      "Evaluating Train: 100%|██████████| 2496/2496 [00:00<00:00, 40752.78it/s]\n",
      "Evaluating Validation: 100%|██████████| 1664/1664 [00:00<00:00, 22534.73it/s]\n",
      "Evaluating Test: 100%|██████████| 1041/1041 [00:00<00:00, 28913.21it/s]\n"
     ]
    },
    {
     "name": "stdout",
     "output_type": "stream",
     "text": [
      "Epoch: 038, Train Loss: 0.1232, Train: 0.9247, Val: 0.3618, Test: 0.3698, Std dev: 0.0089\n"
     ]
    },
    {
     "name": "stderr",
     "output_type": "stream",
     "text": [
      "Epoch 39: 100%|██████████| 6/6 [00:00<00:00, 15.41it/s]\n"
     ]
    },
    {
     "name": "stdout",
     "output_type": "stream",
     "text": [
      "Loss:2.2239 seed:1.2663 hm:0.8483 ht:0.1093\n",
      "Example:10403 seed:2694 hm:4721 ht:2988\n"
     ]
    },
    {
     "name": "stderr",
     "output_type": "stream",
     "text": [
      "Evaluating Train: 100%|██████████| 2496/2496 [00:00<00:00, 31417.63it/s]\n",
      "Evaluating Validation: 100%|██████████| 1664/1664 [00:00<00:00, 40222.93it/s]\n",
      "Evaluating Test: 100%|██████████| 1041/1041 [00:00<00:00, 38424.99it/s]\n"
     ]
    },
    {
     "name": "stdout",
     "output_type": "stream",
     "text": [
      "Epoch: 039, Train Loss: 0.1184, Train: 0.9295, Val: 0.3582, Test: 0.3689, Std dev: 0.0074\n"
     ]
    },
    {
     "name": "stderr",
     "output_type": "stream",
     "text": [
      "Epoch 40: 100%|██████████| 6/6 [00:00<00:00, 14.58it/s]\n"
     ]
    },
    {
     "name": "stdout",
     "output_type": "stream",
     "text": [
      "Loss:2.2256 seed:1.2727 hm:0.8453 ht:0.1076\n",
      "Example:10358 seed:2700 hm:4695 ht:2963\n"
     ]
    },
    {
     "name": "stderr",
     "output_type": "stream",
     "text": [
      "Evaluating Train: 100%|██████████| 2496/2496 [00:00<00:00, 45048.03it/s]\n",
      "Evaluating Validation: 100%|██████████| 1664/1664 [00:00<00:00, 27216.41it/s]\n",
      "Evaluating Test: 100%|██████████| 1041/1041 [00:00<00:00, 21152.26it/s]\n"
     ]
    },
    {
     "name": "stdout",
     "output_type": "stream",
     "text": [
      "Epoch: 040, Train Loss: 0.0957, Train: 0.9335, Val: 0.3606, Test: 0.3631, Std dev: 0.0022\n"
     ]
    },
    {
     "name": "stderr",
     "output_type": "stream",
     "text": [
      "Epoch 41: 100%|██████████| 6/6 [00:00<00:00, 15.65it/s]\n"
     ]
    },
    {
     "name": "stdout",
     "output_type": "stream",
     "text": [
      "Loss:2.2209 seed:1.2810 hm:0.8433 ht:0.0966\n",
      "Example:10330 seed:2680 hm:4708 ht:2942\n"
     ]
    },
    {
     "name": "stderr",
     "output_type": "stream",
     "text": [
      "Evaluating Train: 100%|██████████| 2496/2496 [00:00<00:00, 30063.76it/s]\n",
      "Evaluating Validation: 100%|██████████| 1664/1664 [00:00<00:00, 42048.67it/s]\n",
      "Evaluating Test: 100%|██████████| 1041/1041 [00:00<00:00, 37091.25it/s]\n"
     ]
    },
    {
     "name": "stdout",
     "output_type": "stream",
     "text": [
      "Epoch: 041, Train Loss: 0.1031, Train: 0.9335, Val: 0.3552, Test: 0.3593, Std dev: 0.0048\n"
     ]
    },
    {
     "name": "stderr",
     "output_type": "stream",
     "text": [
      "Epoch 42: 100%|██████████| 6/6 [00:00<00:00, 13.07it/s]\n"
     ]
    },
    {
     "name": "stdout",
     "output_type": "stream",
     "text": [
      "Loss:2.2147 seed:1.2781 hm:0.8411 ht:0.0955\n",
      "Example:10285 seed:2669 hm:4673 ht:2943\n"
     ]
    },
    {
     "name": "stderr",
     "output_type": "stream",
     "text": [
      "Evaluating Train: 100%|██████████| 2496/2496 [00:00<00:00, 27123.68it/s]\n",
      "Evaluating Validation: 100%|██████████| 1664/1664 [00:00<00:00, 37412.81it/s]\n",
      "Evaluating Test: 100%|██████████| 1041/1041 [00:00<00:00, 32326.46it/s]\n"
     ]
    },
    {
     "name": "stdout",
     "output_type": "stream",
     "text": [
      "Epoch: 042, Train Loss: 0.0942, Train: 0.9323, Val: 0.3594, Test: 0.3698, Std dev: 0.0061\n"
     ]
    },
    {
     "name": "stderr",
     "output_type": "stream",
     "text": [
      "Epoch 43: 100%|██████████| 6/6 [00:00<00:00, 15.25it/s]\n"
     ]
    },
    {
     "name": "stdout",
     "output_type": "stream",
     "text": [
      "Loss:2.1949 seed:1.2623 hm:0.8441 ht:0.0885\n",
      "Example:10345 seed:2685 hm:4692 ht:2968\n"
     ]
    },
    {
     "name": "stderr",
     "output_type": "stream",
     "text": [
      "Evaluating Train: 100%|██████████| 2496/2496 [00:00<00:00, 27725.87it/s]\n",
      "Evaluating Validation: 100%|██████████| 1664/1664 [00:00<00:00, 40408.30it/s]\n",
      "Evaluating Test: 100%|██████████| 1041/1041 [00:00<00:00, 32233.15it/s]\n"
     ]
    },
    {
     "name": "stdout",
     "output_type": "stream",
     "text": [
      "Epoch: 043, Train Loss: 0.0838, Train: 0.9367, Val: 0.3570, Test: 0.3698, Std dev: 0.0078\n"
     ]
    },
    {
     "name": "stderr",
     "output_type": "stream",
     "text": [
      "Epoch 44: 100%|██████████| 6/6 [00:00<00:00, 14.49it/s]\n"
     ]
    },
    {
     "name": "stdout",
     "output_type": "stream",
     "text": [
      "Loss:2.2038 seed:1.2702 hm:0.8468 ht:0.0867\n",
      "Example:10335 seed:2667 hm:4724 ht:2944\n"
     ]
    },
    {
     "name": "stderr",
     "output_type": "stream",
     "text": [
      "Evaluating Train: 100%|██████████| 2496/2496 [00:00<00:00, 39927.17it/s]\n",
      "Evaluating Validation: 100%|██████████| 1664/1664 [00:00<00:00, 22039.04it/s]\n",
      "Evaluating Test: 100%|██████████| 1041/1041 [00:00<00:00, 34275.37it/s]\n"
     ]
    },
    {
     "name": "stdout",
     "output_type": "stream",
     "text": [
      "Epoch: 044, Train Loss: 0.0903, Train: 0.9427, Val: 0.3546, Test: 0.3670, Std dev: 0.0074\n"
     ]
    },
    {
     "name": "stderr",
     "output_type": "stream",
     "text": [
      "Epoch 45: 100%|██████████| 6/6 [00:00<00:00, 15.84it/s]\n"
     ]
    },
    {
     "name": "stdout",
     "output_type": "stream",
     "text": [
      "Loss:2.2051 seed:1.2697 hm:0.8510 ht:0.0844\n",
      "Example:10443 seed:2727 hm:4730 ht:2986\n"
     ]
    },
    {
     "name": "stderr",
     "output_type": "stream",
     "text": [
      "Evaluating Train: 100%|██████████| 2496/2496 [00:00<00:00, 30234.46it/s]\n",
      "Evaluating Validation: 100%|██████████| 1664/1664 [00:00<00:00, 40175.93it/s]\n",
      "Evaluating Test: 100%|██████████| 1041/1041 [00:00<00:00, 32986.10it/s]\n"
     ]
    },
    {
     "name": "stdout",
     "output_type": "stream",
     "text": [
      "Epoch: 045, Train Loss: 0.0818, Train: 0.9443, Val: 0.3516, Test: 0.3670, Std dev: 0.0048\n"
     ]
    },
    {
     "name": "stderr",
     "output_type": "stream",
     "text": [
      "Epoch 46: 100%|██████████| 6/6 [00:00<00:00, 14.75it/s]\n"
     ]
    },
    {
     "name": "stdout",
     "output_type": "stream",
     "text": [
      "Loss:2.2372 seed:1.2807 hm:0.8720 ht:0.0845\n",
      "Example:10559 seed:2741 hm:4803 ht:3015\n"
     ]
    },
    {
     "name": "stderr",
     "output_type": "stream",
     "text": [
      "Evaluating Train: 100%|██████████| 2496/2496 [00:00<00:00, 40377.91it/s]\n",
      "Evaluating Validation: 100%|██████████| 1664/1664 [00:00<00:00, 24079.91it/s]\n",
      "Evaluating Test: 100%|██████████| 1041/1041 [00:00<00:00, 34106.69it/s]\n"
     ]
    },
    {
     "name": "stdout",
     "output_type": "stream",
     "text": [
      "Epoch: 046, Train Loss: 0.0915, Train: 0.9423, Val: 0.3504, Test: 0.3660, Std dev: 0.0041\n"
     ]
    },
    {
     "name": "stderr",
     "output_type": "stream",
     "text": [
      "Epoch 47: 100%|██████████| 6/6 [00:00<00:00, 15.70it/s]\n"
     ]
    },
    {
     "name": "stdout",
     "output_type": "stream",
     "text": [
      "Loss:2.1775 seed:1.2617 hm:0.8388 ht:0.0770\n",
      "Example:10320 seed:2675 hm:4702 ht:2943\n"
     ]
    },
    {
     "name": "stderr",
     "output_type": "stream",
     "text": [
      "Evaluating Train: 100%|██████████| 2496/2496 [00:00<00:00, 28462.17it/s]\n",
      "Evaluating Validation: 100%|██████████| 1664/1664 [00:00<00:00, 40671.33it/s]\n",
      "Evaluating Test: 100%|██████████| 1041/1041 [00:00<00:00, 32117.68it/s]\n"
     ]
    },
    {
     "name": "stdout",
     "output_type": "stream",
     "text": [
      "Epoch: 047, Train Loss: 0.0775, Train: 0.9515, Val: 0.3498, Test: 0.3746, Std dev: 0.0039\n"
     ]
    },
    {
     "name": "stderr",
     "output_type": "stream",
     "text": [
      "Epoch 48: 100%|██████████| 6/6 [00:00<00:00, 16.37it/s]\n"
     ]
    },
    {
     "name": "stdout",
     "output_type": "stream",
     "text": [
      "Loss:2.1633 seed:1.2530 hm:0.8306 ht:0.0797\n",
      "Example:10300 seed:2691 hm:4649 ht:2960\n"
     ]
    },
    {
     "name": "stderr",
     "output_type": "stream",
     "text": [
      "Evaluating Train: 100%|██████████| 2496/2496 [00:00<00:00, 47297.34it/s]\n",
      "Evaluating Validation: 100%|██████████| 1664/1664 [00:00<00:00, 43601.96it/s]\n",
      "Evaluating Test: 100%|██████████| 1041/1041 [00:00<00:00, 26607.21it/s]\n"
     ]
    },
    {
     "name": "stdout",
     "output_type": "stream",
     "text": [
      "Epoch: 048, Train Loss: 0.0899, Train: 0.9551, Val: 0.3558, Test: 0.3785, Std dev: 0.0036\n"
     ]
    },
    {
     "name": "stderr",
     "output_type": "stream",
     "text": [
      "Epoch 49: 100%|██████████| 6/6 [00:00<00:00, 17.46it/s]\n"
     ]
    },
    {
     "name": "stdout",
     "output_type": "stream",
     "text": [
      "Loss:2.2046 seed:1.2697 hm:0.8538 ht:0.0810\n",
      "Example:10496 seed:2734 hm:4757 ht:3005\n"
     ]
    },
    {
     "name": "stderr",
     "output_type": "stream",
     "text": [
      "Evaluating Train: 100%|██████████| 2496/2496 [00:00<00:00, 47281.75it/s]\n",
      "Evaluating Validation: 100%|██████████| 1664/1664 [00:00<00:00, 42983.00it/s]\n",
      "Evaluating Test: 100%|██████████| 1041/1041 [00:00<00:00, 23031.04it/s]\n"
     ]
    },
    {
     "name": "stdout",
     "output_type": "stream",
     "text": [
      "Epoch: 049, Train Loss: 0.0864, Train: 0.9535, Val: 0.3546, Test: 0.3785, Std dev: 0.0029\n"
     ]
    },
    {
     "name": "stderr",
     "output_type": "stream",
     "text": [
      "Epoch 50: 100%|██████████| 6/6 [00:00<00:00, 17.51it/s]\n"
     ]
    },
    {
     "name": "stdout",
     "output_type": "stream",
     "text": [
      "Loss:2.1629 seed:1.2605 hm:0.8344 ht:0.0680\n",
      "Example:10301 seed:2680 hm:4694 ht:2927\n"
     ]
    },
    {
     "name": "stderr",
     "output_type": "stream",
     "text": [
      "Evaluating Train: 100%|██████████| 2496/2496 [00:00<00:00, 47430.20it/s]\n",
      "Evaluating Validation: 100%|██████████| 1664/1664 [00:00<00:00, 42217.56it/s]\n",
      "Evaluating Test: 100%|██████████| 1041/1041 [00:00<00:00, 22160.10it/s]\n"
     ]
    },
    {
     "name": "stdout",
     "output_type": "stream",
     "text": [
      "Epoch: 050, Train Loss: 0.0745, Train: 0.9531, Val: 0.3564, Test: 0.3814, Std dev: 0.0056\n"
     ]
    },
    {
     "name": "stderr",
     "output_type": "stream",
     "text": [
      "Epoch 51: 100%|██████████| 6/6 [00:00<00:00, 13.75it/s]\n"
     ]
    },
    {
     "name": "stdout",
     "output_type": "stream",
     "text": [
      "Loss:2.1593 seed:1.2701 hm:0.8221 ht:0.0672\n",
      "Example:10065 seed:2581 hm:4603 ht:2881\n"
     ]
    },
    {
     "name": "stderr",
     "output_type": "stream",
     "text": [
      "Evaluating Train: 100%|██████████| 2496/2496 [00:00<00:00, 31913.84it/s]\n",
      "Evaluating Validation: 100%|██████████| 1664/1664 [00:00<00:00, 46019.23it/s]\n",
      "Evaluating Test: 100%|██████████| 1041/1041 [00:00<00:00, 34962.89it/s]\n"
     ]
    },
    {
     "name": "stdout",
     "output_type": "stream",
     "text": [
      "Epoch: 051, Train Loss: 0.0652, Train: 0.9583, Val: 0.3570, Test: 0.3823, Std dev: 0.0059\n"
     ]
    },
    {
     "name": "stderr",
     "output_type": "stream",
     "text": [
      "Epoch 52: 100%|██████████| 6/6 [00:00<00:00, 17.21it/s]\n"
     ]
    },
    {
     "name": "stdout",
     "output_type": "stream",
     "text": [
      "Loss:2.1963 seed:1.2799 hm:0.8472 ht:0.0692\n",
      "Example:10336 seed:2680 hm:4686 ht:2970\n"
     ]
    },
    {
     "name": "stderr",
     "output_type": "stream",
     "text": [
      "Evaluating Train: 100%|██████████| 2496/2496 [00:00<00:00, 33284.11it/s]\n",
      "Evaluating Validation: 100%|██████████| 1664/1664 [00:00<00:00, 47230.66it/s]\n",
      "Evaluating Test: 100%|██████████| 1041/1041 [00:00<00:00, 34566.25it/s]\n"
     ]
    },
    {
     "name": "stdout",
     "output_type": "stream",
     "text": [
      "Epoch: 052, Train Loss: 0.0627, Train: 0.9607, Val: 0.3528, Test: 0.3775, Std dev: 0.0061\n"
     ]
    },
    {
     "name": "stderr",
     "output_type": "stream",
     "text": [
      "Epoch 53: 100%|██████████| 6/6 [00:00<00:00, 17.48it/s]\n"
     ]
    },
    {
     "name": "stdout",
     "output_type": "stream",
     "text": [
      "Loss:2.1701 seed:1.2652 hm:0.8315 ht:0.0734\n",
      "Example:10218 seed:2643 hm:4652 ht:2923\n"
     ]
    },
    {
     "name": "stderr",
     "output_type": "stream",
     "text": [
      "Evaluating Train: 100%|██████████| 2496/2496 [00:00<00:00, 32422.85it/s]\n",
      "Evaluating Validation: 100%|██████████| 1664/1664 [00:00<00:00, 48224.71it/s]\n",
      "Evaluating Test: 100%|██████████| 1041/1041 [00:00<00:00, 32025.81it/s]\n"
     ]
    },
    {
     "name": "stdout",
     "output_type": "stream",
     "text": [
      "Epoch: 053, Train Loss: 0.0851, Train: 0.9619, Val: 0.3642, Test: 0.3766, Std dev: 0.0051\n"
     ]
    },
    {
     "name": "stderr",
     "output_type": "stream",
     "text": [
      "Epoch 54: 100%|██████████| 6/6 [00:00<00:00, 17.34it/s]\n"
     ]
    },
    {
     "name": "stdout",
     "output_type": "stream",
     "text": [
      "Loss:2.1949 seed:1.2654 hm:0.8564 ht:0.0730\n",
      "Example:10429 seed:2697 hm:4774 ht:2958\n"
     ]
    },
    {
     "name": "stderr",
     "output_type": "stream",
     "text": [
      "Evaluating Train: 100%|██████████| 2496/2496 [00:00<00:00, 34370.96it/s]\n",
      "Evaluating Validation: 100%|██████████| 1664/1664 [00:00<00:00, 45500.20it/s]\n",
      "Evaluating Test: 100%|██████████| 1041/1041 [00:00<00:00, 32603.09it/s]\n"
     ]
    },
    {
     "name": "stdout",
     "output_type": "stream",
     "text": [
      "Epoch: 054, Train Loss: 0.0809, Train: 0.9619, Val: 0.3594, Test: 0.3737, Std dev: 0.0026\n"
     ]
    },
    {
     "name": "stderr",
     "output_type": "stream",
     "text": [
      "Epoch 55: 100%|██████████| 6/6 [00:00<00:00, 17.76it/s]\n"
     ]
    },
    {
     "name": "stdout",
     "output_type": "stream",
     "text": [
      "Loss:2.1439 seed:1.2569 hm:0.8205 ht:0.0664\n",
      "Example:10152 seed:2633 hm:4588 ht:2931\n"
     ]
    },
    {
     "name": "stderr",
     "output_type": "stream",
     "text": [
      "Evaluating Train: 100%|██████████| 2496/2496 [00:00<00:00, 32738.90it/s]\n",
      "Evaluating Validation: 100%|██████████| 1664/1664 [00:00<00:00, 46349.59it/s]\n",
      "Evaluating Test: 100%|██████████| 1041/1041 [00:00<00:00, 31545.01it/s]\n"
     ]
    },
    {
     "name": "stdout",
     "output_type": "stream",
     "text": [
      "Epoch: 055, Train Loss: 0.0736, Train: 0.9643, Val: 0.3534, Test: 0.3679, Std dev: 0.0029\n"
     ]
    },
    {
     "name": "stderr",
     "output_type": "stream",
     "text": [
      "Epoch 56: 100%|██████████| 6/6 [00:00<00:00, 17.49it/s]\n"
     ]
    },
    {
     "name": "stdout",
     "output_type": "stream",
     "text": [
      "Loss:2.1598 seed:1.2499 hm:0.8456 ht:0.0644\n",
      "Example:10503 seed:2747 hm:4746 ht:3010\n"
     ]
    },
    {
     "name": "stderr",
     "output_type": "stream",
     "text": [
      "Evaluating Train: 100%|██████████| 2496/2496 [00:00<00:00, 32706.88it/s]\n",
      "Evaluating Validation: 100%|██████████| 1664/1664 [00:00<00:00, 47263.28it/s]\n",
      "Evaluating Test: 100%|██████████| 1041/1041 [00:00<00:00, 31247.46it/s]\n"
     ]
    },
    {
     "name": "stdout",
     "output_type": "stream",
     "text": [
      "Epoch: 056, Train Loss: 0.0573, Train: 0.9643, Val: 0.3588, Test: 0.3766, Std dev: 0.0036\n"
     ]
    },
    {
     "name": "stderr",
     "output_type": "stream",
     "text": [
      "Epoch 57: 100%|██████████| 6/6 [00:00<00:00, 17.00it/s]\n"
     ]
    },
    {
     "name": "stdout",
     "output_type": "stream",
     "text": [
      "Loss:2.1876 seed:1.2747 hm:0.8458 ht:0.0671\n",
      "Example:10346 seed:2687 hm:4707 ht:2952\n"
     ]
    },
    {
     "name": "stderr",
     "output_type": "stream",
     "text": [
      "Evaluating Train: 100%|██████████| 2496/2496 [00:00<00:00, 42040.73it/s]\n",
      "Evaluating Validation: 100%|██████████| 1664/1664 [00:00<00:00, 32720.38it/s]\n",
      "Evaluating Test: 100%|██████████| 1041/1041 [00:00<00:00, 37944.80it/s]\n"
     ]
    },
    {
     "name": "stdout",
     "output_type": "stream",
     "text": [
      "Epoch: 057, Train Loss: 0.0691, Train: 0.9651, Val: 0.3558, Test: 0.3650, Std dev: 0.0037\n"
     ]
    },
    {
     "name": "stderr",
     "output_type": "stream",
     "text": [
      "Epoch 58: 100%|██████████| 6/6 [00:00<00:00, 17.55it/s]\n"
     ]
    },
    {
     "name": "stdout",
     "output_type": "stream",
     "text": [
      "Loss:2.1515 seed:1.2631 hm:0.8201 ht:0.0683\n",
      "Example:10133 seed:2612 hm:4611 ht:2910\n"
     ]
    },
    {
     "name": "stderr",
     "output_type": "stream",
     "text": [
      "Evaluating Train: 100%|██████████| 2496/2496 [00:00<00:00, 42028.41it/s]\n",
      "Evaluating Validation: 100%|██████████| 1664/1664 [00:00<00:00, 29765.87it/s]\n",
      "Evaluating Test: 100%|██████████| 1041/1041 [00:00<00:00, 36829.07it/s]\n"
     ]
    },
    {
     "name": "stdout",
     "output_type": "stream",
     "text": [
      "Epoch: 058, Train Loss: 0.0701, Train: 0.9671, Val: 0.3456, Test: 0.3670, Std dev: 0.0029\n"
     ]
    },
    {
     "name": "stderr",
     "output_type": "stream",
     "text": [
      "Epoch 59: 100%|██████████| 6/6 [00:00<00:00, 17.27it/s]\n"
     ]
    },
    {
     "name": "stdout",
     "output_type": "stream",
     "text": [
      "Loss:2.1718 seed:1.2688 hm:0.8434 ht:0.0596\n",
      "Example:10268 seed:2634 hm:4707 ht:2927\n"
     ]
    },
    {
     "name": "stderr",
     "output_type": "stream",
     "text": [
      "Evaluating Train: 100%|██████████| 2496/2496 [00:00<00:00, 42507.94it/s]\n",
      "Evaluating Validation: 100%|██████████| 1664/1664 [00:00<00:00, 29796.75it/s]\n",
      "Evaluating Test: 100%|██████████| 1041/1041 [00:00<00:00, 37860.90it/s]\n"
     ]
    },
    {
     "name": "stdout",
     "output_type": "stream",
     "text": [
      "Epoch: 059, Train Loss: 0.0664, Train: 0.9700, Val: 0.3492, Test: 0.3622, Std dev: 0.0031\n"
     ]
    },
    {
     "name": "stderr",
     "output_type": "stream",
     "text": [
      "Epoch 60: 100%|██████████| 6/6 [00:00<00:00, 11.91it/s]\n"
     ]
    },
    {
     "name": "stdout",
     "output_type": "stream",
     "text": [
      "Loss:2.1520 seed:1.2480 hm:0.8419 ht:0.0622\n",
      "Example:10457 seed:2709 hm:4760 ht:2988\n"
     ]
    },
    {
     "name": "stderr",
     "output_type": "stream",
     "text": [
      "Evaluating Train: 100%|██████████| 2496/2496 [00:00<00:00, 40205.47it/s]\n",
      "Evaluating Validation: 100%|██████████| 1664/1664 [00:00<00:00, 41095.45it/s]\n",
      "Evaluating Test: 100%|██████████| 1041/1041 [00:00<00:00, 17075.09it/s]\n"
     ]
    },
    {
     "name": "stdout",
     "output_type": "stream",
     "text": [
      "Epoch: 060, Train Loss: 0.0606, Train: 0.9688, Val: 0.3558, Test: 0.3746, Std dev: 0.0032\n"
     ]
    },
    {
     "name": "stderr",
     "output_type": "stream",
     "text": [
      "Epoch 61: 100%|██████████| 6/6 [00:00<00:00, 15.60it/s]\n"
     ]
    },
    {
     "name": "stdout",
     "output_type": "stream",
     "text": [
      "Loss:2.1491 seed:1.2538 hm:0.8362 ht:0.0592\n",
      "Example:10325 seed:2681 hm:4671 ht:2973\n"
     ]
    },
    {
     "name": "stderr",
     "output_type": "stream",
     "text": [
      "Evaluating Train: 100%|██████████| 2496/2496 [00:00<00:00, 25642.05it/s]\n",
      "Evaluating Validation: 100%|██████████| 1664/1664 [00:00<00:00, 42124.30it/s]\n",
      "Evaluating Test: 100%|██████████| 1041/1041 [00:00<00:00, 32417.91it/s]\n"
     ]
    },
    {
     "name": "stdout",
     "output_type": "stream",
     "text": [
      "Epoch: 061, Train Loss: 0.0584, Train: 0.9700, Val: 0.3444, Test: 0.3775, Std dev: 0.0038\n"
     ]
    },
    {
     "name": "stderr",
     "output_type": "stream",
     "text": [
      "Epoch 62: 100%|██████████| 6/6 [00:00<00:00, 14.58it/s]\n"
     ]
    },
    {
     "name": "stdout",
     "output_type": "stream",
     "text": [
      "Loss:2.1201 seed:1.2372 hm:0.8278 ht:0.0551\n",
      "Example:10270 seed:2655 hm:4655 ht:2960\n"
     ]
    },
    {
     "name": "stderr",
     "output_type": "stream",
     "text": [
      "Evaluating Train: 100%|██████████| 2496/2496 [00:00<00:00, 40613.97it/s]\n",
      "Evaluating Validation: 100%|██████████| 1664/1664 [00:00<00:00, 38015.60it/s]\n",
      "Evaluating Test: 100%|██████████| 1041/1041 [00:00<00:00, 17014.40it/s]\n"
     ]
    },
    {
     "name": "stdout",
     "output_type": "stream",
     "text": [
      "Epoch: 062, Train Loss: 0.0556, Train: 0.9696, Val: 0.3528, Test: 0.3766, Std dev: 0.0043\n"
     ]
    },
    {
     "name": "stderr",
     "output_type": "stream",
     "text": [
      "Epoch 63: 100%|██████████| 6/6 [00:00<00:00, 15.88it/s]\n"
     ]
    },
    {
     "name": "stdout",
     "output_type": "stream",
     "text": [
      "Loss:2.1641 seed:1.2641 hm:0.8409 ht:0.0592\n",
      "Example:10332 seed:2673 hm:4720 ht:2939\n"
     ]
    },
    {
     "name": "stderr",
     "output_type": "stream",
     "text": [
      "Evaluating Train: 100%|██████████| 2496/2496 [00:00<00:00, 24267.57it/s]\n",
      "Evaluating Validation: 100%|██████████| 1664/1664 [00:00<00:00, 42866.84it/s]\n",
      "Evaluating Test: 100%|██████████| 1041/1041 [00:00<00:00, 37027.71it/s]\n"
     ]
    },
    {
     "name": "stdout",
     "output_type": "stream",
     "text": [
      "Epoch: 063, Train Loss: 0.0507, Train: 0.9720, Val: 0.3498, Test: 0.3794, Std dev: 0.0023\n"
     ]
    },
    {
     "name": "stderr",
     "output_type": "stream",
     "text": [
      "Epoch 64: 100%|██████████| 6/6 [00:00<00:00, 14.42it/s]\n"
     ]
    },
    {
     "name": "stdout",
     "output_type": "stream",
     "text": [
      "Loss:2.1759 seed:1.2665 hm:0.8542 ht:0.0552\n",
      "Example:10466 seed:2728 hm:4750 ht:2988\n"
     ]
    },
    {
     "name": "stderr",
     "output_type": "stream",
     "text": [
      "Evaluating Train: 100%|██████████| 2496/2496 [00:00<00:00, 44849.83it/s]\n",
      "Evaluating Validation: 100%|██████████| 1664/1664 [00:00<00:00, 21944.65it/s]\n",
      "Evaluating Test: 100%|██████████| 1041/1041 [00:00<00:00, 26953.62it/s]\n"
     ]
    },
    {
     "name": "stdout",
     "output_type": "stream",
     "text": [
      "Epoch: 064, Train Loss: 0.0568, Train: 0.9712, Val: 0.3474, Test: 0.3766, Std dev: 0.0027\n"
     ]
    },
    {
     "name": "stderr",
     "output_type": "stream",
     "text": [
      "Epoch 65: 100%|██████████| 6/6 [00:00<00:00, 15.42it/s]\n"
     ]
    },
    {
     "name": "stdout",
     "output_type": "stream",
     "text": [
      "Loss:2.1218 seed:1.2464 hm:0.8194 ht:0.0560\n",
      "Example:10166 seed:2637 hm:4622 ht:2907\n"
     ]
    },
    {
     "name": "stderr",
     "output_type": "stream",
     "text": [
      "Evaluating Train: 100%|██████████| 2496/2496 [00:00<00:00, 45258.75it/s]\n",
      "Evaluating Validation: 100%|██████████| 1664/1664 [00:00<00:00, 28837.31it/s]\n",
      "Evaluating Test: 100%|██████████| 1041/1041 [00:00<00:00, 31995.30it/s]\n"
     ]
    },
    {
     "name": "stdout",
     "output_type": "stream",
     "text": [
      "Epoch: 065, Train Loss: 0.0524, Train: 0.9704, Val: 0.3510, Test: 0.3756, Std dev: 0.0019\n"
     ]
    },
    {
     "name": "stderr",
     "output_type": "stream",
     "text": [
      "Epoch 66: 100%|██████████| 6/6 [00:00<00:00, 15.51it/s]\n"
     ]
    },
    {
     "name": "stdout",
     "output_type": "stream",
     "text": [
      "Loss:2.1459 seed:1.2522 hm:0.8402 ht:0.0535\n",
      "Example:10431 seed:2732 hm:4706 ht:2993\n"
     ]
    },
    {
     "name": "stderr",
     "output_type": "stream",
     "text": [
      "Evaluating Train: 100%|██████████| 2496/2496 [00:00<00:00, 30168.41it/s]\n",
      "Evaluating Validation: 100%|██████████| 1664/1664 [00:00<00:00, 39633.17it/s]\n",
      "Evaluating Test: 100%|██████████| 1041/1041 [00:00<00:00, 32265.55it/s]\n"
     ]
    },
    {
     "name": "stdout",
     "output_type": "stream",
     "text": [
      "Epoch: 066, Train Loss: 0.0528, Train: 0.9704, Val: 0.3462, Test: 0.3775, Std dev: 0.0019\n"
     ]
    },
    {
     "name": "stderr",
     "output_type": "stream",
     "text": [
      "Epoch 67: 100%|██████████| 6/6 [00:00<00:00, 14.22it/s]\n"
     ]
    },
    {
     "name": "stdout",
     "output_type": "stream",
     "text": [
      "Loss:2.1421 seed:1.2525 hm:0.8363 ht:0.0533\n",
      "Example:10408 seed:2708 hm:4725 ht:2975\n"
     ]
    },
    {
     "name": "stderr",
     "output_type": "stream",
     "text": [
      "Evaluating Train: 100%|██████████| 2496/2496 [00:00<00:00, 36926.33it/s]\n",
      "Evaluating Validation: 100%|██████████| 1664/1664 [00:00<00:00, 26698.96it/s]\n",
      "Evaluating Test: 100%|██████████| 1041/1041 [00:00<00:00, 31608.26it/s]\n"
     ]
    },
    {
     "name": "stdout",
     "output_type": "stream",
     "text": [
      "Epoch: 067, Train Loss: 0.0496, Train: 0.9724, Val: 0.3534, Test: 0.3660, Std dev: 0.0021\n"
     ]
    },
    {
     "name": "stderr",
     "output_type": "stream",
     "text": [
      "Epoch 68: 100%|██████████| 6/6 [00:00<00:00, 14.46it/s]\n"
     ]
    },
    {
     "name": "stdout",
     "output_type": "stream",
     "text": [
      "Loss:2.1802 seed:1.2781 hm:0.8483 ht:0.0538\n",
      "Example:10376 seed:2687 hm:4721 ht:2968\n"
     ]
    },
    {
     "name": "stderr",
     "output_type": "stream",
     "text": [
      "Evaluating Train: 100%|██████████| 2496/2496 [00:00<00:00, 42457.26it/s]\n",
      "Evaluating Validation: 100%|██████████| 1664/1664 [00:00<00:00, 40552.46it/s]\n",
      "Evaluating Test: 100%|██████████| 1041/1041 [00:00<00:00, 18700.99it/s]\n"
     ]
    },
    {
     "name": "stdout",
     "output_type": "stream",
     "text": [
      "Epoch: 068, Train Loss: 0.0531, Train: 0.9728, Val: 0.3474, Test: 0.3708, Std dev: 0.0010\n"
     ]
    },
    {
     "name": "stderr",
     "output_type": "stream",
     "text": [
      "Epoch 69: 100%|██████████| 6/6 [00:00<00:00, 13.08it/s]\n"
     ]
    },
    {
     "name": "stdout",
     "output_type": "stream",
     "text": [
      "Loss:2.1573 seed:1.2708 hm:0.8331 ht:0.0534\n",
      "Example:10246 seed:2650 hm:4672 ht:2924\n"
     ]
    },
    {
     "name": "stderr",
     "output_type": "stream",
     "text": [
      "Evaluating Train: 100%|██████████| 2496/2496 [00:00<00:00, 30268.72it/s]\n",
      "Evaluating Validation: 100%|██████████| 1664/1664 [00:00<00:00, 40604.36it/s]\n",
      "Evaluating Test: 100%|██████████| 1041/1041 [00:00<00:00, 32335.80it/s]\n"
     ]
    },
    {
     "name": "stdout",
     "output_type": "stream",
     "text": [
      "Epoch: 069, Train Loss: 0.0468, Train: 0.9659, Val: 0.3486, Test: 0.3804, Std dev: 0.0010\n",
      "Iteration for convergence:  69\n"
     ]
    },
    {
     "data": {
      "text/plain": [
       "<Figure size 432x288 with 0 Axes>"
      ]
     },
     "metadata": {},
     "output_type": "display_data"
    },
    {
     "data": {
      "image/png": "[encoded data removed]",
      "text/plain": [
       "<Figure size 432x288 with 1 Axes>"
      ]
     },
     "metadata": {
      "needs_background": "light"
     },
     "output_type": "display_data"
    },
    {
     "name": "stdout",
     "output_type": "stream",
     "text": [
      "Best Validation Accuracy,  0.3683894230769231\n",
      "Best Test Accuracy,  0.38232468780019213\n",
      "0.38232468780019213 69\n"
     ]
    }
   ],
   "source": [
    "args.log_info = True\n",
    "\n",
    "DATASET_NAME = 'Cora'\n",
    "data, dataset = get_data(DATASET_NAME,DIR=None, log=False, h_score=True, split_no=0)\n",
    "print(data)\n",
    "\n",
    "channel = 'ht' #'all', 'hm', 'ht', 'sd'\n",
    "\n",
    "# if DATASET_NAME in ['Squirrel', 'Chameleon']:\n",
    "#     data.x = torch.cat((data.x, adj_feature(data)), dim=1)\n",
    "#     if args.log_info == True:\n",
    "#         print(data.x.shape)\n",
    "    \n",
    "best_acc, num_iteration, _ =  AGSGSperformanceSampler(DATASET_NAME, data, dataset, dataset.num_classes,\n",
    "                                                      epochs=150, channel=channel)\n",
    "print(best_acc, num_iteration)"
   ]
  },
  {
   "cell_type": "markdown",
   "id": "9a72e3b1",
   "metadata": {},
   "source": [
    "# Batch Experiments"
   ]
  },
  {
   "cell_type": "code",
   "execution_count": 18,
   "id": "f5dd76e1",
   "metadata": {},
   "outputs": [],
   "source": [
    "def batch_experiments(num_run=1, channel='all'):\n",
    "    \n",
    "    ALL_DATASETs= [\n",
    "        \"Roman-empire\",\"Texas\",\"Squirrel\",\"Chameleon\",\n",
    "        \"Cornell\",\"Actor\",\"Wisconsin\",\"Flickr\",\"Amazon-ratings\",\"reed98\",\"amherst41\",\"genius\",\n",
    "        \"AmazonProducts\",\n",
    "        \"cornell5\",\"penn94\",\n",
    "        \"johnshopkins55\",\n",
    "        \"Yelp\",\n",
    "        \"cora\",\"Tolokers\",\"Minesweeper\",\n",
    "        \"CiteSeer\",\"Computers\",\"PubMed\",\"pubmed\",\n",
    "        \"Reddit\",\n",
    "        \"cora_ml\",\"dblp\",\n",
    "        \"Reddit2\",\n",
    "        \"Cora\",\"CS\",\"Photo\",\"Questions\",\"Physics\",\"citeseer\",\n",
    "    ]\n",
    "    \n",
    "    #ALL_DATASETs= [\"Cora\"]\n",
    "    ALL_DATASETs= [\"Squirrel\"]\n",
    "#     ALL_DATASETs= [\"Texas\", \"Cornell\", \"Wisconsin\"]\n",
    "#     ALL_DATASETs= [\"cornell5\", \"penn94\", \"johnshopkins55\"]\n",
    "\n",
    "    args.log_info = False\n",
    "    \n",
    "    filename = \"Results/AGSGNN-SAINT-ACM-GS-\"+channel+\".txt\"\n",
    "    \n",
    "    for DATASET_NAME in ALL_DATASETs:  \n",
    "        print(DATASET_NAME, end=' ')\n",
    "                \n",
    "        result_file = open(filename,'a+')        \n",
    "        result_file.write(f'{DATASET_NAME} ')\n",
    "        result_file.close()\n",
    "                \n",
    "        accs = []\n",
    "        itrs = []\n",
    "                \n",
    "        for i in range(num_run):\n",
    "            data, dataset = get_data(DATASET_NAME, DIR=None, log=False, h_score=False, split_no=i)   \n",
    "            \n",
    "            if data.num_nodes>10000:\n",
    "                accs.append(-1)\n",
    "                itrs.append(-1)\n",
    "                break\n",
    "            \n",
    "            if len(data.y.shape) > 1:\n",
    "                data.y = data.y.argmax(dim=1)        \n",
    "                num_classes = torch.max(data.y).item()+1\n",
    "            else:\n",
    "                num_classes = dataset.num_classes\n",
    "            \n",
    "            if num_classes!= torch.max(data.y)+1:\n",
    "                num_classes = torch.max(data.y).item()+1\n",
    "                \n",
    "            if data.num_nodes<100000:\n",
    "                max_epochs = 150\n",
    "            else:\n",
    "                max_epochs = 50\n",
    "                \n",
    "#             if DATASET_NAME in ['Squirrel', 'Chameleon', \n",
    "#                                 #'cornell5','penn94','johnshopkins55'\n",
    "#                                ]:\n",
    "#                 data.x = torch.cat((data.x, adj_feature(data)), dim=1)\n",
    "#                 if args.log_info == True:\n",
    "#                     print(data.x.shape)\n",
    "                              \n",
    "            accuracy, itr, _ = AGSGSperformanceSampler(DATASET_NAME, data, dataset, num_classes,epochs=max_epochs, channel=channel)\n",
    "            \n",
    "            accs.append(accuracy)\n",
    "            itrs.append(itr)\n",
    "            #print(itr, accuracy)\n",
    "                        \n",
    "        #print(accs, itrs)\n",
    "        print(f'acc {np.mean(accs):0.4f} sd {np.std(accs):0.4f} itr {int(np.mean(itrs)):d} sd {int(np.std(itrs)):d}')\n",
    "        result_file = open(filename,'a+')\n",
    "        result_file.write(f'acc {np.mean(accs):0.4f} sd {np.std(accs):0.4f} itr {int(np.mean(itrs)):d} sd {int(np.std(itrs)):d}\\n')\n",
    "        result_file.close()\n",
    "                \n",
    "# start = time.time()\n",
    "# batch_experiments(num_run=5, channel='ht')\n",
    "# end = time.time()\n",
    "# print(\"Time spent:\", end-start)"
   ]
  },
  {
   "cell_type": "markdown",
   "id": "fd4cab8c",
   "metadata": {},
   "source": [
    "## Visualize representation"
   ]
  },
  {
   "cell_type": "code",
   "execution_count": 19,
   "id": "361d4d07",
   "metadata": {},
   "outputs": [],
   "source": [
    "if __name__ == '__main__':    \n",
    "    \n",
    "#     n=7\n",
    "#     x = torch.Tensor([[1,0],[1,0],[1,0],[0,1],[0,1],[0,1],[0,1]])\n",
    "#     y = torch.LongTensor([0,0,0, 1, 1, 1, 1])\n",
    "#     edge_index = torch.LongTensor([[1,2],[1,4],[1,5],[2,1],[3,6],[3,7],[4,5],[4,1],[4,6],[4,7],[5,1],[5,4],[5,6],[6,3],[6,4],[6,5],[6,7],[7,3],[7,4],[7,6]]).T\n",
    "#     edge_index = edge_index-1\n",
    "    \n",
    "#     mask = torch.zeros(n, dtype=torch.bool)\n",
    "#     mask[[1,3]] = True\n",
    "    \n",
    "#     test_data = Data(x = x, y = y, edge_index = edge_index, train_mask = mask, test_mask = mask, val_mask = mask)    \n",
    "#     print(test_data)\n",
    "    \n",
    "    \n",
    "    None"
   ]
  },
  {
   "cell_type": "code",
   "execution_count": 20,
   "id": "48f76e63",
   "metadata": {},
   "outputs": [],
   "source": [
    "# class AGS_layer(torch.nn.Module):\n",
    "#     def __init__(self, input_channels, output_channels, dropout=0.2):\n",
    "#         super().__init__()\n",
    "#         self.T = 3\n",
    "#         self.p = dropout\n",
    "#         #self.Aconv1 = GCNConv(input_channels, output_channels)        \n",
    "#         #self.Sconv1 = SpatialConv(input_channels, output_channels)\n",
    "        \n",
    "#         self.Aconv1 = GCNConv(input_channels, output_channels)\n",
    "#         self.Sconv1 = SpatialConv(input_channels, output_channels)\n",
    "        \n",
    "#         self.I1 = nn.Linear(input_channels, output_channels)\n",
    "        \n",
    "#         self.layer_norm_a1 =  nn.LayerNorm(output_channels)\n",
    "#         self.layer_norm_s1 =  nn.LayerNorm(output_channels)\n",
    "#         self.layer_norm_i1 =  nn.LayerNorm(output_channels)\n",
    "        \n",
    "#         self.alpha_a1 = nn.Linear(output_channels, 1)\n",
    "#         self.alpha_s1 = nn.Linear(output_channels, 1)\n",
    "#         self.alpha_i1 = nn.Linear(output_channels, 1)\n",
    "#         self.w1 = nn.Linear(3, 3)\n",
    "        \n",
    "#         #self.reset_parameters()\n",
    "            \n",
    "#     def reset_parameters(self):\n",
    "        \n",
    "#         stdv = 1. / math.sqrt(self.I1.weight.size(1))\n",
    "#         std_att = 1. / math.sqrt(self.w1.weight.size(1))\n",
    "#         std_att_vec = 1. / math.sqrt( self.alpha_a1.weight.size(1))\n",
    "        \n",
    "#         self.I1.weight.data.uniform_(-stdv, stdv)\n",
    "        \n",
    "#         self.alpha_a1.weight.data.uniform_(-std_att, std_att)\n",
    "#         self.alpha_s1.weight.data.uniform_(-std_att, std_att)\n",
    "#         self.alpha_i1.weight.data.uniform_(-std_att, std_att)\n",
    "        \n",
    "#         self.w1.weight.data.uniform_(-std_att_vec, std_att_vec)\n",
    "        \n",
    "#         self.layer_norm_a1.reset_parameters()\n",
    "#         self.layer_norm_s1.reset_parameters()\n",
    "#         self.layer_norm_i1.reset_parameters()\n",
    "        \n",
    "\n",
    "#     def forward(self, x0, edge_index, edge_weight=None):\n",
    "#         a1 = F.relu(self.Aconv1(x0, edge_index, edge_weight))\n",
    "#         a1 = self.layer_norm_a1(a1)\n",
    "#         a1 = F.dropout(a1, p=self.p, training=self.training)\n",
    "        \n",
    "#         s1 = F.relu(self.Sconv1(x0, edge_index, edge_weight))\n",
    "#         s1 = self.layer_norm_s1(s1)\n",
    "#         s1 = F.dropout(s1, p=self.p, training=self.training)\n",
    "\n",
    "#         i1 = F.relu(self.I1(x0))\n",
    "#         i1 = self.layer_norm_i1(i1)\n",
    "#         i1 = F.dropout(i1, p=self.p, training=self.training)\n",
    "        \n",
    "#         ala1 = torch.sigmoid(self.alpha_a1(a1))\n",
    "#         als1 = torch.sigmoid(self.alpha_s1(s1))\n",
    "#         ali1 = torch.sigmoid(self.alpha_i1(i1))        \n",
    "#         alpha1 = F.softmax(self.w1(torch.cat([ala1, als1, ali1],dim=-1)/self.T), dim=1)        \n",
    "        \n",
    "#         x1 = torch.mm(torch.diag(alpha1[:,0]),a1) + torch.mm(torch.diag(alpha1[:,1]),s1) + torch.mm(torch.diag(alpha1[:,2]),i1)                \n",
    "        \n",
    "#         return x1\n",
    "        \n",
    "# class AGS_GCN(torch.nn.Module):\n",
    "#     def __init__(self, num_features, num_classes, hidden_channels=16, dropout=0.2):\n",
    "#         super().__init__()        \n",
    "#         self.num_classes = num_classes\n",
    "#         self.p = dropout\n",
    "        \n",
    "#         self.ags_layer1 = AGS_layer(num_features, hidden_channels)\n",
    "#         self.ags_layer2 = AGS_layer(hidden_channels, hidden_channels)\n",
    "#         #self.ags_layer2 = AGS_layer(hidden_channels, num_classes)\n",
    "                \n",
    "#         self.CombineW = nn.Linear(2 * hidden_channels, hidden_channels)\n",
    "#         self.PredW = nn.Linear(1*hidden_channels, num_classes)\n",
    "        \n",
    "    \n",
    "#     def forward(self, x0, edge_index, edge_weight=None):\n",
    "        \n",
    "#         #x0 = F.dropout(x0, p=self.p, training=self.training)\n",
    "#         x1 = self.ags_layer1(x0, edge_index, edge_weight)\n",
    "#         x1 = F.dropout(x1, p=self.p, training=self.training)\n",
    "        \n",
    "#         x2 = self.ags_layer2(x1, edge_index, edge_weight)\n",
    "#         x2 = F.dropout(x2, p=self.p, training=self.training)        \n",
    "        \n",
    "#         #x = self.PredW(torch.cat([x1, x2], dim=-1))\n",
    "#         x = self.PredW(x2)\n",
    "         \n",
    "#         #return x\n",
    "#         return x.log_softmax(dim=-1)"
   ]
  },
  {
   "cell_type": "code",
   "execution_count": null,
   "id": "d4e0c3a0",
   "metadata": {},
   "outputs": [],
   "source": []
  }
 ],
 "metadata": {
  "kernelspec": {
   "display_name": "py38cu11",
   "language": "python",
   "name": "py38cu11"
  },
  "language_info": {
   "codemirror_mode": {
    "name": "ipython",
    "version": 3
   },
   "file_extension": ".py",
   "mimetype": "text/x-python",
   "name": "python",
   "nbconvert_exporter": "python",
   "pygments_lexer": "ipython3",
   "version": "3.8.13"
  }
 },
 "nbformat": 4,
 "nbformat_minor": 5
}
