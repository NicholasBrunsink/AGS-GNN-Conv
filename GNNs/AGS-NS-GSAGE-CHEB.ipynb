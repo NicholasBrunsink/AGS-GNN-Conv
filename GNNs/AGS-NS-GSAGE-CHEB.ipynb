{
 "cells": [
  {
   "cell_type": "markdown",
   "id": "44415f5a",
   "metadata": {},
   "source": [
    "## Get Cuda and Processor information"
   ]
  },
  {
   "cell_type": "code",
   "execution_count": 1,
   "id": "7ac319c5",
   "metadata": {},
   "outputs": [
    {
     "data": {
      "text/plain": [
       "32"
      ]
     },
     "execution_count": 1,
     "metadata": {},
     "output_type": "execute_result"
    }
   ],
   "source": [
    "import sys\n",
    "sys.path.append('../Submodular')\n",
    "\n",
    "import DeviceDir\n",
    "\n",
    "DIR, RESULTS_DIR = DeviceDir.get_directory()\n",
    "device, NUM_PROCESSORS = DeviceDir.get_device()\n",
    "\n",
    "NUM_PROCESSORS"
   ]
  },
  {
   "cell_type": "code",
   "execution_count": 2,
   "id": "413bed4b",
   "metadata": {},
   "outputs": [
    {
     "name": "stdout",
     "output_type": "stream",
     "text": [
      "Cpu count:  32\n"
     ]
    }
   ],
   "source": [
    "import multiprocessing\n",
    "\n",
    "NUM_PROCESSORS=multiprocessing.cpu_count()\n",
    "print(\"Cpu count: \",NUM_PROCESSORS)"
   ]
  },
  {
   "cell_type": "code",
   "execution_count": 3,
   "id": "782d8b87",
   "metadata": {},
   "outputs": [],
   "source": [
    "from ipynb.fs.full.Dataset import get_data\n",
    "from ipynb.fs.full.Dataset import datasets as available_datasets\n",
    "from ipynb.fs.full.Utils import save_plot"
   ]
  },
  {
   "cell_type": "code",
   "execution_count": 4,
   "id": "d11e7a9f",
   "metadata": {},
   "outputs": [],
   "source": [
    "import argparse\n",
    "from argparse import ArgumentParser\n",
    "\n",
    "#set default arguments here\n",
    "def get_configuration():\n",
    "    parser = ArgumentParser()\n",
    "    parser.add_argument('--epochs', type=int, default=1)\n",
    "    parser.add_argument('--log_info', type=bool, default=True)\n",
    "    parser.add_argument('--pbar', type=bool, default=False)\n",
    "    parser.add_argument('--batch_size', type=int, default=2048)\n",
    "    parser.add_argument('--learning_rate', type=float, default=0.01)\n",
    "    parser.add_argument('--recompute', type=bool, default=False)\n",
    "    parser.add_argument('--num_gpus', type=int, default=-1)\n",
    "    parser.add_argument('--parallel_mode', type=str, default=\"dp\", choices=['dp', 'ddp', 'ddp2'])\n",
    "    parser.add_argument('--dataset', type=str, default=\"Cora\", choices=available_datasets)\n",
    "    parser.add_argument('--use_normalization', action='store_false', default=True)\n",
    "    parser.add_argument('-f') ##dummy for jupyternotebook\n",
    "    args = parser.parse_args()\n",
    "    \n",
    "    dict_args = vars(args)\n",
    "    \n",
    "    return args, dict_args\n",
    "\n",
    "args, dict_args = get_configuration()"
   ]
  },
  {
   "cell_type": "markdown",
   "id": "f15d0c7f",
   "metadata": {},
   "source": [
    "## libraries"
   ]
  },
  {
   "cell_type": "code",
   "execution_count": 5,
   "id": "38ae0932",
   "metadata": {},
   "outputs": [],
   "source": [
    "import random\n",
    "import numpy as np\n",
    "import torch\n",
    "\n",
    "seed = 123\n",
    "\n",
    "random.seed(seed)\n",
    "np.random.seed(seed)\n",
    "torch.manual_seed(seed)\n",
    "None"
   ]
  },
  {
   "cell_type": "code",
   "execution_count": 6,
   "id": "0f2deccb",
   "metadata": {},
   "outputs": [],
   "source": [
    "import os\n",
    "import math\n",
    "import time\n",
    "from tqdm import tqdm\n",
    "import torch.nn as nn\n",
    "from torch_geometric.data import Data, Dataset"
   ]
  },
  {
   "cell_type": "markdown",
   "id": "9141f832",
   "metadata": {},
   "source": [
    "## GNN model"
   ]
  },
  {
   "cell_type": "code",
   "execution_count": 7,
   "id": "bbd4df8e",
   "metadata": {},
   "outputs": [],
   "source": [
    "import torch_geometric\n",
    "from torch_geometric.nn import GCNConv, GATConv, SAGEConv, GINConv, ChebConv\n",
    "from torch_geometric.nn import GraphConv, TransformerConv\n",
    "from torch_geometric.utils import degree\n",
    "import torch.nn.functional as F\n",
    "from sklearn.metrics import accuracy_score\n",
    "from ipynb.fs.full.SpatialConv import SpatialConv"
   ]
  },
  {
   "cell_type": "markdown",
   "id": "e007e8b8",
   "metadata": {},
   "source": [
    "### GNN option 1"
   ]
  },
  {
   "cell_type": "code",
   "execution_count": 8,
   "id": "5744498e",
   "metadata": {},
   "outputs": [],
   "source": [
    "GNNconv = SAGEConv"
   ]
  },
  {
   "cell_type": "code",
   "execution_count": 9,
   "id": "bd0e048d",
   "metadata": {},
   "outputs": [],
   "source": [
    "class GNNHomophily(torch.nn.Module):\n",
    "    def __init__(self, num_features,num_classes, hidden_channels=16):\n",
    "        super().__init__()\n",
    "        self.num_classes = num_classes\n",
    "             \n",
    "        self.conv1 = GNNconv(num_features, hidden_channels)\n",
    "        #self.conv2 = GNNconv(hidden_channels,hidden_channels)\n",
    "        self.conv3 = GNNconv(hidden_channels,num_classes)\n",
    "\n",
    "    def forward(self, x, edge_index, edge_weight=None):\n",
    "        x = self.conv1(x, edge_index, edge_weight)\n",
    "        x = x.relu()\n",
    "        x = F.dropout(x, p=0.5, training=self.training)\n",
    "#         x = self.conv2(x, edge_index, edge_weight)\n",
    "#         x = x.relu()\n",
    "#         x = F.dropout(x, p=0.5, training=self.training)\n",
    "        x = self.conv3(x, edge_index, edge_weight)\n",
    "        \n",
    "        return x\n",
    "    \n",
    "class GNNHeterophily(torch.nn.Module):\n",
    "    def __init__(self, num_features,num_classes, hidden_channels=16):\n",
    "        super().__init__()\n",
    "        self.num_classes = num_classes\n",
    "             \n",
    "        self.conv1 = ChebConv(num_features, hidden_channels, K=2, normalization='sym')\n",
    "        #self.conv2 = GNNconv(hidden_channels,hidden_channels)\n",
    "        self.conv3 = ChebConv(hidden_channels,num_classes, K=2, normalization='sym')\n",
    "\n",
    "    def forward(self, x, edge_index, edge_weight=None):\n",
    "        x = self.conv1(x, edge_index, edge_weight)\n",
    "        x = x.relu()\n",
    "        x = F.dropout(x, p=0.5, training=self.training)\n",
    "#         x = self.conv2(x, edge_index, edge_weight)\n",
    "#         x = x.relu()\n",
    "#         x = F.dropout(x, p=0.5, training=self.training)\n",
    "        x = self.conv3(x, edge_index, edge_weight)\n",
    "        \n",
    "        return x\n",
    "    \n",
    "class AGSGNN(torch.nn.Module):\n",
    "    def __init__(self, num_features,num_classes, hidden_channels=16, dropout=0.5):\n",
    "        super().__init__()\n",
    "        self.num_classes = num_classes\n",
    "        \n",
    "        hidden = int(hidden_channels/2)\n",
    "        \n",
    "        #self.gnn1 = GNNHomophily(num_features, num_classes, hidden_channels)        \n",
    "        self.gnn1 = GNNHomophily(num_features, hidden, hidden_channels)\n",
    "        self.gnn2 = GNNHeterophily(num_features, hidden, hidden_channels)\n",
    "        self.p = dropout\n",
    "        self.com_lin = nn.Linear(hidden*2, num_classes)\n",
    "        \n",
    "        \n",
    "#         self.T = 2        \n",
    "#         self.layer_norm_a1 =  nn.LayerNorm(num_classes)\n",
    "#         self.layer_norm_s1 =  nn.LayerNorm(num_classes)\n",
    "        \n",
    "#         self.alpha_a1 = nn.Linear(num_classes, 1)\n",
    "#         self.alpha_s1 = nn.Linear(num_classes, 1)\n",
    "#         self.w1 = nn.Linear(self.T, self.T)\n",
    "        \n",
    "        #self.reset_parameters()\n",
    "            \n",
    "#     def reset_parameters(self):\n",
    "#         std_att = 1. / math.sqrt(self.w1.weight.size(1))\n",
    "#         std_att_vec = 1. / math.sqrt( self.alpha_a1.weight.size(1))\n",
    "        \n",
    "#         self.alpha_s1.weight.data.uniform_(-std_att, std_att)\n",
    "#         self.alpha_i1.weight.data.uniform_(-std_att, std_att)\n",
    "        \n",
    "#         self.layer_norm_a1.reset_parameters()\n",
    "#         self.layer_norm_s1.reset_parameters()        \n",
    "        \n",
    "    def forward(self, batch_data):\n",
    "        \n",
    "        #out = model(batch_data.x, batch_data.edge_index, batch_data.weight)\n",
    "        #out = model(batch_data.x, batch_data.edge_index, batch_data.edge_weight)\n",
    "        #out = model(batch_data.x, batch_data.edge_index)\n",
    "        \n",
    "        x1 = self.gnn1(batch_data[0].x, batch_data[0].edge_index)\n",
    "        #return x1        \n",
    "        \n",
    "        x2 = self.gnn2(batch_data[1].x, batch_data[1].edge_index)\n",
    "        #return x2\n",
    "        \n",
    "        a1 = F.relu(x1)\n",
    "        #a1 = self.layer_norm_a1(a1)\n",
    "        a1 = F.dropout(a1, p=self.p, training=self.training)\n",
    "        \n",
    "        s1 = F.relu(x2)\n",
    "        #s1 = self.layer_norm_s1(s1)\n",
    "        s1 = F.dropout(s1, p=self.p, training=self.training)\n",
    "        \n",
    "        used = batch_data[0].batch_size\n",
    "        \n",
    "        x = torch.cat([a1[:used,:], s1[:used,:]], dim=-1)\n",
    "        x = self.com_lin(x)\n",
    "        \n",
    "        \n",
    "#         ala1 = torch.sigmoid(self.alpha_a1(a1))\n",
    "#         als1 = torch.sigmoid(self.alpha_s1(s1))        \n",
    "        \n",
    "#         alpha1 = F.softmax(self.w1(torch.cat([ala1, als1],dim=-1)/self.T), dim=1)                \n",
    "#         x = torch.mm(torch.diag(alpha1[:,0]),a1) + torch.mm(torch.diag(alpha1[:,1]),s1)\n",
    "        \n",
    "        #print(x.shape)\n",
    "        \n",
    "        return x"
   ]
  },
  {
   "cell_type": "markdown",
   "id": "88b17b8e",
   "metadata": {},
   "source": [
    "## GNN Training and Testing"
   ]
  },
  {
   "cell_type": "code",
   "execution_count": 10,
   "id": "e11e841d",
   "metadata": {},
   "outputs": [],
   "source": [
    "from torch_geometric.loader import NeighborSampler, NeighborLoader\n",
    "from ipynb.fs.full.AGSNodeSampler import WeightedNeighborLoader"
   ]
  },
  {
   "cell_type": "code",
   "execution_count": 11,
   "id": "5ac415e3",
   "metadata": {},
   "outputs": [],
   "source": [
    "def test(model, loader, mask, name='Train'):    \n",
    "    if args.log_info:    \n",
    "        pbar = tqdm(total=sum(mask).item())\n",
    "        pbar.set_description(f'Evaluating {name}')\n",
    "    \n",
    "    model.eval()\n",
    "    \n",
    "    total_correct=0\n",
    "    total_examples=0\n",
    "    \n",
    "    sigmoid = nn.Sigmoid()    \n",
    "    \n",
    "    y_true = []\n",
    "    y_pred = []\n",
    "    \n",
    "    with torch.no_grad():                  \n",
    "    \n",
    "        for i,batch_data in enumerate(loader):\n",
    "            \n",
    "            batch_data = [b.to(device) for b in batch_data]\n",
    "            used = batch_data[0].batch_size\n",
    "            \n",
    "            out = model(batch_data)\n",
    "                   \n",
    "            out=out[:used,:]\n",
    "            pred = out.argmax(dim=1)            \n",
    "\n",
    "            y_true.append(batch_data[0].y[:used].detach().cpu().numpy())\n",
    "            y_pred.append(pred.detach().cpu().numpy())\n",
    "            \n",
    "            if args.log_info:\n",
    "                pbar.update(used)\n",
    "              \n",
    "    if args.log_info:\n",
    "        pbar.close()\n",
    "    \n",
    "    y_true = np.concatenate(y_true)\n",
    "    y_pred = np.concatenate(y_pred)\n",
    "    \n",
    "    acc = accuracy_score(y_true, y_pred)\n",
    "                    \n",
    "    return acc"
   ]
  },
  {
   "cell_type": "code",
   "execution_count": 12,
   "id": "85fa0de2",
   "metadata": {},
   "outputs": [],
   "source": [
    "def train(DATASET_NAME, model, data, epochs=100, train_neighbors=[-1,10], test_neighbors=[-1,10]):\n",
    "    \n",
    "    if args.log_info:\n",
    "        print(\"Train neighbors: \", train_neighbors)\n",
    "        print(\"Test neighbors: \", test_neighbors)\n",
    "        \n",
    "#     optimizer = torch.optim.Adam(model.parameters(), lr=0.01, weight_decay=5e-4)\n",
    "    optimizer = torch.optim.Adam(model.parameters())\n",
    "    \n",
    "    if data.y.ndim == 1:\n",
    "        criterion = torch.nn.CrossEntropyLoss()\n",
    "    else:\n",
    "        criterion = torch.nn.BCEWithLogitsLoss()\n",
    "    \n",
    "    #batch_size=1024         \n",
    "    batch_size=512         \n",
    "    worker = 0\n",
    "    \n",
    "    if data.num_nodes>=50000:\n",
    "        worker = 8\n",
    "    else:\n",
    "        worker = min(8,int(sum(data.train_mask)/batch_size))\n",
    "        \n",
    "    if args.log_info:\n",
    "        print(\"Worker: \", worker)\n",
    "        \n",
    "#     weight_func=['knn','submodular']; \n",
    "    weight_func=['knn','submodular']; \n",
    "#     weight_func=['random', 'random'];  worker = 0;\n",
    "#     weight_func=['link-nn', 'link-sub'];  worker = 2;\n",
    "    params={\n",
    "        'knn':{'metric':'cosine'},\n",
    "        'submodular':{'metric':'cosine'},\n",
    "        'link-nn':{'value':'min'},\n",
    "        'link-sub':{'value':'max'},\n",
    "    }    \n",
    "    \n",
    "    sampler_dir = DIR+'AGSGNNstruc/'+DATASET_NAME\n",
    "#     if not os.path.exists(sampler_dir):\n",
    "#         os.makedirs(sampler_dir)\n",
    "    \n",
    "    start = time.time()    \n",
    "    loader = WeightedNeighborLoader(data, input_nodes=data.train_mask,num_neighbors=train_neighbors, \n",
    "                              batch_size=batch_size, shuffle=True, num_workers=worker, drop_last=False, \n",
    "                              weight_func=weight_func, params=params, log=args.log_info,\n",
    "                                    directed=True, replace = False,\n",
    "                                    save_dir = sampler_dir,recompute = args.recompute)\n",
    "\n",
    "    train_loader = WeightedNeighborLoader(data, input_nodes=data.train_mask,num_neighbors=train_neighbors, \n",
    "                              batch_size=batch_size, shuffle=False, num_workers=worker, drop_last=False, \n",
    "                              weight_func=weight_func, params=params, log=args.log_info,\n",
    "                                          directed=True, replace = False,\n",
    "                                          save_dir = sampler_dir,recompute = False)\n",
    "    \n",
    "    val_loader = WeightedNeighborLoader(data, input_nodes=data.val_mask,num_neighbors=test_neighbors, \n",
    "                              batch_size=batch_size, shuffle=False, num_workers=min(8,int(sum(data.val_mask)/batch_size)), drop_last=False, \n",
    "                              weight_func=weight_func, params=params,log=args.log_info, directed=True, replace = False,\n",
    "                                        save_dir = sampler_dir,recompute = False)\n",
    "    \n",
    "    test_loader = WeightedNeighborLoader(data, input_nodes=data.test_mask,num_neighbors=test_neighbors, \n",
    "                              batch_size=batch_size, shuffle=False, num_workers=min(8,int(sum(data.test_mask)/batch_size)), drop_last=False, \n",
    "                              weight_func=weight_func, params=params, log=args.log_info, directed=True, replace = False,\n",
    "                                         save_dir = sampler_dir,recompute = False)\n",
    "    \n",
    "    top_k_accs = []    \n",
    "    best_acc=0  \n",
    "    \n",
    "    train_losses=[]\n",
    "    val_accuracies=[]\n",
    "    train_accuracies=[]\n",
    "    test_accuracies=[]\n",
    "    \n",
    "    num_iteration = epochs\n",
    "    \n",
    "    end = time.time()\n",
    "    if args.log_info:\n",
    "        print(\"Total initialization time: \", end-start)\n",
    "    \n",
    "    start = time.time()\n",
    "    \n",
    "    for epoch in range(1,epochs+1):\n",
    "        \n",
    "        if args.log_info:\n",
    "            pbar = tqdm(total=int(sum(data.train_mask)))\n",
    "            pbar.set_description(f'Epoch {epoch:02d}')\n",
    "        \n",
    "        model.train()\n",
    "        total_loss = total_examples = 0\n",
    "        \n",
    "        for i,batch_data in enumerate(loader):            \n",
    "            #print(batch_data)\n",
    "            \n",
    "            batch_data = [b.to(device) for b in batch_data]\n",
    "            used = batch_data[0].batch_size #int(sum(batch_data.train_mask))       \n",
    "            \n",
    "            optimizer.zero_grad()            \n",
    "            out = model(batch_data)\n",
    "            #out = F.log_softmax(out, dim=1)                 \n",
    "            #loss = F.nll_loss(out[batch_data[0].train_mask], batch_data[0].y[batch_data[0].train_mask])\n",
    "            #loss = F.cross_entropy(out[:used], batch_data[0].y[:used])\n",
    "            loss = criterion(out[:used], batch_data[0].y[:used])\n",
    "            \n",
    "            loss.backward()\n",
    "            optimizer.step()\n",
    "                        \n",
    "            total_loss += loss.item() * used\n",
    "            total_examples += used\n",
    "            \n",
    "            if args.log_info:\n",
    "                pbar.update(used)\n",
    "        if args.log_info:\n",
    "            pbar.close()\n",
    "        \n",
    "        loss=total_loss / total_examples\n",
    "        train_losses.append(loss)\n",
    "        \n",
    "        #print(f'Epoch: {epoch:03d}, Train Loss: {loss:.4f}', end = ', ')                \n",
    "        \n",
    "        if args.log_info:\n",
    "            train_acc=test(model, train_loader,data.train_mask,'Train')            \n",
    "            train_accuracies.append(train_acc.item())        \n",
    "        else:\n",
    "            train_acc = 0 ; train_accuracies.append(train_acc)\n",
    "        \n",
    "        if args.log_info:\n",
    "            val_acc = test(model, val_loader,data.val_mask,'Validation')\n",
    "            val_accuracies.append(val_acc.item())\n",
    "        else:\n",
    "            val_acc = 0 ; val_accuracies.append(val_acc)\n",
    "\n",
    "        test_acc = test(model, test_loader,data.test_mask,'Test')\n",
    "        test_accuracies.append(test_acc.item())\n",
    "        #print(f'Epoch: {epoch:03d}, Test: {test_acc:.4f}')\n",
    "        \n",
    "        std_dev = np.std(train_losses[-5:])\n",
    "        #print(f'Epoch: {epoch:03d}, Std dev: {std_dev:.4f}')\n",
    "        \n",
    "        if args.log_info:\n",
    "            print(f'Epoch: {epoch:03d}, Train Loss: {loss:.4f}, Train: {train_acc:.4f}, Val: {val_acc:.4f}, Test: {test_acc:.4f}, Std dev: {std_dev:.4f}')\n",
    "\n",
    "        if epoch>=5 and std_dev<=1e-3:\n",
    "            num_iteration = epoch\n",
    "            \n",
    "            if args.log_info:                \n",
    "                print(\"Iteration for convergence: \", epoch)\n",
    "            break\n",
    "        \n",
    "    if args.log_info:\n",
    "        #save_plot([val_accuracies], labels=['Validation'], name='Plots/Validation', yname='Accuracy', xname='Epoch')    \n",
    "        save_plot([train_losses, train_accuracies, val_accuracies, test_accuracies], labels=['Loss','Train','Validation','Test'], name='Results/AGSNSVal', yname='Accuracy', xname='Epoch')\n",
    "        \n",
    "        print (\"Best Validation Accuracy, \",max(val_accuracies))\n",
    "        print (\"Best Test Accuracy, \",max(test_accuracies))\n",
    "        \n",
    "    best_acc = max(test_accuracies)\n",
    "    \n",
    "    end = time.time()\n",
    "    if args.log_info:\n",
    "        print(\"Total epoch time: \", end-start)    \n",
    "    \n",
    "    return best_acc, num_iteration"
   ]
  },
  {
   "cell_type": "code",
   "execution_count": 13,
   "id": "34bee9e8",
   "metadata": {},
   "outputs": [],
   "source": [
    "def AGSNSperformanceSampler(DATASET_NAME, data, dataset, num_classes, epochs=1, train_neighbors=[-1,-1], test_neighbors=[-1,-1]):        \n",
    "    \n",
    "    model = AGSGNN(data.x.shape[1], num_classes, hidden_channels=256).to(device)\n",
    "    \n",
    "    if args.log_info: print(model)    \n",
    "    \n",
    "    best_acc, num_iteration = train(DATASET_NAME, model, data, epochs, train_neighbors=train_neighbors, test_neighbors=test_neighbors)    \n",
    "    \n",
    "    return best_acc, num_iteration, model"
   ]
  },
  {
   "cell_type": "code",
   "execution_count": 14,
   "id": "9140fcf7",
   "metadata": {},
   "outputs": [],
   "source": [
    "def adj_feature(data):    \n",
    "    adj_mat = torch.zeros((data.num_nodes,data.num_nodes))\n",
    "    edges = data.edge_index.t()\n",
    "    adj_mat[edges[:,0], edges[:,1]] = 1\n",
    "    return adj_mat\n",
    "\n",
    "# adj_feature(data)\n",
    "# data.x.shape"
   ]
  },
  {
   "cell_type": "code",
   "execution_count": 15,
   "id": "7e76eeee",
   "metadata": {},
   "outputs": [],
   "source": [
    "from torch_geometric.utils import add_self_loops"
   ]
  },
  {
   "cell_type": "code",
   "execution_count": 17,
   "id": "586728b2",
   "metadata": {
    "scrolled": true
   },
   "outputs": [
    {
     "name": "stdout",
     "output_type": "stream",
     "text": [
      "N  34  E  156  d  4.588235294117647 0.8020520210266113 0.7564102411270142 0.6170591711997986 -0.4756128787994385 \n",
      "Data(x=[34, 34], edge_index=[2, 156], y=[34], train_mask=[34], val_mask=[34], test_mask=[34])\n",
      "AGSGNN(\n",
      "  (gnn1): GNNHomophily(\n",
      "    (conv1): SAGEConv(34, 256)\n",
      "    (conv3): SAGEConv(256, 128)\n",
      "  )\n",
      "  (gnn2): GNNHeterophily(\n",
      "    (conv1): ChebConv(34, 256, K=2, normalization=sym)\n",
      "    (conv3): ChebConv(256, 128, K=2, normalization=sym)\n",
      "  )\n",
      "  (com_lin): Linear(in_features=256, out_features=4, bias=True)\n",
      ")\n",
      "Train neighbors:  [8, 4]\n",
      "Test neighbors:  [8, 4]\n",
      "Worker:  0\n",
      "Metric:  cosine\n"
     ]
    },
    {
     "name": "stderr",
     "output_type": "stream",
     "text": [
      "Nodes: 100%|██████████| 34/34 [00:00<00:00, 1867.46it/s]\n"
     ]
    },
    {
     "name": "stdout",
     "output_type": "stream",
     "text": [
      "saving weights  knn\n",
      "Metric:  cosine\n"
     ]
    },
    {
     "name": "stderr",
     "output_type": "stream",
     "text": [
      "Nodes: 100%|██████████| 34/34 [00:00<00:00, 2964.79it/s]\n"
     ]
    },
    {
     "name": "stdout",
     "output_type": "stream",
     "text": [
      "saving weights  submodular\n",
      "Total initialization time:  0.1518552303314209\n"
     ]
    },
    {
     "name": "stderr",
     "output_type": "stream",
     "text": [
      "Epoch 01: 100%|██████████| 4/4 [00:00<00:00, 115.18it/s]\n",
      "Evaluating Train: 100%|██████████| 4/4 [00:00<00:00, 1164.92it/s]\n",
      "Evaluating Validation: 100%|██████████| 30/30 [00:00<00:00, 9160.54it/s]\n",
      "Evaluating Test: 100%|██████████| 30/30 [00:00<00:00, 9249.42it/s]\n"
     ]
    },
    {
     "name": "stdout",
     "output_type": "stream",
     "text": [
      "Epoch: 001, Train Loss: 1.3961, Train: 0.2500, Val: 0.3333, Test: 0.3333, Std dev: 0.0000\n"
     ]
    },
    {
     "name": "stderr",
     "output_type": "stream",
     "text": [
      "Epoch 02: 100%|██████████| 4/4 [00:00<00:00, 691.02it/s]\n",
      "Evaluating Train: 100%|██████████| 4/4 [00:00<00:00, 1197.18it/s]\n",
      "Evaluating Validation: 100%|██████████| 30/30 [00:00<00:00, 9328.28it/s]\n",
      "Evaluating Test: 100%|██████████| 30/30 [00:00<00:00, 9329.66it/s]\n"
     ]
    },
    {
     "name": "stdout",
     "output_type": "stream",
     "text": [
      "Epoch: 002, Train Loss: 1.4303, Train: 0.5000, Val: 0.3333, Test: 0.3667, Std dev: 0.0171\n"
     ]
    },
    {
     "name": "stderr",
     "output_type": "stream",
     "text": [
      "Epoch 03: 100%|██████████| 4/4 [00:00<00:00, 751.20it/s]\n",
      "Evaluating Train: 100%|██████████| 4/4 [00:00<00:00, 1205.52it/s]\n",
      "Evaluating Validation: 100%|██████████| 30/30 [00:00<00:00, 9323.44it/s]\n",
      "Evaluating Test: 100%|██████████| 30/30 [00:00<00:00, 9284.23it/s]\n"
     ]
    },
    {
     "name": "stdout",
     "output_type": "stream",
     "text": [
      "Epoch: 003, Train Loss: 1.3439, Train: 0.5000, Val: 0.3333, Test: 0.3333, Std dev: 0.0355\n"
     ]
    },
    {
     "name": "stderr",
     "output_type": "stream",
     "text": [
      "Epoch 04: 100%|██████████| 4/4 [00:00<00:00, 605.50it/s]\n",
      "Evaluating Train: 100%|██████████| 4/4 [00:00<00:00, 1220.87it/s]\n",
      "Evaluating Validation: 100%|██████████| 30/30 [00:00<00:00, 9298.63it/s]\n",
      "Evaluating Test: 100%|██████████| 30/30 [00:00<00:00, 9316.53it/s]\n"
     ]
    },
    {
     "name": "stdout",
     "output_type": "stream",
     "text": [
      "Epoch: 004, Train Loss: 1.3946, Train: 0.5000, Val: 0.4000, Test: 0.3333, Std dev: 0.0308\n"
     ]
    },
    {
     "name": "stderr",
     "output_type": "stream",
     "text": [
      "Epoch 05: 100%|██████████| 4/4 [00:00<00:00, 707.45it/s]\n",
      "Evaluating Train: 100%|██████████| 4/4 [00:00<00:00, 1201.29it/s]\n",
      "Evaluating Validation: 100%|██████████| 30/30 [00:00<00:00, 9162.54it/s]\n",
      "Evaluating Test: 100%|██████████| 30/30 [00:00<00:00, 9174.56it/s]\n"
     ]
    },
    {
     "name": "stdout",
     "output_type": "stream",
     "text": [
      "Epoch: 005, Train Loss: 1.3289, Train: 0.5000, Val: 0.3667, Test: 0.3667, Std dev: 0.0372\n"
     ]
    },
    {
     "name": "stderr",
     "output_type": "stream",
     "text": [
      "Epoch 06: 100%|██████████| 4/4 [00:00<00:00, 725.12it/s]\n",
      "Evaluating Train: 100%|██████████| 4/4 [00:00<00:00, 1197.43it/s]\n",
      "Evaluating Validation: 100%|██████████| 30/30 [00:00<00:00, 9270.55it/s]\n",
      "Evaluating Test: 100%|██████████| 30/30 [00:00<00:00, 9267.13it/s]\n"
     ]
    },
    {
     "name": "stdout",
     "output_type": "stream",
     "text": [
      "Epoch: 006, Train Loss: 1.2810, Train: 0.5000, Val: 0.3667, Test: 0.3333, Std dev: 0.0520\n"
     ]
    },
    {
     "name": "stderr",
     "output_type": "stream",
     "text": [
      "Epoch 07: 100%|██████████| 4/4 [00:00<00:00, 722.10it/s]\n",
      "Evaluating Train: 100%|██████████| 4/4 [00:00<00:00, 1173.15it/s]\n",
      "Evaluating Validation: 100%|██████████| 30/30 [00:00<00:00, 9206.11it/s]\n",
      "Evaluating Test: 100%|██████████| 30/30 [00:00<00:00, 9276.70it/s]\n"
     ]
    },
    {
     "name": "stdout",
     "output_type": "stream",
     "text": [
      "Epoch: 007, Train Loss: 1.3341, Train: 0.7500, Val: 0.4000, Test: 0.3667, Std dev: 0.0363\n"
     ]
    },
    {
     "name": "stderr",
     "output_type": "stream",
     "text": [
      "Epoch 08: 100%|██████████| 4/4 [00:00<00:00, 726.07it/s]\n",
      "Evaluating Train: 100%|██████████| 4/4 [00:00<00:00, 1209.26it/s]\n",
      "Evaluating Validation: 100%|██████████| 30/30 [00:00<00:00, 9243.98it/s]\n",
      "Evaluating Test: 100%|██████████| 30/30 [00:00<00:00, 9298.63it/s]\n"
     ]
    },
    {
     "name": "stdout",
     "output_type": "stream",
     "text": [
      "Epoch: 008, Train Loss: 1.2248, Train: 1.0000, Val: 0.4000, Test: 0.3667, Std dev: 0.0569\n"
     ]
    },
    {
     "name": "stderr",
     "output_type": "stream",
     "text": [
      "Epoch 09: 100%|██████████| 4/4 [00:00<00:00, 567.95it/s]\n",
      "Evaluating Train: 100%|██████████| 4/4 [00:00<00:00, 1222.47it/s]\n",
      "Evaluating Validation: 100%|██████████| 30/30 [00:00<00:00, 9230.42it/s]\n",
      "Evaluating Test: 100%|██████████| 30/30 [00:00<00:00, 9315.85it/s]\n"
     ]
    },
    {
     "name": "stdout",
     "output_type": "stream",
     "text": [
      "Epoch: 009, Train Loss: 1.3107, Train: 1.0000, Val: 0.4333, Test: 0.4667, Std dev: 0.0401\n"
     ]
    },
    {
     "name": "stderr",
     "output_type": "stream",
     "text": [
      "Epoch 10: 100%|██████████| 4/4 [00:00<00:00, 751.63it/s]\n",
      "Evaluating Train: 100%|██████████| 4/4 [00:00<00:00, 1206.47it/s]\n",
      "Evaluating Validation: 100%|██████████| 30/30 [00:00<00:00, 9382.53it/s]\n",
      "Evaluating Test: 100%|██████████| 30/30 [00:00<00:00, 9385.33it/s]\n"
     ]
    },
    {
     "name": "stdout",
     "output_type": "stream",
     "text": [
      "Epoch: 010, Train Loss: 1.2437, Train: 1.0000, Val: 0.4333, Test: 0.4667, Std dev: 0.0406\n"
     ]
    },
    {
     "name": "stderr",
     "output_type": "stream",
     "text": [
      "Epoch 11: 100%|██████████| 4/4 [00:00<00:00, 724.91it/s]\n",
      "Evaluating Train: 100%|██████████| 4/4 [00:00<00:00, 1192.50it/s]\n",
      "Evaluating Validation: 100%|██████████| 30/30 [00:00<00:00, 9280.12it/s]\n",
      "Evaluating Test: 100%|██████████| 30/30 [00:00<00:00, 9323.44it/s]\n"
     ]
    },
    {
     "name": "stdout",
     "output_type": "stream",
     "text": [
      "Epoch: 011, Train Loss: 1.2564, Train: 1.0000, Val: 0.4333, Test: 0.4000, Std dev: 0.0415\n"
     ]
    },
    {
     "name": "stderr",
     "output_type": "stream",
     "text": [
      "Epoch 12: 100%|██████████| 4/4 [00:00<00:00, 728.05it/s]\n",
      "Evaluating Train: 100%|██████████| 4/4 [00:00<00:00, 1212.05it/s]\n",
      "Evaluating Validation: 100%|██████████| 30/30 [00:00<00:00, 9255.54it/s]\n",
      "Evaluating Test: 100%|██████████| 30/30 [00:00<00:00, 9346.29it/s]\n"
     ]
    },
    {
     "name": "stdout",
     "output_type": "stream",
     "text": [
      "Epoch: 012, Train Loss: 1.1962, Train: 1.0000, Val: 0.4333, Test: 0.4667, Std dev: 0.0380\n"
     ]
    },
    {
     "name": "stderr",
     "output_type": "stream",
     "text": [
      "Epoch 13: 100%|██████████| 4/4 [00:00<00:00, 714.47it/s]\n",
      "Evaluating Train: 100%|██████████| 4/4 [00:00<00:00, 1192.41it/s]\n",
      "Evaluating Validation: 100%|██████████| 30/30 [00:00<00:00, 9333.81it/s]\n",
      "Evaluating Test: 100%|██████████| 30/30 [00:00<00:00, 9210.83it/s]\n"
     ]
    },
    {
     "name": "stdout",
     "output_type": "stream",
     "text": [
      "Epoch: 013, Train Loss: 1.1847, Train: 1.0000, Val: 0.4333, Test: 0.4000, Std dev: 0.0453\n"
     ]
    },
    {
     "name": "stderr",
     "output_type": "stream",
     "text": [
      "Epoch 14: 100%|██████████| 4/4 [00:00<00:00, 685.40it/s]\n",
      "Evaluating Train: 100%|██████████| 4/4 [00:00<00:00, 1191.82it/s]\n",
      "Evaluating Validation: 100%|██████████| 30/30 [00:00<00:00, 9241.27it/s]\n",
      "Evaluating Test: 100%|██████████| 30/30 [00:00<00:00, 9060.28it/s]\n"
     ]
    },
    {
     "name": "stdout",
     "output_type": "stream",
     "text": [
      "Epoch: 014, Train Loss: 1.1438, Train: 1.0000, Val: 0.4667, Test: 0.4667, Std dev: 0.0409\n"
     ]
    },
    {
     "name": "stderr",
     "output_type": "stream",
     "text": [
      "Epoch 15: 100%|██████████| 4/4 [00:00<00:00, 704.98it/s]\n",
      "Evaluating Train: 100%|██████████| 4/4 [00:00<00:00, 1192.75it/s]\n",
      "Evaluating Validation: 100%|██████████| 30/30 [00:00<00:00, 9278.07it/s]\n",
      "Evaluating Test: 100%|██████████| 30/30 [00:00<00:00, 9238.56it/s]\n"
     ]
    },
    {
     "name": "stdout",
     "output_type": "stream",
     "text": [
      "Epoch: 015, Train Loss: 1.1975, Train: 1.0000, Val: 0.4667, Test: 0.4667, Std dev: 0.0361\n"
     ]
    },
    {
     "name": "stderr",
     "output_type": "stream",
     "text": [
      "Epoch 16: 100%|██████████| 4/4 [00:00<00:00, 718.57it/s]\n",
      "Evaluating Train: 100%|██████████| 4/4 [00:00<00:00, 1194.62it/s]\n",
      "Evaluating Validation: 100%|██████████| 30/30 [00:00<00:00, 9225.01it/s]\n",
      "Evaluating Test: 100%|██████████| 30/30 [00:00<00:00, 9304.82it/s]\n"
     ]
    },
    {
     "name": "stdout",
     "output_type": "stream",
     "text": [
      "Epoch: 016, Train Loss: 1.1577, Train: 1.0000, Val: 0.5333, Test: 0.5333, Std dev: 0.0215\n"
     ]
    },
    {
     "name": "stderr",
     "output_type": "stream",
     "text": [
      "Epoch 17: 100%|██████████| 4/4 [00:00<00:00, 719.56it/s]\n",
      "Evaluating Train: 100%|██████████| 4/4 [00:00<00:00, 1196.83it/s]\n",
      "Evaluating Validation: 100%|██████████| 30/30 [00:00<00:00, 9020.66it/s]\n",
      "Evaluating Test: 100%|██████████| 30/30 [00:00<00:00, 9273.96it/s]\n"
     ]
    },
    {
     "name": "stdout",
     "output_type": "stream",
     "text": [
      "Epoch: 017, Train Loss: 1.0870, Train: 1.0000, Val: 0.4667, Test: 0.5000, Std dev: 0.0386\n"
     ]
    },
    {
     "name": "stderr",
     "output_type": "stream",
     "text": [
      "Epoch 18: 100%|██████████| 4/4 [00:00<00:00, 726.32it/s]\n",
      "Evaluating Train: 100%|██████████| 4/4 [00:00<00:00, 1193.60it/s]\n",
      "Evaluating Validation: 100%|██████████| 30/30 [00:00<00:00, 9271.23it/s]\n",
      "Evaluating Test: 100%|██████████| 30/30 [00:00<00:00, 9229.75it/s]\n"
     ]
    },
    {
     "name": "stdout",
     "output_type": "stream",
     "text": [
      "Epoch: 018, Train Loss: 1.0742, Train: 1.0000, Val: 0.5000, Test: 0.4667, Std dev: 0.0457\n"
     ]
    },
    {
     "name": "stderr",
     "output_type": "stream",
     "text": [
      "Epoch 19: 100%|██████████| 4/4 [00:00<00:00, 709.70it/s]\n",
      "Evaluating Train: 100%|██████████| 4/4 [00:00<00:00, 1201.81it/s]\n",
      "Evaluating Validation: 100%|██████████| 30/30 [00:00<00:00, 9173.22it/s]\n",
      "Evaluating Test: 100%|██████████| 30/30 [00:00<00:00, 9174.56it/s]\n"
     ]
    },
    {
     "name": "stdout",
     "output_type": "stream",
     "text": [
      "Epoch: 019, Train Loss: 1.0688, Train: 1.0000, Val: 0.5333, Test: 0.5000, Std dev: 0.0514\n"
     ]
    },
    {
     "name": "stderr",
     "output_type": "stream",
     "text": [
      "Epoch 20: 100%|██████████| 4/4 [00:00<00:00, 719.68it/s]\n",
      "Evaluating Train: 100%|██████████| 4/4 [00:00<00:00, 1206.56it/s]\n",
      "Evaluating Validation: 100%|██████████| 30/30 [00:00<00:00, 9221.63it/s]\n",
      "Evaluating Test: 100%|██████████| 30/30 [00:00<00:00, 9228.39it/s]\n"
     ]
    },
    {
     "name": "stdout",
     "output_type": "stream",
     "text": [
      "Epoch: 020, Train Loss: 1.1028, Train: 1.0000, Val: 0.5000, Test: 0.5333, Std dev: 0.0320\n"
     ]
    },
    {
     "name": "stderr",
     "output_type": "stream",
     "text": [
      "Epoch 21: 100%|██████████| 4/4 [00:00<00:00, 715.17it/s]\n",
      "Evaluating Train: 100%|██████████| 4/4 [00:00<00:00, 1197.60it/s]\n",
      "Evaluating Validation: 100%|██████████| 30/30 [00:00<00:00, 9169.88it/s]\n",
      "Evaluating Test: 100%|██████████| 30/30 [00:00<00:00, 9246.70it/s]\n"
     ]
    },
    {
     "name": "stdout",
     "output_type": "stream",
     "text": [
      "Epoch: 021, Train Loss: 1.0123, Train: 1.0000, Val: 0.6000, Test: 0.6333, Std dev: 0.0307\n"
     ]
    },
    {
     "name": "stderr",
     "output_type": "stream",
     "text": [
      "Epoch 22: 100%|██████████| 4/4 [00:00<00:00, 742.12it/s]\n",
      "Evaluating Train: 100%|██████████| 4/4 [00:00<00:00, 1194.02it/s]\n",
      "Evaluating Validation: 100%|██████████| 30/30 [00:00<00:00, 8677.87it/s]\n",
      "Evaluating Test: 100%|██████████| 30/30 [00:00<00:00, 9240.59it/s]\n"
     ]
    },
    {
     "name": "stdout",
     "output_type": "stream",
     "text": [
      "Epoch: 022, Train Loss: 0.9858, Train: 1.0000, Val: 0.6000, Test: 0.6667, Std dev: 0.0430\n"
     ]
    },
    {
     "name": "stderr",
     "output_type": "stream",
     "text": [
      "Epoch 23: 100%|██████████| 4/4 [00:00<00:00, 724.34it/s]\n",
      "Evaluating Train: 100%|██████████| 4/4 [00:00<00:00, 1217.77it/s]\n",
      "Evaluating Validation: 100%|██████████| 30/30 [00:00<00:00, 9273.96it/s]\n",
      "Evaluating Test: 100%|██████████| 30/30 [00:00<00:00, 9198.71it/s]\n"
     ]
    },
    {
     "name": "stdout",
     "output_type": "stream",
     "text": [
      "Epoch: 023, Train Loss: 0.9680, Train: 1.0000, Val: 0.5667, Test: 0.6333, Std dev: 0.0508\n"
     ]
    },
    {
     "name": "stderr",
     "output_type": "stream",
     "text": [
      "Epoch 24: 100%|██████████| 4/4 [00:00<00:00, 715.78it/s]\n",
      "Evaluating Train: 100%|██████████| 4/4 [00:00<00:00, 1200.17it/s]\n",
      "Evaluating Validation: 100%|██████████| 30/30 [00:00<00:00, 9319.99it/s]\n",
      "Evaluating Test: 100%|██████████| 30/30 [00:00<00:00, 9284.23it/s]\n"
     ]
    },
    {
     "name": "stdout",
     "output_type": "stream",
     "text": [
      "Epoch: 024, Train Loss: 1.0004, Train: 1.0000, Val: 0.6000, Test: 0.5667, Std dev: 0.0469\n"
     ]
    },
    {
     "name": "stderr",
     "output_type": "stream",
     "text": [
      "Epoch 25: 100%|██████████| 4/4 [00:00<00:00, 708.59it/s]\n",
      "Evaluating Train: 100%|██████████| 4/4 [00:00<00:00, 1219.19it/s]\n",
      "Evaluating Validation: 100%|██████████| 30/30 [00:00<00:00, 9221.63it/s]\n",
      "Evaluating Test: 100%|██████████| 30/30 [00:00<00:00, 9267.81it/s]\n"
     ]
    },
    {
     "name": "stdout",
     "output_type": "stream",
     "text": [
      "Epoch: 025, Train Loss: 0.8990, Train: 1.0000, Val: 0.6667, Test: 0.6333, Std dev: 0.0399\n"
     ]
    },
    {
     "name": "stderr",
     "output_type": "stream",
     "text": [
      "Epoch 26: 100%|██████████| 4/4 [00:00<00:00, 708.44it/s]\n",
      "Evaluating Train: 100%|██████████| 4/4 [00:00<00:00, 1208.30it/s]\n",
      "Evaluating Validation: 100%|██████████| 30/30 [00:00<00:00, 9284.23it/s]\n",
      "Evaluating Test: 100%|██████████| 30/30 [00:00<00:00, 9216.90it/s]\n"
     ]
    },
    {
     "name": "stdout",
     "output_type": "stream",
     "text": [
      "Epoch: 026, Train Loss: 0.8743, Train: 1.0000, Val: 0.6667, Test: 0.7000, Std dev: 0.0498\n"
     ]
    },
    {
     "name": "stderr",
     "output_type": "stream",
     "text": [
      "Epoch 27: 100%|██████████| 4/4 [00:00<00:00, 713.65it/s]\n",
      "Evaluating Train: 100%|██████████| 4/4 [00:00<00:00, 1142.94it/s]\n",
      "Evaluating Validation: 100%|██████████| 30/30 [00:00<00:00, 9279.43it/s]\n",
      "Evaluating Test: 100%|██████████| 30/30 [00:00<00:00, 9195.35it/s]\n"
     ]
    },
    {
     "name": "stdout",
     "output_type": "stream",
     "text": [
      "Epoch: 027, Train Loss: 0.7585, Train: 1.0000, Val: 0.6333, Test: 0.7000, Std dev: 0.0841\n"
     ]
    },
    {
     "name": "stderr",
     "output_type": "stream",
     "text": [
      "Epoch 28: 100%|██████████| 4/4 [00:00<00:00, 710.84it/s]\n",
      "Evaluating Train: 100%|██████████| 4/4 [00:00<00:00, 1207.95it/s]\n",
      "Evaluating Validation: 100%|██████████| 30/30 [00:00<00:00, 9219.60it/s]\n",
      "Evaluating Test: 100%|██████████| 30/30 [00:00<00:00, 9244.66it/s]\n"
     ]
    },
    {
     "name": "stdout",
     "output_type": "stream",
     "text": [
      "Epoch: 028, Train Loss: 0.7748, Train: 1.0000, Val: 0.7000, Test: 0.7000, Std dev: 0.0883\n"
     ]
    },
    {
     "name": "stderr",
     "output_type": "stream",
     "text": [
      "Epoch 29: 100%|██████████| 4/4 [00:00<00:00, 589.15it/s]\n",
      "Evaluating Train: 100%|██████████| 4/4 [00:00<00:00, 1193.34it/s]\n",
      "Evaluating Validation: 100%|██████████| 30/30 [00:00<00:00, 9272.60it/s]\n",
      "Evaluating Test: 100%|██████████| 30/30 [00:00<00:00, 9185.95it/s]\n"
     ]
    },
    {
     "name": "stdout",
     "output_type": "stream",
     "text": [
      "Epoch: 029, Train Loss: 0.7783, Train: 1.0000, Val: 0.6667, Test: 0.7333, Std dev: 0.0578\n"
     ]
    },
    {
     "name": "stderr",
     "output_type": "stream",
     "text": [
      "Epoch 30: 100%|██████████| 4/4 [00:00<00:00, 725.56it/s]\n",
      "Evaluating Train: 100%|██████████| 4/4 [00:00<00:00, 1199.06it/s]\n",
      "Evaluating Validation: 100%|██████████| 30/30 [00:00<00:00, 9288.34it/s]\n",
      "Evaluating Test: 100%|██████████| 30/30 [00:00<00:00, 9147.22it/s]\n"
     ]
    },
    {
     "name": "stdout",
     "output_type": "stream",
     "text": [
      "Epoch: 030, Train Loss: 0.8096, Train: 1.0000, Val: 0.7333, Test: 0.7333, Std dev: 0.0411\n"
     ]
    },
    {
     "name": "stderr",
     "output_type": "stream",
     "text": [
      "Epoch 31: 100%|██████████| 4/4 [00:00<00:00, 723.56it/s]\n",
      "Evaluating Train: 100%|██████████| 4/4 [00:00<00:00, 1210.83it/s]\n",
      "Evaluating Validation: 100%|██████████| 30/30 [00:00<00:00, 9273.96it/s]\n",
      "Evaluating Test: 100%|██████████| 30/30 [00:00<00:00, 9169.88it/s]\n"
     ]
    },
    {
     "name": "stdout",
     "output_type": "stream",
     "text": [
      "Epoch: 031, Train Loss: 0.6915, Train: 1.0000, Val: 0.7000, Test: 0.7333, Std dev: 0.0392\n"
     ]
    },
    {
     "name": "stderr",
     "output_type": "stream",
     "text": [
      "Epoch 32: 100%|██████████| 4/4 [00:00<00:00, 718.29it/s]\n",
      "Evaluating Train: 100%|██████████| 4/4 [00:00<00:00, 1210.13it/s]\n",
      "Evaluating Validation: 100%|██████████| 30/30 [00:00<00:00, 9277.38it/s]\n",
      "Evaluating Test: 100%|██████████| 30/30 [00:00<00:00, 9273.28it/s]\n"
     ]
    },
    {
     "name": "stdout",
     "output_type": "stream",
     "text": [
      "Epoch: 032, Train Loss: 0.6315, Train: 1.0000, Val: 0.7667, Test: 0.6667, Std dev: 0.0657\n"
     ]
    },
    {
     "name": "stderr",
     "output_type": "stream",
     "text": [
      "Epoch 33: 100%|██████████| 4/4 [00:00<00:00, 710.12it/s]\n",
      "Evaluating Train: 100%|██████████| 4/4 [00:00<00:00, 1192.50it/s]\n",
      "Evaluating Validation: 100%|██████████| 30/30 [00:00<00:00, 9265.09it/s]\n",
      "Evaluating Test: 100%|██████████| 30/30 [00:00<00:00, 9017.42it/s]\n"
     ]
    },
    {
     "name": "stdout",
     "output_type": "stream",
     "text": [
      "Epoch: 033, Train Loss: 0.5581, Train: 1.0000, Val: 0.7333, Test: 0.7333, Std dev: 0.0926\n"
     ]
    },
    {
     "name": "stderr",
     "output_type": "stream",
     "text": [
      "Epoch 34: 100%|██████████| 4/4 [00:00<00:00, 711.59it/s]\n",
      "Evaluating Train: 100%|██████████| 4/4 [00:00<00:00, 1201.81it/s]\n",
      "Evaluating Validation: 100%|██████████| 30/30 [00:00<00:00, 9203.42it/s]\n",
      "Evaluating Test: 100%|██████████| 30/30 [00:00<00:00, 9179.92it/s]\n"
     ]
    },
    {
     "name": "stdout",
     "output_type": "stream",
     "text": [
      "Epoch: 034, Train Loss: 0.5613, Train: 1.0000, Val: 0.7333, Test: 0.7333, Std dev: 0.0937\n"
     ]
    },
    {
     "name": "stderr",
     "output_type": "stream",
     "text": [
      "Epoch 35: 100%|██████████| 4/4 [00:00<00:00, 713.07it/s]\n",
      "Evaluating Train: 100%|██████████| 4/4 [00:00<00:00, 1182.83it/s]\n",
      "Evaluating Validation: 100%|██████████| 30/30 [00:00<00:00, 9206.78it/s]\n",
      "Evaluating Test: 100%|██████████| 30/30 [00:00<00:00, 9246.02it/s]\n"
     ]
    },
    {
     "name": "stdout",
     "output_type": "stream",
     "text": [
      "Epoch: 035, Train Loss: 0.6034, Train: 1.0000, Val: 0.7000, Test: 0.7333, Std dev: 0.0494\n"
     ]
    },
    {
     "name": "stderr",
     "output_type": "stream",
     "text": [
      "Epoch 36: 100%|██████████| 4/4 [00:00<00:00, 686.89it/s]\n",
      "Evaluating Train: 100%|██████████| 4/4 [00:00<00:00, 1188.78it/s]\n",
      "Evaluating Validation: 100%|██████████| 30/30 [00:00<00:00, 9266.45it/s]\n",
      "Evaluating Test: 100%|██████████| 30/30 [00:00<00:00, 9264.40it/s]\n"
     ]
    },
    {
     "name": "stdout",
     "output_type": "stream",
     "text": [
      "Epoch: 036, Train Loss: 0.5590, Train: 1.0000, Val: 0.7333, Test: 0.7000, Std dev: 0.0298\n"
     ]
    },
    {
     "name": "stderr",
     "output_type": "stream",
     "text": [
      "Epoch 37: 100%|██████████| 4/4 [00:00<00:00, 699.90it/s]\n",
      "Evaluating Train: 100%|██████████| 4/4 [00:00<00:00, 1140.22it/s]\n",
      "Evaluating Validation: 100%|██████████| 30/30 [00:00<00:00, 9273.96it/s]\n",
      "Evaluating Test: 100%|██████████| 30/30 [00:00<00:00, 9278.75it/s]\n"
     ]
    },
    {
     "name": "stdout",
     "output_type": "stream",
     "text": [
      "Epoch: 037, Train Loss: 0.5507, Train: 1.0000, Val: 0.7333, Test: 0.7333, Std dev: 0.0188\n"
     ]
    },
    {
     "name": "stderr",
     "output_type": "stream",
     "text": [
      "Epoch 38: 100%|██████████| 4/4 [00:00<00:00, 738.82it/s]\n",
      "Evaluating Train: 100%|██████████| 4/4 [00:00<00:00, 1186.00it/s]\n",
      "Evaluating Validation: 100%|██████████| 30/30 [00:00<00:00, 9286.28it/s]\n",
      "Evaluating Test: 100%|██████████| 30/30 [00:00<00:00, 9233.81it/s]\n"
     ]
    },
    {
     "name": "stdout",
     "output_type": "stream",
     "text": [
      "Epoch: 038, Train Loss: 0.4602, Train: 1.0000, Val: 0.7333, Test: 0.7000, Std dev: 0.0471\n"
     ]
    },
    {
     "name": "stderr",
     "output_type": "stream",
     "text": [
      "Epoch 39: 100%|██████████| 4/4 [00:00<00:00, 719.71it/s]\n",
      "Evaluating Train: 100%|██████████| 4/4 [00:00<00:00, 1204.22it/s]\n",
      "Evaluating Validation: 100%|██████████| 30/30 [00:00<00:00, 9241.27it/s]\n",
      "Evaluating Test: 100%|██████████| 30/30 [00:00<00:00, 9216.90it/s]\n"
     ]
    },
    {
     "name": "stdout",
     "output_type": "stream",
     "text": [
      "Epoch: 039, Train Loss: 0.4250, Train: 1.0000, Val: 0.7000, Test: 0.7000, Std dev: 0.0664\n"
     ]
    },
    {
     "name": "stderr",
     "output_type": "stream",
     "text": [
      "Epoch 40: 100%|██████████| 4/4 [00:00<00:00, 707.69it/s]\n",
      "Evaluating Train: 100%|██████████| 4/4 [00:00<00:00, 1186.68it/s]\n",
      "Evaluating Validation: 100%|██████████| 30/30 [00:00<00:00, 9280.80it/s]\n",
      "Evaluating Test: 100%|██████████| 30/30 [00:00<00:00, 9200.05it/s]\n"
     ]
    },
    {
     "name": "stdout",
     "output_type": "stream",
     "text": [
      "Epoch: 040, Train Loss: 0.4674, Train: 1.0000, Val: 0.7000, Test: 0.6667, Std dev: 0.0530\n"
     ]
    },
    {
     "name": "stderr",
     "output_type": "stream",
     "text": [
      "Epoch 41: 100%|██████████| 4/4 [00:00<00:00, 703.45it/s]\n",
      "Evaluating Train: 100%|██████████| 4/4 [00:00<00:00, 1173.15it/s]\n",
      "Evaluating Validation: 100%|██████████| 30/30 [00:00<00:00, 9150.54it/s]\n",
      "Evaluating Test: 100%|██████████| 30/30 [00:00<00:00, 9094.33it/s]\n"
     ]
    },
    {
     "name": "stdout",
     "output_type": "stream",
     "text": [
      "Epoch: 041, Train Loss: 0.3989, Train: 1.0000, Val: 0.7000, Test: 0.6667, Std dev: 0.0515\n"
     ]
    },
    {
     "name": "stderr",
     "output_type": "stream",
     "text": [
      "Epoch 42: 100%|██████████| 4/4 [00:00<00:00, 696.96it/s]\n",
      "Evaluating Train: 100%|██████████| 4/4 [00:00<00:00, 1192.50it/s]\n",
      "Evaluating Validation: 100%|██████████| 30/30 [00:00<00:00, 9160.54it/s]\n",
      "Evaluating Test: 100%|██████████| 30/30 [00:00<00:00, 9077.93it/s]\n"
     ]
    },
    {
     "name": "stdout",
     "output_type": "stream",
     "text": [
      "Epoch: 042, Train Loss: 0.4064, Train: 1.0000, Val: 0.6333, Test: 0.7000, Std dev: 0.0277\n"
     ]
    },
    {
     "name": "stderr",
     "output_type": "stream",
     "text": [
      "Epoch 43: 100%|██████████| 4/4 [00:00<00:00, 723.25it/s]\n",
      "Evaluating Train: 100%|██████████| 4/4 [00:00<00:00, 1194.53it/s]\n",
      "Evaluating Validation: 100%|██████████| 30/30 [00:00<00:00, 9025.83it/s]\n",
      "Evaluating Test: 100%|██████████| 30/30 [00:00<00:00, 9101.56it/s]\n"
     ]
    },
    {
     "name": "stdout",
     "output_type": "stream",
     "text": [
      "Epoch: 043, Train Loss: 0.4435, Train: 1.0000, Val: 0.6333, Test: 0.6667, Std dev: 0.0250\n"
     ]
    },
    {
     "name": "stderr",
     "output_type": "stream",
     "text": [
      "Epoch 44: 100%|██████████| 4/4 [00:00<00:00, 716.64it/s]\n",
      "Evaluating Train: 100%|██████████| 4/4 [00:00<00:00, 1179.92it/s]\n",
      "Evaluating Validation: 100%|██████████| 30/30 [00:00<00:00, 9110.79it/s]\n",
      "Evaluating Test: 100%|██████████| 30/30 [00:00<00:00, 9079.24it/s]\n"
     ]
    },
    {
     "name": "stdout",
     "output_type": "stream",
     "text": [
      "Epoch: 044, Train Loss: 0.3023, Train: 1.0000, Val: 0.6333, Test: 0.6667, Std dev: 0.0565\n"
     ]
    },
    {
     "name": "stderr",
     "output_type": "stream",
     "text": [
      "Epoch 45: 100%|██████████| 4/4 [00:00<00:00, 712.26it/s]\n",
      "Evaluating Train: 100%|██████████| 4/4 [00:00<00:00, 1183.91it/s]\n",
      "Evaluating Validation: 100%|██████████| 30/30 [00:00<00:00, 9135.93it/s]\n",
      "Evaluating Test: 100%|██████████| 30/30 [00:00<00:00, 9053.11it/s]\n"
     ]
    },
    {
     "name": "stdout",
     "output_type": "stream",
     "text": [
      "Epoch: 045, Train Loss: 0.3539, Train: 1.0000, Val: 0.5667, Test: 0.6667, Std dev: 0.0486\n"
     ]
    },
    {
     "name": "stderr",
     "output_type": "stream",
     "text": [
      "Epoch 46: 100%|██████████| 4/4 [00:00<00:00, 720.76it/s]\n",
      "Evaluating Train: 100%|██████████| 4/4 [00:00<00:00, 1188.61it/s]\n",
      "Evaluating Validation: 100%|██████████| 30/30 [00:00<00:00, 9103.54it/s]\n",
      "Evaluating Test: 100%|██████████| 30/30 [00:00<00:00, 9026.48it/s]\n"
     ]
    },
    {
     "name": "stdout",
     "output_type": "stream",
     "text": [
      "Epoch: 046, Train Loss: 0.4226, Train: 1.0000, Val: 0.7333, Test: 0.6333, Std dev: 0.0512\n"
     ]
    },
    {
     "name": "stderr",
     "output_type": "stream",
     "text": [
      "Epoch 47: 100%|██████████| 4/4 [00:00<00:00, 706.65it/s]\n",
      "Evaluating Train: 100%|██████████| 4/4 [00:00<00:00, 1184.00it/s]\n",
      "Evaluating Validation: 100%|██████████| 30/30 [00:00<00:00, 8831.97it/s]\n",
      "Evaluating Test: 100%|██████████| 30/30 [00:00<00:00, 9019.36it/s]\n"
     ]
    },
    {
     "name": "stdout",
     "output_type": "stream",
     "text": [
      "Epoch: 047, Train Loss: 0.2964, Train: 1.0000, Val: 0.6667, Test: 0.7000, Std dev: 0.0604\n"
     ]
    },
    {
     "name": "stderr",
     "output_type": "stream",
     "text": [
      "Epoch 48: 100%|██████████| 4/4 [00:00<00:00, 722.53it/s]\n",
      "Evaluating Train: 100%|██████████| 4/4 [00:00<00:00, 1190.63it/s]\n",
      "Evaluating Validation: 100%|██████████| 30/30 [00:00<00:00, 9131.29it/s]\n",
      "Evaluating Test: 100%|██████████| 30/30 [00:00<00:00, 9032.96it/s]\n"
     ]
    },
    {
     "name": "stdout",
     "output_type": "stream",
     "text": [
      "Epoch: 048, Train Loss: 0.2325, Train: 1.0000, Val: 0.7000, Test: 0.6333, Std dev: 0.0635\n"
     ]
    },
    {
     "name": "stderr",
     "output_type": "stream",
     "text": [
      "Epoch 49: 100%|██████████| 4/4 [00:00<00:00, 716.42it/s]\n",
      "Evaluating Train: 100%|██████████| 4/4 [00:00<00:00, 1194.53it/s]\n",
      "Evaluating Validation: 100%|██████████| 30/30 [00:00<00:00, 9130.62it/s]\n",
      "Evaluating Test: 100%|██████████| 30/30 [00:00<00:00, 9030.37it/s]\n"
     ]
    },
    {
     "name": "stdout",
     "output_type": "stream",
     "text": [
      "Epoch: 049, Train Loss: 0.4202, Train: 1.0000, Val: 0.7000, Test: 0.7333, Std dev: 0.0732\n"
     ]
    },
    {
     "name": "stderr",
     "output_type": "stream",
     "text": [
      "Epoch 50: 100%|██████████| 4/4 [00:00<00:00, 717.59it/s]\n",
      "Evaluating Train: 100%|██████████| 4/4 [00:00<00:00, 1186.76it/s]\n",
      "Evaluating Validation: 100%|██████████| 30/30 [00:00<00:00, 8877.46it/s]\n",
      "Evaluating Test: 100%|██████████| 30/30 [00:00<00:00, 9061.58it/s]\n"
     ]
    },
    {
     "name": "stdout",
     "output_type": "stream",
     "text": [
      "Epoch: 050, Train Loss: 0.2101, Train: 1.0000, Val: 0.7333, Test: 0.6667, Std dev: 0.0903\n"
     ]
    },
    {
     "name": "stderr",
     "output_type": "stream",
     "text": [
      "Epoch 51: 100%|██████████| 4/4 [00:00<00:00, 719.47it/s]\n",
      "Evaluating Train: 100%|██████████| 4/4 [00:00<00:00, 1209.08it/s]\n",
      "Evaluating Validation: 100%|██████████| 30/30 [00:00<00:00, 9102.88it/s]\n",
      "Evaluating Test: 100%|██████████| 30/30 [00:00<00:00, 9029.72it/s]\n"
     ]
    },
    {
     "name": "stdout",
     "output_type": "stream",
     "text": [
      "Epoch: 051, Train Loss: 0.2626, Train: 1.0000, Val: 0.7333, Test: 0.6667, Std dev: 0.0738\n"
     ]
    },
    {
     "name": "stderr",
     "output_type": "stream",
     "text": [
      "Epoch 52: 100%|██████████| 4/4 [00:00<00:00, 715.81it/s]\n",
      "Evaluating Train: 100%|██████████| 4/4 [00:00<00:00, 1184.75it/s]\n",
      "Evaluating Validation: 100%|██████████| 30/30 [00:00<00:00, 9137.25it/s]\n",
      "Evaluating Test: 100%|██████████| 30/30 [00:00<00:00, 8949.44it/s]\n"
     ]
    },
    {
     "name": "stdout",
     "output_type": "stream",
     "text": [
      "Epoch: 052, Train Loss: 0.2235, Train: 1.0000, Val: 0.7000, Test: 0.6667, Std dev: 0.0771\n"
     ]
    },
    {
     "name": "stderr",
     "output_type": "stream",
     "text": [
      "Epoch 53: 100%|██████████| 4/4 [00:00<00:00, 719.47it/s]\n",
      "Evaluating Train: 100%|██████████| 4/4 [00:00<00:00, 1193.17it/s]\n",
      "Evaluating Validation: 100%|██████████| 30/30 [00:00<00:00, 6569.00it/s]\n",
      "Evaluating Test: 100%|██████████| 30/30 [00:00<00:00, 9108.81it/s]\n"
     ]
    },
    {
     "name": "stdout",
     "output_type": "stream",
     "text": [
      "Epoch: 053, Train Loss: 0.1226, Train: 1.0000, Val: 0.6667, Test: 0.6667, Std dev: 0.0976\n"
     ]
    },
    {
     "name": "stderr",
     "output_type": "stream",
     "text": [
      "Epoch 54: 100%|██████████| 4/4 [00:00<00:00, 682.97it/s]\n",
      "Evaluating Train: 100%|██████████| 4/4 [00:00<00:00, 1171.84it/s]\n",
      "Evaluating Validation: 100%|██████████| 30/30 [00:00<00:00, 9104.86it/s]\n",
      "Evaluating Test: 100%|██████████| 30/30 [00:00<00:00, 9126.65it/s]\n"
     ]
    },
    {
     "name": "stdout",
     "output_type": "stream",
     "text": [
      "Epoch: 054, Train Loss: 0.1523, Train: 1.0000, Val: 0.7000, Test: 0.7000, Std dev: 0.0503\n"
     ]
    },
    {
     "name": "stderr",
     "output_type": "stream",
     "text": [
      "Epoch 55: 100%|██████████| 4/4 [00:00<00:00, 715.54it/s]\n",
      "Evaluating Train: 100%|██████████| 4/4 [00:00<00:00, 1169.88it/s]\n",
      "Evaluating Validation: 100%|██████████| 30/30 [00:00<00:00, 9130.62it/s]\n",
      "Evaluating Test: 100%|██████████| 30/30 [00:00<00:00, 9151.87it/s]\n"
     ]
    },
    {
     "name": "stdout",
     "output_type": "stream",
     "text": [
      "Epoch: 055, Train Loss: 0.0855, Train: 1.0000, Val: 0.6333, Test: 0.6667, Std dev: 0.0650\n"
     ]
    },
    {
     "name": "stderr",
     "output_type": "stream",
     "text": [
      "Epoch 56: 100%|██████████| 4/4 [00:00<00:00, 736.72it/s]\n",
      "Evaluating Train: 100%|██████████| 4/4 [00:00<00:00, 1179.50it/s]\n",
      "Evaluating Validation: 100%|██████████| 30/30 [00:00<00:00, 9151.87it/s]\n",
      "Evaluating Test: 100%|██████████| 30/30 [00:00<00:00, 9172.56it/s]\n"
     ]
    },
    {
     "name": "stdout",
     "output_type": "stream",
     "text": [
      "Epoch: 056, Train Loss: 0.1240, Train: 1.0000, Val: 0.6667, Test: 0.7000, Std dev: 0.0461\n"
     ]
    },
    {
     "name": "stderr",
     "output_type": "stream",
     "text": [
      "Epoch 57: 100%|██████████| 4/4 [00:00<00:00, 721.07it/s]\n",
      "Evaluating Train: 100%|██████████| 4/4 [00:00<00:00, 1186.17it/s]\n",
      "Evaluating Validation: 100%|██████████| 30/30 [00:00<00:00, 9139.24it/s]\n",
      "Evaluating Test: 100%|██████████| 30/30 [00:00<00:00, 9147.22it/s]\n"
     ]
    },
    {
     "name": "stdout",
     "output_type": "stream",
     "text": [
      "Epoch: 057, Train Loss: 0.1014, Train: 1.0000, Val: 0.6333, Test: 0.7000, Std dev: 0.0226\n"
     ]
    },
    {
     "name": "stderr",
     "output_type": "stream",
     "text": [
      "Epoch 58: 100%|██████████| 4/4 [00:00<00:00, 709.61it/s]\n",
      "Evaluating Train: 100%|██████████| 4/4 [00:00<00:00, 1174.79it/s]\n",
      "Evaluating Validation: 100%|██████████| 30/30 [00:00<00:00, 9144.56it/s]\n",
      "Evaluating Test: 100%|██████████| 30/30 [00:00<00:00, 9159.20it/s]\n"
     ]
    },
    {
     "name": "stdout",
     "output_type": "stream",
     "text": [
      "Epoch: 058, Train Loss: 0.1004, Train: 1.0000, Val: 0.6333, Test: 0.6667, Std dev: 0.0233\n"
     ]
    },
    {
     "name": "stderr",
     "output_type": "stream",
     "text": [
      "Epoch 59: 100%|██████████| 4/4 [00:00<00:00, 720.27it/s]\n",
      "Evaluating Train: 100%|██████████| 4/4 [00:00<00:00, 1199.83it/s]\n",
      "Evaluating Validation: 100%|██████████| 30/30 [00:00<00:00, 8978.82it/s]\n",
      "Evaluating Test: 100%|██████████| 30/30 [00:00<00:00, 9043.35it/s]\n"
     ]
    },
    {
     "name": "stdout",
     "output_type": "stream",
     "text": [
      "Epoch: 059, Train Loss: 0.1090, Train: 1.0000, Val: 0.6000, Test: 0.6333, Std dev: 0.0125\n"
     ]
    },
    {
     "name": "stderr",
     "output_type": "stream",
     "text": [
      "Epoch 60: 100%|██████████| 4/4 [00:00<00:00, 722.63it/s]\n",
      "Evaluating Train: 100%|██████████| 4/4 [00:00<00:00, 1174.71it/s]\n",
      "Evaluating Validation: 100%|██████████| 30/30 [00:00<00:00, 9131.95it/s]\n",
      "Evaluating Test: 100%|██████████| 30/30 [00:00<00:00, 9127.97it/s]\n"
     ]
    },
    {
     "name": "stdout",
     "output_type": "stream",
     "text": [
      "Epoch: 060, Train Loss: 0.0503, Train: 1.0000, Val: 0.6667, Test: 0.6667, Std dev: 0.0248\n"
     ]
    },
    {
     "name": "stderr",
     "output_type": "stream",
     "text": [
      "Epoch 61: 100%|██████████| 4/4 [00:00<00:00, 724.22it/s]\n",
      "Evaluating Train: 100%|██████████| 4/4 [00:00<00:00, 1184.16it/s]\n",
      "Evaluating Validation: 100%|██████████| 30/30 [00:00<00:00, 9152.54it/s]\n",
      "Evaluating Test: 100%|██████████| 30/30 [00:00<00:00, 9216.90it/s]\n"
     ]
    },
    {
     "name": "stdout",
     "output_type": "stream",
     "text": [
      "Epoch: 061, Train Loss: 0.0824, Train: 1.0000, Val: 0.6333, Test: 0.6667, Std dev: 0.0211\n"
     ]
    },
    {
     "name": "stderr",
     "output_type": "stream",
     "text": [
      "Epoch 62: 100%|██████████| 4/4 [00:00<00:00, 718.63it/s]\n",
      "Evaluating Train: 100%|██████████| 4/4 [00:00<00:00, 1165.73it/s]\n",
      "Evaluating Validation: 100%|██████████| 30/30 [00:00<00:00, 9068.11it/s]\n",
      "Evaluating Test: 100%|██████████| 30/30 [00:00<00:00, 9131.29it/s]\n"
     ]
    },
    {
     "name": "stdout",
     "output_type": "stream",
     "text": [
      "Epoch: 062, Train Loss: 0.0466, Train: 1.0000, Val: 0.6667, Test: 0.7333, Std dev: 0.0254\n"
     ]
    },
    {
     "name": "stderr",
     "output_type": "stream",
     "text": [
      "Epoch 63: 100%|██████████| 4/4 [00:00<00:00, 732.09it/s]\n",
      "Evaluating Train: 100%|██████████| 4/4 [00:00<00:00, 1204.31it/s]\n",
      "Evaluating Validation: 100%|██████████| 30/30 [00:00<00:00, 9224.33it/s]\n",
      "Evaluating Test: 100%|██████████| 30/30 [00:00<00:00, 9210.15it/s]\n"
     ]
    },
    {
     "name": "stdout",
     "output_type": "stream",
     "text": [
      "Epoch: 063, Train Loss: 0.0372, Train: 1.0000, Val: 0.6333, Test: 0.6667, Std dev: 0.0267\n"
     ]
    },
    {
     "name": "stderr",
     "output_type": "stream",
     "text": [
      "Epoch 64: 100%|██████████| 4/4 [00:00<00:00, 722.44it/s]\n",
      "Evaluating Train: 100%|██████████| 4/4 [00:00<00:00, 1218.30it/s]\n",
      "Evaluating Validation: 100%|██████████| 30/30 [00:00<00:00, 9261.68it/s]\n",
      "Evaluating Test: 100%|██████████| 30/30 [00:00<00:00, 9218.25it/s]\n"
     ]
    },
    {
     "name": "stdout",
     "output_type": "stream",
     "text": [
      "Epoch: 064, Train Loss: 0.0573, Train: 1.0000, Val: 0.7000, Test: 0.6333, Std dev: 0.0153\n"
     ]
    },
    {
     "name": "stderr",
     "output_type": "stream",
     "text": [
      "Epoch 65: 100%|██████████| 4/4 [00:00<00:00, 701.51it/s]\n",
      "Evaluating Train: 100%|██████████| 4/4 [00:00<00:00, 1201.89it/s]\n",
      "Evaluating Validation: 100%|██████████| 30/30 [00:00<00:00, 9208.13it/s]\n",
      "Evaluating Test: 100%|██████████| 30/30 [00:00<00:00, 9200.73it/s]\n"
     ]
    },
    {
     "name": "stdout",
     "output_type": "stream",
     "text": [
      "Epoch: 065, Train Loss: 0.0713, Train: 1.0000, Val: 0.6000, Test: 0.6333, Std dev: 0.0163\n"
     ]
    },
    {
     "name": "stderr",
     "output_type": "stream",
     "text": [
      "Epoch 66: 100%|██████████| 4/4 [00:00<00:00, 759.15it/s]\n",
      "Evaluating Train: 100%|██████████| 4/4 [00:00<00:00, 1223.19it/s]\n",
      "Evaluating Validation: 100%|██████████| 30/30 [00:00<00:00, 9647.25it/s]\n",
      "Evaluating Test: 100%|██████████| 30/30 [00:00<00:00, 9263.04it/s]\n"
     ]
    },
    {
     "name": "stdout",
     "output_type": "stream",
     "text": [
      "Epoch: 066, Train Loss: 0.0687, Train: 1.0000, Val: 0.7000, Test: 0.7000, Std dev: 0.0129\n"
     ]
    },
    {
     "name": "stderr",
     "output_type": "stream",
     "text": [
      "Epoch 67: 100%|██████████| 4/4 [00:00<00:00, 770.98it/s]\n",
      "Evaluating Train: 100%|██████████| 4/4 [00:00<00:00, 1190.72it/s]\n",
      "Evaluating Validation: 100%|██████████| 30/30 [00:00<00:00, 9248.06it/s]\n",
      "Evaluating Test: 100%|██████████| 30/30 [00:00<00:00, 9288.34it/s]\n"
     ]
    },
    {
     "name": "stdout",
     "output_type": "stream",
     "text": [
      "Epoch: 067, Train Loss: 0.0382, Train: 1.0000, Val: 0.6667, Test: 0.6000, Std dev: 0.0145\n"
     ]
    },
    {
     "name": "stderr",
     "output_type": "stream",
     "text": [
      "Epoch 68: 100%|██████████| 4/4 [00:00<00:00, 707.81it/s]\n",
      "Evaluating Train: 100%|██████████| 4/4 [00:00<00:00, 1217.06it/s]\n",
      "Evaluating Validation: 100%|██████████| 30/30 [00:00<00:00, 9311.71it/s]\n",
      "Evaluating Test: 100%|██████████| 30/30 [00:00<00:00, 9282.17it/s]\n"
     ]
    },
    {
     "name": "stdout",
     "output_type": "stream",
     "text": [
      "Epoch: 068, Train Loss: 0.0784, Train: 1.0000, Val: 0.6333, Test: 0.6000, Std dev: 0.0141\n"
     ]
    },
    {
     "name": "stderr",
     "output_type": "stream",
     "text": [
      "Epoch 69: 100%|██████████| 4/4 [00:00<00:00, 710.00it/s]\n",
      "Evaluating Train: 100%|██████████| 4/4 [00:00<00:00, 1208.21it/s]\n",
      "Evaluating Validation: 100%|██████████| 30/30 [00:00<00:00, 9256.91it/s]\n",
      "Evaluating Test: 100%|██████████| 30/30 [00:00<00:00, 8730.25it/s]\n"
     ]
    },
    {
     "name": "stdout",
     "output_type": "stream",
     "text": [
      "Epoch: 069, Train Loss: 0.0708, Train: 1.0000, Val: 0.6667, Test: 0.7000, Std dev: 0.0140\n"
     ]
    },
    {
     "name": "stderr",
     "output_type": "stream",
     "text": [
      "Epoch 70: 100%|██████████| 4/4 [00:00<00:00, 705.07it/s]\n",
      "Evaluating Train: 100%|██████████| 4/4 [00:00<00:00, 1197.86it/s]\n",
      "Evaluating Validation: 100%|██████████| 30/30 [00:00<00:00, 9214.88it/s]\n",
      "Evaluating Test: 100%|██████████| 30/30 [00:00<00:00, 9167.21it/s]\n"
     ]
    },
    {
     "name": "stdout",
     "output_type": "stream",
     "text": [
      "Epoch: 070, Train Loss: 0.0239, Train: 1.0000, Val: 0.7000, Test: 0.5667, Std dev: 0.0211\n"
     ]
    },
    {
     "name": "stderr",
     "output_type": "stream",
     "text": [
      "Epoch 71: 100%|██████████| 4/4 [00:00<00:00, 692.42it/s]\n",
      "Evaluating Train: 100%|██████████| 4/4 [00:00<00:00, 1208.47it/s]\n",
      "Evaluating Validation: 100%|██████████| 30/30 [00:00<00:00, 9228.39it/s]\n",
      "Evaluating Test: 100%|██████████| 30/30 [00:00<00:00, 9214.88it/s]\n"
     ]
    },
    {
     "name": "stdout",
     "output_type": "stream",
     "text": [
      "Epoch: 071, Train Loss: 0.0393, Train: 1.0000, Val: 0.6667, Test: 0.6333, Std dev: 0.0208\n"
     ]
    },
    {
     "name": "stderr",
     "output_type": "stream",
     "text": [
      "Epoch 72: 100%|██████████| 4/4 [00:00<00:00, 712.02it/s]\n",
      "Evaluating Train: 100%|██████████| 4/4 [00:00<00:00, 1197.52it/s]\n",
      "Evaluating Validation: 100%|██████████| 30/30 [00:00<00:00, 9241.95it/s]\n",
      "Evaluating Test: 100%|██████████| 30/30 [00:00<00:00, 9179.92it/s]\n"
     ]
    },
    {
     "name": "stdout",
     "output_type": "stream",
     "text": [
      "Epoch: 072, Train Loss: 0.0537, Train: 1.0000, Val: 0.6333, Test: 0.6333, Std dev: 0.0200\n"
     ]
    },
    {
     "name": "stderr",
     "output_type": "stream",
     "text": [
      "Epoch 73: 100%|██████████| 4/4 [00:00<00:00, 719.13it/s]\n",
      "Evaluating Train: 100%|██████████| 4/4 [00:00<00:00, 1193.68it/s]\n",
      "Evaluating Validation: 100%|██████████| 30/30 [00:00<00:00, 8938.00it/s]\n",
      "Evaluating Test: 100%|██████████| 30/30 [00:00<00:00, 9048.55it/s]\n"
     ]
    },
    {
     "name": "stdout",
     "output_type": "stream",
     "text": [
      "Epoch: 073, Train Loss: 0.0198, Train: 1.0000, Val: 0.6667, Test: 0.6333, Std dev: 0.0189\n"
     ]
    },
    {
     "name": "stderr",
     "output_type": "stream",
     "text": [
      "Epoch 74: 100%|██████████| 4/4 [00:00<00:00, 729.98it/s]\n",
      "Evaluating Train: 100%|██████████| 4/4 [00:00<00:00, 1188.61it/s]\n",
      "Evaluating Validation: 100%|██████████| 30/30 [00:00<00:00, 9299.32it/s]\n",
      "Evaluating Test: 100%|██████████| 30/30 [00:00<00:00, 9136.59it/s]\n"
     ]
    },
    {
     "name": "stdout",
     "output_type": "stream",
     "text": [
      "Epoch: 074, Train Loss: 0.0475, Train: 1.0000, Val: 0.6667, Test: 0.6667, Std dev: 0.0131\n"
     ]
    },
    {
     "name": "stderr",
     "output_type": "stream",
     "text": [
      "Epoch 75: 100%|██████████| 4/4 [00:00<00:00, 706.38it/s]\n",
      "Evaluating Train: 100%|██████████| 4/4 [00:00<00:00, 1217.95it/s]\n",
      "Evaluating Validation: 100%|██████████| 30/30 [00:00<00:00, 9308.26it/s]\n",
      "Evaluating Test: 100%|██████████| 30/30 [00:00<00:00, 9006.45it/s]\n"
     ]
    },
    {
     "name": "stdout",
     "output_type": "stream",
     "text": [
      "Epoch: 075, Train Loss: 0.0270, Train: 1.0000, Val: 0.6333, Test: 0.7000, Std dev: 0.0125\n"
     ]
    },
    {
     "name": "stderr",
     "output_type": "stream",
     "text": [
      "Epoch 76: 100%|██████████| 4/4 [00:00<00:00, 700.45it/s]\n",
      "Evaluating Train: 100%|██████████| 4/4 [00:00<00:00, 1209.87it/s]\n",
      "Evaluating Validation: 100%|██████████| 30/30 [00:00<00:00, 9354.63it/s]\n",
      "Evaluating Test: 100%|██████████| 30/30 [00:00<00:00, 9280.12it/s]\n"
     ]
    },
    {
     "name": "stdout",
     "output_type": "stream",
     "text": [
      "Epoch: 076, Train Loss: 0.0197, Train: 1.0000, Val: 0.6333, Test: 0.6333, Std dev: 0.0143\n"
     ]
    },
    {
     "name": "stderr",
     "output_type": "stream",
     "text": [
      "Epoch 77: 100%|██████████| 4/4 [00:00<00:00, 691.36it/s]\n",
      "Evaluating Train: 100%|██████████| 4/4 [00:00<00:00, 1208.99it/s]\n",
      "Evaluating Validation: 100%|██████████| 30/30 [00:00<00:00, 9325.51it/s]\n",
      "Evaluating Test: 100%|██████████| 30/30 [00:00<00:00, 9215.55it/s]\n"
     ]
    },
    {
     "name": "stdout",
     "output_type": "stream",
     "text": [
      "Epoch: 077, Train Loss: 0.0180, Train: 1.0000, Val: 0.6667, Test: 0.6667, Std dev: 0.0110\n"
     ]
    },
    {
     "name": "stderr",
     "output_type": "stream",
     "text": [
      "Epoch 78: 100%|██████████| 4/4 [00:00<00:00, 695.86it/s]\n",
      "Evaluating Train: 100%|██████████| 4/4 [00:00<00:00, 1187.52it/s]\n",
      "Evaluating Validation: 100%|██████████| 30/30 [00:00<00:00, 9302.07it/s]\n",
      "Evaluating Test: 100%|██████████| 30/30 [00:00<00:00, 9315.85it/s]\n"
     ]
    },
    {
     "name": "stdout",
     "output_type": "stream",
     "text": [
      "Epoch: 078, Train Loss: 0.0146, Train: 1.0000, Val: 0.6333, Test: 0.6333, Std dev: 0.0118\n"
     ]
    },
    {
     "name": "stderr",
     "output_type": "stream",
     "text": [
      "Epoch 79: 100%|██████████| 4/4 [00:00<00:00, 724.81it/s]\n",
      "Evaluating Train: 100%|██████████| 4/4 [00:00<00:00, 1200.34it/s]\n",
      "Evaluating Validation: 100%|██████████| 30/30 [00:00<00:00, 9335.20it/s]\n",
      "Evaluating Test: 100%|██████████| 30/30 [00:00<00:00, 9427.52it/s]\n"
     ]
    },
    {
     "name": "stdout",
     "output_type": "stream",
     "text": [
      "Epoch: 079, Train Loss: 0.0312, Train: 1.0000, Val: 0.6000, Test: 0.6333, Std dev: 0.0061\n"
     ]
    },
    {
     "name": "stderr",
     "output_type": "stream",
     "text": [
      "Epoch 80: 100%|██████████| 4/4 [00:00<00:00, 730.14it/s]\n",
      "Evaluating Train: 100%|██████████| 4/4 [00:00<00:00, 1223.72it/s]\n",
      "Evaluating Validation: 100%|██████████| 30/30 [00:00<00:00, 9365.77it/s]\n",
      "Evaluating Test: 100%|██████████| 30/30 [00:00<00:00, 9381.13it/s]\n"
     ]
    },
    {
     "name": "stdout",
     "output_type": "stream",
     "text": [
      "Epoch: 080, Train Loss: 0.0312, Train: 1.0000, Val: 0.5667, Test: 0.6000, Std dev: 0.0069\n"
     ]
    },
    {
     "name": "stderr",
     "output_type": "stream",
     "text": [
      "Epoch 81: 100%|██████████| 4/4 [00:00<00:00, 690.70it/s]\n",
      "Evaluating Train: 100%|██████████| 4/4 [00:00<00:00, 1222.74it/s]\n",
      "Evaluating Validation: 100%|██████████| 30/30 [00:00<00:00, 9269.86it/s]\n",
      "Evaluating Test: 100%|██████████| 30/30 [00:00<00:00, 9388.13it/s]\n"
     ]
    },
    {
     "name": "stdout",
     "output_type": "stream",
     "text": [
      "Epoch: 081, Train Loss: 0.0267, Train: 1.0000, Val: 0.6333, Test: 0.6000, Std dev: 0.0069\n"
     ]
    },
    {
     "name": "stderr",
     "output_type": "stream",
     "text": [
      "Epoch 82: 100%|██████████| 4/4 [00:00<00:00, 689.40it/s]\n",
      "Evaluating Train: 100%|██████████| 4/4 [00:00<00:00, 1216.62it/s]\n",
      "Evaluating Validation: 100%|██████████| 30/30 [00:00<00:00, 9237.20it/s]\n",
      "Evaluating Test: 100%|██████████| 30/30 [00:00<00:00, 9377.64it/s]\n"
     ]
    },
    {
     "name": "stdout",
     "output_type": "stream",
     "text": [
      "Epoch: 082, Train Loss: 0.0101, Train: 1.0000, Val: 0.6000, Test: 0.6333, Std dev: 0.0088\n"
     ]
    },
    {
     "name": "stderr",
     "output_type": "stream",
     "text": [
      "Epoch 83: 100%|██████████| 4/4 [00:00<00:00, 685.29it/s]\n",
      "Evaluating Train: 100%|██████████| 4/4 [00:00<00:00, 1207.17it/s]\n",
      "Evaluating Validation: 100%|██████████| 30/30 [00:00<00:00, 9287.65it/s]\n",
      "Evaluating Test: 100%|██████████| 30/30 [00:00<00:00, 9204.76it/s]\n"
     ]
    },
    {
     "name": "stdout",
     "output_type": "stream",
     "text": [
      "Epoch: 083, Train Loss: 0.0289, Train: 1.0000, Val: 0.5667, Test: 0.6000, Std dev: 0.0079\n"
     ]
    },
    {
     "name": "stderr",
     "output_type": "stream",
     "text": [
      "Epoch 84: 100%|██████████| 4/4 [00:00<00:00, 686.66it/s]\n",
      "Evaluating Train: 100%|██████████| 4/4 [00:00<00:00, 1213.72it/s]\n",
      "Evaluating Validation: 100%|██████████| 30/30 [00:00<00:00, 9293.14it/s]\n",
      "Evaluating Test: 100%|██████████| 30/30 [00:00<00:00, 9231.10it/s]\n"
     ]
    },
    {
     "name": "stdout",
     "output_type": "stream",
     "text": [
      "Epoch: 084, Train Loss: 0.0207, Train: 1.0000, Val: 0.6333, Test: 0.5667, Std dev: 0.0076\n"
     ]
    },
    {
     "name": "stderr",
     "output_type": "stream",
     "text": [
      "Epoch 85: 100%|██████████| 4/4 [00:00<00:00, 698.18it/s]\n",
      "Evaluating Train: 100%|██████████| 4/4 [00:00<00:00, 1209.78it/s]\n",
      "Evaluating Validation: 100%|██████████| 30/30 [00:00<00:00, 9280.12it/s]\n",
      "Evaluating Test: 100%|██████████| 30/30 [00:00<00:00, 9302.76it/s]\n"
     ]
    },
    {
     "name": "stdout",
     "output_type": "stream",
     "text": [
      "Epoch: 085, Train Loss: 0.0247, Train: 1.0000, Val: 0.6333, Test: 0.6000, Std dev: 0.0066\n"
     ]
    },
    {
     "name": "stderr",
     "output_type": "stream",
     "text": [
      "Epoch 86: 100%|██████████| 4/4 [00:00<00:00, 643.40it/s]\n",
      "Evaluating Train: 100%|██████████| 4/4 [00:00<00:00, 1204.91it/s]\n",
      "Evaluating Validation: 100%|██████████| 30/30 [00:00<00:00, 9254.18it/s]\n",
      "Evaluating Test: 100%|██████████| 30/30 [00:00<00:00, 9250.10it/s]\n"
     ]
    },
    {
     "name": "stdout",
     "output_type": "stream",
     "text": [
      "Epoch: 086, Train Loss: 0.0112, Train: 1.0000, Val: 0.6667, Test: 0.6333, Std dev: 0.0074\n"
     ]
    },
    {
     "name": "stderr",
     "output_type": "stream",
     "text": [
      "Epoch 87: 100%|██████████| 4/4 [00:00<00:00, 722.56it/s]\n",
      "Evaluating Train: 100%|██████████| 4/4 [00:00<00:00, 1193.68it/s]\n",
      "Evaluating Validation: 100%|██████████| 30/30 [00:00<00:00, 9284.23it/s]\n",
      "Evaluating Test: 100%|██████████| 30/30 [00:00<00:00, 9178.58it/s]\n"
     ]
    },
    {
     "name": "stdout",
     "output_type": "stream",
     "text": [
      "Epoch: 087, Train Loss: 0.0178, Train: 1.0000, Val: 0.6667, Test: 0.6333, Std dev: 0.0060\n"
     ]
    },
    {
     "name": "stderr",
     "output_type": "stream",
     "text": [
      "Epoch 88: 100%|██████████| 4/4 [00:00<00:00, 707.30it/s]\n",
      "Evaluating Train: 100%|██████████| 4/4 [00:00<00:00, 1226.23it/s]\n",
      "Evaluating Validation: 100%|██████████| 30/30 [00:00<00:00, 9242.63it/s]\n",
      "Evaluating Test: 100%|██████████| 30/30 [00:00<00:00, 9256.91it/s]\n"
     ]
    },
    {
     "name": "stdout",
     "output_type": "stream",
     "text": [
      "Epoch: 088, Train Loss: 0.0096, Train: 1.0000, Val: 0.6667, Test: 0.6000, Std dev: 0.0057\n"
     ]
    },
    {
     "name": "stderr",
     "output_type": "stream",
     "text": [
      "Epoch 89: 100%|██████████| 4/4 [00:00<00:00, 693.56it/s]\n",
      "Evaluating Train: 100%|██████████| 4/4 [00:00<00:00, 1215.92it/s]\n",
      "Evaluating Validation: 100%|██████████| 30/30 [00:00<00:00, 9370.65it/s]\n",
      "Evaluating Test: 100%|██████████| 30/30 [00:00<00:00, 9246.02it/s]\n"
     ]
    },
    {
     "name": "stdout",
     "output_type": "stream",
     "text": [
      "Epoch: 089, Train Loss: 0.0144, Train: 1.0000, Val: 0.6000, Test: 0.6000, Std dev: 0.0054\n"
     ]
    },
    {
     "name": "stderr",
     "output_type": "stream",
     "text": [
      "Epoch 90: 100%|██████████| 4/4 [00:00<00:00, 705.61it/s]\n",
      "Evaluating Train: 100%|██████████| 4/4 [00:00<00:00, 1190.30it/s]\n",
      "Evaluating Validation: 100%|██████████| 30/30 [00:00<00:00, 9252.14it/s]\n",
      "Evaluating Test: 100%|██████████| 30/30 [00:00<00:00, 9355.32it/s]\n"
     ]
    },
    {
     "name": "stdout",
     "output_type": "stream",
     "text": [
      "Epoch: 090, Train Loss: 0.0227, Train: 1.0000, Val: 0.7000, Test: 0.6333, Std dev: 0.0047\n"
     ]
    },
    {
     "name": "stderr",
     "output_type": "stream",
     "text": [
      "Epoch 91: 100%|██████████| 4/4 [00:00<00:00, 713.98it/s]\n",
      "Evaluating Train: 100%|██████████| 4/4 [00:00<00:00, 1223.01it/s]\n",
      "Evaluating Validation: 100%|██████████| 30/30 [00:00<00:00, 9387.43it/s]\n",
      "Evaluating Test: 100%|██████████| 30/30 [00:00<00:00, 9282.17it/s]\n"
     ]
    },
    {
     "name": "stdout",
     "output_type": "stream",
     "text": [
      "Epoch: 091, Train Loss: 0.0402, Train: 1.0000, Val: 0.6333, Test: 0.6333, Std dev: 0.0106\n"
     ]
    },
    {
     "name": "stderr",
     "output_type": "stream",
     "text": [
      "Epoch 92: 100%|██████████| 4/4 [00:00<00:00, 680.42it/s]\n",
      "Evaluating Train: 100%|██████████| 4/4 [00:00<00:00, 1183.41it/s]\n",
      "Evaluating Validation: 100%|██████████| 30/30 [00:00<00:00, 9377.64it/s]\n",
      "Evaluating Test: 100%|██████████| 30/30 [00:00<00:00, 9267.13it/s]\n"
     ]
    },
    {
     "name": "stdout",
     "output_type": "stream",
     "text": [
      "Epoch: 092, Train Loss: 0.0141, Train: 1.0000, Val: 0.6333, Test: 0.6000, Std dev: 0.0109\n"
     ]
    },
    {
     "name": "stderr",
     "output_type": "stream",
     "text": [
      "Epoch 93: 100%|██████████| 4/4 [00:00<00:00, 701.65it/s]\n",
      "Evaluating Train: 100%|██████████| 4/4 [00:00<00:00, 1214.42it/s]\n",
      "Evaluating Validation: 100%|██████████| 30/30 [00:00<00:00, 9400.76it/s]\n",
      "Evaluating Test: 100%|██████████| 30/30 [00:00<00:00, 9279.43it/s]\n"
     ]
    },
    {
     "name": "stdout",
     "output_type": "stream",
     "text": [
      "Epoch: 093, Train Loss: 0.0084, Train: 1.0000, Val: 0.6333, Test: 0.6667, Std dev: 0.0111\n"
     ]
    },
    {
     "name": "stderr",
     "output_type": "stream",
     "text": [
      "Epoch 94: 100%|██████████| 4/4 [00:00<00:00, 746.35it/s]\n",
      "Evaluating Train: 100%|██████████| 4/4 [00:00<00:00, 1210.74it/s]\n",
      "Evaluating Validation: 100%|██████████| 30/30 [00:00<00:00, 9381.83it/s]\n",
      "Evaluating Test: 100%|██████████| 30/30 [00:00<00:00, 9273.96it/s]\n"
     ]
    },
    {
     "name": "stdout",
     "output_type": "stream",
     "text": [
      "Epoch: 094, Train Loss: 0.0209, Train: 1.0000, Val: 0.7000, Test: 0.6000, Std dev: 0.0108\n"
     ]
    },
    {
     "name": "stderr",
     "output_type": "stream",
     "text": [
      "Epoch 95: 100%|██████████| 4/4 [00:00<00:00, 749.22it/s]\n",
      "Evaluating Train: 100%|██████████| 4/4 [00:00<00:00, 1195.13it/s]\n",
      "Evaluating Validation: 100%|██████████| 30/30 [00:00<00:00, 9148.55it/s]\n",
      "Evaluating Test: 100%|██████████| 30/30 [00:00<00:00, 9210.83it/s]\n"
     ]
    },
    {
     "name": "stdout",
     "output_type": "stream",
     "text": [
      "Epoch: 095, Train Loss: 0.0098, Train: 1.0000, Val: 0.6333, Test: 0.6333, Std dev: 0.0116\n"
     ]
    },
    {
     "name": "stderr",
     "output_type": "stream",
     "text": [
      "Epoch 96: 100%|██████████| 4/4 [00:00<00:00, 632.32it/s]\n",
      "Evaluating Train: 100%|██████████| 4/4 [00:00<00:00, 1206.04it/s]\n",
      "Evaluating Validation: 100%|██████████| 30/30 [00:00<00:00, 9141.24it/s]\n",
      "Evaluating Test: 100%|██████████| 30/30 [00:00<00:00, 9157.87it/s]\n"
     ]
    },
    {
     "name": "stdout",
     "output_type": "stream",
     "text": [
      "Epoch: 096, Train Loss: 0.0082, Train: 1.0000, Val: 0.5667, Test: 0.6000, Std dev: 0.0048\n"
     ]
    },
    {
     "name": "stderr",
     "output_type": "stream",
     "text": [
      "Epoch 97: 100%|██████████| 4/4 [00:00<00:00, 706.20it/s]\n",
      "Evaluating Train: 100%|██████████| 4/4 [00:00<00:00, 1218.83it/s]\n",
      "Evaluating Validation: 100%|██████████| 30/30 [00:00<00:00, 9179.92it/s]\n",
      "Evaluating Test: 100%|██████████| 30/30 [00:00<00:00, 9163.20it/s]\n"
     ]
    },
    {
     "name": "stdout",
     "output_type": "stream",
     "text": [
      "Epoch: 097, Train Loss: 0.0126, Train: 1.0000, Val: 0.6000, Test: 0.6333, Std dev: 0.0047\n"
     ]
    },
    {
     "name": "stderr",
     "output_type": "stream",
     "text": [
      "Epoch 98: 100%|██████████| 4/4 [00:00<00:00, 705.99it/s]\n",
      "Evaluating Train: 100%|██████████| 4/4 [00:00<00:00, 1189.70it/s]\n",
      "Evaluating Validation: 100%|██████████| 30/30 [00:00<00:00, 9302.76it/s]\n",
      "Evaluating Test: 100%|██████████| 30/30 [00:00<00:00, 9166.54it/s]\n"
     ]
    },
    {
     "name": "stdout",
     "output_type": "stream",
     "text": [
      "Epoch: 098, Train Loss: 0.0157, Train: 1.0000, Val: 0.5667, Test: 0.6000, Std dev: 0.0045\n"
     ]
    },
    {
     "name": "stderr",
     "output_type": "stream",
     "text": [
      "Epoch 99: 100%|██████████| 4/4 [00:00<00:00, 708.14it/s]\n",
      "Evaluating Train: 100%|██████████| 4/4 [00:00<00:00, 1190.80it/s]\n",
      "Evaluating Validation: 100%|██████████| 30/30 [00:00<00:00, 9087.10it/s]\n",
      "Evaluating Test: 100%|██████████| 30/30 [00:00<00:00, 9161.20it/s]\n"
     ]
    },
    {
     "name": "stdout",
     "output_type": "stream",
     "text": [
      "Epoch: 099, Train Loss: 0.0090, Train: 1.0000, Val: 0.6000, Test: 0.6333, Std dev: 0.0028\n"
     ]
    },
    {
     "name": "stderr",
     "output_type": "stream",
     "text": [
      "Epoch 100: 100%|██████████| 4/4 [00:00<00:00, 703.18it/s]\n",
      "Evaluating Train: 100%|██████████| 4/4 [00:00<00:00, 1170.61it/s]\n",
      "Evaluating Validation: 100%|██████████| 30/30 [00:00<00:00, 9162.54it/s]\n",
      "Evaluating Test: 100%|██████████| 30/30 [00:00<00:00, 9054.41it/s]\n"
     ]
    },
    {
     "name": "stdout",
     "output_type": "stream",
     "text": [
      "Epoch: 100, Train Loss: 0.0161, Train: 1.0000, Val: 0.6333, Test: 0.5333, Std dev: 0.0033\n"
     ]
    },
    {
     "name": "stderr",
     "output_type": "stream",
     "text": [
      "Epoch 101: 100%|██████████| 4/4 [00:00<00:00, 749.25it/s]\n",
      "Evaluating Train: 100%|██████████| 4/4 [00:00<00:00, 1218.74it/s]\n",
      "Evaluating Validation: 100%|██████████| 30/30 [00:00<00:00, 9237.20it/s]\n",
      "Evaluating Test: 100%|██████████| 30/30 [00:00<00:00, 9235.84it/s]\n"
     ]
    },
    {
     "name": "stdout",
     "output_type": "stream",
     "text": [
      "Epoch: 101, Train Loss: 0.0090, Train: 1.0000, Val: 0.6000, Test: 0.6333, Std dev: 0.0031\n"
     ]
    },
    {
     "name": "stderr",
     "output_type": "stream",
     "text": [
      "Epoch 102: 100%|██████████| 4/4 [00:00<00:00, 684.39it/s]\n",
      "Evaluating Train: 100%|██████████| 4/4 [00:00<00:00, 1198.20it/s]\n",
      "Evaluating Validation: 100%|██████████| 30/30 [00:00<00:00, 9256.91it/s]\n",
      "Evaluating Test: 100%|██████████| 30/30 [00:00<00:00, 9351.15it/s]\n"
     ]
    },
    {
     "name": "stdout",
     "output_type": "stream",
     "text": [
      "Epoch: 102, Train Loss: 0.0049, Train: 1.0000, Val: 0.6000, Test: 0.5667, Std dev: 0.0043\n"
     ]
    },
    {
     "name": "stderr",
     "output_type": "stream",
     "text": [
      "Epoch 103: 100%|██████████| 4/4 [00:00<00:00, 586.37it/s]\n",
      "Evaluating Train: 100%|██████████| 4/4 [00:00<00:00, 1207.86it/s]\n",
      "Evaluating Validation: 100%|██████████| 30/30 [00:00<00:00, 9268.50it/s]\n",
      "Evaluating Test: 100%|██████████| 30/30 [00:00<00:00, 9276.70it/s]\n"
     ]
    },
    {
     "name": "stdout",
     "output_type": "stream",
     "text": [
      "Epoch: 103, Train Loss: 0.0188, Train: 1.0000, Val: 0.5667, Test: 0.6000, Std dev: 0.0051\n"
     ]
    },
    {
     "name": "stderr",
     "output_type": "stream",
     "text": [
      "Epoch 104: 100%|██████████| 4/4 [00:00<00:00, 709.58it/s]\n",
      "Evaluating Train: 100%|██████████| 4/4 [00:00<00:00, 1195.81it/s]\n",
      "Evaluating Validation: 100%|██████████| 30/30 [00:00<00:00, 9350.46it/s]\n",
      "Evaluating Test: 100%|██████████| 30/30 [00:00<00:00, 9332.43it/s]\n"
     ]
    },
    {
     "name": "stdout",
     "output_type": "stream",
     "text": [
      "Epoch: 104, Train Loss: 0.0072, Train: 1.0000, Val: 0.6000, Test: 0.6000, Std dev: 0.0053\n"
     ]
    },
    {
     "name": "stderr",
     "output_type": "stream",
     "text": [
      "Epoch 105: 100%|██████████| 4/4 [00:00<00:00, 707.96it/s]\n",
      "Evaluating Train: 100%|██████████| 4/4 [00:00<00:00, 1207.69it/s]\n",
      "Evaluating Validation: 100%|██████████| 30/30 [00:00<00:00, 9318.60it/s]\n",
      "Evaluating Test: 100%|██████████| 30/30 [00:00<00:00, 9400.05it/s]\n"
     ]
    },
    {
     "name": "stdout",
     "output_type": "stream",
     "text": [
      "Epoch: 105, Train Loss: 0.0083, Train: 1.0000, Val: 0.6333, Test: 0.5333, Std dev: 0.0048\n"
     ]
    },
    {
     "name": "stderr",
     "output_type": "stream",
     "text": [
      "Epoch 106: 100%|██████████| 4/4 [00:00<00:00, 688.69it/s]\n",
      "Evaluating Train: 100%|██████████| 4/4 [00:00<00:00, 1187.94it/s]\n",
      "Evaluating Validation: 100%|██████████| 30/30 [00:00<00:00, 9300.70it/s]\n",
      "Evaluating Test: 100%|██████████| 30/30 [00:00<00:00, 8782.04it/s]\n"
     ]
    },
    {
     "name": "stdout",
     "output_type": "stream",
     "text": [
      "Epoch: 106, Train Loss: 0.0165, Train: 1.0000, Val: 0.6000, Test: 0.6333, Std dev: 0.0055\n"
     ]
    },
    {
     "name": "stderr",
     "output_type": "stream",
     "text": [
      "Epoch 107: 100%|██████████| 4/4 [00:00<00:00, 696.70it/s]\n",
      "Evaluating Train: 100%|██████████| 4/4 [00:00<00:00, 1188.10it/s]\n",
      "Evaluating Validation: 100%|██████████| 30/30 [00:00<00:00, 9225.69it/s]\n",
      "Evaluating Test: 100%|██████████| 30/30 [00:00<00:00, 9280.80it/s]\n"
     ]
    },
    {
     "name": "stdout",
     "output_type": "stream",
     "text": [
      "Epoch: 107, Train Loss: 0.0077, Train: 1.0000, Val: 0.6667, Test: 0.5667, Std dev: 0.0049\n"
     ]
    },
    {
     "name": "stderr",
     "output_type": "stream",
     "text": [
      "Epoch 108: 100%|██████████| 4/4 [00:00<00:00, 710.81it/s]\n",
      "Evaluating Train: 100%|██████████| 4/4 [00:00<00:00, 1197.69it/s]\n",
      "Evaluating Validation: 100%|██████████| 30/30 [00:00<00:00, 9261.68it/s]\n",
      "Evaluating Test: 100%|██████████| 30/30 [00:00<00:00, 9222.30it/s]\n"
     ]
    },
    {
     "name": "stdout",
     "output_type": "stream",
     "text": [
      "Epoch: 108, Train Loss: 0.0063, Train: 1.0000, Val: 0.6000, Test: 0.6000, Std dev: 0.0037\n"
     ]
    },
    {
     "name": "stderr",
     "output_type": "stream",
     "text": [
      "Epoch 109: 100%|██████████| 4/4 [00:00<00:00, 738.01it/s]\n",
      "Evaluating Train: 100%|██████████| 4/4 [00:00<00:00, 1199.23it/s]\n",
      "Evaluating Validation: 100%|██████████| 30/30 [00:00<00:00, 9271.23it/s]\n",
      "Evaluating Test: 100%|██████████| 30/30 [00:00<00:00, 9257.59it/s]\n"
     ]
    },
    {
     "name": "stdout",
     "output_type": "stream",
     "text": [
      "Epoch: 109, Train Loss: 0.0091, Train: 1.0000, Val: 0.6667, Test: 0.5667, Std dev: 0.0036\n"
     ]
    },
    {
     "name": "stderr",
     "output_type": "stream",
     "text": [
      "Epoch 110: 100%|██████████| 4/4 [00:00<00:00, 697.02it/s]\n",
      "Evaluating Train: 100%|██████████| 4/4 [00:00<00:00, 1220.69it/s]\n",
      "Evaluating Validation: 100%|██████████| 30/30 [00:00<00:00, 9267.81it/s]\n",
      "Evaluating Test: 100%|██████████| 30/30 [00:00<00:00, 9333.12it/s]\n"
     ]
    },
    {
     "name": "stdout",
     "output_type": "stream",
     "text": [
      "Epoch: 110, Train Loss: 0.0155, Train: 1.0000, Val: 0.6000, Test: 0.6000, Std dev: 0.0042\n"
     ]
    },
    {
     "name": "stderr",
     "output_type": "stream",
     "text": [
      "Epoch 111: 100%|██████████| 4/4 [00:00<00:00, 704.51it/s]\n",
      "Evaluating Train: 100%|██████████| 4/4 [00:00<00:00, 1213.28it/s]\n",
      "Evaluating Validation: 100%|██████████| 30/30 [00:00<00:00, 9262.36it/s]\n",
      "Evaluating Test: 100%|██████████| 30/30 [00:00<00:00, 9214.88it/s]\n"
     ]
    },
    {
     "name": "stdout",
     "output_type": "stream",
     "text": [
      "Epoch: 111, Train Loss: 0.0043, Train: 1.0000, Val: 0.5667, Test: 0.6667, Std dev: 0.0038\n"
     ]
    },
    {
     "name": "stderr",
     "output_type": "stream",
     "text": [
      "Epoch 112: 100%|██████████| 4/4 [00:00<00:00, 692.44it/s]\n",
      "Evaluating Train: 100%|██████████| 4/4 [00:00<00:00, 1183.66it/s]\n",
      "Evaluating Validation: 100%|██████████| 30/30 [00:00<00:00, 9306.89it/s]\n",
      "Evaluating Test: 100%|██████████| 30/30 [00:00<00:00, 9178.58it/s]\n"
     ]
    },
    {
     "name": "stdout",
     "output_type": "stream",
     "text": [
      "Epoch: 112, Train Loss: 0.0077, Train: 1.0000, Val: 0.6333, Test: 0.6000, Std dev: 0.0038\n"
     ]
    },
    {
     "name": "stderr",
     "output_type": "stream",
     "text": [
      "Epoch 113: 100%|██████████| 4/4 [00:00<00:00, 694.33it/s]\n",
      "Evaluating Train: 100%|██████████| 4/4 [00:00<00:00, 1155.14it/s]\n",
      "Evaluating Validation: 100%|██████████| 30/30 [00:00<00:00, 9273.28it/s]\n",
      "Evaluating Test: 100%|██████████| 30/30 [00:00<00:00, 9338.66it/s]\n"
     ]
    },
    {
     "name": "stdout",
     "output_type": "stream",
     "text": [
      "Epoch: 113, Train Loss: 0.0131, Train: 1.0000, Val: 0.5333, Test: 0.5667, Std dev: 0.0039\n"
     ]
    },
    {
     "name": "stderr",
     "output_type": "stream",
     "text": [
      "Epoch 114: 100%|██████████| 4/4 [00:00<00:00, 709.31it/s]\n",
      "Evaluating Train: 100%|██████████| 4/4 [00:00<00:00, 1221.67it/s]\n",
      "Evaluating Validation: 100%|██████████| 30/30 [00:00<00:00, 9369.26it/s]\n",
      "Evaluating Test: 100%|██████████| 30/30 [00:00<00:00, 9262.36it/s]\n"
     ]
    },
    {
     "name": "stdout",
     "output_type": "stream",
     "text": [
      "Epoch: 114, Train Loss: 0.0138, Train: 1.0000, Val: 0.5667, Test: 0.5000, Std dev: 0.0042\n"
     ]
    },
    {
     "name": "stderr",
     "output_type": "stream",
     "text": [
      "Epoch 115: 100%|██████████| 4/4 [00:00<00:00, 698.61it/s]\n",
      "Evaluating Train: 100%|██████████| 4/4 [00:00<00:00, 1224.97it/s]\n",
      "Evaluating Validation: 100%|██████████| 30/30 [00:00<00:00, 9438.13it/s]\n",
      "Evaluating Test: 100%|██████████| 30/30 [00:00<00:00, 9301.38it/s]\n"
     ]
    },
    {
     "name": "stdout",
     "output_type": "stream",
     "text": [
      "Epoch: 115, Train Loss: 0.0129, Train: 1.0000, Val: 0.6333, Test: 0.6000, Std dev: 0.0037\n"
     ]
    },
    {
     "name": "stderr",
     "output_type": "stream",
     "text": [
      "Epoch 116: 100%|██████████| 4/4 [00:00<00:00, 698.47it/s]\n",
      "Evaluating Train: 100%|██████████| 4/4 [00:00<00:00, 1230.45it/s]\n",
      "Evaluating Validation: 100%|██████████| 30/30 [00:00<00:00, 9239.91it/s]\n",
      "Evaluating Test: 100%|██████████| 30/30 [00:00<00:00, 9325.51it/s]\n"
     ]
    },
    {
     "name": "stdout",
     "output_type": "stream",
     "text": [
      "Epoch: 116, Train Loss: 0.0126, Train: 1.0000, Val: 0.6333, Test: 0.5667, Std dev: 0.0022\n"
     ]
    },
    {
     "name": "stderr",
     "output_type": "stream",
     "text": [
      "Epoch 117: 100%|██████████| 4/4 [00:00<00:00, 756.11it/s]\n",
      "Evaluating Train: 100%|██████████| 4/4 [00:00<00:00, 1212.31it/s]\n",
      "Evaluating Validation: 100%|██████████| 30/30 [00:00<00:00, 9343.52it/s]\n",
      "Evaluating Test: 100%|██████████| 30/30 [00:00<00:00, 9297.26it/s]\n"
     ]
    },
    {
     "name": "stdout",
     "output_type": "stream",
     "text": [
      "Epoch: 117, Train Loss: 0.0049, Train: 1.0000, Val: 0.6000, Test: 0.6333, Std dev: 0.0033\n"
     ]
    },
    {
     "name": "stderr",
     "output_type": "stream",
     "text": [
      "Epoch 118: 100%|██████████| 4/4 [00:00<00:00, 760.39it/s]\n",
      "Evaluating Train: 100%|██████████| 4/4 [00:00<00:00, 1215.56it/s]\n",
      "Evaluating Validation: 100%|██████████| 30/30 [00:00<00:00, 9179.25it/s]\n",
      "Evaluating Test: 100%|██████████| 30/30 [00:00<00:00, 9098.93it/s]\n"
     ]
    },
    {
     "name": "stdout",
     "output_type": "stream",
     "text": [
      "Epoch: 118, Train Loss: 0.0143, Train: 1.0000, Val: 0.6000, Test: 0.6333, Std dev: 0.0035\n"
     ]
    },
    {
     "name": "stderr",
     "output_type": "stream",
     "text": [
      "Epoch 119: 100%|██████████| 4/4 [00:00<00:00, 688.75it/s]\n",
      "Evaluating Train: 100%|██████████| 4/4 [00:00<00:00, 1202.93it/s]\n",
      "Evaluating Validation: 100%|██████████| 30/30 [00:00<00:00, 9236.52it/s]\n",
      "Evaluating Test: 100%|██████████| 30/30 [00:00<00:00, 9210.83it/s]\n"
     ]
    },
    {
     "name": "stdout",
     "output_type": "stream",
     "text": [
      "Epoch: 119, Train Loss: 0.0148, Train: 1.0000, Val: 0.6000, Test: 0.6000, Std dev: 0.0036\n"
     ]
    },
    {
     "name": "stderr",
     "output_type": "stream",
     "text": [
      "Epoch 120: 100%|██████████| 4/4 [00:00<00:00, 705.64it/s]\n",
      "Evaluating Train: 100%|██████████| 4/4 [00:00<00:00, 1206.73it/s]\n",
      "Evaluating Validation: 100%|██████████| 30/30 [00:00<00:00, 9234.49it/s]\n",
      "Evaluating Test: 100%|██████████| 30/30 [00:00<00:00, 9251.46it/s]\n"
     ]
    },
    {
     "name": "stdout",
     "output_type": "stream",
     "text": [
      "Epoch: 120, Train Loss: 0.0071, Train: 1.0000, Val: 0.6667, Test: 0.5667, Std dev: 0.0040\n"
     ]
    },
    {
     "name": "stderr",
     "output_type": "stream",
     "text": [
      "Epoch 121: 100%|██████████| 4/4 [00:00<00:00, 745.69it/s]\n",
      "Evaluating Train: 100%|██████████| 4/4 [00:00<00:00, 1213.63it/s]\n",
      "Evaluating Validation: 100%|██████████| 30/30 [00:00<00:00, 9266.45it/s]\n",
      "Evaluating Test: 100%|██████████| 30/30 [00:00<00:00, 9246.70it/s]\n"
     ]
    },
    {
     "name": "stdout",
     "output_type": "stream",
     "text": [
      "Epoch: 121, Train Loss: 0.0085, Train: 1.0000, Val: 0.6000, Test: 0.6000, Std dev: 0.0040\n"
     ]
    },
    {
     "name": "stderr",
     "output_type": "stream",
     "text": [
      "Epoch 122: 100%|██████████| 4/4 [00:00<00:00, 694.11it/s]\n",
      "Evaluating Train: 100%|██████████| 4/4 [00:00<00:00, 1212.23it/s]\n",
      "Evaluating Validation: 100%|██████████| 30/30 [00:00<00:00, 9336.58it/s]\n",
      "Evaluating Test: 100%|██████████| 30/30 [00:00<00:00, 9229.75it/s]\n"
     ]
    },
    {
     "name": "stdout",
     "output_type": "stream",
     "text": [
      "Epoch: 122, Train Loss: 0.0066, Train: 1.0000, Val: 0.5667, Test: 0.6000, Std dev: 0.0036\n"
     ]
    },
    {
     "name": "stderr",
     "output_type": "stream",
     "text": [
      "Epoch 123: 100%|██████████| 4/4 [00:00<00:00, 698.44it/s]\n",
      "Evaluating Train: 100%|██████████| 4/4 [00:00<00:00, 648.62it/s]\n",
      "Evaluating Validation: 100%|██████████| 30/30 [00:00<00:00, 7519.37it/s]\n",
      "Evaluating Test: 100%|██████████| 30/30 [00:00<00:00, 7899.37it/s]\n"
     ]
    },
    {
     "name": "stdout",
     "output_type": "stream",
     "text": [
      "Epoch: 123, Train Loss: 0.0043, Train: 1.0000, Val: 0.6000, Test: 0.6667, Std dev: 0.0035\n"
     ]
    },
    {
     "name": "stderr",
     "output_type": "stream",
     "text": [
      "Epoch 124: 100%|██████████| 4/4 [00:00<00:00, 646.67it/s]\n",
      "Evaluating Train: 100%|██████████| 4/4 [00:00<00:00, 969.17it/s]\n",
      "Evaluating Validation: 100%|██████████| 30/30 [00:00<00:00, 8119.58it/s]\n",
      "Evaluating Test: 100%|██████████| 30/30 [00:00<00:00, 8186.14it/s]\n"
     ]
    },
    {
     "name": "stdout",
     "output_type": "stream",
     "text": [
      "Epoch: 124, Train Loss: 0.0076, Train: 1.0000, Val: 0.6000, Test: 0.5667, Std dev: 0.0014\n"
     ]
    },
    {
     "name": "stderr",
     "output_type": "stream",
     "text": [
      "Epoch 125: 100%|██████████| 4/4 [00:00<00:00, 688.24it/s]\n",
      "Evaluating Train: 100%|██████████| 4/4 [00:00<00:00, 1043.68it/s]\n",
      "Evaluating Validation: 100%|██████████| 30/30 [00:00<00:00, 8421.17it/s]\n",
      "Evaluating Test: 100%|██████████| 30/30 [00:00<00:00, 8206.96it/s]\n"
     ]
    },
    {
     "name": "stdout",
     "output_type": "stream",
     "text": [
      "Epoch: 125, Train Loss: 0.0041, Train: 1.0000, Val: 0.5333, Test: 0.6000, Std dev: 0.0017\n"
     ]
    },
    {
     "name": "stderr",
     "output_type": "stream",
     "text": [
      "Epoch 126: 100%|██████████| 4/4 [00:00<00:00, 705.55it/s]\n",
      "Evaluating Train: 100%|██████████| 4/4 [00:00<00:00, 1071.82it/s]\n",
      "Evaluating Validation: 100%|██████████| 30/30 [00:00<00:00, 8097.63it/s]\n",
      "Evaluating Test: 100%|██████████| 30/30 [00:00<00:00, 3654.85it/s]\n"
     ]
    },
    {
     "name": "stdout",
     "output_type": "stream",
     "text": [
      "Epoch: 126, Train Loss: 0.0091, Train: 1.0000, Val: 0.5667, Test: 0.6000, Std dev: 0.0019\n"
     ]
    },
    {
     "name": "stderr",
     "output_type": "stream",
     "text": [
      "Epoch 127: 100%|██████████| 4/4 [00:00<00:00, 697.42it/s]\n",
      "Evaluating Train: 100%|██████████| 4/4 [00:00<00:00, 1079.61it/s]\n",
      "Evaluating Validation: 100%|██████████| 30/30 [00:00<00:00, 8036.09it/s]\n",
      "Evaluating Test: 100%|██████████| 30/30 [00:00<00:00, 8077.88it/s]\n"
     ]
    },
    {
     "name": "stdout",
     "output_type": "stream",
     "text": [
      "Epoch: 127, Train Loss: 0.0038, Train: 1.0000, Val: 0.5667, Test: 0.6000, Std dev: 0.0022\n"
     ]
    },
    {
     "name": "stderr",
     "output_type": "stream",
     "text": [
      "Epoch 128: 100%|██████████| 4/4 [00:00<00:00, 675.17it/s]\n",
      "Evaluating Train: 100%|██████████| 4/4 [00:00<00:00, 1054.91it/s]\n",
      "Evaluating Validation: 100%|██████████| 30/30 [00:00<00:00, 7890.46it/s]\n",
      "Evaluating Test: 100%|██████████| 30/30 [00:00<00:00, 7921.75it/s]\n"
     ]
    },
    {
     "name": "stdout",
     "output_type": "stream",
     "text": [
      "Epoch: 128, Train Loss: 0.0064, Train: 1.0000, Val: 0.5667, Test: 0.6000, Std dev: 0.0020\n"
     ]
    },
    {
     "name": "stderr",
     "output_type": "stream",
     "text": [
      "Epoch 129: 100%|██████████| 4/4 [00:00<00:00, 698.96it/s]\n",
      "Evaluating Train: 100%|██████████| 4/4 [00:00<00:00, 1028.84it/s]\n",
      "Evaluating Validation: 100%|██████████| 30/30 [00:00<00:00, 7901.36it/s]\n",
      "Evaluating Test: 100%|██████████| 30/30 [00:00<00:00, 8012.55it/s]\n"
     ]
    },
    {
     "name": "stdout",
     "output_type": "stream",
     "text": [
      "Epoch: 129, Train Loss: 0.0039, Train: 1.0000, Val: 0.5667, Test: 0.5333, Std dev: 0.0021\n"
     ]
    },
    {
     "name": "stderr",
     "output_type": "stream",
     "text": [
      "Epoch 130: 100%|██████████| 4/4 [00:00<00:00, 702.62it/s]\n",
      "Evaluating Train: 100%|██████████| 4/4 [00:00<00:00, 1067.25it/s]\n",
      "Evaluating Validation: 100%|██████████| 30/30 [00:00<00:00, 8387.49it/s]\n",
      "Evaluating Test: 100%|██████████| 30/30 [00:00<00:00, 8099.20it/s]\n"
     ]
    },
    {
     "name": "stdout",
     "output_type": "stream",
     "text": [
      "Epoch: 130, Train Loss: 0.0042, Train: 1.0000, Val: 0.6333, Test: 0.5667, Std dev: 0.0021\n"
     ]
    },
    {
     "name": "stderr",
     "output_type": "stream",
     "text": [
      "Epoch 131: 100%|██████████| 4/4 [00:00<00:00, 704.66it/s]\n",
      "Evaluating Train: 100%|██████████| 4/4 [00:00<00:00, 1063.94it/s]\n",
      "Evaluating Validation: 100%|██████████| 30/30 [00:00<00:00, 8044.31it/s]\n",
      "Evaluating Test: 100%|██████████| 30/30 [00:00<00:00, 7946.77it/s]\n"
     ]
    },
    {
     "name": "stdout",
     "output_type": "stream",
     "text": [
      "Epoch: 131, Train Loss: 0.0081, Train: 1.0000, Val: 0.5667, Test: 0.6000, Std dev: 0.0017\n"
     ]
    },
    {
     "name": "stderr",
     "output_type": "stream",
     "text": [
      "Epoch 132: 100%|██████████| 4/4 [00:00<00:00, 699.75it/s]\n",
      "Evaluating Train: 100%|██████████| 4/4 [00:00<00:00, 1099.71it/s]\n",
      "Evaluating Validation: 100%|██████████| 30/30 [00:00<00:00, 8095.03it/s]\n",
      "Evaluating Test: 100%|██████████| 30/30 [00:00<00:00, 8047.91it/s]\n"
     ]
    },
    {
     "name": "stdout",
     "output_type": "stream",
     "text": [
      "Epoch: 132, Train Loss: 0.0070, Train: 1.0000, Val: 0.6333, Test: 0.5667, Std dev: 0.0016\n"
     ]
    },
    {
     "name": "stderr",
     "output_type": "stream",
     "text": [
      "Epoch 133: 100%|██████████| 4/4 [00:00<00:00, 698.21it/s]\n",
      "Evaluating Train: 100%|██████████| 4/4 [00:00<00:00, 1003.72it/s]\n",
      "Evaluating Validation: 100%|██████████| 30/30 [00:00<00:00, 8417.23it/s]\n",
      "Evaluating Test: 100%|██████████| 30/30 [00:00<00:00, 8149.03it/s]\n"
     ]
    },
    {
     "name": "stdout",
     "output_type": "stream",
     "text": [
      "Epoch: 133, Train Loss: 0.0030, Train: 1.0000, Val: 0.6667, Test: 0.6000, Std dev: 0.0019\n"
     ]
    },
    {
     "name": "stderr",
     "output_type": "stream",
     "text": [
      "Epoch 134: 100%|██████████| 4/4 [00:00<00:00, 700.25it/s]\n",
      "Evaluating Train: 100%|██████████| 4/4 [00:00<00:00, 1076.91it/s]\n",
      "Evaluating Validation: 100%|██████████| 30/30 [00:00<00:00, 8076.32it/s]\n",
      "Evaluating Test: 100%|██████████| 30/30 [00:00<00:00, 8138.49it/s]\n"
     ]
    },
    {
     "name": "stdout",
     "output_type": "stream",
     "text": [
      "Epoch: 134, Train Loss: 0.0016, Train: 1.0000, Val: 0.5333, Test: 0.6000, Std dev: 0.0024\n"
     ]
    },
    {
     "name": "stderr",
     "output_type": "stream",
     "text": [
      "Epoch 135: 100%|██████████| 4/4 [00:00<00:00, 706.38it/s]\n",
      "Evaluating Train: 100%|██████████| 4/4 [00:00<00:00, 1065.76it/s]\n",
      "Evaluating Validation: 100%|██████████| 30/30 [00:00<00:00, 7827.63it/s]\n",
      "Evaluating Test: 100%|██████████| 30/30 [00:00<00:00, 7756.70it/s]\n"
     ]
    },
    {
     "name": "stdout",
     "output_type": "stream",
     "text": [
      "Epoch: 135, Train Loss: 0.0070, Train: 1.0000, Val: 0.6667, Test: 0.5667, Std dev: 0.0025\n"
     ]
    },
    {
     "name": "stderr",
     "output_type": "stream",
     "text": [
      "Epoch 136: 100%|██████████| 4/4 [00:00<00:00, 702.68it/s]\n",
      "Evaluating Train: 100%|██████████| 4/4 [00:00<00:00, 1062.45it/s]\n",
      "Evaluating Validation: 100%|██████████| 30/30 [00:00<00:00, 7919.26it/s]\n",
      "Evaluating Test: 100%|██████████| 30/30 [00:00<00:00, 8186.67it/s]\n"
     ]
    },
    {
     "name": "stdout",
     "output_type": "stream",
     "text": [
      "Epoch: 136, Train Loss: 0.0129, Train: 1.0000, Val: 0.6333, Test: 0.6333, Std dev: 0.0039\n"
     ]
    },
    {
     "name": "stderr",
     "output_type": "stream",
     "text": [
      "Epoch 137: 100%|██████████| 4/4 [00:00<00:00, 720.76it/s]\n",
      "Evaluating Train: 100%|██████████| 4/4 [00:00<00:00, 997.63it/s]\n",
      "Evaluating Validation: 100%|██████████| 30/30 [00:00<00:00, 7897.39it/s]\n",
      "Evaluating Test: 100%|██████████| 30/30 [00:00<00:00, 8130.60it/s]\n"
     ]
    },
    {
     "name": "stdout",
     "output_type": "stream",
     "text": [
      "Epoch: 137, Train Loss: 0.0035, Train: 1.0000, Val: 0.6333, Test: 0.6000, Std dev: 0.0040\n"
     ]
    },
    {
     "name": "stderr",
     "output_type": "stream",
     "text": [
      "Epoch 138: 100%|██████████| 4/4 [00:00<00:00, 703.57it/s]\n",
      "Evaluating Train: 100%|██████████| 4/4 [00:00<00:00, 1088.58it/s]\n",
      "Evaluating Validation: 100%|██████████| 30/30 [00:00<00:00, 7975.98it/s]\n",
      "Evaluating Test: 100%|██████████| 30/30 [00:00<00:00, 8143.23it/s]\n"
     ]
    },
    {
     "name": "stdout",
     "output_type": "stream",
     "text": [
      "Epoch: 138, Train Loss: 0.0054, Train: 1.0000, Val: 0.5333, Test: 0.6000, Std dev: 0.0038\n"
     ]
    },
    {
     "name": "stderr",
     "output_type": "stream",
     "text": [
      "Epoch 139: 100%|██████████| 4/4 [00:00<00:00, 712.14it/s]\n",
      "Evaluating Train: 100%|██████████| 4/4 [00:00<00:00, 1081.15it/s]\n",
      "Evaluating Validation: 100%|██████████| 30/30 [00:00<00:00, 7751.92it/s]\n",
      "Evaluating Test: 100%|██████████| 30/30 [00:00<00:00, 8121.68it/s]\n"
     ]
    },
    {
     "name": "stdout",
     "output_type": "stream",
     "text": [
      "Epoch: 139, Train Loss: 0.0073, Train: 1.0000, Val: 0.6000, Test: 0.6333, Std dev: 0.0031\n"
     ]
    },
    {
     "name": "stderr",
     "output_type": "stream",
     "text": [
      "Epoch 140: 100%|██████████| 4/4 [00:00<00:00, 704.84it/s]\n",
      "Evaluating Train: 100%|██████████| 4/4 [00:00<00:00, 1066.57it/s]\n",
      "Evaluating Validation: 100%|██████████| 30/30 [00:00<00:00, 8228.97it/s]\n",
      "Evaluating Test: 100%|██████████| 30/30 [00:00<00:00, 7902.85it/s]\n"
     ]
    },
    {
     "name": "stdout",
     "output_type": "stream",
     "text": [
      "Epoch: 140, Train Loss: 0.0047, Train: 1.0000, Val: 0.5333, Test: 0.6333, Std dev: 0.0033\n"
     ]
    },
    {
     "name": "stderr",
     "output_type": "stream",
     "text": [
      "Epoch 141: 100%|██████████| 4/4 [00:00<00:00, 703.33it/s]\n",
      "Evaluating Train: 100%|██████████| 4/4 [00:00<00:00, 1076.98it/s]\n",
      "Evaluating Validation: 100%|██████████| 30/30 [00:00<00:00, 8162.24it/s]\n",
      "Evaluating Test: 100%|██████████| 30/30 [00:00<00:00, 7970.43it/s]\n"
     ]
    },
    {
     "name": "stdout",
     "output_type": "stream",
     "text": [
      "Epoch: 141, Train Loss: 0.0107, Train: 1.0000, Val: 0.5333, Test: 0.6000, Std dev: 0.0025\n"
     ]
    },
    {
     "name": "stderr",
     "output_type": "stream",
     "text": [
      "Epoch 142: 100%|██████████| 4/4 [00:00<00:00, 702.24it/s]\n",
      "Evaluating Train: 100%|██████████| 4/4 [00:00<00:00, 1073.54it/s]\n",
      "Evaluating Validation: 100%|██████████| 30/30 [00:00<00:00, 8085.15it/s]\n",
      "Evaluating Test: 100%|██████████| 30/30 [00:00<00:00, 8391.96it/s]\n"
     ]
    },
    {
     "name": "stdout",
     "output_type": "stream",
     "text": [
      "Epoch: 142, Train Loss: 0.0081, Train: 1.0000, Val: 0.5667, Test: 0.6000, Std dev: 0.0021\n"
     ]
    },
    {
     "name": "stderr",
     "output_type": "stream",
     "text": [
      "Epoch 143: 100%|██████████| 4/4 [00:00<00:00, 707.27it/s]\n",
      "Evaluating Train: 100%|██████████| 4/4 [00:00<00:00, 1077.40it/s]\n",
      "Evaluating Validation: 100%|██████████| 30/30 [00:00<00:00, 7770.11it/s]\n",
      "Evaluating Test: 100%|██████████| 30/30 [00:00<00:00, 8046.88it/s]\n"
     ]
    },
    {
     "name": "stdout",
     "output_type": "stream",
     "text": [
      "Epoch: 143, Train Loss: 0.0041, Train: 1.0000, Val: 0.6000, Test: 0.6333, Std dev: 0.0024\n"
     ]
    },
    {
     "name": "stderr",
     "output_type": "stream",
     "text": [
      "Epoch 144: 100%|██████████| 4/4 [00:00<00:00, 694.13it/s]\n",
      "Evaluating Train: 100%|██████████| 4/4 [00:00<00:00, 1061.11it/s]\n",
      "Evaluating Validation: 100%|██████████| 30/30 [00:00<00:00, 7931.24it/s]\n",
      "Evaluating Test: 100%|██████████| 30/30 [00:00<00:00, 8171.78it/s]\n"
     ]
    },
    {
     "name": "stdout",
     "output_type": "stream",
     "text": [
      "Epoch: 144, Train Loss: 0.0048, Train: 1.0000, Val: 0.5333, Test: 0.6333, Std dev: 0.0025\n"
     ]
    },
    {
     "name": "stderr",
     "output_type": "stream",
     "text": [
      "Epoch 145: 100%|██████████| 4/4 [00:00<00:00, 685.20it/s]\n",
      "Evaluating Train: 100%|██████████| 4/4 [00:00<00:00, 1038.64it/s]\n",
      "Evaluating Validation: 100%|██████████| 30/30 [00:00<00:00, 8050.49it/s]\n",
      "Evaluating Test: 100%|██████████| 30/30 [00:00<00:00, 8102.33it/s]\n"
     ]
    },
    {
     "name": "stdout",
     "output_type": "stream",
     "text": [
      "Epoch: 145, Train Loss: 0.0068, Train: 1.0000, Val: 0.6667, Test: 0.6333, Std dev: 0.0023\n"
     ]
    },
    {
     "name": "stderr",
     "output_type": "stream",
     "text": [
      "Epoch 146: 100%|██████████| 4/4 [00:00<00:00, 709.22it/s]\n",
      "Evaluating Train: 100%|██████████| 4/4 [00:00<00:00, 1055.70it/s]\n",
      "Evaluating Validation: 100%|██████████| 30/30 [00:00<00:00, 7951.29it/s]\n",
      "Evaluating Test: 100%|██████████| 30/30 [00:00<00:00, 8143.23it/s]\n"
     ]
    },
    {
     "name": "stdout",
     "output_type": "stream",
     "text": [
      "Epoch: 146, Train Loss: 0.0074, Train: 1.0000, Val: 0.5333, Test: 0.5667, Std dev: 0.0015\n"
     ]
    },
    {
     "name": "stderr",
     "output_type": "stream",
     "text": [
      "Epoch 147: 100%|██████████| 4/4 [00:00<00:00, 701.36it/s]\n",
      "Evaluating Train: 100%|██████████| 4/4 [00:00<00:00, 1011.28it/s]\n",
      "Evaluating Validation: 100%|██████████| 30/30 [00:00<00:00, 7898.38it/s]\n",
      "Evaluating Test: 100%|██████████| 30/30 [00:00<00:00, 8061.32it/s]\n"
     ]
    },
    {
     "name": "stdout",
     "output_type": "stream",
     "text": [
      "Epoch: 147, Train Loss: 0.0051, Train: 1.0000, Val: 0.6000, Test: 0.5333, Std dev: 0.0012\n"
     ]
    },
    {
     "name": "stderr",
     "output_type": "stream",
     "text": [
      "Epoch 148: 100%|██████████| 4/4 [00:00<00:00, 711.95it/s]\n",
      "Evaluating Train: 100%|██████████| 4/4 [00:00<00:00, 1055.83it/s]\n",
      "Evaluating Validation: 100%|██████████| 30/30 [00:00<00:00, 7952.29it/s]\n",
      "Evaluating Test: 100%|██████████| 30/30 [00:00<00:00, 8182.94it/s]\n"
     ]
    },
    {
     "name": "stdout",
     "output_type": "stream",
     "text": [
      "Epoch: 148, Train Loss: 0.0075, Train: 1.0000, Val: 0.5333, Test: 0.5667, Std dev: 0.0011\n"
     ]
    },
    {
     "name": "stderr",
     "output_type": "stream",
     "text": [
      "Epoch 149: 100%|██████████| 4/4 [00:00<00:00, 671.63it/s]\n",
      "Evaluating Train: 100%|██████████| 4/4 [00:00<00:00, 1060.17it/s]\n",
      "Evaluating Validation: 100%|██████████| 30/30 [00:00<00:00, 8028.91it/s]\n",
      "Evaluating Test: 100%|██████████| 30/30 [00:00<00:00, 8280.96it/s]\n"
     ]
    },
    {
     "name": "stdout",
     "output_type": "stream",
     "text": [
      "Epoch: 149, Train Loss: 0.0041, Train: 1.0000, Val: 0.5333, Test: 0.5667, Std dev: 0.0013\n"
     ]
    },
    {
     "name": "stderr",
     "output_type": "stream",
     "text": [
      "Epoch 150: 100%|██████████| 4/4 [00:00<00:00, 706.94it/s]\n",
      "Evaluating Train: 100%|██████████| 4/4 [00:00<00:00, 1089.01it/s]\n",
      "Evaluating Validation: 100%|██████████| 30/30 [00:00<00:00, 8170.19it/s]\n",
      "Evaluating Test: 100%|██████████| 30/30 [00:00<00:00, 8240.28it/s]\n"
     ]
    },
    {
     "name": "stdout",
     "output_type": "stream",
     "text": [
      "Epoch: 150, Train Loss: 0.0046, Train: 1.0000, Val: 0.5333, Test: 0.6000, Std dev: 0.0014\n"
     ]
    },
    {
     "data": {
      "text/plain": [
       "<Figure size 432x288 with 0 Axes>"
      ]
     },
     "metadata": {},
     "output_type": "display_data"
    },
    {
     "data": {
      "image/png": "[encoded data removed]",
      "text/plain": [
       "<Figure size 432x288 with 1 Axes>"
      ]
     },
     "metadata": {
      "needs_background": "light"
     },
     "output_type": "display_data"
    },
    {
     "name": "stdout",
     "output_type": "stream",
     "text": [
      "Best Validation Accuracy,  0.7666666666666667\n",
      "Best Test Accuracy,  0.7333333333333333\n",
      "Total epoch time:  3.540797710418701\n",
      "0.7333333333333333 150\n"
     ]
    }
   ],
   "source": [
    "args.log_info = True\n",
    "DATASET_NAME = 'karate'\n",
    "data, dataset = get_data(DATASET_NAME, DIR=None, log=False, h_score=True, split_no=1); print(\"\")\n",
    "print(data)\n",
    "\n",
    "# (row, col) = data.edge_index\n",
    "# data.edge_index = torch.stack((torch.cat((row, col),dim=0),torch.cat((col, row),dim=0)),dim=0)\n",
    "# data.edge_index = torch_geometric.utils.coalesce(data.edge_index)\n",
    "# print(data)\n",
    "\n",
    "args.recompute = True\n",
    "\n",
    "\n",
    "if len(data.y.shape) > 1:\n",
    "    data.y = data.y.argmax(dim=1)        \n",
    "    num_classes = torch.max(data.y).item()+1\n",
    "else:\n",
    "    num_classes = dataset.num_classes\n",
    "\n",
    "if num_classes!= torch.max(data.y)+1:\n",
    "    num_classes = torch.max(data.y).item()+1\n",
    "    \n",
    "# data.edge_index, _ = add_self_loops(data.edge_index)            \n",
    "# data.x = torch.cat((data.x, adj_feature(data)), dim=1)\n",
    "# if args.log_info == True:\n",
    "#     print(data.x.shape)\n",
    "\n",
    "    \n",
    "# if DATASET_NAME in ['Cornell', 'cornell5']:\n",
    "#     data.edge_index, _ = add_self_loops(data.edge_index)            \n",
    "    \n",
    "# if DATASET_NAME in ['Squirrel', 'Chameleon', 'amherst41',\n",
    "#                     'Cornell','cornell5', 'johnshopkins55']:\n",
    "#     data.x = torch.cat((data.x, adj_feature(data)), dim=1)\n",
    "#     if args.log_info == True:\n",
    "#         print(data.x.shape)\n",
    "\n",
    "\n",
    "best_acc, num_iteration, _ =  AGSNSperformanceSampler(DATASET_NAME, data, dataset, num_classes, epochs=150, train_neighbors=[8,4], test_neighbors=[8,4])\n",
    "print(best_acc, num_iteration)"
   ]
  },
  {
   "cell_type": "markdown",
   "id": "eb2f89d3",
   "metadata": {},
   "source": [
    "# Batch Experiments"
   ]
  },
  {
   "cell_type": "code",
   "execution_count": null,
   "id": "c7a2677b",
   "metadata": {},
   "outputs": [],
   "source": [
    "def batch_experiments(num_run=1):\n",
    "    \n",
    "    ALL_DATASETs= [\n",
    "        \"Cornell\",\n",
    "        \"Texas\",\n",
    "        \"Wisconsin\",\n",
    "        \"reed98\",\n",
    "        \"amherst41\",\n",
    "        \"penn94\",\n",
    "        \"Roman-empire\",\n",
    "        \"cornell5\",\n",
    "        \"Squirrel\",\n",
    "        \"johnshopkins55\",\n",
    "        \"AmazonProducts\",\n",
    "        \"Actor\",\n",
    "        \"Minesweeper\",\n",
    "        \"Questions\",\n",
    "        \"Chameleon\",\n",
    "        \"Tolokers\",\n",
    "        \"Flickr\",\n",
    "        \"Yelp\",\n",
    "        \"Amazon-ratings\",\n",
    "        \"genius\",\n",
    "        \"cora\",\n",
    "        \"CiteSeer\",\n",
    "        \"dblp\",\n",
    "        \"Computers\",\n",
    "        \"PubMed\",\n",
    "        \"pubmed\",\n",
    "        \"Reddit\",\n",
    "        \"cora_ml\",\n",
    "        \"Cora\",\n",
    "        \"Reddit2\",\n",
    "        \"CS\",\n",
    "        \"Photo\",\n",
    "        \"Physics\",\n",
    "        \"citeseer\"\n",
    "    ]     \n",
    "    \n",
    "    ALL_DATASETs= [\n",
    "        'cornell5',\n",
    "    ]\n",
    "\n",
    "    args.log_info = False\n",
    "    \n",
    "    filename = \"Results/AGSGNN-NS-2.txt\"\n",
    "    \n",
    "    for DATASET_NAME in ALL_DATASETs:  \n",
    "        print(DATASET_NAME, end=' ')\n",
    "        \n",
    "        \n",
    "        result_file = open(filename,'a+')        \n",
    "        result_file.write(f'{DATASET_NAME} ')\n",
    "        result_file.close()\n",
    "                \n",
    "        accs = []\n",
    "        itrs = []\n",
    "                \n",
    "        for i in range(num_run):\n",
    "            data, dataset = get_data(DATASET_NAME, DIR=None, log=False, h_score=False, split_no=i)   \n",
    "            \n",
    "            #optional for making undirected graph\n",
    "            (row, col) = data.edge_index\n",
    "            data.edge_index = torch.stack((torch.cat((row, col),dim=0),torch.cat((col, row),dim=0)),dim=0)\n",
    "            data.edge_index = torch_geometric.utils.coalesce(data.edge_index)\n",
    "            \n",
    "#             if data.num_nodes>100000:\n",
    "#                 accs.append(-1)\n",
    "#                 itrs.append(-1)\n",
    "#                 break\n",
    "            \n",
    "            if len(data.y.shape) > 1:\n",
    "                data.y = data.y.argmax(dim=1)        \n",
    "                num_classes = torch.max(data.y).item()+1\n",
    "            else:\n",
    "                num_classes = dataset.num_classes\n",
    "            \n",
    "            if num_classes!= torch.max(data.y)+1:\n",
    "                num_classes = torch.max(data.y).item()+1\n",
    "                \n",
    "            if data.num_nodes<100000:\n",
    "                max_epochs = 150\n",
    "            else:\n",
    "                max_epochs = 20\n",
    "                \n",
    "            if DATASET_NAME in ['Squirrel', 'Chameleon','cornell5','penn94','johnshopkins55'\n",
    "                               ]:\n",
    "                data.x = torch.cat((data.x, adj_feature(data)), dim=1)\n",
    "                if args.log_info == True:\n",
    "                    print(data.x.shape)\n",
    "                              \n",
    "            accuracy, itr, _ = AGSNSperformanceSampler(DATASET_NAME, data, dataset, num_classes, epochs=max_epochs, train_neighbors=[8,4], test_neighbors=[8,4])\n",
    "            \n",
    "            accs.append(accuracy)\n",
    "            itrs.append(itr)\n",
    "            #print(itr, accuracy)\n",
    "                        \n",
    "        #print(accs, itrs)\n",
    "        print(f'acc {np.mean(accs):0.4f} sd {np.std(accs):0.4f} itr {int(np.mean(itrs)):d} sd {int(np.std(itrs)):d}')\n",
    "        result_file = open(filename,'a+')\n",
    "        result_file.write(f'acc {np.mean(accs):0.4f} sd {np.std(accs):0.4f} itr {int(np.mean(itrs)):d} sd {int(np.std(itrs)):d}\\n')\n",
    "        result_file.close()\n",
    "                \n",
    "# batch_experiments(num_run=5)"
   ]
  },
  {
   "cell_type": "markdown",
   "id": "fd4cab8c",
   "metadata": {},
   "source": [
    "## View Learned Representation"
   ]
  },
  {
   "cell_type": "code",
   "execution_count": null,
   "id": "361d4d07",
   "metadata": {},
   "outputs": [],
   "source": [
    "# if __name__ == '__main__':    \n",
    "    \n",
    "#     n=7\n",
    "#     x = torch.Tensor([[1,0],[1,0],[1,0],[0,1],[0,1],[0,1],[0,1]])\n",
    "#     y = torch.LongTensor([0,0,0, 1, 1, 1, 1])\n",
    "#     edge_index = torch.LongTensor([[1,2],[1,4],[1,5],[2,1],[3,6],[3,7],[4,5],[4,1],[4,6],[4,7],[5,1],[5,4],[5,6],[6,3],[6,4],[6,5],[6,7],[7,3],[7,4],[7,6]]).T\n",
    "#     edge_index = edge_index-1\n",
    "    \n",
    "#     mask = torch.zeros(n, dtype=torch.bool)\n",
    "#     mask[[1,3]] = True\n",
    "    \n",
    "#     test_data = Data(x = x, y = y, edge_index = edge_index, train_mask = mask, test_mask = mask, val_mask = mask)    \n",
    "#     print(test_data)\n",
    "    \n",
    "    \n",
    "#     None"
   ]
  },
  {
   "cell_type": "code",
   "execution_count": null,
   "id": "83ca9c5f",
   "metadata": {},
   "outputs": [],
   "source": [
    "# from sklearn.manifold import TSNE\n",
    "# import matplotlib.pyplot as plt"
   ]
  },
  {
   "cell_type": "code",
   "execution_count": null,
   "id": "48f76e63",
   "metadata": {},
   "outputs": [],
   "source": [
    "# model.eval()\n",
    "# #X = model(data.x.to(device),data.edge_index.to(device), data.weight.to(device))\n",
    "# X = model(data.x.to(device),data.edge_index.to(device))\n",
    "# X = X.detach().to('cpu')\n",
    "# y = data.y.to('cpu')\n",
    "# X.shape"
   ]
  },
  {
   "cell_type": "code",
   "execution_count": null,
   "id": "e1e750fe",
   "metadata": {},
   "outputs": [],
   "source": [
    "# plt.figure(figsize=(10, 10))\n",
    "\n",
    "# # Create a t-SNE model with 2 components and a perplexity of 30\n",
    "# tsne = TSNE(n_components=2, perplexity=30, random_state=42, learning_rate='auto', init='random')\n",
    "\n",
    "# # Fit and transform the data to the 2D t-SNE space\n",
    "# X_tsne = tsne.fit_transform(X)\n",
    "\n",
    "# # Plot the data in the 2D t-SNE space, colored by class\n",
    "# plt.scatter(X_tsne[:, 0], X_tsne[:, 1], c=y)\n",
    "# plt.show()"
   ]
  },
  {
   "cell_type": "code",
   "execution_count": null,
   "id": "0f746ae2",
   "metadata": {},
   "outputs": [],
   "source": []
  },
  {
   "cell_type": "code",
   "execution_count": null,
   "id": "353ca0df",
   "metadata": {},
   "outputs": [],
   "source": []
  }
 ],
 "metadata": {
  "kernelspec": {
   "display_name": "py38cu11",
   "language": "python",
   "name": "py38cu11"
  },
  "language_info": {
   "codemirror_mode": {
    "name": "ipython",
    "version": 3
   },
   "file_extension": ".py",
   "mimetype": "text/x-python",
   "name": "python",
   "nbconvert_exporter": "python",
   "pygments_lexer": "ipython3",
   "version": "3.8.13"
  }
 },
 "nbformat": 4,
 "nbformat_minor": 5
}
