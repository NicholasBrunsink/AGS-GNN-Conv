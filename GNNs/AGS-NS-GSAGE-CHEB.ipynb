{
 "cells": [
  {
   "cell_type": "markdown",
   "id": "44415f5a",
   "metadata": {},
   "source": [
    "## Get Cuda and Processor information"
   ]
  },
  {
   "cell_type": "code",
   "execution_count": 1,
   "id": "7ac319c5",
   "metadata": {},
   "outputs": [
    {
     "data": {
      "text/plain": [
       "40"
      ]
     },
     "execution_count": 1,
     "metadata": {},
     "output_type": "execute_result"
    }
   ],
   "source": [
    "import sys\n",
    "sys.path.append('../Submodular')\n",
    "\n",
    "import DeviceDir\n",
    "\n",
    "DIR, RESULTS_DIR = DeviceDir.get_directory()\n",
    "device, NUM_PROCESSORS = DeviceDir.get_device()\n",
    "\n",
    "NUM_PROCESSORS"
   ]
  },
  {
   "cell_type": "code",
   "execution_count": 2,
   "id": "413bed4b",
   "metadata": {},
   "outputs": [
    {
     "name": "stdout",
     "output_type": "stream",
     "text": [
      "Cpu count:  40\n"
     ]
    }
   ],
   "source": [
    "import multiprocessing\n",
    "\n",
    "NUM_PROCESSORS=multiprocessing.cpu_count()\n",
    "print(\"Cpu count: \",NUM_PROCESSORS)"
   ]
  },
  {
   "cell_type": "code",
   "execution_count": 3,
   "id": "782d8b87",
   "metadata": {},
   "outputs": [],
   "source": [
    "from ipynb.fs.full.Dataset import get_data\n",
    "from ipynb.fs.full.Dataset import datasets as available_datasets\n",
    "from ipynb.fs.full.Utils import save_plot"
   ]
  },
  {
   "cell_type": "code",
   "execution_count": 4,
   "id": "d11e7a9f",
   "metadata": {},
   "outputs": [],
   "source": [
    "import argparse\n",
    "from argparse import ArgumentParser\n",
    "\n",
    "#set default arguments here\n",
    "def get_configuration():\n",
    "    parser = ArgumentParser()\n",
    "    parser.add_argument('--epochs', type=int, default=1)\n",
    "    parser.add_argument('--log_info', type=bool, default=True)\n",
    "    parser.add_argument('--pbar', type=bool, default=False)\n",
    "    parser.add_argument('--batch_size', type=int, default=2048)\n",
    "    parser.add_argument('--learning_rate', type=float, default=0.01)\n",
    "    parser.add_argument('--recompute', type=bool, default=False)\n",
    "    parser.add_argument('--num_gpus', type=int, default=-1)\n",
    "    parser.add_argument('--parallel_mode', type=str, default=\"dp\", choices=['dp', 'ddp', 'ddp2'])\n",
    "    parser.add_argument('--dataset', type=str, default=\"Cora\", choices=available_datasets)\n",
    "    parser.add_argument('--use_normalization', action='store_false', default=True)\n",
    "    parser.add_argument('--f') ##dummy for jupyternotebook\n",
    "    args = parser.parse_args()\n",
    "    \n",
    "    dict_args = vars(args)\n",
    "    \n",
    "    return args, dict_args\n",
    "\n",
    "args, dict_args = get_configuration()"
   ]
  },
  {
   "cell_type": "markdown",
   "id": "f15d0c7f",
   "metadata": {},
   "source": [
    "## libraries"
   ]
  },
  {
   "cell_type": "code",
   "execution_count": 5,
   "id": "38ae0932",
   "metadata": {},
   "outputs": [],
   "source": [
    "import random\n",
    "import numpy as np\n",
    "import torch\n",
    "\n",
    "seed = 123\n",
    "\n",
    "random.seed(seed)\n",
    "np.random.seed(seed)\n",
    "torch.manual_seed(seed)\n",
    "None"
   ]
  },
  {
   "cell_type": "code",
   "execution_count": 6,
   "id": "0f2deccb",
   "metadata": {},
   "outputs": [],
   "source": [
    "import os\n",
    "import math\n",
    "import time\n",
    "from tqdm import tqdm\n",
    "import torch.nn as nn\n",
    "from torch_geometric.data import Data, Dataset"
   ]
  },
  {
   "cell_type": "markdown",
   "id": "9141f832",
   "metadata": {},
   "source": [
    "## GNN model"
   ]
  },
  {
   "cell_type": "code",
   "execution_count": 7,
   "id": "bbd4df8e",
   "metadata": {},
   "outputs": [],
   "source": [
    "import torch_geometric\n",
    "from torch_geometric.nn import GCNConv, GATConv, SAGEConv, GINConv, ChebConv\n",
    "from torch_geometric.nn import GraphConv, TransformerConv\n",
    "from torch_geometric.utils import degree\n",
    "import torch.nn.functional as F\n",
    "from sklearn.metrics import accuracy_score\n",
    "from ipynb.fs.full.SpatialConv import SpatialConv"
   ]
  },
  {
   "cell_type": "markdown",
   "id": "e007e8b8",
   "metadata": {},
   "source": [
    "### GNN option 1"
   ]
  },
  {
   "cell_type": "code",
   "execution_count": 8,
   "id": "5744498e",
   "metadata": {},
   "outputs": [],
   "source": [
    "GNNconv = SAGEConv"
   ]
  },
  {
   "cell_type": "code",
   "execution_count": 9,
   "id": "bd0e048d",
   "metadata": {},
   "outputs": [],
   "source": [
    "class GNNHomophily(torch.nn.Module):\n",
    "    def __init__(self, num_features,num_classes, hidden_channels=16):\n",
    "        super().__init__()\n",
    "        self.num_classes = num_classes\n",
    "             \n",
    "        self.conv1 = GNNconv(num_features, hidden_channels)\n",
    "        #self.conv2 = GNNconv(hidden_channels,hidden_channels)\n",
    "        self.conv3 = GNNconv(hidden_channels,num_classes)\n",
    "\n",
    "    def forward(self, x, edge_index, edge_weight=None):\n",
    "        x = self.conv1(x, edge_index, edge_weight)\n",
    "        x = x.relu()\n",
    "        x = F.dropout(x, p=0.5, training=self.training)\n",
    "#         x = self.conv2(x, edge_index, edge_weight)\n",
    "#         x = x.relu()\n",
    "#         x = F.dropout(x, p=0.5, training=self.training)\n",
    "        x = self.conv3(x, edge_index, edge_weight)\n",
    "        \n",
    "        return x\n",
    "    \n",
    "class GNNHeterophily(torch.nn.Module):\n",
    "    def __init__(self, num_features,num_classes, hidden_channels=16):\n",
    "        super().__init__()\n",
    "        self.num_classes = num_classes\n",
    "             \n",
    "        self.conv1 = ChebConv(num_features, hidden_channels, K=2, normalization='sym')\n",
    "        #self.conv2 = GNNconv(hidden_channels,hidden_channels)\n",
    "        self.conv3 = ChebConv(hidden_channels,num_classes, K=2, normalization='sym')\n",
    "\n",
    "    def forward(self, x, edge_index, edge_weight=None):\n",
    "        x = self.conv1(x, edge_index, edge_weight)\n",
    "        x = x.relu()\n",
    "        x = F.dropout(x, p=0.5, training=self.training)\n",
    "#         x = self.conv2(x, edge_index, edge_weight)\n",
    "#         x = x.relu()\n",
    "#         x = F.dropout(x, p=0.5, training=self.training)\n",
    "        x = self.conv3(x, edge_index, edge_weight)\n",
    "        \n",
    "        return x\n",
    "    \n",
    "class AGSGNN(torch.nn.Module):\n",
    "    def __init__(self, num_features,num_classes, hidden_channels=16, dropout=0.5):\n",
    "        super().__init__()\n",
    "        self.num_classes = num_classes\n",
    "        \n",
    "        hidden = int(hidden_channels/2)\n",
    "        \n",
    "        #self.gnn1 = GNNHomophily(num_features, num_classes, hidden_channels)        \n",
    "        self.gnn1 = GNNHomophily(num_features, hidden, hidden_channels)\n",
    "        self.gnn2 = GNNHeterophily(num_features, hidden, hidden_channels)\n",
    "        self.p = dropout\n",
    "        self.com_lin = nn.Linear(hidden*2, num_classes)\n",
    "        \n",
    "        \n",
    "#         self.T = 2        \n",
    "#         self.layer_norm_a1 =  nn.LayerNorm(num_classes)\n",
    "#         self.layer_norm_s1 =  nn.LayerNorm(num_classes)\n",
    "        \n",
    "#         self.alpha_a1 = nn.Linear(num_classes, 1)\n",
    "#         self.alpha_s1 = nn.Linear(num_classes, 1)\n",
    "#         self.w1 = nn.Linear(self.T, self.T)\n",
    "        \n",
    "        #self.reset_parameters()\n",
    "            \n",
    "#     def reset_parameters(self):\n",
    "#         std_att = 1. / math.sqrt(self.w1.weight.size(1))\n",
    "#         std_att_vec = 1. / math.sqrt( self.alpha_a1.weight.size(1))\n",
    "        \n",
    "#         self.alpha_s1.weight.data.uniform_(-std_att, std_att)\n",
    "#         self.alpha_i1.weight.data.uniform_(-std_att, std_att)\n",
    "        \n",
    "#         self.layer_norm_a1.reset_parameters()\n",
    "#         self.layer_norm_s1.reset_parameters()        \n",
    "        \n",
    "    def forward(self, batch_data):\n",
    "        \n",
    "        #out = model(batch_data.x, batch_data.edge_index, batch_data.weight)\n",
    "        #out = model(batch_data.x, batch_data.edge_index, batch_data.edge_weight)\n",
    "        #out = model(batch_data.x, batch_data.edge_index)\n",
    "        \n",
    "        x1 = self.gnn1(batch_data[0].x, batch_data[0].edge_index)\n",
    "        #return x1        \n",
    "        \n",
    "        x2 = self.gnn2(batch_data[1].x, batch_data[1].edge_index)\n",
    "        #return x2\n",
    "        \n",
    "        a1 = F.relu(x1)\n",
    "        #a1 = self.layer_norm_a1(a1)\n",
    "        a1 = F.dropout(a1, p=self.p, training=self.training)\n",
    "        \n",
    "        s1 = F.relu(x2)\n",
    "        #s1 = self.layer_norm_s1(s1)\n",
    "        s1 = F.dropout(s1, p=self.p, training=self.training)\n",
    "        \n",
    "        used = batch_data[0].batch_size\n",
    "        \n",
    "        x = torch.cat([a1[:used,:], s1[:used,:]], dim=-1)\n",
    "        x = self.com_lin(x)\n",
    "        \n",
    "        \n",
    "#         ala1 = torch.sigmoid(self.alpha_a1(a1))\n",
    "#         als1 = torch.sigmoid(self.alpha_s1(s1))        \n",
    "        \n",
    "#         alpha1 = F.softmax(self.w1(torch.cat([ala1, als1],dim=-1)/self.T), dim=1)                \n",
    "#         x = torch.mm(torch.diag(alpha1[:,0]),a1) + torch.mm(torch.diag(alpha1[:,1]),s1)\n",
    "        \n",
    "        #print(x.shape)\n",
    "        \n",
    "        return x"
   ]
  },
  {
   "cell_type": "markdown",
   "id": "88b17b8e",
   "metadata": {},
   "source": [
    "## GNN Training and Testing"
   ]
  },
  {
   "cell_type": "code",
   "execution_count": 10,
   "id": "e11e841d",
   "metadata": {},
   "outputs": [],
   "source": [
    "from torch_geometric.loader import NeighborSampler, NeighborLoader\n",
    "from ipynb.fs.full.AGSNodeSampler import WeightedNeighborLoader"
   ]
  },
  {
   "cell_type": "code",
   "execution_count": 11,
   "id": "5ac415e3",
   "metadata": {},
   "outputs": [],
   "source": [
    "def test(model, loader, mask, name='Train'):    \n",
    "    if args.log_info:    \n",
    "        pbar = tqdm(total=sum(mask).item())\n",
    "        pbar.set_description(f'Evaluating {name}')\n",
    "    \n",
    "    model.eval()\n",
    "    \n",
    "    total_correct=0\n",
    "    total_examples=0\n",
    "    \n",
    "    sigmoid = nn.Sigmoid()    \n",
    "    \n",
    "    y_true = []\n",
    "    y_pred = []\n",
    "    \n",
    "    with torch.no_grad():                  \n",
    "    \n",
    "        for i,batch_data in enumerate(loader):\n",
    "            \n",
    "            batch_data = [b.to(device) for b in batch_data]\n",
    "            used = batch_data[0].batch_size\n",
    "            \n",
    "            out = model(batch_data)\n",
    "                   \n",
    "            out=out[:used,:]\n",
    "            pred = out.argmax(dim=1)            \n",
    "\n",
    "            y_true.append(batch_data[0].y[:used].detach().cpu().numpy())\n",
    "            y_pred.append(pred.detach().cpu().numpy())\n",
    "            \n",
    "            if args.log_info:\n",
    "                pbar.update(used)\n",
    "              \n",
    "    if args.log_info:\n",
    "        pbar.close()\n",
    "    \n",
    "    y_true = np.concatenate(y_true)\n",
    "    y_pred = np.concatenate(y_pred)\n",
    "    \n",
    "    acc = accuracy_score(y_true, y_pred)\n",
    "                    \n",
    "    return acc"
   ]
  },
  {
   "cell_type": "code",
   "execution_count": 12,
   "id": "85fa0de2",
   "metadata": {},
   "outputs": [],
   "source": [
    "def train(DATASET_NAME, model, data, epochs=100, train_neighbors=[-1,10], test_neighbors=[-1,10]):\n",
    "    \n",
    "    if args.log_info:\n",
    "        print(\"Train neighbors: \", train_neighbors)\n",
    "        print(\"Test neighbors: \", test_neighbors)\n",
    "        \n",
    "#     optimizer = torch.optim.Adam(model.parameters(), lr=0.01, weight_decay=5e-4)\n",
    "    optimizer = torch.optim.Adam(model.parameters())\n",
    "    \n",
    "    if data.y.ndim == 1:\n",
    "        criterion = torch.nn.CrossEntropyLoss()\n",
    "    else:\n",
    "        criterion = torch.nn.BCEWithLogitsLoss()\n",
    "    \n",
    "    #batch_size=1024         \n",
    "    batch_size=512         \n",
    "    worker = 0\n",
    "    \n",
    "    if data.num_nodes>=50000:\n",
    "        worker = 8\n",
    "    else:\n",
    "        worker = min(8,int(sum(data.train_mask)/batch_size))\n",
    "        \n",
    "    if args.log_info:\n",
    "        print(\"Worker: \", worker)\n",
    "        \n",
    "#     weight_func=['knn','submodular']; \n",
    "    weight_func=['knn','submodular']; \n",
    "#     weight_func=['random', 'random'];  worker = 0;\n",
    "#     weight_func=['link-nn', 'link-sub'];  worker = 2;\n",
    "    params={\n",
    "        'knn':{'metric':'cosine'},\n",
    "        'submodular':{'metric':'cosine'},\n",
    "        'link-nn':{'value':'min'},\n",
    "        'link-sub':{'value':'max'},\n",
    "    }    \n",
    "    \n",
    "    sampler_dir = DIR+'AGSGNNstruc/'+DATASET_NAME\n",
    "#     if not os.path.exists(sampler_dir):\n",
    "#         os.makedirs(sampler_dir)\n",
    "    \n",
    "    start = time.time()    \n",
    "    loader = WeightedNeighborLoader(data, input_nodes=data.train_mask,num_neighbors=train_neighbors, \n",
    "                              batch_size=batch_size, shuffle=True, num_workers=worker, drop_last=False, \n",
    "                              weight_func=weight_func, params=params, log=args.log_info,\n",
    "                                    directed=True, replace = False,\n",
    "                                    save_dir = sampler_dir,recompute = args.recompute)\n",
    "\n",
    "    train_loader = WeightedNeighborLoader(data, input_nodes=data.train_mask,num_neighbors=train_neighbors, \n",
    "                              batch_size=batch_size, shuffle=False, num_workers=worker, drop_last=False, \n",
    "                              weight_func=weight_func, params=params, log=args.log_info,\n",
    "                                          directed=True, replace = False,\n",
    "                                          save_dir = sampler_dir,recompute = False)\n",
    "    \n",
    "    val_loader = WeightedNeighborLoader(data, input_nodes=data.val_mask,num_neighbors=test_neighbors, \n",
    "                              batch_size=batch_size, shuffle=False, num_workers=min(8,int(sum(data.val_mask)/batch_size)), drop_last=False, \n",
    "                              weight_func=weight_func, params=params,log=args.log_info, directed=True, replace = False,\n",
    "                                        save_dir = sampler_dir,recompute = False)\n",
    "    \n",
    "    test_loader = WeightedNeighborLoader(data, input_nodes=data.test_mask,num_neighbors=test_neighbors, \n",
    "                              batch_size=batch_size, shuffle=False, num_workers=min(8,int(sum(data.test_mask)/batch_size)), drop_last=False, \n",
    "                              weight_func=weight_func, params=params, log=args.log_info, directed=True, replace = False,\n",
    "                                         save_dir = sampler_dir,recompute = False)\n",
    "    \n",
    "    top_k_accs = []    \n",
    "    best_acc=0  \n",
    "    \n",
    "    train_losses=[]\n",
    "    val_accuracies=[]\n",
    "    train_accuracies=[]\n",
    "    test_accuracies=[]\n",
    "    \n",
    "    num_iteration = epochs\n",
    "    \n",
    "    end = time.time()\n",
    "    if args.log_info:\n",
    "        print(\"Total initialization time: \", end-start)\n",
    "    \n",
    "    start = time.time()\n",
    "    \n",
    "    for epoch in range(1,epochs+1):\n",
    "        \n",
    "        if args.log_info:\n",
    "            pbar = tqdm(total=int(sum(data.train_mask)))\n",
    "            pbar.set_description(f'Epoch {epoch:02d}')\n",
    "        \n",
    "        model.train()\n",
    "        total_loss = total_examples = 0\n",
    "        \n",
    "        for i,batch_data in enumerate(loader):            \n",
    "            #print(batch_data)\n",
    "            \n",
    "            batch_data = [b.to(device) for b in batch_data]\n",
    "            used = batch_data[0].batch_size #int(sum(batch_data.train_mask))       \n",
    "            \n",
    "            optimizer.zero_grad()            \n",
    "            out = model(batch_data)\n",
    "            #out = F.log_softmax(out, dim=1)                 \n",
    "            #loss = F.nll_loss(out[batch_data[0].train_mask], batch_data[0].y[batch_data[0].train_mask])\n",
    "            #loss = F.cross_entropy(out[:used], batch_data[0].y[:used])\n",
    "            loss = criterion(out[:used], batch_data[0].y[:used])\n",
    "            \n",
    "            loss.backward()\n",
    "            optimizer.step()\n",
    "                        \n",
    "            total_loss += loss.item() * used\n",
    "            total_examples += used\n",
    "            \n",
    "            if args.log_info:\n",
    "                pbar.update(used)\n",
    "        if args.log_info:\n",
    "            pbar.close()\n",
    "        \n",
    "        loss=total_loss / total_examples\n",
    "        train_losses.append(loss)\n",
    "        \n",
    "        #print(f'Epoch: {epoch:03d}, Train Loss: {loss:.4f}', end = ', ')                \n",
    "        \n",
    "        if args.log_info:\n",
    "            train_acc=test(model, train_loader,data.train_mask,'Train')            \n",
    "            train_accuracies.append(train_acc.item())        \n",
    "        else:\n",
    "            train_acc = 0 ; train_accuracies.append(train_acc)\n",
    "        \n",
    "        if args.log_info:\n",
    "            val_acc = test(model, val_loader,data.val_mask,'Validation')\n",
    "            val_accuracies.append(val_acc.item())\n",
    "        else:\n",
    "            val_acc = 0 ; val_accuracies.append(val_acc)\n",
    "\n",
    "        test_acc = test(model, test_loader,data.test_mask,'Test')\n",
    "        test_accuracies.append(test_acc.item())\n",
    "        #print(f'Epoch: {epoch:03d}, Test: {test_acc:.4f}')\n",
    "        \n",
    "        std_dev = np.std(train_losses[-5:])\n",
    "        #print(f'Epoch: {epoch:03d}, Std dev: {std_dev:.4f}')\n",
    "        \n",
    "        if args.log_info:\n",
    "            print(f'Epoch: {epoch:03d}, Train Loss: {loss:.4f}, Train: {train_acc:.4f}, Val: {val_acc:.4f}, Test: {test_acc:.4f}, Std dev: {std_dev:.4f}')\n",
    "\n",
    "        if epoch>=5 and std_dev<=1e-3:\n",
    "            num_iteration = epoch\n",
    "            \n",
    "            if args.log_info:                \n",
    "                print(\"Iteration for convergence: \", epoch)\n",
    "            break\n",
    "        \n",
    "    if args.log_info:\n",
    "        #save_plot([val_accuracies], labels=['Validation'], name='Plots/Validation', yname='Accuracy', xname='Epoch')    \n",
    "        save_plot([train_losses, train_accuracies, val_accuracies, test_accuracies], labels=['Loss','Train','Validation','Test'], name='Results/AGSNSVal', yname='Accuracy', xname='Epoch')\n",
    "        \n",
    "        print (\"Best Validation Accuracy, \",max(val_accuracies))\n",
    "        print (\"Best Test Accuracy, \",max(test_accuracies))\n",
    "        \n",
    "    best_acc = max(test_accuracies)\n",
    "    \n",
    "    end = time.time()\n",
    "    if args.log_info:\n",
    "        print(\"Total epoch time: \", end-start)    \n",
    "    \n",
    "    return best_acc, num_iteration"
   ]
  },
  {
   "cell_type": "code",
   "execution_count": 13,
   "id": "34bee9e8",
   "metadata": {},
   "outputs": [],
   "source": [
    "def AGSNSperformanceSampler(DATASET_NAME, data, dataset, num_classes, epochs=1, train_neighbors=[-1,-1], test_neighbors=[-1,-1]):        \n",
    "    \n",
    "    model = AGSGNN(data.x.shape[1], num_classes, hidden_channels=256).to(device)\n",
    "    \n",
    "    if args.log_info: print(model)    \n",
    "    \n",
    "    best_acc, num_iteration = train(DATASET_NAME, model, data, epochs, train_neighbors=train_neighbors, test_neighbors=test_neighbors)    \n",
    "    \n",
    "    return best_acc, num_iteration, model"
   ]
  },
  {
   "cell_type": "code",
   "execution_count": 14,
   "id": "9140fcf7",
   "metadata": {},
   "outputs": [],
   "source": [
    "def adj_feature(data):    \n",
    "    adj_mat = torch.zeros((data.num_nodes,data.num_nodes))\n",
    "    edges = data.edge_index.t()\n",
    "    adj_mat[edges[:,0], edges[:,1]] = 1\n",
    "    return adj_mat\n",
    "\n",
    "# adj_feature(data)\n",
    "# data.x.shape"
   ]
  },
  {
   "cell_type": "code",
   "execution_count": 15,
   "id": "7e76eeee",
   "metadata": {},
   "outputs": [],
   "source": [
    "from torch_geometric.utils import add_self_loops"
   ]
  },
  {
   "cell_type": "code",
   "execution_count": 16,
   "id": "586728b2",
   "metadata": {
    "scrolled": true
   },
   "outputs": [
    {
     "name": "stdout",
     "output_type": "stream",
     "text": [
      "N  34  E  156  d  4.588235294117647 0.8020520210266113 0.7564102411270142 0.6170591711997986 -0.4756128787994385 \n",
      "Data(x=[34, 34], edge_index=[2, 156], y=[34], train_mask=[34], val_mask=[34], test_mask=[34])\n",
      "AGSGNN(\n",
      "  (gnn1): GNNHomophily(\n",
      "    (conv1): SAGEConv(34, 256)\n",
      "    (conv3): SAGEConv(256, 128)\n",
      "  )\n",
      "  (gnn2): GNNHeterophily(\n",
      "    (conv1): ChebConv(34, 256, K=2, normalization=sym)\n",
      "    (conv3): ChebConv(256, 128, K=2, normalization=sym)\n",
      "  )\n",
      "  (com_lin): Linear(in_features=256, out_features=4, bias=True)\n",
      ")\n",
      "Train neighbors:  [8, 4]\n",
      "Test neighbors:  [8, 4]\n",
      "Worker:  0\n",
      "Metric:  cosine\n"
     ]
    },
    {
     "name": "stderr",
     "output_type": "stream",
     "text": [
      "Nodes: 100%|██████████| 34/34 [00:00<00:00, 1105.38it/s]\n"
     ]
    },
    {
     "name": "stdout",
     "output_type": "stream",
     "text": [
      "saving weights  knncosine\n",
      "Metric:  cosine\n"
     ]
    },
    {
     "name": "stderr",
     "output_type": "stream",
     "text": [
      "Nodes: 100%|██████████| 34/34 [00:00<00:00, 752.32it/s]\n"
     ]
    },
    {
     "name": "stdout",
     "output_type": "stream",
     "text": [
      "saving weights  submodularcosine\n",
      "Total initialization time:  0.08746695518493652\n"
     ]
    },
    {
     "name": "stderr",
     "output_type": "stream",
     "text": [
      "Epoch 01: 100%|██████████| 4/4 [00:00<00:00, 108.33it/s]\n",
      "Evaluating Train: 100%|██████████| 4/4 [00:00<00:00, 191.13it/s]\n",
      "Evaluating Validation: 100%|██████████| 30/30 [00:00<00:00, 282.05it/s]\n",
      "Evaluating Test: 100%|██████████| 30/30 [00:00<00:00, 286.24it/s]\n"
     ]
    },
    {
     "name": "stdout",
     "output_type": "stream",
     "text": [
      "Epoch: 001, Train Loss: 1.3977, Train: 0.5000, Val: 0.5333, Test: 0.5667, Std dev: 0.0000\n"
     ]
    },
    {
     "name": "stderr",
     "output_type": "stream",
     "text": [
      "Epoch 02: 100%|██████████| 4/4 [00:00<00:00, 156.72it/s]\n",
      "Evaluating Train: 100%|██████████| 4/4 [00:00<00:00, 189.97it/s]\n",
      "Evaluating Validation: 100%|██████████| 30/30 [00:00<00:00, 284.55it/s]\n",
      "Evaluating Test: 100%|██████████| 30/30 [00:00<00:00, 280.80it/s]\n"
     ]
    },
    {
     "name": "stdout",
     "output_type": "stream",
     "text": [
      "Epoch: 002, Train Loss: 1.4476, Train: 0.5000, Val: 0.5333, Test: 0.5667, Std dev: 0.0250\n"
     ]
    },
    {
     "name": "stderr",
     "output_type": "stream",
     "text": [
      "Epoch 03: 100%|██████████| 4/4 [00:00<00:00, 160.65it/s]\n",
      "Evaluating Train: 100%|██████████| 4/4 [00:00<00:00, 186.75it/s]\n",
      "Evaluating Validation: 100%|██████████| 30/30 [00:00<00:00, 279.75it/s]\n",
      "Evaluating Test: 100%|██████████| 30/30 [00:00<00:00, 289.34it/s]\n"
     ]
    },
    {
     "name": "stdout",
     "output_type": "stream",
     "text": [
      "Epoch: 003, Train Loss: 1.3849, Train: 0.5000, Val: 0.5333, Test: 0.5333, Std dev: 0.0271\n"
     ]
    },
    {
     "name": "stderr",
     "output_type": "stream",
     "text": [
      "Epoch 04: 100%|██████████| 4/4 [00:00<00:00, 158.01it/s]\n",
      "Evaluating Train: 100%|██████████| 4/4 [00:00<00:00, 192.38it/s]\n",
      "Evaluating Validation: 100%|██████████| 30/30 [00:00<00:00, 268.74it/s]\n",
      "Evaluating Test: 100%|██████████| 30/30 [00:00<00:00, 287.02it/s]\n"
     ]
    },
    {
     "name": "stdout",
     "output_type": "stream",
     "text": [
      "Epoch: 004, Train Loss: 1.3195, Train: 0.5000, Val: 0.5667, Test: 0.5667, Std dev: 0.0457\n"
     ]
    },
    {
     "name": "stderr",
     "output_type": "stream",
     "text": [
      "Epoch 05: 100%|██████████| 4/4 [00:00<00:00, 158.86it/s]\n",
      "Evaluating Train: 100%|██████████| 4/4 [00:00<00:00, 190.73it/s]\n",
      "Evaluating Validation: 100%|██████████| 30/30 [00:00<00:00, 264.52it/s]\n",
      "Evaluating Test: 100%|██████████| 30/30 [00:00<00:00, 287.01it/s]\n"
     ]
    },
    {
     "name": "stdout",
     "output_type": "stream",
     "text": [
      "Epoch: 005, Train Loss: 1.3592, Train: 1.0000, Val: 0.5333, Test: 0.5667, Std dev: 0.0424\n"
     ]
    },
    {
     "name": "stderr",
     "output_type": "stream",
     "text": [
      "Epoch 06: 100%|██████████| 4/4 [00:00<00:00, 148.28it/s]\n",
      "Evaluating Train: 100%|██████████| 4/4 [00:00<00:00, 193.76it/s]\n",
      "Evaluating Validation: 100%|██████████| 30/30 [00:00<00:00, 286.83it/s]\n",
      "Evaluating Test: 100%|██████████| 30/30 [00:00<00:00, 263.96it/s]\n"
     ]
    },
    {
     "name": "stdout",
     "output_type": "stream",
     "text": [
      "Epoch: 006, Train Loss: 1.3356, Train: 1.0000, Val: 0.5333, Test: 0.5333, Std dev: 0.0449\n"
     ]
    },
    {
     "name": "stderr",
     "output_type": "stream",
     "text": [
      "Epoch 07: 100%|██████████| 4/4 [00:00<00:00, 152.74it/s]\n",
      "Evaluating Train: 100%|██████████| 4/4 [00:00<00:00, 190.67it/s]\n",
      "Evaluating Validation: 100%|██████████| 30/30 [00:00<00:00, 288.19it/s]\n",
      "Evaluating Test: 100%|██████████| 30/30 [00:00<00:00, 282.84it/s]\n"
     ]
    },
    {
     "name": "stdout",
     "output_type": "stream",
     "text": [
      "Epoch: 007, Train Loss: 1.2674, Train: 1.0000, Val: 0.5333, Test: 0.5333, Std dev: 0.0397\n"
     ]
    },
    {
     "name": "stderr",
     "output_type": "stream",
     "text": [
      "Epoch 08: 100%|██████████| 4/4 [00:00<00:00, 118.19it/s]\n",
      "Evaluating Train: 100%|██████████| 4/4 [00:00<00:00, 195.54it/s]\n",
      "Evaluating Validation: 100%|██████████| 30/30 [00:00<00:00, 290.26it/s]\n",
      "Evaluating Test: 100%|██████████| 30/30 [00:00<00:00, 286.74it/s]\n"
     ]
    },
    {
     "name": "stdout",
     "output_type": "stream",
     "text": [
      "Epoch: 008, Train Loss: 1.2435, Train: 1.0000, Val: 0.5333, Test: 0.6000, Std dev: 0.0431\n"
     ]
    },
    {
     "name": "stderr",
     "output_type": "stream",
     "text": [
      "Epoch 09: 100%|██████████| 4/4 [00:00<00:00, 116.00it/s]\n",
      "Evaluating Train: 100%|██████████| 4/4 [00:00<00:00, 187.38it/s]\n",
      "Evaluating Validation: 100%|██████████| 30/30 [00:00<00:00, 287.93it/s]\n",
      "Evaluating Test: 100%|██████████| 30/30 [00:00<00:00, 287.37it/s]\n"
     ]
    },
    {
     "name": "stdout",
     "output_type": "stream",
     "text": [
      "Epoch: 009, Train Loss: 1.2514, Train: 1.0000, Val: 0.5333, Test: 0.5667, Std dev: 0.0469\n"
     ]
    },
    {
     "name": "stderr",
     "output_type": "stream",
     "text": [
      "Epoch 10: 100%|██████████| 4/4 [00:00<00:00, 157.53it/s]\n",
      "Evaluating Train: 100%|██████████| 4/4 [00:00<00:00, 199.78it/s]\n",
      "Evaluating Validation: 100%|██████████| 30/30 [00:00<00:00, 265.44it/s]\n",
      "Evaluating Test: 100%|██████████| 30/30 [00:00<00:00, 286.13it/s]\n"
     ]
    },
    {
     "name": "stdout",
     "output_type": "stream",
     "text": [
      "Epoch: 010, Train Loss: 1.2586, Train: 1.0000, Val: 0.5667, Test: 0.5667, Std dev: 0.0331\n"
     ]
    },
    {
     "name": "stderr",
     "output_type": "stream",
     "text": [
      "Epoch 11: 100%|██████████| 4/4 [00:00<00:00, 151.71it/s]\n",
      "Evaluating Train: 100%|██████████| 4/4 [00:00<00:00, 189.38it/s]\n",
      "Evaluating Validation: 100%|██████████| 30/30 [00:00<00:00, 291.55it/s]\n",
      "Evaluating Test: 100%|██████████| 30/30 [00:00<00:00, 264.73it/s]\n"
     ]
    },
    {
     "name": "stdout",
     "output_type": "stream",
     "text": [
      "Epoch: 011, Train Loss: 1.1796, Train: 1.0000, Val: 0.5667, Test: 0.6000, Std dev: 0.0313\n"
     ]
    },
    {
     "name": "stderr",
     "output_type": "stream",
     "text": [
      "Epoch 12: 100%|██████████| 4/4 [00:00<00:00, 157.84it/s]\n",
      "Evaluating Train: 100%|██████████| 4/4 [00:00<00:00, 196.22it/s]\n",
      "Evaluating Validation: 100%|██████████| 30/30 [00:00<00:00, 287.51it/s]\n",
      "Evaluating Test: 100%|██████████| 30/30 [00:00<00:00, 283.94it/s]\n"
     ]
    },
    {
     "name": "stdout",
     "output_type": "stream",
     "text": [
      "Epoch: 012, Train Loss: 1.2156, Train: 1.0000, Val: 0.6000, Test: 0.6000, Std dev: 0.0290\n"
     ]
    },
    {
     "name": "stderr",
     "output_type": "stream",
     "text": [
      "Epoch 13: 100%|██████████| 4/4 [00:00<00:00, 156.65it/s]\n",
      "Evaluating Train: 100%|██████████| 4/4 [00:00<00:00, 195.98it/s]\n",
      "Evaluating Validation: 100%|██████████| 30/30 [00:00<00:00, 272.33it/s]\n",
      "Evaluating Test: 100%|██████████| 30/30 [00:00<00:00, 286.16it/s]\n"
     ]
    },
    {
     "name": "stdout",
     "output_type": "stream",
     "text": [
      "Epoch: 013, Train Loss: 1.1422, Train: 1.0000, Val: 0.6000, Test: 0.5667, Std dev: 0.0439\n"
     ]
    },
    {
     "name": "stderr",
     "output_type": "stream",
     "text": [
      "Epoch 14: 100%|██████████| 4/4 [00:00<00:00, 151.50it/s]\n",
      "Evaluating Train: 100%|██████████| 4/4 [00:00<00:00, 192.47it/s]\n",
      "Evaluating Validation: 100%|██████████| 30/30 [00:00<00:00, 270.50it/s]\n",
      "Evaluating Test: 100%|██████████| 30/30 [00:00<00:00, 143.76it/s]\n"
     ]
    },
    {
     "name": "stdout",
     "output_type": "stream",
     "text": [
      "Epoch: 014, Train Loss: 1.1477, Train: 1.0000, Val: 0.5333, Test: 0.6000, Std dev: 0.0437\n"
     ]
    },
    {
     "name": "stderr",
     "output_type": "stream",
     "text": [
      "Epoch 15: 100%|██████████| 4/4 [00:00<00:00, 152.74it/s]\n",
      "Evaluating Train: 100%|██████████| 4/4 [00:00<00:00, 191.49it/s]\n",
      "Evaluating Validation: 100%|██████████| 30/30 [00:00<00:00, 290.67it/s]\n",
      "Evaluating Test: 100%|██████████| 30/30 [00:00<00:00, 283.85it/s]\n"
     ]
    },
    {
     "name": "stdout",
     "output_type": "stream",
     "text": [
      "Epoch: 015, Train Loss: 1.1528, Train: 1.0000, Val: 0.5667, Test: 0.6000, Std dev: 0.0272\n"
     ]
    },
    {
     "name": "stderr",
     "output_type": "stream",
     "text": [
      "Epoch 16: 100%|██████████| 4/4 [00:00<00:00, 156.46it/s]\n",
      "Evaluating Train: 100%|██████████| 4/4 [00:00<00:00, 190.33it/s]\n",
      "Evaluating Validation: 100%|██████████| 30/30 [00:00<00:00, 287.34it/s]\n",
      "Evaluating Test: 100%|██████████| 30/30 [00:00<00:00, 285.31it/s]\n"
     ]
    },
    {
     "name": "stdout",
     "output_type": "stream",
     "text": [
      "Epoch: 016, Train Loss: 1.0960, Train: 1.0000, Val: 0.6333, Test: 0.5667, Std dev: 0.0382\n"
     ]
    },
    {
     "name": "stderr",
     "output_type": "stream",
     "text": [
      "Epoch 17: 100%|██████████| 4/4 [00:00<00:00, 156.15it/s]\n",
      "Evaluating Train: 100%|██████████| 4/4 [00:00<00:00, 190.24it/s]\n",
      "Evaluating Validation: 100%|██████████| 30/30 [00:00<00:00, 287.74it/s]\n",
      "Evaluating Test: 100%|██████████| 30/30 [00:00<00:00, 284.64it/s]\n"
     ]
    },
    {
     "name": "stdout",
     "output_type": "stream",
     "text": [
      "Epoch: 017, Train Loss: 1.0817, Train: 1.0000, Val: 0.5667, Test: 0.5667, Std dev: 0.0293\n"
     ]
    },
    {
     "name": "stderr",
     "output_type": "stream",
     "text": [
      "Epoch 18: 100%|██████████| 4/4 [00:00<00:00, 155.01it/s]\n",
      "Evaluating Train: 100%|██████████| 4/4 [00:00<00:00, 190.78it/s]\n",
      "Evaluating Validation: 100%|██████████| 30/30 [00:00<00:00, 288.58it/s]\n",
      "Evaluating Test: 100%|██████████| 30/30 [00:00<00:00, 288.37it/s]\n"
     ]
    },
    {
     "name": "stdout",
     "output_type": "stream",
     "text": [
      "Epoch: 018, Train Loss: 1.0210, Train: 1.0000, Val: 0.6000, Test: 0.6000, Std dev: 0.0483\n"
     ]
    },
    {
     "name": "stderr",
     "output_type": "stream",
     "text": [
      "Epoch 19: 100%|██████████| 4/4 [00:00<00:00, 156.18it/s]\n",
      "Evaluating Train: 100%|██████████| 4/4 [00:00<00:00, 193.40it/s]\n",
      "Evaluating Validation: 100%|██████████| 30/30 [00:00<00:00, 285.48it/s]\n",
      "Evaluating Test: 100%|██████████| 30/30 [00:00<00:00, 286.72it/s]\n"
     ]
    },
    {
     "name": "stdout",
     "output_type": "stream",
     "text": [
      "Epoch: 019, Train Loss: 1.1275, Train: 1.0000, Val: 0.6000, Test: 0.6000, Std dev: 0.0448\n"
     ]
    },
    {
     "name": "stderr",
     "output_type": "stream",
     "text": [
      "Epoch 20: 100%|██████████| 4/4 [00:00<00:00, 153.91it/s]\n",
      "Evaluating Train: 100%|██████████| 4/4 [00:00<00:00, 188.12it/s]\n",
      "Evaluating Validation: 100%|██████████| 30/30 [00:00<00:00, 289.42it/s]\n",
      "Evaluating Test: 100%|██████████| 30/30 [00:00<00:00, 285.13it/s]\n"
     ]
    },
    {
     "name": "stdout",
     "output_type": "stream",
     "text": [
      "Epoch: 020, Train Loss: 0.9888, Train: 1.0000, Val: 0.6000, Test: 0.5333, Std dev: 0.0507\n"
     ]
    },
    {
     "name": "stderr",
     "output_type": "stream",
     "text": [
      "Epoch 21: 100%|██████████| 4/4 [00:00<00:00, 154.49it/s]\n",
      "Evaluating Train: 100%|██████████| 4/4 [00:00<00:00, 189.06it/s]\n",
      "Evaluating Validation: 100%|██████████| 30/30 [00:00<00:00, 288.62it/s]\n",
      "Evaluating Test: 100%|██████████| 30/30 [00:00<00:00, 288.82it/s]\n"
     ]
    },
    {
     "name": "stdout",
     "output_type": "stream",
     "text": [
      "Epoch: 021, Train Loss: 0.9778, Train: 1.0000, Val: 0.5667, Test: 0.5667, Std dev: 0.0570\n"
     ]
    },
    {
     "name": "stderr",
     "output_type": "stream",
     "text": [
      "Epoch 22: 100%|██████████| 4/4 [00:00<00:00, 154.89it/s]\n",
      "Evaluating Train: 100%|██████████| 4/4 [00:00<00:00, 180.87it/s]\n",
      "Evaluating Validation: 100%|██████████| 30/30 [00:00<00:00, 290.32it/s]\n",
      "Evaluating Test: 100%|██████████| 30/30 [00:00<00:00, 290.86it/s]\n"
     ]
    },
    {
     "name": "stdout",
     "output_type": "stream",
     "text": [
      "Epoch: 022, Train Loss: 0.9620, Train: 1.0000, Val: 0.6000, Test: 0.6000, Std dev: 0.0593\n"
     ]
    },
    {
     "name": "stderr",
     "output_type": "stream",
     "text": [
      "Epoch 23: 100%|██████████| 4/4 [00:00<00:00, 151.32it/s]\n",
      "Evaluating Train: 100%|██████████| 4/4 [00:00<00:00, 170.51it/s]\n",
      "Evaluating Validation: 100%|██████████| 30/30 [00:00<00:00, 288.55it/s]\n",
      "Evaluating Test: 100%|██████████| 30/30 [00:00<00:00, 288.10it/s]\n"
     ]
    },
    {
     "name": "stdout",
     "output_type": "stream",
     "text": [
      "Epoch: 023, Train Loss: 0.9810, Train: 1.0000, Val: 0.5667, Test: 0.5667, Std dev: 0.0607\n"
     ]
    },
    {
     "name": "stderr",
     "output_type": "stream",
     "text": [
      "Epoch 24: 100%|██████████| 4/4 [00:00<00:00, 151.40it/s]\n",
      "Evaluating Train: 100%|██████████| 4/4 [00:00<00:00, 192.86it/s]\n",
      "Evaluating Validation: 100%|██████████| 30/30 [00:00<00:00, 288.06it/s]\n",
      "Evaluating Test: 100%|██████████| 30/30 [00:00<00:00, 281.37it/s]\n"
     ]
    },
    {
     "name": "stdout",
     "output_type": "stream",
     "text": [
      "Epoch: 024, Train Loss: 0.9085, Train: 1.0000, Val: 0.6000, Test: 0.5333, Std dev: 0.0289\n"
     ]
    },
    {
     "name": "stderr",
     "output_type": "stream",
     "text": [
      "Epoch 25: 100%|██████████| 4/4 [00:00<00:00, 156.01it/s]\n",
      "Evaluating Train: 100%|██████████| 4/4 [00:00<00:00, 190.19it/s]\n",
      "Evaluating Validation: 100%|██████████| 30/30 [00:00<00:00, 288.10it/s]\n",
      "Evaluating Test: 100%|██████████| 30/30 [00:00<00:00, 284.98it/s]\n"
     ]
    },
    {
     "name": "stdout",
     "output_type": "stream",
     "text": [
      "Epoch: 025, Train Loss: 0.8347, Train: 1.0000, Val: 0.6000, Test: 0.6000, Std dev: 0.0555\n"
     ]
    },
    {
     "name": "stderr",
     "output_type": "stream",
     "text": [
      "Epoch 26: 100%|██████████| 4/4 [00:00<00:00, 155.52it/s]\n",
      "Evaluating Train: 100%|██████████| 4/4 [00:00<00:00, 194.95it/s]\n",
      "Evaluating Validation: 100%|██████████| 30/30 [00:00<00:00, 288.37it/s]\n",
      "Evaluating Test: 100%|██████████| 30/30 [00:00<00:00, 286.23it/s]\n"
     ]
    },
    {
     "name": "stdout",
     "output_type": "stream",
     "text": [
      "Epoch: 026, Train Loss: 0.8352, Train: 1.0000, Val: 0.6000, Test: 0.6000, Std dev: 0.0614\n"
     ]
    },
    {
     "name": "stderr",
     "output_type": "stream",
     "text": [
      "Epoch 27: 100%|██████████| 4/4 [00:00<00:00, 131.90it/s]\n",
      "Evaluating Train: 100%|██████████| 4/4 [00:00<00:00, 160.21it/s]\n",
      "Evaluating Validation: 100%|██████████| 30/30 [00:00<00:00, 238.08it/s]\n",
      "Evaluating Test: 100%|██████████| 30/30 [00:00<00:00, 237.79it/s]\n"
     ]
    },
    {
     "name": "stdout",
     "output_type": "stream",
     "text": [
      "Epoch: 027, Train Loss: 0.7871, Train: 1.0000, Val: 0.6000, Test: 0.6000, Std dev: 0.0680\n"
     ]
    },
    {
     "name": "stderr",
     "output_type": "stream",
     "text": [
      "Epoch 28: 100%|██████████| 4/4 [00:00<00:00, 133.81it/s]\n",
      "Evaluating Train: 100%|██████████| 4/4 [00:00<00:00, 160.62it/s]\n",
      "Evaluating Validation: 100%|██████████| 30/30 [00:00<00:00, 239.95it/s]\n",
      "Evaluating Test: 100%|██████████| 30/30 [00:00<00:00, 238.38it/s]\n"
     ]
    },
    {
     "name": "stdout",
     "output_type": "stream",
     "text": [
      "Epoch: 028, Train Loss: 0.7683, Train: 1.0000, Val: 0.6000, Test: 0.6333, Std dev: 0.0486\n"
     ]
    },
    {
     "name": "stderr",
     "output_type": "stream",
     "text": [
      "Epoch 29: 100%|██████████| 4/4 [00:00<00:00, 128.48it/s]\n",
      "Evaluating Train: 100%|██████████| 4/4 [00:00<00:00, 161.68it/s]\n",
      "Evaluating Validation: 100%|██████████| 30/30 [00:00<00:00, 238.44it/s]\n",
      "Evaluating Test: 100%|██████████| 30/30 [00:00<00:00, 236.82it/s]\n"
     ]
    },
    {
     "name": "stdout",
     "output_type": "stream",
     "text": [
      "Epoch: 029, Train Loss: 0.8329, Train: 1.0000, Val: 0.5667, Test: 0.6000, Std dev: 0.0284\n"
     ]
    },
    {
     "name": "stderr",
     "output_type": "stream",
     "text": [
      "Epoch 30: 100%|██████████| 4/4 [00:00<00:00, 130.67it/s]\n",
      "Evaluating Train: 100%|██████████| 4/4 [00:00<00:00, 166.26it/s]\n",
      "Evaluating Validation: 100%|██████████| 30/30 [00:00<00:00, 238.03it/s]\n",
      "Evaluating Test: 100%|██████████| 30/30 [00:00<00:00, 236.46it/s]\n"
     ]
    },
    {
     "name": "stdout",
     "output_type": "stream",
     "text": [
      "Epoch: 030, Train Loss: 0.7172, Train: 1.0000, Val: 0.6000, Test: 0.6000, Std dev: 0.0439\n"
     ]
    },
    {
     "name": "stderr",
     "output_type": "stream",
     "text": [
      "Epoch 31: 100%|██████████| 4/4 [00:00<00:00, 132.81it/s]\n",
      "Evaluating Train: 100%|██████████| 4/4 [00:00<00:00, 160.86it/s]\n",
      "Evaluating Validation: 100%|██████████| 30/30 [00:00<00:00, 237.38it/s]\n",
      "Evaluating Test: 100%|██████████| 30/30 [00:00<00:00, 236.84it/s]\n"
     ]
    },
    {
     "name": "stdout",
     "output_type": "stream",
     "text": [
      "Epoch: 031, Train Loss: 0.7736, Train: 1.0000, Val: 0.6000, Test: 0.6333, Std dev: 0.0371\n"
     ]
    },
    {
     "name": "stderr",
     "output_type": "stream",
     "text": [
      "Epoch 32: 100%|██████████| 4/4 [00:00<00:00, 128.47it/s]\n",
      "Evaluating Train: 100%|██████████| 4/4 [00:00<00:00, 161.83it/s]\n",
      "Evaluating Validation: 100%|██████████| 30/30 [00:00<00:00, 240.82it/s]\n",
      "Evaluating Test: 100%|██████████| 30/30 [00:00<00:00, 236.22it/s]\n"
     ]
    },
    {
     "name": "stdout",
     "output_type": "stream",
     "text": [
      "Epoch: 032, Train Loss: 0.6757, Train: 1.0000, Val: 0.6333, Test: 0.5333, Std dev: 0.0535\n"
     ]
    },
    {
     "name": "stderr",
     "output_type": "stream",
     "text": [
      "Epoch 33: 100%|██████████| 4/4 [00:00<00:00, 129.36it/s]\n",
      "Evaluating Train: 100%|██████████| 4/4 [00:00<00:00, 161.50it/s]\n",
      "Evaluating Validation: 100%|██████████| 30/30 [00:00<00:00, 239.43it/s]\n",
      "Evaluating Test: 100%|██████████| 30/30 [00:00<00:00, 237.52it/s]\n"
     ]
    },
    {
     "name": "stdout",
     "output_type": "stream",
     "text": [
      "Epoch: 033, Train Loss: 0.5799, Train: 1.0000, Val: 0.5000, Test: 0.5333, Std dev: 0.0862\n"
     ]
    },
    {
     "name": "stderr",
     "output_type": "stream",
     "text": [
      "Epoch 34: 100%|██████████| 4/4 [00:00<00:00, 132.19it/s]\n",
      "Evaluating Train: 100%|██████████| 4/4 [00:00<00:00, 159.11it/s]\n",
      "Evaluating Validation: 100%|██████████| 30/30 [00:00<00:00, 239.60it/s]\n",
      "Evaluating Test: 100%|██████████| 30/30 [00:00<00:00, 238.46it/s]\n"
     ]
    },
    {
     "name": "stdout",
     "output_type": "stream",
     "text": [
      "Epoch: 034, Train Loss: 0.5940, Train: 1.0000, Val: 0.6333, Test: 0.6333, Std dev: 0.0733\n"
     ]
    },
    {
     "name": "stderr",
     "output_type": "stream",
     "text": [
      "Epoch 35: 100%|██████████| 4/4 [00:00<00:00, 130.64it/s]\n",
      "Evaluating Train: 100%|██████████| 4/4 [00:00<00:00, 158.41it/s]\n",
      "Evaluating Validation: 100%|██████████| 30/30 [00:00<00:00, 239.22it/s]\n",
      "Evaluating Test: 100%|██████████| 30/30 [00:00<00:00, 239.18it/s]\n"
     ]
    },
    {
     "name": "stdout",
     "output_type": "stream",
     "text": [
      "Epoch: 035, Train Loss: 0.5670, Train: 1.0000, Val: 0.5333, Test: 0.6000, Std dev: 0.0777\n"
     ]
    },
    {
     "name": "stderr",
     "output_type": "stream",
     "text": [
      "Epoch 36: 100%|██████████| 4/4 [00:00<00:00, 127.71it/s]\n",
      "Evaluating Train: 100%|██████████| 4/4 [00:00<00:00, 159.09it/s]\n",
      "Evaluating Validation: 100%|██████████| 30/30 [00:00<00:00, 236.21it/s]\n",
      "Evaluating Test: 100%|██████████| 30/30 [00:00<00:00, 232.27it/s]\n"
     ]
    },
    {
     "name": "stdout",
     "output_type": "stream",
     "text": [
      "Epoch: 036, Train Loss: 0.4600, Train: 1.0000, Val: 0.5667, Test: 0.6000, Std dev: 0.0690\n"
     ]
    },
    {
     "name": "stderr",
     "output_type": "stream",
     "text": [
      "Epoch 37: 100%|██████████| 4/4 [00:00<00:00, 131.16it/s]\n",
      "Evaluating Train: 100%|██████████| 4/4 [00:00<00:00, 156.61it/s]\n",
      "Evaluating Validation: 100%|██████████| 30/30 [00:00<00:00, 237.93it/s]\n",
      "Evaluating Test: 100%|██████████| 30/30 [00:00<00:00, 237.91it/s]\n"
     ]
    },
    {
     "name": "stdout",
     "output_type": "stream",
     "text": [
      "Epoch: 037, Train Loss: 0.4619, Train: 1.0000, Val: 0.6000, Test: 0.5667, Std dev: 0.0591\n"
     ]
    },
    {
     "name": "stderr",
     "output_type": "stream",
     "text": [
      "Epoch 38: 100%|██████████| 4/4 [00:00<00:00, 131.86it/s]\n",
      "Evaluating Train: 100%|██████████| 4/4 [00:00<00:00, 162.41it/s]\n",
      "Evaluating Validation: 100%|██████████| 30/30 [00:00<00:00, 241.32it/s]\n",
      "Evaluating Test: 100%|██████████| 30/30 [00:00<00:00, 235.95it/s]\n"
     ]
    },
    {
     "name": "stdout",
     "output_type": "stream",
     "text": [
      "Epoch: 038, Train Loss: 0.4048, Train: 1.0000, Val: 0.5333, Test: 0.5333, Std dev: 0.0713\n"
     ]
    },
    {
     "name": "stderr",
     "output_type": "stream",
     "text": [
      "Epoch 39: 100%|██████████| 4/4 [00:00<00:00, 131.02it/s]\n",
      "Evaluating Train: 100%|██████████| 4/4 [00:00<00:00, 160.99it/s]\n",
      "Evaluating Validation: 100%|██████████| 30/30 [00:00<00:00, 240.71it/s]\n",
      "Evaluating Test: 100%|██████████| 30/30 [00:00<00:00, 237.49it/s]\n"
     ]
    },
    {
     "name": "stdout",
     "output_type": "stream",
     "text": [
      "Epoch: 039, Train Loss: 0.4773, Train: 1.0000, Val: 0.5667, Test: 0.5333, Std dev: 0.0525\n"
     ]
    },
    {
     "name": "stderr",
     "output_type": "stream",
     "text": [
      "Epoch 40: 100%|██████████| 4/4 [00:00<00:00, 129.39it/s]\n",
      "Evaluating Train: 100%|██████████| 4/4 [00:00<00:00, 161.80it/s]\n",
      "Evaluating Validation: 100%|██████████| 30/30 [00:00<00:00, 240.69it/s]\n",
      "Evaluating Test: 100%|██████████| 30/30 [00:00<00:00, 235.75it/s]\n"
     ]
    },
    {
     "name": "stdout",
     "output_type": "stream",
     "text": [
      "Epoch: 040, Train Loss: 0.4351, Train: 1.0000, Val: 0.5333, Test: 0.6000, Std dev: 0.0254\n"
     ]
    },
    {
     "name": "stderr",
     "output_type": "stream",
     "text": [
      "Epoch 41: 100%|██████████| 4/4 [00:00<00:00, 131.50it/s]\n",
      "Evaluating Train: 100%|██████████| 4/4 [00:00<00:00, 160.16it/s]\n",
      "Evaluating Validation: 100%|██████████| 30/30 [00:00<00:00, 235.58it/s]\n",
      "Evaluating Test: 100%|██████████| 30/30 [00:00<00:00, 232.14it/s]\n"
     ]
    },
    {
     "name": "stdout",
     "output_type": "stream",
     "text": [
      "Epoch: 041, Train Loss: 0.4418, Train: 1.0000, Val: 0.6000, Test: 0.5667, Std dev: 0.0247\n"
     ]
    },
    {
     "name": "stderr",
     "output_type": "stream",
     "text": [
      "Epoch 42: 100%|██████████| 4/4 [00:00<00:00, 130.65it/s]\n",
      "Evaluating Train: 100%|██████████| 4/4 [00:00<00:00, 159.79it/s]\n",
      "Evaluating Validation: 100%|██████████| 30/30 [00:00<00:00, 239.77it/s]\n",
      "Evaluating Test: 100%|██████████| 30/30 [00:00<00:00, 238.76it/s]\n"
     ]
    },
    {
     "name": "stdout",
     "output_type": "stream",
     "text": [
      "Epoch: 042, Train Loss: 0.4491, Train: 1.0000, Val: 0.5667, Test: 0.5667, Std dev: 0.0234\n"
     ]
    },
    {
     "name": "stderr",
     "output_type": "stream",
     "text": [
      "Epoch 43: 100%|██████████| 4/4 [00:00<00:00, 131.40it/s]\n",
      "Evaluating Train: 100%|██████████| 4/4 [00:00<00:00, 161.68it/s]\n",
      "Evaluating Validation: 100%|██████████| 30/30 [00:00<00:00, 239.51it/s]\n",
      "Evaluating Test: 100%|██████████| 30/30 [00:00<00:00, 237.48it/s]\n"
     ]
    },
    {
     "name": "stdout",
     "output_type": "stream",
     "text": [
      "Epoch: 043, Train Loss: 0.3136, Train: 1.0000, Val: 0.5333, Test: 0.5667, Std dev: 0.0567\n"
     ]
    },
    {
     "name": "stderr",
     "output_type": "stream",
     "text": [
      "Epoch 44: 100%|██████████| 4/4 [00:00<00:00, 133.47it/s]\n",
      "Evaluating Train: 100%|██████████| 4/4 [00:00<00:00, 162.30it/s]\n",
      "Evaluating Validation: 100%|██████████| 30/30 [00:00<00:00, 240.34it/s]\n",
      "Evaluating Test: 100%|██████████| 30/30 [00:00<00:00, 237.59it/s]\n"
     ]
    },
    {
     "name": "stdout",
     "output_type": "stream",
     "text": [
      "Epoch: 044, Train Loss: 0.2739, Train: 1.0000, Val: 0.5333, Test: 0.5667, Std dev: 0.0738\n"
     ]
    },
    {
     "name": "stderr",
     "output_type": "stream",
     "text": [
      "Epoch 45: 100%|██████████| 4/4 [00:00<00:00, 129.96it/s]\n",
      "Evaluating Train: 100%|██████████| 4/4 [00:00<00:00, 159.84it/s]\n",
      "Evaluating Validation: 100%|██████████| 30/30 [00:00<00:00, 239.10it/s]\n",
      "Evaluating Test: 100%|██████████| 30/30 [00:00<00:00, 239.33it/s]\n"
     ]
    },
    {
     "name": "stdout",
     "output_type": "stream",
     "text": [
      "Epoch: 045, Train Loss: 0.2338, Train: 1.0000, Val: 0.5667, Test: 0.5667, Std dev: 0.0878\n"
     ]
    },
    {
     "name": "stderr",
     "output_type": "stream",
     "text": [
      "Epoch 46: 100%|██████████| 4/4 [00:00<00:00, 130.13it/s]\n",
      "Evaluating Train: 100%|██████████| 4/4 [00:00<00:00, 152.26it/s]\n",
      "Evaluating Validation: 100%|██████████| 30/30 [00:00<00:00, 239.72it/s]\n",
      "Evaluating Test: 100%|██████████| 30/30 [00:00<00:00, 240.33it/s]\n"
     ]
    },
    {
     "name": "stdout",
     "output_type": "stream",
     "text": [
      "Epoch: 046, Train Loss: 0.3790, Train: 1.0000, Val: 0.5667, Test: 0.5333, Std dev: 0.0765\n"
     ]
    },
    {
     "name": "stderr",
     "output_type": "stream",
     "text": [
      "Epoch 47: 100%|██████████| 4/4 [00:00<00:00, 128.19it/s]\n",
      "Evaluating Train: 100%|██████████| 4/4 [00:00<00:00, 160.59it/s]\n",
      "Evaluating Validation: 100%|██████████| 30/30 [00:00<00:00, 240.16it/s]\n",
      "Evaluating Test: 100%|██████████| 30/30 [00:00<00:00, 237.60it/s]\n"
     ]
    },
    {
     "name": "stdout",
     "output_type": "stream",
     "text": [
      "Epoch: 047, Train Loss: 0.2453, Train: 1.0000, Val: 0.5667, Test: 0.5667, Std dev: 0.0527\n"
     ]
    },
    {
     "name": "stderr",
     "output_type": "stream",
     "text": [
      "Epoch 48: 100%|██████████| 4/4 [00:00<00:00, 131.14it/s]\n",
      "Evaluating Train: 100%|██████████| 4/4 [00:00<00:00, 162.99it/s]\n",
      "Evaluating Validation: 100%|██████████| 30/30 [00:00<00:00, 241.23it/s]\n",
      "Evaluating Test: 100%|██████████| 30/30 [00:00<00:00, 236.36it/s]\n"
     ]
    },
    {
     "name": "stdout",
     "output_type": "stream",
     "text": [
      "Epoch: 048, Train Loss: 0.2080, Train: 1.0000, Val: 0.5333, Test: 0.5667, Std dev: 0.0594\n"
     ]
    },
    {
     "name": "stderr",
     "output_type": "stream",
     "text": [
      "Epoch 49: 100%|██████████| 4/4 [00:00<00:00, 131.47it/s]\n",
      "Evaluating Train: 100%|██████████| 4/4 [00:00<00:00, 163.39it/s]\n",
      "Evaluating Validation: 100%|██████████| 30/30 [00:00<00:00, 240.55it/s]\n",
      "Evaluating Test: 100%|██████████| 30/30 [00:00<00:00, 238.17it/s]\n"
     ]
    },
    {
     "name": "stdout",
     "output_type": "stream",
     "text": [
      "Epoch: 049, Train Loss: 0.2398, Train: 1.0000, Val: 0.5333, Test: 0.5667, Std dev: 0.0603\n"
     ]
    },
    {
     "name": "stderr",
     "output_type": "stream",
     "text": [
      "Epoch 50: 100%|██████████| 4/4 [00:00<00:00, 132.60it/s]\n",
      "Evaluating Train: 100%|██████████| 4/4 [00:00<00:00, 161.05it/s]\n",
      "Evaluating Validation: 100%|██████████| 30/30 [00:00<00:00, 240.99it/s]\n",
      "Evaluating Test: 100%|██████████| 30/30 [00:00<00:00, 237.41it/s]\n"
     ]
    },
    {
     "name": "stdout",
     "output_type": "stream",
     "text": [
      "Epoch: 050, Train Loss: 0.1622, Train: 1.0000, Val: 0.5667, Test: 0.6000, Std dev: 0.0724\n"
     ]
    },
    {
     "name": "stderr",
     "output_type": "stream",
     "text": [
      "Epoch 51: 100%|██████████| 4/4 [00:00<00:00, 129.90it/s]\n",
      "Evaluating Train: 100%|██████████| 4/4 [00:00<00:00, 160.49it/s]\n",
      "Evaluating Validation: 100%|██████████| 30/30 [00:00<00:00, 240.32it/s]\n",
      "Evaluating Test: 100%|██████████| 30/30 [00:00<00:00, 239.38it/s]\n"
     ]
    },
    {
     "name": "stdout",
     "output_type": "stream",
     "text": [
      "Epoch: 051, Train Loss: 0.1380, Train: 1.0000, Val: 0.5667, Test: 0.5333, Std dev: 0.0423\n"
     ]
    },
    {
     "name": "stderr",
     "output_type": "stream",
     "text": [
      "Epoch 52: 100%|██████████| 4/4 [00:00<00:00, 131.19it/s]\n",
      "Evaluating Train: 100%|██████████| 4/4 [00:00<00:00, 161.01it/s]\n",
      "Evaluating Validation: 100%|██████████| 30/30 [00:00<00:00, 241.66it/s]\n",
      "Evaluating Test: 100%|██████████| 30/30 [00:00<00:00, 237.82it/s]\n"
     ]
    },
    {
     "name": "stdout",
     "output_type": "stream",
     "text": [
      "Epoch: 052, Train Loss: 0.2368, Train: 1.0000, Val: 0.5333, Test: 0.5667, Std dev: 0.0406\n"
     ]
    },
    {
     "name": "stderr",
     "output_type": "stream",
     "text": [
      "Epoch 53: 100%|██████████| 4/4 [00:00<00:00, 131.59it/s]\n",
      "Evaluating Train: 100%|██████████| 4/4 [00:00<00:00, 160.56it/s]\n",
      "Evaluating Validation: 100%|██████████| 30/30 [00:00<00:00, 238.90it/s]\n",
      "Evaluating Test: 100%|██████████| 30/30 [00:00<00:00, 237.87it/s]\n"
     ]
    },
    {
     "name": "stdout",
     "output_type": "stream",
     "text": [
      "Epoch: 053, Train Loss: 0.1917, Train: 1.0000, Val: 0.6000, Test: 0.5667, Std dev: 0.0402\n"
     ]
    },
    {
     "name": "stderr",
     "output_type": "stream",
     "text": [
      "Epoch 54: 100%|██████████| 4/4 [00:00<00:00, 134.41it/s]\n",
      "Evaluating Train: 100%|██████████| 4/4 [00:00<00:00, 155.61it/s]\n",
      "Evaluating Validation: 100%|██████████| 30/30 [00:00<00:00, 241.72it/s]\n",
      "Evaluating Test: 100%|██████████| 30/30 [00:00<00:00, 237.93it/s]\n"
     ]
    },
    {
     "name": "stdout",
     "output_type": "stream",
     "text": [
      "Epoch: 054, Train Loss: 0.1740, Train: 1.0000, Val: 0.5333, Test: 0.5667, Std dev: 0.0331\n"
     ]
    },
    {
     "name": "stderr",
     "output_type": "stream",
     "text": [
      "Epoch 55: 100%|██████████| 4/4 [00:00<00:00, 131.61it/s]\n",
      "Evaluating Train: 100%|██████████| 4/4 [00:00<00:00, 161.40it/s]\n",
      "Evaluating Validation: 100%|██████████| 30/30 [00:00<00:00, 239.85it/s]\n",
      "Evaluating Test: 100%|██████████| 30/30 [00:00<00:00, 237.17it/s]\n"
     ]
    },
    {
     "name": "stdout",
     "output_type": "stream",
     "text": [
      "Epoch: 055, Train Loss: 0.1077, Train: 1.0000, Val: 0.5667, Test: 0.5333, Std dev: 0.0444\n"
     ]
    },
    {
     "name": "stderr",
     "output_type": "stream",
     "text": [
      "Epoch 56: 100%|██████████| 4/4 [00:00<00:00, 129.04it/s]\n",
      "Evaluating Train: 100%|██████████| 4/4 [00:00<00:00, 159.24it/s]\n",
      "Evaluating Validation: 100%|██████████| 30/30 [00:00<00:00, 238.61it/s]\n",
      "Evaluating Test: 100%|██████████| 30/30 [00:00<00:00, 237.80it/s]\n"
     ]
    },
    {
     "name": "stdout",
     "output_type": "stream",
     "text": [
      "Epoch: 056, Train Loss: 0.1627, Train: 1.0000, Val: 0.5667, Test: 0.5667, Std dev: 0.0419\n"
     ]
    },
    {
     "name": "stderr",
     "output_type": "stream",
     "text": [
      "Epoch 57: 100%|██████████| 4/4 [00:00<00:00, 129.60it/s]\n",
      "Evaluating Train: 100%|██████████| 4/4 [00:00<00:00, 158.37it/s]\n",
      "Evaluating Validation: 100%|██████████| 30/30 [00:00<00:00, 240.70it/s]\n",
      "Evaluating Test: 100%|██████████| 30/30 [00:00<00:00, 237.82it/s]\n"
     ]
    },
    {
     "name": "stdout",
     "output_type": "stream",
     "text": [
      "Epoch: 057, Train Loss: 0.0902, Train: 1.0000, Val: 0.5667, Test: 0.5333, Std dev: 0.0393\n"
     ]
    },
    {
     "name": "stderr",
     "output_type": "stream",
     "text": [
      "Epoch 58: 100%|██████████| 4/4 [00:00<00:00, 133.06it/s]\n",
      "Evaluating Train: 100%|██████████| 4/4 [00:00<00:00, 161.39it/s]\n",
      "Evaluating Validation: 100%|██████████| 30/30 [00:00<00:00, 239.30it/s]\n",
      "Evaluating Test: 100%|██████████| 30/30 [00:00<00:00, 239.94it/s]\n"
     ]
    },
    {
     "name": "stdout",
     "output_type": "stream",
     "text": [
      "Epoch: 058, Train Loss: 0.0826, Train: 1.0000, Val: 0.5333, Test: 0.5667, Std dev: 0.0377\n"
     ]
    },
    {
     "name": "stderr",
     "output_type": "stream",
     "text": [
      "Epoch 59: 100%|██████████| 4/4 [00:00<00:00, 131.57it/s]\n",
      "Evaluating Train: 100%|██████████| 4/4 [00:00<00:00, 159.14it/s]\n",
      "Evaluating Validation: 100%|██████████| 30/30 [00:00<00:00, 239.53it/s]\n",
      "Evaluating Test: 100%|██████████| 30/30 [00:00<00:00, 238.11it/s]\n"
     ]
    },
    {
     "name": "stdout",
     "output_type": "stream",
     "text": [
      "Epoch: 059, Train Loss: 0.0897, Train: 1.0000, Val: 0.5667, Test: 0.5667, Std dev: 0.0293\n"
     ]
    },
    {
     "name": "stderr",
     "output_type": "stream",
     "text": [
      "Epoch 60: 100%|██████████| 4/4 [00:00<00:00, 129.47it/s]\n",
      "Evaluating Train: 100%|██████████| 4/4 [00:00<00:00, 159.16it/s]\n",
      "Evaluating Validation: 100%|██████████| 30/30 [00:00<00:00, 241.26it/s]\n",
      "Evaluating Test: 100%|██████████| 30/30 [00:00<00:00, 237.52it/s]\n"
     ]
    },
    {
     "name": "stdout",
     "output_type": "stream",
     "text": [
      "Epoch: 060, Train Loss: 0.0771, Train: 1.0000, Val: 0.5333, Test: 0.5667, Std dev: 0.0315\n"
     ]
    },
    {
     "name": "stderr",
     "output_type": "stream",
     "text": [
      "Epoch 61: 100%|██████████| 4/4 [00:00<00:00, 127.56it/s]\n",
      "Evaluating Train: 100%|██████████| 4/4 [00:00<00:00, 160.05it/s]\n",
      "Evaluating Validation: 100%|██████████| 30/30 [00:00<00:00, 238.94it/s]\n",
      "Evaluating Test: 100%|██████████| 30/30 [00:00<00:00, 236.59it/s]\n"
     ]
    },
    {
     "name": "stdout",
     "output_type": "stream",
     "text": [
      "Epoch: 061, Train Loss: 0.0496, Train: 1.0000, Val: 0.5333, Test: 0.5333, Std dev: 0.0149\n"
     ]
    },
    {
     "name": "stderr",
     "output_type": "stream",
     "text": [
      "Epoch 62: 100%|██████████| 4/4 [00:00<00:00, 134.58it/s]\n",
      "Evaluating Train: 100%|██████████| 4/4 [00:00<00:00, 158.97it/s]\n",
      "Evaluating Validation: 100%|██████████| 30/30 [00:00<00:00, 239.08it/s]\n",
      "Evaluating Test: 100%|██████████| 30/30 [00:00<00:00, 237.58it/s]\n"
     ]
    },
    {
     "name": "stdout",
     "output_type": "stream",
     "text": [
      "Epoch: 062, Train Loss: 0.0631, Train: 1.0000, Val: 0.5667, Test: 0.5667, Std dev: 0.0144\n"
     ]
    },
    {
     "name": "stderr",
     "output_type": "stream",
     "text": [
      "Epoch 63: 100%|██████████| 4/4 [00:00<00:00, 131.01it/s]\n",
      "Evaluating Train: 100%|██████████| 4/4 [00:00<00:00, 161.42it/s]\n",
      "Evaluating Validation: 100%|██████████| 30/30 [00:00<00:00, 239.72it/s]\n",
      "Evaluating Test: 100%|██████████| 30/30 [00:00<00:00, 237.60it/s]\n"
     ]
    },
    {
     "name": "stdout",
     "output_type": "stream",
     "text": [
      "Epoch: 063, Train Loss: 0.0630, Train: 1.0000, Val: 0.5333, Test: 0.5333, Std dev: 0.0137\n"
     ]
    },
    {
     "name": "stderr",
     "output_type": "stream",
     "text": [
      "Epoch 64: 100%|██████████| 4/4 [00:00<00:00, 128.79it/s]\n",
      "Evaluating Train: 100%|██████████| 4/4 [00:00<00:00, 157.59it/s]\n",
      "Evaluating Validation: 100%|██████████| 30/30 [00:00<00:00, 240.91it/s]\n",
      "Evaluating Test: 100%|██████████| 30/30 [00:00<00:00, 238.91it/s]\n"
     ]
    },
    {
     "name": "stdout",
     "output_type": "stream",
     "text": [
      "Epoch: 064, Train Loss: 0.0348, Train: 1.0000, Val: 0.5333, Test: 0.5667, Std dev: 0.0143\n"
     ]
    },
    {
     "name": "stderr",
     "output_type": "stream",
     "text": [
      "Epoch 65: 100%|██████████| 4/4 [00:00<00:00, 128.98it/s]\n",
      "Evaluating Train: 100%|██████████| 4/4 [00:00<00:00, 157.24it/s]\n",
      "Evaluating Validation: 100%|██████████| 30/30 [00:00<00:00, 239.04it/s]\n",
      "Evaluating Test: 100%|██████████| 30/30 [00:00<00:00, 237.61it/s]\n"
     ]
    },
    {
     "name": "stdout",
     "output_type": "stream",
     "text": [
      "Epoch: 065, Train Loss: 0.0316, Train: 1.0000, Val: 0.6000, Test: 0.5667, Std dev: 0.0134\n"
     ]
    },
    {
     "name": "stderr",
     "output_type": "stream",
     "text": [
      "Epoch 66: 100%|██████████| 4/4 [00:00<00:00, 132.36it/s]\n",
      "Evaluating Train: 100%|██████████| 4/4 [00:00<00:00, 157.31it/s]\n",
      "Evaluating Validation: 100%|██████████| 30/30 [00:00<00:00, 239.10it/s]\n",
      "Evaluating Test: 100%|██████████| 30/30 [00:00<00:00, 240.39it/s]\n"
     ]
    },
    {
     "name": "stdout",
     "output_type": "stream",
     "text": [
      "Epoch: 066, Train Loss: 0.0352, Train: 1.0000, Val: 0.5667, Test: 0.5667, Std dev: 0.0143\n"
     ]
    },
    {
     "name": "stderr",
     "output_type": "stream",
     "text": [
      "Epoch 67: 100%|██████████| 4/4 [00:00<00:00, 130.95it/s]\n",
      "Evaluating Train: 100%|██████████| 4/4 [00:00<00:00, 161.49it/s]\n",
      "Evaluating Validation: 100%|██████████| 30/30 [00:00<00:00, 239.08it/s]\n",
      "Evaluating Test: 100%|██████████| 30/30 [00:00<00:00, 239.34it/s]\n"
     ]
    },
    {
     "name": "stdout",
     "output_type": "stream",
     "text": [
      "Epoch: 067, Train Loss: 0.0886, Train: 1.0000, Val: 0.5333, Test: 0.5667, Std dev: 0.0221\n"
     ]
    },
    {
     "name": "stderr",
     "output_type": "stream",
     "text": [
      "Epoch 68: 100%|██████████| 4/4 [00:00<00:00, 132.73it/s]\n",
      "Evaluating Train: 100%|██████████| 4/4 [00:00<00:00, 158.14it/s]\n",
      "Evaluating Validation: 100%|██████████| 30/30 [00:00<00:00, 238.63it/s]\n",
      "Evaluating Test: 100%|██████████| 30/30 [00:00<00:00, 236.86it/s]\n"
     ]
    },
    {
     "name": "stdout",
     "output_type": "stream",
     "text": [
      "Epoch: 068, Train Loss: 0.0402, Train: 1.0000, Val: 0.5667, Test: 0.6000, Std dev: 0.0214\n"
     ]
    },
    {
     "name": "stderr",
     "output_type": "stream",
     "text": [
      "Epoch 69: 100%|██████████| 4/4 [00:00<00:00, 133.36it/s]\n",
      "Evaluating Train: 100%|██████████| 4/4 [00:00<00:00, 159.30it/s]\n",
      "Evaluating Validation: 100%|██████████| 30/30 [00:00<00:00, 241.39it/s]\n",
      "Evaluating Test: 100%|██████████| 30/30 [00:00<00:00, 236.96it/s]\n"
     ]
    },
    {
     "name": "stdout",
     "output_type": "stream",
     "text": [
      "Epoch: 069, Train Loss: 0.0362, Train: 1.0000, Val: 0.5667, Test: 0.6000, Std dev: 0.0213\n"
     ]
    },
    {
     "name": "stderr",
     "output_type": "stream",
     "text": [
      "Epoch 70: 100%|██████████| 4/4 [00:00<00:00, 131.98it/s]\n",
      "Evaluating Train: 100%|██████████| 4/4 [00:00<00:00, 161.42it/s]\n",
      "Evaluating Validation: 100%|██████████| 30/30 [00:00<00:00, 238.17it/s]\n",
      "Evaluating Test: 100%|██████████| 30/30 [00:00<00:00, 239.49it/s]\n"
     ]
    },
    {
     "name": "stdout",
     "output_type": "stream",
     "text": [
      "Epoch: 070, Train Loss: 0.0346, Train: 1.0000, Val: 0.5667, Test: 0.5667, Std dev: 0.0209\n"
     ]
    },
    {
     "name": "stderr",
     "output_type": "stream",
     "text": [
      "Epoch 71: 100%|██████████| 4/4 [00:00<00:00, 130.76it/s]\n",
      "Evaluating Train: 100%|██████████| 4/4 [00:00<00:00, 155.88it/s]\n",
      "Evaluating Validation: 100%|██████████| 30/30 [00:00<00:00, 242.05it/s]\n",
      "Evaluating Test: 100%|██████████| 30/30 [00:00<00:00, 239.18it/s]\n"
     ]
    },
    {
     "name": "stdout",
     "output_type": "stream",
     "text": [
      "Epoch: 071, Train Loss: 0.0375, Train: 1.0000, Val: 0.5667, Test: 0.5667, Std dev: 0.0207\n"
     ]
    },
    {
     "name": "stderr",
     "output_type": "stream",
     "text": [
      "Epoch 72: 100%|██████████| 4/4 [00:00<00:00, 130.80it/s]\n",
      "Evaluating Train: 100%|██████████| 4/4 [00:00<00:00, 158.76it/s]\n",
      "Evaluating Validation: 100%|██████████| 30/30 [00:00<00:00, 240.69it/s]\n",
      "Evaluating Test: 100%|██████████| 30/30 [00:00<00:00, 238.19it/s]\n"
     ]
    },
    {
     "name": "stdout",
     "output_type": "stream",
     "text": [
      "Epoch: 072, Train Loss: 0.0423, Train: 1.0000, Val: 0.5667, Test: 0.5667, Std dev: 0.0028\n"
     ]
    },
    {
     "name": "stderr",
     "output_type": "stream",
     "text": [
      "Epoch 73: 100%|██████████| 4/4 [00:00<00:00, 132.59it/s]\n",
      "Evaluating Train: 100%|██████████| 4/4 [00:00<00:00, 164.27it/s]\n",
      "Evaluating Validation: 100%|██████████| 30/30 [00:00<00:00, 239.64it/s]\n",
      "Evaluating Test: 100%|██████████| 30/30 [00:00<00:00, 238.47it/s]\n"
     ]
    },
    {
     "name": "stdout",
     "output_type": "stream",
     "text": [
      "Epoch: 073, Train Loss: 0.0325, Train: 1.0000, Val: 0.5333, Test: 0.5667, Std dev: 0.0033\n"
     ]
    },
    {
     "name": "stderr",
     "output_type": "stream",
     "text": [
      "Epoch 74: 100%|██████████| 4/4 [00:00<00:00, 131.48it/s]\n",
      "Evaluating Train: 100%|██████████| 4/4 [00:00<00:00, 154.91it/s]\n",
      "Evaluating Validation: 100%|██████████| 30/30 [00:00<00:00, 238.04it/s]\n",
      "Evaluating Test: 100%|██████████| 30/30 [00:00<00:00, 237.71it/s]\n"
     ]
    },
    {
     "name": "stdout",
     "output_type": "stream",
     "text": [
      "Epoch: 074, Train Loss: 0.0567, Train: 1.0000, Val: 0.6000, Test: 0.5667, Std dev: 0.0087\n"
     ]
    },
    {
     "name": "stderr",
     "output_type": "stream",
     "text": [
      "Epoch 75: 100%|██████████| 4/4 [00:00<00:00, 131.35it/s]\n",
      "Evaluating Train: 100%|██████████| 4/4 [00:00<00:00, 158.12it/s]\n",
      "Evaluating Validation: 100%|██████████| 30/30 [00:00<00:00, 240.31it/s]\n",
      "Evaluating Test: 100%|██████████| 30/30 [00:00<00:00, 239.81it/s]\n"
     ]
    },
    {
     "name": "stdout",
     "output_type": "stream",
     "text": [
      "Epoch: 075, Train Loss: 0.0489, Train: 1.0000, Val: 0.5667, Test: 0.5333, Std dev: 0.0085\n"
     ]
    },
    {
     "name": "stderr",
     "output_type": "stream",
     "text": [
      "Epoch 76: 100%|██████████| 4/4 [00:00<00:00, 131.99it/s]\n",
      "Evaluating Train: 100%|██████████| 4/4 [00:00<00:00, 156.19it/s]\n",
      "Evaluating Validation: 100%|██████████| 30/30 [00:00<00:00, 239.62it/s]\n",
      "Evaluating Test: 100%|██████████| 30/30 [00:00<00:00, 237.85it/s]\n"
     ]
    },
    {
     "name": "stdout",
     "output_type": "stream",
     "text": [
      "Epoch: 076, Train Loss: 0.0171, Train: 1.0000, Val: 0.6000, Test: 0.6000, Std dev: 0.0137\n"
     ]
    },
    {
     "name": "stderr",
     "output_type": "stream",
     "text": [
      "Epoch 77: 100%|██████████| 4/4 [00:00<00:00, 132.90it/s]\n",
      "Evaluating Train: 100%|██████████| 4/4 [00:00<00:00, 158.18it/s]\n",
      "Evaluating Validation: 100%|██████████| 30/30 [00:00<00:00, 238.77it/s]\n",
      "Evaluating Test: 100%|██████████| 30/30 [00:00<00:00, 238.40it/s]\n"
     ]
    },
    {
     "name": "stdout",
     "output_type": "stream",
     "text": [
      "Epoch: 077, Train Loss: 0.0209, Train: 1.0000, Val: 0.5667, Test: 0.6000, Std dev: 0.0154\n"
     ]
    },
    {
     "name": "stderr",
     "output_type": "stream",
     "text": [
      "Epoch 78: 100%|██████████| 4/4 [00:00<00:00, 129.91it/s]\n",
      "Evaluating Train: 100%|██████████| 4/4 [00:00<00:00, 161.34it/s]\n",
      "Evaluating Validation: 100%|██████████| 30/30 [00:00<00:00, 236.15it/s]\n",
      "Evaluating Test: 100%|██████████| 30/30 [00:00<00:00, 236.23it/s]\n"
     ]
    },
    {
     "name": "stdout",
     "output_type": "stream",
     "text": [
      "Epoch: 078, Train Loss: 0.0357, Train: 1.0000, Val: 0.5667, Test: 0.6000, Std dev: 0.0154\n"
     ]
    },
    {
     "name": "stderr",
     "output_type": "stream",
     "text": [
      "Epoch 79: 100%|██████████| 4/4 [00:00<00:00, 130.00it/s]\n",
      "Evaluating Train: 100%|██████████| 4/4 [00:00<00:00, 162.26it/s]\n",
      "Evaluating Validation: 100%|██████████| 30/30 [00:00<00:00, 237.58it/s]\n",
      "Evaluating Test: 100%|██████████| 30/30 [00:00<00:00, 233.20it/s]\n"
     ]
    },
    {
     "name": "stdout",
     "output_type": "stream",
     "text": [
      "Epoch: 079, Train Loss: 0.0186, Train: 1.0000, Val: 0.6000, Test: 0.6000, Std dev: 0.0123\n"
     ]
    },
    {
     "name": "stderr",
     "output_type": "stream",
     "text": [
      "Epoch 80: 100%|██████████| 4/4 [00:00<00:00, 130.34it/s]\n",
      "Evaluating Train: 100%|██████████| 4/4 [00:00<00:00, 160.85it/s]\n",
      "Evaluating Validation: 100%|██████████| 30/30 [00:00<00:00, 240.24it/s]\n",
      "Evaluating Test: 100%|██████████| 30/30 [00:00<00:00, 237.33it/s]\n"
     ]
    },
    {
     "name": "stdout",
     "output_type": "stream",
     "text": [
      "Epoch: 080, Train Loss: 0.0142, Train: 1.0000, Val: 0.5667, Test: 0.6000, Std dev: 0.0075\n"
     ]
    },
    {
     "name": "stderr",
     "output_type": "stream",
     "text": [
      "Epoch 81: 100%|██████████| 4/4 [00:00<00:00, 131.33it/s]\n",
      "Evaluating Train: 100%|██████████| 4/4 [00:00<00:00, 165.75it/s]\n",
      "Evaluating Validation: 100%|██████████| 30/30 [00:00<00:00, 240.12it/s]\n",
      "Evaluating Test: 100%|██████████| 30/30 [00:00<00:00, 241.33it/s]\n"
     ]
    },
    {
     "name": "stdout",
     "output_type": "stream",
     "text": [
      "Epoch: 081, Train Loss: 0.0372, Train: 1.0000, Val: 0.5667, Test: 0.6000, Std dev: 0.0093\n"
     ]
    },
    {
     "name": "stderr",
     "output_type": "stream",
     "text": [
      "Epoch 82: 100%|██████████| 4/4 [00:00<00:00, 130.55it/s]\n",
      "Evaluating Train: 100%|██████████| 4/4 [00:00<00:00, 160.19it/s]\n",
      "Evaluating Validation: 100%|██████████| 30/30 [00:00<00:00, 242.00it/s]\n",
      "Evaluating Test: 100%|██████████| 30/30 [00:00<00:00, 238.56it/s]\n"
     ]
    },
    {
     "name": "stdout",
     "output_type": "stream",
     "text": [
      "Epoch: 082, Train Loss: 0.0275, Train: 1.0000, Val: 0.5667, Test: 0.6000, Std dev: 0.0091\n"
     ]
    },
    {
     "name": "stderr",
     "output_type": "stream",
     "text": [
      "Epoch 83: 100%|██████████| 4/4 [00:00<00:00, 131.86it/s]\n",
      "Evaluating Train: 100%|██████████| 4/4 [00:00<00:00, 162.09it/s]\n",
      "Evaluating Validation: 100%|██████████| 30/30 [00:00<00:00, 241.67it/s]\n",
      "Evaluating Test: 100%|██████████| 30/30 [00:00<00:00, 236.91it/s]\n"
     ]
    },
    {
     "name": "stdout",
     "output_type": "stream",
     "text": [
      "Epoch: 083, Train Loss: 0.0380, Train: 1.0000, Val: 0.5667, Test: 0.6000, Std dev: 0.0096\n"
     ]
    },
    {
     "name": "stderr",
     "output_type": "stream",
     "text": [
      "Epoch 84: 100%|██████████| 4/4 [00:00<00:00, 130.36it/s]\n",
      "Evaluating Train: 100%|██████████| 4/4 [00:00<00:00, 158.78it/s]\n",
      "Evaluating Validation: 100%|██████████| 30/30 [00:00<00:00, 239.90it/s]\n",
      "Evaluating Test: 100%|██████████| 30/30 [00:00<00:00, 236.98it/s]\n"
     ]
    },
    {
     "name": "stdout",
     "output_type": "stream",
     "text": [
      "Epoch: 084, Train Loss: 0.0169, Train: 1.0000, Val: 0.5667, Test: 0.6000, Std dev: 0.0099\n"
     ]
    },
    {
     "name": "stderr",
     "output_type": "stream",
     "text": [
      "Epoch 85: 100%|██████████| 4/4 [00:00<00:00, 126.74it/s]\n",
      "Evaluating Train: 100%|██████████| 4/4 [00:00<00:00, 159.12it/s]\n",
      "Evaluating Validation: 100%|██████████| 30/30 [00:00<00:00, 240.12it/s]\n",
      "Evaluating Test: 100%|██████████| 30/30 [00:00<00:00, 238.80it/s]\n"
     ]
    },
    {
     "name": "stdout",
     "output_type": "stream",
     "text": [
      "Epoch: 085, Train Loss: 0.0090, Train: 1.0000, Val: 0.5667, Test: 0.5667, Std dev: 0.0113\n"
     ]
    },
    {
     "name": "stderr",
     "output_type": "stream",
     "text": [
      "Epoch 86: 100%|██████████| 4/4 [00:00<00:00, 129.91it/s]\n",
      "Evaluating Train: 100%|██████████| 4/4 [00:00<00:00, 160.05it/s]\n",
      "Evaluating Validation: 100%|██████████| 30/30 [00:00<00:00, 240.23it/s]\n",
      "Evaluating Test: 100%|██████████| 30/30 [00:00<00:00, 240.68it/s]\n"
     ]
    },
    {
     "name": "stdout",
     "output_type": "stream",
     "text": [
      "Epoch: 086, Train Loss: 0.0196, Train: 1.0000, Val: 0.5667, Test: 0.6000, Std dev: 0.0099\n"
     ]
    },
    {
     "name": "stderr",
     "output_type": "stream",
     "text": [
      "Epoch 87: 100%|██████████| 4/4 [00:00<00:00, 128.69it/s]\n",
      "Evaluating Train: 100%|██████████| 4/4 [00:00<00:00, 160.65it/s]\n",
      "Evaluating Validation: 100%|██████████| 30/30 [00:00<00:00, 236.45it/s]\n",
      "Evaluating Test: 100%|██████████| 30/30 [00:00<00:00, 238.77it/s]\n"
     ]
    },
    {
     "name": "stdout",
     "output_type": "stream",
     "text": [
      "Epoch: 087, Train Loss: 0.0322, Train: 1.0000, Val: 0.6000, Test: 0.6000, Std dev: 0.0105\n"
     ]
    },
    {
     "name": "stderr",
     "output_type": "stream",
     "text": [
      "Epoch 88: 100%|██████████| 4/4 [00:00<00:00, 131.80it/s]\n",
      "Evaluating Train: 100%|██████████| 4/4 [00:00<00:00, 158.26it/s]\n",
      "Evaluating Validation: 100%|██████████| 30/30 [00:00<00:00, 240.41it/s]\n",
      "Evaluating Test: 100%|██████████| 30/30 [00:00<00:00, 239.61it/s]\n"
     ]
    },
    {
     "name": "stdout",
     "output_type": "stream",
     "text": [
      "Epoch: 088, Train Loss: 0.0044, Train: 1.0000, Val: 0.5667, Test: 0.5667, Std dev: 0.0096\n"
     ]
    },
    {
     "name": "stderr",
     "output_type": "stream",
     "text": [
      "Epoch 89: 100%|██████████| 4/4 [00:00<00:00, 129.97it/s]\n",
      "Evaluating Train: 100%|██████████| 4/4 [00:00<00:00, 163.06it/s]\n",
      "Evaluating Validation: 100%|██████████| 30/30 [00:00<00:00, 239.55it/s]\n",
      "Evaluating Test: 100%|██████████| 30/30 [00:00<00:00, 237.92it/s]\n"
     ]
    },
    {
     "name": "stdout",
     "output_type": "stream",
     "text": [
      "Epoch: 089, Train Loss: 0.0057, Train: 1.0000, Val: 0.5667, Test: 0.6000, Std dev: 0.0105\n"
     ]
    },
    {
     "name": "stderr",
     "output_type": "stream",
     "text": [
      "Epoch 90: 100%|██████████| 4/4 [00:00<00:00, 128.67it/s]\n",
      "Evaluating Train: 100%|██████████| 4/4 [00:00<00:00, 160.71it/s]\n",
      "Evaluating Validation: 100%|██████████| 30/30 [00:00<00:00, 236.91it/s]\n",
      "Evaluating Test: 100%|██████████| 30/30 [00:00<00:00, 238.37it/s]\n"
     ]
    },
    {
     "name": "stdout",
     "output_type": "stream",
     "text": [
      "Epoch: 090, Train Loss: 0.0282, Train: 1.0000, Val: 0.6000, Test: 0.6000, Std dev: 0.0114\n"
     ]
    },
    {
     "name": "stderr",
     "output_type": "stream",
     "text": [
      "Epoch 91: 100%|██████████| 4/4 [00:00<00:00, 126.85it/s]\n",
      "Evaluating Train: 100%|██████████| 4/4 [00:00<00:00, 160.33it/s]\n",
      "Evaluating Validation: 100%|██████████| 30/30 [00:00<00:00, 239.06it/s]\n",
      "Evaluating Test: 100%|██████████| 30/30 [00:00<00:00, 238.03it/s]\n"
     ]
    },
    {
     "name": "stdout",
     "output_type": "stream",
     "text": [
      "Epoch: 091, Train Loss: 0.0188, Train: 1.0000, Val: 0.5667, Test: 0.6000, Std dev: 0.0114\n"
     ]
    },
    {
     "name": "stderr",
     "output_type": "stream",
     "text": [
      "Epoch 92: 100%|██████████| 4/4 [00:00<00:00, 132.96it/s]\n",
      "Evaluating Train: 100%|██████████| 4/4 [00:00<00:00, 159.67it/s]\n",
      "Evaluating Validation: 100%|██████████| 30/30 [00:00<00:00, 239.06it/s]\n",
      "Evaluating Test: 100%|██████████| 30/30 [00:00<00:00, 237.70it/s]\n"
     ]
    },
    {
     "name": "stdout",
     "output_type": "stream",
     "text": [
      "Epoch: 092, Train Loss: 0.0102, Train: 1.0000, Val: 0.6000, Test: 0.5667, Std dev: 0.0090\n"
     ]
    },
    {
     "name": "stderr",
     "output_type": "stream",
     "text": [
      "Epoch 93: 100%|██████████| 4/4 [00:00<00:00, 130.65it/s]\n",
      "Evaluating Train: 100%|██████████| 4/4 [00:00<00:00, 159.34it/s]\n",
      "Evaluating Validation: 100%|██████████| 30/30 [00:00<00:00, 239.69it/s]\n",
      "Evaluating Test: 100%|██████████| 30/30 [00:00<00:00, 238.36it/s]\n"
     ]
    },
    {
     "name": "stdout",
     "output_type": "stream",
     "text": [
      "Epoch: 093, Train Loss: 0.0145, Train: 1.0000, Val: 0.6000, Test: 0.6000, Std dev: 0.0077\n"
     ]
    },
    {
     "name": "stderr",
     "output_type": "stream",
     "text": [
      "Epoch 94: 100%|██████████| 4/4 [00:00<00:00, 131.30it/s]\n",
      "Evaluating Train: 100%|██████████| 4/4 [00:00<00:00, 159.67it/s]\n",
      "Evaluating Validation: 100%|██████████| 30/30 [00:00<00:00, 238.67it/s]\n",
      "Evaluating Test: 100%|██████████| 30/30 [00:00<00:00, 237.88it/s]\n"
     ]
    },
    {
     "name": "stdout",
     "output_type": "stream",
     "text": [
      "Epoch: 094, Train Loss: 0.0288, Train: 1.0000, Val: 0.5667, Test: 0.6000, Std dev: 0.0074\n"
     ]
    },
    {
     "name": "stderr",
     "output_type": "stream",
     "text": [
      "Epoch 95: 100%|██████████| 4/4 [00:00<00:00, 125.95it/s]\n",
      "Evaluating Train: 100%|██████████| 4/4 [00:00<00:00, 163.86it/s]\n",
      "Evaluating Validation: 100%|██████████| 30/30 [00:00<00:00, 239.21it/s]\n",
      "Evaluating Test: 100%|██████████| 30/30 [00:00<00:00, 238.93it/s]\n"
     ]
    },
    {
     "name": "stdout",
     "output_type": "stream",
     "text": [
      "Epoch: 095, Train Loss: 0.0158, Train: 1.0000, Val: 0.6000, Test: 0.6000, Std dev: 0.0062\n"
     ]
    },
    {
     "name": "stderr",
     "output_type": "stream",
     "text": [
      "Epoch 96: 100%|██████████| 4/4 [00:00<00:00, 130.47it/s]\n",
      "Evaluating Train: 100%|██████████| 4/4 [00:00<00:00, 157.99it/s]\n",
      "Evaluating Validation: 100%|██████████| 30/30 [00:00<00:00, 241.85it/s]\n",
      "Evaluating Test: 100%|██████████| 30/30 [00:00<00:00, 238.84it/s]\n"
     ]
    },
    {
     "name": "stdout",
     "output_type": "stream",
     "text": [
      "Epoch: 096, Train Loss: 0.0163, Train: 1.0000, Val: 0.6000, Test: 0.6000, Std dev: 0.0062\n"
     ]
    },
    {
     "name": "stderr",
     "output_type": "stream",
     "text": [
      "Epoch 97: 100%|██████████| 4/4 [00:00<00:00, 132.94it/s]\n",
      "Evaluating Train: 100%|██████████| 4/4 [00:00<00:00, 161.49it/s]\n",
      "Evaluating Validation: 100%|██████████| 30/30 [00:00<00:00, 238.59it/s]\n",
      "Evaluating Test: 100%|██████████| 30/30 [00:00<00:00, 238.26it/s]\n"
     ]
    },
    {
     "name": "stdout",
     "output_type": "stream",
     "text": [
      "Epoch: 097, Train Loss: 0.0220, Train: 1.0000, Val: 0.6000, Test: 0.6000, Std dev: 0.0053\n"
     ]
    },
    {
     "name": "stderr",
     "output_type": "stream",
     "text": [
      "Epoch 98: 100%|██████████| 4/4 [00:00<00:00, 130.03it/s]\n",
      "Evaluating Train: 100%|██████████| 4/4 [00:00<00:00, 160.02it/s]\n",
      "Evaluating Validation: 100%|██████████| 30/30 [00:00<00:00, 239.51it/s]\n",
      "Evaluating Test: 100%|██████████| 30/30 [00:00<00:00, 239.17it/s]\n"
     ]
    },
    {
     "name": "stdout",
     "output_type": "stream",
     "text": [
      "Epoch: 098, Train Loss: 0.0167, Train: 1.0000, Val: 0.5667, Test: 0.5667, Std dev: 0.0050\n"
     ]
    },
    {
     "name": "stderr",
     "output_type": "stream",
     "text": [
      "Epoch 99: 100%|██████████| 4/4 [00:00<00:00, 130.05it/s]\n",
      "Evaluating Train: 100%|██████████| 4/4 [00:00<00:00, 159.00it/s]\n",
      "Evaluating Validation: 100%|██████████| 30/30 [00:00<00:00, 239.23it/s]\n",
      "Evaluating Test: 100%|██████████| 30/30 [00:00<00:00, 238.77it/s]\n"
     ]
    },
    {
     "name": "stdout",
     "output_type": "stream",
     "text": [
      "Epoch: 099, Train Loss: 0.0050, Train: 1.0000, Val: 0.5333, Test: 0.5667, Std dev: 0.0056\n"
     ]
    },
    {
     "name": "stderr",
     "output_type": "stream",
     "text": [
      "Epoch 100: 100%|██████████| 4/4 [00:00<00:00, 128.31it/s]\n",
      "Evaluating Train: 100%|██████████| 4/4 [00:00<00:00, 164.77it/s]\n",
      "Evaluating Validation: 100%|██████████| 30/30 [00:00<00:00, 240.94it/s]\n",
      "Evaluating Test: 100%|██████████| 30/30 [00:00<00:00, 237.92it/s]\n"
     ]
    },
    {
     "name": "stdout",
     "output_type": "stream",
     "text": [
      "Epoch: 100, Train Loss: 0.0063, Train: 1.0000, Val: 0.5667, Test: 0.5667, Std dev: 0.0066\n"
     ]
    },
    {
     "name": "stderr",
     "output_type": "stream",
     "text": [
      "Epoch 101: 100%|██████████| 4/4 [00:00<00:00, 130.79it/s]\n",
      "Evaluating Train: 100%|██████████| 4/4 [00:00<00:00, 161.06it/s]\n",
      "Evaluating Validation: 100%|██████████| 30/30 [00:00<00:00, 241.91it/s]\n",
      "Evaluating Test: 100%|██████████| 30/30 [00:00<00:00, 238.72it/s]\n"
     ]
    },
    {
     "name": "stdout",
     "output_type": "stream",
     "text": [
      "Epoch: 101, Train Loss: 0.0140, Train: 1.0000, Val: 0.6000, Test: 0.6000, Std dev: 0.0064\n"
     ]
    },
    {
     "name": "stderr",
     "output_type": "stream",
     "text": [
      "Epoch 102: 100%|██████████| 4/4 [00:00<00:00, 130.17it/s]\n",
      "Evaluating Train: 100%|██████████| 4/4 [00:00<00:00, 159.13it/s]\n",
      "Evaluating Validation: 100%|██████████| 30/30 [00:00<00:00, 238.88it/s]\n",
      "Evaluating Test: 100%|██████████| 30/30 [00:00<00:00, 239.99it/s]\n"
     ]
    },
    {
     "name": "stdout",
     "output_type": "stream",
     "text": [
      "Epoch: 102, Train Loss: 0.0089, Train: 1.0000, Val: 0.5667, Test: 0.6000, Std dev: 0.0045\n"
     ]
    },
    {
     "name": "stderr",
     "output_type": "stream",
     "text": [
      "Epoch 103: 100%|██████████| 4/4 [00:00<00:00, 129.96it/s]\n",
      "Evaluating Train: 100%|██████████| 4/4 [00:00<00:00, 161.84it/s]\n",
      "Evaluating Validation: 100%|██████████| 30/30 [00:00<00:00, 238.91it/s]\n",
      "Evaluating Test: 100%|██████████| 30/30 [00:00<00:00, 239.07it/s]\n"
     ]
    },
    {
     "name": "stdout",
     "output_type": "stream",
     "text": [
      "Epoch: 103, Train Loss: 0.0213, Train: 1.0000, Val: 0.5667, Test: 0.5667, Std dev: 0.0060\n"
     ]
    },
    {
     "name": "stderr",
     "output_type": "stream",
     "text": [
      "Epoch 104: 100%|██████████| 4/4 [00:00<00:00, 135.49it/s]\n",
      "Evaluating Train: 100%|██████████| 4/4 [00:00<00:00, 157.29it/s]\n",
      "Evaluating Validation: 100%|██████████| 30/30 [00:00<00:00, 239.51it/s]\n",
      "Evaluating Test: 100%|██████████| 30/30 [00:00<00:00, 238.56it/s]\n"
     ]
    },
    {
     "name": "stdout",
     "output_type": "stream",
     "text": [
      "Epoch: 104, Train Loss: 0.0043, Train: 1.0000, Val: 0.6000, Test: 0.6000, Std dev: 0.0061\n"
     ]
    },
    {
     "name": "stderr",
     "output_type": "stream",
     "text": [
      "Epoch 105: 100%|██████████| 4/4 [00:00<00:00, 130.61it/s]\n",
      "Evaluating Train: 100%|██████████| 4/4 [00:00<00:00, 161.37it/s]\n",
      "Evaluating Validation: 100%|██████████| 30/30 [00:00<00:00, 237.71it/s]\n",
      "Evaluating Test: 100%|██████████| 30/30 [00:00<00:00, 237.01it/s]\n"
     ]
    },
    {
     "name": "stdout",
     "output_type": "stream",
     "text": [
      "Epoch: 105, Train Loss: 0.0114, Train: 1.0000, Val: 0.5667, Test: 0.6000, Std dev: 0.0057\n"
     ]
    },
    {
     "name": "stderr",
     "output_type": "stream",
     "text": [
      "Epoch 106: 100%|██████████| 4/4 [00:00<00:00, 130.53it/s]\n",
      "Evaluating Train: 100%|██████████| 4/4 [00:00<00:00, 159.52it/s]\n",
      "Evaluating Validation: 100%|██████████| 30/30 [00:00<00:00, 240.47it/s]\n",
      "Evaluating Test: 100%|██████████| 30/30 [00:00<00:00, 238.15it/s]\n"
     ]
    },
    {
     "name": "stdout",
     "output_type": "stream",
     "text": [
      "Epoch: 106, Train Loss: 0.0167, Train: 1.0000, Val: 0.6000, Test: 0.6000, Std dev: 0.0059\n"
     ]
    },
    {
     "name": "stderr",
     "output_type": "stream",
     "text": [
      "Epoch 107: 100%|██████████| 4/4 [00:00<00:00, 130.40it/s]\n",
      "Evaluating Train: 100%|██████████| 4/4 [00:00<00:00, 157.87it/s]\n",
      "Evaluating Validation: 100%|██████████| 30/30 [00:00<00:00, 238.20it/s]\n",
      "Evaluating Test: 100%|██████████| 30/30 [00:00<00:00, 240.04it/s]\n"
     ]
    },
    {
     "name": "stdout",
     "output_type": "stream",
     "text": [
      "Epoch: 107, Train Loss: 0.0320, Train: 1.0000, Val: 0.6000, Test: 0.6000, Std dev: 0.0093\n"
     ]
    },
    {
     "name": "stderr",
     "output_type": "stream",
     "text": [
      "Epoch 108: 100%|██████████| 4/4 [00:00<00:00, 130.49it/s]\n",
      "Evaluating Train: 100%|██████████| 4/4 [00:00<00:00, 156.55it/s]\n",
      "Evaluating Validation: 100%|██████████| 30/30 [00:00<00:00, 240.66it/s]\n",
      "Evaluating Test: 100%|██████████| 30/30 [00:00<00:00, 238.41it/s]\n"
     ]
    },
    {
     "name": "stdout",
     "output_type": "stream",
     "text": [
      "Epoch: 108, Train Loss: 0.0063, Train: 1.0000, Val: 0.5667, Test: 0.6000, Std dev: 0.0099\n"
     ]
    },
    {
     "name": "stderr",
     "output_type": "stream",
     "text": [
      "Epoch 109: 100%|██████████| 4/4 [00:00<00:00, 130.38it/s]\n",
      "Evaluating Train: 100%|██████████| 4/4 [00:00<00:00, 159.39it/s]\n",
      "Evaluating Validation: 100%|██████████| 30/30 [00:00<00:00, 239.42it/s]\n",
      "Evaluating Test: 100%|██████████| 30/30 [00:00<00:00, 234.27it/s]\n"
     ]
    },
    {
     "name": "stdout",
     "output_type": "stream",
     "text": [
      "Epoch: 109, Train Loss: 0.0062, Train: 1.0000, Val: 0.5333, Test: 0.5333, Std dev: 0.0096\n"
     ]
    },
    {
     "name": "stderr",
     "output_type": "stream",
     "text": [
      "Epoch 110: 100%|██████████| 4/4 [00:00<00:00, 130.05it/s]\n",
      "Evaluating Train: 100%|██████████| 4/4 [00:00<00:00, 160.81it/s]\n",
      "Evaluating Validation: 100%|██████████| 30/30 [00:00<00:00, 241.71it/s]\n",
      "Evaluating Test: 100%|██████████| 30/30 [00:00<00:00, 237.86it/s]\n"
     ]
    },
    {
     "name": "stdout",
     "output_type": "stream",
     "text": [
      "Epoch: 110, Train Loss: 0.0213, Train: 1.0000, Val: 0.5667, Test: 0.5667, Std dev: 0.0097\n"
     ]
    },
    {
     "name": "stderr",
     "output_type": "stream",
     "text": [
      "Epoch 111: 100%|██████████| 4/4 [00:00<00:00, 134.81it/s]\n",
      "Evaluating Train: 100%|██████████| 4/4 [00:00<00:00, 167.13it/s]\n",
      "Evaluating Validation: 100%|██████████| 30/30 [00:00<00:00, 240.02it/s]\n",
      "Evaluating Test: 100%|██████████| 30/30 [00:00<00:00, 240.14it/s]\n"
     ]
    },
    {
     "name": "stdout",
     "output_type": "stream",
     "text": [
      "Epoch: 111, Train Loss: 0.0069, Train: 1.0000, Val: 0.6000, Test: 0.6000, Std dev: 0.0105\n"
     ]
    },
    {
     "name": "stderr",
     "output_type": "stream",
     "text": [
      "Epoch 112: 100%|██████████| 4/4 [00:00<00:00, 129.31it/s]\n",
      "Evaluating Train: 100%|██████████| 4/4 [00:00<00:00, 155.40it/s]\n",
      "Evaluating Validation: 100%|██████████| 30/30 [00:00<00:00, 240.17it/s]\n",
      "Evaluating Test: 100%|██████████| 30/30 [00:00<00:00, 237.80it/s]\n"
     ]
    },
    {
     "name": "stdout",
     "output_type": "stream",
     "text": [
      "Epoch: 112, Train Loss: 0.0068, Train: 1.0000, Val: 0.6000, Test: 0.5667, Std dev: 0.0059\n"
     ]
    },
    {
     "name": "stderr",
     "output_type": "stream",
     "text": [
      "Epoch 113: 100%|██████████| 4/4 [00:00<00:00, 134.34it/s]\n",
      "Evaluating Train: 100%|██████████| 4/4 [00:00<00:00, 163.37it/s]\n",
      "Evaluating Validation: 100%|██████████| 30/30 [00:00<00:00, 240.92it/s]\n",
      "Evaluating Test: 100%|██████████| 30/30 [00:00<00:00, 238.22it/s]\n"
     ]
    },
    {
     "name": "stdout",
     "output_type": "stream",
     "text": [
      "Epoch: 113, Train Loss: 0.0034, Train: 1.0000, Val: 0.6000, Test: 0.5667, Std dev: 0.0063\n"
     ]
    },
    {
     "name": "stderr",
     "output_type": "stream",
     "text": [
      "Epoch 114: 100%|██████████| 4/4 [00:00<00:00, 128.92it/s]\n",
      "Evaluating Train: 100%|██████████| 4/4 [00:00<00:00, 160.34it/s]\n",
      "Evaluating Validation: 100%|██████████| 30/30 [00:00<00:00, 241.49it/s]\n",
      "Evaluating Test: 100%|██████████| 30/30 [00:00<00:00, 238.45it/s]\n"
     ]
    },
    {
     "name": "stdout",
     "output_type": "stream",
     "text": [
      "Epoch: 114, Train Loss: 0.0078, Train: 1.0000, Val: 0.5667, Test: 0.5333, Std dev: 0.0062\n"
     ]
    },
    {
     "name": "stderr",
     "output_type": "stream",
     "text": [
      "Epoch 115: 100%|██████████| 4/4 [00:00<00:00, 130.32it/s]\n",
      "Evaluating Train: 100%|██████████| 4/4 [00:00<00:00, 161.86it/s]\n",
      "Evaluating Validation: 100%|██████████| 30/30 [00:00<00:00, 240.36it/s]\n",
      "Evaluating Test: 100%|██████████| 30/30 [00:00<00:00, 238.32it/s]\n"
     ]
    },
    {
     "name": "stdout",
     "output_type": "stream",
     "text": [
      "Epoch: 115, Train Loss: 0.0073, Train: 1.0000, Val: 0.5667, Test: 0.5667, Std dev: 0.0016\n"
     ]
    },
    {
     "name": "stderr",
     "output_type": "stream",
     "text": [
      "Epoch 116: 100%|██████████| 4/4 [00:00<00:00, 131.16it/s]\n",
      "Evaluating Train: 100%|██████████| 4/4 [00:00<00:00, 158.72it/s]\n",
      "Evaluating Validation: 100%|██████████| 30/30 [00:00<00:00, 238.73it/s]\n",
      "Evaluating Test: 100%|██████████| 30/30 [00:00<00:00, 239.07it/s]\n"
     ]
    },
    {
     "name": "stdout",
     "output_type": "stream",
     "text": [
      "Epoch: 116, Train Loss: 0.0079, Train: 1.0000, Val: 0.6000, Test: 0.5667, Std dev: 0.0017\n"
     ]
    },
    {
     "name": "stderr",
     "output_type": "stream",
     "text": [
      "Epoch 117: 100%|██████████| 4/4 [00:00<00:00, 132.77it/s]\n",
      "Evaluating Train: 100%|██████████| 4/4 [00:00<00:00, 165.12it/s]\n",
      "Evaluating Validation: 100%|██████████| 30/30 [00:00<00:00, 239.58it/s]\n",
      "Evaluating Test: 100%|██████████| 30/30 [00:00<00:00, 238.80it/s]\n"
     ]
    },
    {
     "name": "stdout",
     "output_type": "stream",
     "text": [
      "Epoch: 117, Train Loss: 0.0065, Train: 1.0000, Val: 0.6000, Test: 0.5667, Std dev: 0.0017\n"
     ]
    },
    {
     "name": "stderr",
     "output_type": "stream",
     "text": [
      "Epoch 118: 100%|██████████| 4/4 [00:00<00:00, 130.55it/s]\n",
      "Evaluating Train: 100%|██████████| 4/4 [00:00<00:00, 159.67it/s]\n",
      "Evaluating Validation: 100%|██████████| 30/30 [00:00<00:00, 236.41it/s]\n",
      "Evaluating Test: 100%|██████████| 30/30 [00:00<00:00, 238.77it/s]\n"
     ]
    },
    {
     "name": "stdout",
     "output_type": "stream",
     "text": [
      "Epoch: 118, Train Loss: 0.0121, Train: 1.0000, Val: 0.5667, Test: 0.6000, Std dev: 0.0020\n"
     ]
    },
    {
     "name": "stderr",
     "output_type": "stream",
     "text": [
      "Epoch 119: 100%|██████████| 4/4 [00:00<00:00, 132.74it/s]\n",
      "Evaluating Train: 100%|██████████| 4/4 [00:00<00:00, 159.33it/s]\n",
      "Evaluating Validation: 100%|██████████| 30/30 [00:00<00:00, 239.99it/s]\n",
      "Evaluating Test: 100%|██████████| 30/30 [00:00<00:00, 238.56it/s]\n"
     ]
    },
    {
     "name": "stdout",
     "output_type": "stream",
     "text": [
      "Epoch: 119, Train Loss: 0.0083, Train: 1.0000, Val: 0.6000, Test: 0.5667, Std dev: 0.0019\n"
     ]
    },
    {
     "name": "stderr",
     "output_type": "stream",
     "text": [
      "Epoch 120: 100%|██████████| 4/4 [00:00<00:00, 129.96it/s]\n",
      "Evaluating Train: 100%|██████████| 4/4 [00:00<00:00, 163.67it/s]\n",
      "Evaluating Validation: 100%|██████████| 30/30 [00:00<00:00, 238.21it/s]\n",
      "Evaluating Test: 100%|██████████| 30/30 [00:00<00:00, 238.77it/s]\n"
     ]
    },
    {
     "name": "stdout",
     "output_type": "stream",
     "text": [
      "Epoch: 120, Train Loss: 0.0181, Train: 1.0000, Val: 0.5667, Test: 0.5667, Std dev: 0.0042\n"
     ]
    },
    {
     "name": "stderr",
     "output_type": "stream",
     "text": [
      "Epoch 121: 100%|██████████| 4/4 [00:00<00:00, 130.08it/s]\n",
      "Evaluating Train: 100%|██████████| 4/4 [00:00<00:00, 160.16it/s]\n",
      "Evaluating Validation: 100%|██████████| 30/30 [00:00<00:00, 239.28it/s]\n",
      "Evaluating Test: 100%|██████████| 30/30 [00:00<00:00, 239.01it/s]\n"
     ]
    },
    {
     "name": "stdout",
     "output_type": "stream",
     "text": [
      "Epoch: 121, Train Loss: 0.0099, Train: 1.0000, Val: 0.5667, Test: 0.5667, Std dev: 0.0040\n"
     ]
    },
    {
     "name": "stderr",
     "output_type": "stream",
     "text": [
      "Epoch 122: 100%|██████████| 4/4 [00:00<00:00, 126.55it/s]\n",
      "Evaluating Train: 100%|██████████| 4/4 [00:00<00:00, 161.52it/s]\n",
      "Evaluating Validation: 100%|██████████| 30/30 [00:00<00:00, 241.08it/s]\n",
      "Evaluating Test: 100%|██████████| 30/30 [00:00<00:00, 135.81it/s]\n"
     ]
    },
    {
     "name": "stdout",
     "output_type": "stream",
     "text": [
      "Epoch: 122, Train Loss: 0.0045, Train: 1.0000, Val: 0.5667, Test: 0.5667, Std dev: 0.0045\n"
     ]
    },
    {
     "name": "stderr",
     "output_type": "stream",
     "text": [
      "Epoch 123: 100%|██████████| 4/4 [00:00<00:00, 128.89it/s]\n",
      "Evaluating Train: 100%|██████████| 4/4 [00:00<00:00, 160.96it/s]\n",
      "Evaluating Validation: 100%|██████████| 30/30 [00:00<00:00, 241.76it/s]\n",
      "Evaluating Test: 100%|██████████| 30/30 [00:00<00:00, 237.54it/s]\n"
     ]
    },
    {
     "name": "stdout",
     "output_type": "stream",
     "text": [
      "Epoch: 123, Train Loss: 0.0202, Train: 1.0000, Val: 0.5667, Test: 0.5667, Std dev: 0.0060\n"
     ]
    },
    {
     "name": "stderr",
     "output_type": "stream",
     "text": [
      "Epoch 124: 100%|██████████| 4/4 [00:00<00:00, 133.15it/s]\n",
      "Evaluating Train: 100%|██████████| 4/4 [00:00<00:00, 163.15it/s]\n",
      "Evaluating Validation: 100%|██████████| 30/30 [00:00<00:00, 237.72it/s]\n",
      "Evaluating Test: 100%|██████████| 30/30 [00:00<00:00, 236.71it/s]\n"
     ]
    },
    {
     "name": "stdout",
     "output_type": "stream",
     "text": [
      "Epoch: 124, Train Loss: 0.0124, Train: 1.0000, Val: 0.5333, Test: 0.5667, Std dev: 0.0056\n"
     ]
    },
    {
     "name": "stderr",
     "output_type": "stream",
     "text": [
      "Epoch 125: 100%|██████████| 4/4 [00:00<00:00, 128.77it/s]\n",
      "Evaluating Train: 100%|██████████| 4/4 [00:00<00:00, 161.80it/s]\n",
      "Evaluating Validation: 100%|██████████| 30/30 [00:00<00:00, 242.01it/s]\n",
      "Evaluating Test: 100%|██████████| 30/30 [00:00<00:00, 236.30it/s]\n"
     ]
    },
    {
     "name": "stdout",
     "output_type": "stream",
     "text": [
      "Epoch: 125, Train Loss: 0.0066, Train: 1.0000, Val: 0.5667, Test: 0.5667, Std dev: 0.0054\n"
     ]
    },
    {
     "name": "stderr",
     "output_type": "stream",
     "text": [
      "Epoch 126: 100%|██████████| 4/4 [00:00<00:00, 128.73it/s]\n",
      "Evaluating Train: 100%|██████████| 4/4 [00:00<00:00, 164.23it/s]\n",
      "Evaluating Validation: 100%|██████████| 30/30 [00:00<00:00, 239.15it/s]\n",
      "Evaluating Test: 100%|██████████| 30/30 [00:00<00:00, 237.61it/s]\n"
     ]
    },
    {
     "name": "stdout",
     "output_type": "stream",
     "text": [
      "Epoch: 126, Train Loss: 0.0048, Train: 1.0000, Val: 0.5667, Test: 0.5667, Std dev: 0.0060\n"
     ]
    },
    {
     "name": "stderr",
     "output_type": "stream",
     "text": [
      "Epoch 127: 100%|██████████| 4/4 [00:00<00:00, 129.10it/s]\n",
      "Evaluating Train: 100%|██████████| 4/4 [00:00<00:00, 159.65it/s]\n",
      "Evaluating Validation: 100%|██████████| 30/30 [00:00<00:00, 238.74it/s]\n",
      "Evaluating Test: 100%|██████████| 30/30 [00:00<00:00, 235.56it/s]\n"
     ]
    },
    {
     "name": "stdout",
     "output_type": "stream",
     "text": [
      "Epoch: 127, Train Loss: 0.0105, Train: 1.0000, Val: 0.5667, Test: 0.5667, Std dev: 0.0054\n"
     ]
    },
    {
     "name": "stderr",
     "output_type": "stream",
     "text": [
      "Epoch 128: 100%|██████████| 4/4 [00:00<00:00, 131.27it/s]\n",
      "Evaluating Train: 100%|██████████| 4/4 [00:00<00:00, 160.84it/s]\n",
      "Evaluating Validation: 100%|██████████| 30/30 [00:00<00:00, 240.16it/s]\n",
      "Evaluating Test: 100%|██████████| 30/30 [00:00<00:00, 237.92it/s]\n"
     ]
    },
    {
     "name": "stdout",
     "output_type": "stream",
     "text": [
      "Epoch: 128, Train Loss: 0.0039, Train: 1.0000, Val: 0.5333, Test: 0.5333, Std dev: 0.0033\n"
     ]
    },
    {
     "name": "stderr",
     "output_type": "stream",
     "text": [
      "Epoch 129: 100%|██████████| 4/4 [00:00<00:00, 130.24it/s]\n",
      "Evaluating Train: 100%|██████████| 4/4 [00:00<00:00, 157.01it/s]\n",
      "Evaluating Validation: 100%|██████████| 30/30 [00:00<00:00, 238.90it/s]\n",
      "Evaluating Test: 100%|██████████| 30/30 [00:00<00:00, 239.34it/s]\n"
     ]
    },
    {
     "name": "stdout",
     "output_type": "stream",
     "text": [
      "Epoch: 129, Train Loss: 0.0031, Train: 1.0000, Val: 0.5667, Test: 0.5667, Std dev: 0.0026\n"
     ]
    },
    {
     "name": "stderr",
     "output_type": "stream",
     "text": [
      "Epoch 130: 100%|██████████| 4/4 [00:00<00:00, 132.08it/s]\n",
      "Evaluating Train: 100%|██████████| 4/4 [00:00<00:00, 163.27it/s]\n",
      "Evaluating Validation: 100%|██████████| 30/30 [00:00<00:00, 240.35it/s]\n",
      "Evaluating Test: 100%|██████████| 30/30 [00:00<00:00, 238.18it/s]\n"
     ]
    },
    {
     "name": "stdout",
     "output_type": "stream",
     "text": [
      "Epoch: 130, Train Loss: 0.0105, Train: 1.0000, Val: 0.5333, Test: 0.5667, Std dev: 0.0033\n"
     ]
    },
    {
     "name": "stderr",
     "output_type": "stream",
     "text": [
      "Epoch 131: 100%|██████████| 4/4 [00:00<00:00, 130.86it/s]\n",
      "Evaluating Train: 100%|██████████| 4/4 [00:00<00:00, 164.89it/s]\n",
      "Evaluating Validation: 100%|██████████| 30/30 [00:00<00:00, 237.69it/s]\n",
      "Evaluating Test: 100%|██████████| 30/30 [00:00<00:00, 239.16it/s]\n"
     ]
    },
    {
     "name": "stdout",
     "output_type": "stream",
     "text": [
      "Epoch: 131, Train Loss: 0.0073, Train: 1.0000, Val: 0.6000, Test: 0.5667, Std dev: 0.0032\n"
     ]
    },
    {
     "name": "stderr",
     "output_type": "stream",
     "text": [
      "Epoch 132: 100%|██████████| 4/4 [00:00<00:00, 131.03it/s]\n",
      "Evaluating Train: 100%|██████████| 4/4 [00:00<00:00, 161.07it/s]\n",
      "Evaluating Validation: 100%|██████████| 30/30 [00:00<00:00, 238.76it/s]\n",
      "Evaluating Test: 100%|██████████| 30/30 [00:00<00:00, 240.03it/s]\n"
     ]
    },
    {
     "name": "stdout",
     "output_type": "stream",
     "text": [
      "Epoch: 132, Train Loss: 0.0037, Train: 1.0000, Val: 0.5333, Test: 0.5667, Std dev: 0.0028\n"
     ]
    },
    {
     "name": "stderr",
     "output_type": "stream",
     "text": [
      "Epoch 133: 100%|██████████| 4/4 [00:00<00:00, 133.46it/s]\n",
      "Evaluating Train: 100%|██████████| 4/4 [00:00<00:00, 160.36it/s]\n",
      "Evaluating Validation: 100%|██████████| 30/30 [00:00<00:00, 236.71it/s]\n",
      "Evaluating Test: 100%|██████████| 30/30 [00:00<00:00, 239.56it/s]\n"
     ]
    },
    {
     "name": "stdout",
     "output_type": "stream",
     "text": [
      "Epoch: 133, Train Loss: 0.0044, Train: 1.0000, Val: 0.5667, Test: 0.5667, Std dev: 0.0028\n"
     ]
    },
    {
     "name": "stderr",
     "output_type": "stream",
     "text": [
      "Epoch 134: 100%|██████████| 4/4 [00:00<00:00, 133.24it/s]\n",
      "Evaluating Train: 100%|██████████| 4/4 [00:00<00:00, 157.32it/s]\n",
      "Evaluating Validation: 100%|██████████| 30/30 [00:00<00:00, 237.17it/s]\n",
      "Evaluating Test: 100%|██████████| 30/30 [00:00<00:00, 238.18it/s]\n"
     ]
    },
    {
     "name": "stdout",
     "output_type": "stream",
     "text": [
      "Epoch: 134, Train Loss: 0.0046, Train: 1.0000, Val: 0.5667, Test: 0.5000, Std dev: 0.0025\n"
     ]
    },
    {
     "name": "stderr",
     "output_type": "stream",
     "text": [
      "Epoch 135: 100%|██████████| 4/4 [00:00<00:00, 130.24it/s]\n",
      "Evaluating Train: 100%|██████████| 4/4 [00:00<00:00, 158.31it/s]\n",
      "Evaluating Validation: 100%|██████████| 30/30 [00:00<00:00, 239.49it/s]\n",
      "Evaluating Test: 100%|██████████| 30/30 [00:00<00:00, 236.80it/s]\n"
     ]
    },
    {
     "name": "stdout",
     "output_type": "stream",
     "text": [
      "Epoch: 135, Train Loss: 0.0031, Train: 1.0000, Val: 0.5000, Test: 0.5667, Std dev: 0.0014\n"
     ]
    },
    {
     "name": "stderr",
     "output_type": "stream",
     "text": [
      "Epoch 136: 100%|██████████| 4/4 [00:00<00:00, 129.93it/s]\n",
      "Evaluating Train: 100%|██████████| 4/4 [00:00<00:00, 160.38it/s]\n",
      "Evaluating Validation: 100%|██████████| 30/30 [00:00<00:00, 240.12it/s]\n",
      "Evaluating Test: 100%|██████████| 30/30 [00:00<00:00, 238.89it/s]\n"
     ]
    },
    {
     "name": "stdout",
     "output_type": "stream",
     "text": [
      "Epoch: 136, Train Loss: 0.0057, Train: 1.0000, Val: 0.5667, Test: 0.5333, Std dev: 0.0009\n",
      "Iteration for convergence:  136\n"
     ]
    },
    {
     "data": {
      "text/plain": [
       "<Figure size 640x480 with 0 Axes>"
      ]
     },
     "metadata": {},
     "output_type": "display_data"
    },
    {
     "data": {
      "image/png": "[encoded data removed]",
      "text/plain": [
       "<Figure size 640x480 with 1 Axes>"
      ]
     },
     "metadata": {},
     "output_type": "display_data"
    },
    {
     "name": "stdout",
     "output_type": "stream",
     "text": [
      "Best Validation Accuracy,  0.6333333333333333\n",
      "Best Test Accuracy,  0.6333333333333333\n",
      "Total epoch time:  43.12861394882202\n",
      "0.6333333333333333 136\n"
     ]
    }
   ],
   "source": [
    "# args.log_info = True\n",
    "# DATASET_NAME = 'karate'\n",
    "# data, dataset = get_data(DATASET_NAME, DIR=None, log=False, h_score=True, split_no=1); print(\"\")\n",
    "# print(data)\n",
    "\n",
    "# # (row, col) = data.edge_index\n",
    "# # data.edge_index = torch.stack((torch.cat((row, col),dim=0),torch.cat((col, row),dim=0)),dim=0)\n",
    "# # data.edge_index = torch_geometric.utils.coalesce(data.edge_index)\n",
    "# # print(data)\n",
    "\n",
    "# args.recompute = True\n",
    "\n",
    "\n",
    "# if len(data.y.shape) > 1:\n",
    "#     data.y = data.y.argmax(dim=1)        \n",
    "#     num_classes = torch.max(data.y).item()+1\n",
    "# else:\n",
    "#     num_classes = dataset.num_classes\n",
    "\n",
    "# if num_classes!= torch.max(data.y)+1:\n",
    "#     num_classes = torch.max(data.y).item()+1\n",
    "    \n",
    "# # data.edge_index, _ = add_self_loops(data.edge_index)            \n",
    "# # data.x = torch.cat((data.x, adj_feature(data)), dim=1)\n",
    "# # if args.log_info == True:\n",
    "# #     print(data.x.shape)\n",
    "\n",
    "    \n",
    "# # if DATASET_NAME in ['Cornell', 'cornell5']:\n",
    "# #     data.edge_index, _ = add_self_loops(data.edge_index)            \n",
    "    \n",
    "# # if DATASET_NAME in ['Squirrel', 'Chameleon', 'amherst41',\n",
    "# #                     'Cornell','cornell5', 'johnshopkins55']:\n",
    "# #     data.x = torch.cat((data.x, adj_feature(data)), dim=1)\n",
    "# #     if args.log_info == True:\n",
    "# #         print(data.x.shape)\n",
    "\n",
    "\n",
    "# best_acc, num_iteration, _ =  AGSNSperformanceSampler(DATASET_NAME, data, dataset, num_classes, epochs=150, train_neighbors=[8,4], test_neighbors=[8,4])\n",
    "# print(best_acc, num_iteration)"
   ]
  },
  {
   "cell_type": "markdown",
   "id": "eb2f89d3",
   "metadata": {},
   "source": [
    "# Batch Experiments"
   ]
  },
  {
   "cell_type": "code",
   "execution_count": 19,
   "id": "c7a2677b",
   "metadata": {},
   "outputs": [
    {
     "name": "stdout",
     "output_type": "stream",
     "text": [
      "cornell5 "
     ]
    },
    {
     "ename": "KeyboardInterrupt",
     "evalue": "",
     "output_type": "error",
     "traceback": [
      "\u001b[0;31m---------------------------------------------------------------------------\u001b[0m",
      "\u001b[0;31mKeyboardInterrupt\u001b[0m                         Traceback (most recent call last)",
      "Cell \u001b[0;32mIn[19], line 103\u001b[0m\n\u001b[1;32m    100\u001b[0m         result_file\u001b[38;5;241m.\u001b[39mwrite(\u001b[38;5;124mf\u001b[39m\u001b[38;5;124m'\u001b[39m\u001b[38;5;124macc \u001b[39m\u001b[38;5;132;01m{\u001b[39;00mnp\u001b[38;5;241m.\u001b[39mmean(accs)\u001b[38;5;132;01m:\u001b[39;00m\u001b[38;5;124m0.4f\u001b[39m\u001b[38;5;132;01m}\u001b[39;00m\u001b[38;5;124m sd \u001b[39m\u001b[38;5;132;01m{\u001b[39;00mnp\u001b[38;5;241m.\u001b[39mstd(accs)\u001b[38;5;132;01m:\u001b[39;00m\u001b[38;5;124m0.4f\u001b[39m\u001b[38;5;132;01m}\u001b[39;00m\u001b[38;5;124m itr \u001b[39m\u001b[38;5;132;01m{\u001b[39;00m\u001b[38;5;28mint\u001b[39m(np\u001b[38;5;241m.\u001b[39mmean(itrs))\u001b[38;5;132;01m:\u001b[39;00m\u001b[38;5;124md\u001b[39m\u001b[38;5;132;01m}\u001b[39;00m\u001b[38;5;124m sd \u001b[39m\u001b[38;5;132;01m{\u001b[39;00m\u001b[38;5;28mint\u001b[39m(np\u001b[38;5;241m.\u001b[39mstd(itrs))\u001b[38;5;132;01m:\u001b[39;00m\u001b[38;5;124md\u001b[39m\u001b[38;5;132;01m}\u001b[39;00m\u001b[38;5;130;01m\\n\u001b[39;00m\u001b[38;5;124m'\u001b[39m)\n\u001b[1;32m    101\u001b[0m         result_file\u001b[38;5;241m.\u001b[39mclose()\n\u001b[0;32m--> 103\u001b[0m \u001b[43mbatch_experiments\u001b[49m\u001b[43m(\u001b[49m\u001b[43mnum_run\u001b[49m\u001b[38;5;241;43m=\u001b[39;49m\u001b[38;5;241;43m5\u001b[39;49m\u001b[43m)\u001b[49m\n",
      "Cell \u001b[0;32mIn[19], line 91\u001b[0m, in \u001b[0;36mbatch_experiments\u001b[0;34m(num_run)\u001b[0m\n\u001b[1;32m     88\u001b[0m     \u001b[38;5;28;01mif\u001b[39;00m args\u001b[38;5;241m.\u001b[39mlog_info \u001b[38;5;241m==\u001b[39m \u001b[38;5;28;01mTrue\u001b[39;00m:\n\u001b[1;32m     89\u001b[0m         \u001b[38;5;28mprint\u001b[39m(data\u001b[38;5;241m.\u001b[39mx\u001b[38;5;241m.\u001b[39mshape)\n\u001b[0;32m---> 91\u001b[0m accuracy, itr, _ \u001b[38;5;241m=\u001b[39m \u001b[43mAGSNSperformanceSampler\u001b[49m\u001b[43m(\u001b[49m\u001b[43mDATASET_NAME\u001b[49m\u001b[43m,\u001b[49m\u001b[43m \u001b[49m\u001b[43mdata\u001b[49m\u001b[43m,\u001b[49m\u001b[43m \u001b[49m\u001b[43mdataset\u001b[49m\u001b[43m,\u001b[49m\u001b[43m \u001b[49m\u001b[43mnum_classes\u001b[49m\u001b[43m,\u001b[49m\u001b[43m \u001b[49m\u001b[43mepochs\u001b[49m\u001b[38;5;241;43m=\u001b[39;49m\u001b[43mmax_epochs\u001b[49m\u001b[43m,\u001b[49m\u001b[43m \u001b[49m\u001b[43mtrain_neighbors\u001b[49m\u001b[38;5;241;43m=\u001b[39;49m\u001b[43m[\u001b[49m\u001b[38;5;241;43m8\u001b[39;49m\u001b[43m,\u001b[49m\u001b[38;5;241;43m4\u001b[39;49m\u001b[43m]\u001b[49m\u001b[43m,\u001b[49m\u001b[43m \u001b[49m\u001b[43mtest_neighbors\u001b[49m\u001b[38;5;241;43m=\u001b[39;49m\u001b[43m[\u001b[49m\u001b[38;5;241;43m8\u001b[39;49m\u001b[43m,\u001b[49m\u001b[38;5;241;43m4\u001b[39;49m\u001b[43m]\u001b[49m\u001b[43m)\u001b[49m\n\u001b[1;32m     93\u001b[0m accs\u001b[38;5;241m.\u001b[39mappend(accuracy)\n\u001b[1;32m     94\u001b[0m itrs\u001b[38;5;241m.\u001b[39mappend(itr)\n",
      "Cell \u001b[0;32mIn[13], line 7\u001b[0m, in \u001b[0;36mAGSNSperformanceSampler\u001b[0;34m(DATASET_NAME, data, dataset, num_classes, epochs, train_neighbors, test_neighbors)\u001b[0m\n\u001b[1;32m      3\u001b[0m model \u001b[38;5;241m=\u001b[39m AGSGNN(data\u001b[38;5;241m.\u001b[39mx\u001b[38;5;241m.\u001b[39mshape[\u001b[38;5;241m1\u001b[39m], num_classes, hidden_channels\u001b[38;5;241m=\u001b[39m\u001b[38;5;241m256\u001b[39m)\u001b[38;5;241m.\u001b[39mto(device)\n\u001b[1;32m      5\u001b[0m \u001b[38;5;28;01mif\u001b[39;00m args\u001b[38;5;241m.\u001b[39mlog_info: \u001b[38;5;28mprint\u001b[39m(model)    \n\u001b[0;32m----> 7\u001b[0m best_acc, num_iteration \u001b[38;5;241m=\u001b[39m \u001b[43mtrain\u001b[49m\u001b[43m(\u001b[49m\u001b[43mDATASET_NAME\u001b[49m\u001b[43m,\u001b[49m\u001b[43m \u001b[49m\u001b[43mmodel\u001b[49m\u001b[43m,\u001b[49m\u001b[43m \u001b[49m\u001b[43mdata\u001b[49m\u001b[43m,\u001b[49m\u001b[43m \u001b[49m\u001b[43mepochs\u001b[49m\u001b[43m,\u001b[49m\u001b[43m \u001b[49m\u001b[43mtrain_neighbors\u001b[49m\u001b[38;5;241;43m=\u001b[39;49m\u001b[43mtrain_neighbors\u001b[49m\u001b[43m,\u001b[49m\u001b[43m \u001b[49m\u001b[43mtest_neighbors\u001b[49m\u001b[38;5;241;43m=\u001b[39;49m\u001b[43mtest_neighbors\u001b[49m\u001b[43m)\u001b[49m    \n\u001b[1;32m      9\u001b[0m \u001b[38;5;28;01mreturn\u001b[39;00m best_acc, num_iteration, model\n",
      "Cell \u001b[0;32mIn[12], line 24\u001b[0m, in \u001b[0;36mtrain\u001b[0;34m(DATASET_NAME, model, data, epochs, train_neighbors, test_neighbors)\u001b[0m\n\u001b[1;32m     21\u001b[0m     \u001b[38;5;28;01melse\u001b[39;00m:\n\u001b[1;32m     22\u001b[0m         worker \u001b[38;5;241m=\u001b[39m \u001b[38;5;28mmin\u001b[39m(\u001b[38;5;241m8\u001b[39m,\u001b[38;5;28mint\u001b[39m(\u001b[38;5;28msum\u001b[39m(data\u001b[38;5;241m.\u001b[39mtrain_mask)\u001b[38;5;241m/\u001b[39mbatch_size))\n\u001b[0;32m---> 24\u001b[0m     \u001b[38;5;28;01mif\u001b[39;00m \u001b[43margs\u001b[49m\u001b[38;5;241m.\u001b[39mlog_info:\n\u001b[1;32m     25\u001b[0m         \u001b[38;5;28mprint\u001b[39m(\u001b[38;5;124m\"\u001b[39m\u001b[38;5;124mWorker: \u001b[39m\u001b[38;5;124m\"\u001b[39m, worker)\n\u001b[1;32m     27\u001b[0m \u001b[38;5;66;03m#     weight_func=['knn','submodular']; \u001b[39;00m\n",
      "Cell \u001b[0;32mIn[12], line 24\u001b[0m, in \u001b[0;36mtrain\u001b[0;34m(DATASET_NAME, model, data, epochs, train_neighbors, test_neighbors)\u001b[0m\n\u001b[1;32m     21\u001b[0m     \u001b[38;5;28;01melse\u001b[39;00m:\n\u001b[1;32m     22\u001b[0m         worker \u001b[38;5;241m=\u001b[39m \u001b[38;5;28mmin\u001b[39m(\u001b[38;5;241m8\u001b[39m,\u001b[38;5;28mint\u001b[39m(\u001b[38;5;28msum\u001b[39m(data\u001b[38;5;241m.\u001b[39mtrain_mask)\u001b[38;5;241m/\u001b[39mbatch_size))\n\u001b[0;32m---> 24\u001b[0m     \u001b[38;5;28;01mif\u001b[39;00m \u001b[43margs\u001b[49m\u001b[38;5;241m.\u001b[39mlog_info:\n\u001b[1;32m     25\u001b[0m         \u001b[38;5;28mprint\u001b[39m(\u001b[38;5;124m\"\u001b[39m\u001b[38;5;124mWorker: \u001b[39m\u001b[38;5;124m\"\u001b[39m, worker)\n\u001b[1;32m     27\u001b[0m \u001b[38;5;66;03m#     weight_func=['knn','submodular']; \u001b[39;00m\n",
      "File \u001b[0;32m_pydevd_bundle/pydevd_cython.pyx:1457\u001b[0m, in \u001b[0;36m_pydevd_bundle.pydevd_cython.SafeCallWrapper.__call__\u001b[0;34m()\u001b[0m\n",
      "File \u001b[0;32m_pydevd_bundle/pydevd_cython.pyx:701\u001b[0m, in \u001b[0;36m_pydevd_bundle.pydevd_cython.PyDBFrame.trace_dispatch\u001b[0;34m()\u001b[0m\n",
      "File \u001b[0;32m_pydevd_bundle/pydevd_cython.pyx:1395\u001b[0m, in \u001b[0;36m_pydevd_bundle.pydevd_cython.PyDBFrame.trace_dispatch\u001b[0;34m()\u001b[0m\n",
      "File \u001b[0;32m_pydevd_bundle/pydevd_cython.pyx:1344\u001b[0m, in \u001b[0;36m_pydevd_bundle.pydevd_cython.PyDBFrame.trace_dispatch\u001b[0;34m()\u001b[0m\n",
      "File \u001b[0;32m_pydevd_bundle/pydevd_cython.pyx:312\u001b[0m, in \u001b[0;36m_pydevd_bundle.pydevd_cython.PyDBFrame.do_wait_suspend\u001b[0;34m()\u001b[0m\n",
      "File \u001b[0;32m~/anaconda3/envs/py38cu11/lib/python3.8/site-packages/debugpy/_vendored/pydevd/pydevd.py:2070\u001b[0m, in \u001b[0;36mPyDB.do_wait_suspend\u001b[0;34m(self, thread, frame, event, arg, exception_type)\u001b[0m\n\u001b[1;32m   2067\u001b[0m             from_this_thread\u001b[38;5;241m.\u001b[39mappend(frame_custom_thread_id)\n\u001b[1;32m   2069\u001b[0m     \u001b[38;5;28;01mwith\u001b[39;00m \u001b[38;5;28mself\u001b[39m\u001b[38;5;241m.\u001b[39m_threads_suspended_single_notification\u001b[38;5;241m.\u001b[39mnotify_thread_suspended(thread_id, thread, stop_reason):\n\u001b[0;32m-> 2070\u001b[0m         keep_suspended \u001b[38;5;241m=\u001b[39m \u001b[38;5;28;43mself\u001b[39;49m\u001b[38;5;241;43m.\u001b[39;49m\u001b[43m_do_wait_suspend\u001b[49m\u001b[43m(\u001b[49m\u001b[43mthread\u001b[49m\u001b[43m,\u001b[49m\u001b[43m \u001b[49m\u001b[43mframe\u001b[49m\u001b[43m,\u001b[49m\u001b[43m \u001b[49m\u001b[43mevent\u001b[49m\u001b[43m,\u001b[49m\u001b[43m \u001b[49m\u001b[43marg\u001b[49m\u001b[43m,\u001b[49m\u001b[43m \u001b[49m\u001b[43msuspend_type\u001b[49m\u001b[43m,\u001b[49m\u001b[43m \u001b[49m\u001b[43mfrom_this_thread\u001b[49m\u001b[43m,\u001b[49m\u001b[43m \u001b[49m\u001b[43mframes_tracker\u001b[49m\u001b[43m)\u001b[49m\n\u001b[1;32m   2072\u001b[0m frames_list \u001b[38;5;241m=\u001b[39m \u001b[38;5;28;01mNone\u001b[39;00m\n\u001b[1;32m   2074\u001b[0m \u001b[38;5;28;01mif\u001b[39;00m keep_suspended:\n\u001b[1;32m   2075\u001b[0m     \u001b[38;5;66;03m# This means that we should pause again after a set next statement.\u001b[39;00m\n",
      "File \u001b[0;32m~/anaconda3/envs/py38cu11/lib/python3.8/site-packages/debugpy/_vendored/pydevd/pydevd.py:2106\u001b[0m, in \u001b[0;36mPyDB._do_wait_suspend\u001b[0;34m(self, thread, frame, event, arg, suspend_type, from_this_thread, frames_tracker)\u001b[0m\n\u001b[1;32m   2103\u001b[0m         \u001b[38;5;28mself\u001b[39m\u001b[38;5;241m.\u001b[39m_call_input_hook()\n\u001b[1;32m   2105\u001b[0m     \u001b[38;5;28mself\u001b[39m\u001b[38;5;241m.\u001b[39mprocess_internal_commands()\n\u001b[0;32m-> 2106\u001b[0m     \u001b[43mtime\u001b[49m\u001b[38;5;241;43m.\u001b[39;49m\u001b[43msleep\u001b[49m\u001b[43m(\u001b[49m\u001b[38;5;241;43m0.01\u001b[39;49m\u001b[43m)\u001b[49m\n\u001b[1;32m   2108\u001b[0m \u001b[38;5;28mself\u001b[39m\u001b[38;5;241m.\u001b[39mcancel_async_evaluation(get_current_thread_id(thread), \u001b[38;5;28mstr\u001b[39m(\u001b[38;5;28mid\u001b[39m(frame)))\n\u001b[1;32m   2110\u001b[0m \u001b[38;5;66;03m# process any stepping instructions\u001b[39;00m\n",
      "\u001b[0;31mKeyboardInterrupt\u001b[0m: "
     ]
    }
   ],
   "source": [
    "def batch_experiments(num_run=1):\n",
    "    \n",
    "    ALL_DATASETs= [\n",
    "        \"Cornell\",\n",
    "        \"Texas\",\n",
    "        \"Wisconsin\",\n",
    "        \"reed98\",\n",
    "        \"amherst41\",\n",
    "        \"penn94\",\n",
    "        \"Roman-empire\",\n",
    "        \"cornell5\",\n",
    "        \"Squirrel\",\n",
    "        \"johnshopkins55\",\n",
    "        \"AmazonProducts\",\n",
    "        \"Actor\",\n",
    "        \"Minesweeper\",\n",
    "        \"Questions\",\n",
    "        \"Chameleon\",\n",
    "        \"Tolokers\",\n",
    "        \"Flickr\",\n",
    "        \"Yelp\",\n",
    "        \"Amazon-ratings\",\n",
    "        \"genius\",\n",
    "        \"cora\",\n",
    "        \"CiteSeer\",\n",
    "        \"dblp\",\n",
    "        \"Computers\",\n",
    "        \"PubMed\",\n",
    "        \"pubmed\",\n",
    "        \"Reddit\",\n",
    "        \"cora_ml\",\n",
    "        \"Cora\",\n",
    "        \"Reddit2\",\n",
    "        \"CS\",\n",
    "        \"Photo\",\n",
    "        \"Physics\",\n",
    "        \"citeseer\"\n",
    "    ]     \n",
    "    \n",
    "    ALL_DATASETs= [\n",
    "        'cornell5',\n",
    "    ]\n",
    "\n",
    "    args.log_info = False\n",
    "    \n",
    "    filename = \"Results/AGSGNN-NS-2.txt\"\n",
    "    \n",
    "    for DATASET_NAME in ALL_DATASETs:  \n",
    "        print(DATASET_NAME, end=' ')\n",
    "        \n",
    "        \n",
    "        result_file = open(filename,'a+')        \n",
    "        result_file.write(f'{DATASET_NAME} ')\n",
    "        result_file.close()\n",
    "                \n",
    "        accs = []\n",
    "        itrs = []\n",
    "                \n",
    "        for i in range(num_run):\n",
    "            data, dataset = get_data(DATASET_NAME, DIR=None, log=False, h_score=False, split_no=i)   \n",
    "            \n",
    "            #optional for making undirected graph\n",
    "            (row, col) = data.edge_index\n",
    "            data.edge_index = torch.stack((torch.cat((row, col),dim=0),torch.cat((col, row),dim=0)),dim=0)\n",
    "            data.edge_index = torch_geometric.utils.coalesce(data.edge_index)\n",
    "            \n",
    "#             if data.num_nodes>100000:\n",
    "#                 accs.append(-1)\n",
    "#                 itrs.append(-1)\n",
    "#                 break\n",
    "            \n",
    "            if len(data.y.shape) > 1:\n",
    "                data.y = data.y.argmax(dim=1)        \n",
    "                num_classes = torch.max(data.y).item()+1\n",
    "            else:\n",
    "                num_classes = dataset.num_classes\n",
    "            \n",
    "            if num_classes!= torch.max(data.y)+1:\n",
    "                num_classes = torch.max(data.y).item()+1\n",
    "                \n",
    "            if data.num_nodes<100000:\n",
    "                max_epochs = 150\n",
    "            else:\n",
    "                max_epochs = 20\n",
    "            if DATASET_NAME in ['Squirrel', 'Chameleon','cornell5','penn94','johnshopkins55'\n",
    "                               ]:\n",
    "                data.x = torch.cat((data.x, adj_feature(data)), dim=1)\n",
    "                if args.log_info == True:\n",
    "                    print(data.x.shape)\n",
    "                  \n",
    "            accuracy, itr, _ = AGSNSperformanceSampler(DATASET_NAME, data, dataset, num_classes, epochs=max_epochs, train_neighbors=[8,4], test_neighbors=[8,4])\n",
    "\n",
    "            accs.append(accuracy)\n",
    "            itrs.append(itr)\n",
    "            #print(itr, accuracy)\n",
    "                        \n",
    "        #print(accs, itrs)\n",
    "        print(f'acc {np.mean(accs):0.4f} sd {np.std(accs):0.4f} itr {int(np.mean(itrs)):d} sd {int(np.std(itrs)):d}')\n",
    "        result_file = open(filename,'a+')\n",
    "        result_file.write(f'acc {np.mean(accs):0.4f} sd {np.std(accs):0.4f} itr {int(np.mean(itrs)):d} sd {int(np.std(itrs)):d}\\n')\n",
    "        result_file.close()\n",
    "                \n",
    "batch_experiments(num_run=5)"
   ]
  },
  {
   "cell_type": "markdown",
   "id": "fd4cab8c",
   "metadata": {},
   "source": [
    "## View Learned Representation"
   ]
  },
  {
   "cell_type": "code",
   "execution_count": null,
   "id": "361d4d07",
   "metadata": {},
   "outputs": [],
   "source": [
    "# if __name__ == '__main__':    \n",
    "    \n",
    "#     n=7\n",
    "#     x = torch.Tensor([[1,0],[1,0],[1,0],[0,1],[0,1],[0,1],[0,1]])\n",
    "#     y = torch.LongTensor([0,0,0, 1, 1, 1, 1])\n",
    "#     edge_index = torch.LongTensor([[1,2],[1,4],[1,5],[2,1],[3,6],[3,7],[4,5],[4,1],[4,6],[4,7],[5,1],[5,4],[5,6],[6,3],[6,4],[6,5],[6,7],[7,3],[7,4],[7,6]]).T\n",
    "#     edge_index = edge_index-1\n",
    "    \n",
    "#     mask = torch.zeros(n, dtype=torch.bool)\n",
    "#     mask[[1,3]] = True\n",
    "    \n",
    "#     test_data = Data(x = x, y = y, edge_index = edge_index, train_mask = mask, test_mask = mask, val_mask = mask)    \n",
    "#     print(test_data)\n",
    "    \n",
    "    \n",
    "#     None"
   ]
  },
  {
   "cell_type": "code",
   "execution_count": null,
   "id": "83ca9c5f",
   "metadata": {},
   "outputs": [],
   "source": [
    "# from sklearn.manifold import TSNE\n",
    "# import matplotlib.pyplot as plt"
   ]
  },
  {
   "cell_type": "code",
   "execution_count": null,
   "id": "48f76e63",
   "metadata": {},
   "outputs": [],
   "source": [
    "# model.eval()\n",
    "# #X = model(data.x.to(device),data.edge_index.to(device), data.weight.to(device))\n",
    "# X = model(data.x.to(device),data.edge_index.to(device))\n",
    "# X = X.detach().to('cpu')\n",
    "# y = data.y.to('cpu')\n",
    "# X.shape"
   ]
  },
  {
   "cell_type": "code",
   "execution_count": null,
   "id": "e1e750fe",
   "metadata": {},
   "outputs": [],
   "source": [
    "# plt.figure(figsize=(10, 10))\n",
    "\n",
    "# # Create a t-SNE model with 2 components and a perplexity of 30\n",
    "# tsne = TSNE(n_components=2, perplexity=30, random_state=42, learning_rate='auto', init='random')\n",
    "\n",
    "# # Fit and transform the data to the 2D t-SNE space\n",
    "# X_tsne = tsne.fit_transform(X)\n",
    "\n",
    "# # Plot the data in the 2D t-SNE space, colored by class\n",
    "# plt.scatter(X_tsne[:, 0], X_tsne[:, 1], c=y)\n",
    "# plt.show()"
   ]
  },
  {
   "cell_type": "code",
   "execution_count": null,
   "id": "0f746ae2",
   "metadata": {},
   "outputs": [],
   "source": []
  },
  {
   "cell_type": "code",
   "execution_count": null,
   "id": "353ca0df",
   "metadata": {},
   "outputs": [],
   "source": []
  }
 ],
 "metadata": {
  "kernelspec": {
   "display_name": "py38cu11",
   "language": "python",
   "name": "python3"
  },
  "language_info": {
   "codemirror_mode": {
    "name": "ipython",
    "version": 3
   },
   "file_extension": ".py",
   "mimetype": "text/x-python",
   "name": "python",
   "nbconvert_exporter": "python",
   "pygments_lexer": "ipython3",
   "version": "3.8.19"
  }
 },
 "nbformat": 4,
 "nbformat_minor": 5
}
