{
 "cells": [
  {
   "cell_type": "markdown",
   "id": "44415f5a",
   "metadata": {},
   "source": [
    "# AGS-GNN Graph Sampling"
   ]
  },
  {
   "cell_type": "code",
   "execution_count": 22,
   "id": "7ac319c5",
   "metadata": {},
   "outputs": [],
   "source": [
    "import sys\n",
    "sys.path.append('../Submodular')\n",
    "\n",
    "import DeviceDir\n",
    "\n",
    "DIR, RESULTS_DIR = DeviceDir.get_directory()\n",
    "device, NUM_PROCESSORS = DeviceDir.get_device()"
   ]
  },
  {
   "cell_type": "code",
   "execution_count": 23,
   "id": "782d8b87",
   "metadata": {},
   "outputs": [],
   "source": [
    "from ipynb.fs.full.Dataset import get_data\n",
    "from ipynb.fs.full.Dataset import datasets as available_datasets\n",
    "from ipynb.fs.full.Utils import save_plot"
   ]
  },
  {
   "cell_type": "code",
   "execution_count": 24,
   "id": "d11e7a9f",
   "metadata": {},
   "outputs": [],
   "source": [
    "import argparse\n",
    "from argparse import ArgumentParser\n",
    "\n",
    "#set default arguments here\n",
    "def get_configuration():\n",
    "    parser = ArgumentParser()\n",
    "    parser.add_argument('--epochs', type=int, default=1)\n",
    "    parser.add_argument('--log_info', type=bool, default=True)\n",
    "    parser.add_argument('--recompute', type=bool, default=False)\n",
    "    parser.add_argument('--pbar', type=bool, default=False)\n",
    "    parser.add_argument('--batch_size', type=int, default=2048)\n",
    "    parser.add_argument('--learning_rate', type=float, default=0.01)\n",
    "    parser.add_argument('--num_gpus', type=int, default=-1)\n",
    "    parser.add_argument('--parallel_mode', type=str, default=\"dp\", choices=['dp', 'ddp', 'ddp2'])\n",
    "    parser.add_argument('--dataset', type=str, default=\"Cora\", choices=available_datasets)\n",
    "    parser.add_argument('--use_normalization', action='store_true', default=True)    \n",
    "    parser.add_argument('-f') ##dummy for jupyternotebook\n",
    "    \n",
    "    args = parser.parse_args()\n",
    "    \n",
    "    dict_args = vars(args)\n",
    "    \n",
    "    return args, dict_args\n",
    "\n",
    "args, dict_args = get_configuration()"
   ]
  },
  {
   "cell_type": "code",
   "execution_count": 25,
   "id": "38ae0932",
   "metadata": {},
   "outputs": [],
   "source": [
    "import random\n",
    "import numpy as np\n",
    "import torch\n",
    "\n",
    "seed = 123\n",
    "\n",
    "random.seed(seed)\n",
    "np.random.seed(seed)\n",
    "torch.manual_seed(seed)\n",
    "None"
   ]
  },
  {
   "cell_type": "markdown",
   "id": "9141f832",
   "metadata": {},
   "source": [
    "## GNN model"
   ]
  },
  {
   "cell_type": "code",
   "execution_count": 26,
   "id": "bbd4df8e",
   "metadata": {},
   "outputs": [],
   "source": [
    "import os\n",
    "import math\n",
    "import time\n",
    "import torch_geometric\n",
    "from torch_geometric.data import Data, Dataset\n",
    "from torch_geometric.nn import GCNConv, GATConv, SAGEConv, GINConv, ChebConv\n",
    "from torch_geometric.nn import GraphConv, TransformerConv\n",
    "from torch_geometric.utils import degree\n",
    "import torch.nn.functional as F\n",
    "from sklearn.metrics import accuracy_score\n",
    "from ipynb.fs.full.SpatialConv import SpatialConv\n",
    "from tqdm import tqdm\n",
    "import torch.nn as nn"
   ]
  },
  {
   "cell_type": "markdown",
   "id": "9edb2011",
   "metadata": {},
   "source": [
    "## Homophilic GNN"
   ]
  },
  {
   "cell_type": "code",
   "execution_count": 27,
   "id": "2402dec7",
   "metadata": {},
   "outputs": [],
   "source": [
    "class HomophilicNet(torch.nn.Module):\n",
    "    def __init__(self, num_features, num_classes, hidden_channels, end_hidden):\n",
    "        super().__init__()\n",
    "        in_channels = num_features\n",
    "        out_channels = num_classes\n",
    "        self.conv1 = GraphConv(in_channels, hidden_channels)\n",
    "        self.conv2 = GraphConv(hidden_channels, hidden_channels)\n",
    "#         self.conv3 = GraphConv(hidden_channels, hidden_channels)\n",
    "#         self.lin = torch.nn.Linear(3 * hidden_channels, end_hidden)\n",
    "#         self.lin2 = torch.nn.Linear(3 * hidden_channels, out_channels)\n",
    "        self.lin = torch.nn.Linear(2 * hidden_channels, end_hidden)\n",
    "        self.lin2 = torch.nn.Linear(2 * hidden_channels, out_channels)\n",
    "\n",
    "\n",
    "    def set_aggr(self, aggr):\n",
    "        self.conv1.aggr = aggr\n",
    "        self.conv2.aggr = aggr\n",
    "#         self.conv3.aggr = aggr\n",
    "\n",
    "    def forward(self, x0, edge_index, edge_weight=None):\n",
    "        x1 = F.relu(self.conv1(x0, edge_index, edge_weight))\n",
    "        x1 = F.dropout(x1, p=0.2, training=self.training)\n",
    "        x2 = F.relu(self.conv2(x1, edge_index, edge_weight))\n",
    "        x2 = F.dropout(x2, p=0.2, training=self.training)\n",
    "#         x3 = F.relu(self.conv3(x2, edge_index, edge_weight))\n",
    "#         x3 = F.dropout(x3, p=0.2, training=self.training)\n",
    "#         x = torch.cat([x1, x2, x3], dim=-1)\n",
    "\n",
    "        x = torch.cat([x1, x2], dim=-1)\n",
    "        \n",
    "        c1 = self.lin(x)\n",
    "        c2 = self.lin2(x)\n",
    "        \n",
    "        return F.relu(c1), c2.log_softmax(dim=-1)"
   ]
  },
  {
   "cell_type": "markdown",
   "id": "2525b2fa",
   "metadata": {},
   "source": [
    "## Heterophilic GNN"
   ]
  },
  {
   "cell_type": "code",
   "execution_count": 28,
   "id": "3777acf2",
   "metadata": {},
   "outputs": [],
   "source": [
    "#replace this part with ACMGCN"
   ]
  },
  {
   "cell_type": "code",
   "execution_count": 29,
   "id": "ad18eada",
   "metadata": {},
   "outputs": [],
   "source": [
    "class HeterophilicNet(torch.nn.Module):\n",
    "    def __init__(self, num_features, num_classes, hidden_channels, end_hidden):\n",
    "        super().__init__()\n",
    "        in_channels = num_features\n",
    "        out_channels = num_classes\n",
    "        self.conv1 = ChebConv(in_channels, hidden_channels, K=1, normalization='sym')\n",
    "        self.conv2 = ChebConv(hidden_channels, hidden_channels, K=1, normalization='sym')\n",
    "#         self.conv3 = ChebConv(hidden_channels, hidden_channels, K=1, normalization='sym')\n",
    "#         self.lin = torch.nn.Linear(3 * hidden_channels, end_hidden)\n",
    "#         self.lin2 = torch.nn.Linear(3 * hidden_channels, out_channels)\n",
    "\n",
    "        self.lin = torch.nn.Linear(2 * hidden_channels, end_hidden)\n",
    "        self.lin2 = torch.nn.Linear(2 * hidden_channels, out_channels)\n",
    "\n",
    "\n",
    "    def set_aggr(self, aggr):\n",
    "        self.conv1.aggr = aggr\n",
    "        self.conv2.aggr = aggr\n",
    "#         self.conv3.aggr = aggr\n",
    "\n",
    "    def forward(self, x0, edge_index, edge_weight=None):\n",
    "        x1 = F.relu(self.conv1(x0, edge_index, edge_weight))\n",
    "        x1 = F.dropout(x1, p=0.2, training=self.training)\n",
    "        x2 = F.relu(self.conv2(x1, edge_index, edge_weight))\n",
    "        x2 = F.dropout(x2, p=0.2, training=self.training)\n",
    "#         x3 = F.relu(self.conv3(x2, edge_index, edge_weight))\n",
    "#         x3 = F.dropout(x3, p=0.2, training=self.training)\n",
    "#         x = torch.cat([x1, x2, x3], dim=-1)\n",
    "        x = torch.cat([x1, x2], dim=-1)\n",
    "        \n",
    "        c1 = self.lin(x)\n",
    "        c2 = self.lin2(x)\n",
    "        \n",
    "        return F.relu(c1), c2.log_softmax(dim=-1)"
   ]
  },
  {
   "cell_type": "markdown",
   "id": "595ef962",
   "metadata": {},
   "source": [
    "## Combination Network"
   ]
  },
  {
   "cell_type": "code",
   "execution_count": 30,
   "id": "b24c3ae9",
   "metadata": {},
   "outputs": [],
   "source": [
    "class AGSGNN(torch.nn.Module):\n",
    "    def __init__(self, num_features,num_classes, hidden_channels=256, dropout=0.5):\n",
    "        super().__init__()\n",
    "        self.num_classes = num_classes\n",
    "        \n",
    "        hidden = int(hidden_channels/2)        \n",
    "        self.gnn1 = HomophilicNet(num_features, num_classes, hidden_channels, hidden)\n",
    "#         self.gnn2 = HeterophilicNet(num_features, num_classes, hidden_channels, hidden)\n",
    "        self.gnn2 = HomophilicNet(num_features, num_classes, hidden_channels, hidden)\n",
    "\n",
    "        self.p = dropout\n",
    "        self.com_lin = nn.Linear(hidden*2, num_classes)      \n",
    "        \n",
    "    def forward(self, batch_data):\n",
    "        \n",
    "        #out = model(batch_data.x, batch_data.edge_index, batch_data.edge_weight)\n",
    "        #out = model(batch_data.x, batch_data.edge_index)\n",
    "        \n",
    "        x1, x1c1 = self.gnn1(batch_data[0].x, batch_data[0].edge_index, batch_data[0].weight)\n",
    "        x2, x2c2 = self.gnn2(batch_data[1].x, batch_data[1].edge_index, batch_data[1].weight)\n",
    "\n",
    "#         x1 = self.gnn1(batch_data[0].x, batch_data[0].edge_index)\n",
    "#         x2 = self.gnn2(batch_data[1].x, batch_data[1].edge_index)\n",
    "\n",
    "        a1 = F.relu(x1)\n",
    "        a1 = F.dropout(a1, p=self.p, training=self.training)\n",
    "        \n",
    "        s1 = F.relu(x2)        \n",
    "        s1 = F.dropout(s1, p=self.p, training=self.training)\n",
    "        \n",
    "        batch_size = batch_data[0].batch_size        \n",
    "        x = torch.cat([a1[:batch_size,:], s1[:batch_size,:]], dim=-1)\n",
    "        x = self.com_lin(x)\n",
    "        \n",
    "        #return x\n",
    "    \n",
    "        return x.log_softmax(dim=-1), x1c1, x2c2"
   ]
  },
  {
   "cell_type": "markdown",
   "id": "88b17b8e",
   "metadata": {},
   "source": [
    "## GNN Training and Testing"
   ]
  },
  {
   "cell_type": "code",
   "execution_count": 31,
   "id": "e11e841d",
   "metadata": {},
   "outputs": [],
   "source": [
    "from ipynb.fs.full.a2AGS_Graph_Sampler import AGSGraphSampler\n",
    "from torch_geometric.loader import NeighborSampler, NeighborLoader"
   ]
  },
  {
   "cell_type": "code",
   "execution_count": 32,
   "id": "83409b9c",
   "metadata": {},
   "outputs": [],
   "source": [
    "from collections import Counter\n",
    "import random\n",
    "\n",
    "def prediction(y_pred_seed, y_pred_hm, y_pred_ht):\n",
    "    \n",
    "    all_tensors = [y_pred_seed, y_pred_hm, y_pred_ht]\n",
    "    final_predictions = []\n",
    "\n",
    "    for i in range(len(y_pred_seed)):\n",
    "        values_at_index = [tensor[i].item() for tensor in all_tensors]\n",
    "        counter = Counter(values_at_index)\n",
    "        most_common_values = counter.most_common()\n",
    "\n",
    "        # Check if there's a tie\n",
    "        if len(most_common_values) > 1 and most_common_values[0][1] == most_common_values[1][1]:\n",
    "            #selected_value = random.choice([value for value, count in most_common_values[:2]])\n",
    "            selected_value = y_pred_seed[i].item()\n",
    "        else:\n",
    "            selected_value = most_common_values[0][0]\n",
    "\n",
    "        final_predictions.append(selected_value)\n",
    "            \n",
    "    return torch.LongTensor(final_predictions)\n",
    "\n",
    "y_pred_seed = torch.tensor([0, 1, 2, 2, 1])\n",
    "y_pred_hm = torch.tensor([2, 1, 1, 0, 2])\n",
    "y_pred_ht = torch.tensor([0, 2, 1, 1, 0])\n",
    "\n",
    "\n",
    "# prediction(y_pred_seed,y_pred_hm,y_pred_ht)"
   ]
  },
  {
   "cell_type": "code",
   "execution_count": 33,
   "id": "5ac415e3",
   "metadata": {},
   "outputs": [],
   "source": [
    "def test(model, loader, mask, name='Train', channel='all'):\n",
    "    if args.log_info:\n",
    "        pbar = tqdm(total=sum(mask).item())\n",
    "        pbar.set_description(f'Evaluating {name}')\n",
    "\n",
    "    model.eval()\n",
    "    \n",
    "    total_correct=0\n",
    "    total_examples=0\n",
    "    \n",
    "    with torch.no_grad():                  \n",
    "    \n",
    "        for i,batch_data in enumerate(loader):\n",
    "            \n",
    "            batch_data = [b_data.to(device) for b_data in batch_data]\n",
    "            batch_size = batch_data[0].batch_size\n",
    "            batch_data[0].weight = batch_data[0].edge_norm * batch_data[0].edge_weight\n",
    "            batch_data[1].weight = batch_data[1].edge_norm * batch_data[1].edge_weight\n",
    "            \n",
    "            out, out1, out2 = model(batch_data)\n",
    "                \n",
    "            #print(out.shape, out1.shape, out2.shape)\n",
    "            \n",
    "            y_pred_seed = out[:batch_size].argmax(dim=-1).cpu()\n",
    "            y_pred_hm = out1[:batch_size].argmax(dim=-1).cpu()\n",
    "            y_pred_ht = out2[:batch_size].argmax(dim=-1).cpu()\n",
    "            \n",
    "            #print(y_pred_seed.shape,y_pred_hm.shape, y_pred_ht.shape)\n",
    "            \n",
    "            \n",
    "            y_true = batch_data[0].y[:batch_size]\n",
    "            \n",
    "            if name == 'Train':\n",
    "                t_mask = batch_data[0].train_mask[:batch_size]\n",
    "            elif name == 'Validation':\n",
    "                t_mask = batch_data[0].val_mask[:batch_size]\n",
    "            else:\n",
    "                t_mask = batch_data[0].test_mask[:batch_size]\n",
    "\n",
    "            if channel=='sd':\n",
    "                y_pred = y_pred_seed\n",
    "            elif channel=='hm':\n",
    "                y_pred = y_pred_hm\n",
    "            elif channel=='ht':\n",
    "                y_pred = y_pred_ht\n",
    "            else:\n",
    "                y_pred = prediction(y_pred_seed, y_pred_hm, y_pred_ht)\n",
    "\n",
    "            #print(y_pred)                \n",
    "            correct = y_pred.eq(y_true.cpu())\n",
    "            total_correct+= correct[t_mask].sum().item()\n",
    "            \n",
    "            items = t_mask.sum().item()\n",
    "            total_examples+= items           \n",
    "            \n",
    "            if args.log_info:\n",
    "                pbar.update(items)\n",
    "    \n",
    "    if args.log_info:\n",
    "        pbar.close()\n",
    "\n",
    "    return total_correct/total_examples"
   ]
  },
  {
   "cell_type": "code",
   "execution_count": 34,
   "id": "85fa0de2",
   "metadata": {},
   "outputs": [],
   "source": [
    "#https://github.com/GraphSAINT/GraphSAINT/issues/11\n",
    "    \n",
    "def train(DATASET_NAME,model, data, dataset, epochs=1, channel='all'): #'all', 'hm', 'ht', 'sd'\n",
    "        \n",
    "    optimizer = torch.optim.Adam(model.parameters(), lr=0.001)    \n",
    "    if data.y.ndim == 1:\n",
    "        criterion = torch.nn.CrossEntropyLoss() #regular logits as output\n",
    "#         criterion = torch.nn.NLLLoss() ## if log softmax used as activation\n",
    "    else:\n",
    "        criterion = torch.nn.BCEWithLogitsLoss()     #multillabel\n",
    "    \n",
    "    row, col = data.edge_index\n",
    "    data.edge_weight = 1. / degree(col, data.num_nodes)[col]  # Norm by in-degree.\n",
    "    \n",
    "    sampler_dir = DIR+'AGSGSAINTCHEB/'+DATASET_NAME\n",
    "    if not os.path.exists(sampler_dir):\n",
    "        os.makedirs(sampler_dir)\n",
    "        \n",
    "    batch_size= min(1024, data.num_nodes)\n",
    "    #num_steps=math.ceil(sum (data.train_mask)/batch_size)    \n",
    "    num_steps=math.ceil(data.num_nodes/batch_size)\n",
    "    num_workers = 8  if data.num_nodes>50000 else 0\n",
    "    \n",
    "    sample_func =['wrw', 'wrw']\n",
    "    weight_func =[\n",
    "        {'exact':False,'weight':'fastlink'}, #exact for exact size to the batch\n",
    "        {'exact':False,'weight':'fastlink'}\n",
    "    ]\n",
    "\n",
    "    params={'knn':{'metric':'cosine'},\n",
    "            'submodular':{'metric':'cosine'},\n",
    "            'link-nn':{'value':'min'},\n",
    "            'link-sub':{'value':'max'},\n",
    "            'disjoint':{'value':'mst'},\n",
    "           }\n",
    "    \n",
    "    loader = AGSGraphSampler(\n",
    "        data, batch_size=batch_size, walk_length=2, num_steps=num_steps, sample_coverage=100,\n",
    "        num_workers=num_workers,log=args.log_info,save_dir=sampler_dir,recompute = args.recompute, shuffle = False,\n",
    "        sample_func = sample_func, weight_func=weight_func, params=params)\n",
    "        \n",
    "    \n",
    "    #for evaluation\n",
    "    train_num_steps = int(torch.ceil(sum(data.train_mask)/batch_size))\n",
    "    val_num_steps = int(torch.ceil(sum(data.val_mask)/batch_size))\n",
    "    test_num_steps = int(torch.ceil(sum(data.test_mask)/batch_size))\n",
    "    \n",
    "    train_loader = AGSGraphSampler(\n",
    "        data, input_nodes = data.train_mask, batch_size=batch_size, walk_length=2, num_steps=train_num_steps, \n",
    "        sample_coverage=100,num_workers=num_workers,log=args.log_info,save_dir=sampler_dir,\n",
    "        recompute = False, shuffle = False,sample_func = sample_func, weight_func=weight_func, params=params)\n",
    "    \n",
    "    \n",
    "    val_loader = AGSGraphSampler(\n",
    "        data, input_nodes = data.val_mask, batch_size=batch_size, walk_length=2, num_steps=val_num_steps, \n",
    "        sample_coverage=100,num_workers=num_workers,log=args.log_info,save_dir=sampler_dir,\n",
    "        recompute = False, shuffle = False,sample_func = sample_func, weight_func=weight_func, params=params)\n",
    "        \n",
    "    test_loader = AGSGraphSampler(\n",
    "        data, input_nodes = data.test_mask, batch_size=batch_size, walk_length=2, num_steps=test_num_steps, \n",
    "        sample_coverage=100,num_workers=num_workers,log=args.log_info,save_dir=sampler_dir,\n",
    "        recompute = False, shuffle = False,sample_func = sample_func, weight_func=weight_func, params=params)\n",
    "            \n",
    "    best_acc=0    \n",
    "    train_losses = []; val_accuracies = []; train_accuracies = []; test_accuracies = []    \n",
    "    max_iteration = epochs    \n",
    "    \n",
    "    th_node = 10000\n",
    "    \n",
    "    if data.num_nodes<th_node:  \n",
    "        test_data = data.clone()\n",
    "        test_data.weight = loader.edge_norm * test_data.edge_weight\n",
    "        test_data.seed_node=torch.arange(test_data.num_nodes)  \n",
    "        test_data.batch_size=test_data.seed_node.shape[0]\n",
    "        all_data = [test_data.to(device), test_data.to(device)]    \n",
    "        \n",
    "        if args.log_info:\n",
    "            print(all_data)\n",
    "        \n",
    "    \n",
    "    for epoch in range(1,epochs+1):\n",
    "        \n",
    "        if args.log_info:\n",
    "            pbar = tqdm(total=batch_size*num_steps)\n",
    "            pbar.set_description(f'Epoch {epoch:02d}')\n",
    "        \n",
    "        model.train()\n",
    "        #if model.__class__.__name__ == 'Net':\n",
    "            #model.set_aggr('add' if args.use_normalization else 'mean')\n",
    "        model.gnn1.set_aggr('add' if args.use_normalization else 'mean')\n",
    "        model.gnn2.set_aggr('add' if args.use_normalization else 'mean')\n",
    "\n",
    "        total_loss = total_examples = 0\n",
    "        total_loss_seed = total_loss_hm = total_loss_ht = 0\n",
    "        total_seed_example = total_hm_example = total_ht_example = 0\n",
    "                    \n",
    "        for i,batch_data in enumerate(loader):\n",
    "            \n",
    "            #print(batch_data);\n",
    "            #print(\"*\"*50)            \n",
    "            \n",
    "            batch_data = [b_data.to(device) for b_data in batch_data]\n",
    "                    \n",
    "            batch_size = batch_data[0].batch_size\n",
    "            mask = batch_data[0].train_mask[:batch_size]\n",
    "            y_true = batch_data[0].y[:batch_size]\n",
    "            \n",
    "            if torch.sum(mask) == 0:\n",
    "                if args.log_info:\n",
    "                    print(\"no training mask in seed node\")\n",
    "#                 continue\n",
    "\n",
    "            optimizer.zero_grad()\n",
    "            if args.use_normalization:                 \n",
    "                \n",
    "                batch_data[0].weight = batch_data[0].edge_norm * batch_data[0].edge_weight\n",
    "                batch_data[1].weight = batch_data[1].edge_norm * batch_data[1].edge_weight\n",
    "                out, out1, out2 = model(batch_data)                            \n",
    "                #print(out.shape, out1.shape, out2.shape)\n",
    "                \n",
    "                                \n",
    "#                 print(out[:batch_size][mask].shape, y_true[mask].shape)                \n",
    "#                 print(loss.shape)\n",
    "#                 print(batch_data[0].node_norm.shape)\n",
    "#                 print(batch_data[0].node_norm[:batch_size].shape)\n",
    "#                 loss = criterion(out, batch_data.y, reduction='none')\n",
    "\n",
    "                #--------- loss computation seed nodes --------- #                \n",
    "                loss_seed = F.nll_loss(out[:batch_size][mask], y_true[mask], reduction='none')\n",
    "                loss_seed = (loss_seed * batch_data[0].node_norm[:batch_size][mask]).sum()\n",
    "        \n",
    "                #--------- loss computation homophily nodes --------- #\n",
    "            \n",
    "                loss_hm = F.nll_loss(out1[batch_data[0].train_mask], batch_data[0].y[batch_data[0].train_mask], reduction='none')\n",
    "                loss_hm = (loss_hm * batch_data[0].node_norm[batch_data[0].train_mask]).sum()\n",
    "                \n",
    "                #--------- loss computation homophily nodes --------- #\n",
    "                loss_ht = F.nll_loss(out2[batch_data[1].train_mask], batch_data[1].y[batch_data[1].train_mask], reduction='none')\n",
    "                loss_ht = (loss_ht * batch_data[1].node_norm[batch_data[1].train_mask]).sum()\n",
    "                \n",
    "                if channel=='sd':loss = loss_seed\n",
    "                elif channel=='hm':loss = loss_hm\n",
    "                elif channel=='ht':loss = loss_ht\n",
    "                else:loss = loss_seed + loss_hm + loss_ht                \n",
    "\n",
    "            else:\n",
    "                batch_data[0].weight = None\n",
    "                batch_data[1].weight = None\n",
    "                    \n",
    "                out, out1, out2 = model(batch_data)                            \n",
    "                #print(out.shape, out1.shape, out2.shape)\n",
    "                \n",
    "                mask = batch_data[0].train_mask[:batch_size]\n",
    "                y_true = batch_data[0].y[:batch_size]\n",
    "                \n",
    "                #--------- loss computation seed nodes --------- #                \n",
    "                loss_seed = F.nll_loss(out[:batch_size][mask], y_true[mask])\n",
    "                \n",
    "                #--------- loss computation homophily nodes --------- #\n",
    "                loss_hm = F.nll_loss(out1[batch_data[0].train_mask], batch_data[0].y[batch_data[0].train_mask])\n",
    "                \n",
    "                #--------- loss computation homophily nodes --------- #\n",
    "                loss_ht = F.nll_loss(out2[batch_data[1].train_mask], batch_data[1].y[batch_data[1].train_mask])\n",
    "                #loss = criterion(out[batch_data.train_mask], batch_data.y[batch_data.train_mask])\n",
    "                \n",
    "                if channel=='sd':loss = loss_seed\n",
    "                elif channel=='hm':loss = loss_hm\n",
    "                elif channel=='ht':loss = loss_ht\n",
    "                else:loss = loss_seed + loss_hm + loss_ht\n",
    "                \n",
    "                \n",
    "                        \n",
    "            loss.backward()\n",
    "            optimizer.step()\n",
    "            \n",
    "            total_loss_seed+= loss_seed.item()*batch_size\n",
    "            total_loss_hm+= loss_hm.item()*sum(batch_data[0].train_mask).item()\n",
    "            total_loss_ht+= loss_ht.item()*sum(batch_data[1].train_mask).item()\n",
    "            \n",
    "            total_seed_example+= sum(mask).item()\n",
    "            total_hm_example+=sum(batch_data[0].train_mask).item()\n",
    "            total_ht_example+=sum(batch_data[1].train_mask).item()\n",
    "            \n",
    "            if args.log_info:\n",
    "                pbar.update(batch_size)\n",
    "        \n",
    "        if args.log_info:\n",
    "            pbar.close()\n",
    "            \n",
    "        total_loss_seed /= max(total_seed_example,1)\n",
    "        total_loss_hm /= max(total_hm_example, 1)\n",
    "        total_loss_ht /= max(total_ht_example, 1)\n",
    "        \n",
    "        total_loss=total_loss_seed+total_loss_hm+total_loss_ht\n",
    "        total_examples = total_seed_example + total_hm_example + total_ht_example\n",
    "        \n",
    "        if args.log_info:\n",
    "            print(f'Loss:{total_loss:0.4f} seed:{total_loss_seed:0.4f} hm:{total_loss_hm:0.4f} ht:{total_loss_ht:0.4f}')\n",
    "            print(f'Example:{total_examples:1d} seed:{total_seed_example:1d} hm:{total_hm_example:1d} ht:{total_ht_example:1d}')\n",
    "        \n",
    "        if channel=='sd':train_losses.append(total_loss_seed)\n",
    "        elif channel=='hm':train_losses.append(total_loss_hm)\n",
    "        elif channel=='ht':train_losses.append(total_loss_ht)\n",
    "        else:train_losses.append(total_loss)\n",
    "                        \n",
    "        accs = [0,0,0]\n",
    "        \n",
    "        model.eval()\n",
    "#         model.gnn1.set_aggr('mean')\n",
    "#         model.gnn2.set_aggr('mean')\n",
    "        model.gnn1.set_aggr('add' if args.use_normalization else 'mean')\n",
    "        model.gnn2.set_aggr('add' if args.use_normalization else 'mean')\n",
    "        \n",
    "        \n",
    "        if data.num_nodes<th_node:\n",
    "                        \n",
    "            with torch.no_grad():\n",
    "                out, out1, out2 = model(all_data)\n",
    "                \n",
    "                #print(out.shape, out1.shape, out2.shape)\n",
    "                y_pred_seed = out.argmax(dim=-1).cpu()\n",
    "                y_pred_hm = out1.argmax(dim=-1).cpu()\n",
    "                y_pred_ht = out2.argmax(dim=-1).cpu()\n",
    "                \n",
    "                if channel=='sd':\n",
    "                    y_pred = y_pred_seed\n",
    "                elif channel=='hm':\n",
    "                    y_pred = y_pred_hm\n",
    "                elif channel=='ht':\n",
    "                    y_pred = y_pred_ht\n",
    "                else:\n",
    "                    y_pred = prediction(y_pred_seed, y_pred_hm, y_pred_ht)\n",
    "                \n",
    "                #print(y_pred)                \n",
    "                correct = y_pred.eq(data.y.cpu())\n",
    "                accs = []\n",
    "                for _, mask in data('train_mask', 'val_mask', 'test_mask'):\n",
    "                    accs.append(correct[mask].sum().item() / mask.sum().item()) \n",
    "                                                    \n",
    "        else:\n",
    "            accs[0] = test(model, train_loader, data.train_mask, name='Train', channel=channel)\n",
    "            accs[1] = test(model, val_loader, data.val_mask, name='Validation', channel=channel)\n",
    "            accs[2] = test(model, test_loader, data.test_mask, name='Test', channel=channel)\n",
    "            \n",
    "        train_accuracies.append(accs[0])\n",
    "        val_accuracies.append(accs[1])\n",
    "        test_accuracies.append(accs[2])\n",
    "        std_dev = np.std(train_losses[-5:])\n",
    "        \n",
    "        if args.log_info:\n",
    "            print(f'Epoch: {epoch:03d}, Train Loss: {loss:.4f}, Train: {accs[0]:.4f}, Val: {accs[1]:.4f}, Test: {accs[2]:.4f}, Std dev: {std_dev:.4f}')\n",
    "        \n",
    "        if epoch>=5 and std_dev<=1e-4:\n",
    "            if args.log_info:\n",
    "                print(\"Iteration for convergence: \", epoch)\n",
    "            max_iteration = epoch\n",
    "            break\n",
    "    \n",
    "    if args.log_info:\n",
    "        save_plot([train_losses, train_accuracies, val_accuracies, test_accuracies], labels=['Loss','Train','Validation','Test'], name='Results/AGSGSValidation', yname='Accuracy', xname='Epoch')\n",
    "        print (\"Best Validation Accuracy, \",max(val_accuracies))\n",
    "        print (\"Best Test Accuracy, \",max(test_accuracies))\n",
    "    \n",
    "    if data.num_nodes<th_node:  \n",
    "        del all_data\n",
    "    \n",
    "    return max(test_accuracies), max_iteration"
   ]
  },
  {
   "cell_type": "code",
   "execution_count": 35,
   "id": "34bee9e8",
   "metadata": {},
   "outputs": [],
   "source": [
    "def AGSGSperformanceSampler(DATASET_NAME,data, dataset, num_classes, epochs=1,channel='all'):\n",
    "    \n",
    "    model = AGSGNN(data.x.shape[1], num_classes, hidden_channels=256).to(device)            \n",
    "    \n",
    "    if args.log_info:\n",
    "        print(model)\n",
    "\n",
    "    itr, accuracy = train(DATASET_NAME, model, data, dataset, epochs, channel)\n",
    "    \n",
    "    return itr, accuracy, model"
   ]
  },
  {
   "cell_type": "code",
   "execution_count": 36,
   "id": "0ce2248e",
   "metadata": {},
   "outputs": [],
   "source": [
    "from sklearn.decomposition import TruncatedSVD\n",
    "import numpy as np\n",
    "\n",
    "def adj_feature(data):    \n",
    "    adj_mat = torch.zeros((data.num_nodes,data.num_nodes))\n",
    "    edges = data.edge_index.t()\n",
    "    adj_mat[edges[:,0], edges[:,1]] = 1\n",
    "    adj_mat[edges[:,1], edges[:,0]] = 1\n",
    "    \n",
    "#     n_components = data.x.shape[1]\n",
    "    n_components = min(256, data.x.shape[1], data.num_nodes)\n",
    "\n",
    "    svd = TruncatedSVD(n_components=n_components)\n",
    "    x = svd.fit_transform(adj_mat)\n",
    "    \n",
    "    x = torch.Tensor(x)\n",
    "    x.shape    \n",
    "    \n",
    "    return x\n",
    "\n",
    "# x = adj_feature(data)\n",
    "# x.shape"
   ]
  },
  {
   "cell_type": "code",
   "execution_count": 41,
   "id": "586728b2",
   "metadata": {},
   "outputs": [
    {
     "name": "stdout",
     "output_type": "stream",
     "text": [
      "N  2708  E  10556  d  3.8980797636632203 0.825157880783081 0.8099659085273743 0.7657181620597839 -0.06587088108062744 Data(x=[2708, 1433], edge_index=[2, 10556], y=[2708], train_mask=[2708], val_mask=[2708], test_mask=[2708])\n",
      "AGSGNN(\n",
      "  (gnn1): HomophilicNet(\n",
      "    (conv1): GraphConv(1433, 256)\n",
      "    (conv2): GraphConv(256, 256)\n",
      "    (lin): Linear(in_features=512, out_features=128, bias=True)\n",
      "    (lin2): Linear(in_features=512, out_features=7, bias=True)\n",
      "  )\n",
      "  (gnn2): HomophilicNet(\n",
      "    (conv1): GraphConv(1433, 256)\n",
      "    (conv2): GraphConv(256, 256)\n",
      "    (lin): Linear(in_features=512, out_features=128, bias=True)\n",
      "    (lin2): Linear(in_features=512, out_features=7, bias=True)\n",
      "  )\n",
      "  (com_lin): Linear(in_features=256, out_features=7, bias=True)\n",
      ")\n",
      "loading saved norm\n",
      "Loading weights  fastlink\n",
      "loading saved norm\n",
      "Loading weights  fastlink\n",
      "loading saved norm\n",
      "Loading weights  fastlink\n",
      "loading saved norm\n",
      "Loading weights  fastlink\n",
      "[Data(x=[2708, 1433], edge_index=[2, 10556], y=[2708], train_mask=[2708], val_mask=[2708], test_mask=[2708], edge_weight=[10556], weight=[10556], seed_node=[2708], batch_size=2708), Data(x=[2708, 1433], edge_index=[2, 10556], y=[2708], train_mask=[2708], val_mask=[2708], test_mask=[2708], edge_weight=[10556], weight=[10556], seed_node=[2708], batch_size=2708)]\n"
     ]
    },
    {
     "name": "stderr",
     "output_type": "stream",
     "text": [
      "Epoch 01:  82%|████████▏ | 2520/3072 [00:00<00:00, 6443.92it/s]\n"
     ]
    },
    {
     "name": "stdout",
     "output_type": "stream",
     "text": [
      "Loss:1.1255 seed:1.0193 hm:0.0532 ht:0.0530\n",
      "Example:393 seed:131 hm:131 ht:131\n",
      "Epoch: 001, Train Loss: 0.1700, Train: 0.1643, Val: 0.1620, Test: 0.1490, Std dev: 0.0000\n"
     ]
    },
    {
     "name": "stderr",
     "output_type": "stream",
     "text": [
      "Epoch 02: : 2545it [00:00, 4677.54it/s]                        \n"
     ]
    },
    {
     "name": "stdout",
     "output_type": "stream",
     "text": [
      "Loss:1.1157 seed:1.0121 hm:0.0518 ht:0.0518\n",
      "Example:390 seed:130 hm:130 ht:130\n",
      "Epoch: 002, Train Loss: 0.1729, Train: 0.2714, Val: 0.1700, Test: 0.1640, Std dev: 0.0049\n"
     ]
    },
    {
     "name": "stderr",
     "output_type": "stream",
     "text": [
      "Epoch 03: : 2542it [00:00, 5836.46it/s]                        \n"
     ]
    },
    {
     "name": "stdout",
     "output_type": "stream",
     "text": [
      "Loss:1.0771 seed:0.9900 hm:0.0436 ht:0.0436\n",
      "Example:333 seed:111 hm:111 ht:111\n",
      "Epoch: 003, Train Loss: 0.1332, Train: 0.4786, Val: 0.2300, Test: 0.2310, Std dev: 0.0209\n"
     ]
    },
    {
     "name": "stderr",
     "output_type": "stream",
     "text": [
      "Epoch 04: 100%|█████████▉| 2561/2571 [00:00<00:00, 5756.05it/s]\n"
     ]
    },
    {
     "name": "stdout",
     "output_type": "stream",
     "text": [
      "Loss:1.1135 seed:1.0091 hm:0.0522 ht:0.0522\n",
      "Example:390 seed:130 hm:130 ht:130\n",
      "Epoch: 004, Train Loss: 0.1855, Train: 0.4286, Val: 0.2140, Test: 0.2300, Std dev: 0.0184\n"
     ]
    },
    {
     "name": "stderr",
     "output_type": "stream",
     "text": [
      "Epoch 05: : 2578it [00:00, 5981.22it/s]                        \n"
     ]
    },
    {
     "name": "stdout",
     "output_type": "stream",
     "text": [
      "Loss:1.1548 seed:1.0287 hm:0.0630 ht:0.0631\n",
      "Example:480 seed:160 hm:160 ht:160\n",
      "Epoch: 005, Train Loss: 0.1948, Train: 0.4643, Val: 0.2460, Test: 0.2490, Std dev: 0.0249\n"
     ]
    },
    {
     "name": "stderr",
     "output_type": "stream",
     "text": [
      "Epoch 06:  99%|█████████▊| 2549/2583 [00:00<00:00, 5777.38it/s]\n"
     ]
    },
    {
     "name": "stdout",
     "output_type": "stream",
     "text": [
      "Loss:1.1320 seed:1.0216 hm:0.0552 ht:0.0552\n",
      "Example:420 seed:140 hm:140 ht:140\n",
      "Epoch: 006, Train Loss: 0.1623, Train: 0.5429, Val: 0.2280, Test: 0.2270, Std dev: 0.0255\n"
     ]
    },
    {
     "name": "stderr",
     "output_type": "stream",
     "text": [
      "Epoch 07: : 2572it [00:00, 5819.83it/s]                        \n"
     ]
    },
    {
     "name": "stdout",
     "output_type": "stream",
     "text": [
      "Loss:1.0923 seed:0.9915 hm:0.0503 ht:0.0505\n",
      "Example:399 seed:133 hm:133 ht:133\n",
      "Epoch: 007, Train Loss: 0.1459, Train: 0.6286, Val: 0.2220, Test: 0.2340, Std dev: 0.0276\n"
     ]
    },
    {
     "name": "stderr",
     "output_type": "stream",
     "text": [
      "Epoch 08:  99%|█████████▊| 2565/2604 [00:00<00:00, 5058.90it/s]\n"
     ]
    },
    {
     "name": "stdout",
     "output_type": "stream",
     "text": [
      "Loss:1.1012 seed:0.9932 hm:0.0538 ht:0.0541\n",
      "Example:423 seed:141 hm:141 ht:141\n",
      "Epoch: 008, Train Loss: 0.1849, Train: 0.7500, Val: 0.3260, Test: 0.3290, Std dev: 0.0224\n"
     ]
    },
    {
     "name": "stderr",
     "output_type": "stream",
     "text": [
      "Epoch 09: 100%|█████████▉| 2580/2589 [00:00<00:00, 6959.61it/s]\n"
     ]
    },
    {
     "name": "stdout",
     "output_type": "stream",
     "text": [
      "Loss:1.0986 seed:0.9913 hm:0.0535 ht:0.0538\n",
      "Example:423 seed:141 hm:141 ht:141\n",
      "Epoch: 009, Train Loss: 0.1875, Train: 0.7500, Val: 0.3500, Test: 0.3440, Std dev: 0.0239\n"
     ]
    },
    {
     "name": "stderr",
     "output_type": "stream",
     "text": [
      "Epoch 10: : 2567it [00:00, 6432.58it/s]                        \n"
     ]
    },
    {
     "name": "stdout",
     "output_type": "stream",
     "text": [
      "Loss:1.0302 seed:0.9416 hm:0.0441 ht:0.0445\n",
      "Example:363 seed:121 hm:121 ht:121\n",
      "Epoch: 010, Train Loss: 0.1076, Train: 0.7286, Val: 0.3520, Test: 0.3410, Std dev: 0.0333\n"
     ]
    },
    {
     "name": "stderr",
     "output_type": "stream",
     "text": [
      "Epoch 11: : 2580it [00:00, 4433.27it/s]                        \n"
     ]
    },
    {
     "name": "stdout",
     "output_type": "stream",
     "text": [
      "Loss:1.0355 seed:0.9450 hm:0.0450 ht:0.0455\n",
      "Example:381 seed:127 hm:127 ht:127\n",
      "Epoch: 011, Train Loss: 0.1355, Train: 0.7714, Val: 0.3820, Test: 0.3830, Std dev: 0.0318\n"
     ]
    },
    {
     "name": "stderr",
     "output_type": "stream",
     "text": [
      "Epoch 12: 100%|█████████▉| 2570/2577 [00:00<00:00, 6595.54it/s]\n"
     ]
    },
    {
     "name": "stdout",
     "output_type": "stream",
     "text": [
      "Loss:0.9819 seed:0.8749 hm:0.0531 ht:0.0539\n",
      "Example:483 seed:161 hm:161 ht:161\n",
      "Epoch: 012, Train Loss: 0.1708, Train: 0.8357, Val: 0.5200, Test: 0.4960, Std dev: 0.0452\n"
     ]
    },
    {
     "name": "stderr",
     "output_type": "stream",
     "text": [
      "Epoch 13:  99%|█████████▊| 2552/2589 [00:00<00:00, 5832.87it/s]\n"
     ]
    },
    {
     "name": "stdout",
     "output_type": "stream",
     "text": [
      "Loss:0.9094 seed:0.8204 hm:0.0438 ht:0.0453\n",
      "Example:414 seed:138 hm:138 ht:138\n",
      "Epoch: 013, Train Loss: 0.1118, Train: 0.8571, Val: 0.5260, Test: 0.5000, Std dev: 0.0629\n"
     ]
    },
    {
     "name": "stderr",
     "output_type": "stream",
     "text": [
      "Epoch 14: 100%|█████████▉| 2558/2565 [00:00<00:00, 6110.23it/s]\n"
     ]
    },
    {
     "name": "stdout",
     "output_type": "stream",
     "text": [
      "Loss:0.8069 seed:0.7253 hm:0.0403 ht:0.0413\n",
      "Example:414 seed:138 hm:138 ht:138\n",
      "Epoch: 014, Train Loss: 0.1145, Train: 0.8429, Val: 0.4720, Test: 0.4730, Std dev: 0.0858\n"
     ]
    },
    {
     "name": "stderr",
     "output_type": "stream",
     "text": [
      "Epoch 15:  99%|█████████▉| 2551/2574 [00:00<00:00, 5387.97it/s]\n"
     ]
    },
    {
     "name": "stdout",
     "output_type": "stream",
     "text": [
      "Loss:0.7502 seed:0.6678 hm:0.0407 ht:0.0417\n",
      "Example:444 seed:148 hm:148 ht:148\n",
      "Epoch: 015, Train Loss: 0.1168, Train: 0.8857, Val: 0.5380, Test: 0.5240, Std dev: 0.1060\n"
     ]
    },
    {
     "name": "stderr",
     "output_type": "stream",
     "text": [
      "Epoch 16: 100%|█████████▉| 2557/2559 [00:00<00:00, 5186.67it/s]\n"
     ]
    },
    {
     "name": "stdout",
     "output_type": "stream",
     "text": [
      "Loss:0.6713 seed:0.5979 hm:0.0357 ht:0.0377\n",
      "Example:420 seed:140 hm:140 ht:140\n",
      "Epoch: 016, Train Loss: 0.0998, Train: 0.9000, Val: 0.5760, Test: 0.5710, Std dev: 0.1107\n"
     ]
    },
    {
     "name": "stderr",
     "output_type": "stream",
     "text": [
      "Epoch 17: : 2570it [00:00, 6695.15it/s]                        \n"
     ]
    },
    {
     "name": "stdout",
     "output_type": "stream",
     "text": [
      "Loss:0.5317 seed:0.4718 hm:0.0290 ht:0.0308\n",
      "Example:396 seed:132 hm:132 ht:132\n",
      "Epoch: 017, Train Loss: 0.0754, Train: 0.9143, Val: 0.5840, Test: 0.5750, Std dev: 0.1275\n"
     ]
    },
    {
     "name": "stderr",
     "output_type": "stream",
     "text": [
      "Epoch 18:  98%|█████████▊| 2571/2622 [00:00<00:00, 6534.01it/s]\n"
     ]
    },
    {
     "name": "stdout",
     "output_type": "stream",
     "text": [
      "Loss:0.4353 seed:0.3827 hm:0.0255 ht:0.0272\n",
      "Example:381 seed:127 hm:127 ht:127\n",
      "Epoch: 018, Train Loss: 0.0482, Train: 0.9357, Val: 0.5880, Test: 0.5720, Std dev: 0.1375\n"
     ]
    },
    {
     "name": "stderr",
     "output_type": "stream",
     "text": [
      "Epoch 19:  99%|█████████▉| 2552/2568 [00:00<00:00, 3937.63it/s]\n"
     ]
    },
    {
     "name": "stdout",
     "output_type": "stream",
     "text": [
      "Loss:0.3640 seed:0.3150 hm:0.0235 ht:0.0256\n",
      "Example:393 seed:131 hm:131 ht:131\n",
      "Epoch: 019, Train Loss: 0.0546, Train: 0.9500, Val: 0.6200, Test: 0.6150, Std dev: 0.1434\n"
     ]
    },
    {
     "name": "stderr",
     "output_type": "stream",
     "text": [
      "Epoch 20:  99%|█████████▉| 2551/2571 [00:00<00:00, 4950.11it/s]\n"
     ]
    },
    {
     "name": "stdout",
     "output_type": "stream",
     "text": [
      "Loss:0.2584 seed:0.2143 hm:0.0207 ht:0.0233\n",
      "Example:435 seed:145 hm:145 ht:145\n",
      "Epoch: 020, Train Loss: 0.0506, Train: 1.0000, Val: 0.7200, Test: 0.6960, Std dev: 0.1414\n"
     ]
    },
    {
     "name": "stderr",
     "output_type": "stream",
     "text": [
      "Epoch 21: 100%|██████████| 2553/2553 [00:00<00:00, 5539.69it/s]\n"
     ]
    },
    {
     "name": "stdout",
     "output_type": "stream",
     "text": [
      "Loss:0.2201 seed:0.1844 hm:0.0169 ht:0.0187\n",
      "Example:402 seed:134 hm:134 ht:134\n",
      "Epoch: 021, Train Loss: 0.0349, Train: 0.9929, Val: 0.7500, Test: 0.7510, Std dev: 0.1141\n"
     ]
    },
    {
     "name": "stderr",
     "output_type": "stream",
     "text": [
      "Epoch 22: : 2560it [00:00, 4166.62it/s]                        \n"
     ]
    },
    {
     "name": "stdout",
     "output_type": "stream",
     "text": [
      "Loss:0.1483 seed:0.1222 hm:0.0123 ht:0.0138\n",
      "Example:372 seed:124 hm:124 ht:124\n",
      "Epoch: 022, Train Loss: 0.0327, Train: 0.9929, Val: 0.7600, Test: 0.7680, Std dev: 0.1024\n"
     ]
    },
    {
     "name": "stderr",
     "output_type": "stream",
     "text": [
      "Epoch 23: : 2552it [00:00, 5948.53it/s]                        \n"
     ]
    },
    {
     "name": "stdout",
     "output_type": "stream",
     "text": [
      "Loss:0.0949 seed:0.0750 hm:0.0092 ht:0.0107\n",
      "Example:345 seed:115 hm:115 ht:115\n",
      "Epoch: 023, Train Loss: 0.0300, Train: 1.0000, Val: 0.7760, Test: 0.7730, Std dev: 0.0927\n"
     ]
    },
    {
     "name": "stderr",
     "output_type": "stream",
     "text": [
      "Epoch 24: : 2567it [00:00, 6738.33it/s]                        \n"
     ]
    },
    {
     "name": "stdout",
     "output_type": "stream",
     "text": [
      "Loss:0.1060 seed:0.0861 hm:0.0096 ht:0.0104\n",
      "Example:357 seed:119 hm:119 ht:119\n",
      "Epoch: 024, Train Loss: 0.0202, Train: 0.9929, Val: 0.7840, Test: 0.7790, Std dev: 0.0639\n"
     ]
    },
    {
     "name": "stderr",
     "output_type": "stream",
     "text": [
      "Epoch 25: 100%|█████████▉| 2529/2538 [00:00<00:00, 4881.95it/s]\n"
     ]
    },
    {
     "name": "stdout",
     "output_type": "stream",
     "text": [
      "Loss:0.0703 seed:0.0538 hm:0.0079 ht:0.0087\n",
      "Example:363 seed:121 hm:121 ht:121\n",
      "Epoch: 025, Train Loss: 0.0197, Train: 1.0000, Val: 0.7920, Test: 0.7780, Std dev: 0.0525\n"
     ]
    },
    {
     "name": "stderr",
     "output_type": "stream",
     "text": [
      "Epoch 26:  99%|█████████▉| 2537/2562 [00:00<00:00, 6111.73it/s]\n"
     ]
    },
    {
     "name": "stdout",
     "output_type": "stream",
     "text": [
      "Loss:0.0414 seed:0.0278 hm:0.0067 ht:0.0069\n",
      "Example:423 seed:141 hm:141 ht:141\n",
      "Epoch: 026, Train Loss: 0.0142, Train: 1.0000, Val: 0.7880, Test: 0.7790, Std dev: 0.0358\n"
     ]
    },
    {
     "name": "stderr",
     "output_type": "stream",
     "text": [
      "Epoch 27: : 2564it [00:00, 4213.09it/s]                        \n"
     ]
    },
    {
     "name": "stdout",
     "output_type": "stream",
     "text": [
      "Loss:0.0339 seed:0.0236 hm:0.0047 ht:0.0056\n",
      "Example:357 seed:119 hm:119 ht:119\n",
      "Epoch: 027, Train Loss: 0.0093, Train: 1.0000, Val: 0.7800, Test: 0.7780, Std dev: 0.0284\n"
     ]
    },
    {
     "name": "stderr",
     "output_type": "stream",
     "text": [
      "Epoch 28:  99%|█████████▊| 2538/2571 [00:00<00:00, 3790.45it/s]\n"
     ]
    },
    {
     "name": "stdout",
     "output_type": "stream",
     "text": [
      "Loss:0.0290 seed:0.0194 hm:0.0049 ht:0.0046\n",
      "Example:393 seed:131 hm:131 ht:131\n",
      "Epoch: 028, Train Loss: 0.0097, Train: 1.0000, Val: 0.7860, Test: 0.7790, Std dev: 0.0288\n"
     ]
    },
    {
     "name": "stderr",
     "output_type": "stream",
     "text": [
      "Epoch 29: : 2574it [00:00, 4316.62it/s]                        \n"
     ]
    },
    {
     "name": "stdout",
     "output_type": "stream",
     "text": [
      "Loss:0.0198 seed:0.0121 hm:0.0037 ht:0.0039\n",
      "Example:384 seed:128 hm:128 ht:128\n",
      "Epoch: 029, Train Loss: 0.0071, Train: 1.0000, Val: 0.7840, Test: 0.7850, Std dev: 0.0172\n"
     ]
    },
    {
     "name": "stderr",
     "output_type": "stream",
     "text": [
      "Epoch 30: 100%|█████████▉| 2557/2565 [00:00<00:00, 4251.52it/s]\n"
     ]
    },
    {
     "name": "stdout",
     "output_type": "stream",
     "text": [
      "Loss:0.0171 seed:0.0107 hm:0.0030 ht:0.0034\n",
      "Example:396 seed:132 hm:132 ht:132\n",
      "Epoch: 030, Train Loss: 0.0071, Train: 1.0000, Val: 0.7860, Test: 0.7910, Std dev: 0.0090\n"
     ]
    },
    {
     "name": "stderr",
     "output_type": "stream",
     "text": [
      "Epoch 31: 100%|█████████▉| 2544/2547 [00:00<00:00, 6513.84it/s]\n"
     ]
    },
    {
     "name": "stdout",
     "output_type": "stream",
     "text": [
      "Loss:0.0119 seed:0.0057 hm:0.0031 ht:0.0031\n",
      "Example:438 seed:146 hm:146 ht:146\n",
      "Epoch: 031, Train Loss: 0.0060, Train: 1.0000, Val: 0.7800, Test: 0.7900, Std dev: 0.0080\n"
     ]
    },
    {
     "name": "stderr",
     "output_type": "stream",
     "text": [
      "Epoch 32:  99%|█████████▉| 2557/2589 [00:00<00:00, 4233.79it/s]\n"
     ]
    },
    {
     "name": "stdout",
     "output_type": "stream",
     "text": [
      "Loss:0.0149 seed:0.0102 hm:0.0022 ht:0.0026\n",
      "Example:360 seed:120 hm:120 ht:120\n",
      "Epoch: 032, Train Loss: 0.0045, Train: 1.0000, Val: 0.7880, Test: 0.7930, Std dev: 0.0058\n"
     ]
    },
    {
     "name": "stderr",
     "output_type": "stream",
     "text": [
      "Epoch 33: : 2560it [00:00, 6169.76it/s]                        \n"
     ]
    },
    {
     "name": "stdout",
     "output_type": "stream",
     "text": [
      "Loss:0.0066 seed:0.0036 hm:0.0014 ht:0.0016\n",
      "Example:411 seed:137 hm:137 ht:137\n",
      "Epoch: 033, Train Loss: 0.0022, Train: 1.0000, Val: 0.8000, Test: 0.7990, Std dev: 0.0045\n"
     ]
    },
    {
     "name": "stderr",
     "output_type": "stream",
     "text": [
      "Epoch 34:  99%|█████████▉| 2539/2559 [00:00<00:00, 6558.48it/s]\n"
     ]
    },
    {
     "name": "stdout",
     "output_type": "stream",
     "text": [
      "Loss:0.0046 seed:0.0019 hm:0.0015 ht:0.0013\n",
      "Example:414 seed:138 hm:138 ht:138\n",
      "Epoch: 034, Train Loss: 0.0023, Train: 1.0000, Val: 0.8020, Test: 0.8010, Std dev: 0.0048\n"
     ]
    },
    {
     "name": "stderr",
     "output_type": "stream",
     "text": [
      "Epoch 35: : 2556it [00:00, 5632.04it/s]                        \n"
     ]
    },
    {
     "name": "stdout",
     "output_type": "stream",
     "text": [
      "Loss:0.0053 seed:0.0017 hm:0.0018 ht:0.0017\n",
      "Example:396 seed:132 hm:132 ht:132\n",
      "Epoch: 035, Train Loss: 0.0039, Train: 1.0000, Val: 0.8060, Test: 0.8000, Std dev: 0.0040\n"
     ]
    },
    {
     "name": "stderr",
     "output_type": "stream",
     "text": [
      "Epoch 36: : 2581it [00:00, 6414.96it/s]                        \n"
     ]
    },
    {
     "name": "stdout",
     "output_type": "stream",
     "text": [
      "Loss:0.0089 seed:0.0058 hm:0.0014 ht:0.0018\n",
      "Example:399 seed:133 hm:133 ht:133\n",
      "Epoch: 036, Train Loss: 0.0032, Train: 1.0000, Val: 0.7980, Test: 0.7990, Std dev: 0.0037\n"
     ]
    },
    {
     "name": "stderr",
     "output_type": "stream",
     "text": [
      "Epoch 37:  99%|█████████▊| 2583/2622 [00:00<00:00, 6417.17it/s]\n"
     ]
    },
    {
     "name": "stdout",
     "output_type": "stream",
     "text": [
      "Loss:0.0038 seed:0.0015 hm:0.0012 ht:0.0011\n",
      "Example:357 seed:119 hm:119 ht:119\n",
      "Epoch: 037, Train Loss: 0.0025, Train: 1.0000, Val: 0.7920, Test: 0.7960, Std dev: 0.0018\n"
     ]
    },
    {
     "name": "stderr",
     "output_type": "stream",
     "text": [
      "Epoch 38:  99%|█████████▉| 2574/2589 [00:00<00:00, 4372.59it/s]\n"
     ]
    },
    {
     "name": "stdout",
     "output_type": "stream",
     "text": [
      "Loss:0.0037 seed:0.0018 hm:0.0010 ht:0.0010\n",
      "Example:363 seed:121 hm:121 ht:121\n",
      "Epoch: 038, Train Loss: 0.0021, Train: 1.0000, Val: 0.7760, Test: 0.7920, Std dev: 0.0019\n"
     ]
    },
    {
     "name": "stderr",
     "output_type": "stream",
     "text": [
      "Epoch 39: 100%|█████████▉| 2548/2550 [00:00<00:00, 5604.35it/s]\n"
     ]
    },
    {
     "name": "stdout",
     "output_type": "stream",
     "text": [
      "Loss:0.0033 seed:0.0009 hm:0.0012 ht:0.0012\n",
      "Example:405 seed:135 hm:135 ht:135\n",
      "Epoch: 039, Train Loss: 0.0017, Train: 1.0000, Val: 0.7700, Test: 0.7900, Std dev: 0.0021\n"
     ]
    },
    {
     "name": "stderr",
     "output_type": "stream",
     "text": [
      "Epoch 40: : 2590it [00:00, 4385.44it/s]                        \n"
     ]
    },
    {
     "name": "stdout",
     "output_type": "stream",
     "text": [
      "Loss:0.0032 seed:0.0013 hm:0.0009 ht:0.0010\n",
      "Example:432 seed:144 hm:144 ht:144\n",
      "Epoch: 040, Train Loss: 0.0023, Train: 1.0000, Val: 0.7700, Test: 0.7840, Std dev: 0.0022\n"
     ]
    },
    {
     "name": "stderr",
     "output_type": "stream",
     "text": [
      "Epoch 41: : 2571it [00:00, 6431.44it/s]                        \n"
     ]
    },
    {
     "name": "stdout",
     "output_type": "stream",
     "text": [
      "Loss:0.0030 seed:0.0016 hm:0.0006 ht:0.0008\n",
      "Example:363 seed:121 hm:121 ht:121\n",
      "Epoch: 041, Train Loss: 0.0018, Train: 1.0000, Val: 0.7660, Test: 0.7780, Std dev: 0.0003\n"
     ]
    },
    {
     "name": "stderr",
     "output_type": "stream",
     "text": [
      "Epoch 42:  99%|█████████▊| 2541/2574 [00:00<00:00, 5656.31it/s]\n"
     ]
    },
    {
     "name": "stdout",
     "output_type": "stream",
     "text": [
      "Loss:0.0026 seed:0.0011 hm:0.0007 ht:0.0007\n",
      "Example:402 seed:134 hm:134 ht:134\n",
      "Epoch: 042, Train Loss: 0.0012, Train: 1.0000, Val: 0.7640, Test: 0.7740, Std dev: 0.0004\n"
     ]
    },
    {
     "name": "stderr",
     "output_type": "stream",
     "text": [
      "Epoch 43: : 2573it [00:00, 6248.69it/s]                        \n"
     ]
    },
    {
     "name": "stdout",
     "output_type": "stream",
     "text": [
      "Loss:0.0015 seed:0.0004 hm:0.0005 ht:0.0005\n",
      "Example:390 seed:130 hm:130 ht:130\n",
      "Epoch: 043, Train Loss: 0.0008, Train: 1.0000, Val: 0.7640, Test: 0.7740, Std dev: 0.0007\n"
     ]
    },
    {
     "name": "stderr",
     "output_type": "stream",
     "text": [
      "Epoch 44:  97%|█████████▋| 2537/2610 [00:00<00:00, 4554.18it/s]\n"
     ]
    },
    {
     "name": "stdout",
     "output_type": "stream",
     "text": [
      "Loss:0.0026 seed:0.0010 hm:0.0008 ht:0.0008\n",
      "Example:423 seed:141 hm:141 ht:141\n",
      "Epoch: 044, Train Loss: 0.0015, Train: 1.0000, Val: 0.7640, Test: 0.7800, Std dev: 0.0006\n"
     ]
    },
    {
     "name": "stderr",
     "output_type": "stream",
     "text": [
      "Epoch 45: : 2561it [00:00, 6798.78it/s]                        \n"
     ]
    },
    {
     "name": "stdout",
     "output_type": "stream",
     "text": [
      "Loss:0.0024 seed:0.0010 hm:0.0007 ht:0.0007\n",
      "Example:435 seed:145 hm:145 ht:145\n",
      "Epoch: 045, Train Loss: 0.0015, Train: 1.0000, Val: 0.7780, Test: 0.7860, Std dev: 0.0005\n"
     ]
    },
    {
     "name": "stderr",
     "output_type": "stream",
     "text": [
      "Epoch 46:  97%|█████████▋| 2549/2625 [00:00<00:00, 4537.13it/s]\n"
     ]
    },
    {
     "name": "stdout",
     "output_type": "stream",
     "text": [
      "Loss:0.0017 seed:0.0007 hm:0.0005 ht:0.0005\n",
      "Example:327 seed:109 hm:109 ht:109\n",
      "Epoch: 046, Train Loss: 0.0009, Train: 1.0000, Val: 0.7800, Test: 0.7940, Std dev: 0.0005\n"
     ]
    },
    {
     "name": "stderr",
     "output_type": "stream",
     "text": [
      "Epoch 47: : 2571it [00:00, 4059.43it/s]                        \n"
     ]
    },
    {
     "name": "stdout",
     "output_type": "stream",
     "text": [
      "Loss:0.0009 seed:0.0002 hm:0.0003 ht:0.0004\n",
      "Example:414 seed:138 hm:138 ht:138\n",
      "Epoch: 047, Train Loss: 0.0008, Train: 1.0000, Val: 0.7860, Test: 0.7940, Std dev: 0.0006\n"
     ]
    },
    {
     "name": "stderr",
     "output_type": "stream",
     "text": [
      "Epoch 48: : 2574it [00:00, 6446.83it/s]                        \n"
     ]
    },
    {
     "name": "stdout",
     "output_type": "stream",
     "text": [
      "Loss:0.0012 seed:0.0004 hm:0.0004 ht:0.0005\n",
      "Example:405 seed:135 hm:135 ht:135\n",
      "Epoch: 048, Train Loss: 0.0010, Train: 1.0000, Val: 0.7860, Test: 0.7940, Std dev: 0.0007\n"
     ]
    },
    {
     "name": "stderr",
     "output_type": "stream",
     "text": [
      "Epoch 49:  99%|█████████▉| 2566/2583 [00:00<00:00, 6554.63it/s]\n"
     ]
    },
    {
     "name": "stdout",
     "output_type": "stream",
     "text": [
      "Loss:0.0013 seed:0.0005 hm:0.0004 ht:0.0004\n",
      "Example:378 seed:126 hm:126 ht:126\n",
      "Epoch: 049, Train Loss: 0.0005, Train: 1.0000, Val: 0.7860, Test: 0.7900, Std dev: 0.0005\n"
     ]
    },
    {
     "name": "stderr",
     "output_type": "stream",
     "text": [
      "Epoch 50:  99%|█████████▉| 2546/2577 [00:00<00:00, 5981.17it/s]\n"
     ]
    },
    {
     "name": "stdout",
     "output_type": "stream",
     "text": [
      "Loss:0.0012 seed:0.0005 hm:0.0003 ht:0.0005\n",
      "Example:369 seed:123 hm:123 ht:123\n",
      "Epoch: 050, Train Loss: 0.0008, Train: 1.0000, Val: 0.7880, Test: 0.7920, Std dev: 0.0003\n"
     ]
    },
    {
     "name": "stderr",
     "output_type": "stream",
     "text": [
      "Epoch 51: : 2521it [00:00, 5105.65it/s]                        \n"
     ]
    },
    {
     "name": "stdout",
     "output_type": "stream",
     "text": [
      "Loss:0.0011 seed:0.0003 hm:0.0004 ht:0.0004\n",
      "Example:387 seed:129 hm:129 ht:129\n",
      "Epoch: 051, Train Loss: 0.0005, Train: 1.0000, Val: 0.7860, Test: 0.7910, Std dev: 0.0001\n"
     ]
    },
    {
     "name": "stderr",
     "output_type": "stream",
     "text": [
      "Epoch 52: : 2580it [00:00, 6826.05it/s]                        \n"
     ]
    },
    {
     "name": "stdout",
     "output_type": "stream",
     "text": [
      "Loss:0.0016 seed:0.0007 hm:0.0004 ht:0.0005\n",
      "Example:438 seed:146 hm:146 ht:146\n",
      "Epoch: 052, Train Loss: 0.0013, Train: 1.0000, Val: 0.7860, Test: 0.7910, Std dev: 0.0002\n"
     ]
    },
    {
     "name": "stderr",
     "output_type": "stream",
     "text": [
      "Epoch 53:  99%|█████████▊| 2543/2580 [00:00<00:00, 5584.29it/s]\n"
     ]
    },
    {
     "name": "stdout",
     "output_type": "stream",
     "text": [
      "Loss:0.0009 seed:0.0003 hm:0.0003 ht:0.0003\n",
      "Example:381 seed:127 hm:127 ht:127\n",
      "Epoch: 053, Train Loss: 0.0005, Train: 1.0000, Val: 0.7880, Test: 0.7940, Std dev: 0.0003\n"
     ]
    },
    {
     "name": "stderr",
     "output_type": "stream",
     "text": [
      "Epoch 54: : 2573it [00:00, 3495.61it/s]                        \n"
     ]
    },
    {
     "name": "stdout",
     "output_type": "stream",
     "text": [
      "Loss:0.0010 seed:0.0003 hm:0.0004 ht:0.0003\n",
      "Example:402 seed:134 hm:134 ht:134\n",
      "Epoch: 054, Train Loss: 0.0010, Train: 1.0000, Val: 0.7880, Test: 0.7940, Std dev: 0.0003\n"
     ]
    },
    {
     "name": "stderr",
     "output_type": "stream",
     "text": [
      "Epoch 55:  99%|█████████▉| 2563/2589 [00:00<00:00, 4308.34it/s]\n"
     ]
    },
    {
     "name": "stdout",
     "output_type": "stream",
     "text": [
      "Loss:0.0010 seed:0.0003 hm:0.0003 ht:0.0004\n",
      "Example:381 seed:127 hm:127 ht:127\n",
      "Epoch: 055, Train Loss: 0.0007, Train: 1.0000, Val: 0.7900, Test: 0.7940, Std dev: 0.0003\n"
     ]
    },
    {
     "name": "stderr",
     "output_type": "stream",
     "text": [
      "Epoch 56:  99%|█████████▉| 2533/2553 [00:00<00:00, 3957.99it/s]\n"
     ]
    },
    {
     "name": "stdout",
     "output_type": "stream",
     "text": [
      "Loss:0.0006 seed:0.0001 hm:0.0002 ht:0.0003\n",
      "Example:360 seed:120 hm:120 ht:120\n",
      "Epoch: 056, Train Loss: 0.0006, Train: 1.0000, Val: 0.7880, Test: 0.7930, Std dev: 0.0003\n"
     ]
    },
    {
     "name": "stderr",
     "output_type": "stream",
     "text": [
      "Epoch 57:  97%|█████████▋| 2528/2601 [00:00<00:00, 4601.49it/s]\n"
     ]
    },
    {
     "name": "stdout",
     "output_type": "stream",
     "text": [
      "Loss:0.0007 seed:0.0002 hm:0.0003 ht:0.0003\n",
      "Example:399 seed:133 hm:133 ht:133\n",
      "Epoch: 057, Train Loss: 0.0005, Train: 1.0000, Val: 0.7860, Test: 0.7870, Std dev: 0.0002\n"
     ]
    },
    {
     "name": "stderr",
     "output_type": "stream",
     "text": [
      "Epoch 58: : 2578it [00:00, 4435.45it/s]                        \n"
     ]
    },
    {
     "name": "stdout",
     "output_type": "stream",
     "text": [
      "Loss:0.0007 seed:0.0002 hm:0.0002 ht:0.0003\n",
      "Example:396 seed:132 hm:132 ht:132\n",
      "Epoch: 058, Train Loss: 0.0005, Train: 1.0000, Val: 0.7780, Test: 0.7840, Std dev: 0.0002\n"
     ]
    },
    {
     "name": "stderr",
     "output_type": "stream",
     "text": [
      "Epoch 59:  99%|█████████▉| 2579/2592 [00:00<00:00, 4745.98it/s]\n"
     ]
    },
    {
     "name": "stdout",
     "output_type": "stream",
     "text": [
      "Loss:0.0008 seed:0.0002 hm:0.0002 ht:0.0004\n",
      "Example:435 seed:145 hm:145 ht:145\n",
      "Epoch: 059, Train Loss: 0.0006, Train: 1.0000, Val: 0.7780, Test: 0.7860, Std dev: 0.0001\n"
     ]
    },
    {
     "name": "stderr",
     "output_type": "stream",
     "text": [
      "Epoch 60: : 2570it [00:00, 3846.37it/s]                        \n"
     ]
    },
    {
     "name": "stdout",
     "output_type": "stream",
     "text": [
      "Loss:0.0006 seed:0.0001 hm:0.0002 ht:0.0002\n",
      "Example:429 seed:143 hm:143 ht:143\n",
      "Epoch: 060, Train Loss: 0.0003, Train: 1.0000, Val: 0.7820, Test: 0.7870, Std dev: 0.0001\n",
      "Iteration for convergence:  60\n"
     ]
    },
    {
     "data": {
      "text/plain": [
       "<Figure size 432x288 with 0 Axes>"
      ]
     },
     "metadata": {},
     "output_type": "display_data"
    },
    {
     "data": {
      "image/png": "[encoded data removed]",
      "text/plain": [
       "<Figure size 432x288 with 1 Axes>"
      ]
     },
     "metadata": {
      "needs_background": "light"
     },
     "output_type": "display_data"
    },
    {
     "name": "stdout",
     "output_type": "stream",
     "text": [
      "Best Validation Accuracy,  0.806\n",
      "Best Test Accuracy,  0.801\n",
      "0.801 60\n"
     ]
    }
   ],
   "source": [
    "# args.log_info = True\n",
    "# args.recompute = False\n",
    "\n",
    "# DATASET_NAME = 'Cora'\n",
    "# data, dataset = get_data(DATASET_NAME,DIR=None, log=False, h_score=True, split_no=0)\n",
    "# print(data)\n",
    "\n",
    "# channel = 'all' #'all', 'hm', 'ht', 'sd'\n",
    "\n",
    "# if DATASET_NAME in ['Squirrel', 'Chameleon']:\n",
    "#     data.x = torch.cat((data.x, adj_feature(data)), dim=1)\n",
    "#     if args.log_info == True:\n",
    "#         print(data.x.shape)\n",
    "    \n",
    "# best_acc, num_iteration, _ =  AGSGSperformanceSampler(DATASET_NAME, data, dataset, dataset.num_classes,epochs=150, channel=channel)\n",
    "# print(best_acc, num_iteration)"
   ]
  },
  {
   "cell_type": "markdown",
   "id": "9a72e3b1",
   "metadata": {},
   "source": [
    "# Batch Experiments"
   ]
  },
  {
   "cell_type": "code",
   "execution_count": 42,
   "id": "f5dd76e1",
   "metadata": {
    "scrolled": true
   },
   "outputs": [
    {
     "name": "stdout",
     "output_type": "stream",
     "text": [
      "pokec "
     ]
    },
    {
     "ename": "KeyboardInterrupt",
     "evalue": "",
     "output_type": "error",
     "traceback": [
      "\u001b[0;31m---------------------------------------------------------------------------\u001b[0m",
      "\u001b[0;31mKeyboardInterrupt\u001b[0m                         Traceback (most recent call last)",
      "Input \u001b[0;32mIn [42]\u001b[0m, in \u001b[0;36m<cell line: 81>\u001b[0;34m()\u001b[0m\n\u001b[1;32m     77\u001b[0m         result_file\u001b[38;5;241m.\u001b[39mclose()\n\u001b[1;32m     80\u001b[0m start \u001b[38;5;241m=\u001b[39m time\u001b[38;5;241m.\u001b[39mtime()\n\u001b[0;32m---> 81\u001b[0m \u001b[43mbatch_experiments\u001b[49m\u001b[43m(\u001b[49m\u001b[43mnum_run\u001b[49m\u001b[38;5;241;43m=\u001b[39;49m\u001b[38;5;241;43m1\u001b[39;49m\u001b[43m,\u001b[49m\u001b[43m \u001b[49m\u001b[43mchannel\u001b[49m\u001b[38;5;241;43m=\u001b[39;49m\u001b[38;5;124;43m'\u001b[39;49m\u001b[38;5;124;43mall\u001b[39;49m\u001b[38;5;124;43m'\u001b[39;49m\u001b[43m)\u001b[49m\n\u001b[1;32m     82\u001b[0m end \u001b[38;5;241m=\u001b[39m time\u001b[38;5;241m.\u001b[39mtime()\n\u001b[1;32m     83\u001b[0m \u001b[38;5;28mprint\u001b[39m(\u001b[38;5;124m\"\u001b[39m\u001b[38;5;124mTime spent:\u001b[39m\u001b[38;5;124m\"\u001b[39m, end\u001b[38;5;241m-\u001b[39mstart)\n",
      "Input \u001b[0;32mIn [42]\u001b[0m, in \u001b[0;36mbatch_experiments\u001b[0;34m(num_run, channel)\u001b[0m\n\u001b[1;32m     64\u001b[0m     \u001b[38;5;28;01mif\u001b[39;00m args\u001b[38;5;241m.\u001b[39mlog_info \u001b[38;5;241m==\u001b[39m \u001b[38;5;28;01mTrue\u001b[39;00m:\n\u001b[1;32m     65\u001b[0m         \u001b[38;5;28mprint\u001b[39m(data\u001b[38;5;241m.\u001b[39mx\u001b[38;5;241m.\u001b[39mshape)\n\u001b[0;32m---> 67\u001b[0m accuracy, itr, _ \u001b[38;5;241m=\u001b[39m \u001b[43mAGSGSperformanceSampler\u001b[49m\u001b[43m(\u001b[49m\u001b[43mDATASET_NAME\u001b[49m\u001b[43m,\u001b[49m\u001b[43m \u001b[49m\u001b[43mdata\u001b[49m\u001b[43m,\u001b[49m\u001b[43m \u001b[49m\u001b[43mdataset\u001b[49m\u001b[43m,\u001b[49m\u001b[43m \u001b[49m\u001b[43mnum_classes\u001b[49m\u001b[43m,\u001b[49m\u001b[43mepochs\u001b[49m\u001b[38;5;241;43m=\u001b[39;49m\u001b[43mmax_epochs\u001b[49m\u001b[43m,\u001b[49m\u001b[43m \u001b[49m\u001b[43mchannel\u001b[49m\u001b[38;5;241;43m=\u001b[39;49m\u001b[43mchannel\u001b[49m\u001b[43m)\u001b[49m\n\u001b[1;32m     69\u001b[0m accs\u001b[38;5;241m.\u001b[39mappend(accuracy)\n\u001b[1;32m     70\u001b[0m itrs\u001b[38;5;241m.\u001b[39mappend(itr)\n",
      "Input \u001b[0;32mIn [35]\u001b[0m, in \u001b[0;36mAGSGSperformanceSampler\u001b[0;34m(DATASET_NAME, data, dataset, num_classes, epochs, channel)\u001b[0m\n\u001b[1;32m      5\u001b[0m \u001b[38;5;28;01mif\u001b[39;00m args\u001b[38;5;241m.\u001b[39mlog_info:\n\u001b[1;32m      6\u001b[0m     \u001b[38;5;28mprint\u001b[39m(model)\n\u001b[0;32m----> 8\u001b[0m itr, accuracy \u001b[38;5;241m=\u001b[39m \u001b[43mtrain\u001b[49m\u001b[43m(\u001b[49m\u001b[43mDATASET_NAME\u001b[49m\u001b[43m,\u001b[49m\u001b[43m \u001b[49m\u001b[43mmodel\u001b[49m\u001b[43m,\u001b[49m\u001b[43m \u001b[49m\u001b[43mdata\u001b[49m\u001b[43m,\u001b[49m\u001b[43m \u001b[49m\u001b[43mdataset\u001b[49m\u001b[43m,\u001b[49m\u001b[43m \u001b[49m\u001b[43mepochs\u001b[49m\u001b[43m,\u001b[49m\u001b[43m \u001b[49m\u001b[43mchannel\u001b[49m\u001b[43m)\u001b[49m\n\u001b[1;32m     10\u001b[0m \u001b[38;5;28;01mreturn\u001b[39;00m itr, accuracy, model\n",
      "Input \u001b[0;32mIn [34]\u001b[0m, in \u001b[0;36mtrain\u001b[0;34m(DATASET_NAME, model, data, dataset, epochs, channel)\u001b[0m\n\u001b[1;32m    178\u001b[0m total_loss_ht\u001b[38;5;241m+\u001b[39m\u001b[38;5;241m=\u001b[39m loss_ht\u001b[38;5;241m.\u001b[39mitem()\u001b[38;5;241m*\u001b[39m\u001b[38;5;28msum\u001b[39m(batch_data[\u001b[38;5;241m1\u001b[39m]\u001b[38;5;241m.\u001b[39mtrain_mask)\u001b[38;5;241m.\u001b[39mitem()\n\u001b[1;32m    180\u001b[0m total_seed_example\u001b[38;5;241m+\u001b[39m\u001b[38;5;241m=\u001b[39m \u001b[38;5;28msum\u001b[39m(mask)\u001b[38;5;241m.\u001b[39mitem()\n\u001b[0;32m--> 181\u001b[0m total_hm_example\u001b[38;5;241m+\u001b[39m\u001b[38;5;241m=\u001b[39m\u001b[38;5;28;43msum\u001b[39;49m\u001b[43m(\u001b[49m\u001b[43mbatch_data\u001b[49m\u001b[43m[\u001b[49m\u001b[38;5;241;43m0\u001b[39;49m\u001b[43m]\u001b[49m\u001b[38;5;241;43m.\u001b[39;49m\u001b[43mtrain_mask\u001b[49m\u001b[43m)\u001b[49m\u001b[38;5;241m.\u001b[39mitem()\n\u001b[1;32m    182\u001b[0m total_ht_example\u001b[38;5;241m+\u001b[39m\u001b[38;5;241m=\u001b[39m\u001b[38;5;28msum\u001b[39m(batch_data[\u001b[38;5;241m1\u001b[39m]\u001b[38;5;241m.\u001b[39mtrain_mask)\u001b[38;5;241m.\u001b[39mitem()\n\u001b[1;32m    184\u001b[0m \u001b[38;5;28;01mif\u001b[39;00m args\u001b[38;5;241m.\u001b[39mlog_info:\n",
      "\u001b[0;31mKeyboardInterrupt\u001b[0m: "
     ]
    }
   ],
   "source": [
    "def batch_experiments(num_run=1, channel='all'):\n",
    "    \n",
    "    ALL_DATASETs= [\n",
    "#         \"Roman-empire\",\"Texas\",\"Squirrel\",\"Chameleon\",\n",
    "#         \"Cornell\",\"Actor\",\"Wisconsin\",\"Flickr\",\"Amazon-ratings\",\"reed98\",\"amherst41\",\"genius\",\n",
    "#         \"AmazonProducts\",\n",
    "#         \"cornell5\",\"penn94\",\n",
    "#         \"johnshopkins55\",\n",
    "#         \"Yelp\",\n",
    "#         \"cora\",\"Tolokers\",\"Minesweeper\",\n",
    "#         \"CiteSeer\",\"Computers\",\"PubMed\",\"pubmed\",\n",
    "#         \"Reddit\",\n",
    "#         \"cora_ml\",\"dblp\",\n",
    "#         \"Reddit2\",\n",
    "#         \"Cora\",\"CS\",\"Photo\",\"Questions\",\"Physics\",\"citeseer\",\n",
    "        'pokec',\n",
    "        'arxiv-year',\n",
    "        'snap-patents',\n",
    "        'twitch-gamer'\n",
    "    ]\n",
    "    \n",
    "    #ALL_DATASETs= [\"Cora\"]    \n",
    "\n",
    "    args.log_info = False\n",
    "    \n",
    "    filename = \"Results/AGSGNNsaintCheb-GS-\"+channel+\".txt\"\n",
    "    \n",
    "    for DATASET_NAME in ALL_DATASETs:  \n",
    "        print(DATASET_NAME, end=' ')\n",
    "                \n",
    "        result_file = open(filename,'a+')        \n",
    "        result_file.write(f'{DATASET_NAME} ')\n",
    "        result_file.close()\n",
    "                \n",
    "        accs = []\n",
    "        itrs = []\n",
    "                \n",
    "        for i in range(num_run):\n",
    "            data, dataset = get_data(DATASET_NAME, DIR=None, log=False, h_score=False, split_no=i, random_state=i)   \n",
    "            \n",
    "#             if data.num_nodes>100000:\n",
    "#                 accs.append(-1)\n",
    "#                 itrs.append(-1)\n",
    "#                 break\n",
    "            \n",
    "            if len(data.y.shape) > 1:\n",
    "                data.y = data.y.argmax(dim=1)        \n",
    "                num_classes = torch.max(data.y).item()+1\n",
    "            else:\n",
    "                num_classes = dataset.num_classes\n",
    "            \n",
    "            if num_classes!= torch.max(data.y)+1:\n",
    "                num_classes = torch.max(data.y).item()+1\n",
    "                \n",
    "            if data.num_nodes<100000:\n",
    "                max_epochs = 150\n",
    "            else:\n",
    "                max_epochs = 50\n",
    "                \n",
    "            if DATASET_NAME in ['Squirrel', 'Chameleon', \n",
    "                                'cornell5','penn94','johnshopkins55'\n",
    "                               ]:\n",
    "                data.x = torch.cat((data.x, adj_feature(data)), dim=1)\n",
    "                if args.log_info == True:\n",
    "                    print(data.x.shape)\n",
    "                              \n",
    "            accuracy, itr, _ = AGSGSperformanceSampler(DATASET_NAME, data, dataset, num_classes,epochs=max_epochs, channel=channel)\n",
    "            \n",
    "            accs.append(accuracy)\n",
    "            itrs.append(itr)\n",
    "            #print(itr, accuracy)\n",
    "                        \n",
    "        #print(accs, itrs)\n",
    "        print(f'acc {np.mean(accs):0.4f} sd {np.std(accs):0.4f} itr {int(np.mean(itrs)):d} sd {int(np.std(itrs)):d}')\n",
    "        result_file = open(filename,'a+')\n",
    "        result_file.write(f'acc {np.mean(accs):0.4f} sd {np.std(accs):0.4f} itr {int(np.mean(itrs)):d} sd {int(np.std(itrs)):d}\\n')\n",
    "        result_file.close()\n",
    "                \n",
    "\n",
    "start = time.time()\n",
    "batch_experiments(num_run=1, channel='all')\n",
    "end = time.time()\n",
    "print(\"Time spent:\", end-start)"
   ]
  },
  {
   "cell_type": "markdown",
   "id": "fd4cab8c",
   "metadata": {},
   "source": [
    "## Visualize representation"
   ]
  },
  {
   "cell_type": "code",
   "execution_count": 39,
   "id": "361d4d07",
   "metadata": {},
   "outputs": [],
   "source": [
    "if __name__ == '__main__':    \n",
    "    \n",
    "#     n=7\n",
    "#     x = torch.Tensor([[1,0],[1,0],[1,0],[0,1],[0,1],[0,1],[0,1]])\n",
    "#     y = torch.LongTensor([0,0,0, 1, 1, 1, 1])\n",
    "#     edge_index = torch.LongTensor([[1,2],[1,4],[1,5],[2,1],[3,6],[3,7],[4,5],[4,1],[4,6],[4,7],[5,1],[5,4],[5,6],[6,3],[6,4],[6,5],[6,7],[7,3],[7,4],[7,6]]).T\n",
    "#     edge_index = edge_index-1\n",
    "    \n",
    "#     mask = torch.zeros(n, dtype=torch.bool)\n",
    "#     mask[[1,3]] = True\n",
    "    \n",
    "#     test_data = Data(x = x, y = y, edge_index = edge_index, train_mask = mask, test_mask = mask, val_mask = mask)    \n",
    "#     print(test_data)\n",
    "    \n",
    "    \n",
    "    None"
   ]
  },
  {
   "cell_type": "code",
   "execution_count": 40,
   "id": "48f76e63",
   "metadata": {},
   "outputs": [],
   "source": [
    "# class AGS_layer(torch.nn.Module):\n",
    "#     def __init__(self, input_channels, output_channels, dropout=0.2):\n",
    "#         super().__init__()\n",
    "#         self.T = 3\n",
    "#         self.p = dropout\n",
    "#         #self.Aconv1 = GCNConv(input_channels, output_channels)        \n",
    "#         #self.Sconv1 = SpatialConv(input_channels, output_channels)\n",
    "        \n",
    "#         self.Aconv1 = GCNConv(input_channels, output_channels)\n",
    "#         self.Sconv1 = SpatialConv(input_channels, output_channels)\n",
    "        \n",
    "#         self.I1 = nn.Linear(input_channels, output_channels)\n",
    "        \n",
    "#         self.layer_norm_a1 =  nn.LayerNorm(output_channels)\n",
    "#         self.layer_norm_s1 =  nn.LayerNorm(output_channels)\n",
    "#         self.layer_norm_i1 =  nn.LayerNorm(output_channels)\n",
    "        \n",
    "#         self.alpha_a1 = nn.Linear(output_channels, 1)\n",
    "#         self.alpha_s1 = nn.Linear(output_channels, 1)\n",
    "#         self.alpha_i1 = nn.Linear(output_channels, 1)\n",
    "#         self.w1 = nn.Linear(3, 3)\n",
    "        \n",
    "#         #self.reset_parameters()\n",
    "            \n",
    "#     def reset_parameters(self):\n",
    "        \n",
    "#         stdv = 1. / math.sqrt(self.I1.weight.size(1))\n",
    "#         std_att = 1. / math.sqrt(self.w1.weight.size(1))\n",
    "#         std_att_vec = 1. / math.sqrt( self.alpha_a1.weight.size(1))\n",
    "        \n",
    "#         self.I1.weight.data.uniform_(-stdv, stdv)\n",
    "        \n",
    "#         self.alpha_a1.weight.data.uniform_(-std_att, std_att)\n",
    "#         self.alpha_s1.weight.data.uniform_(-std_att, std_att)\n",
    "#         self.alpha_i1.weight.data.uniform_(-std_att, std_att)\n",
    "        \n",
    "#         self.w1.weight.data.uniform_(-std_att_vec, std_att_vec)\n",
    "        \n",
    "#         self.layer_norm_a1.reset_parameters()\n",
    "#         self.layer_norm_s1.reset_parameters()\n",
    "#         self.layer_norm_i1.reset_parameters()\n",
    "        \n",
    "\n",
    "#     def forward(self, x0, edge_index, edge_weight=None):\n",
    "#         a1 = F.relu(self.Aconv1(x0, edge_index, edge_weight))\n",
    "#         a1 = self.layer_norm_a1(a1)\n",
    "#         a1 = F.dropout(a1, p=self.p, training=self.training)\n",
    "        \n",
    "#         s1 = F.relu(self.Sconv1(x0, edge_index, edge_weight))\n",
    "#         s1 = self.layer_norm_s1(s1)\n",
    "#         s1 = F.dropout(s1, p=self.p, training=self.training)\n",
    "\n",
    "#         i1 = F.relu(self.I1(x0))\n",
    "#         i1 = self.layer_norm_i1(i1)\n",
    "#         i1 = F.dropout(i1, p=self.p, training=self.training)\n",
    "        \n",
    "#         ala1 = torch.sigmoid(self.alpha_a1(a1))\n",
    "#         als1 = torch.sigmoid(self.alpha_s1(s1))\n",
    "#         ali1 = torch.sigmoid(self.alpha_i1(i1))        \n",
    "#         alpha1 = F.softmax(self.w1(torch.cat([ala1, als1, ali1],dim=-1)/self.T), dim=1)        \n",
    "        \n",
    "#         x1 = torch.mm(torch.diag(alpha1[:,0]),a1) + torch.mm(torch.diag(alpha1[:,1]),s1) + torch.mm(torch.diag(alpha1[:,2]),i1)                \n",
    "        \n",
    "#         return x1\n",
    "        \n",
    "# class AGS_GCN(torch.nn.Module):\n",
    "#     def __init__(self, num_features, num_classes, hidden_channels=16, dropout=0.2):\n",
    "#         super().__init__()        \n",
    "#         self.num_classes = num_classes\n",
    "#         self.p = dropout\n",
    "        \n",
    "#         self.ags_layer1 = AGS_layer(num_features, hidden_channels)\n",
    "#         self.ags_layer2 = AGS_layer(hidden_channels, hidden_channels)\n",
    "#         #self.ags_layer2 = AGS_layer(hidden_channels, num_classes)\n",
    "                \n",
    "#         self.CombineW = nn.Linear(2 * hidden_channels, hidden_channels)\n",
    "#         self.PredW = nn.Linear(1*hidden_channels, num_classes)\n",
    "        \n",
    "    \n",
    "#     def forward(self, x0, edge_index, edge_weight=None):\n",
    "        \n",
    "#         #x0 = F.dropout(x0, p=self.p, training=self.training)\n",
    "#         x1 = self.ags_layer1(x0, edge_index, edge_weight)\n",
    "#         x1 = F.dropout(x1, p=self.p, training=self.training)\n",
    "        \n",
    "#         x2 = self.ags_layer2(x1, edge_index, edge_weight)\n",
    "#         x2 = F.dropout(x2, p=self.p, training=self.training)        \n",
    "        \n",
    "#         #x = self.PredW(torch.cat([x1, x2], dim=-1))\n",
    "#         x = self.PredW(x2)\n",
    "         \n",
    "#         #return x\n",
    "#         return x.log_softmax(dim=-1)"
   ]
  },
  {
   "cell_type": "code",
   "execution_count": null,
   "id": "d4e0c3a0",
   "metadata": {},
   "outputs": [],
   "source": []
  }
 ],
 "metadata": {
  "kernelspec": {
   "display_name": "py38cu11",
   "language": "python",
   "name": "py38cu11"
  },
  "language_info": {
   "codemirror_mode": {
    "name": "ipython",
    "version": 3
   },
   "file_extension": ".py",
   "mimetype": "text/x-python",
   "name": "python",
   "nbconvert_exporter": "python",
   "pygments_lexer": "ipython3",
   "version": "3.8.13"
  }
 },
 "nbformat": 4,
 "nbformat_minor": 5
}
