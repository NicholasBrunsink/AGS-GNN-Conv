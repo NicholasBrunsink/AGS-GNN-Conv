{
 "cells": [
  {
   "cell_type": "markdown",
   "metadata": {},
   "source": [
    "# Neighbor Sampler"
   ]
  },
  {
   "cell_type": "markdown",
   "metadata": {},
   "source": [
    "## Dummy Graph"
   ]
  },
  {
   "cell_type": "code",
   "execution_count": 1,
   "metadata": {},
   "outputs": [],
   "source": [
    "import os\n",
    "import sys\n",
    "kernel_name = os.path.basename(sys.executable.replace(\"/bin/python\",\"\"))\n",
    "\n",
    "if kernel_name == 'py38cu11':\n",
    "    import ctypes\n",
    "    ctypes.cdll.LoadLibrary(\"/apps/gilbreth/cuda-toolkit/cuda-11.2.0/lib64/libcusparse.so.11\");\n",
    "    ctypes.cdll.LoadLibrary(\"/apps/gilbreth/cuda-toolkit/cuda-11.2.0/lib64/libcublas.so.11\");"
   ]
  },
  {
   "cell_type": "code",
   "execution_count": 2,
   "metadata": {
    "scrolled": true
   },
   "outputs": [
    {
     "name": "stdout",
     "output_type": "stream",
     "text": [
      "Data(x=[7, 2], edge_index=[2, 20], y=[7], train_mask=[7], test_mask=[7], val_mask=[7])\n"
     ]
    }
   ],
   "source": [
    "import torch\n",
    "from torch_geometric.data import Data, HeteroData\n",
    "from torch_geometric.utils import degree\n",
    "\n",
    "\n",
    "n=7\n",
    "x = torch.Tensor([[1,0],[1,0],[1,0],[0,1],[0,1],[0,1],[0,1]])\n",
    "y = torch.LongTensor([0,0,0, 1, 1, 1, 1])\n",
    "edge_index = torch.LongTensor([[1,2],[1,4],[1,5],[2,1],[3,6],[3,7],[4,5],[4,1],[4,6],[4,7],[5,1],\n",
    "                               [5,4],[5,6],[6,3],[6,4],[6,5],[6,7],[7,3],[7,4],[7,6]]).T\n",
    "edge_index = edge_index-1\n",
    "mask = torch.zeros(n, dtype=torch.bool)\n",
    "mask[[0,1,4,5]] = True\n",
    "data = Data(x = x, y = y, edge_index = edge_index, train_mask = mask, test_mask = ~mask, val_mask = ~mask)    \n",
    "print(data)\n",
    "\n",
    "\n",
    "(row, col) = data.edge_index\n",
    "size = data.size()\n",
    "perm = (col * size[0]).add_(row).argsort()\n",
    "colptr = torch.ops.torch_sparse.ind2ptr(col[perm], size[1])\n",
    "row = row[perm]\n",
    "\n",
    "weights = (1. / degree(col, data.num_nodes)[col]) # Norm by in-degree.\n",
    "weights = weights[perm]\n",
    "index = torch.LongTensor([0,1])\n",
    "num_neighbors= [20, 10]"
   ]
  },
  {
   "cell_type": "code",
   "execution_count": null,
   "metadata": {},
   "outputs": [],
   "source": []
  },
  {
   "cell_type": "markdown",
   "metadata": {},
   "source": [
    "## What we want to sample\n",
    "\n",
    "Sample 2 node from 1st of neighbor of vertex 0"
   ]
  },
  {
   "cell_type": "code",
   "execution_count": 3,
   "metadata": {},
   "outputs": [],
   "source": [
    "index = torch.LongTensor([0])\n",
    "num_neighbors= [2,4]"
   ]
  },
  {
   "cell_type": "markdown",
   "metadata": {},
   "source": [
    "## Sample neighborhood from torch_sparse library"
   ]
  },
  {
   "cell_type": "code",
   "execution_count": 4,
   "metadata": {},
   "outputs": [],
   "source": [
    "sample_fn = torch.ops.torch_sparse.neighbor_sample"
   ]
  },
  {
   "cell_type": "code",
   "execution_count": 5,
   "metadata": {},
   "outputs": [
    {
     "name": "stdout",
     "output_type": "stream",
     "text": [
      "tensor([0, 1, 4, 3, 5]) tensor([1, 2, 0, 0, 3, 4]) tensor([0, 0, 1, 2, 2, 2]) tensor([ 0,  2,  3, 10, 11, 12])\n"
     ]
    }
   ],
   "source": [
    "node_s, row_s, col_s, edge_s = sample_fn(\n",
    "    colptr,\n",
    "    row,\n",
    "    index,\n",
    "    num_neighbors,\n",
    "    False, #replace\n",
    "    True, #directed\n",
    ")\n",
    "\n",
    "print(node_s, row_s, col_s, edge_s)"
   ]
  },
  {
   "cell_type": "markdown",
   "metadata": {},
   "source": [
    "## Weighted Sampler \n",
    "\n",
    "For now at least try to modify or add neighbor_sample"
   ]
  },
  {
   "cell_type": "code",
   "execution_count": 6,
   "metadata": {},
   "outputs": [],
   "source": [
    "## To do"
   ]
  },
  {
   "cell_type": "code",
   "execution_count": 7,
   "metadata": {},
   "outputs": [],
   "source": [
    "import sys\n",
    "#import torch\n",
    "#sys.path.append(\"/home/sferdou/CPPSamplerNew/build/src\")\n",
    "\n",
    "sys.path.append(\"/home/das90/GNNcodes/CVE2020/GNN-NC/Graph-Sparsification/CPPsamplerPy/build/src\")\n",
    "\n",
    "import sampling_module"
   ]
  },
  {
   "cell_type": "code",
   "execution_count": 8,
   "metadata": {},
   "outputs": [
    {
     "data": {
      "text/plain": [
       "'\\ncolptr = torch.tensor([0, 2, 4], dtype=torch.int64)\\nrow = torch.tensor([1, 2, 2, 3], dtype=torch.int64)\\ninput_node = torch.tensor([0, 1], dtype=torch.int64)\\nnum_neighbors = [int(1), int(2)]  # Making sure the integers are explicit\\n\\nbinding_module.test()\\n#binding_module.sample1(colptr,row,input_node)\\nresult = binding_module.sample(colptr, row, input_node, num_neighbors)\\n\\nprint(result)\\n'"
      ]
     },
     "execution_count": 8,
     "metadata": {},
     "output_type": "execute_result"
    }
   ],
   "source": [
    "'''\n",
    "colptr = torch.tensor([0, 2, 4], dtype=torch.int64)\n",
    "row = torch.tensor([1, 2, 2, 3], dtype=torch.int64)\n",
    "input_node = torch.tensor([0, 1], dtype=torch.int64)\n",
    "num_neighbors = [int(1), int(2)]  # Making sure the integers are explicit\n",
    "\n",
    "binding_module.test()\n",
    "#binding_module.sample1(colptr,row,input_node)\n",
    "result = binding_module.sample(colptr, row, input_node, num_neighbors)\n",
    "\n",
    "print(result)\n",
    "'''"
   ]
  },
  {
   "cell_type": "code",
   "execution_count": 13,
   "metadata": {},
   "outputs": [
    {
     "name": "stdout",
     "output_type": "stream",
     "text": [
      "(tensor([0, 1, 3, 4, 5, 6]), tensor([1, 2, 0, 0, 3, 4, 5]), tensor([0, 0, 1, 2, 2, 2, 2]), tensor([0, 1, 3, 6, 7, 8, 9]))\n"
     ]
    }
   ],
   "source": [
    "\n",
    "result = sampling_module.sample(\n",
    "    colptr,\n",
    "    row,\n",
    "    index,\n",
    "    num_neighbors\n",
    ")\n",
    "\n",
    "print(result)"
   ]
  },
  {
   "cell_type": "code",
   "execution_count": 12,
   "metadata": {},
   "outputs": [
    {
     "name": "stdout",
     "output_type": "stream",
     "text": [
      "(tensor([0, 4, 1, 3, 5]), tensor([2, 3, 1, 0, 3, 4, 0, 0, 1, 4, 3, 1]), tensor([0, 0, 0, 1, 1, 1, 2, 3, 3, 3, 4, 4]), tensor([ 0,  1,  2, 10, 11, 12,  3,  6,  7,  8, 14, 15]))\n"
     ]
    }
   ],
   "source": [
    "result = sampling_module.weighted_sample(\n",
    "    colptr,\n",
    "    row,\n",
    "    index,\n",
    "    num_neighbors,\n",
    "    weights,\n",
    "    True, #replace\n",
    "    False, #directed\n",
    ")\n",
    "\n",
    "print(result)"
   ]
  },
  {
   "cell_type": "code",
   "execution_count": null,
   "metadata": {},
   "outputs": [],
   "source": []
  }
 ],
 "metadata": {
  "kernelspec": {
   "display_name": "py38cu11",
   "language": "python",
   "name": "py38cu11"
  },
  "language_info": {
   "codemirror_mode": {
    "name": "ipython",
    "version": 3
   },
   "file_extension": ".py",
   "mimetype": "text/x-python",
   "name": "python",
   "nbconvert_exporter": "python",
   "pygments_lexer": "ipython3",
   "version": "3.8.13"
  },
  "varInspector": {
   "cols": {
    "lenName": 16,
    "lenType": 16,
    "lenVar": 40
   },
   "kernels_config": {
    "python": {
     "delete_cmd_postfix": "",
     "delete_cmd_prefix": "del ",
     "library": "var_list.py",
     "varRefreshCmd": "print(var_dic_list())"
    },
    "r": {
     "delete_cmd_postfix": ") ",
     "delete_cmd_prefix": "rm(",
     "library": "var_list.r",
     "varRefreshCmd": "cat(var_dic_list()) "
    }
   },
   "types_to_exclude": [
    "module",
    "function",
    "builtin_function_or_method",
    "instance",
    "_Feature"
   ],
   "window_display": false
  }
 },
 "nbformat": 4,
 "nbformat_minor": 4
}
