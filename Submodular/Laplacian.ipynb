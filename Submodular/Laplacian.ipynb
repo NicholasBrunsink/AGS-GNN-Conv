{
 "cells": [
  {
   "cell_type": "code",
   "execution_count": 1,
   "metadata": {
    "scrolled": true
   },
   "outputs": [
    {
     "name": "stdout",
     "output_type": "stream",
     "text": [
      "There are 1 GPU(s) available.\n",
      "We will use the GPU: NVIDIA A10\n",
      "cuda\n",
      "Cpu count:  32\n"
     ]
    }
   ],
   "source": [
    "import random\n",
    "import multiprocessing\n",
    "import pandas as pd\n",
    "import os\n",
    "import torch\n",
    "\n",
    "NUM_GPUS=0\n",
    "\n",
    "try:\n",
    "    if torch.cuda.is_available():  \n",
    "        device = torch.device(\"cuda\")\n",
    "        NUM_GPUS=torch.cuda.device_count()\n",
    "        print('There are %d GPU(s) available.' % NUM_GPUS)\n",
    "        print('We will use the GPU:', torch.cuda.get_device_name())# If not...\n",
    "    else:\n",
    "        print('No GPU available, using the CPU instead.')\n",
    "        device = torch.device(\"cpu\")  \n",
    "except:\n",
    "    print('Cuda error using CPU instead.')\n",
    "    device = torch.device(\"cpu\")  \n",
    "    \n",
    "print(device)\n",
    "\n",
    "# device = torch.device(\"cpu\")  \n",
    "# print(device)\n",
    "\n",
    "NUM_PROCESSORS=multiprocessing.cpu_count()\n",
    "print(\"Cpu count: \",NUM_PROCESSORS)"
   ]
  },
  {
   "cell_type": "code",
   "execution_count": 2,
   "metadata": {
    "scrolled": true
   },
   "outputs": [
    {
     "name": "stdout",
     "output_type": "stream",
     "text": [
      "Data directory:  /scratch/gilbreth/das90/Dataset/\n",
      "Result directory: /scratch/gilbreth/das90/Dataset/RESULTS/\n"
     ]
    }
   ],
   "source": [
    "from pathlib import Path\n",
    "\n",
    "if os.uname()[1].find('gilbreth')==0: ##if not darwin(mac/locallaptop)\n",
    "    DIR='/scratch/gilbreth/das90/Dataset/'\n",
    "elif os.uname()[1].find('unimodular')==0:\n",
    "    DIR='/scratch2/das90/Dataset/'\n",
    "elif os.uname()[1].find('Siddharthas')==0:\n",
    "    DIR='/Users/siddharthashankardas/Purdue/Dataset/'  \n",
    "else:\n",
    "    DIR='./Dataset/'\n",
    "    \n",
    "Path(DIR).mkdir(parents=True, exist_ok=True)\n",
    "\n",
    "RESULTS_DIR=DIR+'RESULTS/'\n",
    "Path(RESULTS_DIR).mkdir(parents=True, exist_ok=True)\n",
    "\n",
    "print(\"Data directory: \", DIR)\n",
    "print(\"Result directory:\", RESULTS_DIR)"
   ]
  },
  {
   "cell_type": "markdown",
   "metadata": {},
   "source": [
    "## Packages"
   ]
  },
  {
   "cell_type": "code",
   "execution_count": 3,
   "metadata": {
    "scrolled": true
   },
   "outputs": [],
   "source": [
    "import torch.nn as nn\n",
    "import numpy as np\n",
    "from torch.nn import init\n",
    "from random import shuffle, randint\n",
    "import torch.nn.functional as F\n",
    "from itertools import combinations, combinations_with_replacement\n",
    "from sklearn.metrics import f1_score, accuracy_score\n",
    "from sklearn.decomposition import TruncatedSVD\n",
    "import matplotlib.pyplot as plt\n",
    "import sys\n",
    "from torch_geometric.data import Data\n",
    "import logging\n",
    "import time\n",
    "\n",
    "import argparse\n",
    "import os.path as osp\n",
    "import math"
   ]
  },
  {
   "cell_type": "markdown",
   "metadata": {},
   "source": [
    "## Dataset"
   ]
  },
  {
   "cell_type": "code",
   "execution_count": 4,
   "metadata": {},
   "outputs": [],
   "source": [
    "from ipynb.fs.full.Dataset import get_data\n",
    "from ipynb.fs.full.Utils import save_plot\n",
    "\n",
    "import ipynb.fs.full.utils.MoonGraph as MoonGraph\n",
    "import networkx as nx\n",
    "from torch_geometric.utils import to_networkx, from_networkx\n",
    "import torch_geometric.utils.homophily as homophily"
   ]
  },
  {
   "cell_type": "markdown",
   "metadata": {},
   "source": [
    "### GCN model"
   ]
  },
  {
   "cell_type": "code",
   "execution_count": 5,
   "metadata": {},
   "outputs": [],
   "source": [
    "import torch.distributed as dist\n",
    "import torch.multiprocessing as mp\n",
    "from torch.nn.parallel import DistributedDataParallel\n",
    "from tqdm import tqdm\n",
    "\n",
    "from torch_geometric.loader import NeighborSampler, NeighborLoader\n",
    "from torch_geometric.nn import SAGEConv\n",
    "from torch_geometric.nn import GCNConv\n",
    "from torch_geometric.loader import GraphSAINTRandomWalkSampler, GraphSAINTNodeSampler, GraphSAINTEdgeSampler, GraphSAINTSampler\n",
    "from torch_geometric.nn import GraphConv\n",
    "from torch_geometric.utils import degree"
   ]
  },
  {
   "cell_type": "code",
   "execution_count": 6,
   "metadata": {
    "scrolled": true
   },
   "outputs": [],
   "source": [
    "class Net(torch.nn.Module):\n",
    "    def __init__(self, num_features, num_classes, hidden_channels):\n",
    "        super().__init__()\n",
    "        torch.manual_seed(1234567)\n",
    "        in_channels = num_features\n",
    "        out_channels = num_classes\n",
    "        self.conv1 = GraphConv(in_channels, hidden_channels)\n",
    "        self.conv2 = GraphConv(hidden_channels, hidden_channels)\n",
    "        self.conv3 = GraphConv(hidden_channels, hidden_channels)\n",
    "        self.lin = torch.nn.Linear(3 * hidden_channels, out_channels)\n",
    "\n",
    "    def set_aggr(self, aggr):\n",
    "        self.conv1.aggr = aggr\n",
    "        self.conv2.aggr = aggr\n",
    "        self.conv3.aggr = aggr\n",
    "\n",
    "    def forward(self, x0, edge_index, edge_weight=None):\n",
    "        x1 = F.relu(self.conv1(x0, edge_index, edge_weight))\n",
    "        x1 = F.dropout(x1, p=0.2, training=self.training)\n",
    "        x2 = F.relu(self.conv2(x1, edge_index, edge_weight))\n",
    "        x2 = F.dropout(x2, p=0.2, training=self.training)\n",
    "        x3 = F.relu(self.conv3(x2, edge_index, edge_weight))\n",
    "        x3 = F.dropout(x3, p=0.2, training=self.training)\n",
    "        x = torch.cat([x1, x2, x3], dim=-1)\n",
    "        x = self.lin(x)\n",
    "        return x.log_softmax(dim=-1)"
   ]
  },
  {
   "cell_type": "code",
   "execution_count": 7,
   "metadata": {
    "scrolled": true
   },
   "outputs": [],
   "source": [
    "def train(model, data, dataset, epochs=10):\n",
    "        \n",
    "    optimizer = torch.optim.Adam(model.parameters(), lr=0.001)\n",
    "    criterion = torch.nn.CrossEntropyLoss()\n",
    "    \n",
    "    row, col = data.edge_index\n",
    "    data.edge_weight = 1. / degree(col, data.num_nodes)[col]  # Norm by in-degree.\n",
    "\n",
    "    parser = argparse.ArgumentParser()\n",
    "    #parser.add_argument('--use_normalization', action='store_true')    \n",
    "    parser.add_argument('--use_normalization', action='store_false', default=False)    \n",
    "    parser.add_argument('-f')\n",
    "    args = parser.parse_args()\n",
    "    \n",
    "    \n",
    "    batch_size=6000 #6000\n",
    "    num_steps=math.ceil(data.num_nodes/batch_size)\n",
    "    #num_steps=5\n",
    "\n",
    "    loader = GraphSAINTRandomWalkSampler(data, batch_size=batch_size, walk_length=2,\n",
    "                                         num_steps=num_steps, sample_coverage=100,\n",
    "                                         save_dir=dataset.processed_dir,\n",
    "                                         num_workers=0)\n",
    "\n",
    "#     loader = GraphSAINTNodeSampler(data, batch_size=batch_size,\n",
    "#                                num_steps=num_steps, sample_coverage=100,\n",
    "#                                save_dir=dataset.processed_dir,\n",
    "#                                num_workers=6)\n",
    "\n",
    "#         loader = GraphSAINTEdgeSampler(data, batch_size=batch_size,\n",
    "#                                        num_steps=num_steps, sample_coverage=100,\n",
    "#                                        save_dir=dataset.processed_dir,\n",
    "#                                        num_workers=6)\n",
    "    \n",
    "  \n",
    "    \n",
    "    best_acc=0    \n",
    "    train_losses = []; val_accuracies = []; train_accuracies = []; test_accuracies = []\n",
    "    \n",
    "    for epoch in range(1,epochs+1):\n",
    "        \n",
    "        #pbar = tqdm(total=int(sum(data.train_mask)))\n",
    "        pbar = tqdm(total=batch_size*num_steps)\n",
    "        pbar.set_description(f'Epoch {epoch:02d}')\n",
    "        \n",
    "        model.train()\n",
    "        model.set_aggr('add' if args.use_normalization else 'mean')\n",
    "\n",
    "        total_loss = total_examples = 0\n",
    "        \n",
    "        for i,batch_data in enumerate(loader):\n",
    "            \n",
    "            #print(batch_data);print(\"*\"*50)\n",
    "            \n",
    "            batch_data = batch_data.to(device)\n",
    "            optimizer.zero_grad()\n",
    "\n",
    "            if args.use_normalization:\n",
    "                edge_weight = batch_data.edge_norm * batch_data.edge_weight\n",
    "                out = model(batch_data.x, batch_data.edge_index, edge_weight)\n",
    "                #loss = F.nll_loss(out, batch_data.y, reduction='none')\n",
    "                loss = criterion(out, batch_data.y, reduction='none')\n",
    "                loss = (loss * batch_data.node_norm)[batch_data.train_mask].sum()\n",
    "            else:\n",
    "                out = model(batch_data.x, batch_data.edge_index)\n",
    "                #loss = F.nll_loss(out[batch_data.train_mask], batch_data.y[batch_data.train_mask])\n",
    "                loss = criterion(out[batch_data.train_mask], batch_data.y[batch_data.train_mask])\n",
    "\n",
    "            loss.backward()\n",
    "            optimizer.step()\n",
    "            total_loss += loss.item() * batch_data.num_nodes\n",
    "            total_examples += batch_data.num_nodes\n",
    "        \n",
    "            pbar.update(batch_size)\n",
    "\n",
    "        pbar.close()\n",
    "        \n",
    "        loss=total_loss / total_examples\n",
    "        \n",
    "        #print(\"Training Loss: \",loss)\n",
    "        train_losses.append(loss)\n",
    "                \n",
    "#         ##EVALUATION\n",
    "#         if epoch % 5 == 0:            \n",
    "        \n",
    "        \n",
    "        \n",
    "        model.eval()\n",
    "        model.set_aggr('mean')\n",
    "        \n",
    "        \n",
    "        #for small dataset        \n",
    "        with torch.no_grad():\n",
    "            out = model(data.x.to(device), data.edge_index.to(device))\n",
    "            pred = out.argmax(dim=-1)\n",
    "            correct = pred.eq(data.y.to(device))\n",
    "\n",
    "        accs = []\n",
    "        for _, mask in data('train_mask', 'val_mask', 'test_mask'):\n",
    "            accs.append(correct[mask].sum().item() / mask.sum().item()) \n",
    "        \n",
    "#         # for large dataset\n",
    "#         with torch.no_grad():\n",
    "            \n",
    "        \n",
    "            \n",
    "        #print(accs)\n",
    "        train_accuracies.append(accs[0])\n",
    "        val_accuracies.append(accs[1])\n",
    "        test_accuracies.append(accs[2])\n",
    "        std_dev = np.std(train_losses[-5:])\n",
    "        \n",
    "        print(f'Epoch: {epoch:03d}, Train Loss: {loss:.4f}, Train: {accs[0]:.4f}, Val: {accs[1]:.4f}, Test: {accs[2]:.4f}, Std dev: {std_dev:.4f}')\n",
    "        \n",
    "        if epoch>=5 and std_dev<=1e-3:\n",
    "            print(\"Iteration for convergence: \", epoch)\n",
    "            break\n",
    "                \n",
    "    save_plot([train_losses, train_accuracies, val_accuracies, test_accuracies], labels=['Loss','Train','Validation','Test'], name='Plots/Validation', yname='Accuracy', xname='Epoch')\n",
    "    \n",
    "    print (\"Best Validation Accuracy, \",max(val_accuracies))\n",
    "    print (\"Best Test Accuracy, \",max(test_accuracies))\n",
    "    \n",
    "    return model\n"
   ]
  },
  {
   "cell_type": "code",
   "execution_count": 8,
   "metadata": {
    "scrolled": false
   },
   "outputs": [],
   "source": [
    "def GSAINTperformance(data, dataset, epochs=20):\n",
    "    model = Net(dataset.num_features, dataset.num_classes, hidden_channels=256).to(device)        \n",
    "    print(model)\n",
    "    \n",
    "    model = train(model, data, dataset, epochs)\n",
    "    \n",
    "    return model"
   ]
  },
  {
   "cell_type": "code",
   "execution_count": 9,
   "metadata": {},
   "outputs": [
    {
     "name": "stdout",
     "output_type": "stream",
     "text": [
      "Data directory:  /scratch/gilbreth/das90/Dataset/\n",
      "Result directory: /scratch/gilbreth/das90/Dataset/RESULTS/\n",
      "\n",
      "Dataset: KarateClub():\n",
      "======================\n",
      "Number of graphs: 1\n",
      "Number of features: 34\n",
      "Number of classes: 4\n",
      "\n",
      "Data(x=[34, 34], edge_index=[2, 156], y=[34], train_mask=[34], val_mask=[34], test_mask=[34])\n",
      "===========================================================================================================\n",
      "Number of nodes: 34\n",
      "Number of edges: 156\n",
      "Average node degree: 4.59\n",
      "Number of training nodes: 4\n",
      "Training node label rate: 0.12\n",
      "Has isolated nodes: False\n",
      "Has self-loops: False\n",
      "Is undirected: True\n"
     ]
    },
    {
     "data": {
      "text/plain": [
       "Data(x=[34, 34], edge_index=[2, 156], y=[34], train_mask=[34], val_mask=[34], test_mask=[34])"
      ]
     },
     "execution_count": 9,
     "metadata": {},
     "output_type": "execute_result"
    }
   ],
   "source": [
    "data, dataset = get_data('karate')\n",
    "if data.y.ndim>1:\n",
    "    data.y = data.y.argmax(dim=1)\n",
    "data"
   ]
  },
  {
   "cell_type": "code",
   "execution_count": 10,
   "metadata": {},
   "outputs": [],
   "source": [
    "file_path = '/scratch/gilbreth/das90/Dataset/heterophily/graphsaintrandomwalksampler_2_100.pt'\n",
    "if os.path.exists(file_path):\n",
    "    !rm '/scratch/gilbreth/das90/Dataset/heterophily/graphsaintrandomwalksampler_2_100.pt'\n",
    "    None"
   ]
  },
  {
   "cell_type": "code",
   "execution_count": 11,
   "metadata": {},
   "outputs": [],
   "source": [
    "#model  = GSAINTperformance(data, dataset, epochs=150)"
   ]
  },
  {
   "cell_type": "markdown",
   "metadata": {},
   "source": [
    "### Main function"
   ]
  },
  {
   "cell_type": "code",
   "execution_count": 12,
   "metadata": {
    "scrolled": false
   },
   "outputs": [],
   "source": [
    "if __name__ == '__main__':    \n",
    "    \n",
    "#     data, dataset = get_data('Cora')\n",
    "#     GSAINTperformance(data, dataset, epochs=50)\n",
    "    \n",
    "    None\n",
    "    "
   ]
  },
  {
   "cell_type": "code",
   "execution_count": 13,
   "metadata": {},
   "outputs": [],
   "source": [
    "import networkx as nx\n",
    "import matplotlib.pyplot as plt\n",
    "import torch_geometric\n",
    "from  torch_geometric.utils import remove_self_loops"
   ]
  },
  {
   "cell_type": "code",
   "execution_count": 14,
   "metadata": {},
   "outputs": [],
   "source": [
    "from scipy.sparse import csr_matrix\n",
    "from scipy.sparse.linalg import eigs\n",
    "import numpy as np\n",
    "from scipy import linalg\n",
    "from sklearn.neighbors import NearestNeighbors"
   ]
  },
  {
   "cell_type": "code",
   "execution_count": 15,
   "metadata": {
    "scrolled": true
   },
   "outputs": [
    {
     "data": {
      "image/png": "[encoded data removed]",
      "text/plain": [
       "<Figure size 432x288 with 1 Axes>"
      ]
     },
     "metadata": {},
     "output_type": "display_data"
    }
   ],
   "source": [
    "def get_pos(edge_index = data.edge_index, y = data.y, n = data.num_nodes):\n",
    "    G = nx.Graph()\n",
    "    nodes = range(n)\n",
    "    G.add_nodes_from(nodes)\n",
    "    edges = edge_index.t().tolist()\n",
    "    G.add_edges_from(edges)\n",
    "    pos = nx.spring_layout(G)\n",
    "    \n",
    "    return pos\n",
    "\n",
    "def draw_graph(edge_index = data.edge_index, y = data.y, n = data.num_nodes, pos = None):\n",
    "    # Create a random graph\n",
    "    #edge_index = data.edge_index\n",
    "\n",
    "    # Convert the edge index to a NetworkX graph\n",
    "    G = nx.Graph()\n",
    "    nodes = range(n)\n",
    "    G.add_nodes_from(nodes)\n",
    "    edges = edge_index.t().tolist()\n",
    "    G.add_edges_from(edges)\n",
    "\n",
    "    # Plot the graph\n",
    "    if pos is None:\n",
    "        pos = nx.spring_layout(G)\n",
    "        #pos = nx.random_layout(G)\n",
    "        #pos = nx.spectral_layout(G)\n",
    "    nx.draw(G, pos, with_labels=True, node_color=y.tolist(), cmap=plt.cm.get_cmap('cool', max(y)+1))\n",
    "    plt.show()\n",
    "\n",
    "draw_graph(data.edge_index, data.y, data.num_nodes)"
   ]
  },
  {
   "cell_type": "code",
   "execution_count": 16,
   "metadata": {},
   "outputs": [],
   "source": [
    "def update_adjacency_matrix(A, k=10):\n",
    "    \n",
    "#     A = np.array([[0, 1, 0, 1],\n",
    "#                        [1, 0, 1, 0],\n",
    "#                        [0, 1, 0, 1],\n",
    "#                        [1, 0, 1, 0]])\n",
    "\n",
    "    # Compute the eigenvalues and eigenvectors of A\n",
    "    eigvals, eigvecs = linalg.eig(A)\n",
    "\n",
    "    # Remove the zero eigenvalue and its corresponding eigenvector\n",
    "    nonzero_eigvals = eigvals[eigvals != 0]\n",
    "    nonzero_eigvecs = eigvecs[:, eigvals != 0]\n",
    "\n",
    "    # Sort the nonzero eigenvalues and eigenvectors in ascending order\n",
    "    sorted_indices = np.argsort(nonzero_eigvals)\n",
    "    sorted_eigvals = nonzero_eigvals[sorted_indices]\n",
    "    sorted_eigvecs = nonzero_eigvecs[:, sorted_indices]\n",
    "\n",
    "    # Find the top k smallest and largest nonzero eigenvalues and eigenvectors\n",
    "    smallest_eigvals = sorted_eigvals[:k]\n",
    "    smallest_eigvecs = sorted_eigvecs[:, :k]\n",
    "    largest_eigvals = sorted_eigvals[-k:]\n",
    "    largest_eigvecs = sorted_eigvecs[:, -k:]\n",
    "\n",
    "    # Print the results\n",
    "    print(\"The top\", k, \"smallest nonzero eigenvalues are:\")\n",
    "    print(smallest_eigvals)\n",
    "    print(\"The corresponding eigenvectors are:\")\n",
    "    print(smallest_eigvecs)\n",
    "    print(\"The top\", k, \"largest nonzero eigenvalues are:\")\n",
    "    print(largest_eigvals)\n",
    "    print(\"The corresponding eigenvectors are:\")\n",
    "    print(largest_eigvecs)\n",
    "\n",
    "#     # Generate the updated adjacency matrix by adding the smallest and largest eigenvectors as new rows and columns\n",
    "#     updated_A = np.block([[A, smallest_eigvecs, largest_eigvecs],\n",
    "#                           [smallest_eigvecs.T, np.zeros((k, k)), np.zeros((k, k))],\n",
    "#                           [largest_eigvecs.T, np.zeros((k, k)), np.zeros((k, k))]])\n",
    "    # Construct the updated adjacency matrix\n",
    "#     updated_A = np.matmul(largest_eigvecs, np.matmul(np.diag(largest_eigvals), np.transpose(largest_eigvecs)))\n",
    "    #updated_A += np.matmul(smallest_eigvecs, np.matmul(np.diag(smallest_eigvals), np.transpose(smallest_eigvecs)))\n",
    "    updated_A = np.matmul(smallest_eigvecs, np.matmul(np.diag(smallest_eigvals), np.transpose(smallest_eigvecs)))\n",
    "\n",
    "\n",
    "    # Print the updated adjacency matrix\n",
    "    print(\"The updated adjacency matrix is:\")\n",
    "    print(updated_A)\n",
    "    \n",
    "    return updated_A"
   ]
  },
  {
   "cell_type": "code",
   "execution_count": 17,
   "metadata": {},
   "outputs": [],
   "source": [
    "adj_mat = torch.zeros((data.num_nodes,data.num_nodes))\n",
    "edges = data.edge_index.t()\n",
    "adj_mat[edges[:,0], edges[:,1]] = 1\n",
    "\n"
   ]
  },
  {
   "cell_type": "code",
   "execution_count": 18,
   "metadata": {},
   "outputs": [
    {
     "name": "stdout",
     "output_type": "stream",
     "text": [
      "The top 5 smallest nonzero eigenvalues are:\n",
      "[-4.4872303+0.j -3.4479363+0.j -3.1106954+0.j -2.4374232+0.j\n",
      " -2.0908244+0.j]\n",
      "The corresponding eigenvectors are:\n",
      "[[-3.17170262e-01+0.j  2.77299166e-01+0.j  5.54685771e-01+0.j\n",
      "  -1.71391606e-01+0.j  1.87498028e-03+0.j]\n",
      " [-1.24961369e-01+0.j  1.07877426e-01+0.j  1.70376934e-02+0.j\n",
      "   6.65422916e-01+0.j -4.15284410e-02+0.j]\n",
      " [-2.72615869e-02+0.j -5.39242685e-01+0.j  1.33276999e-01+0.j\n",
      "  -1.06188521e-01+0.j  7.66134262e-02+0.j]\n",
      " [ 1.92223843e-02+0.j  1.99072789e-02+0.j -5.44906482e-02+0.j\n",
      "  -9.63859484e-02+0.j  6.46598637e-02+0.j]\n",
      " [ 4.80742343e-02+0.j -4.90778200e-02+0.j -1.03269607e-01+0.j\n",
      "   3.46602090e-02+0.j -3.80217563e-04+0.j]\n",
      " [ 5.33759892e-02+0.j -5.90042919e-02+0.j -1.30175412e-01+0.j\n",
      "   5.22494391e-02+0.j -7.00872450e-04+0.j]\n",
      " [ 5.33759892e-02+0.j -5.90043105e-02+0.j -1.30175307e-01+0.j\n",
      "   5.22497296e-02+0.j -7.00248464e-04+0.j]\n",
      " [ 1.00322634e-01+0.j  3.89100313e-02+0.j -2.09120661e-01+0.j\n",
      "  -1.19576015e-01+0.j -4.86032218e-02+0.j]\n",
      " [ 2.20449701e-01+0.j  9.08621624e-02+0.j -1.21806294e-01+0.j\n",
      "   3.02531630e-01+0.j -3.97871397e-02+0.j]\n",
      " [ 1.22168586e-01+0.j  2.50201523e-01+0.j  6.97769981e-04+0.j\n",
      "   1.99468900e-02+0.j -7.97664151e-02+0.j]\n",
      " [ 4.80742604e-02+0.j -4.90777865e-02+0.j -1.03269510e-01+0.j\n",
      "   3.46604437e-02+0.j -3.79657198e-04+0.j]\n",
      " [ 7.06829801e-02+0.j -8.04246962e-02+0.j -1.78315714e-01+0.j\n",
      "   7.03167841e-02+0.j -8.96722486e-04+0.j]\n",
      " [ 6.63990453e-02+0.j -8.61984193e-02+0.j -1.60798579e-01+0.j\n",
      "   1.09860875e-01+0.j -3.18223238e-02+0.j]\n",
      " [ 2.16415882e-01+0.j  1.32715613e-01+0.j -1.65577859e-01+0.j\n",
      "  -1.43194899e-01+0.j -9.17264596e-02+0.j]\n",
      " [ 1.78794190e-01+0.j -2.57245684e-03+0.j  1.62383348e-01+0.j\n",
      "   4.36170287e-02+0.j  3.13453004e-02+0.j]\n",
      " [ 1.78794190e-01+0.j -2.57245684e-03+0.j  1.62383348e-01+0.j\n",
      "   4.36170287e-02+0.j  3.13453190e-02+0.j]\n",
      " [-2.37901490e-02+0.j  3.42258327e-02+0.j  8.36955756e-02+0.j\n",
      "  -4.28727455e-02+0.j  6.70106965e-04+0.j]\n",
      " [ 9.85311195e-02+0.j -1.11712314e-01+0.j -1.83792964e-01+0.j\n",
      "  -2.02685893e-01+0.j  1.89654101e-02+0.j]\n",
      " [ 1.78794190e-01+0.j -2.57245684e-03+0.j  1.62383348e-01+0.j\n",
      "   4.36170287e-02+0.j  3.13453153e-02+0.j]\n",
      " [ 2.14624345e-01+0.j -1.79064143e-02+0.j -1.40250117e-01+0.j\n",
      "  -2.26305008e-01+0.j -2.41579227e-02+0.j]\n",
      " [ 1.78794190e-01+0.j -2.57245684e-03+0.j  1.62383348e-01+0.j\n",
      "   4.36170287e-02+0.j  3.13453190e-02+0.j]\n",
      " [ 9.85311195e-02+0.j -1.11712314e-01+0.j -1.83792964e-01+0.j\n",
      "  -2.02685893e-01+0.j  1.89654399e-02+0.j]\n",
      " [ 1.78794190e-01+0.j -2.57245684e-03+0.j  1.62383348e-01+0.j\n",
      "   4.36170287e-02+0.j  3.13453637e-02+0.j]\n",
      " [ 1.44338191e-01+0.j -1.24887899e-01+0.j  1.73648492e-01+0.j\n",
      "   4.74433638e-02+0.j -5.09009421e-01+0.j]\n",
      " [-6.57208040e-02+0.j -6.71936646e-02+0.j  4.79658060e-02+0.j\n",
      "  -5.85888475e-02+0.j -4.03814197e-01+0.j]\n",
      " [-7.71022364e-02+0.j  1.08791001e-01+0.j -6.77279383e-02+0.j\n",
      "  -7.45371208e-02+0.j  3.89925569e-01+0.j]\n",
      " [ 8.77758935e-02+0.j  9.17658433e-02+0.j  1.03569515e-02+0.j\n",
      "  -4.03136425e-02+0.j -2.26324260e-01+0.j]\n",
      " [ 1.04648359e-01+0.j  3.05910945e-01+0.j -7.05448762e-02+0.j\n",
      "   2.45194267e-02+0.j  3.56819630e-01+0.j]\n",
      " [ 6.25865683e-02+0.j  3.03283662e-01+0.j  4.21261089e-03+0.j\n",
      "  -5.91629669e-02+0.j -1.26426652e-01+0.j]\n",
      " [ 1.27066448e-01+0.j  7.03396788e-03+0.j  1.03230760e-01+0.j\n",
      "   4.06918675e-02+0.j  3.83041024e-01+0.j]\n",
      " [ 1.57514170e-01+0.j -6.02126196e-02+0.j  1.96063399e-01+0.j\n",
      "  -3.53504866e-01+0.j  7.02370629e-02+0.j]\n",
      " [ 2.67358452e-01+0.j -1.83022469e-01+0.j -1.09335361e-02+0.j\n",
      "   1.92824110e-01+0.j  9.75586176e-02+0.j]\n",
      " [-2.81353801e-01+0.j  3.32305729e-01+0.j -3.69676322e-01+0.j\n",
      "  -1.63882941e-01+0.j -1.55701146e-01+0.j]\n",
      " [-5.20937085e-01+0.j -3.23436409e-01+0.j -1.35448143e-01+0.j\n",
      "   5.75697310e-02+0.j  9.01635960e-02+0.j]]\n",
      "The top 5 largest nonzero eigenvalues are:\n",
      "[1.4861591+0.j 2.3090868+0.j 2.9165046+0.j 4.9770727+0.j 6.725704 +0.j]\n",
      "The corresponding eigenvectors are:\n",
      "[[ 0.14300935+0.j -0.01422811+0.j -0.19785756+0.j -0.38686112+0.j\n",
      "   0.3554921 +0.j]\n",
      " [ 0.28969157+0.j  0.04906026+0.j  0.25029725+0.j -0.26893938+0.j\n",
      "   0.26595998+0.j]\n",
      " [-0.45963284+0.j -0.0765061 +0.j  0.24667491+0.j -0.13115945+0.j\n",
      "   0.31719267+0.j]\n",
      " [-0.10742188+0.j -0.04515485+0.j  0.22492997+0.j -0.2529454 +0.j\n",
      "   0.2111799 +0.j]\n",
      " [-0.01416178+0.j  0.04886479+0.j -0.32483652+0.j -0.13389693+0.j\n",
      "   0.07596885+0.j]\n",
      " [-0.1498939 +0.j  0.07819638+0.j -0.42469415+0.j -0.145657  +0.j\n",
      "   0.0794831 +0.j]\n",
      " [-0.14989407+0.j  0.07819638+0.j -0.424694  +0.j -0.145657  +0.j\n",
      "   0.0794831 +0.j]\n",
      " [-0.09040323+0.j -0.03760303+0.j  0.17968233+0.j -0.20893897+0.j\n",
      "   0.17095986+0.j]\n",
      " [-0.13025141+0.j  0.16021775+0.j  0.01500152+0.j  0.05501477+0.j\n",
      "   0.22740379+0.j]\n",
      " [-0.28512874+0.j  0.00519837+0.j  0.07282689+0.j  0.04810651+0.j\n",
      "   0.10267422+0.j]\n",
      " [-0.01416176+0.j  0.04886471+0.j -0.3248366 +0.j -0.13389686+0.j\n",
      "   0.07596885+0.j]\n",
      " [ 0.09622726+0.j -0.0061618 +0.j -0.06784052+0.j -0.07772855+0.j\n",
      "   0.05285576+0.j]\n",
      " [ 0.02394592+0.j -0.02571699+0.j  0.00928241+0.j -0.12855059+0.j\n",
      "   0.08425467+0.j]\n",
      " [-0.06625633+0.j  0.00072785+0.j  0.16793022+0.j -0.13447967+0.j\n",
      "   0.22647269+0.j]\n",
      " [ 0.00634142+0.j  0.11183108+0.j -0.02451934+0.j  0.13966934+0.j\n",
      "   0.10140311+0.j]\n",
      " [ 0.00634147+0.j  0.11183102+0.j -0.02451934+0.j  0.13966934+0.j\n",
      "   0.10140311+0.j]\n",
      " [-0.20171995+0.j  0.06772925+0.j -0.29123473+0.j -0.05853122+0.j\n",
      "   0.02363568+0.j]\n",
      " [ 0.29115376+0.j  0.01508475+0.j  0.01798033+0.j -0.13176413+0.j\n",
      "   0.09239962+0.j]\n",
      " [ 0.00634143+0.j  0.11183106+0.j -0.02451934+0.j  0.13966934+0.j\n",
      "   0.10140311+0.j]\n",
      " [ 0.31530073+0.j  0.05341571+0.j  0.00622827+0.j -0.05730486+0.j\n",
      "   0.14791234+0.j]\n",
      " [ 0.00634143+0.j  0.11183104+0.j -0.02451934+0.j  0.13966934+0.j\n",
      "   0.10140311+0.j]\n",
      " [ 0.29115382+0.j  0.01508475+0.j  0.01798033+0.j -0.13176413+0.j\n",
      "   0.09239962+0.j]\n",
      " [ 0.00634145+0.j  0.11183106+0.j -0.02451934+0.j  0.13966934+0.j\n",
      "   0.10140311+0.j]\n",
      " [ 0.1080567 +0.j -0.20260291+0.j -0.07299493+0.j  0.21704698+0.j\n",
      "   0.15011838+0.j]\n",
      " [ 0.04317216+0.j -0.5047714 +0.j -0.07776515+0.j  0.05641262+0.j\n",
      "   0.05705243+0.j]\n",
      " [ 0.16039182+0.j -0.47499225+0.j -0.10179923+0.j  0.07548494+0.j\n",
      "   0.05920645+0.j]\n",
      " [ 0.14132386+0.j  0.06002024+0.j -0.03256977+0.j  0.11596532+0.j\n",
      "   0.07557936+0.j]\n",
      " [-0.1833704 +0.j -0.3011458 +0.j  0.02113484+0.j  0.10305036+0.j\n",
      "   0.13347709+0.j]\n",
      " [-0.22649507+0.j -0.16345045+0.j  0.0227195 +0.j  0.06864767+0.j\n",
      "   0.13107766+0.j]\n",
      " [ 0.17414339+0.j  0.05008238+0.j -0.06071485+0.j  0.20657852+0.j\n",
      "   0.13496062+0.j]\n",
      " [ 0.113625  +0.j  0.20246336+0.j  0.06644539+0.j  0.0966874 +0.j\n",
      "   0.17475818+0.j]\n",
      " [ 0.08713908+0.j -0.38942468+0.j -0.14613833+0.j  0.1022348 +0.j\n",
      "   0.19103369+0.j]\n",
      " [-0.02646175+0.j  0.16971844+0.j -0.03723567+0.j  0.32455617+0.j\n",
      "   0.308644  +0.j]\n",
      " [ 0.03588615+0.j  0.08850931+0.j -0.03427518+0.j  0.3705897 +0.j\n",
      "   0.3733632 +0.j]]\n",
      "The updated adjacency matrix is:\n",
      "[[-1.7452245 +0.j -0.03224175+0.j  0.2021512 +0.j ...  0.6545343 +0.j\n",
      "  -0.14813928+0.j -0.17475864+0.j]\n",
      " [-0.03224172+0.j -1.1939648 +0.j  0.35710502+0.j ... -0.08570237+0.j\n",
      "  -0.00948852+0.j -0.2501676 +0.j]\n",
      " [ 0.20215118+0.j  0.35710502+0.j -1.1009463 +0.j ... -0.26876992+0.j\n",
      "   0.7192156 +0.j -0.6084704 +0.j]\n",
      " ...\n",
      " [ 0.6545343 +0.j -0.08570235+0.j -0.26876992+0.j ... -0.54714376+0.j\n",
      "   0.6434519 +0.j  0.37080768+0.j]\n",
      " [-0.1481392 +0.j -0.00948852+0.j  0.7192156 +0.j ...  0.6434519 +0.j\n",
      "  -1.277215  +0.j -0.39050943+0.j]\n",
      " [-0.17475854+0.j -0.2501676 +0.j -0.6084704 +0.j ...  0.37080762+0.j\n",
      "  -0.39050943+0.j -1.6605618 +0.j]]\n"
     ]
    },
    {
     "data": {
      "text/plain": [
       "(34, 34)"
      ]
     },
     "execution_count": 18,
     "metadata": {},
     "output_type": "execute_result"
    }
   ],
   "source": [
    "adj2 = update_adjacency_matrix(adj_mat, k=5)\n",
    "adj2.shape"
   ]
  },
  {
   "cell_type": "code",
   "execution_count": 19,
   "metadata": {},
   "outputs": [
    {
     "name": "stdout",
     "output_type": "stream",
     "text": [
      "(34, 34)\n",
      "108\n",
      "156\n",
      "108\n"
     ]
    },
    {
     "data": {
      "image/png": "[encoded data removed]",
      "text/plain": [
       "<Figure size 432x288 with 1 Axes>"
      ]
     },
     "metadata": {},
     "output_type": "display_data"
    },
    {
     "data": {
      "image/png": "[encoded data removed]",
      "text/plain": [
       "<Figure size 432x288 with 1 Axes>"
      ]
     },
     "metadata": {},
     "output_type": "display_data"
    }
   ],
   "source": [
    "adj3 = (adj2>0.30).astype(int)\n",
    "\n",
    "print(adj3.shape)\n",
    "\n",
    "edges = adj3.nonzero()\n",
    "\n",
    "print(len(edges[0]))\n",
    "edge_index = torch.LongTensor([edges[0],edges[1]])\n",
    "edge_index, _ = remove_self_loops(edge_index)\n",
    "\n",
    "print(len(data.edge_index[0]))\n",
    "print(len(edge_index[0]))\n",
    "#print(edge_index)\n",
    "\n",
    "pos  = get_pos()\n",
    "draw_graph(data.edge_index, data.y, data.num_nodes,pos)\n",
    "draw_graph(edge_index, data.y, data.num_nodes, pos)"
   ]
  },
  {
   "cell_type": "code",
   "execution_count": 20,
   "metadata": {},
   "outputs": [],
   "source": [
    "import networkx as nx\n",
    "\n",
    "# Define a graph\n",
    "G = nx.Graph()\n",
    "G.add_edges_from([(0, 1), (1, 2), (2, 3), (3, 4), (4, 5)])\n",
    "\n",
    "# Compute the k-max cover of the graph\n",
    "k = 2\n",
    "\n",
    "#cover = nx.algorithms.approximation.vertex_cover.min_weighted_vertex_cover(G, weight=lambda x: 1)\n"
   ]
  },
  {
   "cell_type": "code",
   "execution_count": 21,
   "metadata": {},
   "outputs": [
    {
     "name": "stdout",
     "output_type": "stream",
     "text": [
      "[0, 1, 2, 3, 4, 5, 7, 9]\n",
      "[(0, 3), (0, 1), (0, 5), (0, 7), (1, 9), (1, 4), (1, 2), (2, 5), (2, 9), (2, 4), (3, 5), (3, 7), (3, 9), (4, 9), (5, 7), (7, 9)]\n"
     ]
    }
   ],
   "source": [
    "# create a graph with 10 nodes and 20 edges\n",
    "G = nx.gnm_random_graph(10, 20)\n",
    "# find the 3-core of the graph\n",
    "C = nx.k_core(G, k=3)\n",
    "# print the nodes and edges of the core\n",
    "print(C.nodes())\n",
    "print(C.edges())"
   ]
  },
  {
   "cell_type": "code",
   "execution_count": 22,
   "metadata": {},
   "outputs": [],
   "source": [
    "# nn = NearestNeighbors(n_neighbors=2, metric=\"cosine\")\n",
    "# nn.fit(data.x)\n",
    "# distances, indices = nn.kneighbors(data.x)\n"
   ]
  },
  {
   "cell_type": "code",
   "execution_count": 23,
   "metadata": {},
   "outputs": [],
   "source": [
    "# u = []\n",
    "# v = []\n",
    "\n",
    "# # Loop through each row of indices and distances\n",
    "# for i in range(len(indices)):\n",
    "#     # Loop through each neighbor index and distance\n",
    "#     for j in range(len(indices[i])):\n",
    "#         # Skip the self-loop edge\n",
    "#         if i == indices[i][j]:\n",
    "#             continue\n",
    "#         u.append(i)\n",
    "#         v.append(indices[i][j])"
   ]
  },
  {
   "cell_type": "code",
   "execution_count": 24,
   "metadata": {},
   "outputs": [],
   "source": [
    "# edge_index = torch.LongTensor([u,v])\n",
    "# data.edge_index = edge_index\n",
    "# edge_index.shape"
   ]
  },
  {
   "cell_type": "code",
   "execution_count": 25,
   "metadata": {},
   "outputs": [],
   "source": [
    "# file_path = '/scratch/gilbreth/das90/Dataset/heterophily/graphsaintrandomwalksampler_2_100.pt'\n",
    "# if os.path.exists(file_path):\n",
    "#     !rm '/scratch/gilbreth/das90/Dataset/heterophily/graphsaintrandomwalksampler_2_100.pt'\n",
    "#     None"
   ]
  },
  {
   "cell_type": "code",
   "execution_count": 26,
   "metadata": {},
   "outputs": [],
   "source": [
    "# model  = GSAINTperformance(data, dataset, epochs=50)"
   ]
  },
  {
   "cell_type": "code",
   "execution_count": 27,
   "metadata": {
    "scrolled": true
   },
   "outputs": [
    {
     "data": {
      "image/png": "[encoded data removed]",
      "text/plain": [
       "<Figure size 432x288 with 1 Axes>"
      ]
     },
     "metadata": {
      "needs_background": "light"
     },
     "output_type": "display_data"
    }
   ],
   "source": [
    "import numpy as np\n",
    "import matplotlib.pyplot as plt\n",
    "from scipy.stats import norm\n",
    "\n",
    "mu, sigma = 0, 0.3 # mean and standard deviation\n",
    "x = np.linspace(-3, 3, 100)\n",
    "y = norm.pdf(x, mu, sigma)\n",
    "\n",
    "fig, ax = plt.subplots()\n",
    "ax.plot(x, y, 'k', linewidth=0.5)\n",
    "ax.fill_between(x, y, where=(x > -3) & (x < 3), alpha=0.5)\n",
    "ax.set_title('Probability Density Function')\n",
    "ax.set_xlabel('X-axis')\n",
    "ax.set_ylabel('Y-axis')\n",
    "plt.show()"
   ]
  },
  {
   "cell_type": "markdown",
   "metadata": {},
   "source": [
    "# Observation"
   ]
  },
  {
   "cell_type": "code",
   "execution_count": 28,
   "metadata": {
    "scrolled": true
   },
   "outputs": [
    {
     "data": {
      "image/png": "[encoded data removed]",
      "text/plain": [
       "<Figure size 432x288 with 1 Axes>"
      ]
     },
     "metadata": {},
     "output_type": "display_data"
    }
   ],
   "source": [
    "x = torch.Tensor([[1,0],[1,0],[1,0],[0,1],[0,1],[0,1],[0,1]])\n",
    "y = torch.LongTensor([0,0,0, 1, 1, 1, 1])\n",
    "edge_index = torch.LongTensor([[1,2],[1,4],[1,5],[2,1],[3,6],[3,7],[4,5],[4,1],[4,6],[4,7],[5,1],[5,4],[5,6],[6,3],[6,4],[6,5],[6,7],[7,3],[7,4],[7,6]]).T\n",
    "edge_index = edge_index-1\n",
    "data = Data(x=x, y=y, edge_index = edge_index)\n",
    "draw_graph(edge_index, y, 7)"
   ]
  },
  {
   "cell_type": "markdown",
   "metadata": {
    "scrolled": true
   },
   "source": [
    "#### A simple GNN (One layer) is \n",
    "\n",
    "$Y = softmax(\\hat A XW)$\n",
    "\n",
    "$y\\in R^{N\\times C}, \\hat A \\in R^{N\\times N}, X \\in R^{N\\times F} , W \\in R^{F\\times C}$\n",
    "\n",
    "Here, $ \\tilde A = A+I, \\hat A = A_{rw} = \\tilde D^{-1} \\tilde A$\n",
    "\n",
    "In terms of gradient descent, the update of $Y$ is,\n",
    "\n",
    "$\\Delta Y' \\propto S(\\hat A, X)(Z-Y)$\n",
    "\n",
    "\n",
    "Here, $Z$ is the original label and $Y$ predicted\n",
    "\n",
    "\n",
    "$S(\\hat A, X) = \\hat AX (\\hat AX)^T $\n",
    "\n",
    "$S(\\hat A, X)$ can be considered as gram matrix, or pairwise node similarity after aggregation"
   ]
  },
  {
   "cell_type": "markdown",
   "metadata": {},
   "source": [
    "\n",
    "#### 2 Layer GCN\n",
    "\n",
    "$Y = softmax(\\hat A_{sym} ReLU (\\hat A_{sym}XW_0)W_1)$"
   ]
  },
  {
   "cell_type": "markdown",
   "metadata": {},
   "source": [
    "### Laplacian and affinity (transition) matrices\n",
    "\n",
    "$L = D - A$\n",
    "\n",
    "$L_{sym} = D^{-1/2} L D^{-1/2}$\n",
    "\n",
    "$L_{rw} = D^{-1} L = I - D^{-1} A$\n",
    "\n",
    "$A_{rw} = I - L_{rw} = D^{-1} A $\n",
    "\n",
    "$A_{sym} = I-L_{sym} =  D^{-1/2} A D^{-1/2}$\n",
    "\n",
    "$\\tilde A = A + I$\n",
    "\n",
    "Hat is when $\\tilde A$ is used, self loop\n",
    "\n",
    "#### High pass filters: Sharpen \n",
    "$L_{sym}, L_{rw}, \\hat L_{sym}, \\hat L_{rw}$\n",
    "\n",
    "#### Low pass filters: Smoothen\n",
    "\n",
    "$A_{sym}, A_{rw}, \\hat A_{sym}, \\hat A_{rw}$"
   ]
  },
  {
   "cell_type": "code",
   "execution_count": 29,
   "metadata": {
    "scrolled": true
   },
   "outputs": [
    {
     "name": "stdout",
     "output_type": "stream",
     "text": [
      "tensor([[0., 1., 0., 1., 1., 0., 0.],\n",
      "        [1., 0., 0., 0., 0., 0., 0.],\n",
      "        [0., 0., 0., 0., 0., 1., 1.],\n",
      "        [1., 0., 0., 0., 1., 1., 1.],\n",
      "        [1., 0., 0., 1., 0., 1., 0.],\n",
      "        [0., 0., 1., 1., 1., 0., 1.],\n",
      "        [0., 0., 1., 1., 0., 1., 0.]])\n",
      "tensor([[3., 0., 0., 0., 0., 0., 0.],\n",
      "        [0., 1., 0., 0., 0., 0., 0.],\n",
      "        [0., 0., 2., 0., 0., 0., 0.],\n",
      "        [0., 0., 0., 4., 0., 0., 0.],\n",
      "        [0., 0., 0., 0., 3., 0., 0.],\n",
      "        [0., 0., 0., 0., 0., 4., 0.],\n",
      "        [0., 0., 0., 0., 0., 0., 3.]])\n"
     ]
    }
   ],
   "source": [
    "A = torch.zeros((7,7))\n",
    "edges = data.edge_index.t()\n",
    "A[edges[:,0], edges[:,1]] = 1\n",
    "I = torch.eye(7)\n",
    "D = torch.diag(torch.Tensor(torch.sum(A,dim=1)))\n",
    "print(A)\n",
    "print(D)"
   ]
  },
  {
   "cell_type": "markdown",
   "metadata": {},
   "source": [
    "### Lets assume our Feature X is the label Z"
   ]
  },
  {
   "cell_type": "code",
   "execution_count": 30,
   "metadata": {},
   "outputs": [],
   "source": [
    "# AX = torch.mm(A,x)\n",
    "# print(AX)\n",
    "# torch.mm(AX,AX.T)"
   ]
  },
  {
   "cell_type": "code",
   "execution_count": 31,
   "metadata": {},
   "outputs": [
    {
     "data": {
      "text/plain": [
       "tensor([[0.2500, 0.2500, 0.0000, 0.2500, 0.2500, 0.0000, 0.0000],\n",
       "        [0.5000, 0.5000, 0.0000, 0.0000, 0.0000, 0.0000, 0.0000],\n",
       "        [0.0000, 0.0000, 0.3333, 0.0000, 0.0000, 0.3333, 0.3333],\n",
       "        [0.2000, 0.0000, 0.0000, 0.2000, 0.2000, 0.2000, 0.2000],\n",
       "        [0.2500, 0.0000, 0.0000, 0.2500, 0.2500, 0.2500, 0.0000],\n",
       "        [0.0000, 0.0000, 0.2000, 0.2000, 0.2000, 0.2000, 0.2000],\n",
       "        [0.0000, 0.0000, 0.2500, 0.2500, 0.0000, 0.2500, 0.2500]])"
      ]
     },
     "execution_count": 31,
     "metadata": {},
     "output_type": "execute_result"
    }
   ],
   "source": [
    "Ai = A + I\n",
    "DiInv = torch.diag(torch.Tensor(1/torch.sum(Ai,dim=1)))\n",
    "Arw = torch.mm(DiInv, Ai)\n",
    "Arw"
   ]
  },
  {
   "cell_type": "code",
   "execution_count": null,
   "metadata": {},
   "outputs": [],
   "source": []
  },
  {
   "cell_type": "code",
   "execution_count": 32,
   "metadata": {},
   "outputs": [
    {
     "name": "stdout",
     "output_type": "stream",
     "text": [
      "tensor([[0.5000, 0.5000],\n",
      "        [1.0000, 0.0000],\n",
      "        [0.3333, 0.6667],\n",
      "        [0.2000, 0.8000],\n",
      "        [0.2500, 0.7500],\n",
      "        [0.2000, 0.8000],\n",
      "        [0.2500, 0.7500]])\n"
     ]
    },
    {
     "data": {
      "text/plain": [
       "tensor([[0.5000, 0.5000, 0.5000, 0.5000, 0.5000, 0.5000, 0.5000],\n",
       "        [0.5000, 1.0000, 0.3333, 0.2000, 0.2500, 0.2000, 0.2500],\n",
       "        [0.5000, 0.3333, 0.5556, 0.6000, 0.5833, 0.6000, 0.5833],\n",
       "        [0.5000, 0.2000, 0.6000, 0.6800, 0.6500, 0.6800, 0.6500],\n",
       "        [0.5000, 0.2500, 0.5833, 0.6500, 0.6250, 0.6500, 0.6250],\n",
       "        [0.5000, 0.2000, 0.6000, 0.6800, 0.6500, 0.6800, 0.6500],\n",
       "        [0.5000, 0.2500, 0.5833, 0.6500, 0.6250, 0.6500, 0.6250]])"
      ]
     },
     "execution_count": 32,
     "metadata": {},
     "output_type": "execute_result"
    }
   ],
   "source": [
    "AX = torch.mm(Arw,x)\n",
    "print(AX)\n",
    "torch.mm(AX,AX.T)"
   ]
  },
  {
   "cell_type": "code",
   "execution_count": 33,
   "metadata": {},
   "outputs": [
    {
     "data": {
      "text/plain": [
       "tensor([[0.2500, 0.2500, 0.0000, 0.2500, 0.2500, 0.0000, 0.0000],\n",
       "        [0.5000, 0.5000, 0.0000, 0.0000, 0.0000, 0.0000, 0.0000],\n",
       "        [0.0000, 0.0000, 0.3333, 0.0000, 0.0000, 0.3333, 0.3333],\n",
       "        [0.2000, 0.0000, 0.0000, 0.2000, 0.2000, 0.2000, 0.2000],\n",
       "        [0.2500, 0.0000, 0.0000, 0.2500, 0.2500, 0.2500, 0.0000],\n",
       "        [0.0000, 0.0000, 0.2000, 0.2000, 0.2000, 0.2000, 0.2000],\n",
       "        [0.0000, 0.0000, 0.2500, 0.2500, 0.0000, 0.2500, 0.2500]])"
      ]
     },
     "execution_count": 33,
     "metadata": {},
     "output_type": "execute_result"
    }
   ],
   "source": [
    "Arw"
   ]
  },
  {
   "cell_type": "code",
   "execution_count": 34,
   "metadata": {},
   "outputs": [
    {
     "data": {
      "text/plain": [
       "tensor([[ 0.7500, -0.2500,  0.0000, -0.2500, -0.2500,  0.0000,  0.0000],\n",
       "        [-0.5000,  0.5000,  0.0000,  0.0000,  0.0000,  0.0000,  0.0000],\n",
       "        [ 0.0000,  0.0000,  0.6667,  0.0000,  0.0000, -0.3333, -0.3333],\n",
       "        [-0.2000,  0.0000,  0.0000,  0.8000, -0.2000, -0.2000, -0.2000],\n",
       "        [-0.2500,  0.0000,  0.0000, -0.2500,  0.7500, -0.2500,  0.0000],\n",
       "        [ 0.0000,  0.0000, -0.2000, -0.2000, -0.2000,  0.8000, -0.2000],\n",
       "        [ 0.0000,  0.0000, -0.2500, -0.2500,  0.0000, -0.2500,  0.7500]])"
      ]
     },
     "execution_count": 34,
     "metadata": {},
     "output_type": "execute_result"
    }
   ],
   "source": [
    "I-Arw"
   ]
  },
  {
   "cell_type": "code",
   "execution_count": 35,
   "metadata": {
    "scrolled": true
   },
   "outputs": [
    {
     "name": "stdout",
     "output_type": "stream",
     "text": [
      "tensor([[ 0.5000, -0.5000],\n",
      "        [ 0.0000,  0.0000],\n",
      "        [ 0.6667, -0.6667],\n",
      "        [-0.2000,  0.2000],\n",
      "        [-0.2500,  0.2500],\n",
      "        [-0.2000,  0.2000],\n",
      "        [-0.2500,  0.2500]])\n"
     ]
    },
    {
     "data": {
      "text/plain": [
       "tensor([[ 0.5000,  0.0000,  0.6667, -0.2000, -0.2500, -0.2000, -0.2500],\n",
       "        [ 0.0000,  0.0000,  0.0000,  0.0000,  0.0000,  0.0000,  0.0000],\n",
       "        [ 0.6667,  0.0000,  0.8889, -0.2667, -0.3333, -0.2667, -0.3333],\n",
       "        [-0.2000,  0.0000, -0.2667,  0.0800,  0.1000,  0.0800,  0.1000],\n",
       "        [-0.2500,  0.0000, -0.3333,  0.1000,  0.1250,  0.1000,  0.1250],\n",
       "        [-0.2000,  0.0000, -0.2667,  0.0800,  0.1000,  0.0800,  0.1000],\n",
       "        [-0.2500,  0.0000, -0.3333,  0.1000,  0.1250,  0.1000,  0.1250]])"
      ]
     },
     "execution_count": 35,
     "metadata": {},
     "output_type": "execute_result"
    }
   ],
   "source": [
    "AX = torch.mm(I-Arw,x)\n",
    "print(AX)\n",
    "torch.mm(AX,AX.T)"
   ]
  },
  {
   "cell_type": "markdown",
   "metadata": {},
   "source": [
    "### insights \n",
    "\n",
    "-- pairwise similarity after aggregation, average weights of the matching label neighbors if greater than 0 then that can be correctly classified\n",
    "\n",
    "-- Negative weights can be considered during aggregation \n",
    "\n",
    "-- if the task involves information diffusion or propagation, the transition matrix may be more suitable. On the other hand, if the task involves smooth feature transformations or graph clustering, the graph Laplacian matrix may be more appropriate\n",
    "\n",
    "\n",
    "-- (Spatial) Affinity associates with aggregation (K-NN samples) \n",
    "\n",
    "-- (Spectral) Laplacian associates with diversification (Submodular Samples) \n",
    "\n",
    "-- Identity: ignore the neighborhood, decision based on current node feature only\n",
    "\n",
    "-- For each node, get three representation , combine and make decision based on this\n",
    "\n",
    "*** the Laplacian matrix L ensures that the feature update is based on the difference between the node's value and the average value of its neighbors, which promotes smoothness and consistency across the graph.\n",
    "\n",
    "-- low-pass filters mainly retain the commonality of node features, while high-pass filters\n",
    "capture the difference between nodes.\n",
    "\n",
    "\n",
    "Notes:\n",
    "\n",
    "Survey on heterophilic graphs: https://arxiv.org/pdf/2202.07082.pdf\n",
    "\n",
    "Revisiting graph with heterophily: https://arxiv.org/pdf/2210.07606.pdf"
   ]
  },
  {
   "cell_type": "code",
   "execution_count": 36,
   "metadata": {},
   "outputs": [
    {
     "name": "stdout",
     "output_type": "stream",
     "text": [
      "tensor(0.2692)\n",
      "tensor(0.8791)\n",
      "tensor(0.0897)\n",
      "tensor(0.1384)\n"
     ]
    }
   ],
   "source": [
    "print(torch.var(x))\n",
    "print(torch.var(torch.mm(A,x)))\n",
    "print(torch.var(torch.mm(Arw,x)))\n",
    "print(torch.var(torch.mm(I-Arw,x)))"
   ]
  },
  {
   "cell_type": "code",
   "execution_count": 37,
   "metadata": {},
   "outputs": [
    {
     "name": "stdout",
     "output_type": "stream",
     "text": [
      "tensor(4.6667)\n",
      "tensor(36.9524)\n",
      "tensor(1.8935)\n",
      "tensor(2.6713)\n"
     ]
    }
   ],
   "source": [
    "X_s = torch.Tensor([1,2,3,4,5,6,7]).view(-1,1)\n",
    "\n",
    "print(torch.var(X_s))\n",
    "print(torch.var(torch.mm(A,X_s)))\n",
    "print(torch.var(torch.mm(Arw,X_s)))\n",
    "print(torch.var(torch.mm(I-Arw,X_s)))"
   ]
  },
  {
   "cell_type": "code",
   "execution_count": null,
   "metadata": {},
   "outputs": [],
   "source": []
  },
  {
   "cell_type": "code",
   "execution_count": null,
   "metadata": {},
   "outputs": [],
   "source": []
  },
  {
   "cell_type": "code",
   "execution_count": null,
   "metadata": {},
   "outputs": [],
   "source": []
  },
  {
   "cell_type": "code",
   "execution_count": 38,
   "metadata": {},
   "outputs": [],
   "source": [
    "x = torch.Tensor([[1,-1],[1,-1],[1,-1],[-1,1],[-1,1],[-1,1],[-1,1]])"
   ]
  },
  {
   "cell_type": "code",
   "execution_count": 39,
   "metadata": {},
   "outputs": [
    {
     "name": "stdout",
     "output_type": "stream",
     "text": [
      "tensor([[ 0.0000,  0.0000],\n",
      "        [ 1.0000, -1.0000],\n",
      "        [-0.3333,  0.3333],\n",
      "        [-0.6000,  0.6000],\n",
      "        [-0.5000,  0.5000],\n",
      "        [-0.6000,  0.6000],\n",
      "        [-0.5000,  0.5000]])\n"
     ]
    },
    {
     "data": {
      "text/plain": [
       "tensor([[ 0.0000,  0.0000,  0.0000,  0.0000,  0.0000,  0.0000,  0.0000],\n",
       "        [ 0.0000,  2.0000, -0.6667, -1.2000, -1.0000, -1.2000, -1.0000],\n",
       "        [ 0.0000, -0.6667,  0.2222,  0.4000,  0.3333,  0.4000,  0.3333],\n",
       "        [ 0.0000, -1.2000,  0.4000,  0.7200,  0.6000,  0.7200,  0.6000],\n",
       "        [ 0.0000, -1.0000,  0.3333,  0.6000,  0.5000,  0.6000,  0.5000],\n",
       "        [ 0.0000, -1.2000,  0.4000,  0.7200,  0.6000,  0.7200,  0.6000],\n",
       "        [ 0.0000, -1.0000,  0.3333,  0.6000,  0.5000,  0.6000,  0.5000]])"
      ]
     },
     "execution_count": 39,
     "metadata": {},
     "output_type": "execute_result"
    }
   ],
   "source": [
    "AX = torch.mm(Arw,x)\n",
    "print(AX)\n",
    "torch.mm(AX,AX.T)"
   ]
  },
  {
   "cell_type": "code",
   "execution_count": 40,
   "metadata": {},
   "outputs": [
    {
     "name": "stdout",
     "output_type": "stream",
     "text": [
      "tensor([[ 1.0000, -1.0000],\n",
      "        [ 0.0000,  0.0000],\n",
      "        [ 1.3333, -1.3333],\n",
      "        [-0.4000,  0.4000],\n",
      "        [-0.5000,  0.5000],\n",
      "        [-0.4000,  0.4000],\n",
      "        [-0.5000,  0.5000]])\n"
     ]
    },
    {
     "data": {
      "text/plain": [
       "tensor([[ 2.0000,  0.0000,  2.6667, -0.8000, -1.0000, -0.8000, -1.0000],\n",
       "        [ 0.0000,  0.0000,  0.0000,  0.0000,  0.0000,  0.0000,  0.0000],\n",
       "        [ 2.6667,  0.0000,  3.5556, -1.0667, -1.3333, -1.0667, -1.3333],\n",
       "        [-0.8000,  0.0000, -1.0667,  0.3200,  0.4000,  0.3200,  0.4000],\n",
       "        [-1.0000,  0.0000, -1.3333,  0.4000,  0.5000,  0.4000,  0.5000],\n",
       "        [-0.8000,  0.0000, -1.0667,  0.3200,  0.4000,  0.3200,  0.4000],\n",
       "        [-1.0000,  0.0000, -1.3333,  0.4000,  0.5000,  0.4000,  0.5000]])"
      ]
     },
     "execution_count": 40,
     "metadata": {},
     "output_type": "execute_result"
    }
   ],
   "source": [
    "AX = torch.mm(I-Arw,x)\n",
    "print(AX)\n",
    "torch.mm(AX,AX.T)"
   ]
  },
  {
   "cell_type": "code",
   "execution_count": 41,
   "metadata": {
    "scrolled": true
   },
   "outputs": [
    {
     "data": {
      "text/plain": [
       "tensor([[0.2500, 0.3536, 0.0000, 0.2236, 0.2500, 0.0000, 0.0000],\n",
       "        [0.3536, 0.5000, 0.0000, 0.0000, 0.0000, 0.0000, 0.0000],\n",
       "        [0.0000, 0.0000, 0.3333, 0.0000, 0.0000, 0.2582, 0.2887],\n",
       "        [0.2236, 0.0000, 0.0000, 0.2000, 0.2236, 0.2000, 0.2236],\n",
       "        [0.2500, 0.0000, 0.0000, 0.2236, 0.2500, 0.2236, 0.0000],\n",
       "        [0.0000, 0.0000, 0.2582, 0.2000, 0.2236, 0.2000, 0.2236],\n",
       "        [0.0000, 0.0000, 0.2887, 0.2236, 0.0000, 0.2236, 0.2500]])"
      ]
     },
     "execution_count": 41,
     "metadata": {},
     "output_type": "execute_result"
    }
   ],
   "source": [
    "Dhalf = torch.diag(torch.Tensor(1/torch.sqrt(torch.sum(Ai,dim=1))))\n",
    "Ahat = torch.mm(torch.mm(Dhalf,Ai),Dhalf)\n",
    "Ahat"
   ]
  },
  {
   "cell_type": "code",
   "execution_count": 42,
   "metadata": {},
   "outputs": [
    {
     "data": {
      "text/plain": [
       "tensor([[ 0.7500, -0.3536,  0.0000, -0.2236, -0.2500,  0.0000,  0.0000],\n",
       "        [-0.3536,  0.5000,  0.0000,  0.0000,  0.0000,  0.0000,  0.0000],\n",
       "        [ 0.0000,  0.0000,  0.6667,  0.0000,  0.0000, -0.2582, -0.2887],\n",
       "        [-0.2236,  0.0000,  0.0000,  0.8000, -0.2236, -0.2000, -0.2236],\n",
       "        [-0.2500,  0.0000,  0.0000, -0.2236,  0.7500, -0.2236,  0.0000],\n",
       "        [ 0.0000,  0.0000, -0.2582, -0.2000, -0.2236,  0.8000, -0.2236],\n",
       "        [ 0.0000,  0.0000, -0.2887, -0.2236,  0.0000, -0.2236,  0.7500]])"
      ]
     },
     "execution_count": 42,
     "metadata": {},
     "output_type": "execute_result"
    }
   ],
   "source": [
    "I-Ahat"
   ]
  },
  {
   "cell_type": "code",
   "execution_count": 43,
   "metadata": {},
   "outputs": [
    {
     "name": "stdout",
     "output_type": "stream",
     "text": [
      "tensor([[ 0.1299, -0.1299],\n",
      "        [ 0.8536, -0.8536],\n",
      "        [-0.2135,  0.2135],\n",
      "        [-0.6236,  0.6236],\n",
      "        [-0.4472,  0.4472],\n",
      "        [-0.5890,  0.5890],\n",
      "        [-0.4085,  0.4085]])\n"
     ]
    },
    {
     "data": {
      "text/plain": [
       "tensor([[ 0.0338,  0.2218, -0.0555, -0.1621, -0.1162, -0.1531, -0.1062],\n",
       "        [ 0.2218,  1.4571, -0.3645, -1.0646, -0.7634, -1.0055, -0.6974],\n",
       "        [-0.0555, -0.3645,  0.0912,  0.2663,  0.1910,  0.2516,  0.1745],\n",
       "        [-0.1621, -1.0646,  0.2663,  0.7778,  0.5578,  0.7346,  0.5095],\n",
       "        [-0.1162, -0.7634,  0.1910,  0.5578,  0.4000,  0.5268,  0.3654],\n",
       "        [-0.1531, -1.0055,  0.2516,  0.7346,  0.5268,  0.6939,  0.4813],\n",
       "        [-0.1062, -0.6974,  0.1745,  0.5095,  0.3654,  0.4813,  0.3338]])"
      ]
     },
     "execution_count": 43,
     "metadata": {},
     "output_type": "execute_result"
    }
   ],
   "source": [
    "AX = torch.mm(Ahat,x)\n",
    "print(AX)\n",
    "torch.mm(AX,AX.T)"
   ]
  },
  {
   "cell_type": "code",
   "execution_count": 44,
   "metadata": {},
   "outputs": [
    {
     "name": "stdout",
     "output_type": "stream",
     "text": [
      "tensor([[ 0.8701, -0.8701],\n",
      "        [ 0.1464, -0.1464],\n",
      "        [ 1.2135, -1.2135],\n",
      "        [-0.3764,  0.3764],\n",
      "        [-0.5528,  0.5528],\n",
      "        [-0.4110,  0.4110],\n",
      "        [-0.5915,  0.5915]])\n"
     ]
    },
    {
     "data": {
      "text/plain": [
       "tensor([[ 1.5140,  0.2548,  2.1117, -0.6550, -0.9619, -0.7152, -1.0292],\n",
       "        [ 0.2548,  0.0429,  0.3554, -0.1102, -0.1619, -0.1204, -0.1732],\n",
       "        [ 2.1117,  0.3554,  2.9454, -0.9135, -1.3417, -0.9975, -1.4355],\n",
       "        [-0.6550, -0.1102, -0.9135,  0.2833,  0.4161,  0.3094,  0.4452],\n",
       "        [-0.9619, -0.1619, -1.3417,  0.4161,  0.6111,  0.4544,  0.6539],\n",
       "        [-0.7152, -0.1204, -0.9975,  0.3094,  0.4544,  0.3378,  0.4862],\n",
       "        [-1.0292, -0.1732, -1.4355,  0.4452,  0.6539,  0.4862,  0.6997]])"
      ]
     },
     "execution_count": 44,
     "metadata": {},
     "output_type": "execute_result"
    }
   ],
   "source": [
    "AX = torch.mm(I-Ahat,x)\n",
    "print(AX)\n",
    "torch.mm(AX,AX.T)"
   ]
  },
  {
   "cell_type": "code",
   "execution_count": 45,
   "metadata": {},
   "outputs": [
    {
     "data": {
      "text/plain": [
       "tensor([[0.0294, 0.5328],\n",
       "        [0.2433, 0.4031]])"
      ]
     },
     "execution_count": 45,
     "metadata": {},
     "output_type": "execute_result"
    }
   ],
   "source": [
    "W = torch.rand(2,2)\n",
    "W"
   ]
  },
  {
   "cell_type": "code",
   "execution_count": 46,
   "metadata": {},
   "outputs": [
    {
     "data": {
      "text/plain": [
       "tensor([[-0.2139,  0.1297],\n",
       "        [-0.2139,  0.1297],\n",
       "        [-0.2139,  0.1297],\n",
       "        [ 0.2139, -0.1297],\n",
       "        [ 0.2139, -0.1297],\n",
       "        [ 0.2139, -0.1297],\n",
       "        [ 0.2139, -0.1297]])"
      ]
     },
     "execution_count": 46,
     "metadata": {},
     "output_type": "execute_result"
    }
   ],
   "source": [
    "torch.mm(x,W)"
   ]
  },
  {
   "cell_type": "code",
   "execution_count": 47,
   "metadata": {},
   "outputs": [
    {
     "data": {
      "text/plain": [
       "tensor([[-0.5000],\n",
       "        [ 0.0000],\n",
       "        [-0.6667],\n",
       "        [ 0.2000],\n",
       "        [ 0.2500],\n",
       "        [ 0.2000],\n",
       "        [ 0.2500]])"
      ]
     },
     "execution_count": 47,
     "metadata": {},
     "output_type": "execute_result"
    }
   ],
   "source": [
    "L = D-A \n",
    "\n",
    "y_lp = torch.mm(I-Arw,y.view(-1,1).type(torch.float))\n",
    "y_lp"
   ]
  },
  {
   "cell_type": "code",
   "execution_count": 48,
   "metadata": {},
   "outputs": [
    {
     "name": "stdout",
     "output_type": "stream",
     "text": [
      "tensor(0.2857)\n",
      "tensor(0.1482)\n"
     ]
    }
   ],
   "source": [
    "y_org_var = torch.var(y.type(torch.float))\n",
    "print(y_org_var)\n",
    "\n",
    "y_lp_var = torch.var(y_lp)\n",
    "print(y_lp_var)"
   ]
  },
  {
   "cell_type": "code",
   "execution_count": 49,
   "metadata": {},
   "outputs": [
    {
     "name": "stdout",
     "output_type": "stream",
     "text": [
      "tensor(1.0769)\n",
      "tensor(0.5535)\n",
      "tensor(0.3586)\n"
     ]
    }
   ],
   "source": [
    "x_org = torch.var(x)\n",
    "print(x_org)\n",
    "x_lp = torch.var(torch.mm(I-Arw,x))\n",
    "print(x_lp)\n",
    "x_hp = torch.var(torch.mm(Arw,x))\n",
    "print(x_hp)"
   ]
  },
  {
   "cell_type": "code",
   "execution_count": 50,
   "metadata": {},
   "outputs": [],
   "source": [
    "L  = D - A"
   ]
  },
  {
   "cell_type": "code",
   "execution_count": 51,
   "metadata": {},
   "outputs": [
    {
     "name": "stdout",
     "output_type": "stream",
     "text": [
      "tensor([[ 4., -4.],\n",
      "        [ 0.,  0.],\n",
      "        [ 4., -4.],\n",
      "        [-2.,  2.],\n",
      "        [-2.,  2.],\n",
      "        [-2.,  2.],\n",
      "        [-2.,  2.]])\n"
     ]
    },
    {
     "data": {
      "text/plain": [
       "tensor([[ 32.,   0.,  32., -16., -16., -16., -16.],\n",
       "        [  0.,   0.,   0.,   0.,   0.,   0.,   0.],\n",
       "        [ 32.,   0.,  32., -16., -16., -16., -16.],\n",
       "        [-16.,   0., -16.,   8.,   8.,   8.,   8.],\n",
       "        [-16.,   0., -16.,   8.,   8.,   8.,   8.],\n",
       "        [-16.,   0., -16.,   8.,   8.,   8.,   8.],\n",
       "        [-16.,   0., -16.,   8.,   8.,   8.,   8.]])"
      ]
     },
     "execution_count": 51,
     "metadata": {},
     "output_type": "execute_result"
    }
   ],
   "source": [
    "AX = torch.mm(L,x)\n",
    "print(AX)\n",
    "torch.mm(AX,AX.T)"
   ]
  },
  {
   "cell_type": "code",
   "execution_count": 52,
   "metadata": {},
   "outputs": [
    {
     "name": "stdout",
     "output_type": "stream",
     "text": [
      "tensor([[-1.,  1.],\n",
      "        [ 1., -1.],\n",
      "        [-2.,  2.],\n",
      "        [-2.,  2.],\n",
      "        [-1.,  1.],\n",
      "        [-2.,  2.],\n",
      "        [-1.,  1.]])\n"
     ]
    },
    {
     "data": {
      "text/plain": [
       "tensor([[ 2., -2.,  4.,  4.,  2.,  4.,  2.],\n",
       "        [-2.,  2., -4., -4., -2., -4., -2.],\n",
       "        [ 4., -4.,  8.,  8.,  4.,  8.,  4.],\n",
       "        [ 4., -4.,  8.,  8.,  4.,  8.,  4.],\n",
       "        [ 2., -2.,  4.,  4.,  2.,  4.,  2.],\n",
       "        [ 4., -4.,  8.,  8.,  4.,  8.,  4.],\n",
       "        [ 2., -2.,  4.,  4.,  2.,  4.,  2.]])"
      ]
     },
     "execution_count": 52,
     "metadata": {},
     "output_type": "execute_result"
    }
   ],
   "source": [
    "AX = torch.mm(A,x)\n",
    "print(AX)\n",
    "torch.mm(AX,AX.T)"
   ]
  },
  {
   "cell_type": "code",
   "execution_count": 53,
   "metadata": {},
   "outputs": [
    {
     "data": {
      "text/plain": [
       "tensor([[0.2500, 0.2500, 0.0000, 0.2500, 0.2500, 0.0000, 0.0000],\n",
       "        [0.5000, 0.5000, 0.0000, 0.0000, 0.0000, 0.0000, 0.0000],\n",
       "        [0.0000, 0.0000, 0.3333, 0.0000, 0.0000, 0.3333, 0.3333],\n",
       "        [0.2000, 0.0000, 0.0000, 0.2000, 0.2000, 0.2000, 0.2000],\n",
       "        [0.2500, 0.0000, 0.0000, 0.2500, 0.2500, 0.2500, 0.0000],\n",
       "        [0.0000, 0.0000, 0.2000, 0.2000, 0.2000, 0.2000, 0.2000],\n",
       "        [0.0000, 0.0000, 0.2500, 0.2500, 0.0000, 0.2500, 0.2500]])"
      ]
     },
     "execution_count": 53,
     "metadata": {},
     "output_type": "execute_result"
    }
   ],
   "source": [
    "Arw"
   ]
  },
  {
   "cell_type": "code",
   "execution_count": 54,
   "metadata": {},
   "outputs": [
    {
     "data": {
      "text/plain": [
       "tensor([[ 0.7500, -0.2500,  0.0000, -0.2500, -0.2500,  0.0000,  0.0000],\n",
       "        [-0.5000,  0.5000,  0.0000,  0.0000,  0.0000,  0.0000,  0.0000],\n",
       "        [ 0.0000,  0.0000,  0.6667,  0.0000,  0.0000, -0.3333, -0.3333],\n",
       "        [-0.2000,  0.0000,  0.0000,  0.8000, -0.2000, -0.2000, -0.2000],\n",
       "        [-0.2500,  0.0000,  0.0000, -0.2500,  0.7500, -0.2500,  0.0000],\n",
       "        [ 0.0000,  0.0000, -0.2000, -0.2000, -0.2000,  0.8000, -0.2000],\n",
       "        [ 0.0000,  0.0000, -0.2500, -0.2500,  0.0000, -0.2500,  0.7500]])"
      ]
     },
     "execution_count": 54,
     "metadata": {},
     "output_type": "execute_result"
    }
   ],
   "source": [
    "I-Arw"
   ]
  },
  {
   "cell_type": "code",
   "execution_count": 55,
   "metadata": {},
   "outputs": [
    {
     "data": {
      "text/plain": [
       "tensor([[0., 1., 0., 1., 1., 0., 0.],\n",
       "        [1., 0., 0., 0., 0., 0., 0.],\n",
       "        [0., 0., 0., 0., 0., 1., 1.],\n",
       "        [1., 0., 0., 0., 1., 1., 1.],\n",
       "        [1., 0., 0., 1., 0., 1., 0.],\n",
       "        [0., 0., 1., 1., 1., 0., 1.],\n",
       "        [0., 0., 1., 1., 0., 1., 0.]])"
      ]
     },
     "execution_count": 55,
     "metadata": {},
     "output_type": "execute_result"
    }
   ],
   "source": [
    "A\n"
   ]
  },
  {
   "cell_type": "code",
   "execution_count": 56,
   "metadata": {},
   "outputs": [
    {
     "data": {
      "text/plain": [
       "tensor([[0.2500, 0.2500, 0.0000, 0.2500, 0.2500, 0.0000, 0.0000],\n",
       "        [0.5000, 0.5000, 0.0000, 0.0000, 0.0000, 0.0000, 0.0000],\n",
       "        [0.0000, 0.0000, 0.3333, 0.0000, 0.0000, 0.3333, 0.3333],\n",
       "        [0.2000, 0.0000, 0.0000, 0.2000, 0.2000, 0.2000, 0.2000],\n",
       "        [0.2500, 0.0000, 0.0000, 0.2500, 0.2500, 0.2500, 0.0000],\n",
       "        [0.0000, 0.0000, 0.2000, 0.2000, 0.2000, 0.2000, 0.2000],\n",
       "        [0.0000, 0.0000, 0.2500, 0.2500, 0.0000, 0.2500, 0.2500]])"
      ]
     },
     "execution_count": 56,
     "metadata": {},
     "output_type": "execute_result"
    }
   ],
   "source": [
    "Arw"
   ]
  },
  {
   "cell_type": "code",
   "execution_count": 57,
   "metadata": {},
   "outputs": [
    {
     "name": "stdout",
     "output_type": "stream",
     "text": [
      "tensor([[ 1.0000, -1.0000],\n",
      "        [ 0.0000,  0.0000],\n",
      "        [ 1.3333, -1.3333],\n",
      "        [-0.4000,  0.4000],\n",
      "        [-0.5000,  0.5000],\n",
      "        [-0.4000,  0.4000],\n",
      "        [-0.5000,  0.5000]])\n"
     ]
    },
    {
     "data": {
      "text/plain": [
       "tensor([[ 2.0000,  0.0000,  2.6667, -0.8000, -1.0000, -0.8000, -1.0000],\n",
       "        [ 0.0000,  0.0000,  0.0000,  0.0000,  0.0000,  0.0000,  0.0000],\n",
       "        [ 2.6667,  0.0000,  3.5556, -1.0667, -1.3333, -1.0667, -1.3333],\n",
       "        [-0.8000,  0.0000, -1.0667,  0.3200,  0.4000,  0.3200,  0.4000],\n",
       "        [-1.0000,  0.0000, -1.3333,  0.4000,  0.5000,  0.4000,  0.5000],\n",
       "        [-0.8000,  0.0000, -1.0667,  0.3200,  0.4000,  0.3200,  0.4000],\n",
       "        [-1.0000,  0.0000, -1.3333,  0.4000,  0.5000,  0.4000,  0.5000]])"
      ]
     },
     "execution_count": 57,
     "metadata": {},
     "output_type": "execute_result"
    }
   ],
   "source": [
    "AX = torch.mm(I-Arw,x)\n",
    "print(AX)\n",
    "torch.mm(AX,AX.T)"
   ]
  },
  {
   "cell_type": "code",
   "execution_count": 58,
   "metadata": {},
   "outputs": [
    {
     "data": {
      "text/plain": [
       "tensor([[ 0.,  1.,  0., -1., -1.,  0.,  0.],\n",
       "        [ 1.,  0.,  0.,  0.,  0.,  0.,  0.],\n",
       "        [ 0.,  0.,  0.,  0.,  0., -1., -1.],\n",
       "        [-1.,  0.,  0.,  0.,  1.,  1.,  1.],\n",
       "        [-1.,  0.,  0.,  1.,  0.,  1.,  0.],\n",
       "        [ 0.,  0., -1.,  1.,  1.,  0.,  1.],\n",
       "        [ 0.,  0., -1.,  1.,  0.,  1.,  0.]])"
      ]
     },
     "execution_count": 58,
     "metadata": {},
     "output_type": "execute_result"
    }
   ],
   "source": [
    "An = A\n",
    "An[0,3]=-1\n",
    "An[0,4]=-1\n",
    "An[2,5]=-1\n",
    "An[2,6]=-1\n",
    "An[3,0]=-1\n",
    "An[4,0]=-1\n",
    "An[5,2]=-1\n",
    "An[6,2]=-1\n",
    "An"
   ]
  },
  {
   "cell_type": "code",
   "execution_count": 59,
   "metadata": {},
   "outputs": [
    {
     "data": {
      "text/plain": [
       "tensor([[ 0.0000,  0.2500,  0.0000, -0.2500, -0.2500,  0.0000,  0.0000],\n",
       "        [ 0.5000,  0.0000,  0.0000,  0.0000,  0.0000,  0.0000,  0.0000],\n",
       "        [ 0.0000,  0.0000,  0.0000,  0.0000,  0.0000, -0.3333, -0.3333],\n",
       "        [-0.2000,  0.0000,  0.0000,  0.0000,  0.2000,  0.2000,  0.2000],\n",
       "        [-0.2500,  0.0000,  0.0000,  0.2500,  0.0000,  0.2500,  0.0000],\n",
       "        [ 0.0000,  0.0000, -0.2000,  0.2000,  0.2000,  0.0000,  0.2000],\n",
       "        [ 0.0000,  0.0000, -0.2500,  0.2500,  0.0000,  0.2500,  0.0000]])"
      ]
     },
     "execution_count": 59,
     "metadata": {},
     "output_type": "execute_result"
    }
   ],
   "source": [
    "Anrw = torch.mm(DiInv,An)\n",
    "Anrw"
   ]
  },
  {
   "cell_type": "code",
   "execution_count": 60,
   "metadata": {},
   "outputs": [
    {
     "name": "stdout",
     "output_type": "stream",
     "text": [
      "tensor([[ 0.7500, -0.7500],\n",
      "        [ 0.5000, -0.5000],\n",
      "        [ 0.6667, -0.6667],\n",
      "        [-0.8000,  0.8000],\n",
      "        [-0.7500,  0.7500],\n",
      "        [-0.8000,  0.8000],\n",
      "        [-0.7500,  0.7500]])\n"
     ]
    },
    {
     "data": {
      "text/plain": [
       "tensor([[ 1.1250,  0.7500,  1.0000, -1.2000, -1.1250, -1.2000, -1.1250],\n",
       "        [ 0.7500,  0.5000,  0.6667, -0.8000, -0.7500, -0.8000, -0.7500],\n",
       "        [ 1.0000,  0.6667,  0.8889, -1.0667, -1.0000, -1.0667, -1.0000],\n",
       "        [-1.2000, -0.8000, -1.0667,  1.2800,  1.2000,  1.2800,  1.2000],\n",
       "        [-1.1250, -0.7500, -1.0000,  1.2000,  1.1250,  1.2000,  1.1250],\n",
       "        [-1.2000, -0.8000, -1.0667,  1.2800,  1.2000,  1.2800,  1.2000],\n",
       "        [-1.1250, -0.7500, -1.0000,  1.2000,  1.1250,  1.2000,  1.1250]])"
      ]
     },
     "execution_count": 60,
     "metadata": {},
     "output_type": "execute_result"
    }
   ],
   "source": [
    "AX = torch.mm(Anrw,x)\n",
    "print(AX)\n",
    "torch.mm(AX,AX.T)"
   ]
  },
  {
   "cell_type": "code",
   "execution_count": 61,
   "metadata": {},
   "outputs": [
    {
     "name": "stdout",
     "output_type": "stream",
     "text": [
      "tensor([[ 0.2500, -0.2500],\n",
      "        [ 0.5000, -0.5000],\n",
      "        [ 0.3333, -0.3333],\n",
      "        [-0.2000,  0.2000],\n",
      "        [-0.2500,  0.2500],\n",
      "        [-0.2000,  0.2000],\n",
      "        [-0.2500,  0.2500]])\n"
     ]
    },
    {
     "data": {
      "text/plain": [
       "tensor([[ 0.1250,  0.2500,  0.1667, -0.1000, -0.1250, -0.1000, -0.1250],\n",
       "        [ 0.2500,  0.5000,  0.3333, -0.2000, -0.2500, -0.2000, -0.2500],\n",
       "        [ 0.1667,  0.3333,  0.2222, -0.1333, -0.1667, -0.1333, -0.1667],\n",
       "        [-0.1000, -0.2000, -0.1333,  0.0800,  0.1000,  0.0800,  0.1000],\n",
       "        [-0.1250, -0.2500, -0.1667,  0.1000,  0.1250,  0.1000,  0.1250],\n",
       "        [-0.1000, -0.2000, -0.1333,  0.0800,  0.1000,  0.0800,  0.1000],\n",
       "        [-0.1250, -0.2500, -0.1667,  0.1000,  0.1250,  0.1000,  0.1250]])"
      ]
     },
     "execution_count": 61,
     "metadata": {},
     "output_type": "execute_result"
    }
   ],
   "source": [
    "AX = torch.mm(I-Anrw,x)\n",
    "print(AX)\n",
    "torch.mm(AX,AX.T)"
   ]
  },
  {
   "cell_type": "code",
   "execution_count": 62,
   "metadata": {
    "scrolled": false
   },
   "outputs": [
    {
     "data": {
      "text/plain": [
       "tensor([[ 0.,  1.,  0., -1., -1.,  0.,  0.],\n",
       "        [ 1.,  0.,  0.,  0.,  0.,  0.,  0.],\n",
       "        [ 0.,  0.,  0.,  0.,  0., -1., -1.],\n",
       "        [-1.,  0.,  0.,  0.,  1.,  1.,  1.],\n",
       "        [-1.,  0.,  0.,  1.,  0.,  1.,  0.],\n",
       "        [ 0.,  0., -1.,  1.,  1.,  0.,  1.],\n",
       "        [ 0.,  0., -1.,  1.,  0.,  1.,  0.]])"
      ]
     },
     "execution_count": 62,
     "metadata": {},
     "output_type": "execute_result"
    }
   ],
   "source": [
    "A"
   ]
  },
  {
   "cell_type": "markdown",
   "metadata": {},
   "source": [
    "# I-Arw"
   ]
  },
  {
   "cell_type": "code",
   "execution_count": 63,
   "metadata": {},
   "outputs": [],
   "source": [
    "x = torch.Tensor([[1,0,1],[1,0,1],[1,0,1],[0,1,1],[0,1,1],[0,1,1],[0,1,1],[0,1,1]])\n",
    "#x = torch.Tensor([0,0,0,1,1,1,1]).view(-1,1)\n",
    "y = torch.LongTensor([0,0,0, 1, 1, 1, 1,1])\n",
    "edge_index = torch.LongTensor([[8,5],[8,7],[7,8],[5,8],[1,2],[1,4],[1,5],[2,1],[3,6],[3,7],[4,5],[4,1],[4,6],[4,7],[5,1],[5,4],[5,6],[6,3],[6,4],[6,5],[6,7],[7,3],[7,4],[7,6]]).T\n",
    "edge_index = edge_index-1\n",
    "data = Data(x=x, y=y, edge_index = edge_index)"
   ]
  },
  {
   "cell_type": "code",
   "execution_count": 68,
   "metadata": {},
   "outputs": [
    {
     "data": {
      "text/plain": [
       "tensor([[0.2500, 0.2500, 0.0000, 0.2500, 0.2500, 0.0000, 0.0000, 0.0000],\n",
       "        [0.5000, 0.5000, 0.0000, 0.0000, 0.0000, 0.0000, 0.0000, 0.0000],\n",
       "        [0.0000, 0.0000, 0.3333, 0.0000, 0.0000, 0.3333, 0.3333, 0.0000],\n",
       "        [0.2000, 0.0000, 0.0000, 0.2000, 0.2000, 0.2000, 0.2000, 0.0000],\n",
       "        [0.2000, 0.0000, 0.0000, 0.2000, 0.2000, 0.2000, 0.0000, 0.2000],\n",
       "        [0.0000, 0.0000, 0.2000, 0.2000, 0.2000, 0.2000, 0.2000, 0.0000],\n",
       "        [0.0000, 0.0000, 0.2000, 0.2000, 0.0000, 0.2000, 0.2000, 0.2000],\n",
       "        [0.0000, 0.0000, 0.0000, 0.0000, 0.3333, 0.0000, 0.3333, 0.3333]])"
      ]
     },
     "execution_count": 68,
     "metadata": {},
     "output_type": "execute_result"
    }
   ],
   "source": [
    "A = torch.zeros((8,8))\n",
    "edges = data.edge_index.t()\n",
    "A[edges[:,0], edges[:,1]] = 1\n",
    "I = torch.eye(8)\n",
    "D = torch.diag(torch.Tensor(torch.sum(A,dim=1)))\n",
    "# print(A)\n",
    "# print(D)\n",
    "\n",
    "Ai = A + I\n",
    "DiInv = torch.diag(torch.Tensor(1/torch.sum(Ai,dim=1)))\n",
    "Arw = torch.mm(DiInv, Ai)\n",
    "Arw"
   ]
  },
  {
   "cell_type": "code",
   "execution_count": 69,
   "metadata": {},
   "outputs": [
    {
     "data": {
      "image/png": "[encoded data removed]",
      "text/plain": [
       "<Figure size 432x288 with 1 Axes>"
      ]
     },
     "metadata": {},
     "output_type": "display_data"
    }
   ],
   "source": [
    "draw_graph(edge_index, y, 8)"
   ]
  },
  {
   "cell_type": "code",
   "execution_count": 70,
   "metadata": {
    "scrolled": true
   },
   "outputs": [
    {
     "data": {
      "text/plain": [
       "tensor([[ 0.7500, -0.2500,  0.0000, -0.2500, -0.2500,  0.0000,  0.0000,  0.0000],\n",
       "        [-0.5000,  0.5000,  0.0000,  0.0000,  0.0000,  0.0000,  0.0000,  0.0000],\n",
       "        [ 0.0000,  0.0000,  0.6667,  0.0000,  0.0000, -0.3333, -0.3333,  0.0000],\n",
       "        [-0.2000,  0.0000,  0.0000,  0.8000, -0.2000, -0.2000, -0.2000,  0.0000],\n",
       "        [-0.2000,  0.0000,  0.0000, -0.2000,  0.8000, -0.2000,  0.0000, -0.2000],\n",
       "        [ 0.0000,  0.0000, -0.2000, -0.2000, -0.2000,  0.8000, -0.2000,  0.0000],\n",
       "        [ 0.0000,  0.0000, -0.2000, -0.2000,  0.0000, -0.2000,  0.8000, -0.2000],\n",
       "        [ 0.0000,  0.0000,  0.0000,  0.0000, -0.3333,  0.0000, -0.3333,  0.6667]])"
      ]
     },
     "execution_count": 70,
     "metadata": {},
     "output_type": "execute_result"
    }
   ],
   "source": [
    "I-Arw"
   ]
  },
  {
   "cell_type": "code",
   "execution_count": 79,
   "metadata": {},
   "outputs": [
    {
     "name": "stdout",
     "output_type": "stream",
     "text": [
      "tensor([[     0.5000,     -0.5000,      0.0000],\n",
      "        [     0.0000,      0.0000,      0.0000],\n",
      "        [     0.6667,     -0.6667,     -0.0000],\n",
      "        [    -0.2000,      0.2000,      0.0000],\n",
      "        [    -0.2000,      0.2000,      0.0000],\n",
      "        [    -0.2000,      0.2000,     -0.0000],\n",
      "        [    -0.2000,      0.2000,     -0.0000],\n",
      "        [     0.0000,     -0.0000,     -0.0000]])\n",
      "tensor([[     0.5000,      0.0000,      0.6667,     -0.2000,     -0.2000,\n",
      "             -0.2000,     -0.2000,      0.0000],\n",
      "        [     0.0000,      0.0000,      0.0000,      0.0000,      0.0000,\n",
      "              0.0000,      0.0000,      0.0000],\n",
      "        [     0.6667,      0.0000,      0.8889,     -0.2667,     -0.2667,\n",
      "             -0.2667,     -0.2667,      0.0000],\n",
      "        [    -0.2000,      0.0000,     -0.2667,      0.0800,      0.0800,\n",
      "              0.0800,      0.0800,     -0.0000],\n",
      "        [    -0.2000,      0.0000,     -0.2667,      0.0800,      0.0800,\n",
      "              0.0800,      0.0800,     -0.0000],\n",
      "        [    -0.2000,      0.0000,     -0.2667,      0.0800,      0.0800,\n",
      "              0.0800,      0.0800,     -0.0000],\n",
      "        [    -0.2000,      0.0000,     -0.2667,      0.0800,      0.0800,\n",
      "              0.0800,      0.0800,     -0.0000],\n",
      "        [     0.0000,      0.0000,      0.0000,     -0.0000,     -0.0000,\n",
      "             -0.0000,     -0.0000,      0.0000]])\n"
     ]
    }
   ],
   "source": [
    "#torch.set_printoptions(sci_mode=False)\n",
    "AX = torch.mm(I-Arw,x)\n",
    "print(AX)\n",
    "print(torch.mm(AX,AX.T))"
   ]
  },
  {
   "cell_type": "code",
   "execution_count": 75,
   "metadata": {
    "scrolled": true
   },
   "outputs": [
    {
     "data": {
      "text/plain": [
       "tensor([[0.2500, 0.2500, 0.0000, 0.2500, 0.2500, 0.0000, 0.0000, 0.0000],\n",
       "        [0.5000, 0.5000, 0.0000, 0.0000, 0.0000, 0.0000, 0.0000, 0.0000],\n",
       "        [0.0000, 0.0000, 0.3333, 0.0000, 0.0000, 0.3333, 0.3333, 0.0000],\n",
       "        [0.2000, 0.0000, 0.0000, 0.2000, 0.2000, 0.2000, 0.2000, 0.0000],\n",
       "        [0.2000, 0.0000, 0.0000, 0.2000, 0.2000, 0.2000, 0.0000, 0.2000],\n",
       "        [0.0000, 0.0000, 0.2000, 0.2000, 0.2000, 0.2000, 0.2000, 0.0000],\n",
       "        [0.0000, 0.0000, 0.2000, 0.2000, 0.0000, 0.2000, 0.2000, 0.2000],\n",
       "        [0.0000, 0.0000, 0.0000, 0.0000, 0.3333, 0.0000, 0.3333, 0.3333]])"
      ]
     },
     "execution_count": 75,
     "metadata": {},
     "output_type": "execute_result"
    }
   ],
   "source": [
    "Arw"
   ]
  },
  {
   "cell_type": "code",
   "execution_count": 80,
   "metadata": {},
   "outputs": [
    {
     "name": "stdout",
     "output_type": "stream",
     "text": [
      "tensor([[0.5000, 0.5000, 1.0000],\n",
      "        [1.0000, 0.0000, 1.0000],\n",
      "        [0.3333, 0.6667, 1.0000],\n",
      "        [0.2000, 0.8000, 1.0000],\n",
      "        [0.2000, 0.8000, 1.0000],\n",
      "        [0.2000, 0.8000, 1.0000],\n",
      "        [0.2000, 0.8000, 1.0000],\n",
      "        [0.0000, 1.0000, 1.0000]])\n",
      "tensor([[1.5000, 1.5000, 1.5000, 1.5000, 1.5000, 1.5000, 1.5000, 1.5000],\n",
      "        [1.5000, 2.0000, 1.3333, 1.2000, 1.2000, 1.2000, 1.2000, 1.0000],\n",
      "        [1.5000, 1.3333, 1.5556, 1.6000, 1.6000, 1.6000, 1.6000, 1.6667],\n",
      "        [1.5000, 1.2000, 1.6000, 1.6800, 1.6800, 1.6800, 1.6800, 1.8000],\n",
      "        [1.5000, 1.2000, 1.6000, 1.6800, 1.6800, 1.6800, 1.6800, 1.8000],\n",
      "        [1.5000, 1.2000, 1.6000, 1.6800, 1.6800, 1.6800, 1.6800, 1.8000],\n",
      "        [1.5000, 1.2000, 1.6000, 1.6800, 1.6800, 1.6800, 1.6800, 1.8000],\n",
      "        [1.5000, 1.0000, 1.6667, 1.8000, 1.8000, 1.8000, 1.8000, 2.0000]])\n"
     ]
    }
   ],
   "source": [
    "AX = torch.mm(Arw,x)\n",
    "print(AX)\n",
    "print(torch.mm(AX,AX.T))"
   ]
  },
  {
   "cell_type": "code",
   "execution_count": null,
   "metadata": {},
   "outputs": [],
   "source": [
    "#x = torch.Tensor([[1,0],[1,0],[1,0],[0,1],[0,1],[0,1],[0,1]])\n",
    "x = torch.Tensor([0,0,0,1,1,1,1]).view(-1,1)\n",
    "y = torch.LongTensor([0,0,0, 1, 1, 1, 1])\n",
    "edge_index = torch.LongTensor([[1,2],[1,4],[1,5],[2,1],[3,6],[3,7],[4,5],[4,1],[4,6],[4,7],[5,1],[5,4],[5,6],[6,3],[6,4],[6,5],[6,7],[7,3],[7,4],[7,6]]).T\n",
    "edge_index = edge_index-1\n",
    "data = Data(x=x, y=y, edge_index = edge_index)"
   ]
  },
  {
   "cell_type": "code",
   "execution_count": null,
   "metadata": {},
   "outputs": [],
   "source": []
  },
  {
   "cell_type": "code",
   "execution_count": null,
   "metadata": {},
   "outputs": [],
   "source": [
    "draw_graph(edge_index, y, 7)"
   ]
  },
  {
   "cell_type": "code",
   "execution_count": null,
   "metadata": {},
   "outputs": [],
   "source": []
  }
 ],
 "metadata": {
  "kernelspec": {
   "display_name": "py38cu11",
   "language": "python",
   "name": "py38cu11"
  },
  "language_info": {
   "codemirror_mode": {
    "name": "ipython",
    "version": 3
   },
   "file_extension": ".py",
   "mimetype": "text/x-python",
   "name": "python",
   "nbconvert_exporter": "python",
   "pygments_lexer": "ipython3",
   "version": "3.8.13"
  },
  "varInspector": {
   "cols": {
    "lenName": 16,
    "lenType": 16,
    "lenVar": 40
   },
   "kernels_config": {
    "python": {
     "delete_cmd_postfix": "",
     "delete_cmd_prefix": "del ",
     "library": "var_list.py",
     "varRefreshCmd": "print(var_dic_list())"
    },
    "r": {
     "delete_cmd_postfix": ") ",
     "delete_cmd_prefix": "rm(",
     "library": "var_list.r",
     "varRefreshCmd": "cat(var_dic_list()) "
    }
   },
   "types_to_exclude": [
    "module",
    "function",
    "builtin_function_or_method",
    "instance",
    "_Feature"
   ],
   "window_display": false
  }
 },
 "nbformat": 4,
 "nbformat_minor": 4
}
