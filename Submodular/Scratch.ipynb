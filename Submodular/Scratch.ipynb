{
 "cells": [
  {
   "cell_type": "code",
   "execution_count": 5,
   "id": "cd4eaeb7",
   "metadata": {},
   "outputs": [],
   "source": [
    "from ipynb.fs.full.Dataset import get_data\n",
    "import time"
   ]
  },
  {
   "cell_type": "code",
   "execution_count": 6,
   "id": "72192bd7",
   "metadata": {
    "scrolled": true
   },
   "outputs": [
    {
     "name": "stdout",
     "output_type": "stream",
     "text": [
      "N  34  E  156  d  4.588235294117647 0.8020520210266113 0.7564102411270142 0.6170591711997986 -0.4756128787994385 "
     ]
    }
   ],
   "source": [
    "data, dataset = get_data('karate', log=False, h_score=True) "
   ]
  },
  {
   "cell_type": "code",
   "execution_count": 7,
   "id": "3b275617",
   "metadata": {},
   "outputs": [],
   "source": [
    "from ipynb.fs.full.KNNWeights import KNNWeight\n",
    "#from KNNWeights import KNNWeight"
   ]
  },
  {
   "cell_type": "code",
   "execution_count": 8,
   "id": "4248c8cb",
   "metadata": {},
   "outputs": [
    {
     "name": "stdout",
     "output_type": "stream",
     "text": [
      "Metric:  cosine\n"
     ]
    },
    {
     "name": "stderr",
     "output_type": "stream",
     "text": [
      "Nodes: 100%|██████████| 34/34 [00:00<00:00, 2361.54it/s]"
     ]
    },
    {
     "name": "stdout",
     "output_type": "stream",
     "text": [
      "Execution time:  0.016364574432373047\n"
     ]
    },
    {
     "name": "stderr",
     "output_type": "stream",
     "text": [
      "\n"
     ]
    }
   ],
   "source": [
    "knn_weight = KNNWeight(data, 'cosine', log = True)\n",
    "start = time.time()    \n",
    "data.weight = knn_weight.compute_weights()\n",
    "end = time.time()\n",
    "print(\"Execution time: \", end-start)"
   ]
  },
  {
   "cell_type": "code",
   "execution_count": 30,
   "id": "b97d7a01",
   "metadata": {},
   "outputs": [
    {
     "name": "stdout",
     "output_type": "stream",
     "text": [
      "32\n",
      "9.665312767028809\n"
     ]
    }
   ],
   "source": [
    "import multiprocessing\n",
    "\n",
    "def square_number(number):\n",
    "    return number ** 2\n",
    "\n",
    "if __name__ == \"__main__\":\n",
    "    num_processes = multiprocessing.cpu_count()\n",
    "    \n",
    "    num_processes=1\n",
    "    print(num_processes)\n",
    "\n",
    "    start= time.time()\n",
    "    pool = multiprocessing.Pool(processes=num_processes)\n",
    "    \n",
    "    #numbers = [1, 2, 3, 4, 5, 6, 7, 8, 9, 10]\n",
    "    numbers = range(100000000)\n",
    "    \n",
    "    \n",
    "    squared_results = pool.map(square_number, numbers)\n",
    "    \n",
    "    \n",
    "    \n",
    "    pool.close()\n",
    "    pool.join()\n",
    "    \n",
    "    end = time.time()\n",
    "    \n",
    "    print(end-start)\n"
   ]
  },
  {
   "cell_type": "code",
   "execution_count": 31,
   "id": "e91baa16",
   "metadata": {},
   "outputs": [
    {
     "name": "stdout",
     "output_type": "stream",
     "text": [
      "23.023126363754272\n"
     ]
    }
   ],
   "source": [
    "start= time.time()\n",
    "for number in range(100000000):\n",
    "    square_number(number)\n",
    "    \n",
    "end = time.time()\n",
    "print(end-start)"
   ]
  },
  {
   "cell_type": "code",
   "execution_count": null,
   "id": "2718d24d",
   "metadata": {},
   "outputs": [],
   "source": []
  }
 ],
 "metadata": {
  "kernelspec": {
   "display_name": "py38cu11",
   "language": "python",
   "name": "py38cu11"
  },
  "language_info": {
   "codemirror_mode": {
    "name": "ipython",
    "version": 3
   },
   "file_extension": ".py",
   "mimetype": "text/x-python",
   "name": "python",
   "nbconvert_exporter": "python",
   "pygments_lexer": "ipython3",
   "version": "3.8.13"
  }
 },
 "nbformat": 4,
 "nbformat_minor": 5
}
