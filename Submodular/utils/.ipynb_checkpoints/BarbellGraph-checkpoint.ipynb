{
 "cells": [
  {
   "cell_type": "code",
   "execution_count": 1,
   "id": "c0402410",
   "metadata": {},
   "outputs": [],
   "source": [
    "import networkx as nx\n",
    "import matplotlib.pyplot as plt\n",
    "\n",
    "\n",
    "def generate_barbell(n_clique=10, n_path = 10):\n",
    "\n",
    "    clique1 = nx.complete_graph(n_clique)\n",
    "    clique1_pos = nx.circular_layout(clique1)\n",
    "    clique2 = nx.complete_graph(n_clique)\n",
    "    clique2_mapping = {node: node + n_clique for node in clique2}\n",
    "    nx.relabel_nodes(clique2, clique2_mapping, copy=False) # avoids repeated nodes\n",
    "    x_diff, y_diff = 8, -1\n",
    "    clique2_pos = {node: clique1_pos[node-n_clique] + (x_diff, y_diff) for node in clique2}\n",
    "    path = nx.path_graph(n_path)\n",
    "    path_mapping = {node: node + 2 * n_clique for node in path}\n",
    "    nx.relabel_nodes(path, path_mapping, copy=False) # avoids repeated nodes\n",
    "    path_nodes = list(path.nodes)\n",
    "    path_half1_nodes = path_nodes[:n_path//2]\n",
    "    path_half2_nodes = path_nodes[n_path//2:]\n",
    "    path_dist = 0.8\n",
    "    clique2_entry = n_clique + n_clique // 2\n",
    "    path_half1_pos = {node: clique1_pos[0] + (path_dist + i * path_dist, 0) for i, node in enumerate(path_half1_nodes)}\n",
    "    path_half2_pos = {node: clique2_pos[clique2_entry] - (path_dist + i * path_dist, 0) for i, node in enumerate(path_half2_nodes[::-1])}\n",
    "    path_pos = {**path_half1_pos, **path_half2_pos}\n",
    "    barbell = nx.Graph()\n",
    "    barbell.add_edges_from(clique1.edges)\n",
    "    barbell.add_edges_from(clique2.edges)\n",
    "    barbell.add_edges_from(path.edges)\n",
    "    barbell.add_edges_from([(path_half1_nodes[0], 0), (path_half2_nodes[-1], clique2_entry)])\n",
    "    clique_pos = {**clique1_pos, **clique2_pos}\n",
    "    barbell_pos = {**clique_pos, **path_pos}\n",
    "    \n",
    "    for (u, v) in barbell.edges():\n",
    "        nx.set_edge_attributes(barbell, {(u, v): {\"weight\": 1.0}})\n",
    "\n",
    "#     plt.figure(figsize=(20, 6))\n",
    "#     nx.draw(barbell, pos=barbell_pos, with_labels=True, node_size=1000, alpha=0.8, font_size=16)\n",
    "    \n",
    "    return barbell, barbell_pos\n",
    "\n",
    "\n",
    "#barbell, barbell_pos=generate_barbell(10,10)"
   ]
  },
  {
   "cell_type": "code",
   "execution_count": 11,
   "id": "c7a5852f",
   "metadata": {},
   "outputs": [],
   "source": [
    "def draw_graph(G, pos, layout=None):\n",
    "    plt.figure(figsize=(20, 6))\n",
    "    \n",
    "    if layout=='spring':        \n",
    "        pos = nx.spring_layout(G)\n",
    "        #pos = nx.spring_layout(G,k=0.5)\n",
    "        \n",
    "    elif layout=='circular':        \n",
    "        pos = nx.circular_layout(G)\n",
    "    \n",
    "    #nx.draw(G,pos)\n",
    "    #nx.draw_networkx_labels(G, pos)\n",
    "    #nx.draw_networkx_edge_labels(G,pos,nx.get_edge_attributes(G,'label'))\n",
    "\n",
    "#     colors=['blue','green','cyan','yellow']\n",
    "#     color_map=[colors[data_info.y[node]] for node in G]\n",
    "\n",
    "    #nx.draw(G, pos, node_color=color_map, with_labels=True,alpha=0.5)\n",
    "    \n",
    "    #edge_labels = nx.get_edge_attributes(G,'weight')\n",
    "    \n",
    "    if nx.is_weighted(G):\n",
    "        edge_labels = dict([((u,v,), f\"{d['weight']:.2f}\") for u,v,d in G.edges(data=True)])\n",
    "    else:\n",
    "        edge_labels = dict([((u,v,), f\"{1}\") for u,v in G.edges()])\n",
    "    \n",
    "    #print(edge_labels)\n",
    "    \n",
    "    nx.draw(G, pos, with_labels=True, alpha=1, node_size=1000,font_size=16)\n",
    "    #nx.draw(G)\n",
    "    nx.draw_networkx_edge_labels(G, pos, edge_labels=edge_labels,font_color='red')\n",
    "    \n",
    "    plt.show()\n",
    "    \n",
    "#draw_graph(barbell, barbell_pos)"
   ]
  },
  {
   "cell_type": "code",
   "execution_count": null,
   "id": "1ef110d1",
   "metadata": {},
   "outputs": [],
   "source": [
    "if __name__ == \"__main__\":\n",
    "    barbell, barbell_pos=generate_barbell(10,10)\n",
    "    draw_graph(barbell, barbell_pos, None)\n",
    "    None"
   ]
  },
  {
   "cell_type": "code",
   "execution_count": null,
   "id": "9756e292",
   "metadata": {},
   "outputs": [],
   "source": []
  },
  {
   "cell_type": "code",
   "execution_count": null,
   "id": "dd80b152",
   "metadata": {},
   "outputs": [],
   "source": []
  }
 ],
 "metadata": {
  "kernelspec": {
   "display_name": "Python (My py38cu11 Kernel)",
   "language": "python",
   "name": "py38cu11"
  },
  "language_info": {
   "codemirror_mode": {
    "name": "ipython",
    "version": 3
   },
   "file_extension": ".py",
   "mimetype": "text/x-python",
   "name": "python",
   "nbconvert_exporter": "python",
   "pygments_lexer": "ipython3",
   "version": "3.8.13"
  }
 },
 "nbformat": 4,
 "nbformat_minor": 5
}
