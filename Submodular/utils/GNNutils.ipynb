{
 "cells": [
  {
   "cell_type": "markdown",
   "id": "11d287b8",
   "metadata": {},
   "source": [
    "### TSNE visualization"
   ]
  },
  {
   "cell_type": "code",
   "execution_count": 10,
   "id": "1f5df273",
   "metadata": {},
   "outputs": [],
   "source": [
    "# Helper function for visualization.\n",
    "#%matplotlib inline\n",
    "import matplotlib.pyplot as plt\n",
    "from sklearn.manifold import TSNE\n",
    "\n",
    "def visualize(h, color):\n",
    "    z = TSNE(n_components=2).fit_transform(h.detach().cpu().numpy())\n",
    "\n",
    "    plt.figure(figsize=(10,10))\n",
    "    plt.xticks([])\n",
    "    plt.yticks([])\n",
    "\n",
    "    plt.scatter(z[:, 0], z[:, 1], s=70, c=color, cmap=\"Set2\")\n",
    "    plt.show()"
   ]
  },
  {
   "cell_type": "code",
   "execution_count": 11,
   "id": "3f00ab34",
   "metadata": {},
   "outputs": [],
   "source": [
    "def visualize_embedding(model, data):\n",
    "    model.eval()\n",
    "    out = model(data.x, data.edge_index)\n",
    "    visualize(out.cpu(), color=data.y.cpu())"
   ]
  },
  {
   "cell_type": "markdown",
   "id": "ed9efeb6",
   "metadata": {},
   "source": [
    "### Save Gephi "
   ]
  },
  {
   "cell_type": "code",
   "execution_count": 13,
   "id": "b4af1bc1",
   "metadata": {},
   "outputs": [],
   "source": [
    "import networkx as nx\n",
    "\n",
    "def save_gephi_graph(G,y, name=''):\n",
    "\n",
    "    labels=[]\n",
    "    y = [str(i.item()) for i in y]\n",
    "    labels = dict(zip(range(len(y)), y))\n",
    "\n",
    "    #print(labels)\n",
    "\n",
    "    nx.set_node_attributes(G, labels, 'labels')\n",
    "    print(\"Writing gephi....\", name)\n",
    "    \n",
    "    nx.write_gexf(G, name+'.gexf')\n",
    "    print(\"Done....\")\n",
    "    \n",
    "    return"
   ]
  },
  {
   "cell_type": "markdown",
   "id": "e0699b42",
   "metadata": {},
   "source": [
    "## Draw homophiliy density"
   ]
  },
  {
   "cell_type": "code",
   "execution_count": 32,
   "id": "ccedda5c",
   "metadata": {},
   "outputs": [],
   "source": [
    "import matplotlib.pyplot as plt\n",
    "from sklearn.manifold import TSNE\n",
    "import numpy as np\n",
    "import matplotlib.pyplot as plt\n",
    "from scipy.stats import norm, gamma, uniform"
   ]
  },
  {
   "cell_type": "code",
   "execution_count": 23,
   "id": "337f9d93",
   "metadata": {},
   "outputs": [],
   "source": [
    "def pd_hist(data):\n",
    "    # Generate some random data\n",
    "    #data = np.random.normal(size=1000)\n",
    "    # Calculate the probability density function\n",
    "    density, bins, _ = plt.hist(data, density=True, bins=100)\n",
    "\n",
    "    # Plot the probability density function\n",
    "    plt.plot(bins[:-1], density)\n",
    "\n",
    "    # Add labels and title\n",
    "    plt.xlabel('Value')\n",
    "    plt.ylabel('Probability Density')\n",
    "    plt.title('Probability Density Function')\n",
    "\n",
    "    # Show the plot\n",
    "    plt.show()"
   ]
  },
  {
   "cell_type": "code",
   "execution_count": 36,
   "id": "927449c0",
   "metadata": {},
   "outputs": [],
   "source": [
    "def pd_curve(data):\n",
    "    # Generate some random data\n",
    "    #data = np.random.normal(size=1000)\n",
    "\n",
    "    # Fit a normal distribution to the data\n",
    "    mu, std = norm.fit(data)\n",
    "\n",
    "    # Create a range of values for the x-axis\n",
    "    x = np.linspace(0, 1, 100)\n",
    "\n",
    "    # Calculate the probability density function for the normal distribution\n",
    "    pdf = norm.pdf(x, mu, std)\n",
    "\n",
    "    # Plot the probability density function\n",
    "    plt.plot(x, pdf)\n",
    "\n",
    "    # Add labels and title\n",
    "    plt.xlabel('Value')\n",
    "    plt.ylabel('Probability Density')\n",
    "    plt.title('Probability Density Function')\n",
    "\n",
    "    # Show the plot\n",
    "    plt.show()\n"
   ]
  },
  {
   "cell_type": "code",
   "execution_count": 38,
   "id": "dee865bf",
   "metadata": {},
   "outputs": [],
   "source": [
    "# data = [0.01, 0.1,0.6, 0.9,0, 1, 0.5]\n",
    "# pd_hist(data)\n",
    "# pd_curve(data)"
   ]
  },
  {
   "cell_type": "code",
   "execution_count": null,
   "id": "2ed77410",
   "metadata": {},
   "outputs": [],
   "source": []
  }
 ],
 "metadata": {
  "kernelspec": {
   "display_name": "py38cu11",
   "language": "python",
   "name": "py38cu11"
  },
  "language_info": {
   "codemirror_mode": {
    "name": "ipython",
    "version": 3
   },
   "file_extension": ".py",
   "mimetype": "text/x-python",
   "name": "python",
   "nbconvert_exporter": "python",
   "pygments_lexer": "ipython3",
   "version": "3.8.13"
  }
 },
 "nbformat": 4,
 "nbformat_minor": 5
}
