{
 "cells": [
  {
   "cell_type": "code",
   "execution_count": 42,
   "id": "861ee494",
   "metadata": {},
   "outputs": [
    {
     "name": "stdout",
     "output_type": "stream",
     "text": [
      "There are 1 GPU(s) available.\n",
      "We will use the GPU: NVIDIA A10\n",
      "cuda\n",
      "Cpu count:  32\n"
     ]
    }
   ],
   "source": [
    "import DeviceDir\n",
    "\n",
    "DIR, RESULTS_DIR = DeviceDir.get_directory()\n",
    "device, NUM_PROCESSORS = DeviceDir.get_device()"
   ]
  },
  {
   "cell_type": "code",
   "execution_count": 43,
   "id": "d5774dcb",
   "metadata": {},
   "outputs": [],
   "source": [
    "import os\n",
    "\n",
    "os.environ[\"DGLBACKEND\"] = \"pytorch\"\n",
    "import dgl\n",
    "import numpy as np\n",
    "import torch\n",
    "import tqdm\n",
    "import sklearn.metrics"
   ]
  },
  {
   "cell_type": "code",
   "execution_count": 44,
   "id": "de7a8f7b",
   "metadata": {},
   "outputs": [
    {
     "data": {
      "text/plain": [
       "(Graph(num_nodes=169343, num_edges=1166243,\n",
       "       ndata_schemes={'year': Scheme(shape=(1,), dtype=torch.int64), 'feat': Scheme(shape=(128,), dtype=torch.float32)}\n",
       "       edata_schemes={}),\n",
       " tensor([[ 4],\n",
       "         [ 5],\n",
       "         [28],\n",
       "         ...,\n",
       "         [10],\n",
       "         [ 4],\n",
       "         [ 1]]))"
      ]
     },
     "execution_count": 44,
     "metadata": {},
     "output_type": "execute_result"
    }
   ],
   "source": [
    "from ogb.nodeproppred import DglNodePropPredDataset\n",
    "dataset = DglNodePropPredDataset(root = DIR, name=\"ogbn-arxiv\")\n",
    "graph, node_labels = dataset[0]\n",
    "\n",
    "dataset[0]"
   ]
  },
  {
   "cell_type": "code",
   "execution_count": 45,
   "id": "3adf3439",
   "metadata": {},
   "outputs": [
    {
     "name": "stdout",
     "output_type": "stream",
     "text": [
      "Graph(num_nodes=169343, num_edges=2332486,\n",
      "      ndata_schemes={'year': Scheme(shape=(1,), dtype=torch.int64), 'feat': Scheme(shape=(128,), dtype=torch.float32), 'label': Scheme(shape=(), dtype=torch.int64)}\n",
      "      edata_schemes={})\n",
      "tensor([[ 4],\n",
      "        [ 5],\n",
      "        [28],\n",
      "        ...,\n",
      "        [10],\n",
      "        [ 4],\n",
      "        [ 1]])\n",
      "Number of classes: 40\n"
     ]
    }
   ],
   "source": [
    "graph, node_labels = dataset[0]\n",
    "# Add reverse edges since ogbn-arxiv is unidirectional.\n",
    "graph = dgl.add_reverse_edges(graph)\n",
    "graph.ndata[\"label\"] = node_labels[:, 0]\n",
    "print(graph)\n",
    "print(node_labels)\n",
    "\n",
    "node_features = graph.ndata[\"feat\"]\n",
    "num_features = node_features.shape[1]\n",
    "num_classes = (node_labels.max() + 1).item()\n",
    "print(\"Number of classes:\", num_classes)"
   ]
  },
  {
   "cell_type": "code",
   "execution_count": 46,
   "id": "6a8630ec",
   "metadata": {},
   "outputs": [
    {
     "name": "stdout",
     "output_type": "stream",
     "text": [
      "torch.Size([90941])\n",
      "torch.Size([29799])\n",
      "torch.Size([48603])\n"
     ]
    }
   ],
   "source": [
    "idx_split = dataset.get_idx_split()\n",
    "train_nids = idx_split[\"train\"]\n",
    "valid_nids = idx_split[\"valid\"]\n",
    "test_nids = idx_split[\"test\"]\n",
    "\n",
    "print(train_nids.shape)\n",
    "print(valid_nids.shape)\n",
    "print(test_nids.shape)"
   ]
  },
  {
   "cell_type": "code",
   "execution_count": 47,
   "id": "4dee7f8b",
   "metadata": {},
   "outputs": [],
   "source": [
    "sampler = dgl.dataloading.NeighborSampler([4, 4])\n",
    "\n",
    "train_dataloader = dgl.dataloading.DataLoader(\n",
    "    # The following arguments are specific to DGL's DataLoader.\n",
    "    graph,  # The graph\n",
    "    train_nids,  # The node IDs to iterate over in minibatches\n",
    "    sampler,  # The neighbor sampler\n",
    "    device=device,  # Put the sampled MFGs on CPU or GPU\n",
    "    # The following arguments are inherited from PyTorch DataLoader.\n",
    "    batch_size=1024,  # Batch size\n",
    "    shuffle=True,  # Whether to shuffle the nodes for every epoch\n",
    "    drop_last=False,  # Whether to drop the last incomplete batch\n",
    "    num_workers=0,  # Number of sampler processes\n",
    ")"
   ]
  },
  {
   "cell_type": "code",
   "execution_count": 48,
   "id": "aa60f464",
   "metadata": {},
   "outputs": [
    {
     "name": "stdout",
     "output_type": "stream",
     "text": [
      "[tensor([ 10559, 142966, 158330,  ..., 123986,  90269,  32594], device='cuda:0'), tensor([ 10559, 142966, 158330,  ..., 134556, 140985, 112807], device='cuda:0'), [Block(num_src_nodes=12638, num_dst_nodes=4048, num_edges=14587), Block(num_src_nodes=4048, num_dst_nodes=1024, num_edges=3247)]]\n",
      "To compute 1024 nodes' outputs, we need 12638 nodes' input features\n"
     ]
    }
   ],
   "source": [
    "input_nodes, output_nodes, mfgs = example_minibatch = next(iter(train_dataloader))\n",
    "\n",
    "print(example_minibatch)\n",
    "\n",
    "print(\n",
    "    \"To compute {} nodes' outputs, we need {} nodes' input features\".format(\n",
    "        len(output_nodes), len(input_nodes)\n",
    "    )\n",
    ")\n",
    "\n"
   ]
  },
  {
   "cell_type": "code",
   "execution_count": 49,
   "id": "6ab6f7fe",
   "metadata": {},
   "outputs": [
    {
     "name": "stdout",
     "output_type": "stream",
     "text": [
      "[Block(num_src_nodes=12638, num_dst_nodes=4048, num_edges=14587), Block(num_src_nodes=4048, num_dst_nodes=1024, num_edges=3247)]\n"
     ]
    }
   ],
   "source": [
    "print(mfgs)"
   ]
  },
  {
   "cell_type": "code",
   "execution_count": 50,
   "id": "ebffd44a",
   "metadata": {},
   "outputs": [
    {
     "data": {
      "text/plain": [
       "{'year': tensor([[2013],\n",
       "        [2012],\n",
       "        [2016],\n",
       "        ...,\n",
       "        [2016],\n",
       "        [2015],\n",
       "        [2018]], device='cuda:0'), 'feat': tensor([[-0.1217,  0.2442, -0.3062,  ...,  0.2842, -0.1261, -0.0599],\n",
       "        [-0.0203,  0.1895, -0.3183,  ..., -0.1323, -0.1415, -0.3087],\n",
       "        [-0.1652, -0.1308, -0.2963,  ...,  0.1601, -0.1070, -0.1039],\n",
       "        ...,\n",
       "        [-0.1589, -0.0485, -0.0630,  ...,  0.1198,  0.1243, -0.1605],\n",
       "        [-0.1419, -0.2851, -0.4028,  ...,  0.0036, -0.2797, -0.2738],\n",
       "        [-0.1922,  0.0355, -0.2366,  ...,  0.0691, -0.0317, -0.2648]],\n",
       "       device='cuda:0'), 'label': tensor([24, 28, 34,  ..., 16, 24, 16], device='cuda:0'), '_ID': tensor([ 10559, 142966, 158330,  ..., 123986,  90269,  32594], device='cuda:0')}"
      ]
     },
     "execution_count": 50,
     "metadata": {},
     "output_type": "execute_result"
    }
   ],
   "source": [
    "mfgs[0].srcdata"
   ]
  },
  {
   "cell_type": "code",
   "execution_count": 51,
   "id": "147be3d0",
   "metadata": {},
   "outputs": [
    {
     "name": "stdout",
     "output_type": "stream",
     "text": [
      "tensor([ 10559, 142966, 158330,  ..., 123986,  90269,  32594], device='cuda:0')\n",
      "tensor([ 10559, 142966, 158330,  ...,  92565,  59255,   9371], device='cuda:0')\n",
      "True\n"
     ]
    }
   ],
   "source": [
    "mfg_0_src = mfgs[0].srcdata[dgl.NID]\n",
    "mfg_0_dst = mfgs[0].dstdata[dgl.NID]\n",
    "print(mfg_0_src)\n",
    "print(mfg_0_dst)\n",
    "print(torch.equal(mfg_0_src[: mfgs[0].num_dst_nodes()], mfg_0_dst))"
   ]
  },
  {
   "cell_type": "code",
   "execution_count": 52,
   "id": "e886503d",
   "metadata": {},
   "outputs": [],
   "source": [
    "import torch.nn as nn\n",
    "import torch.nn.functional as F\n",
    "from dgl.nn import SAGEConv\n",
    "\n",
    "\n",
    "class Model(nn.Module):\n",
    "    def __init__(self, in_feats, h_feats, num_classes):\n",
    "        super(Model, self).__init__()\n",
    "        self.conv1 = SAGEConv(in_feats, h_feats, aggregator_type=\"mean\")\n",
    "        self.conv2 = SAGEConv(h_feats, num_classes, aggregator_type=\"mean\")\n",
    "        self.h_feats = h_feats\n",
    "\n",
    "    def forward(self, mfgs, x):\n",
    "        # Lines that are changed are marked with an arrow: \"<---\"\n",
    "\n",
    "        h_dst = x[: mfgs[0].num_dst_nodes()]  # <---\n",
    "        h = self.conv1(mfgs[0], (x, h_dst))  # <---\n",
    "        h = F.relu(h)\n",
    "        h_dst = h[: mfgs[1].num_dst_nodes()]  # <---\n",
    "        h = self.conv2(mfgs[1], (h, h_dst))  # <---\n",
    "        return h\n",
    "\n",
    "\n",
    "model = Model(num_features, 128, num_classes).to(device)"
   ]
  },
  {
   "cell_type": "code",
   "execution_count": 53,
   "id": "93e26229",
   "metadata": {},
   "outputs": [],
   "source": [
    "def train(epochs = 10):\n",
    "    opt = torch.optim.Adam(model.parameters())\n",
    "    \n",
    "    valid_dataloader = dgl.dataloading.DataLoader(\n",
    "        graph,\n",
    "        valid_nids,\n",
    "        sampler,\n",
    "        batch_size=1024,\n",
    "        shuffle=False,\n",
    "        drop_last=False,\n",
    "        num_workers=0,\n",
    "        device=device,\n",
    "    )\n",
    "\n",
    "\n",
    "    best_accuracy = 0\n",
    "    best_model_path = DIR+\"arxiv-model.pt\"\n",
    "    \n",
    "    for epoch in range(epochs):\n",
    "        model.train()\n",
    "\n",
    "        with tqdm.tqdm(train_dataloader) as tq:\n",
    "            for step, (input_nodes, output_nodes, mfgs) in enumerate(tq):\n",
    "                # feature copy from CPU to GPU takes place here\n",
    "                inputs = mfgs[0].srcdata[\"feat\"]\n",
    "                labels = mfgs[-1].dstdata[\"label\"]\n",
    "\n",
    "                predictions = model(mfgs, inputs)\n",
    "\n",
    "                loss = F.cross_entropy(predictions, labels)\n",
    "                opt.zero_grad()\n",
    "                loss.backward()\n",
    "                opt.step()\n",
    "\n",
    "                accuracy = sklearn.metrics.accuracy_score(\n",
    "                    labels.cpu().numpy(),\n",
    "                    predictions.argmax(1).detach().cpu().numpy(),\n",
    "                )\n",
    "\n",
    "                tq.set_postfix(\n",
    "                    {\"loss\": \"%.03f\" % loss.item(), \"acc\": \"%.03f\" % accuracy},\n",
    "                    refresh=False,\n",
    "                )                \n",
    "\n",
    "        model.eval()\n",
    "\n",
    "        predictions = []\n",
    "        labels = []\n",
    "        with tqdm.tqdm(valid_dataloader) as tq, torch.no_grad():\n",
    "            for input_nodes, output_nodes, mfgs in tq:\n",
    "                inputs = mfgs[0].srcdata[\"feat\"]\n",
    "                labels.append(mfgs[-1].dstdata[\"label\"].cpu().numpy())\n",
    "                predictions.append(model(mfgs, inputs).argmax(1).cpu().numpy())\n",
    "            \n",
    "            predictions = np.concatenate(predictions)\n",
    "            labels = np.concatenate(labels)\n",
    "            accuracy = sklearn.metrics.accuracy_score(labels, predictions)\n",
    "            print(\"Epoch {} Validation Accuracy {}\".format(epoch, accuracy))\n",
    "            if best_accuracy < accuracy:\n",
    "                best_accuracy = accuracy\n",
    "                torch.save(model.state_dict(), best_model_path)\n",
    "\n",
    "            # Note that this tutorial do not train the whole model to the end.\n",
    "            #break\n"
   ]
  },
  {
   "cell_type": "code",
   "execution_count": 54,
   "id": "773c6717",
   "metadata": {},
   "outputs": [
    {
     "name": "stderr",
     "output_type": "stream",
     "text": [
      "100%|██████████| 89/89 [00:00<00:00, 156.29it/s, loss=1.877, acc=0.522]\n",
      "100%|██████████| 30/30 [00:00<00:00, 122.63it/s]\n"
     ]
    },
    {
     "name": "stdout",
     "output_type": "stream",
     "text": [
      "Epoch 0 Validation Accuracy 0.5567300916138126\n"
     ]
    },
    {
     "name": "stderr",
     "output_type": "stream",
     "text": [
      "100%|██████████| 89/89 [00:00<00:00, 157.78it/s, loss=1.465, acc=0.584]\n",
      "100%|██████████| 30/30 [00:00<00:00, 182.54it/s]\n"
     ]
    },
    {
     "name": "stdout",
     "output_type": "stream",
     "text": [
      "Epoch 1 Validation Accuracy 0.6106580757743548\n"
     ]
    },
    {
     "name": "stderr",
     "output_type": "stream",
     "text": [
      "100%|██████████| 89/89 [00:00<00:00, 146.45it/s, loss=1.350, acc=0.591]\n",
      "100%|██████████| 30/30 [00:00<00:00, 223.32it/s]\n"
     ]
    },
    {
     "name": "stdout",
     "output_type": "stream",
     "text": [
      "Epoch 2 Validation Accuracy 0.624316252223229\n"
     ]
    },
    {
     "name": "stderr",
     "output_type": "stream",
     "text": [
      "100%|██████████| 89/89 [00:00<00:00, 107.60it/s, loss=1.209, acc=0.616]\n",
      "100%|██████████| 30/30 [00:00<00:00, 199.70it/s]\n"
     ]
    },
    {
     "name": "stdout",
     "output_type": "stream",
     "text": [
      "Epoch 3 Validation Accuracy 0.6344508204973321\n"
     ]
    },
    {
     "name": "stderr",
     "output_type": "stream",
     "text": [
      "100%|██████████| 89/89 [00:00<00:00, 161.01it/s, loss=1.138, acc=0.653]\n",
      "100%|██████████| 30/30 [00:00<00:00, 233.64it/s]\n"
     ]
    },
    {
     "name": "stdout",
     "output_type": "stream",
     "text": [
      "Epoch 4 Validation Accuracy 0.6455250176180408\n"
     ]
    },
    {
     "name": "stderr",
     "output_type": "stream",
     "text": [
      "100%|██████████| 89/89 [00:00<00:00, 150.37it/s, loss=1.196, acc=0.656]\n",
      "100%|██████████| 30/30 [00:00<00:00, 226.88it/s]\n"
     ]
    },
    {
     "name": "stdout",
     "output_type": "stream",
     "text": [
      "Epoch 5 Validation Accuracy 0.6534111882949092\n"
     ]
    },
    {
     "name": "stderr",
     "output_type": "stream",
     "text": [
      "100%|██████████| 89/89 [00:00<00:00, 132.53it/s, loss=1.052, acc=0.700]\n",
      "100%|██████████| 30/30 [00:00<00:00, 151.76it/s]\n"
     ]
    },
    {
     "name": "stdout",
     "output_type": "stream",
     "text": [
      "Epoch 6 Validation Accuracy 0.6560958421423537\n"
     ]
    },
    {
     "name": "stderr",
     "output_type": "stream",
     "text": [
      "100%|██████████| 89/89 [00:00<00:00, 162.66it/s, loss=1.183, acc=0.653]\n",
      "100%|██████████| 30/30 [00:00<00:00, 198.62it/s]\n"
     ]
    },
    {
     "name": "stdout",
     "output_type": "stream",
     "text": [
      "Epoch 7 Validation Accuracy 0.6576395181046344\n"
     ]
    },
    {
     "name": "stderr",
     "output_type": "stream",
     "text": [
      "100%|██████████| 89/89 [00:00<00:00, 132.67it/s, loss=1.162, acc=0.626]\n",
      "100%|██████████| 30/30 [00:00<00:00, 231.77it/s]\n"
     ]
    },
    {
     "name": "stdout",
     "output_type": "stream",
     "text": [
      "Epoch 8 Validation Accuracy 0.6581093325279371\n"
     ]
    },
    {
     "name": "stderr",
     "output_type": "stream",
     "text": [
      "100%|██████████| 89/89 [00:00<00:00, 172.28it/s, loss=1.035, acc=0.702]\n",
      "100%|██████████| 30/30 [00:00<00:00, 228.90it/s]"
     ]
    },
    {
     "name": "stdout",
     "output_type": "stream",
     "text": [
      "Epoch 9 Validation Accuracy 0.662773918587872\n"
     ]
    },
    {
     "name": "stderr",
     "output_type": "stream",
     "text": [
      "\n"
     ]
    }
   ],
   "source": [
    "train()"
   ]
  },
  {
   "cell_type": "code",
   "execution_count": 55,
   "id": "5bbda376",
   "metadata": {},
   "outputs": [
    {
     "data": {
      "text/plain": [
       "tensor([[0., 0., 0., 0., 0.],\n",
       "        [0., 0., 0., 0., 0.],\n",
       "        [0., 0., 0., 0., 0.],\n",
       "        [0., 0., 0., 0., 0.],\n",
       "        [0., 0., 0., 0., 0.]])"
      ]
     },
     "execution_count": 55,
     "metadata": {},
     "output_type": "execute_result"
    }
   ],
   "source": [
    "torch.zeros(5,5)"
   ]
  },
  {
   "cell_type": "code",
   "execution_count": null,
   "id": "062480c1",
   "metadata": {},
   "outputs": [],
   "source": []
  }
 ],
 "metadata": {
  "kernelspec": {
   "display_name": "py38cu11",
   "language": "python",
   "name": "py38cu11"
  },
  "language_info": {
   "codemirror_mode": {
    "name": "ipython",
    "version": 3
   },
   "file_extension": ".py",
   "mimetype": "text/x-python",
   "name": "python",
   "nbconvert_exporter": "python",
   "pygments_lexer": "ipython3",
   "version": "3.8.13"
  }
 },
 "nbformat": 4,
 "nbformat_minor": 5
}
