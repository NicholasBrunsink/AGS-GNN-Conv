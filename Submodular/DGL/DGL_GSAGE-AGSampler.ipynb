{
 "cells": [
  {
   "cell_type": "code",
   "execution_count": 48,
   "id": "8606f8a4",
   "metadata": {},
   "outputs": [],
   "source": [
    "import os\n",
    "import sys\n",
    "kernel_name = os.path.basename(sys.executable.replace(\"/bin/python\",\"\"))\n",
    "\n",
    "if kernel_name == 'py38cu11':\n",
    "    import ctypes\n",
    "    ctypes.cdll.LoadLibrary(\"/apps/gilbreth/cuda-toolkit/cuda-11.2.0/lib64/libcusparse.so.11\");\n",
    "    ctypes.cdll.LoadLibrary(\"/apps/gilbreth/cuda-toolkit/cuda-11.2.0/lib64/libcublas.so.11\");"
   ]
  },
  {
   "cell_type": "code",
   "execution_count": 49,
   "id": "861ee494",
   "metadata": {},
   "outputs": [
    {
     "name": "stdout",
     "output_type": "stream",
     "text": [
      "There are 1 GPU(s) available.\n",
      "We will use the GPU: NVIDIA A10\n",
      "cuda\n",
      "Cpu count:  32\n"
     ]
    }
   ],
   "source": [
    "import DeviceDir\n",
    "\n",
    "DIR, RESULTS_DIR = DeviceDir.get_directory()\n",
    "device, NUM_PROCESSORS = DeviceDir.get_device()"
   ]
  },
  {
   "cell_type": "code",
   "execution_count": 50,
   "id": "d5774dcb",
   "metadata": {},
   "outputs": [],
   "source": [
    "import os\n",
    "\n",
    "os.environ[\"DGLBACKEND\"] = \"pytorch\"\n",
    "import dgl\n",
    "import numpy as np\n",
    "import torch\n",
    "from tqdm import tqdm\n",
    "import sklearn.metrics\n",
    "import DeviceDir\n",
    "from ipynb.fs.full.DglDataset import get_dataset, train_val_test_mask, generate_synthetic, get_pyg_as_dgl"
   ]
  },
  {
   "cell_type": "code",
   "execution_count": 51,
   "id": "aea30da7",
   "metadata": {},
   "outputs": [],
   "source": [
    "LOG_INFO = True"
   ]
  },
  {
   "cell_type": "code",
   "execution_count": 52,
   "id": "de7a8f7b",
   "metadata": {
    "scrolled": true
   },
   "outputs": [
    {
     "name": "stdout",
     "output_type": "stream",
     "text": [
      "Done loading data from cached files.\n",
      "Class:  5\n",
      "Feature:  torch.Size([5201, 2089])\n",
      "Train Mask:  torch.Size([5201, 10])\n",
      "Val Mask:  torch.Size([5201, 10])\n",
      "Test Mask:  torch.Size([5201, 10])\n",
      "Label Mask:  torch.Size([5201])\n",
      "5201\n",
      "217073\n",
      "5\n",
      "(tensor([2849, 3106,  808,  ..., 4785, 5080, 2331]), tensor([3475, 3475, 3475,  ..., 3247, 3247, 3247]))\n",
      "2089 5\n"
     ]
    },
    {
     "data": {
      "text/plain": [
       "Graph(num_nodes=5201, num_edges=217073,\n",
       "      ndata_schemes={'feat': Scheme(shape=(2089,), dtype=torch.float32), 'label': Scheme(shape=(), dtype=torch.int64), 'train_mask': Scheme(shape=(10,), dtype=torch.bool), 'val_mask': Scheme(shape=(10,), dtype=torch.bool), 'test_mask': Scheme(shape=(10,), dtype=torch.bool)}\n",
       "      edata_schemes={})"
      ]
     },
     "execution_count": 52,
     "metadata": {},
     "output_type": "execute_result"
    }
   ],
   "source": [
    "DATASET_NAME = 'squirrel'\n",
    "dataset, graph = get_dataset(DIR, DATASET_NAME , log = True)\n",
    "# dataset, graph = get_pyg_as_dgl(DATASET_NAME='squirrel', DIR=DIR)\n",
    "\n",
    "\n",
    "print(graph.num_nodes())\n",
    "print(graph.num_edges())\n",
    "print(dataset.num_classes)\n",
    "print(graph.edges())\n",
    "\n",
    "num_features = graph.ndata['feat'].shape[1]\n",
    "num_classes = dataset.num_classes\n",
    "print(num_features,num_classes)\n",
    "\n",
    "graph"
   ]
  },
  {
   "cell_type": "code",
   "execution_count": 53,
   "id": "189cde8d",
   "metadata": {},
   "outputs": [],
   "source": [
    "# generate_synthetic(graph, dataset, d=42, h=0.0, train=None, random_state=1, log=True)\n",
    "# graph"
   ]
  },
  {
   "cell_type": "code",
   "execution_count": 54,
   "id": "c789d2b2",
   "metadata": {},
   "outputs": [
    {
     "name": "stdout",
     "output_type": "stream",
     "text": [
      "torch.Size([2496])\n",
      "torch.Size([1664])\n",
      "torch.Size([1041])\n"
     ]
    }
   ],
   "source": [
    "if graph.ndata['train_mask'].ndim>1:\n",
    "    split_no =0\n",
    "    train_nids = torch.where(graph.ndata['train_mask'][:,split_no]==True)[0] ##selecting first spilit\n",
    "    val_nids = torch.where(graph.ndata['val_mask'][:,split_no]==True)[0]\n",
    "    test_nids = torch.where(graph.ndata['test_mask'][:,split_no]==True)[0]\n",
    "else:\n",
    "    train_nids = torch.where(graph.ndata['train_mask']==True)[0]\n",
    "    val_nids = torch.where(graph.ndata['val_mask']==True)[0]\n",
    "    test_nids = torch.where(graph.ndata['test_mask']==True)[0]\n",
    "    \n",
    "print(train_nids.shape)\n",
    "print(val_nids.shape)\n",
    "print(test_nids.shape)"
   ]
  },
  {
   "cell_type": "code",
   "execution_count": 55,
   "id": "c79a2832",
   "metadata": {},
   "outputs": [],
   "source": [
    "# class NeighborSampler(dgl.dataloading.Sampler):\n",
    "#     def __init__(self, fanouts : list[int]):\n",
    "#         super().__init__()\n",
    "#         self.fanouts = fanouts\n",
    "\n",
    "#     def sample(self, g, seed_nodes):\n",
    "#         output_nodes = seed_nodes\n",
    "#         subgs = []\n",
    "#         for fanout in reversed(self.fanouts):\n",
    "#             # Sample a fixed number of neighbors of the current seed nodes.\n",
    "#             sg = g.sample_neighbors(seed_nodes, fanout)\n",
    "#             # Convert this subgraph to a message flow graph.\n",
    "#             sg = dgl.to_block(sg, seed_nodes)\n",
    "#             seed_nodes = sg.srcdata[NID]\n",
    "#             subgs.insert(0, sg)\n",
    "#             input_nodes = seed_nodes\n",
    "#         return input_nodes, output_nodes, subgs\n",
    "    "
   ]
  },
  {
   "cell_type": "code",
   "execution_count": 56,
   "id": "60800a23",
   "metadata": {},
   "outputs": [],
   "source": [
    "# https://github.com/dmlc/dgl/issues/4512"
   ]
  },
  {
   "cell_type": "code",
   "execution_count": 57,
   "id": "4dee7f8b",
   "metadata": {},
   "outputs": [],
   "source": [
    "sampler = dgl.dataloading.NeighborSampler([4, 4])\n",
    "# sampler = dgl.dataloading.MultiLayerFullNeighborSampler(4)\n",
    "\n",
    "train_dataloader = dgl.dataloading.DataLoader(\n",
    "    # The following arguments are specific to DGL's DataLoader.\n",
    "    graph,  # The graph\n",
    "    train_nids,  # The node IDs to iterate over in minibatches\n",
    "    sampler,  # The neighbor sampler\n",
    "    device=device,  # Put the sampled MFGs on CPU or GPU\n",
    "    # The following arguments are inherited from PyTorch DataLoader.\n",
    "    batch_size=1024,  # Batch size\n",
    "    shuffle=True,  # Whether to shuffle the nodes for every epoch\n",
    "    drop_last=False,  # Whether to drop the last incomplete batch\n",
    "    num_workers=0,  # Number of sampler processes\n",
    ")"
   ]
  },
  {
   "cell_type": "code",
   "execution_count": 58,
   "id": "aa60f464",
   "metadata": {
    "scrolled": false
   },
   "outputs": [
    {
     "name": "stdout",
     "output_type": "stream",
     "text": [
      "[tensor([ 651, 2502, 2962,  ..., 4639, 4400, 2022], device='cuda:0'), tensor([ 651, 2502, 2962,  ..., 2424, 2794, 4744], device='cuda:0'), [Block(num_src_nodes=2374, num_dst_nodes=2040, num_edges=7466), Block(num_src_nodes=2040, num_dst_nodes=1024, num_edges=3766)]]\n",
      "To compute 1024 nodes' outputs, we need 2374 nodes' input features\n",
      "1024\n"
     ]
    }
   ],
   "source": [
    "input_nodes, output_nodes, mfgs = example_minibatch = next(iter(train_dataloader))\n",
    "\n",
    "print(example_minibatch)\n",
    "\n",
    "print(\n",
    "    \"To compute {} nodes' outputs, we need {} nodes' input features\".format(\n",
    "        len(output_nodes), len(input_nodes)\n",
    "    )\n",
    ")\n",
    "\n",
    "print(len(output_nodes))"
   ]
  },
  {
   "cell_type": "code",
   "execution_count": 59,
   "id": "ebffd44a",
   "metadata": {
    "scrolled": true
   },
   "outputs": [],
   "source": [
    "# print(mfgs[0].srcdata)\n",
    "# print(mfgs[0].dstdata)"
   ]
  },
  {
   "cell_type": "code",
   "execution_count": 60,
   "id": "1ef69b16",
   "metadata": {},
   "outputs": [],
   "source": [
    "# mfg_1_dst = mfgs[1].dstdata[dgl.NID]\n",
    "# print(mfg_1_dst)\n",
    "# print(len(mfg_1_dst))\n",
    "\n",
    "# #print(len(torch.unique(mfg_1_dst)))\n",
    "\n",
    "# print(len(output_nodes))\n",
    "\n",
    "# # print(torch.equal(mfg_0_src[: mfgs[0].num_dst_nodes()], mfg_0_dst))\n",
    "\n",
    "# # output_nodes = torch.unique(output_nodes)\n",
    "# # print(len(output_nodes))\n",
    "\n",
    "# # print(torch.equal(mfg_0_src[: mfgs[0].num_dst_nodes()], mfg_0_dst))"
   ]
  },
  {
   "cell_type": "code",
   "execution_count": 61,
   "id": "5341f271",
   "metadata": {
    "scrolled": true
   },
   "outputs": [],
   "source": [
    "# mfgs[1]\n",
    "# mfgs[1].num_dst_nodes = lambda ntype=None: len(output_nodes)\n",
    "# mfgs[1]"
   ]
  },
  {
   "cell_type": "code",
   "execution_count": 62,
   "id": "147be3d0",
   "metadata": {},
   "outputs": [
    {
     "name": "stdout",
     "output_type": "stream",
     "text": [
      "tensor([ 651, 2502, 2962,  ..., 4639, 4400, 2022], device='cuda:0')\n",
      "tensor([ 651, 2502, 2962,  ..., 4439,  993, 4007], device='cuda:0')\n",
      "True\n"
     ]
    }
   ],
   "source": [
    "mfg_0_src = mfgs[0].srcdata[dgl.NID]\n",
    "mfg_0_dst = mfgs[0].dstdata[dgl.NID]\n",
    "print(mfg_0_src)\n",
    "print(mfg_0_dst)\n",
    "print(torch.equal(mfg_0_src[: mfgs[0].num_dst_nodes()], mfg_0_dst))"
   ]
  },
  {
   "cell_type": "code",
   "execution_count": 63,
   "id": "e886503d",
   "metadata": {},
   "outputs": [],
   "source": [
    "import torch.nn as nn\n",
    "import torch.nn.functional as F\n",
    "from dgl.nn import SAGEConv\n",
    "\n",
    "\n",
    "class Model(nn.Module):\n",
    "    def __init__(self, in_feats, h_feats, num_classes):\n",
    "        super(Model, self).__init__()\n",
    "        self.conv1 = SAGEConv(in_feats, h_feats, aggregator_type=\"mean\")\n",
    "        self.conv2 = SAGEConv(h_feats, num_classes, aggregator_type=\"mean\")\n",
    "        self.h_feats = h_feats\n",
    "\n",
    "    def forward(self, mfgs, x):\n",
    "        # Lines that are changed are marked with an arrow: \"<---\"\n",
    "        \n",
    "        h_dst = x[: mfgs[0].num_dst_nodes()]  # <---\n",
    "        h = self.conv1(mfgs[0], (x, h_dst))  # <---\n",
    "        h = F.relu(h)\n",
    "        \n",
    "        h_dst = h[: mfgs[1].num_dst_nodes()]  # <---\n",
    "        h = self.conv2(mfgs[1], (h, h_dst))  # <---\n",
    "        \n",
    "        return h\n",
    "\n",
    "\n",
    "model = Model(num_features, 128, num_classes).to(device)"
   ]
  },
  {
   "cell_type": "code",
   "execution_count": 64,
   "id": "b80e44a6",
   "metadata": {},
   "outputs": [],
   "source": [
    "def test(loader, N):\n",
    "    \n",
    "    model.eval()\n",
    "\n",
    "    predictions = []\n",
    "    labels = []\n",
    "    \n",
    "    if LOG_INFO:\n",
    "        pbar = tqdm(total=N)\n",
    "        pbar.set_description(f'Evaluating')\n",
    "    \n",
    "    for input_nodes, output_nodes, mfgs in loader:\n",
    "        inputs = mfgs[0].srcdata[\"feat\"]\n",
    "        labels.append(mfgs[-1].dstdata[\"label\"].cpu().numpy())\n",
    "        predictions.append(model(mfgs, inputs).argmax(1).cpu().numpy())\n",
    "        \n",
    "        if LOG_INFO:\n",
    "            pbar.update(len(output_nodes))\n",
    "\n",
    "    if LOG_INFO:\n",
    "        pbar.close()\n",
    "\n",
    "        \n",
    "\n",
    "    predictions = np.concatenate(predictions)\n",
    "    labels = np.concatenate(labels)\n",
    "    accuracy = sklearn.metrics.accuracy_score(labels, predictions)\n",
    "    \n",
    "    return accuracy"
   ]
  },
  {
   "cell_type": "code",
   "execution_count": 65,
   "id": "93e26229",
   "metadata": {},
   "outputs": [],
   "source": [
    "def train(epochs = 10):\n",
    "    opt = torch.optim.Adam(model.parameters())\n",
    "    \n",
    "    val_dataloader = dgl.dataloading.DataLoader(graph,val_nids,sampler,batch_size=1024,shuffle=False,drop_last=False,num_workers=0,device=device,)\n",
    "    test_dataloader = dgl.dataloading.DataLoader(graph,test_nids,sampler,batch_size=1024,shuffle=False,drop_last=False,num_workers=0,device=device,)\n",
    "    \n",
    "    best_accuracy = 0\n",
    "    best_model_path = DIR+DATASET_NAME+\"-model.pt\"\n",
    "    \n",
    "    for epoch in range(epochs):\n",
    "        model.train()\n",
    "        \n",
    "        total_acc = 0; total_loss = 0; total_examples = 0\n",
    "        \n",
    "        if LOG_INFO:\n",
    "            pbar = tqdm(total=len(train_nids))\n",
    "            pbar.set_description(f'Epoch {epoch}')\n",
    "    \n",
    "        for input_nodes, output_nodes, mfgs in train_dataloader:\n",
    "            # feature copy from CPU to GPU takes place here\n",
    "            inputs = mfgs[0].srcdata[\"feat\"]\n",
    "            labels = mfgs[-1].dstdata[\"label\"]\n",
    "            \n",
    "            opt.zero_grad()\n",
    "            predictions = model(mfgs, inputs)\n",
    "\n",
    "            loss = F.cross_entropy(predictions, labels)            \n",
    "            loss.backward()\n",
    "            opt.step()            \n",
    "\n",
    "            accuracy = sklearn.metrics.accuracy_score(\n",
    "                labels.cpu().numpy(),\n",
    "                predictions.argmax(1).detach().cpu().numpy(),\n",
    "            )\n",
    "            \n",
    "            if LOG_INFO:\n",
    "                pbar.set_postfix(\n",
    "                    {\"loss\": \"%.03f\" % loss.item(), \"acc\": \"%.03f\" % accuracy},\n",
    "                    refresh=False,\n",
    "                )    \n",
    "\n",
    "            total_loss += loss.item()\n",
    "            total_acc += accuracy* len(output_nodes)\n",
    "            total_examples += len(output_nodes)\n",
    "            \n",
    "            if LOG_INFO:\n",
    "                    pbar.update(len(output_nodes))\n",
    "\n",
    "        if LOG_INFO:\n",
    "            pbar.close()\n",
    "\n",
    "        avg_loss = total_loss/total_examples\n",
    "\n",
    "        train_accuracy = total_acc/total_examples            \n",
    "        val_accuracy = test(val_dataloader, len(val_nids))\n",
    "        test_accuracy = test(test_dataloader, len(test_nids))\n",
    "\n",
    "        print(f'Epoch {epoch} Loss {avg_loss:0.6f}, Train Acc {train_accuracy:0.4f}, Val Acc {val_accuracy:0.4f}, Test Acc {test_accuracy:0.4f}')\n",
    "\n",
    "        if best_accuracy < val_accuracy:\n",
    "            best_accuracy = val_accuracy\n",
    "            torch.save(model.state_dict(), best_model_path)\n",
    "    \n",
    "    print(\"Best Validation Accuracy: \",best_accuracy)\n",
    "    \n",
    "    test_accuracy = test(test_dataloader, len(test_nids))    \n",
    "    print(\"Test Accuracy: \",best_accuracy)\n",
    "    \n",
    "    return test_accuracy"
   ]
  },
  {
   "cell_type": "code",
   "execution_count": 66,
   "id": "6d297076",
   "metadata": {},
   "outputs": [],
   "source": [
    "# train_val_test_mask(graph, train=0.6, val=0.2, test=0.2, random_state=0)"
   ]
  },
  {
   "cell_type": "code",
   "execution_count": 67,
   "id": "773c6717",
   "metadata": {},
   "outputs": [
    {
     "name": "stderr",
     "output_type": "stream",
     "text": [
      "Epoch 0: 100%|██████████| 2496/2496 [00:00<00:00, 87407.60it/s, loss=1.579, acc=0.254]\n",
      "Evaluating: 100%|██████████| 1664/1664 [00:00<00:00, 125640.36it/s]\n",
      "Evaluating: 100%|██████████| 1041/1041 [00:00<00:00, 107282.01it/s]\n"
     ]
    },
    {
     "name": "stdout",
     "output_type": "stream",
     "text": [
      "Epoch 0 Loss 0.001939, Train Acc 0.2188, Val Acc 0.2668, Test Acc 0.2786\n"
     ]
    },
    {
     "name": "stderr",
     "output_type": "stream",
     "text": [
      "Epoch 1: 100%|██████████| 2496/2496 [00:00<00:00, 99127.77it/s, loss=1.438, acc=0.382]\n",
      "Evaluating: 100%|██████████| 1664/1664 [00:00<00:00, 149619.95it/s]\n",
      "Evaluating: 100%|██████████| 1041/1041 [00:00<00:00, 99364.40it/s]"
     ]
    },
    {
     "name": "stdout",
     "output_type": "stream",
     "text": [
      "Epoch 1 Loss 0.001775, Train Acc 0.3542, Val Acc 0.3480, Test Acc 0.3506\n"
     ]
    },
    {
     "name": "stderr",
     "output_type": "stream",
     "text": [
      "\n",
      "Epoch 2: 100%|██████████| 2496/2496 [00:00<00:00, 92311.75it/s, loss=1.369, acc=0.460]\n",
      "Evaluating: 100%|██████████| 1664/1664 [00:00<00:00, 143501.15it/s]\n",
      "Evaluating: 100%|██████████| 1041/1041 [00:00<00:00, 112416.85it/s]\n"
     ]
    },
    {
     "name": "stdout",
     "output_type": "stream",
     "text": [
      "Epoch 2 Loss 0.001662, Train Acc 0.4772, Val Acc 0.3648, Test Acc 0.3948\n"
     ]
    },
    {
     "name": "stderr",
     "output_type": "stream",
     "text": [
      "Epoch 3: 100%|██████████| 2496/2496 [00:00<00:00, 106574.06it/s, loss=1.266, acc=0.587]\n",
      "Evaluating: 100%|██████████| 1664/1664 [00:00<00:00, 147187.18it/s]\n",
      "Evaluating: 100%|██████████| 1041/1041 [00:00<00:00, 114243.45it/s]\n"
     ]
    },
    {
     "name": "stdout",
     "output_type": "stream",
     "text": [
      "Epoch 3 Loss 0.001559, Train Acc 0.5477, Val Acc 0.3930, Test Acc 0.3775\n"
     ]
    },
    {
     "name": "stderr",
     "output_type": "stream",
     "text": [
      "Epoch 4: 100%|██████████| 2496/2496 [00:00<00:00, 85217.61it/s, loss=1.203, acc=0.621]\n",
      "Evaluating: 100%|██████████| 1664/1664 [00:00<00:00, 164200.02it/s]\n",
      "Evaluating: 100%|██████████| 1041/1041 [00:00<00:00, 121521.58it/s]\n"
     ]
    },
    {
     "name": "stdout",
     "output_type": "stream",
     "text": [
      "Epoch 4 Loss 0.001475, Train Acc 0.5897, Val Acc 0.3900, Test Acc 0.3987\n"
     ]
    },
    {
     "name": "stderr",
     "output_type": "stream",
     "text": [
      "Epoch 5: 100%|██████████| 2496/2496 [00:00<00:00, 114985.64it/s, loss=1.101, acc=0.667]\n",
      "Evaluating: 100%|██████████| 1664/1664 [00:00<00:00, 158682.26it/s]\n",
      "Evaluating: 100%|██████████| 1041/1041 [00:00<00:00, 120996.24it/s]\n"
     ]
    },
    {
     "name": "stdout",
     "output_type": "stream",
     "text": [
      "Epoch 5 Loss 0.001387, Train Acc 0.6230, Val Acc 0.4165, Test Acc 0.3948\n"
     ]
    },
    {
     "name": "stderr",
     "output_type": "stream",
     "text": [
      "Epoch 6: 100%|██████████| 2496/2496 [00:00<00:00, 114330.15it/s, loss=1.117, acc=0.634]\n",
      "Evaluating: 100%|██████████| 1664/1664 [00:00<00:00, 98497.30it/s]\n",
      "Evaluating: 100%|██████████| 1041/1041 [00:00<00:00, 111140.62it/s]\n"
     ]
    },
    {
     "name": "stdout",
     "output_type": "stream",
     "text": [
      "Epoch 6 Loss 0.001326, Train Acc 0.6607, Val Acc 0.4195, Test Acc 0.4256\n"
     ]
    },
    {
     "name": "stderr",
     "output_type": "stream",
     "text": [
      "Epoch 7: 100%|██████████| 2496/2496 [00:00<00:00, 106655.49it/s, loss=1.032, acc=0.696]\n",
      "Evaluating: 100%|██████████| 1664/1664 [00:00<00:00, 148114.89it/s]\n",
      "Evaluating: 100%|██████████| 1041/1041 [00:00<00:00, 112794.38it/s]\n"
     ]
    },
    {
     "name": "stdout",
     "output_type": "stream",
     "text": [
      "Epoch 7 Loss 0.001257, Train Acc 0.6795, Val Acc 0.4321, Test Acc 0.4159\n"
     ]
    },
    {
     "name": "stderr",
     "output_type": "stream",
     "text": [
      "Epoch 8: 100%|██████████| 2496/2496 [00:00<00:00, 98735.11it/s, loss=0.970, acc=0.723]\n",
      "Evaluating: 100%|██████████| 1664/1664 [00:00<00:00, 115105.75it/s]\n",
      "Evaluating: 100%|██████████| 1041/1041 [00:00<00:00, 112099.37it/s]\n"
     ]
    },
    {
     "name": "stdout",
     "output_type": "stream",
     "text": [
      "Epoch 8 Loss 0.001186, Train Acc 0.7047, Val Acc 0.4387, Test Acc 0.4102\n"
     ]
    },
    {
     "name": "stderr",
     "output_type": "stream",
     "text": [
      "Epoch 9: 100%|██████████| 2496/2496 [00:00<00:00, 105903.48it/s, loss=0.917, acc=0.728]\n",
      "Evaluating: 100%|██████████| 1664/1664 [00:00<00:00, 148927.15it/s]\n",
      "Evaluating: 100%|██████████| 1041/1041 [00:00<00:00, 64407.82it/s]\n"
     ]
    },
    {
     "name": "stdout",
     "output_type": "stream",
     "text": [
      "Epoch 9 Loss 0.001125, Train Acc 0.7244, Val Acc 0.4519, Test Acc 0.4313\n"
     ]
    },
    {
     "name": "stderr",
     "output_type": "stream",
     "text": [
      "Epoch 10: 100%|██████████| 2496/2496 [00:00<00:00, 76963.67it/s, loss=0.881, acc=0.728]\n",
      "Evaluating: 100%|██████████| 1664/1664 [00:00<00:00, 96233.32it/s]\n",
      "Evaluating: 100%|██████████| 1041/1041 [00:00<00:00, 94495.75it/s]\n"
     ]
    },
    {
     "name": "stdout",
     "output_type": "stream",
     "text": [
      "Epoch 10 Loss 0.001079, Train Acc 0.7288, Val Acc 0.4591, Test Acc 0.4438\n"
     ]
    },
    {
     "name": "stderr",
     "output_type": "stream",
     "text": [
      "Epoch 11: 100%|██████████| 2496/2496 [00:00<00:00, 84462.02it/s, loss=0.855, acc=0.754]\n",
      "Evaluating: 100%|██████████| 1664/1664 [00:00<00:00, 104186.09it/s]\n",
      "Evaluating: 100%|██████████| 1041/1041 [00:00<00:00, 96716.59it/s]\n"
     ]
    },
    {
     "name": "stdout",
     "output_type": "stream",
     "text": [
      "Epoch 11 Loss 0.001024, Train Acc 0.7560, Val Acc 0.4663, Test Acc 0.4323\n"
     ]
    },
    {
     "name": "stderr",
     "output_type": "stream",
     "text": [
      "Epoch 12: 100%|██████████| 2496/2496 [00:00<00:00, 91800.17it/s, loss=0.834, acc=0.750]\n",
      "Evaluating: 100%|██████████| 1664/1664 [00:00<00:00, 83376.00it/s]\n",
      "Evaluating: 100%|██████████| 1041/1041 [00:00<00:00, 87426.82it/s]\n"
     ]
    },
    {
     "name": "stdout",
     "output_type": "stream",
     "text": [
      "Epoch 12 Loss 0.000992, Train Acc 0.7616, Val Acc 0.4736, Test Acc 0.4246\n"
     ]
    },
    {
     "name": "stderr",
     "output_type": "stream",
     "text": [
      "Epoch 13: 100%|██████████| 2496/2496 [00:00<00:00, 85678.60it/s, loss=0.749, acc=0.797]\n",
      "Evaluating: 100%|██████████| 1664/1664 [00:00<00:00, 114199.82it/s]\n",
      "Evaluating: 100%|██████████| 1041/1041 [00:00<00:00, 102173.22it/s]\n"
     ]
    },
    {
     "name": "stdout",
     "output_type": "stream",
     "text": [
      "Epoch 13 Loss 0.000934, Train Acc 0.7752, Val Acc 0.4627, Test Acc 0.4342\n"
     ]
    },
    {
     "name": "stderr",
     "output_type": "stream",
     "text": [
      "Epoch 14: 100%|██████████| 2496/2496 [00:00<00:00, 87332.49it/s, loss=0.773, acc=0.786]\n",
      "Evaluating: 100%|██████████| 1664/1664 [00:00<00:00, 120308.24it/s]\n",
      "Evaluating: 100%|██████████| 1041/1041 [00:00<00:00, 97878.69it/s]\n"
     ]
    },
    {
     "name": "stdout",
     "output_type": "stream",
     "text": [
      "Epoch 14 Loss 0.000904, Train Acc 0.7949, Val Acc 0.4730, Test Acc 0.4342\n"
     ]
    },
    {
     "name": "stderr",
     "output_type": "stream",
     "text": [
      "Epoch 15: 100%|██████████| 2496/2496 [00:00<00:00, 99500.86it/s, loss=0.707, acc=0.815]\n",
      "Evaluating: 100%|██████████| 1664/1664 [00:00<00:00, 127023.78it/s]\n",
      "Evaluating: 100%|██████████| 1041/1041 [00:00<00:00, 102636.76it/s]\n"
     ]
    },
    {
     "name": "stdout",
     "output_type": "stream",
     "text": [
      "Epoch 15 Loss 0.000856, Train Acc 0.8037, Val Acc 0.4736, Test Acc 0.4486\n"
     ]
    },
    {
     "name": "stderr",
     "output_type": "stream",
     "text": [
      "Epoch 16: 100%|██████████| 2496/2496 [00:00<00:00, 95176.90it/s, loss=0.629, acc=0.833]\n",
      "Evaluating: 100%|██████████| 1664/1664 [00:00<00:00, 127206.68it/s]\n",
      "Evaluating: 100%|██████████| 1041/1041 [00:00<00:00, 102410.47it/s]\n"
     ]
    },
    {
     "name": "stdout",
     "output_type": "stream",
     "text": [
      "Epoch 16 Loss 0.000813, Train Acc 0.8013, Val Acc 0.4712, Test Acc 0.4409\n"
     ]
    },
    {
     "name": "stderr",
     "output_type": "stream",
     "text": [
      "Epoch 17: 100%|██████████| 2496/2496 [00:00<00:00, 96474.09it/s, loss=0.640, acc=0.830]\n",
      "Evaluating: 100%|██████████| 1664/1664 [00:00<00:00, 117124.33it/s]\n",
      "Evaluating: 100%|██████████| 1041/1041 [00:00<00:00, 74953.57it/s]\n"
     ]
    },
    {
     "name": "stdout",
     "output_type": "stream",
     "text": [
      "Epoch 17 Loss 0.000786, Train Acc 0.8225, Val Acc 0.4730, Test Acc 0.4380\n"
     ]
    },
    {
     "name": "stderr",
     "output_type": "stream",
     "text": [
      "Epoch 18: 100%|██████████| 2496/2496 [00:00<00:00, 105584.13it/s, loss=0.604, acc=0.850]\n",
      "Evaluating: 100%|██████████| 1664/1664 [00:00<00:00, 134344.32it/s]\n",
      "Evaluating: 100%|██████████| 1041/1041 [00:00<00:00, 109197.71it/s]\n"
     ]
    },
    {
     "name": "stdout",
     "output_type": "stream",
     "text": [
      "Epoch 18 Loss 0.000759, Train Acc 0.8285, Val Acc 0.4838, Test Acc 0.4352\n"
     ]
    },
    {
     "name": "stderr",
     "output_type": "stream",
     "text": [
      "Epoch 19: 100%|██████████| 2496/2496 [00:00<00:00, 104538.25it/s, loss=0.592, acc=0.844]\n",
      "Evaluating: 100%|██████████| 1664/1664 [00:00<00:00, 133491.23it/s]\n",
      "Evaluating: 100%|██████████| 1041/1041 [00:00<00:00, 77161.67it/s]\n"
     ]
    },
    {
     "name": "stdout",
     "output_type": "stream",
     "text": [
      "Epoch 19 Loss 0.000735, Train Acc 0.8257, Val Acc 0.4675, Test Acc 0.4342\n"
     ]
    },
    {
     "name": "stderr",
     "output_type": "stream",
     "text": [
      "Epoch 20: 100%|██████████| 2496/2496 [00:00<00:00, 104264.43it/s, loss=0.612, acc=0.821]\n",
      "Evaluating: 100%|██████████| 1664/1664 [00:00<00:00, 137272.03it/s]\n",
      "Evaluating: 100%|██████████| 1041/1041 [00:00<00:00, 106305.13it/s]\n"
     ]
    },
    {
     "name": "stdout",
     "output_type": "stream",
     "text": [
      "Epoch 20 Loss 0.000717, Train Acc 0.8377, Val Acc 0.4700, Test Acc 0.4515\n"
     ]
    },
    {
     "name": "stderr",
     "output_type": "stream",
     "text": [
      "Epoch 21: 100%|██████████| 2496/2496 [00:00<00:00, 102910.51it/s, loss=0.553, acc=0.850]\n",
      "Evaluating: 100%|██████████| 1664/1664 [00:00<00:00, 135289.64it/s]\n",
      "Evaluating: 100%|██████████| 1041/1041 [00:00<00:00, 79203.85it/s]\n"
     ]
    },
    {
     "name": "stdout",
     "output_type": "stream",
     "text": [
      "Epoch 21 Loss 0.000683, Train Acc 0.8442, Val Acc 0.4862, Test Acc 0.4342\n"
     ]
    },
    {
     "name": "stderr",
     "output_type": "stream",
     "text": [
      "Epoch 22: 100%|██████████| 2496/2496 [00:00<00:00, 104365.25it/s, loss=0.521, acc=0.850]\n",
      "Evaluating: 100%|██████████| 1664/1664 [00:00<00:00, 134673.55it/s]\n",
      "Evaluating: 100%|██████████| 1041/1041 [00:00<00:00, 106116.52it/s]\n"
     ]
    },
    {
     "name": "stdout",
     "output_type": "stream",
     "text": [
      "Epoch 22 Loss 0.000653, Train Acc 0.8530, Val Acc 0.4772, Test Acc 0.4371\n"
     ]
    },
    {
     "name": "stderr",
     "output_type": "stream",
     "text": [
      "Epoch 23: 100%|██████████| 2496/2496 [00:00<00:00, 96312.56it/s, loss=0.554, acc=0.828]\n",
      "Evaluating: 100%|██████████| 1664/1664 [00:00<00:00, 113436.95it/s]\n",
      "Evaluating: 100%|██████████| 1041/1041 [00:00<00:00, 108360.31it/s]\n"
     ]
    },
    {
     "name": "stdout",
     "output_type": "stream",
     "text": [
      "Epoch 23 Loss 0.000648, Train Acc 0.8538, Val Acc 0.4730, Test Acc 0.4390\n"
     ]
    },
    {
     "name": "stderr",
     "output_type": "stream",
     "text": [
      "Epoch 24: 100%|██████████| 2496/2496 [00:00<00:00, 104973.26it/s, loss=0.493, acc=0.886]\n",
      "Evaluating: 100%|██████████| 1664/1664 [00:00<00:00, 138377.02it/s]\n",
      "Evaluating: 100%|██████████| 1041/1041 [00:00<00:00, 106323.25it/s]\n"
     ]
    },
    {
     "name": "stdout",
     "output_type": "stream",
     "text": [
      "Epoch 24 Loss 0.000613, Train Acc 0.8670, Val Acc 0.4928, Test Acc 0.4419\n"
     ]
    },
    {
     "name": "stderr",
     "output_type": "stream",
     "text": [
      "Epoch 25: 100%|██████████| 2496/2496 [00:00<00:00, 98291.08it/s, loss=0.521, acc=0.864]\n",
      "Evaluating: 100%|██████████| 1664/1664 [00:00<00:00, 151780.48it/s]\n",
      "Evaluating: 100%|██████████| 1041/1041 [00:00<00:00, 117146.13it/s]\n"
     ]
    },
    {
     "name": "stdout",
     "output_type": "stream",
     "text": [
      "Epoch 25 Loss 0.000602, Train Acc 0.8714, Val Acc 0.4904, Test Acc 0.4438\n"
     ]
    },
    {
     "name": "stderr",
     "output_type": "stream",
     "text": [
      "Epoch 26: 100%|██████████| 2496/2496 [00:00<00:00, 110057.32it/s, loss=0.498, acc=0.877]\n",
      "Evaluating: 100%|██████████| 1664/1664 [00:00<00:00, 146692.21it/s]\n",
      "Evaluating: 100%|██████████| 1041/1041 [00:00<00:00, 114477.08it/s]\n"
     ]
    },
    {
     "name": "stdout",
     "output_type": "stream",
     "text": [
      "Epoch 26 Loss 0.000583, Train Acc 0.8822, Val Acc 0.4808, Test Acc 0.4688\n"
     ]
    },
    {
     "name": "stderr",
     "output_type": "stream",
     "text": [
      "Epoch 27: 100%|██████████| 2496/2496 [00:00<00:00, 109681.43it/s, loss=0.438, acc=0.913]\n",
      "Evaluating: 100%|██████████| 1664/1664 [00:00<00:00, 105100.77it/s]\n",
      "Evaluating: 100%|██████████| 1041/1041 [00:00<00:00, 107803.82it/s]\n"
     ]
    },
    {
     "name": "stdout",
     "output_type": "stream",
     "text": [
      "Epoch 27 Loss 0.000550, Train Acc 0.8874, Val Acc 0.4784, Test Acc 0.4573\n"
     ]
    },
    {
     "name": "stderr",
     "output_type": "stream",
     "text": [
      "Epoch 28: 100%|██████████| 2496/2496 [00:00<00:00, 105935.63it/s, loss=0.424, acc=0.902]\n",
      "Evaluating: 100%|██████████| 1664/1664 [00:00<00:00, 135842.61it/s]\n",
      "Evaluating: 100%|██████████| 1041/1041 [00:00<00:00, 105908.03it/s]\n"
     ]
    },
    {
     "name": "stdout",
     "output_type": "stream",
     "text": [
      "Epoch 28 Loss 0.000533, Train Acc 0.8970, Val Acc 0.4904, Test Acc 0.4409\n"
     ]
    },
    {
     "name": "stderr",
     "output_type": "stream",
     "text": [
      "Epoch 29: 100%|██████████| 2496/2496 [00:00<00:00, 94118.44it/s, loss=0.408, acc=0.908]\n",
      "Evaluating: 100%|██████████| 1664/1664 [00:00<00:00, 101230.28it/s]\n",
      "Evaluating: 100%|██████████| 1041/1041 [00:00<00:00, 106204.28it/s]\n"
     ]
    },
    {
     "name": "stdout",
     "output_type": "stream",
     "text": [
      "Epoch 29 Loss 0.000515, Train Acc 0.8994, Val Acc 0.4874, Test Acc 0.4505\n"
     ]
    },
    {
     "name": "stderr",
     "output_type": "stream",
     "text": [
      "Epoch 30: 100%|██████████| 2496/2496 [00:00<00:00, 102277.11it/s, loss=0.436, acc=0.893]\n",
      "Evaluating: 100%|██████████| 1664/1664 [00:00<00:00, 138585.85it/s]\n",
      "Evaluating: 100%|██████████| 1041/1041 [00:00<00:00, 105254.45it/s]\n"
     ]
    },
    {
     "name": "stdout",
     "output_type": "stream",
     "text": [
      "Epoch 30 Loss 0.000509, Train Acc 0.8986, Val Acc 0.4886, Test Acc 0.4524\n"
     ]
    },
    {
     "name": "stderr",
     "output_type": "stream",
     "text": [
      "Epoch 31: 100%|██████████| 2496/2496 [00:00<00:00, 102990.48it/s, loss=0.443, acc=0.877]\n",
      "Evaluating: 100%|██████████| 1664/1664 [00:00<00:00, 107967.17it/s]\n",
      "Evaluating: 100%|██████████| 1041/1041 [00:00<00:00, 107208.25it/s]\n"
     ]
    },
    {
     "name": "stdout",
     "output_type": "stream",
     "text": [
      "Epoch 31 Loss 0.000501, Train Acc 0.8958, Val Acc 0.4820, Test Acc 0.4553\n"
     ]
    },
    {
     "name": "stderr",
     "output_type": "stream",
     "text": [
      "Epoch 32: 100%|██████████| 2496/2496 [00:00<00:00, 100676.85it/s, loss=0.396, acc=0.888]\n",
      "Evaluating: 100%|██████████| 1664/1664 [00:00<00:00, 139519.47it/s]\n",
      "Evaluating: 100%|██████████| 1041/1041 [00:00<00:00, 107548.91it/s]\n"
     ]
    },
    {
     "name": "stdout",
     "output_type": "stream",
     "text": [
      "Epoch 32 Loss 0.000482, Train Acc 0.8958, Val Acc 0.4910, Test Acc 0.4409\n"
     ]
    },
    {
     "name": "stderr",
     "output_type": "stream",
     "text": [
      "Epoch 33: 100%|██████████| 2496/2496 [00:00<00:00, 107263.07it/s, loss=0.387, acc=0.900]\n",
      "Evaluating: 100%|██████████| 1664/1664 [00:00<00:00, 139645.09it/s]\n",
      "Evaluating: 100%|██████████| 1041/1041 [00:00<00:00, 108252.85it/s]\n"
     ]
    },
    {
     "name": "stdout",
     "output_type": "stream",
     "text": [
      "Epoch 33 Loss 0.000463, Train Acc 0.9014, Val Acc 0.4615, Test Acc 0.4352\n"
     ]
    },
    {
     "name": "stderr",
     "output_type": "stream",
     "text": [
      "Epoch 34: 100%|██████████| 2496/2496 [00:00<00:00, 107076.56it/s, loss=0.378, acc=0.911]\n",
      "Evaluating: 100%|██████████| 1664/1664 [00:00<00:00, 139257.79it/s]\n",
      "Evaluating: 100%|██████████| 1041/1041 [00:00<00:00, 107210.88it/s]\n"
     ]
    },
    {
     "name": "stdout",
     "output_type": "stream",
     "text": [
      "Epoch 34 Loss 0.000450, Train Acc 0.9175, Val Acc 0.4669, Test Acc 0.4294\n"
     ]
    },
    {
     "name": "stderr",
     "output_type": "stream",
     "text": [
      "Epoch 35: 100%|██████████| 2496/2496 [00:00<00:00, 79991.01it/s, loss=0.339, acc=0.924]\n",
      "Evaluating: 100%|██████████| 1664/1664 [00:00<00:00, 132878.72it/s]\n",
      "Evaluating: 100%|██████████| 1041/1041 [00:00<00:00, 110078.67it/s]\n"
     ]
    },
    {
     "name": "stdout",
     "output_type": "stream",
     "text": [
      "Epoch 35 Loss 0.000427, Train Acc 0.9163, Val Acc 0.4814, Test Acc 0.4438\n"
     ]
    },
    {
     "name": "stderr",
     "output_type": "stream",
     "text": [
      "Epoch 36: 100%|██████████| 2496/2496 [00:00<00:00, 95847.86it/s, loss=0.325, acc=0.931]\n",
      "Evaluating: 100%|██████████| 1664/1664 [00:00<00:00, 141496.64it/s]\n",
      "Evaluating: 100%|██████████| 1041/1041 [00:00<00:00, 104461.23it/s]\n"
     ]
    },
    {
     "name": "stdout",
     "output_type": "stream",
     "text": [
      "Epoch 36 Loss 0.000420, Train Acc 0.9199, Val Acc 0.4742, Test Acc 0.4573\n"
     ]
    },
    {
     "name": "stderr",
     "output_type": "stream",
     "text": [
      "Epoch 37: 100%|██████████| 2496/2496 [00:00<00:00, 93817.34it/s, loss=0.370, acc=0.902]\n",
      "Evaluating: 100%|██████████| 1664/1664 [00:00<00:00, 142287.05it/s]\n",
      "Evaluating: 100%|██████████| 1041/1041 [00:00<00:00, 108748.95it/s]\n"
     ]
    },
    {
     "name": "stdout",
     "output_type": "stream",
     "text": [
      "Epoch 37 Loss 0.000424, Train Acc 0.9191, Val Acc 0.4706, Test Acc 0.4524\n"
     ]
    },
    {
     "name": "stderr",
     "output_type": "stream",
     "text": [
      "Epoch 38: 100%|██████████| 2496/2496 [00:00<00:00, 110329.89it/s, loss=0.306, acc=0.944]\n",
      "Evaluating: 100%|██████████| 1664/1664 [00:00<00:00, 142819.88it/s]\n",
      "Evaluating: 100%|██████████| 1041/1041 [00:00<00:00, 110996.53it/s]\n"
     ]
    },
    {
     "name": "stdout",
     "output_type": "stream",
     "text": [
      "Epoch 38 Loss 0.000390, Train Acc 0.9287, Val Acc 0.4706, Test Acc 0.4467\n"
     ]
    },
    {
     "name": "stderr",
     "output_type": "stream",
     "text": [
      "Epoch 39: 100%|██████████| 2496/2496 [00:00<00:00, 92538.59it/s, loss=0.321, acc=0.944]\n",
      "Evaluating: 100%|██████████| 1664/1664 [00:00<00:00, 141954.23it/s]\n",
      "Evaluating: 100%|██████████| 1041/1041 [00:00<00:00, 102259.37it/s]\n"
     ]
    },
    {
     "name": "stdout",
     "output_type": "stream",
     "text": [
      "Epoch 39 Loss 0.000389, Train Acc 0.9335, Val Acc 0.4712, Test Acc 0.4563\n"
     ]
    },
    {
     "name": "stderr",
     "output_type": "stream",
     "text": [
      "Epoch 40: 100%|██████████| 2496/2496 [00:00<00:00, 106208.61it/s, loss=0.300, acc=0.929]\n",
      "Evaluating: 100%|██████████| 1664/1664 [00:00<00:00, 143992.61it/s]\n",
      "Evaluating: 100%|██████████| 1041/1041 [00:00<00:00, 110861.25it/s]\n"
     ]
    },
    {
     "name": "stdout",
     "output_type": "stream",
     "text": [
      "Epoch 40 Loss 0.000376, Train Acc 0.9263, Val Acc 0.4766, Test Acc 0.4505\n"
     ]
    },
    {
     "name": "stderr",
     "output_type": "stream",
     "text": [
      "Epoch 41: 100%|██████████| 2496/2496 [00:00<00:00, 70183.91it/s, loss=0.342, acc=0.908]\n",
      "Evaluating: 100%|██████████| 1664/1664 [00:00<00:00, 130070.48it/s]\n",
      "Evaluating: 100%|██████████| 1041/1041 [00:00<00:00, 108713.75it/s]\n"
     ]
    },
    {
     "name": "stdout",
     "output_type": "stream",
     "text": [
      "Epoch 41 Loss 0.000377, Train Acc 0.9315, Val Acc 0.4669, Test Acc 0.4534\n"
     ]
    },
    {
     "name": "stderr",
     "output_type": "stream",
     "text": [
      "Epoch 42: 100%|██████████| 2496/2496 [00:00<00:00, 108483.50it/s, loss=0.305, acc=0.924]\n",
      "Evaluating: 100%|██████████| 1664/1664 [00:00<00:00, 142583.54it/s]\n",
      "Evaluating: 100%|██████████| 1041/1041 [00:00<00:00, 110675.79it/s]\n"
     ]
    },
    {
     "name": "stdout",
     "output_type": "stream",
     "text": [
      "Epoch 42 Loss 0.000361, Train Acc 0.9299, Val Acc 0.4663, Test Acc 0.4476\n"
     ]
    },
    {
     "name": "stderr",
     "output_type": "stream",
     "text": [
      "Epoch 43: 100%|██████████| 2496/2496 [00:00<00:00, 102048.80it/s, loss=0.269, acc=0.946]\n",
      "Evaluating: 100%|██████████| 1664/1664 [00:00<00:00, 113920.21it/s]\n",
      "Evaluating: 100%|██████████| 1041/1041 [00:00<00:00, 110289.99it/s]\n"
     ]
    },
    {
     "name": "stdout",
     "output_type": "stream",
     "text": [
      "Epoch 43 Loss 0.000342, Train Acc 0.9351, Val Acc 0.4688, Test Acc 0.4486\n"
     ]
    },
    {
     "name": "stderr",
     "output_type": "stream",
     "text": [
      "Epoch 44: 100%|██████████| 2496/2496 [00:00<00:00, 102077.66it/s, loss=0.273, acc=0.942]\n",
      "Evaluating: 100%|██████████| 1664/1664 [00:00<00:00, 138168.82it/s]\n",
      "Evaluating: 100%|██████████| 1041/1041 [00:00<00:00, 111712.18it/s]\n"
     ]
    },
    {
     "name": "stdout",
     "output_type": "stream",
     "text": [
      "Epoch 44 Loss 0.000337, Train Acc 0.9427, Val Acc 0.4597, Test Acc 0.4448\n"
     ]
    },
    {
     "name": "stderr",
     "output_type": "stream",
     "text": [
      "Epoch 45: 100%|██████████| 2496/2496 [00:00<00:00, 110236.95it/s, loss=0.276, acc=0.940]\n",
      "Evaluating: 100%|██████████| 1664/1664 [00:00<00:00, 108020.64it/s]\n",
      "Evaluating: 100%|██████████| 1041/1041 [00:00<00:00, 78824.93it/s]\n"
     ]
    },
    {
     "name": "stdout",
     "output_type": "stream",
     "text": [
      "Epoch 45 Loss 0.000334, Train Acc 0.9423, Val Acc 0.4675, Test Acc 0.4457\n"
     ]
    },
    {
     "name": "stderr",
     "output_type": "stream",
     "text": [
      "Epoch 46: 100%|██████████| 2496/2496 [00:00<00:00, 109136.03it/s, loss=0.301, acc=0.926]\n",
      "Evaluating: 100%|██████████| 1664/1664 [00:00<00:00, 142764.37it/s]\n",
      "Evaluating: 100%|██████████| 1041/1041 [00:00<00:00, 111695.03it/s]\n"
     ]
    },
    {
     "name": "stdout",
     "output_type": "stream",
     "text": [
      "Epoch 46 Loss 0.000334, Train Acc 0.9415, Val Acc 0.4603, Test Acc 0.4419\n"
     ]
    },
    {
     "name": "stderr",
     "output_type": "stream",
     "text": [
      "Epoch 47: 100%|██████████| 2496/2496 [00:00<00:00, 112788.01it/s, loss=0.251, acc=0.946]\n",
      "Evaluating: 100%|██████████| 1664/1664 [00:00<00:00, 146179.12it/s]\n",
      "Evaluating: 100%|██████████| 1041/1041 [00:00<00:00, 109537.40it/s]\n"
     ]
    },
    {
     "name": "stdout",
     "output_type": "stream",
     "text": [
      "Epoch 47 Loss 0.000310, Train Acc 0.9499, Val Acc 0.4549, Test Acc 0.4476\n"
     ]
    },
    {
     "name": "stderr",
     "output_type": "stream",
     "text": [
      "Epoch 48: 100%|██████████| 2496/2496 [00:00<00:00, 95897.91it/s, loss=0.227, acc=0.967]\n",
      "Evaluating: 100%|██████████| 1664/1664 [00:00<00:00, 143498.20it/s]\n",
      "Evaluating: 100%|██████████| 1041/1041 [00:00<00:00, 94387.48it/s]\n"
     ]
    },
    {
     "name": "stdout",
     "output_type": "stream",
     "text": [
      "Epoch 48 Loss 0.000303, Train Acc 0.9471, Val Acc 0.4663, Test Acc 0.4390\n"
     ]
    },
    {
     "name": "stderr",
     "output_type": "stream",
     "text": [
      "Epoch 49: 100%|██████████| 2496/2496 [00:00<00:00, 108253.53it/s, loss=0.257, acc=0.946]\n",
      "Evaluating: 100%|██████████| 1664/1664 [00:00<00:00, 143580.86it/s]\n",
      "Evaluating: 100%|██████████| 1041/1041 [00:00<00:00, 109929.01it/s]\n"
     ]
    },
    {
     "name": "stdout",
     "output_type": "stream",
     "text": [
      "Epoch 49 Loss 0.000299, Train Acc 0.9503, Val Acc 0.4766, Test Acc 0.4534\n"
     ]
    },
    {
     "name": "stderr",
     "output_type": "stream",
     "text": [
      "Epoch 50: 100%|██████████| 2496/2496 [00:00<00:00, 112100.81it/s, loss=0.251, acc=0.951]\n",
      "Evaluating: 100%|██████████| 1664/1664 [00:00<00:00, 110916.69it/s]\n",
      "Evaluating: 100%|██████████| 1041/1041 [00:00<00:00, 113274.28it/s]\n"
     ]
    },
    {
     "name": "stdout",
     "output_type": "stream",
     "text": [
      "Epoch 50 Loss 0.000297, Train Acc 0.9499, Val Acc 0.4567, Test Acc 0.4553\n"
     ]
    },
    {
     "name": "stderr",
     "output_type": "stream",
     "text": [
      "Epoch 51: 100%|██████████| 2496/2496 [00:00<00:00, 106225.85it/s, loss=0.218, acc=0.962]\n",
      "Evaluating: 100%|██████████| 1664/1664 [00:00<00:00, 140248.41it/s]\n",
      "Evaluating: 100%|██████████| 1041/1041 [00:00<00:00, 114144.89it/s]\n"
     ]
    },
    {
     "name": "stdout",
     "output_type": "stream",
     "text": [
      "Epoch 51 Loss 0.000283, Train Acc 0.9559, Val Acc 0.4549, Test Acc 0.4361\n"
     ]
    },
    {
     "name": "stderr",
     "output_type": "stream",
     "text": [
      "Epoch 52: 100%|██████████| 2496/2496 [00:00<00:00, 111894.73it/s, loss=0.235, acc=0.953]\n",
      "Evaluating: 100%|██████████| 1664/1664 [00:00<00:00, 141591.37it/s]\n",
      "Evaluating: 100%|██████████| 1041/1041 [00:00<00:00, 107234.58it/s]\n"
     ]
    },
    {
     "name": "stdout",
     "output_type": "stream",
     "text": [
      "Epoch 52 Loss 0.000279, Train Acc 0.9547, Val Acc 0.4688, Test Acc 0.4428\n"
     ]
    },
    {
     "name": "stderr",
     "output_type": "stream",
     "text": [
      "Epoch 53: 100%|██████████| 2496/2496 [00:00<00:00, 97497.44it/s, loss=0.246, acc=0.944]\n",
      "Evaluating: 100%|██████████| 1664/1664 [00:00<00:00, 133867.61it/s]\n",
      "Evaluating: 100%|██████████| 1041/1041 [00:00<00:00, 105936.30it/s]\n"
     ]
    },
    {
     "name": "stdout",
     "output_type": "stream",
     "text": [
      "Epoch 53 Loss 0.000277, Train Acc 0.9563, Val Acc 0.4663, Test Acc 0.4534\n"
     ]
    },
    {
     "name": "stderr",
     "output_type": "stream",
     "text": [
      "Epoch 54: 100%|██████████| 2496/2496 [00:00<00:00, 113289.64it/s, loss=0.194, acc=0.967]\n",
      "Evaluating: 100%|██████████| 1664/1664 [00:00<00:00, 135526.08it/s]\n",
      "Evaluating: 100%|██████████| 1041/1041 [00:00<00:00, 109055.88it/s]\n"
     ]
    },
    {
     "name": "stdout",
     "output_type": "stream",
     "text": [
      "Epoch 54 Loss 0.000259, Train Acc 0.9535, Val Acc 0.4561, Test Acc 0.4467\n"
     ]
    },
    {
     "name": "stderr",
     "output_type": "stream",
     "text": [
      "Epoch 55: 100%|██████████| 2496/2496 [00:00<00:00, 91080.57it/s, loss=0.181, acc=0.971]\n",
      "Evaluating: 100%|██████████| 1664/1664 [00:00<00:00, 132759.92it/s]\n",
      "Evaluating: 100%|██████████| 1041/1041 [00:00<00:00, 110521.70it/s]\n"
     ]
    },
    {
     "name": "stdout",
     "output_type": "stream",
     "text": [
      "Epoch 55 Loss 0.000250, Train Acc 0.9583, Val Acc 0.4621, Test Acc 0.4467\n"
     ]
    },
    {
     "name": "stderr",
     "output_type": "stream",
     "text": [
      "Epoch 56: 100%|██████████| 2496/2496 [00:00<00:00, 112192.11it/s, loss=0.221, acc=0.955]\n",
      "Evaluating: 100%|██████████| 1664/1664 [00:00<00:00, 140107.64it/s]\n",
      "Evaluating: 100%|██████████| 1041/1041 [00:00<00:00, 113699.04it/s]\n"
     ]
    },
    {
     "name": "stdout",
     "output_type": "stream",
     "text": [
      "Epoch 56 Loss 0.000253, Train Acc 0.9639, Val Acc 0.4579, Test Acc 0.4428\n"
     ]
    },
    {
     "name": "stderr",
     "output_type": "stream",
     "text": [
      "Epoch 57: 100%|██████████| 2496/2496 [00:00<00:00, 100723.34it/s, loss=0.211, acc=0.962]\n",
      "Evaluating: 100%|██████████| 1664/1664 [00:00<00:00, 145532.91it/s]\n",
      "Evaluating: 100%|██████████| 1041/1041 [00:00<00:00, 109837.76it/s]\n"
     ]
    },
    {
     "name": "stdout",
     "output_type": "stream",
     "text": [
      "Epoch 57 Loss 0.000248, Train Acc 0.9627, Val Acc 0.4675, Test Acc 0.4457\n"
     ]
    },
    {
     "name": "stderr",
     "output_type": "stream",
     "text": [
      "Epoch 58: 100%|██████████| 2496/2496 [00:00<00:00, 110882.62it/s, loss=0.212, acc=0.949]\n",
      "Evaluating: 100%|██████████| 1664/1664 [00:00<00:00, 146482.85it/s]\n",
      "Evaluating: 100%|██████████| 1041/1041 [00:00<00:00, 113200.86it/s]\n"
     ]
    },
    {
     "name": "stdout",
     "output_type": "stream",
     "text": [
      "Epoch 58 Loss 0.000249, Train Acc 0.9599, Val Acc 0.4513, Test Acc 0.4428\n"
     ]
    },
    {
     "name": "stderr",
     "output_type": "stream",
     "text": [
      "Epoch 59: 100%|██████████| 2496/2496 [00:00<00:00, 112913.30it/s, loss=0.180, acc=0.973]\n",
      "Evaluating: 100%|██████████| 1664/1664 [00:00<00:00, 115231.18it/s]\n",
      "Evaluating: 100%|██████████| 1041/1041 [00:00<00:00, 107833.11it/s]\n"
     ]
    },
    {
     "name": "stdout",
     "output_type": "stream",
     "text": [
      "Epoch 59 Loss 0.000234, Train Acc 0.9635, Val Acc 0.4441, Test Acc 0.4342\n"
     ]
    },
    {
     "name": "stderr",
     "output_type": "stream",
     "text": [
      "Epoch 60: 100%|██████████| 2496/2496 [00:00<00:00, 112097.21it/s, loss=0.184, acc=0.964]\n",
      "Evaluating: 100%|██████████| 1664/1664 [00:00<00:00, 133134.73it/s]\n",
      "Evaluating: 100%|██████████| 1041/1041 [00:00<00:00, 104264.17it/s]\n"
     ]
    },
    {
     "name": "stdout",
     "output_type": "stream",
     "text": [
      "Epoch 60 Loss 0.000230, Train Acc 0.9663, Val Acc 0.4663, Test Acc 0.4304\n"
     ]
    },
    {
     "name": "stderr",
     "output_type": "stream",
     "text": [
      "Epoch 61: 100%|██████████| 2496/2496 [00:00<00:00, 108327.46it/s, loss=0.185, acc=0.962]\n",
      "Evaluating: 100%|██████████| 1664/1664 [00:00<00:00, 110819.83it/s]\n",
      "Evaluating: 100%|██████████| 1041/1041 [00:00<00:00, 82567.85it/s]\n"
     ]
    },
    {
     "name": "stdout",
     "output_type": "stream",
     "text": [
      "Epoch 61 Loss 0.000226, Train Acc 0.9667, Val Acc 0.4549, Test Acc 0.4313\n"
     ]
    },
    {
     "name": "stderr",
     "output_type": "stream",
     "text": [
      "Epoch 62: 100%|██████████| 2496/2496 [00:00<00:00, 112088.81it/s, loss=0.213, acc=0.953]\n",
      "Evaluating: 100%|██████████| 1664/1664 [00:00<00:00, 146609.01it/s]\n",
      "Evaluating: 100%|██████████| 1041/1041 [00:00<00:00, 114384.12it/s]\n"
     ]
    },
    {
     "name": "stdout",
     "output_type": "stream",
     "text": [
      "Epoch 62 Loss 0.000229, Train Acc 0.9679, Val Acc 0.4573, Test Acc 0.4419\n"
     ]
    },
    {
     "name": "stderr",
     "output_type": "stream",
     "text": [
      "Epoch 63: 100%|██████████| 2496/2496 [00:00<00:00, 107283.95it/s, loss=0.189, acc=0.962]\n",
      "Evaluating: 100%|██████████| 1664/1664 [00:00<00:00, 146476.70it/s]\n",
      "Evaluating: 100%|██████████| 1041/1041 [00:00<00:00, 110816.23it/s]\n"
     ]
    },
    {
     "name": "stdout",
     "output_type": "stream",
     "text": [
      "Epoch 63 Loss 0.000219, Train Acc 0.9671, Val Acc 0.4706, Test Acc 0.4332\n"
     ]
    },
    {
     "name": "stderr",
     "output_type": "stream",
     "text": [
      "Epoch 64: 100%|██████████| 2496/2496 [00:00<00:00, 97155.42it/s, loss=0.179, acc=0.967]\n",
      "Evaluating: 100%|██████████| 1664/1664 [00:00<00:00, 145508.64it/s]\n",
      "Evaluating: 100%|██████████| 1041/1041 [00:00<00:00, 114201.62it/s]\n"
     ]
    },
    {
     "name": "stdout",
     "output_type": "stream",
     "text": [
      "Epoch 64 Loss 0.000214, Train Acc 0.9667, Val Acc 0.4501, Test Acc 0.4438\n"
     ]
    },
    {
     "name": "stderr",
     "output_type": "stream",
     "text": [
      "Epoch 65: 100%|██████████| 2496/2496 [00:00<00:00, 112558.81it/s, loss=0.183, acc=0.964]\n",
      "Evaluating: 100%|██████████| 1664/1664 [00:00<00:00, 146578.22it/s]\n",
      "Evaluating: 100%|██████████| 1041/1041 [00:00<00:00, 111606.52it/s]\n"
     ]
    },
    {
     "name": "stdout",
     "output_type": "stream",
     "text": [
      "Epoch 65 Loss 0.000213, Train Acc 0.9643, Val Acc 0.4507, Test Acc 0.4390\n"
     ]
    },
    {
     "name": "stderr",
     "output_type": "stream",
     "text": [
      "Epoch 66: 100%|██████████| 2496/2496 [00:00<00:00, 83412.21it/s, loss=0.188, acc=0.960]\n",
      "Evaluating: 100%|██████████| 1664/1664 [00:00<00:00, 141307.56it/s]\n",
      "Evaluating: 100%|██████████| 1041/1041 [00:00<00:00, 112047.59it/s]\n"
     ]
    },
    {
     "name": "stdout",
     "output_type": "stream",
     "text": [
      "Epoch 66 Loss 0.000213, Train Acc 0.9692, Val Acc 0.4639, Test Acc 0.4505\n"
     ]
    },
    {
     "name": "stderr",
     "output_type": "stream",
     "text": [
      "Epoch 67: 100%|██████████| 2496/2496 [00:00<00:00, 106689.18it/s, loss=0.185, acc=0.967]\n",
      "Evaluating: 100%|██████████| 1664/1664 [00:00<00:00, 140601.58it/s]\n",
      "Evaluating: 100%|██████████| 1041/1041 [00:00<00:00, 115415.15it/s]\n"
     ]
    },
    {
     "name": "stdout",
     "output_type": "stream",
     "text": [
      "Epoch 67 Loss 0.000207, Train Acc 0.9720, Val Acc 0.4483, Test Acc 0.4419\n"
     ]
    },
    {
     "name": "stderr",
     "output_type": "stream",
     "text": [
      "Epoch 68: 100%|██████████| 2496/2496 [00:00<00:00, 100726.25it/s, loss=0.166, acc=0.973]\n",
      "Evaluating: 100%|██████████| 1664/1664 [00:00<00:00, 112260.09it/s]\n",
      "Evaluating: 100%|██████████| 1041/1041 [00:00<00:00, 112390.81it/s]\n"
     ]
    },
    {
     "name": "stdout",
     "output_type": "stream",
     "text": [
      "Epoch 68 Loss 0.000199, Train Acc 0.9720, Val Acc 0.4501, Test Acc 0.4419\n"
     ]
    },
    {
     "name": "stderr",
     "output_type": "stream",
     "text": [
      "Epoch 69: 100%|██████████| 2496/2496 [00:00<00:00, 108482.37it/s, loss=0.164, acc=0.973]\n",
      "Evaluating: 100%|██████████| 1664/1664 [00:00<00:00, 147162.36it/s]\n",
      "Evaluating: 100%|██████████| 1041/1041 [00:00<00:00, 110070.35it/s]\n"
     ]
    },
    {
     "name": "stdout",
     "output_type": "stream",
     "text": [
      "Epoch 69 Loss 0.000193, Train Acc 0.9708, Val Acc 0.4537, Test Acc 0.4467\n"
     ]
    },
    {
     "name": "stderr",
     "output_type": "stream",
     "text": [
      "Epoch 70: 100%|██████████| 2496/2496 [00:00<00:00, 108501.49it/s, loss=0.157, acc=0.964]\n",
      "Evaluating: 100%|██████████| 1664/1664 [00:00<00:00, 120134.29it/s]\n",
      "Evaluating: 100%|██████████| 1041/1041 [00:00<00:00, 83701.15it/s]\n"
     ]
    },
    {
     "name": "stdout",
     "output_type": "stream",
     "text": [
      "Epoch 70 Loss 0.000195, Train Acc 0.9688, Val Acc 0.4471, Test Acc 0.4313\n"
     ]
    },
    {
     "name": "stderr",
     "output_type": "stream",
     "text": [
      "Epoch 71: 100%|██████████| 2496/2496 [00:00<00:00, 108687.35it/s, loss=0.149, acc=0.982]\n",
      "Evaluating: 100%|██████████| 1664/1664 [00:00<00:00, 143897.61it/s]\n",
      "Evaluating: 100%|██████████| 1041/1041 [00:00<00:00, 114465.08it/s]\n"
     ]
    },
    {
     "name": "stdout",
     "output_type": "stream",
     "text": [
      "Epoch 71 Loss 0.000183, Train Acc 0.9736, Val Acc 0.4495, Test Acc 0.4400\n"
     ]
    },
    {
     "name": "stderr",
     "output_type": "stream",
     "text": [
      "Epoch 72: 100%|██████████| 2496/2496 [00:00<00:00, 108333.07it/s, loss=0.155, acc=0.984]\n",
      "Evaluating: 100%|██████████| 1664/1664 [00:00<00:00, 147776.19it/s]\n",
      "Evaluating: 100%|██████████| 1041/1041 [00:00<00:00, 110259.36it/s]\n"
     ]
    },
    {
     "name": "stdout",
     "output_type": "stream",
     "text": [
      "Epoch 72 Loss 0.000183, Train Acc 0.9756, Val Acc 0.4537, Test Acc 0.4304\n"
     ]
    },
    {
     "name": "stderr",
     "output_type": "stream",
     "text": [
      "Epoch 73: 100%|██████████| 2496/2496 [00:00<00:00, 98858.18it/s, loss=0.146, acc=0.973]\n",
      "Evaluating: 100%|██████████| 1664/1664 [00:00<00:00, 129797.14it/s]\n",
      "Evaluating: 100%|██████████| 1041/1041 [00:00<00:00, 114432.08it/s]\n"
     ]
    },
    {
     "name": "stdout",
     "output_type": "stream",
     "text": [
      "Epoch 73 Loss 0.000183, Train Acc 0.9712, Val Acc 0.4447, Test Acc 0.4352\n"
     ]
    },
    {
     "name": "stderr",
     "output_type": "stream",
     "text": [
      "Epoch 74: 100%|██████████| 2496/2496 [00:00<00:00, 106887.43it/s, loss=0.151, acc=0.971]\n",
      "Evaluating: 100%|██████████| 1664/1664 [00:00<00:00, 147557.49it/s]\n",
      "Evaluating: 100%|██████████| 1041/1041 [00:00<00:00, 113007.49it/s]\n"
     ]
    },
    {
     "name": "stdout",
     "output_type": "stream",
     "text": [
      "Epoch 74 Loss 0.000178, Train Acc 0.9736, Val Acc 0.4483, Test Acc 0.4332\n"
     ]
    },
    {
     "name": "stderr",
     "output_type": "stream",
     "text": [
      "Epoch 75: 100%|██████████| 2496/2496 [00:00<00:00, 91882.35it/s, loss=0.169, acc=0.962]\n",
      "Evaluating: 100%|██████████| 1664/1664 [00:00<00:00, 146914.53it/s]\n",
      "Evaluating: 100%|██████████| 1041/1041 [00:00<00:00, 115880.74it/s]\n"
     ]
    },
    {
     "name": "stdout",
     "output_type": "stream",
     "text": [
      "Epoch 75 Loss 0.000180, Train Acc 0.9700, Val Acc 0.4591, Test Acc 0.4428\n"
     ]
    },
    {
     "name": "stderr",
     "output_type": "stream",
     "text": [
      "Epoch 76: 100%|██████████| 2496/2496 [00:00<00:00, 113775.98it/s, loss=0.130, acc=0.975]\n",
      "Evaluating: 100%|██████████| 1664/1664 [00:00<00:00, 145736.52it/s]\n",
      "Evaluating: 100%|██████████| 1041/1041 [00:00<00:00, 111775.09it/s]\n"
     ]
    },
    {
     "name": "stdout",
     "output_type": "stream",
     "text": [
      "Epoch 76 Loss 0.000165, Train Acc 0.9784, Val Acc 0.4423, Test Acc 0.4400\n"
     ]
    },
    {
     "name": "stderr",
     "output_type": "stream",
     "text": [
      "Epoch 77: 100%|██████████| 2496/2496 [00:00<00:00, 97435.74it/s, loss=0.139, acc=0.975]\n",
      "Evaluating: 100%|██████████| 1664/1664 [00:00<00:00, 117006.52it/s]\n",
      "Evaluating: 100%|██████████| 1041/1041 [00:00<00:00, 111695.03it/s]\n"
     ]
    },
    {
     "name": "stdout",
     "output_type": "stream",
     "text": [
      "Epoch 77 Loss 0.000167, Train Acc 0.9748, Val Acc 0.4447, Test Acc 0.4246\n"
     ]
    },
    {
     "name": "stderr",
     "output_type": "stream",
     "text": [
      "Epoch 78: 100%|██████████| 2496/2496 [00:00<00:00, 112341.40it/s, loss=0.135, acc=0.980]\n",
      "Evaluating: 100%|██████████| 1664/1664 [00:00<00:00, 149315.86it/s]\n",
      "Evaluating: 100%|██████████| 1041/1041 [00:00<00:00, 110844.37it/s]\n"
     ]
    },
    {
     "name": "stdout",
     "output_type": "stream",
     "text": [
      "Epoch 78 Loss 0.000164, Train Acc 0.9780, Val Acc 0.4543, Test Acc 0.4352\n"
     ]
    },
    {
     "name": "stderr",
     "output_type": "stream",
     "text": [
      "Epoch 79: 100%|██████████| 2496/2496 [00:00<00:00, 105479.87it/s, loss=0.139, acc=0.980]\n",
      "Evaluating: 100%|██████████| 1664/1664 [00:00<00:00, 106324.03it/s]\n",
      "Evaluating: 100%|██████████| 1041/1041 [00:00<00:00, 112718.67it/s]\n"
     ]
    },
    {
     "name": "stdout",
     "output_type": "stream",
     "text": [
      "Epoch 79 Loss 0.000158, Train Acc 0.9800, Val Acc 0.4513, Test Acc 0.4256\n"
     ]
    },
    {
     "name": "stderr",
     "output_type": "stream",
     "text": [
      "Epoch 80: 100%|██████████| 2496/2496 [00:00<00:00, 107489.94it/s, loss=0.119, acc=0.982]\n",
      "Evaluating: 100%|██████████| 1664/1664 [00:00<00:00, 142020.67it/s]\n",
      "Evaluating: 100%|██████████| 1041/1041 [00:00<00:00, 115509.80it/s]\n"
     ]
    },
    {
     "name": "stdout",
     "output_type": "stream",
     "text": [
      "Epoch 80 Loss 0.000157, Train Acc 0.9776, Val Acc 0.4465, Test Acc 0.4390\n"
     ]
    },
    {
     "name": "stderr",
     "output_type": "stream",
     "text": [
      "Epoch 81: 100%|██████████| 2496/2496 [00:00<00:00, 107298.25it/s, loss=0.128, acc=0.978]\n",
      "Evaluating: 100%|██████████| 1664/1664 [00:00<00:00, 150251.27it/s]\n",
      "Evaluating: 100%|██████████| 1041/1041 [00:00<00:00, 84271.41it/s]\n"
     ]
    },
    {
     "name": "stdout",
     "output_type": "stream",
     "text": [
      "Epoch 81 Loss 0.000154, Train Acc 0.9768, Val Acc 0.4429, Test Acc 0.4428\n"
     ]
    },
    {
     "name": "stderr",
     "output_type": "stream",
     "text": [
      "Epoch 82: 100%|██████████| 2496/2496 [00:00<00:00, 108500.36it/s, loss=0.145, acc=0.978]\n",
      "Evaluating: 100%|██████████| 1664/1664 [00:00<00:00, 149156.31it/s]\n",
      "Evaluating: 100%|██████████| 1041/1041 [00:00<00:00, 111273.74it/s]\n"
     ]
    },
    {
     "name": "stdout",
     "output_type": "stream",
     "text": [
      "Epoch 82 Loss 0.000157, Train Acc 0.9788, Val Acc 0.4495, Test Acc 0.4265\n"
     ]
    },
    {
     "name": "stderr",
     "output_type": "stream",
     "text": [
      "Epoch 83: 100%|██████████| 2496/2496 [00:00<00:00, 107106.14it/s, loss=0.108, acc=0.980]\n",
      "Evaluating: 100%|██████████| 1664/1664 [00:00<00:00, 150228.63it/s]\n",
      "Evaluating: 100%|██████████| 1041/1041 [00:00<00:00, 112457.39it/s]\n"
     ]
    },
    {
     "name": "stdout",
     "output_type": "stream",
     "text": [
      "Epoch 83 Loss 0.000146, Train Acc 0.9792, Val Acc 0.4471, Test Acc 0.4294\n"
     ]
    },
    {
     "name": "stderr",
     "output_type": "stream",
     "text": [
      "Epoch 84: 100%|██████████| 2496/2496 [00:00<00:00, 97776.08it/s, loss=0.112, acc=0.978]\n",
      "Evaluating: 100%|██████████| 1664/1664 [00:00<00:00, 145931.54it/s]\n",
      "Evaluating: 100%|██████████| 1041/1041 [00:00<00:00, 112223.26it/s]\n"
     ]
    },
    {
     "name": "stdout",
     "output_type": "stream",
     "text": [
      "Epoch 84 Loss 0.000143, Train Acc 0.9804, Val Acc 0.4375, Test Acc 0.4342\n"
     ]
    },
    {
     "name": "stderr",
     "output_type": "stream",
     "text": [
      "Epoch 85: 100%|██████████| 2496/2496 [00:00<00:00, 72861.16it/s, loss=0.115, acc=0.989]\n",
      "Evaluating: 100%|██████████| 1664/1664 [00:00<00:00, 118613.24it/s]\n",
      "Evaluating: 100%|██████████| 1041/1041 [00:00<00:00, 91132.94it/s]\n"
     ]
    },
    {
     "name": "stdout",
     "output_type": "stream",
     "text": [
      "Epoch 85 Loss 0.000147, Train Acc 0.9788, Val Acc 0.4441, Test Acc 0.4246\n"
     ]
    },
    {
     "name": "stderr",
     "output_type": "stream",
     "text": [
      "Epoch 86: 100%|██████████| 2496/2496 [00:00<00:00, 93851.82it/s, loss=0.110, acc=0.982]\n",
      "Evaluating: 100%|██████████| 1664/1664 [00:00<00:00, 124059.19it/s]\n",
      "Evaluating: 100%|██████████| 1041/1041 [00:00<00:00, 94686.32it/s]\n"
     ]
    },
    {
     "name": "stdout",
     "output_type": "stream",
     "text": [
      "Epoch 86 Loss 0.000142, Train Acc 0.9804, Val Acc 0.4387, Test Acc 0.4323\n"
     ]
    },
    {
     "name": "stderr",
     "output_type": "stream",
     "text": [
      "Epoch 87: 100%|██████████| 2496/2496 [00:00<00:00, 89471.60it/s, loss=0.123, acc=0.982]\n",
      "Evaluating: 100%|██████████| 1664/1664 [00:00<00:00, 114980.59it/s]\n",
      "Evaluating: 100%|██████████| 1041/1041 [00:00<00:00, 114106.11it/s]\n"
     ]
    },
    {
     "name": "stdout",
     "output_type": "stream",
     "text": [
      "Epoch 87 Loss 0.000144, Train Acc 0.9792, Val Acc 0.4417, Test Acc 0.4380\n"
     ]
    },
    {
     "name": "stderr",
     "output_type": "stream",
     "text": [
      "Epoch 88: 100%|██████████| 2496/2496 [00:00<00:00, 102424.20it/s, loss=0.106, acc=0.984]\n",
      "Evaluating: 100%|██████████| 1664/1664 [00:00<00:00, 137182.99it/s]\n",
      "Evaluating: 100%|██████████| 1041/1041 [00:00<00:00, 111424.24it/s]\n"
     ]
    },
    {
     "name": "stdout",
     "output_type": "stream",
     "text": [
      "Epoch 88 Loss 0.000134, Train Acc 0.9784, Val Acc 0.4387, Test Acc 0.4457\n"
     ]
    },
    {
     "name": "stderr",
     "output_type": "stream",
     "text": [
      "Epoch 89: 100%|██████████| 2496/2496 [00:00<00:00, 106695.71it/s, loss=0.108, acc=0.991]\n",
      "Evaluating: 100%|██████████| 1664/1664 [00:00<00:00, 95822.42it/s]\n",
      "Evaluating: 100%|██████████| 1041/1041 [00:00<00:00, 110449.02it/s]\n"
     ]
    },
    {
     "name": "stdout",
     "output_type": "stream",
     "text": [
      "Epoch 89 Loss 0.000132, Train Acc 0.9836, Val Acc 0.4345, Test Acc 0.4265\n"
     ]
    },
    {
     "name": "stderr",
     "output_type": "stream",
     "text": [
      "Epoch 90: 100%|██████████| 2496/2496 [00:00<00:00, 107084.23it/s, loss=0.102, acc=0.982]\n",
      "Evaluating: 100%|██████████| 1664/1664 [00:00<00:00, 138778.74it/s]\n",
      "Evaluating: 100%|██████████| 1041/1041 [00:00<00:00, 97970.93it/s]\n"
     ]
    },
    {
     "name": "stdout",
     "output_type": "stream",
     "text": [
      "Epoch 90 Loss 0.000130, Train Acc 0.9832, Val Acc 0.4417, Test Acc 0.4428\n"
     ]
    },
    {
     "name": "stderr",
     "output_type": "stream",
     "text": [
      "Epoch 91: 100%|██████████| 2496/2496 [00:00<00:00, 97021.27it/s, loss=0.117, acc=0.978]\n",
      "Evaluating: 100%|██████████| 1664/1664 [00:00<00:00, 99208.56it/s]\n",
      "Evaluating: 100%|██████████| 1041/1041 [00:00<00:00, 95329.25it/s]\n"
     ]
    },
    {
     "name": "stdout",
     "output_type": "stream",
     "text": [
      "Epoch 91 Loss 0.000134, Train Acc 0.9824, Val Acc 0.4339, Test Acc 0.4313\n"
     ]
    },
    {
     "name": "stderr",
     "output_type": "stream",
     "text": [
      "Epoch 92: 100%|██████████| 2496/2496 [00:00<00:00, 91561.71it/s, loss=0.115, acc=0.980]\n",
      "Evaluating: 100%|██████████| 1664/1664 [00:00<00:00, 110318.85it/s]\n",
      "Evaluating: 100%|██████████| 1041/1041 [00:00<00:00, 108465.30it/s]\n"
     ]
    },
    {
     "name": "stdout",
     "output_type": "stream",
     "text": [
      "Epoch 92 Loss 0.000132, Train Acc 0.9832, Val Acc 0.4453, Test Acc 0.4390\n"
     ]
    },
    {
     "name": "stderr",
     "output_type": "stream",
     "text": [
      "Epoch 93: 100%|██████████| 2496/2496 [00:00<00:00, 98931.99it/s, loss=0.092, acc=0.982]\n",
      "Evaluating: 100%|██████████| 1664/1664 [00:00<00:00, 123033.51it/s]\n",
      "Evaluating: 100%|██████████| 1041/1041 [00:00<00:00, 105041.75it/s]\n"
     ]
    },
    {
     "name": "stdout",
     "output_type": "stream",
     "text": [
      "Epoch 93 Loss 0.000126, Train Acc 0.9808, Val Acc 0.4345, Test Acc 0.4169\n"
     ]
    },
    {
     "name": "stderr",
     "output_type": "stream",
     "text": [
      "Epoch 94: 100%|██████████| 2496/2496 [00:00<00:00, 99791.08it/s, loss=0.107, acc=0.982]\n",
      "Evaluating: 100%|██████████| 1664/1664 [00:00<00:00, 80204.57it/s]\n",
      "Evaluating: 100%|██████████| 1041/1041 [00:00<00:00, 102653.65it/s]\n"
     ]
    },
    {
     "name": "stdout",
     "output_type": "stream",
     "text": [
      "Epoch 94 Loss 0.000125, Train Acc 0.9816, Val Acc 0.4369, Test Acc 0.4169\n"
     ]
    },
    {
     "name": "stderr",
     "output_type": "stream",
     "text": [
      "Epoch 95: 100%|██████████| 2496/2496 [00:00<00:00, 100794.13it/s, loss=0.090, acc=0.991]\n",
      "Evaluating: 100%|██████████| 1664/1664 [00:00<00:00, 126094.34it/s]\n",
      "Evaluating: 100%|██████████| 1041/1041 [00:00<00:00, 106116.52it/s]\n"
     ]
    },
    {
     "name": "stdout",
     "output_type": "stream",
     "text": [
      "Epoch 95 Loss 0.000120, Train Acc 0.9824, Val Acc 0.4393, Test Acc 0.4304\n"
     ]
    },
    {
     "name": "stderr",
     "output_type": "stream",
     "text": [
      "Epoch 96: 100%|██████████| 2496/2496 [00:00<00:00, 100800.93it/s, loss=0.078, acc=0.989]\n",
      "Evaluating: 100%|██████████| 1664/1664 [00:00<00:00, 86988.17it/s]\n",
      "Evaluating: 100%|██████████| 1041/1041 [00:00<00:00, 107684.18it/s]\n"
     ]
    },
    {
     "name": "stdout",
     "output_type": "stream",
     "text": [
      "Epoch 96 Loss 0.000116, Train Acc 0.9808, Val Acc 0.4369, Test Acc 0.4313\n"
     ]
    },
    {
     "name": "stderr",
     "output_type": "stream",
     "text": [
      "Epoch 97: 100%|██████████| 2496/2496 [00:00<00:00, 96981.72it/s, loss=0.086, acc=0.987]\n",
      "Evaluating: 100%|██████████| 1664/1664 [00:00<00:00, 131296.38it/s]\n",
      "Evaluating: 100%|██████████| 1041/1041 [00:00<00:00, 106147.48it/s]\n"
     ]
    },
    {
     "name": "stdout",
     "output_type": "stream",
     "text": [
      "Epoch 97 Loss 0.000112, Train Acc 0.9860, Val Acc 0.4393, Test Acc 0.4236\n"
     ]
    },
    {
     "name": "stderr",
     "output_type": "stream",
     "text": [
      "Epoch 98: 100%|██████████| 2496/2496 [00:00<00:00, 101487.89it/s, loss=0.083, acc=0.993]\n",
      "Evaluating: 100%|██████████| 1664/1664 [00:00<00:00, 82599.43it/s]\n",
      "Evaluating: 100%|██████████| 1041/1041 [00:00<00:00, 89623.35it/s]\n"
     ]
    },
    {
     "name": "stdout",
     "output_type": "stream",
     "text": [
      "Epoch 98 Loss 0.000111, Train Acc 0.9876, Val Acc 0.4393, Test Acc 0.4313\n"
     ]
    },
    {
     "name": "stderr",
     "output_type": "stream",
     "text": [
      "Epoch 99: 100%|██████████| 2496/2496 [00:00<00:00, 90277.09it/s, loss=0.108, acc=0.982]\n",
      "Evaluating: 100%|██████████| 1664/1664 [00:00<00:00, 130882.74it/s]\n",
      "Evaluating: 100%|██████████| 1041/1041 [00:00<00:00, 105774.62it/s]\n"
     ]
    },
    {
     "name": "stdout",
     "output_type": "stream",
     "text": [
      "Epoch 99 Loss 0.000119, Train Acc 0.9840, Val Acc 0.4339, Test Acc 0.4294\n"
     ]
    },
    {
     "name": "stderr",
     "output_type": "stream",
     "text": [
      "Epoch 100: 100%|██████████| 2496/2496 [00:00<00:00, 98295.69it/s, loss=0.086, acc=0.984]\n",
      "Evaluating: 100%|██████████| 1664/1664 [00:00<00:00, 129983.27it/s]\n",
      "Evaluating: 100%|██████████| 1041/1041 [00:00<00:00, 107116.20it/s]\n"
     ]
    },
    {
     "name": "stdout",
     "output_type": "stream",
     "text": [
      "Epoch 100 Loss 0.000112, Train Acc 0.9816, Val Acc 0.4429, Test Acc 0.4265\n"
     ]
    },
    {
     "name": "stderr",
     "output_type": "stream",
     "text": [
      "Epoch 101: 100%|██████████| 2496/2496 [00:00<00:00, 90963.44it/s, loss=0.103, acc=0.984]\n",
      "Evaluating: 100%|██████████| 1664/1664 [00:00<00:00, 124755.50it/s]\n",
      "Evaluating: 100%|██████████| 1041/1041 [00:00<00:00, 111109.51it/s]\n"
     ]
    },
    {
     "name": "stdout",
     "output_type": "stream",
     "text": [
      "Epoch 101 Loss 0.000113, Train Acc 0.9848, Val Acc 0.4291, Test Acc 0.4246\n"
     ]
    },
    {
     "name": "stderr",
     "output_type": "stream",
     "text": [
      "Epoch 102: 100%|██████████| 2496/2496 [00:00<00:00, 99360.15it/s, loss=0.097, acc=0.987]\n",
      "Evaluating: 100%|██████████| 1664/1664 [00:00<00:00, 129628.38it/s]\n",
      "Evaluating: 100%|██████████| 1041/1041 [00:00<00:00, 107564.80it/s]\n"
     ]
    },
    {
     "name": "stdout",
     "output_type": "stream",
     "text": [
      "Epoch 102 Loss 0.000110, Train Acc 0.9876, Val Acc 0.4369, Test Acc 0.4467\n"
     ]
    },
    {
     "name": "stderr",
     "output_type": "stream",
     "text": [
      "Epoch 103: 100%|██████████| 2496/2496 [00:00<00:00, 85066.65it/s, loss=0.094, acc=0.982]\n",
      "Evaluating: 100%|██████████| 1664/1664 [00:00<00:00, 133463.15it/s]\n",
      "Evaluating: 100%|██████████| 1041/1041 [00:00<00:00, 105442.55it/s]\n"
     ]
    },
    {
     "name": "stdout",
     "output_type": "stream",
     "text": [
      "Epoch 103 Loss 0.000113, Train Acc 0.9844, Val Acc 0.4357, Test Acc 0.4313\n"
     ]
    },
    {
     "name": "stderr",
     "output_type": "stream",
     "text": [
      "Epoch 104: 100%|██████████| 2496/2496 [00:00<00:00, 104771.55it/s, loss=0.103, acc=0.984]\n",
      "Evaluating: 100%|██████████| 1664/1664 [00:00<00:00, 126260.87it/s]\n",
      "Evaluating: 100%|██████████| 1041/1041 [00:00<00:00, 106129.42it/s]\n"
     ]
    },
    {
     "name": "stdout",
     "output_type": "stream",
     "text": [
      "Epoch 104 Loss 0.000108, Train Acc 0.9864, Val Acc 0.4363, Test Acc 0.4294\n"
     ]
    },
    {
     "name": "stderr",
     "output_type": "stream",
     "text": [
      "Epoch 105: 100%|██████████| 2496/2496 [00:00<00:00, 85696.84it/s, loss=0.078, acc=0.987]\n",
      "Evaluating: 100%|██████████| 1664/1664 [00:00<00:00, 126542.44it/s]\n",
      "Evaluating: 100%|██████████| 1041/1041 [00:00<00:00, 109735.62it/s]\n"
     ]
    },
    {
     "name": "stdout",
     "output_type": "stream",
     "text": [
      "Epoch 105 Loss 0.000105, Train Acc 0.9840, Val Acc 0.4375, Test Acc 0.4246\n"
     ]
    },
    {
     "name": "stderr",
     "output_type": "stream",
     "text": [
      "Epoch 106: 100%|██████████| 2496/2496 [00:00<00:00, 104200.09it/s, loss=0.098, acc=0.982]\n",
      "Evaluating: 100%|██████████| 1664/1664 [00:00<00:00, 127202.05it/s]\n",
      "Evaluating: 100%|██████████| 1041/1041 [00:00<00:00, 110084.22it/s]\n"
     ]
    },
    {
     "name": "stdout",
     "output_type": "stream",
     "text": [
      "Epoch 106 Loss 0.000111, Train Acc 0.9844, Val Acc 0.4345, Test Acc 0.4217\n"
     ]
    },
    {
     "name": "stderr",
     "output_type": "stream",
     "text": [
      "Epoch 107: 100%|██████████| 2496/2496 [00:00<00:00, 87945.08it/s, loss=0.087, acc=0.984]\n",
      "Evaluating: 100%|██████████| 1664/1664 [00:00<00:00, 129563.41it/s]\n",
      "Evaluating: 100%|██████████| 1041/1041 [00:00<00:00, 102396.06it/s]\n"
     ]
    },
    {
     "name": "stdout",
     "output_type": "stream",
     "text": [
      "Epoch 107 Loss 0.000103, Train Acc 0.9872, Val Acc 0.4381, Test Acc 0.4227\n"
     ]
    },
    {
     "name": "stderr",
     "output_type": "stream",
     "text": [
      "Epoch 108: 100%|██████████| 2496/2496 [00:00<00:00, 102662.25it/s, loss=0.085, acc=0.984]\n",
      "Evaluating: 100%|██████████| 1664/1664 [00:00<00:00, 136107.53it/s]\n",
      "Evaluating: 100%|██████████| 1041/1041 [00:00<00:00, 109197.71it/s]\n"
     ]
    },
    {
     "name": "stdout",
     "output_type": "stream",
     "text": [
      "Epoch 108 Loss 0.000104, Train Acc 0.9856, Val Acc 0.4411, Test Acc 0.4236\n"
     ]
    },
    {
     "name": "stderr",
     "output_type": "stream",
     "text": [
      "Epoch 109: 100%|██████████| 2496/2496 [00:00<00:00, 86651.57it/s, loss=0.087, acc=0.984]\n",
      "Evaluating: 100%|██████████| 1664/1664 [00:00<00:00, 116714.97it/s]\n",
      "Evaluating: 100%|██████████| 1041/1041 [00:00<00:00, 98213.34it/s]\n"
     ]
    },
    {
     "name": "stdout",
     "output_type": "stream",
     "text": [
      "Epoch 109 Loss 0.000100, Train Acc 0.9852, Val Acc 0.4297, Test Acc 0.4265\n"
     ]
    },
    {
     "name": "stderr",
     "output_type": "stream",
     "text": [
      "Epoch 110: 100%|██████████| 2496/2496 [00:00<00:00, 97460.23it/s, loss=0.084, acc=0.987]\n",
      "Evaluating: 100%|██████████| 1664/1664 [00:00<00:00, 106068.72it/s]\n",
      "Evaluating: 100%|██████████| 1041/1041 [00:00<00:00, 97616.10it/s]\n"
     ]
    },
    {
     "name": "stdout",
     "output_type": "stream",
     "text": [
      "Epoch 110 Loss 0.000096, Train Acc 0.9892, Val Acc 0.4375, Test Acc 0.4275\n"
     ]
    },
    {
     "name": "stderr",
     "output_type": "stream",
     "text": [
      "Epoch 111: 100%|██████████| 2496/2496 [00:00<00:00, 87990.17it/s, loss=0.086, acc=0.989]\n",
      "Evaluating: 100%|██████████| 1664/1664 [00:00<00:00, 103261.21it/s]\n",
      "Evaluating: 100%|██████████| 1041/1041 [00:00<00:00, 98492.49it/s]\n"
     ]
    },
    {
     "name": "stdout",
     "output_type": "stream",
     "text": [
      "Epoch 111 Loss 0.000101, Train Acc 0.9860, Val Acc 0.4273, Test Acc 0.4207\n"
     ]
    },
    {
     "name": "stderr",
     "output_type": "stream",
     "text": [
      "Epoch 112: 100%|██████████| 2496/2496 [00:00<00:00, 93711.52it/s, loss=0.079, acc=0.993]\n",
      "Evaluating: 100%|██████████| 1664/1664 [00:00<00:00, 105257.69it/s]\n",
      "Evaluating: 100%|██████████| 1041/1041 [00:00<00:00, 79753.60it/s]\n"
     ]
    },
    {
     "name": "stdout",
     "output_type": "stream",
     "text": [
      "Epoch 112 Loss 0.000095, Train Acc 0.9880, Val Acc 0.4429, Test Acc 0.4284\n"
     ]
    },
    {
     "name": "stderr",
     "output_type": "stream",
     "text": [
      "Epoch 113: 100%|██████████| 2496/2496 [00:00<00:00, 93000.58it/s, loss=0.086, acc=0.982]\n",
      "Evaluating: 100%|██████████| 1664/1664 [00:00<00:00, 118359.79it/s]\n",
      "Evaluating: 100%|██████████| 1041/1041 [00:00<00:00, 95510.67it/s]\n"
     ]
    },
    {
     "name": "stdout",
     "output_type": "stream",
     "text": [
      "Epoch 113 Loss 0.000099, Train Acc 0.9856, Val Acc 0.4315, Test Acc 0.4409\n"
     ]
    },
    {
     "name": "stderr",
     "output_type": "stream",
     "text": [
      "Epoch 114: 100%|██████████| 2496/2496 [00:00<00:00, 96748.69it/s, loss=0.086, acc=0.980]\n",
      "Evaluating: 100%|██████████| 1664/1664 [00:00<00:00, 105001.16it/s]\n",
      "Evaluating: 100%|██████████| 1041/1041 [00:00<00:00, 72196.01it/s]\n"
     ]
    },
    {
     "name": "stdout",
     "output_type": "stream",
     "text": [
      "Epoch 114 Loss 0.000094, Train Acc 0.9868, Val Acc 0.4243, Test Acc 0.4227\n"
     ]
    },
    {
     "name": "stderr",
     "output_type": "stream",
     "text": [
      "Epoch 115: 100%|██████████| 2496/2496 [00:00<00:00, 85234.95it/s, loss=0.090, acc=0.989]\n",
      "Evaluating: 100%|██████████| 1664/1664 [00:00<00:00, 100838.31it/s]\n",
      "Evaluating: 100%|██████████| 1041/1041 [00:00<00:00, 87203.32it/s]\n"
     ]
    },
    {
     "name": "stdout",
     "output_type": "stream",
     "text": [
      "Epoch 115 Loss 0.000095, Train Acc 0.9896, Val Acc 0.4381, Test Acc 0.4236\n"
     ]
    },
    {
     "name": "stderr",
     "output_type": "stream",
     "text": [
      "Epoch 116: 100%|██████████| 2496/2496 [00:00<00:00, 88948.59it/s, loss=0.065, acc=0.987]\n",
      "Evaluating: 100%|██████████| 1664/1664 [00:00<00:00, 90752.51it/s]\n",
      "Evaluating: 100%|██████████| 1041/1041 [00:00<00:00, 94479.39it/s]\n"
     ]
    },
    {
     "name": "stdout",
     "output_type": "stream",
     "text": [
      "Epoch 116 Loss 0.000088, Train Acc 0.9872, Val Acc 0.4315, Test Acc 0.4323\n"
     ]
    },
    {
     "name": "stderr",
     "output_type": "stream",
     "text": [
      "Epoch 117: 100%|██████████| 2496/2496 [00:00<00:00, 88684.12it/s, loss=0.062, acc=0.991]\n",
      "Evaluating: 100%|██████████| 1664/1664 [00:00<00:00, 109679.13it/s]\n",
      "Evaluating: 100%|██████████| 1041/1041 [00:00<00:00, 94713.03it/s]\n"
     ]
    },
    {
     "name": "stdout",
     "output_type": "stream",
     "text": [
      "Epoch 117 Loss 0.000087, Train Acc 0.9884, Val Acc 0.4321, Test Acc 0.4236\n"
     ]
    },
    {
     "name": "stderr",
     "output_type": "stream",
     "text": [
      "Epoch 118: 100%|██████████| 2496/2496 [00:00<00:00, 82147.04it/s, loss=0.069, acc=0.991]\n",
      "Evaluating: 100%|██████████| 1664/1664 [00:00<00:00, 113269.42it/s]\n",
      "Evaluating: 100%|██████████| 1041/1041 [00:00<00:00, 93388.17it/s]\n"
     ]
    },
    {
     "name": "stdout",
     "output_type": "stream",
     "text": [
      "Epoch 118 Loss 0.000090, Train Acc 0.9876, Val Acc 0.4297, Test Acc 0.4188\n"
     ]
    },
    {
     "name": "stderr",
     "output_type": "stream",
     "text": [
      "Epoch 119: 100%|██████████| 2496/2496 [00:00<00:00, 88687.12it/s, loss=0.072, acc=0.989]\n",
      "Evaluating: 100%|██████████| 1664/1664 [00:00<00:00, 107397.31it/s]\n",
      "Evaluating: 100%|██████████| 1041/1041 [00:00<00:00, 95358.40it/s]\n"
     ]
    },
    {
     "name": "stdout",
     "output_type": "stream",
     "text": [
      "Epoch 119 Loss 0.000091, Train Acc 0.9856, Val Acc 0.4339, Test Acc 0.4352\n"
     ]
    },
    {
     "name": "stderr",
     "output_type": "stream",
     "text": [
      "Epoch 120: 100%|██████████| 2496/2496 [00:00<00:00, 86854.30it/s, loss=0.073, acc=0.989]\n",
      "Evaluating: 100%|██████████| 1664/1664 [00:00<00:00, 132206.66it/s]\n",
      "Evaluating: 100%|██████████| 1041/1041 [00:00<00:00, 108689.40it/s]\n"
     ]
    },
    {
     "name": "stdout",
     "output_type": "stream",
     "text": [
      "Epoch 120 Loss 0.000087, Train Acc 0.9888, Val Acc 0.4279, Test Acc 0.4275\n"
     ]
    },
    {
     "name": "stderr",
     "output_type": "stream",
     "text": [
      "Epoch 121: 100%|██████████| 2496/2496 [00:00<00:00, 104985.89it/s, loss=0.069, acc=0.987]\n",
      "Evaluating: 100%|██████████| 1664/1664 [00:00<00:00, 132785.18it/s]\n",
      "Evaluating: 100%|██████████| 1041/1041 [00:00<00:00, 109754.93it/s]\n"
     ]
    },
    {
     "name": "stdout",
     "output_type": "stream",
     "text": [
      "Epoch 121 Loss 0.000085, Train Acc 0.9892, Val Acc 0.4285, Test Acc 0.4102\n"
     ]
    },
    {
     "name": "stderr",
     "output_type": "stream",
     "text": [
      "Epoch 122: 100%|██████████| 2496/2496 [00:00<00:00, 85917.68it/s, loss=0.065, acc=0.993]\n",
      "Evaluating: 100%|██████████| 1664/1664 [00:00<00:00, 111645.93it/s]\n",
      "Evaluating: 100%|██████████| 1041/1041 [00:00<00:00, 93749.10it/s]\n"
     ]
    },
    {
     "name": "stdout",
     "output_type": "stream",
     "text": [
      "Epoch 122 Loss 0.000085, Train Acc 0.9884, Val Acc 0.4273, Test Acc 0.4159\n"
     ]
    },
    {
     "name": "stderr",
     "output_type": "stream",
     "text": [
      "Epoch 123: 100%|██████████| 2496/2496 [00:00<00:00, 85298.15it/s, loss=0.072, acc=0.984]\n",
      "Evaluating: 100%|██████████| 1664/1664 [00:00<00:00, 107878.72it/s]\n",
      "Evaluating: 100%|██████████| 1041/1041 [00:00<00:00, 66801.36it/s]\n"
     ]
    },
    {
     "name": "stdout",
     "output_type": "stream",
     "text": [
      "Epoch 123 Loss 0.000085, Train Acc 0.9872, Val Acc 0.4243, Test Acc 0.4304\n"
     ]
    },
    {
     "name": "stderr",
     "output_type": "stream",
     "text": [
      "Epoch 124: 100%|██████████| 2496/2496 [00:00<00:00, 85124.06it/s, loss=0.084, acc=0.987]\n",
      "Evaluating: 100%|██████████| 1664/1664 [00:00<00:00, 98649.05it/s]\n",
      "Evaluating: 100%|██████████| 1041/1041 [00:00<00:00, 95519.03it/s]\n"
     ]
    },
    {
     "name": "stdout",
     "output_type": "stream",
     "text": [
      "Epoch 124 Loss 0.000084, Train Acc 0.9920, Val Acc 0.4285, Test Acc 0.4227\n"
     ]
    },
    {
     "name": "stderr",
     "output_type": "stream",
     "text": [
      "Epoch 125: 100%|██████████| 2496/2496 [00:00<00:00, 87253.88it/s, loss=0.059, acc=0.989]\n",
      "Evaluating: 100%|██████████| 1664/1664 [00:00<00:00, 85461.78it/s]\n",
      "Evaluating: 100%|██████████| 1041/1041 [00:00<00:00, 101934.69it/s]\n"
     ]
    },
    {
     "name": "stdout",
     "output_type": "stream",
     "text": [
      "Epoch 125 Loss 0.000081, Train Acc 0.9872, Val Acc 0.4255, Test Acc 0.4275\n"
     ]
    },
    {
     "name": "stderr",
     "output_type": "stream",
     "text": [
      "Epoch 126: 100%|██████████| 2496/2496 [00:00<00:00, 102687.42it/s, loss=0.059, acc=0.982]\n",
      "Evaluating: 100%|██████████| 1664/1664 [00:00<00:00, 139714.97it/s]\n",
      "Evaluating: 100%|██████████| 1041/1041 [00:00<00:00, 109859.86it/s]\n"
     ]
    },
    {
     "name": "stdout",
     "output_type": "stream",
     "text": [
      "Epoch 126 Loss 0.000078, Train Acc 0.9880, Val Acc 0.4237, Test Acc 0.4150\n"
     ]
    },
    {
     "name": "stderr",
     "output_type": "stream",
     "text": [
      "Epoch 127: 100%|██████████| 2496/2496 [00:00<00:00, 105087.06it/s, loss=0.072, acc=0.982]\n",
      "Evaluating: 100%|██████████| 1664/1664 [00:00<00:00, 117006.52it/s]\n",
      "Evaluating: 100%|██████████| 1041/1041 [00:00<00:00, 91836.41it/s]\n"
     ]
    },
    {
     "name": "stdout",
     "output_type": "stream",
     "text": [
      "Epoch 127 Loss 0.000082, Train Acc 0.9872, Val Acc 0.4333, Test Acc 0.4294\n"
     ]
    },
    {
     "name": "stderr",
     "output_type": "stream",
     "text": [
      "Epoch 128: 100%|██████████| 2496/2496 [00:00<00:00, 96297.50it/s, loss=0.073, acc=0.989]\n",
      "Evaluating: 100%|██████████| 1664/1664 [00:00<00:00, 133939.55it/s]\n",
      "Evaluating: 100%|██████████| 1041/1041 [00:00<00:00, 76472.44it/s]\n"
     ]
    },
    {
     "name": "stdout",
     "output_type": "stream",
     "text": [
      "Epoch 128 Loss 0.000081, Train Acc 0.9912, Val Acc 0.4237, Test Acc 0.4227\n"
     ]
    },
    {
     "name": "stderr",
     "output_type": "stream",
     "text": [
      "Epoch 129: 100%|██████████| 2496/2496 [00:00<00:00, 94930.07it/s, loss=0.060, acc=0.989]\n",
      "Evaluating: 100%|██████████| 1664/1664 [00:00<00:00, 113531.06it/s]\n",
      "Evaluating: 100%|██████████| 1041/1041 [00:00<00:00, 110892.22it/s]\n"
     ]
    },
    {
     "name": "stdout",
     "output_type": "stream",
     "text": [
      "Epoch 129 Loss 0.000079, Train Acc 0.9880, Val Acc 0.4285, Test Acc 0.4284\n"
     ]
    },
    {
     "name": "stderr",
     "output_type": "stream",
     "text": [
      "Epoch 130: 100%|██████████| 2496/2496 [00:00<00:00, 107782.10it/s, loss=0.060, acc=0.991]\n",
      "Evaluating: 100%|██████████| 1664/1664 [00:00<00:00, 137032.16it/s]\n",
      "Evaluating: 100%|██████████| 1041/1041 [00:00<00:00, 109427.59it/s]\n"
     ]
    },
    {
     "name": "stdout",
     "output_type": "stream",
     "text": [
      "Epoch 130 Loss 0.000076, Train Acc 0.9904, Val Acc 0.4291, Test Acc 0.4188\n"
     ]
    },
    {
     "name": "stderr",
     "output_type": "stream",
     "text": [
      "Epoch 131: 100%|██████████| 2496/2496 [00:00<00:00, 106111.72it/s, loss=0.062, acc=0.984]\n",
      "Evaluating: 100%|██████████| 1664/1664 [00:00<00:00, 101397.94it/s]\n",
      "Evaluating: 100%|██████████| 1041/1041 [00:00<00:00, 112561.75it/s]\n"
     ]
    },
    {
     "name": "stdout",
     "output_type": "stream",
     "text": [
      "Epoch 131 Loss 0.000077, Train Acc 0.9876, Val Acc 0.4291, Test Acc 0.4198\n"
     ]
    },
    {
     "name": "stderr",
     "output_type": "stream",
     "text": [
      "Epoch 132: 100%|██████████| 2496/2496 [00:00<00:00, 107283.95it/s, loss=0.072, acc=0.987]\n",
      "Evaluating: 100%|██████████| 1664/1664 [00:00<00:00, 141668.97it/s]\n",
      "Evaluating: 100%|██████████| 1041/1041 [00:00<00:00, 111789.40it/s]\n"
     ]
    },
    {
     "name": "stdout",
     "output_type": "stream",
     "text": [
      "Epoch 132 Loss 0.000079, Train Acc 0.9904, Val Acc 0.4255, Test Acc 0.4102\n"
     ]
    },
    {
     "name": "stderr",
     "output_type": "stream",
     "text": [
      "Epoch 133: 100%|██████████| 2496/2496 [00:00<00:00, 98824.59it/s, loss=0.055, acc=0.989]\n",
      "Evaluating: 100%|██████████| 1664/1664 [00:00<00:00, 112335.98it/s]\n",
      "Evaluating: 100%|██████████| 1041/1041 [00:00<00:00, 96186.07it/s]\n"
     ]
    },
    {
     "name": "stdout",
     "output_type": "stream",
     "text": [
      "Epoch 133 Loss 0.000072, Train Acc 0.9892, Val Acc 0.4237, Test Acc 0.4179\n"
     ]
    },
    {
     "name": "stderr",
     "output_type": "stream",
     "text": [
      "Epoch 134: 100%|██████████| 2496/2496 [00:00<00:00, 91319.71it/s, loss=0.071, acc=0.984]\n",
      "Evaluating: 100%|██████████| 1664/1664 [00:00<00:00, 122817.00it/s]\n",
      "Evaluating: 100%|██████████| 1041/1041 [00:00<00:00, 100233.48it/s]\n"
     ]
    },
    {
     "name": "stdout",
     "output_type": "stream",
     "text": [
      "Epoch 134 Loss 0.000073, Train Acc 0.9900, Val Acc 0.4261, Test Acc 0.4284\n"
     ]
    },
    {
     "name": "stderr",
     "output_type": "stream",
     "text": [
      "Epoch 135: 100%|██████████| 2496/2496 [00:00<00:00, 94364.47it/s, loss=0.058, acc=0.989]\n",
      "Evaluating: 100%|██████████| 1664/1664 [00:00<00:00, 116339.48it/s]\n",
      "Evaluating: 100%|██████████| 1041/1041 [00:00<00:00, 109216.83it/s]\n"
     ]
    },
    {
     "name": "stdout",
     "output_type": "stream",
     "text": [
      "Epoch 135 Loss 0.000069, Train Acc 0.9924, Val Acc 0.4285, Test Acc 0.4265\n"
     ]
    },
    {
     "name": "stderr",
     "output_type": "stream",
     "text": [
      "Epoch 136: 100%|██████████| 2496/2496 [00:00<00:00, 106062.27it/s, loss=0.057, acc=0.993]\n",
      "Evaluating: 100%|██████████| 1664/1664 [00:00<00:00, 138256.41it/s]\n",
      "Evaluating: 100%|██████████| 1041/1041 [00:00<00:00, 108597.48it/s]\n"
     ]
    },
    {
     "name": "stdout",
     "output_type": "stream",
     "text": [
      "Epoch 136 Loss 0.000070, Train Acc 0.9912, Val Acc 0.4261, Test Acc 0.4217\n"
     ]
    },
    {
     "name": "stderr",
     "output_type": "stream",
     "text": [
      "Epoch 137: 100%|██████████| 2496/2496 [00:00<00:00, 96567.53it/s, loss=0.067, acc=0.984]\n",
      "Evaluating: 100%|██████████| 1664/1664 [00:00<00:00, 98221.45it/s]\n",
      "Evaluating: 100%|██████████| 1041/1041 [00:00<00:00, 112067.72it/s]\n"
     ]
    },
    {
     "name": "stdout",
     "output_type": "stream",
     "text": [
      "Epoch 137 Loss 0.000075, Train Acc 0.9856, Val Acc 0.4183, Test Acc 0.4169\n"
     ]
    },
    {
     "name": "stderr",
     "output_type": "stream",
     "text": [
      "Epoch 138: 100%|██████████| 2496/2496 [00:00<00:00, 105091.28it/s, loss=0.064, acc=0.989]\n",
      "Evaluating: 100%|██████████| 1664/1664 [00:00<00:00, 139592.02it/s]\n",
      "Evaluating: 100%|██████████| 1041/1041 [00:00<00:00, 109441.31it/s]\n"
     ]
    },
    {
     "name": "stdout",
     "output_type": "stream",
     "text": [
      "Epoch 138 Loss 0.000070, Train Acc 0.9896, Val Acc 0.4189, Test Acc 0.4207\n"
     ]
    },
    {
     "name": "stderr",
     "output_type": "stream",
     "text": [
      "Epoch 139: 100%|██████████| 2496/2496 [00:00<00:00, 103435.16it/s, loss=0.058, acc=0.989]\n",
      "Evaluating: 100%|██████████| 1664/1664 [00:00<00:00, 108240.10it/s]\n",
      "Evaluating: 100%|██████████| 1041/1041 [00:00<00:00, 104558.79it/s]\n"
     ]
    },
    {
     "name": "stdout",
     "output_type": "stream",
     "text": [
      "Epoch 139 Loss 0.000072, Train Acc 0.9896, Val Acc 0.4267, Test Acc 0.4227\n"
     ]
    },
    {
     "name": "stderr",
     "output_type": "stream",
     "text": [
      "Epoch 140: 100%|██████████| 2496/2496 [00:00<00:00, 91441.75it/s, loss=0.053, acc=0.993]\n",
      "Evaluating: 100%|██████████| 1664/1664 [00:00<00:00, 104643.78it/s]\n",
      "Evaluating: 100%|██████████| 1041/1041 [00:00<00:00, 111666.47it/s]\n"
     ]
    },
    {
     "name": "stdout",
     "output_type": "stream",
     "text": [
      "Epoch 140 Loss 0.000066, Train Acc 0.9916, Val Acc 0.4183, Test Acc 0.4140\n"
     ]
    },
    {
     "name": "stderr",
     "output_type": "stream",
     "text": [
      "Epoch 141: 100%|██████████| 2496/2496 [00:00<00:00, 108148.41it/s, loss=0.047, acc=0.993]\n",
      "Evaluating: 100%|██████████| 1664/1664 [00:00<00:00, 133811.15it/s]\n",
      "Evaluating: 100%|██████████| 1041/1041 [00:00<00:00, 114318.23it/s]\n"
     ]
    },
    {
     "name": "stdout",
     "output_type": "stream",
     "text": [
      "Epoch 141 Loss 0.000066, Train Acc 0.9916, Val Acc 0.4285, Test Acc 0.4083\n"
     ]
    },
    {
     "name": "stderr",
     "output_type": "stream",
     "text": [
      "Epoch 142: 100%|██████████| 2496/2496 [00:00<00:00, 106049.38it/s, loss=0.068, acc=0.984]\n",
      "Evaluating: 100%|██████████| 1664/1664 [00:00<00:00, 127088.55it/s]\n",
      "Evaluating: 100%|██████████| 1041/1041 [00:00<00:00, 80773.10it/s]\n"
     ]
    },
    {
     "name": "stdout",
     "output_type": "stream",
     "text": [
      "Epoch 142 Loss 0.000071, Train Acc 0.9900, Val Acc 0.4297, Test Acc 0.4265\n"
     ]
    },
    {
     "name": "stderr",
     "output_type": "stream",
     "text": [
      "Epoch 143: 100%|██████████| 2496/2496 [00:00<00:00, 104357.97it/s, loss=0.063, acc=0.989]\n",
      "Evaluating: 100%|██████████| 1664/1664 [00:00<00:00, 132626.21it/s]\n",
      "Evaluating: 100%|██████████| 1041/1041 [00:00<00:00, 113338.97it/s]\n"
     ]
    },
    {
     "name": "stdout",
     "output_type": "stream",
     "text": [
      "Epoch 143 Loss 0.000068, Train Acc 0.9920, Val Acc 0.4189, Test Acc 0.4179\n"
     ]
    },
    {
     "name": "stderr",
     "output_type": "stream",
     "text": [
      "Epoch 144: 100%|██████████| 2496/2496 [00:00<00:00, 104170.02it/s, loss=0.062, acc=0.993]\n",
      "Evaluating: 100%|██████████| 1664/1664 [00:00<00:00, 141850.37it/s]\n",
      "Evaluating: 100%|██████████| 1041/1041 [00:00<00:00, 94062.14it/s]\n"
     ]
    },
    {
     "name": "stdout",
     "output_type": "stream",
     "text": [
      "Epoch 144 Loss 0.000068, Train Acc 0.9916, Val Acc 0.4165, Test Acc 0.4159\n"
     ]
    },
    {
     "name": "stderr",
     "output_type": "stream",
     "text": [
      "Epoch 145: 100%|██████████| 2496/2496 [00:00<00:00, 97125.68it/s, loss=0.055, acc=0.987]\n",
      "Evaluating: 100%|██████████| 1664/1664 [00:00<00:00, 102517.98it/s]\n",
      "Evaluating: 100%|██████████| 1041/1041 [00:00<00:00, 95865.07it/s]\n"
     ]
    },
    {
     "name": "stdout",
     "output_type": "stream",
     "text": [
      "Epoch 145 Loss 0.000064, Train Acc 0.9908, Val Acc 0.4213, Test Acc 0.4227\n"
     ]
    },
    {
     "name": "stderr",
     "output_type": "stream",
     "text": [
      "Epoch 146: 100%|██████████| 2496/2496 [00:00<00:00, 96635.28it/s, loss=0.054, acc=0.993]\n",
      "Evaluating: 100%|██████████| 1664/1664 [00:00<00:00, 125064.00it/s]\n",
      "Evaluating: 100%|██████████| 1041/1041 [00:00<00:00, 77852.34it/s]\n"
     ]
    },
    {
     "name": "stdout",
     "output_type": "stream",
     "text": [
      "Epoch 146 Loss 0.000065, Train Acc 0.9912, Val Acc 0.4273, Test Acc 0.4304\n"
     ]
    },
    {
     "name": "stderr",
     "output_type": "stream",
     "text": [
      "Epoch 147: 100%|██████████| 2496/2496 [00:00<00:00, 98460.25it/s, loss=0.070, acc=0.982]\n",
      "Evaluating: 100%|██████████| 1664/1664 [00:00<00:00, 107364.27it/s]\n",
      "Evaluating: 100%|██████████| 1041/1041 [00:00<00:00, 99024.12it/s]\n"
     ]
    },
    {
     "name": "stdout",
     "output_type": "stream",
     "text": [
      "Epoch 147 Loss 0.000067, Train Acc 0.9916, Val Acc 0.4207, Test Acc 0.4294\n"
     ]
    },
    {
     "name": "stderr",
     "output_type": "stream",
     "text": [
      "Epoch 148: 100%|██████████| 2496/2496 [00:00<00:00, 92025.31it/s, loss=0.063, acc=0.987]\n",
      "Evaluating: 100%|██████████| 1664/1664 [00:00<00:00, 107863.72it/s]\n",
      "Evaluating: 100%|██████████| 1041/1041 [00:00<00:00, 96931.30it/s]\n"
     ]
    },
    {
     "name": "stdout",
     "output_type": "stream",
     "text": [
      "Epoch 148 Loss 0.000066, Train Acc 0.9900, Val Acc 0.4315, Test Acc 0.4217\n"
     ]
    },
    {
     "name": "stderr",
     "output_type": "stream",
     "text": [
      "Epoch 149: 100%|██████████| 2496/2496 [00:00<00:00, 93048.53it/s, loss=0.061, acc=0.984]\n",
      "Evaluating: 100%|██████████| 1664/1664 [00:00<00:00, 121835.07it/s]\n",
      "Evaluating: 100%|██████████| 1041/1041 [00:00<00:00, 93602.39it/s]\n"
     ]
    },
    {
     "name": "stdout",
     "output_type": "stream",
     "text": [
      "Epoch 149 Loss 0.000064, Train Acc 0.9932, Val Acc 0.4219, Test Acc 0.4121\n",
      "Best Validation Accuracy:  0.49278846153846156\n"
     ]
    },
    {
     "name": "stderr",
     "output_type": "stream",
     "text": [
      "Evaluating: 100%|██████████| 1041/1041 [00:00<00:00, 98724.09it/s]"
     ]
    },
    {
     "name": "stdout",
     "output_type": "stream",
     "text": [
      "Test Accuracy:  0.49278846153846156\n"
     ]
    },
    {
     "name": "stderr",
     "output_type": "stream",
     "text": [
      "\n"
     ]
    },
    {
     "data": {
      "text/plain": [
       "0.41882804995196926"
      ]
     },
     "execution_count": 67,
     "metadata": {},
     "output_type": "execute_result"
    }
   ],
   "source": [
    "LOG_INFO = True\n",
    "acc = train(150)\n",
    "acc"
   ]
  },
  {
   "cell_type": "code",
   "execution_count": null,
   "id": "d84add07",
   "metadata": {},
   "outputs": [],
   "source": []
  },
  {
   "cell_type": "code",
   "execution_count": null,
   "id": "2cadbbf6",
   "metadata": {},
   "outputs": [],
   "source": []
  },
  {
   "cell_type": "code",
   "execution_count": null,
   "id": "0abb8393",
   "metadata": {},
   "outputs": [],
   "source": []
  }
 ],
 "metadata": {
  "kernelspec": {
   "display_name": "Python (My py311cu117pyg200 Kernel)",
   "language": "python",
   "name": "py311cu117pyg200"
  },
  "language_info": {
   "codemirror_mode": {
    "name": "ipython",
    "version": 3
   },
   "file_extension": ".py",
   "mimetype": "text/x-python",
   "name": "python",
   "nbconvert_exporter": "python",
   "pygments_lexer": "ipython3",
   "version": "3.11.4"
  }
 },
 "nbformat": 4,
 "nbformat_minor": 5
}
