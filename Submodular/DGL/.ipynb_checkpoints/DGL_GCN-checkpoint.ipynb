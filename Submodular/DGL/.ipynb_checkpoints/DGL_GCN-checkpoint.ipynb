{
 "cells": [
  {
   "cell_type": "markdown",
   "id": "456dd505",
   "metadata": {},
   "source": [
    "# GPU/CPU and path directory settings"
   ]
  },
  {
   "cell_type": "code",
   "execution_count": 13,
   "id": "6f529b48",
   "metadata": {},
   "outputs": [
    {
     "name": "stdout",
     "output_type": "stream",
     "text": [
      "There are 1 GPU(s) available.\n",
      "We will use the GPU: NVIDIA A10\n",
      "cuda\n",
      "Cpu count:  32\n"
     ]
    }
   ],
   "source": [
    "import DeviceDir\n",
    "\n",
    "DIR, RESULTS_DIR = DeviceDir.get_directory()\n",
    "device, NUM_PROCESSORS = DeviceDir.get_device()"
   ]
  },
  {
   "cell_type": "markdown",
   "id": "49ad84cd",
   "metadata": {},
   "source": [
    "# Library"
   ]
  },
  {
   "cell_type": "code",
   "execution_count": 3,
   "id": "a54605e4",
   "metadata": {},
   "outputs": [],
   "source": [
    "import os\n",
    "\n",
    "os.environ[\"DGLBACKEND\"] = \"pytorch\"\n",
    "import dgl\n",
    "import dgl.data\n",
    "import torch\n",
    "import torch.nn as nn\n",
    "import torch.nn.functional as F"
   ]
  },
  {
   "cell_type": "code",
   "execution_count": 4,
   "id": "1f309693",
   "metadata": {},
   "outputs": [
    {
     "name": "stdout",
     "output_type": "stream",
     "text": [
      "  NumNodes: 2708\n",
      "  NumEdges: 10556\n",
      "  NumFeats: 1433\n",
      "  NumClasses: 7\n",
      "  NumTrainingSamples: 140\n",
      "  NumValidationSamples: 500\n",
      "  NumTestSamples: 1000\n",
      "Done loading data from cached files.\n",
      "Number of categories: 7\n"
     ]
    }
   ],
   "source": [
    "dataset = dgl.data.CoraGraphDataset(DIR)\n",
    "print(\"Number of categories:\", dataset.num_classes)"
   ]
  },
  {
   "cell_type": "code",
   "execution_count": 5,
   "id": "686f7a23",
   "metadata": {
    "scrolled": true
   },
   "outputs": [
    {
     "data": {
      "text/plain": [
       "Graph(num_nodes=2708, num_edges=10556,\n",
       "      ndata_schemes={'feat': Scheme(shape=(1433,), dtype=torch.float32), 'label': Scheme(shape=(), dtype=torch.int64), 'test_mask': Scheme(shape=(), dtype=torch.bool), 'val_mask': Scheme(shape=(), dtype=torch.bool), 'train_mask': Scheme(shape=(), dtype=torch.bool)}\n",
       "      edata_schemes={})"
      ]
     },
     "execution_count": 5,
     "metadata": {},
     "output_type": "execute_result"
    }
   ],
   "source": [
    "g = dataset[0]\n",
    "g"
   ]
  },
  {
   "cell_type": "code",
   "execution_count": 6,
   "id": "b55515c0",
   "metadata": {},
   "outputs": [
    {
     "name": "stdout",
     "output_type": "stream",
     "text": [
      "Node features\n",
      "{'feat': tensor([[0., 0., 0.,  ..., 0., 0., 0.],\n",
      "        [0., 0., 0.,  ..., 0., 0., 0.],\n",
      "        [0., 0., 0.,  ..., 0., 0., 0.],\n",
      "        ...,\n",
      "        [0., 0., 0.,  ..., 0., 0., 0.],\n",
      "        [0., 0., 0.,  ..., 0., 0., 0.],\n",
      "        [0., 0., 0.,  ..., 0., 0., 0.]]), 'label': tensor([3, 4, 4,  ..., 3, 3, 3]), 'test_mask': tensor([False, False, False,  ...,  True,  True,  True]), 'val_mask': tensor([False, False, False,  ..., False, False, False]), 'train_mask': tensor([ True,  True,  True,  ..., False, False, False])}\n",
      "Edge features\n",
      "{}\n"
     ]
    }
   ],
   "source": [
    "print(\"Node features\")\n",
    "print(g.ndata)\n",
    "print(\"Edge features\")\n",
    "print(g.edata)"
   ]
  },
  {
   "cell_type": "code",
   "execution_count": 7,
   "id": "4528c502",
   "metadata": {},
   "outputs": [],
   "source": [
    "from dgl.nn import GraphConv\n",
    "\n",
    "\n",
    "class GCN(nn.Module):\n",
    "    def __init__(self, in_feats, h_feats, num_classes):\n",
    "        super(GCN, self).__init__()\n",
    "        self.conv1 = GraphConv(in_feats, h_feats)\n",
    "        self.conv2 = GraphConv(h_feats, num_classes)\n",
    "\n",
    "    def forward(self, g, in_feat):\n",
    "        h = self.conv1(g, in_feat)\n",
    "        h = F.relu(h)\n",
    "        h = self.conv2(g, h)\n",
    "        return h\n",
    "\n",
    "# Create the model with given dimensions\n",
    "model = GCN(g.ndata[\"feat\"].shape[1], 16, dataset.num_classes)"
   ]
  },
  {
   "cell_type": "code",
   "execution_count": 8,
   "id": "4bc25e57",
   "metadata": {},
   "outputs": [
    {
     "name": "stdout",
     "output_type": "stream",
     "text": [
      "In epoch 0, loss: 1.946, val acc: 0.184 (best 0.184), test acc: 0.187 (best 0.187)\n",
      "In epoch 5, loss: 1.890, val acc: 0.614 (best 0.614), test acc: 0.583 (best 0.583)\n",
      "In epoch 10, loss: 1.809, val acc: 0.734 (best 0.734), test acc: 0.736 (best 0.736)\n",
      "In epoch 15, loss: 1.704, val acc: 0.730 (best 0.748), test acc: 0.714 (best 0.744)\n",
      "In epoch 20, loss: 1.575, val acc: 0.744 (best 0.748), test acc: 0.739 (best 0.744)\n",
      "In epoch 25, loss: 1.424, val acc: 0.748 (best 0.750), test acc: 0.752 (best 0.747)\n",
      "In epoch 30, loss: 1.257, val acc: 0.748 (best 0.752), test acc: 0.744 (best 0.750)\n",
      "In epoch 35, loss: 1.082, val acc: 0.756 (best 0.756), test acc: 0.751 (best 0.751)\n",
      "In epoch 40, loss: 0.910, val acc: 0.764 (best 0.764), test acc: 0.756 (best 0.754)\n",
      "In epoch 45, loss: 0.749, val acc: 0.764 (best 0.764), test acc: 0.756 (best 0.754)\n",
      "In epoch 50, loss: 0.607, val acc: 0.766 (best 0.766), test acc: 0.757 (best 0.755)\n",
      "In epoch 55, loss: 0.488, val acc: 0.764 (best 0.766), test acc: 0.765 (best 0.755)\n",
      "In epoch 60, loss: 0.391, val acc: 0.764 (best 0.766), test acc: 0.771 (best 0.755)\n",
      "In epoch 65, loss: 0.314, val acc: 0.770 (best 0.770), test acc: 0.774 (best 0.774)\n",
      "In epoch 70, loss: 0.254, val acc: 0.778 (best 0.778), test acc: 0.773 (best 0.773)\n",
      "In epoch 75, loss: 0.208, val acc: 0.786 (best 0.786), test acc: 0.773 (best 0.773)\n",
      "In epoch 80, loss: 0.171, val acc: 0.784 (best 0.786), test acc: 0.771 (best 0.773)\n",
      "In epoch 85, loss: 0.143, val acc: 0.782 (best 0.786), test acc: 0.769 (best 0.773)\n",
      "In epoch 90, loss: 0.121, val acc: 0.780 (best 0.786), test acc: 0.770 (best 0.773)\n",
      "In epoch 95, loss: 0.103, val acc: 0.780 (best 0.786), test acc: 0.769 (best 0.773)\n"
     ]
    }
   ],
   "source": [
    "def train(g, model):\n",
    "    optimizer = torch.optim.Adam(model.parameters(), lr=0.01)\n",
    "    best_val_acc = 0\n",
    "    best_test_acc = 0\n",
    "\n",
    "    features = g.ndata[\"feat\"]\n",
    "    labels = g.ndata[\"label\"]\n",
    "    train_mask = g.ndata[\"train_mask\"]\n",
    "    val_mask = g.ndata[\"val_mask\"]\n",
    "    test_mask = g.ndata[\"test_mask\"]\n",
    "    for e in range(100):\n",
    "        # Forward\n",
    "        logits = model(g, features)\n",
    "\n",
    "        # Compute prediction\n",
    "        pred = logits.argmax(1)\n",
    "\n",
    "        # Compute loss\n",
    "        # Note that you should only compute the losses of the nodes in the training set.\n",
    "        loss = F.cross_entropy(logits[train_mask], labels[train_mask])\n",
    "\n",
    "        # Compute accuracy on training/validation/test\n",
    "        train_acc = (pred[train_mask] == labels[train_mask]).float().mean()\n",
    "        val_acc = (pred[val_mask] == labels[val_mask]).float().mean()\n",
    "        test_acc = (pred[test_mask] == labels[test_mask]).float().mean()\n",
    "\n",
    "        # Save the best validation accuracy and the corresponding test accuracy.\n",
    "        if best_val_acc < val_acc:\n",
    "            best_val_acc = val_acc\n",
    "            best_test_acc = test_acc\n",
    "\n",
    "        # Backward\n",
    "        optimizer.zero_grad()\n",
    "        loss.backward()\n",
    "        optimizer.step()\n",
    "\n",
    "        if e % 5 == 0:\n",
    "            print(\n",
    "                \"In epoch {}, loss: {:.3f}, val acc: {:.3f} (best {:.3f}), test acc: {:.3f} (best {:.3f})\".format(\n",
    "                    e, loss, val_acc, best_val_acc, test_acc, best_test_acc\n",
    "                )\n",
    "            )\n",
    "\n",
    "\n",
    "model = GCN(g.ndata[\"feat\"].shape[1], 16, dataset.num_classes)\n",
    "train(g, model)"
   ]
  },
  {
   "cell_type": "code",
   "execution_count": 12,
   "id": "3aa17fe2",
   "metadata": {},
   "outputs": [
    {
     "name": "stdout",
     "output_type": "stream",
     "text": [
      "In epoch 0, loss: 1.946, val acc: 0.136 (best 0.136), test acc: 0.120 (best 0.120)\n",
      "In epoch 5, loss: 1.890, val acc: 0.370 (best 0.370), test acc: 0.366 (best 0.366)\n",
      "In epoch 10, loss: 1.807, val acc: 0.486 (best 0.486), test acc: 0.467 (best 0.467)\n",
      "In epoch 15, loss: 1.702, val acc: 0.520 (best 0.520), test acc: 0.518 (best 0.518)\n",
      "In epoch 20, loss: 1.577, val acc: 0.598 (best 0.598), test acc: 0.592 (best 0.592)\n",
      "In epoch 25, loss: 1.433, val acc: 0.600 (best 0.600), test acc: 0.616 (best 0.616)\n",
      "In epoch 30, loss: 1.277, val acc: 0.636 (best 0.636), test acc: 0.647 (best 0.647)\n",
      "In epoch 35, loss: 1.113, val acc: 0.668 (best 0.668), test acc: 0.690 (best 0.690)\n",
      "In epoch 40, loss: 0.952, val acc: 0.690 (best 0.690), test acc: 0.720 (best 0.720)\n",
      "In epoch 45, loss: 0.799, val acc: 0.714 (best 0.714), test acc: 0.738 (best 0.738)\n",
      "In epoch 50, loss: 0.660, val acc: 0.736 (best 0.736), test acc: 0.748 (best 0.748)\n",
      "In epoch 55, loss: 0.540, val acc: 0.748 (best 0.748), test acc: 0.758 (best 0.758)\n",
      "In epoch 60, loss: 0.439, val acc: 0.762 (best 0.762), test acc: 0.770 (best 0.770)\n",
      "In epoch 65, loss: 0.356, val acc: 0.766 (best 0.766), test acc: 0.781 (best 0.778)\n",
      "In epoch 70, loss: 0.290, val acc: 0.778 (best 0.778), test acc: 0.778 (best 0.778)\n",
      "In epoch 75, loss: 0.236, val acc: 0.776 (best 0.778), test acc: 0.782 (best 0.778)\n",
      "In epoch 80, loss: 0.195, val acc: 0.776 (best 0.778), test acc: 0.785 (best 0.778)\n",
      "In epoch 85, loss: 0.161, val acc: 0.776 (best 0.778), test acc: 0.787 (best 0.778)\n",
      "In epoch 90, loss: 0.135, val acc: 0.780 (best 0.780), test acc: 0.785 (best 0.785)\n",
      "In epoch 95, loss: 0.115, val acc: 0.780 (best 0.780), test acc: 0.786 (best 0.785)\n"
     ]
    }
   ],
   "source": [
    "g = g.to(device)\n",
    "model = GCN(g.ndata['feat'].shape[1], 16, dataset.num_classes).to(device)\n",
    "train(g, model)"
   ]
  },
  {
   "cell_type": "code",
   "execution_count": null,
   "id": "fdaf79ff",
   "metadata": {},
   "outputs": [],
   "source": []
  },
  {
   "cell_type": "code",
   "execution_count": null,
   "id": "98c6e00e",
   "metadata": {},
   "outputs": [],
   "source": []
  },
  {
   "cell_type": "code",
   "execution_count": null,
   "id": "b0d2edf5",
   "metadata": {},
   "outputs": [],
   "source": []
  },
  {
   "cell_type": "code",
   "execution_count": 10,
   "id": "0cf782d8",
   "metadata": {},
   "outputs": [],
   "source": [
    "g1 = dgl.graph(([0, 1, 1, 2, 3], [1, 2, 3, 0, 0]))"
   ]
  },
  {
   "cell_type": "code",
   "execution_count": 11,
   "id": "b5992b42",
   "metadata": {},
   "outputs": [
    {
     "data": {
      "text/plain": [
       "(tensor([[0, 1, 3],\n",
       "         [1, 3, 0],\n",
       "         [2, 0, 1],\n",
       "         [0, 1, 3]]),\n",
       " tensor([0, 0, 0]))"
      ]
     },
     "execution_count": 11,
     "metadata": {},
     "output_type": "execute_result"
    }
   ],
   "source": [
    "g1.edata['p'] = torch.FloatTensor([1, 0, 1, 1, 1])     # disallow going from 1 to 2\n",
    "dgl.sampling.random_walk(g1, [0, 1, 2, 0], length=2, prob='p')"
   ]
  },
  {
   "cell_type": "code",
   "execution_count": null,
   "id": "6322088d",
   "metadata": {},
   "outputs": [],
   "source": []
  }
 ],
 "metadata": {
  "kernelspec": {
   "display_name": "py38cu11",
   "language": "python",
   "name": "py38cu11"
  },
  "language_info": {
   "codemirror_mode": {
    "name": "ipython",
    "version": 3
   },
   "file_extension": ".py",
   "mimetype": "text/x-python",
   "name": "python",
   "nbconvert_exporter": "python",
   "pygments_lexer": "ipython3",
   "version": "3.8.13"
  }
 },
 "nbformat": 4,
 "nbformat_minor": 5
}
