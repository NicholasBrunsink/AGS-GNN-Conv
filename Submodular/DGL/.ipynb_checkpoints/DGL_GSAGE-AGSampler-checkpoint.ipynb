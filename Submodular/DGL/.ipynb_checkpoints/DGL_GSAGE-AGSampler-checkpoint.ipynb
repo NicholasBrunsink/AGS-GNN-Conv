{
 "cells": [
  {
   "cell_type": "code",
   "execution_count": 28,
   "id": "8606f8a4",
   "metadata": {},
   "outputs": [],
   "source": [
    "import os\n",
    "import sys\n",
    "kernel_name = os.path.basename(sys.executable.replace(\"/bin/python\",\"\"))\n",
    "\n",
    "if kernel_name == 'py38cu11':\n",
    "    import ctypes\n",
    "    ctypes.cdll.LoadLibrary(\"/apps/gilbreth/cuda-toolkit/cuda-11.2.0/lib64/libcusparse.so.11\");\n",
    "    ctypes.cdll.LoadLibrary(\"/apps/gilbreth/cuda-toolkit/cuda-11.2.0/lib64/libcublas.so.11\");"
   ]
  },
  {
   "cell_type": "code",
   "execution_count": 29,
   "id": "861ee494",
   "metadata": {},
   "outputs": [
    {
     "name": "stdout",
     "output_type": "stream",
     "text": [
      "There are 1 GPU(s) available.\n",
      "We will use the GPU: NVIDIA A10\n",
      "cuda\n",
      "Cpu count:  32\n"
     ]
    }
   ],
   "source": [
    "import DeviceDir\n",
    "\n",
    "DIR, RESULTS_DIR = DeviceDir.get_directory()\n",
    "device, NUM_PROCESSORS = DeviceDir.get_device()"
   ]
  },
  {
   "cell_type": "code",
   "execution_count": 30,
   "id": "d5774dcb",
   "metadata": {},
   "outputs": [],
   "source": [
    "import os\n",
    "\n",
    "os.environ[\"DGLBACKEND\"] = \"pytorch\"\n",
    "import dgl\n",
    "import numpy as np\n",
    "import torch\n",
    "from tqdm import tqdm\n",
    "import sklearn.metrics\n",
    "import DeviceDir\n",
    "from ipynb.fs.full.DglDataset import get_dataset, train_val_test_mask, generate_synthetic, get_pyg_as_dgl"
   ]
  },
  {
   "cell_type": "code",
   "execution_count": 31,
   "id": "aea30da7",
   "metadata": {},
   "outputs": [],
   "source": [
    "LOG_INFO = True"
   ]
  },
  {
   "cell_type": "code",
   "execution_count": 32,
   "id": "de7a8f7b",
   "metadata": {
    "scrolled": true
   },
   "outputs": [
    {
     "name": "stdout",
     "output_type": "stream",
     "text": [
      "Looking at:  /scratch/gilbreth/das90/Dataset/\n",
      "Data directory:  /scratch/gilbreth/das90/Dataset/\n",
      "Result directory: /scratch/gilbreth/das90/Dataset/RESULTS/\n",
      "\n",
      "Dataset: HeteroDataset():\n",
      "======================\n",
      "Number of graphs: 1\n",
      "Number of features: 2089\n",
      "Number of classes: 5\n",
      "\n",
      "Data(x=[5201, 2089], edge_index=[2, 217073], y=[5201], node_id=[5201], train_mask=[5201], val_mask=[5201], test_mask=[5201])\n",
      "===========================================================================================================\n",
      "Number of nodes: 5201\n",
      "Number of edges: 217073\n",
      "Average node degree: 41.74\n",
      "Number of training nodes: 3120\n",
      "Training node label rate: 0.60\n",
      "Has isolated nodes: False\n",
      "Has self-loops: True\n",
      "Is undirected: False\n",
      "5201\n",
      "217073\n",
      "5\n",
      "(tensor([3475, 3475, 3475,  ..., 3247, 3247, 3247]), tensor([2849, 3106,  808,  ..., 4785, 5080, 2331]))\n",
      "2089 5\n"
     ]
    },
    {
     "data": {
      "text/plain": [
       "Graph(num_nodes=5201, num_edges=217073,\n",
       "      ndata_schemes={'y': Scheme(shape=(), dtype=torch.int64), 'node_id': Scheme(shape=(), dtype=torch.int64), 'train_mask': Scheme(shape=(), dtype=torch.bool), 'test_mask': Scheme(shape=(), dtype=torch.bool), 'x': Scheme(shape=(2089,), dtype=torch.float32), 'val_mask': Scheme(shape=(), dtype=torch.bool), 'feat': Scheme(shape=(2089,), dtype=torch.float32), 'label': Scheme(shape=(), dtype=torch.int64)}\n",
       "      edata_schemes={})"
      ]
     },
     "execution_count": 32,
     "metadata": {},
     "output_type": "execute_result"
    }
   ],
   "source": [
    "DATASET_NAME = 'squirrel'\n",
    "dataset, graph = get_dataset(DIR, DATASET_NAME , log = True)\n",
    "# dataset, graph = get_pyg_as_dgl(DATASET_NAME='squirrel', DIR=DIR)\n",
    "\n",
    "\n",
    "print(graph.num_nodes())\n",
    "print(graph.num_edges())\n",
    "print(dataset.num_classes)\n",
    "print(graph.edges())\n",
    "\n",
    "num_features = graph.ndata['feat'].shape[1]\n",
    "num_classes = dataset.num_classes\n",
    "print(num_features,num_classes)\n",
    "\n",
    "graph"
   ]
  },
  {
   "cell_type": "code",
   "execution_count": 33,
   "id": "189cde8d",
   "metadata": {},
   "outputs": [],
   "source": [
    "# generate_synthetic(graph, dataset, d=42, h=0.0, train=None, random_state=1, log=True)\n",
    "# graph"
   ]
  },
  {
   "cell_type": "code",
   "execution_count": 34,
   "id": "c789d2b2",
   "metadata": {},
   "outputs": [
    {
     "name": "stdout",
     "output_type": "stream",
     "text": [
      "torch.Size([3120])\n",
      "torch.Size([1040])\n",
      "torch.Size([1041])\n"
     ]
    }
   ],
   "source": [
    "if graph.ndata['train_mask'].ndim>1:\n",
    "    split_no =0\n",
    "    train_nids = torch.where(graph.ndata['train_mask'][:,split_no]==True)[0] ##selecting first spilit\n",
    "    val_nids = torch.where(graph.ndata['val_mask'][:,split_no]==True)[0]\n",
    "    test_nids = torch.where(graph.ndata['test_mask'][:,split_no]==True)[0]\n",
    "else:\n",
    "    train_nids = torch.where(graph.ndata['train_mask']==True)[0]\n",
    "    val_nids = torch.where(graph.ndata['val_mask']==True)[0]\n",
    "    test_nids = torch.where(graph.ndata['test_mask']==True)[0]\n",
    "    \n",
    "print(train_nids.shape)\n",
    "print(val_nids.shape)\n",
    "print(test_nids.shape)"
   ]
  },
  {
   "cell_type": "code",
   "execution_count": 35,
   "id": "c79a2832",
   "metadata": {},
   "outputs": [],
   "source": [
    "# class NeighborSampler(dgl.dataloading.Sampler):\n",
    "#     def __init__(self, fanouts : list[int]):\n",
    "#         super().__init__()\n",
    "#         self.fanouts = fanouts\n",
    "\n",
    "#     def sample(self, g, seed_nodes):\n",
    "#         output_nodes = seed_nodes\n",
    "#         subgs = []\n",
    "#         for fanout in reversed(self.fanouts):\n",
    "#             # Sample a fixed number of neighbors of the current seed nodes.\n",
    "#             sg = g.sample_neighbors(seed_nodes, fanout)\n",
    "#             # Convert this subgraph to a message flow graph.\n",
    "#             sg = dgl.to_block(sg, seed_nodes)\n",
    "#             seed_nodes = sg.srcdata[NID]\n",
    "#             subgs.insert(0, sg)\n",
    "#             input_nodes = seed_nodes\n",
    "#         return input_nodes, output_nodes, subgs\n",
    "    "
   ]
  },
  {
   "cell_type": "code",
   "execution_count": 36,
   "id": "60800a23",
   "metadata": {},
   "outputs": [],
   "source": [
    "# https://github.com/dmlc/dgl/issues/4512"
   ]
  },
  {
   "cell_type": "code",
   "execution_count": 37,
   "id": "4dee7f8b",
   "metadata": {},
   "outputs": [],
   "source": [
    "sampler = dgl.dataloading.NeighborSampler([4, 4])\n",
    "# sampler = dgl.dataloading.MultiLayerFullNeighborSampler(4)\n",
    "\n",
    "train_dataloader = dgl.dataloading.DataLoader(\n",
    "    # The following arguments are specific to DGL's DataLoader.\n",
    "    graph,  # The graph\n",
    "    train_nids,  # The node IDs to iterate over in minibatches\n",
    "    sampler,  # The neighbor sampler\n",
    "    device=device,  # Put the sampled MFGs on CPU or GPU\n",
    "    # The following arguments are inherited from PyTorch DataLoader.\n",
    "    batch_size=1024,  # Batch size\n",
    "    shuffle=True,  # Whether to shuffle the nodes for every epoch\n",
    "    drop_last=False,  # Whether to drop the last incomplete batch\n",
    "    num_workers=0,  # Number of sampler processes\n",
    ")"
   ]
  },
  {
   "cell_type": "code",
   "execution_count": 38,
   "id": "aa60f464",
   "metadata": {
    "scrolled": false
   },
   "outputs": [
    {
     "name": "stdout",
     "output_type": "stream",
     "text": [
      "[tensor([4597, 2091, 4315,  ..., 3951,  455, 4778], device='cuda:0'), tensor([4597, 2091, 4315,  ...,  459, 3814, 3031], device='cuda:0'), [Block(num_src_nodes=2977, num_dst_nodes=2062, num_edges=3064), Block(num_src_nodes=2062, num_dst_nodes=1024, num_edges=1610)]]\n",
      "To compute 1024 nodes' outputs, we need 2977 nodes' input features\n",
      "1024\n"
     ]
    }
   ],
   "source": [
    "input_nodes, output_nodes, mfgs = example_minibatch = next(iter(train_dataloader))\n",
    "\n",
    "print(example_minibatch)\n",
    "\n",
    "print(\n",
    "    \"To compute {} nodes' outputs, we need {} nodes' input features\".format(\n",
    "        len(output_nodes), len(input_nodes)\n",
    "    )\n",
    ")\n",
    "\n",
    "print(len(output_nodes))"
   ]
  },
  {
   "cell_type": "code",
   "execution_count": 39,
   "id": "ebffd44a",
   "metadata": {
    "scrolled": true
   },
   "outputs": [],
   "source": [
    "# print(mfgs[0].srcdata)\n",
    "# print(mfgs[0].dstdata)"
   ]
  },
  {
   "cell_type": "code",
   "execution_count": 40,
   "id": "1ef69b16",
   "metadata": {},
   "outputs": [],
   "source": [
    "# mfg_1_dst = mfgs[1].dstdata[dgl.NID]\n",
    "# print(mfg_1_dst)\n",
    "# print(len(mfg_1_dst))\n",
    "\n",
    "# #print(len(torch.unique(mfg_1_dst)))\n",
    "\n",
    "# print(len(output_nodes))\n",
    "\n",
    "# # print(torch.equal(mfg_0_src[: mfgs[0].num_dst_nodes()], mfg_0_dst))\n",
    "\n",
    "# # output_nodes = torch.unique(output_nodes)\n",
    "# # print(len(output_nodes))\n",
    "\n",
    "# # print(torch.equal(mfg_0_src[: mfgs[0].num_dst_nodes()], mfg_0_dst))"
   ]
  },
  {
   "cell_type": "code",
   "execution_count": 41,
   "id": "5341f271",
   "metadata": {
    "scrolled": true
   },
   "outputs": [],
   "source": [
    "# mfgs[1]\n",
    "# mfgs[1].num_dst_nodes = lambda ntype=None: len(output_nodes)\n",
    "# mfgs[1]"
   ]
  },
  {
   "cell_type": "code",
   "execution_count": 42,
   "id": "147be3d0",
   "metadata": {},
   "outputs": [
    {
     "name": "stdout",
     "output_type": "stream",
     "text": [
      "tensor([4597, 2091, 4315,  ..., 3951,  455, 4778], device='cuda:0')\n",
      "tensor([4597, 2091, 4315,  ..., 1450,  538, 4251], device='cuda:0')\n",
      "True\n"
     ]
    }
   ],
   "source": [
    "mfg_0_src = mfgs[0].srcdata[dgl.NID]\n",
    "mfg_0_dst = mfgs[0].dstdata[dgl.NID]\n",
    "print(mfg_0_src)\n",
    "print(mfg_0_dst)\n",
    "print(torch.equal(mfg_0_src[: mfgs[0].num_dst_nodes()], mfg_0_dst))"
   ]
  },
  {
   "cell_type": "code",
   "execution_count": 43,
   "id": "e886503d",
   "metadata": {},
   "outputs": [],
   "source": [
    "import torch.nn as nn\n",
    "import torch.nn.functional as F\n",
    "from dgl.nn import SAGEConv\n",
    "\n",
    "\n",
    "class Model(nn.Module):\n",
    "    def __init__(self, in_feats, h_feats, num_classes):\n",
    "        super(Model, self).__init__()\n",
    "        self.conv1 = SAGEConv(in_feats, h_feats, aggregator_type=\"mean\")\n",
    "        self.conv2 = SAGEConv(h_feats, num_classes, aggregator_type=\"mean\")\n",
    "        self.h_feats = h_feats\n",
    "\n",
    "    def forward(self, mfgs, x):\n",
    "        # Lines that are changed are marked with an arrow: \"<---\"\n",
    "        \n",
    "        h_dst = x[: mfgs[0].num_dst_nodes()]  # <---\n",
    "        h = self.conv1(mfgs[0], (x, h_dst))  # <---\n",
    "        h = F.relu(h)\n",
    "        \n",
    "        h_dst = h[: mfgs[1].num_dst_nodes()]  # <---\n",
    "        h = self.conv2(mfgs[1], (h, h_dst))  # <---\n",
    "        \n",
    "        return h\n",
    "\n",
    "\n",
    "model = Model(num_features, 128, num_classes).to(device)"
   ]
  },
  {
   "cell_type": "code",
   "execution_count": 44,
   "id": "b80e44a6",
   "metadata": {},
   "outputs": [],
   "source": [
    "def test(loader, N):\n",
    "    \n",
    "    model.eval()\n",
    "\n",
    "    predictions = []\n",
    "    labels = []\n",
    "    \n",
    "    if LOG_INFO:\n",
    "        pbar = tqdm(total=N)\n",
    "        pbar.set_description(f'Evaluating')\n",
    "    \n",
    "    for input_nodes, output_nodes, mfgs in loader:\n",
    "        inputs = mfgs[0].srcdata[\"feat\"]\n",
    "        labels.append(mfgs[-1].dstdata[\"label\"].cpu().numpy())\n",
    "        predictions.append(model(mfgs, inputs).argmax(1).cpu().numpy())\n",
    "        \n",
    "        if LOG_INFO:\n",
    "            pbar.update(len(output_nodes))\n",
    "\n",
    "    if LOG_INFO:\n",
    "        pbar.close()\n",
    "\n",
    "        \n",
    "\n",
    "    predictions = np.concatenate(predictions)\n",
    "    labels = np.concatenate(labels)\n",
    "    accuracy = sklearn.metrics.accuracy_score(labels, predictions)\n",
    "    \n",
    "    return accuracy"
   ]
  },
  {
   "cell_type": "code",
   "execution_count": 45,
   "id": "93e26229",
   "metadata": {},
   "outputs": [],
   "source": [
    "def train(epochs = 10):\n",
    "    opt = torch.optim.Adam(model.parameters())\n",
    "    \n",
    "    val_dataloader = dgl.dataloading.DataLoader(graph,val_nids,sampler,batch_size=1024,shuffle=False,drop_last=False,num_workers=0,device=device,)\n",
    "    test_dataloader = dgl.dataloading.DataLoader(graph,test_nids,sampler,batch_size=1024,shuffle=False,drop_last=False,num_workers=0,device=device,)\n",
    "    \n",
    "    best_accuracy = 0\n",
    "    best_model_path = DIR+DATASET_NAME+\"-model.pt\"\n",
    "    \n",
    "    for epoch in range(epochs):\n",
    "        model.train()\n",
    "        \n",
    "        total_acc = 0; total_loss = 0; total_examples = 0\n",
    "        \n",
    "        if LOG_INFO:\n",
    "            pbar = tqdm(total=len(train_nids))\n",
    "            pbar.set_description(f'Epoch {epoch}')\n",
    "    \n",
    "        for input_nodes, output_nodes, mfgs in train_dataloader:\n",
    "            # feature copy from CPU to GPU takes place here\n",
    "            inputs = mfgs[0].srcdata[\"feat\"]\n",
    "            labels = mfgs[-1].dstdata[\"label\"]\n",
    "            \n",
    "            opt.zero_grad()\n",
    "            predictions = model(mfgs, inputs)\n",
    "\n",
    "            loss = F.cross_entropy(predictions, labels)            \n",
    "            loss.backward()\n",
    "            opt.step()            \n",
    "\n",
    "            accuracy = sklearn.metrics.accuracy_score(\n",
    "                labels.cpu().numpy(),\n",
    "                predictions.argmax(1).detach().cpu().numpy(),\n",
    "            )\n",
    "            \n",
    "            if LOG_INFO:\n",
    "                pbar.set_postfix(\n",
    "                    {\"loss\": \"%.03f\" % loss.item(), \"acc\": \"%.03f\" % accuracy},\n",
    "                    refresh=False,\n",
    "                )    \n",
    "\n",
    "            total_loss += loss.item()\n",
    "            total_acc += accuracy* len(output_nodes)\n",
    "            total_examples += len(output_nodes)\n",
    "            \n",
    "            if LOG_INFO:\n",
    "                    pbar.update(len(output_nodes))\n",
    "\n",
    "        if LOG_INFO:\n",
    "            pbar.close()\n",
    "\n",
    "        avg_loss = total_loss/total_examples\n",
    "\n",
    "        train_accuracy = total_acc/total_examples            \n",
    "        val_accuracy = test(val_dataloader, len(val_nids))\n",
    "        test_accuracy = test(test_dataloader, len(test_nids))\n",
    "\n",
    "        print(f'Epoch {epoch} Loss {avg_loss:0.6f}, Train Acc {train_accuracy:0.4f}, Val Acc {val_accuracy:0.4f}, Test Acc {test_accuracy:0.4f}')\n",
    "\n",
    "        if best_accuracy < val_accuracy:\n",
    "            best_accuracy = val_accuracy\n",
    "            torch.save(model.state_dict(), best_model_path)\n",
    "    \n",
    "    print(\"Best Validation Accuracy: \",best_accuracy)\n",
    "    \n",
    "    test_accuracy = test(test_dataloader, len(test_nids))    \n",
    "    print(\"Test Accuracy: \",best_accuracy)\n",
    "    \n",
    "    return test_accuracy"
   ]
  },
  {
   "cell_type": "code",
   "execution_count": 46,
   "id": "6d297076",
   "metadata": {},
   "outputs": [],
   "source": [
    "# train_val_test_mask(graph, train=0.6, val=0.2, test=0.2, random_state=0)"
   ]
  },
  {
   "cell_type": "code",
   "execution_count": 47,
   "id": "773c6717",
   "metadata": {},
   "outputs": [
    {
     "name": "stderr",
     "output_type": "stream",
     "text": [
      "Epoch 0: 100%|██████████| 3120/3120 [00:00<00:00, 67263.05it/s, loss=1.613, acc=0.146]\n",
      "Evaluating: 100%|██████████| 1040/1040 [00:00<00:00, 77931.79it/s]\n",
      "Evaluating: 100%|██████████| 1041/1041 [00:00<00:00, 103684.80it/s]\n"
     ]
    },
    {
     "name": "stdout",
     "output_type": "stream",
     "text": [
      "Epoch 0 Loss 0.002075, Train Acc 0.2199, Val Acc 0.2769, Test Acc 0.2642\n"
     ]
    },
    {
     "name": "stderr",
     "output_type": "stream",
     "text": [
      "Epoch 1: 100%|██████████| 3120/3120 [00:00<00:00, 108086.33it/s, loss=1.514, acc=0.375]\n",
      "Evaluating: 100%|██████████| 1040/1040 [00:00<00:00, 105122.93it/s]\n",
      "Evaluating: 100%|██████████| 1041/1041 [00:00<00:00, 109235.96it/s]\n"
     ]
    },
    {
     "name": "stdout",
     "output_type": "stream",
     "text": [
      "Epoch 1 Loss 0.001908, Train Acc 0.3619, Val Acc 0.3038, Test Acc 0.2757\n"
     ]
    },
    {
     "name": "stderr",
     "output_type": "stream",
     "text": [
      "Epoch 2: 100%|██████████| 3120/3120 [00:00<00:00, 88744.26it/s, loss=1.313, acc=0.438]\n",
      "Evaluating: 100%|██████████| 1040/1040 [00:00<00:00, 96851.09it/s]\n",
      "Evaluating: 100%|██████████| 1041/1041 [00:00<00:00, 103914.29it/s]\n"
     ]
    },
    {
     "name": "stdout",
     "output_type": "stream",
     "text": [
      "Epoch 2 Loss 0.001775, Train Acc 0.4141, Val Acc 0.3048, Test Acc 0.3007\n"
     ]
    },
    {
     "name": "stderr",
     "output_type": "stream",
     "text": [
      "Epoch 3: 100%|██████████| 3120/3120 [00:00<00:00, 78045.20it/s, loss=1.358, acc=0.417]\n",
      "Evaluating: 100%|██████████| 1040/1040 [00:00<00:00, 97435.19it/s]\n",
      "Evaluating: 100%|██████████| 1041/1041 [00:00<00:00, 90167.49it/s]\n"
     ]
    },
    {
     "name": "stdout",
     "output_type": "stream",
     "text": [
      "Epoch 3 Loss 0.001734, Train Acc 0.4561, Val Acc 0.3375, Test Acc 0.3036\n"
     ]
    },
    {
     "name": "stderr",
     "output_type": "stream",
     "text": [
      "Epoch 4: 100%|██████████| 3120/3120 [00:00<00:00, 73627.75it/s, loss=1.188, acc=0.583]\n",
      "Evaluating: 100%|██████████| 1040/1040 [00:00<00:00, 86643.68it/s]\n",
      "Evaluating: 100%|██████████| 1041/1041 [00:00<00:00, 89448.93it/s]\n"
     ]
    },
    {
     "name": "stdout",
     "output_type": "stream",
     "text": [
      "Epoch 4 Loss 0.001636, Train Acc 0.4952, Val Acc 0.3346, Test Acc 0.3045\n"
     ]
    },
    {
     "name": "stderr",
     "output_type": "stream",
     "text": [
      "Epoch 5: 100%|██████████| 3120/3120 [00:00<00:00, 88189.26it/s, loss=1.305, acc=0.500]\n",
      "Evaluating: 100%|██████████| 1040/1040 [00:00<00:00, 61065.28it/s]\n",
      "Evaluating: 100%|██████████| 1041/1041 [00:00<00:00, 81997.23it/s]\n"
     ]
    },
    {
     "name": "stdout",
     "output_type": "stream",
     "text": [
      "Epoch 5 Loss 0.001627, Train Acc 0.5282, Val Acc 0.3327, Test Acc 0.3237\n"
     ]
    },
    {
     "name": "stderr",
     "output_type": "stream",
     "text": [
      "Epoch 6: 100%|██████████| 3120/3120 [00:00<00:00, 79869.08it/s, loss=1.172, acc=0.500]\n",
      "Evaluating: 100%|██████████| 1040/1040 [00:00<00:00, 85579.57it/s]\n",
      "Evaluating: 100%|██████████| 1041/1041 [00:00<00:00, 87008.70it/s]\n"
     ]
    },
    {
     "name": "stdout",
     "output_type": "stream",
     "text": [
      "Epoch 6 Loss 0.001547, Train Acc 0.5673, Val Acc 0.3471, Test Acc 0.3151\n"
     ]
    },
    {
     "name": "stderr",
     "output_type": "stream",
     "text": [
      "Epoch 7: 100%|██████████| 3120/3120 [00:00<00:00, 70283.14it/s, loss=1.211, acc=0.562]\n",
      "Evaluating: 100%|██████████| 1040/1040 [00:00<00:00, 85783.21it/s]\n",
      "Evaluating: 100%|██████████| 1041/1041 [00:00<00:00, 87737.78it/s]\n"
     ]
    },
    {
     "name": "stdout",
     "output_type": "stream",
     "text": [
      "Epoch 7 Loss 0.001519, Train Acc 0.5901, Val Acc 0.3490, Test Acc 0.3276\n"
     ]
    },
    {
     "name": "stderr",
     "output_type": "stream",
     "text": [
      "Epoch 8: 100%|██████████| 3120/3120 [00:00<00:00, 81118.68it/s, loss=1.319, acc=0.521]\n",
      "Evaluating: 100%|██████████| 1040/1040 [00:00<00:00, 62838.73it/s]\n",
      "Evaluating: 100%|██████████| 1041/1041 [00:00<00:00, 88090.03it/s]\n"
     ]
    },
    {
     "name": "stdout",
     "output_type": "stream",
     "text": [
      "Epoch 8 Loss 0.001515, Train Acc 0.6244, Val Acc 0.3433, Test Acc 0.3353\n"
     ]
    },
    {
     "name": "stderr",
     "output_type": "stream",
     "text": [
      "Epoch 9: 100%|██████████| 3120/3120 [00:00<00:00, 85677.06it/s, loss=0.968, acc=0.667]\n",
      "Evaluating: 100%|██████████| 1040/1040 [00:00<00:00, 87514.57it/s]\n",
      "Evaluating: 100%|██████████| 1041/1041 [00:00<00:00, 83119.56it/s]\n"
     ]
    },
    {
     "name": "stdout",
     "output_type": "stream",
     "text": [
      "Epoch 9 Loss 0.001372, Train Acc 0.6529, Val Acc 0.3635, Test Acc 0.3516\n"
     ]
    },
    {
     "name": "stderr",
     "output_type": "stream",
     "text": [
      "Epoch 10: 100%|██████████| 3120/3120 [00:00<00:00, 82317.30it/s, loss=1.033, acc=0.708]\n",
      "Evaluating: 100%|██████████| 1040/1040 [00:00<00:00, 97252.72it/s]\n",
      "Evaluating: 100%|██████████| 1041/1041 [00:00<00:00, 98826.88it/s]\n"
     ]
    },
    {
     "name": "stdout",
     "output_type": "stream",
     "text": [
      "Epoch 10 Loss 0.001359, Train Acc 0.6744, Val Acc 0.3606, Test Acc 0.3516\n"
     ]
    },
    {
     "name": "stderr",
     "output_type": "stream",
     "text": [
      "Epoch 11: 100%|██████████| 3120/3120 [00:00<00:00, 93196.80it/s, loss=0.899, acc=0.771]\n",
      "Evaluating: 100%|██████████| 1040/1040 [00:00<00:00, 84552.75it/s]\n",
      "Evaluating: 100%|██████████| 1041/1041 [00:00<00:00, 50524.43it/s]\n"
     ]
    },
    {
     "name": "stdout",
     "output_type": "stream",
     "text": [
      "Epoch 11 Loss 0.001290, Train Acc 0.6846, Val Acc 0.3558, Test Acc 0.3564\n"
     ]
    },
    {
     "name": "stderr",
     "output_type": "stream",
     "text": [
      "Epoch 12: 100%|██████████| 3120/3120 [00:00<00:00, 92390.12it/s, loss=0.848, acc=0.833]\n",
      "Evaluating: 100%|██████████| 1040/1040 [00:00<00:00, 89467.47it/s]\n",
      "Evaluating: 100%|██████████| 1041/1041 [00:00<00:00, 108478.77it/s]\n"
     ]
    },
    {
     "name": "stdout",
     "output_type": "stream",
     "text": [
      "Epoch 12 Loss 0.001242, Train Acc 0.7003, Val Acc 0.3519, Test Acc 0.3535\n"
     ]
    },
    {
     "name": "stderr",
     "output_type": "stream",
     "text": [
      "Epoch 13: 100%|██████████| 3120/3120 [00:00<00:00, 106021.46it/s, loss=0.989, acc=0.625]\n",
      "Evaluating: 100%|██████████| 1040/1040 [00:00<00:00, 102158.74it/s]\n",
      "Evaluating: 100%|██████████| 1041/1041 [00:00<00:00, 105125.21it/s]\n"
     ]
    },
    {
     "name": "stdout",
     "output_type": "stream",
     "text": [
      "Epoch 13 Loss 0.001258, Train Acc 0.7061, Val Acc 0.3587, Test Acc 0.3602\n"
     ]
    },
    {
     "name": "stderr",
     "output_type": "stream",
     "text": [
      "Epoch 14: 100%|██████████| 3120/3120 [00:00<00:00, 105454.16it/s, loss=0.941, acc=0.750]\n",
      "Evaluating: 100%|██████████| 1040/1040 [00:00<00:00, 53785.06it/s]\n",
      "Evaluating: 100%|██████████| 1041/1041 [00:00<00:00, 90716.39it/s]\n"
     ]
    },
    {
     "name": "stdout",
     "output_type": "stream",
     "text": [
      "Epoch 14 Loss 0.001220, Train Acc 0.7173, Val Acc 0.3567, Test Acc 0.3573\n"
     ]
    },
    {
     "name": "stderr",
     "output_type": "stream",
     "text": [
      "Epoch 15: 100%|██████████| 3120/3120 [00:00<00:00, 88939.68it/s, loss=0.935, acc=0.667]\n",
      "Evaluating: 100%|██████████| 1040/1040 [00:00<00:00, 88311.86it/s]\n",
      "Evaluating: 100%|██████████| 1041/1041 [00:00<00:00, 90488.90it/s]\n"
     ]
    },
    {
     "name": "stdout",
     "output_type": "stream",
     "text": [
      "Epoch 15 Loss 0.001189, Train Acc 0.7330, Val Acc 0.3596, Test Acc 0.3593\n"
     ]
    },
    {
     "name": "stderr",
     "output_type": "stream",
     "text": [
      "Epoch 16: 100%|██████████| 3120/3120 [00:00<00:00, 85966.36it/s, loss=0.827, acc=0.812]\n",
      "Evaluating: 100%|██████████| 1040/1040 [00:00<00:00, 102199.43it/s]\n",
      "Evaluating: 100%|██████████| 1041/1041 [00:00<00:00, 106255.97it/s]\n"
     ]
    },
    {
     "name": "stdout",
     "output_type": "stream",
     "text": [
      "Epoch 16 Loss 0.001136, Train Acc 0.7458, Val Acc 0.3577, Test Acc 0.3670\n"
     ]
    },
    {
     "name": "stderr",
     "output_type": "stream",
     "text": [
      "Epoch 17: 100%|██████████| 3120/3120 [00:00<00:00, 102515.68it/s, loss=0.794, acc=0.812]\n",
      "Evaluating: 100%|██████████| 1040/1040 [00:00<00:00, 101939.10it/s]\n",
      "Evaluating: 100%|██████████| 1041/1041 [00:00<00:00, 96076.01it/s]\n"
     ]
    },
    {
     "name": "stdout",
     "output_type": "stream",
     "text": [
      "Epoch 17 Loss 0.001095, Train Acc 0.7603, Val Acc 0.3654, Test Acc 0.3622\n"
     ]
    },
    {
     "name": "stderr",
     "output_type": "stream",
     "text": [
      "Epoch 18: 100%|██████████| 3120/3120 [00:00<00:00, 69806.25it/s, loss=0.687, acc=0.854]\n",
      "Evaluating: 100%|██████████| 1040/1040 [00:00<00:00, 96127.55it/s]\n",
      "Evaluating: 100%|██████████| 1041/1041 [00:00<00:00, 99752.59it/s]\n"
     ]
    },
    {
     "name": "stdout",
     "output_type": "stream",
     "text": [
      "Epoch 18 Loss 0.001044, Train Acc 0.7654, Val Acc 0.3548, Test Acc 0.3602\n"
     ]
    },
    {
     "name": "stderr",
     "output_type": "stream",
     "text": [
      "Epoch 19: 100%|██████████| 3120/3120 [00:00<00:00, 87950.40it/s, loss=0.811, acc=0.750]\n",
      "Evaluating: 100%|██████████| 1040/1040 [00:00<00:00, 93029.84it/s]\n",
      "Evaluating: 100%|██████████| 1041/1041 [00:00<00:00, 80006.42it/s]\n"
     ]
    },
    {
     "name": "stdout",
     "output_type": "stream",
     "text": [
      "Epoch 19 Loss 0.001065, Train Acc 0.7660, Val Acc 0.3702, Test Acc 0.3573\n"
     ]
    },
    {
     "name": "stderr",
     "output_type": "stream",
     "text": [
      "Epoch 20: 100%|██████████| 3120/3120 [00:00<00:00, 67602.89it/s, loss=0.774, acc=0.833]\n",
      "Evaluating: 100%|██████████| 1040/1040 [00:00<00:00, 74662.40it/s]\n",
      "Evaluating: 100%|██████████| 1041/1041 [00:00<00:00, 86640.95it/s]\n"
     ]
    },
    {
     "name": "stdout",
     "output_type": "stream",
     "text": [
      "Epoch 20 Loss 0.001029, Train Acc 0.7718, Val Acc 0.3644, Test Acc 0.3622\n"
     ]
    },
    {
     "name": "stderr",
     "output_type": "stream",
     "text": [
      "Epoch 21: 100%|██████████| 3120/3120 [00:00<00:00, 76157.55it/s, loss=0.778, acc=0.792]\n",
      "Evaluating: 100%|██████████| 1040/1040 [00:00<00:00, 68104.23it/s]\n",
      "Evaluating: 100%|██████████| 1041/1041 [00:00<00:00, 90977.24it/s]\n"
     ]
    },
    {
     "name": "stdout",
     "output_type": "stream",
     "text": [
      "Epoch 21 Loss 0.001008, Train Acc 0.7833, Val Acc 0.3673, Test Acc 0.3612\n"
     ]
    },
    {
     "name": "stderr",
     "output_type": "stream",
     "text": [
      "Epoch 22: 100%|██████████| 3120/3120 [00:00<00:00, 90032.53it/s, loss=0.721, acc=0.854]\n",
      "Evaluating: 100%|██████████| 1040/1040 [00:00<00:00, 92528.61it/s]\n",
      "Evaluating: 100%|██████████| 1041/1041 [00:00<00:00, 94373.20it/s]\n"
     ]
    },
    {
     "name": "stdout",
     "output_type": "stream",
     "text": [
      "Epoch 22 Loss 0.000971, Train Acc 0.7962, Val Acc 0.3673, Test Acc 0.3660\n"
     ]
    },
    {
     "name": "stderr",
     "output_type": "stream",
     "text": [
      "Epoch 23: 100%|██████████| 3120/3120 [00:00<00:00, 86089.64it/s, loss=0.643, acc=0.854]\n",
      "Evaluating: 100%|██████████| 1040/1040 [00:00<00:00, 90927.73it/s]\n",
      "Evaluating: 100%|██████████| 1041/1041 [00:00<00:00, 94571.48it/s]\n"
     ]
    },
    {
     "name": "stdout",
     "output_type": "stream",
     "text": [
      "Epoch 23 Loss 0.000926, Train Acc 0.8016, Val Acc 0.3721, Test Acc 0.3679\n"
     ]
    },
    {
     "name": "stderr",
     "output_type": "stream",
     "text": [
      "Epoch 24: 100%|██████████| 3120/3120 [00:00<00:00, 85375.22it/s, loss=0.795, acc=0.771]\n",
      "Evaluating: 100%|██████████| 1040/1040 [00:00<00:00, 99377.50it/s]\n",
      "Evaluating: 100%|██████████| 1041/1041 [00:00<00:00, 97374.45it/s]\n"
     ]
    },
    {
     "name": "stdout",
     "output_type": "stream",
     "text": [
      "Epoch 24 Loss 0.000954, Train Acc 0.8090, Val Acc 0.3731, Test Acc 0.3670\n"
     ]
    },
    {
     "name": "stderr",
     "output_type": "stream",
     "text": [
      "Epoch 25: 100%|██████████| 3120/3120 [00:00<00:00, 94315.16it/s, loss=0.656, acc=0.812]\n",
      "Evaluating: 100%|██████████| 1040/1040 [00:00<00:00, 79764.41it/s]\n",
      "Evaluating: 100%|██████████| 1041/1041 [00:00<00:00, 46781.64it/s]\n"
     ]
    },
    {
     "name": "stdout",
     "output_type": "stream",
     "text": [
      "Epoch 25 Loss 0.000896, Train Acc 0.8196, Val Acc 0.3663, Test Acc 0.3756\n"
     ]
    },
    {
     "name": "stderr",
     "output_type": "stream",
     "text": [
      "Epoch 26: 100%|██████████| 3120/3120 [00:00<00:00, 94718.61it/s, loss=0.547, acc=0.917]\n",
      "Evaluating: 100%|██████████| 1040/1040 [00:00<00:00, 95770.88it/s]\n",
      "Evaluating: 100%|██████████| 1041/1041 [00:00<00:00, 100033.69it/s]\n"
     ]
    },
    {
     "name": "stdout",
     "output_type": "stream",
     "text": [
      "Epoch 26 Loss 0.000846, Train Acc 0.8282, Val Acc 0.3702, Test Acc 0.3756\n"
     ]
    },
    {
     "name": "stderr",
     "output_type": "stream",
     "text": [
      "Epoch 27: 100%|██████████| 3120/3120 [00:00<00:00, 99964.31it/s, loss=0.761, acc=0.792]\n",
      "Evaluating: 100%|██████████| 1040/1040 [00:00<00:00, 57125.89it/s]\n",
      "Evaluating: 100%|██████████| 1041/1041 [00:00<00:00, 95846.13it/s]\n"
     ]
    },
    {
     "name": "stdout",
     "output_type": "stream",
     "text": [
      "Epoch 27 Loss 0.000899, Train Acc 0.8272, Val Acc 0.3654, Test Acc 0.3698\n"
     ]
    },
    {
     "name": "stderr",
     "output_type": "stream",
     "text": [
      "Epoch 28: 100%|██████████| 3120/3120 [00:00<00:00, 97252.00it/s, loss=0.745, acc=0.792]\n",
      "Evaluating: 100%|██████████| 1040/1040 [00:00<00:00, 95960.49it/s]\n",
      "Evaluating: 100%|██████████| 1041/1041 [00:00<00:00, 77288.70it/s]\n"
     ]
    },
    {
     "name": "stdout",
     "output_type": "stream",
     "text": [
      "Epoch 28 Loss 0.000876, Train Acc 0.8340, Val Acc 0.3596, Test Acc 0.3708\n"
     ]
    },
    {
     "name": "stderr",
     "output_type": "stream",
     "text": [
      "Epoch 29: 100%|██████████| 3120/3120 [00:00<00:00, 79406.24it/s, loss=0.593, acc=0.875]\n",
      "Evaluating: 100%|██████████| 1040/1040 [00:00<00:00, 94817.44it/s]\n",
      "Evaluating: 100%|██████████| 1041/1041 [00:00<00:00, 98894.03it/s]\n"
     ]
    },
    {
     "name": "stdout",
     "output_type": "stream",
     "text": [
      "Epoch 29 Loss 0.000813, Train Acc 0.8365, Val Acc 0.3673, Test Acc 0.3727\n"
     ]
    },
    {
     "name": "stderr",
     "output_type": "stream",
     "text": [
      "Epoch 30: 100%|██████████| 3120/3120 [00:00<00:00, 100401.48it/s, loss=0.586, acc=0.854]\n",
      "Evaluating: 100%|██████████| 1040/1040 [00:00<00:00, 98373.46it/s]\n",
      "Evaluating: 100%|██████████| 1041/1041 [00:00<00:00, 97302.84it/s]\n"
     ]
    },
    {
     "name": "stdout",
     "output_type": "stream",
     "text": [
      "Epoch 30 Loss 0.000795, Train Acc 0.8413, Val Acc 0.3692, Test Acc 0.3708\n"
     ]
    },
    {
     "name": "stderr",
     "output_type": "stream",
     "text": [
      "Epoch 31: 100%|██████████| 3120/3120 [00:00<00:00, 87001.98it/s, loss=0.616, acc=0.938]\n",
      "Evaluating: 100%|██████████| 1040/1040 [00:00<00:00, 97758.37it/s]\n",
      "Evaluating: 100%|██████████| 1041/1041 [00:00<00:00, 104251.72it/s]\n"
     ]
    },
    {
     "name": "stdout",
     "output_type": "stream",
     "text": [
      "Epoch 31 Loss 0.000791, Train Acc 0.8487, Val Acc 0.3654, Test Acc 0.3785\n"
     ]
    },
    {
     "name": "stderr",
     "output_type": "stream",
     "text": [
      "Epoch 32: 100%|██████████| 3120/3120 [00:00<00:00, 99949.81it/s, loss=0.606, acc=0.875]\n",
      "Evaluating: 100%|██████████| 1040/1040 [00:00<00:00, 101032.45it/s]\n",
      "Evaluating: 100%|██████████| 1041/1041 [00:00<00:00, 103581.49it/s]\n"
     ]
    },
    {
     "name": "stdout",
     "output_type": "stream",
     "text": [
      "Epoch 32 Loss 0.000776, Train Acc 0.8458, Val Acc 0.3673, Test Acc 0.3804\n"
     ]
    },
    {
     "name": "stderr",
     "output_type": "stream",
     "text": [
      "Epoch 33: 100%|██████████| 3120/3120 [00:00<00:00, 93023.23it/s, loss=0.541, acc=0.896]\n",
      "Evaluating: 100%|██████████| 1040/1040 [00:00<00:00, 101264.65it/s]\n",
      "Evaluating: 100%|██████████| 1041/1041 [00:00<00:00, 106338.78it/s]\n"
     ]
    },
    {
     "name": "stdout",
     "output_type": "stream",
     "text": [
      "Epoch 33 Loss 0.000737, Train Acc 0.8545, Val Acc 0.3750, Test Acc 0.3929\n"
     ]
    },
    {
     "name": "stderr",
     "output_type": "stream",
     "text": [
      "Epoch 34: 100%|██████████| 3120/3120 [00:00<00:00, 105991.40it/s, loss=0.561, acc=0.833]\n",
      "Evaluating: 100%|██████████| 1040/1040 [00:00<00:00, 94964.00it/s]\n",
      "Evaluating: 100%|██████████| 1041/1041 [00:00<00:00, 85442.26it/s]\n"
     ]
    },
    {
     "name": "stdout",
     "output_type": "stream",
     "text": [
      "Epoch 34 Loss 0.000737, Train Acc 0.8538, Val Acc 0.3683, Test Acc 0.3833\n"
     ]
    },
    {
     "name": "stderr",
     "output_type": "stream",
     "text": [
      "Epoch 35: 100%|██████████| 3120/3120 [00:00<00:00, 95651.17it/s, loss=0.510, acc=0.875]\n",
      "Evaluating: 100%|██████████| 1040/1040 [00:00<00:00, 89160.25it/s]\n",
      "Evaluating: 100%|██████████| 1041/1041 [00:00<00:00, 74136.52it/s]\n"
     ]
    },
    {
     "name": "stdout",
     "output_type": "stream",
     "text": [
      "Epoch 35 Loss 0.000704, Train Acc 0.8580, Val Acc 0.3779, Test Acc 0.3679\n"
     ]
    },
    {
     "name": "stderr",
     "output_type": "stream",
     "text": [
      "Epoch 36: 100%|██████████| 3120/3120 [00:00<00:00, 89742.96it/s, loss=0.633, acc=0.833]\n",
      "Evaluating: 100%|██████████| 1040/1040 [00:00<00:00, 64278.63it/s]\n",
      "Evaluating: 100%|██████████| 1041/1041 [00:00<00:00, 100814.37it/s]\n"
     ]
    },
    {
     "name": "stdout",
     "output_type": "stream",
     "text": [
      "Epoch 36 Loss 0.000733, Train Acc 0.8641, Val Acc 0.3654, Test Acc 0.3746\n"
     ]
    },
    {
     "name": "stderr",
     "output_type": "stream",
     "text": [
      "Epoch 37: 100%|██████████| 3120/3120 [00:00<00:00, 94788.59it/s, loss=0.539, acc=0.833]\n",
      "Evaluating: 100%|██████████| 1040/1040 [00:00<00:00, 99032.31it/s]\n",
      "Evaluating: 100%|██████████| 1041/1041 [00:00<00:00, 101430.31it/s]\n"
     ]
    },
    {
     "name": "stdout",
     "output_type": "stream",
     "text": [
      "Epoch 37 Loss 0.000691, Train Acc 0.8670, Val Acc 0.3788, Test Acc 0.3823\n"
     ]
    },
    {
     "name": "stderr",
     "output_type": "stream",
     "text": [
      "Epoch 38: 100%|██████████| 3120/3120 [00:00<00:00, 94111.00it/s, loss=0.575, acc=0.875]\n",
      "Evaluating: 100%|██████████| 1040/1040 [00:00<00:00, 85581.25it/s]\n",
      "Evaluating: 100%|██████████| 1041/1041 [00:00<00:00, 90158.18it/s]\n"
     ]
    },
    {
     "name": "stdout",
     "output_type": "stream",
     "text": [
      "Epoch 38 Loss 0.000692, Train Acc 0.8696, Val Acc 0.3692, Test Acc 0.3833\n"
     ]
    },
    {
     "name": "stderr",
     "output_type": "stream",
     "text": [
      "Epoch 39: 100%|██████████| 3120/3120 [00:00<00:00, 99033.06it/s, loss=0.478, acc=0.792]\n",
      "Evaluating: 100%|██████████| 1040/1040 [00:00<00:00, 90310.27it/s]\n",
      "Evaluating: 100%|██████████| 1041/1041 [00:00<00:00, 82159.24it/s]\n"
     ]
    },
    {
     "name": "stdout",
     "output_type": "stream",
     "text": [
      "Epoch 39 Loss 0.000651, Train Acc 0.8782, Val Acc 0.3788, Test Acc 0.3833\n"
     ]
    },
    {
     "name": "stderr",
     "output_type": "stream",
     "text": [
      "Epoch 40: 100%|██████████| 3120/3120 [00:00<00:00, 95274.43it/s, loss=0.437, acc=0.896]\n",
      "Evaluating: 100%|██████████| 1040/1040 [00:00<00:00, 102189.86it/s]\n",
      "Evaluating: 100%|██████████| 1041/1041 [00:00<00:00, 109047.71it/s]\n"
     ]
    },
    {
     "name": "stdout",
     "output_type": "stream",
     "text": [
      "Epoch 40 Loss 0.000626, Train Acc 0.8785, Val Acc 0.3769, Test Acc 0.3785\n"
     ]
    },
    {
     "name": "stderr",
     "output_type": "stream",
     "text": [
      "Epoch 41: 100%|██████████| 3120/3120 [00:00<00:00, 111130.04it/s, loss=0.448, acc=0.917]\n",
      "Evaluating: 100%|██████████| 1040/1040 [00:00<00:00, 99611.25it/s]\n",
      "Evaluating: 100%|██████████| 1041/1041 [00:00<00:00, 105044.28it/s]\n"
     ]
    },
    {
     "name": "stdout",
     "output_type": "stream",
     "text": [
      "Epoch 41 Loss 0.000622, Train Acc 0.8837, Val Acc 0.3779, Test Acc 0.3775\n"
     ]
    },
    {
     "name": "stderr",
     "output_type": "stream",
     "text": [
      "Epoch 42: 100%|██████████| 3120/3120 [00:00<00:00, 88280.29it/s, loss=0.461, acc=0.896]\n",
      "Evaluating: 100%|██████████| 1040/1040 [00:00<00:00, 100524.88it/s]\n",
      "Evaluating: 100%|██████████| 1041/1041 [00:00<00:00, 102704.36it/s]\n"
     ]
    },
    {
     "name": "stdout",
     "output_type": "stream",
     "text": [
      "Epoch 42 Loss 0.000612, Train Acc 0.8869, Val Acc 0.3827, Test Acc 0.3766\n"
     ]
    },
    {
     "name": "stderr",
     "output_type": "stream",
     "text": [
      "Epoch 43: 100%|██████████| 3120/3120 [00:00<00:00, 98048.42it/s, loss=0.512, acc=0.875]\n",
      "Evaluating: 100%|██████████| 1040/1040 [00:00<00:00, 102540.58it/s]\n",
      "Evaluating: 100%|██████████| 1041/1041 [00:00<00:00, 78083.45it/s]\n"
     ]
    },
    {
     "name": "stdout",
     "output_type": "stream",
     "text": [
      "Epoch 43 Loss 0.000621, Train Acc 0.8837, Val Acc 0.3808, Test Acc 0.3833\n"
     ]
    },
    {
     "name": "stderr",
     "output_type": "stream",
     "text": [
      "Epoch 44: 100%|██████████| 3120/3120 [00:00<00:00, 103995.14it/s, loss=0.292, acc=0.958]\n",
      "Evaluating: 100%|██████████| 1040/1040 [00:00<00:00, 101123.80it/s]\n",
      "Evaluating: 100%|██████████| 1041/1041 [00:00<00:00, 103121.57it/s]\n"
     ]
    },
    {
     "name": "stdout",
     "output_type": "stream",
     "text": [
      "Epoch 44 Loss 0.000542, Train Acc 0.8933, Val Acc 0.3779, Test Acc 0.3775\n"
     ]
    },
    {
     "name": "stderr",
     "output_type": "stream",
     "text": [
      "Epoch 45: 100%|██████████| 3120/3120 [00:00<00:00, 105092.54it/s, loss=0.312, acc=0.917]\n",
      "Evaluating: 100%|██████████| 1040/1040 [00:00<00:00, 102888.86it/s]\n",
      "Evaluating: 100%|██████████| 1041/1041 [00:00<00:00, 62507.45it/s]\n"
     ]
    },
    {
     "name": "stdout",
     "output_type": "stream",
     "text": [
      "Epoch 45 Loss 0.000540, Train Acc 0.8936, Val Acc 0.3808, Test Acc 0.3852\n"
     ]
    },
    {
     "name": "stderr",
     "output_type": "stream",
     "text": [
      "Epoch 46: 100%|██████████| 3120/3120 [00:00<00:00, 105933.92it/s, loss=0.422, acc=0.958]\n",
      "Evaluating: 100%|██████████| 1040/1040 [00:00<00:00, 102492.39it/s]\n",
      "Evaluating: 100%|██████████| 1041/1041 [00:00<00:00, 103060.72it/s]\n"
     ]
    },
    {
     "name": "stdout",
     "output_type": "stream",
     "text": [
      "Epoch 46 Loss 0.000569, Train Acc 0.8968, Val Acc 0.3721, Test Acc 0.3775\n"
     ]
    },
    {
     "name": "stderr",
     "output_type": "stream",
     "text": [
      "Epoch 47: 100%|██████████| 3120/3120 [00:00<00:00, 101874.82it/s, loss=0.328, acc=0.958]\n",
      "Evaluating: 100%|██████████| 1040/1040 [00:00<00:00, 100950.62it/s]\n",
      "Evaluating: 100%|██████████| 1041/1041 [00:00<00:00, 66565.09it/s]\n"
     ]
    },
    {
     "name": "stdout",
     "output_type": "stream",
     "text": [
      "Epoch 47 Loss 0.000531, Train Acc 0.8981, Val Acc 0.3750, Test Acc 0.3871\n"
     ]
    },
    {
     "name": "stderr",
     "output_type": "stream",
     "text": [
      "Epoch 48: 100%|██████████| 3120/3120 [00:00<00:00, 109701.89it/s, loss=0.413, acc=0.938]\n",
      "Evaluating: 100%|██████████| 1040/1040 [00:00<00:00, 105237.06it/s]\n",
      "Evaluating: 100%|██████████| 1041/1041 [00:00<00:00, 107889.07it/s]\n"
     ]
    },
    {
     "name": "stdout",
     "output_type": "stream",
     "text": [
      "Epoch 48 Loss 0.000548, Train Acc 0.9019, Val Acc 0.3856, Test Acc 0.3746\n"
     ]
    },
    {
     "name": "stderr",
     "output_type": "stream",
     "text": [
      "Epoch 49: 100%|██████████| 3120/3120 [00:00<00:00, 111492.66it/s, loss=0.482, acc=0.896]\n",
      "Evaluating: 100%|██████████| 1040/1040 [00:00<00:00, 102629.84it/s]\n",
      "Evaluating: 100%|██████████| 1041/1041 [00:00<00:00, 67023.88it/s]\n"
     ]
    },
    {
     "name": "stdout",
     "output_type": "stream",
     "text": [
      "Epoch 49 Loss 0.000560, Train Acc 0.9071, Val Acc 0.3788, Test Acc 0.3842\n"
     ]
    },
    {
     "name": "stderr",
     "output_type": "stream",
     "text": [
      "Epoch 50: 100%|██████████| 3120/3120 [00:00<00:00, 108661.63it/s, loss=0.293, acc=0.938]\n",
      "Evaluating: 100%|██████████| 1040/1040 [00:00<00:00, 99192.20it/s]\n",
      "Evaluating: 100%|██████████| 1041/1041 [00:00<00:00, 103929.13it/s]\n"
     ]
    },
    {
     "name": "stdout",
     "output_type": "stream",
     "text": [
      "Epoch 50 Loss 0.000491, Train Acc 0.9109, Val Acc 0.3731, Test Acc 0.3919\n"
     ]
    },
    {
     "name": "stderr",
     "output_type": "stream",
     "text": [
      "Epoch 51: 100%|██████████| 3120/3120 [00:00<00:00, 102958.48it/s, loss=0.381, acc=0.938]\n",
      "Evaluating: 100%|██████████| 1040/1040 [00:00<00:00, 100924.92it/s]\n",
      "Evaluating: 100%|██████████| 1041/1041 [00:00<00:00, 68272.05it/s]\n"
     ]
    },
    {
     "name": "stdout",
     "output_type": "stream",
     "text": [
      "Epoch 51 Loss 0.000509, Train Acc 0.9151, Val Acc 0.3750, Test Acc 0.3871\n"
     ]
    },
    {
     "name": "stderr",
     "output_type": "stream",
     "text": [
      "Epoch 52: 100%|██████████| 3120/3120 [00:00<00:00, 106710.50it/s, loss=0.350, acc=0.938]\n",
      "Evaluating: 100%|██████████| 1040/1040 [00:00<00:00, 100878.24it/s]\n",
      "Evaluating: 100%|██████████| 1041/1041 [00:00<00:00, 103941.50it/s]\n"
     ]
    },
    {
     "name": "stdout",
     "output_type": "stream",
     "text": [
      "Epoch 52 Loss 0.000490, Train Acc 0.9147, Val Acc 0.3788, Test Acc 0.3890\n"
     ]
    },
    {
     "name": "stderr",
     "output_type": "stream",
     "text": [
      "Epoch 53: 100%|██████████| 3120/3120 [00:00<00:00, 92571.81it/s, loss=0.396, acc=0.917]\n",
      "Evaluating: 100%|██████████| 1040/1040 [00:00<00:00, 54137.52it/s]\n",
      "Evaluating: 100%|██████████| 1041/1041 [00:00<00:00, 76381.47it/s]\n"
     ]
    },
    {
     "name": "stdout",
     "output_type": "stream",
     "text": [
      "Epoch 53 Loss 0.000498, Train Acc 0.9173, Val Acc 0.3817, Test Acc 0.3804\n"
     ]
    },
    {
     "name": "stderr",
     "output_type": "stream",
     "text": [
      "Epoch 54: 100%|██████████| 3120/3120 [00:00<00:00, 78164.07it/s, loss=0.377, acc=0.958]\n",
      "Evaluating: 100%|██████████| 1040/1040 [00:00<00:00, 89063.77it/s]\n",
      "Evaluating: 100%|██████████| 1041/1041 [00:00<00:00, 93008.21it/s]\n"
     ]
    },
    {
     "name": "stdout",
     "output_type": "stream",
     "text": [
      "Epoch 54 Loss 0.000487, Train Acc 0.9189, Val Acc 0.3798, Test Acc 0.3871\n"
     ]
    },
    {
     "name": "stderr",
     "output_type": "stream",
     "text": [
      "Epoch 55: 100%|██████████| 3120/3120 [00:00<00:00, 78200.97it/s, loss=0.357, acc=0.938]\n",
      "Evaluating: 100%|██████████| 1040/1040 [00:00<00:00, 94030.53it/s]\n",
      "Evaluating: 100%|██████████| 1041/1041 [00:00<00:00, 95928.26it/s]\n"
     ]
    },
    {
     "name": "stdout",
     "output_type": "stream",
     "text": [
      "Epoch 55 Loss 0.000474, Train Acc 0.9160, Val Acc 0.3673, Test Acc 0.3756\n"
     ]
    },
    {
     "name": "stderr",
     "output_type": "stream",
     "text": [
      "Epoch 56: 100%|██████████| 3120/3120 [00:00<00:00, 90860.81it/s, loss=0.346, acc=0.917]\n",
      "Evaluating: 100%|██████████| 1040/1040 [00:00<00:00, 86217.26it/s]\n",
      "Evaluating: 100%|██████████| 1041/1041 [00:00<00:00, 65930.85it/s]\n"
     ]
    },
    {
     "name": "stdout",
     "output_type": "stream",
     "text": [
      "Epoch 56 Loss 0.000463, Train Acc 0.9196, Val Acc 0.3808, Test Acc 0.3890\n"
     ]
    },
    {
     "name": "stderr",
     "output_type": "stream",
     "text": [
      "Epoch 57: 100%|██████████| 3120/3120 [00:00<00:00, 91815.79it/s, loss=0.323, acc=0.938]\n",
      "Evaluating: 100%|██████████| 1040/1040 [00:00<00:00, 95542.23it/s]\n",
      "Evaluating: 100%|██████████| 1041/1041 [00:00<00:00, 99145.54it/s]\n"
     ]
    },
    {
     "name": "stdout",
     "output_type": "stream",
     "text": [
      "Epoch 57 Loss 0.000451, Train Acc 0.9228, Val Acc 0.3750, Test Acc 0.3910\n"
     ]
    },
    {
     "name": "stderr",
     "output_type": "stream",
     "text": [
      "Epoch 58: 100%|██████████| 3120/3120 [00:00<00:00, 92492.64it/s, loss=0.341, acc=0.958]\n",
      "Evaluating: 100%|██████████| 1040/1040 [00:00<00:00, 70391.26it/s]\n",
      "Evaluating: 100%|██████████| 1041/1041 [00:00<00:00, 98681.70it/s]\n"
     ]
    },
    {
     "name": "stdout",
     "output_type": "stream",
     "text": [
      "Epoch 58 Loss 0.000450, Train Acc 0.9208, Val Acc 0.3798, Test Acc 0.3900\n"
     ]
    },
    {
     "name": "stderr",
     "output_type": "stream",
     "text": [
      "Epoch 59: 100%|██████████| 3120/3120 [00:00<00:00, 95304.26it/s, loss=0.331, acc=0.938]\n",
      "Evaluating: 100%|██████████| 1040/1040 [00:00<00:00, 87257.23it/s]\n",
      "Evaluating: 100%|██████████| 1041/1041 [00:00<00:00, 93330.28it/s]\n"
     ]
    },
    {
     "name": "stdout",
     "output_type": "stream",
     "text": [
      "Epoch 59 Loss 0.000438, Train Acc 0.9288, Val Acc 0.3740, Test Acc 0.3756\n"
     ]
    },
    {
     "name": "stderr",
     "output_type": "stream",
     "text": [
      "Epoch 60: 100%|██████████| 3120/3120 [00:00<00:00, 80834.57it/s, loss=0.297, acc=0.917]\n",
      "Evaluating: 100%|██████████| 1040/1040 [00:00<00:00, 94307.00it/s]\n",
      "Evaluating: 100%|██████████| 1041/1041 [00:00<00:00, 95650.86it/s]\n"
     ]
    },
    {
     "name": "stdout",
     "output_type": "stream",
     "text": [
      "Epoch 60 Loss 0.000426, Train Acc 0.9260, Val Acc 0.3740, Test Acc 0.3746\n"
     ]
    },
    {
     "name": "stderr",
     "output_type": "stream",
     "text": [
      "Epoch 61: 100%|██████████| 3120/3120 [00:00<00:00, 85898.08it/s, loss=0.338, acc=0.917]\n",
      "Evaluating: 100%|██████████| 1040/1040 [00:00<00:00, 96527.47it/s]\n",
      "Evaluating: 100%|██████████| 1041/1041 [00:00<00:00, 97411.38it/s]\n"
     ]
    },
    {
     "name": "stdout",
     "output_type": "stream",
     "text": [
      "Epoch 61 Loss 0.000430, Train Acc 0.9269, Val Acc 0.3654, Test Acc 0.3823\n"
     ]
    },
    {
     "name": "stderr",
     "output_type": "stream",
     "text": [
      "Epoch 62: 100%|██████████| 3120/3120 [00:00<00:00, 83032.34it/s, loss=0.278, acc=0.958]\n",
      "Evaluating: 100%|██████████| 1040/1040 [00:00<00:00, 97603.06it/s]\n",
      "Evaluating: 100%|██████████| 1041/1041 [00:00<00:00, 97979.72it/s]\n"
     ]
    },
    {
     "name": "stdout",
     "output_type": "stream",
     "text": [
      "Epoch 62 Loss 0.000405, Train Acc 0.9324, Val Acc 0.3769, Test Acc 0.3967\n"
     ]
    },
    {
     "name": "stderr",
     "output_type": "stream",
     "text": [
      "Epoch 63: 100%|██████████| 3120/3120 [00:00<00:00, 95207.19it/s, loss=0.297, acc=0.958]\n",
      "Evaluating: 100%|██████████| 1040/1040 [00:00<00:00, 97131.45it/s]\n",
      "Evaluating: 100%|██████████| 1041/1041 [00:00<00:00, 70618.49it/s]\n"
     ]
    },
    {
     "name": "stdout",
     "output_type": "stream",
     "text": [
      "Epoch 63 Loss 0.000404, Train Acc 0.9333, Val Acc 0.3798, Test Acc 0.3823\n"
     ]
    },
    {
     "name": "stderr",
     "output_type": "stream",
     "text": [
      "Epoch 64: 100%|██████████| 3120/3120 [00:00<00:00, 93507.12it/s, loss=0.386, acc=0.875]\n",
      "Evaluating: 100%|██████████| 1040/1040 [00:00<00:00, 98649.33it/s]\n",
      "Evaluating: 100%|██████████| 1041/1041 [00:00<00:00, 94671.95it/s]\n"
     ]
    },
    {
     "name": "stdout",
     "output_type": "stream",
     "text": [
      "Epoch 64 Loss 0.000428, Train Acc 0.9346, Val Acc 0.3798, Test Acc 0.3775\n"
     ]
    },
    {
     "name": "stderr",
     "output_type": "stream",
     "text": [
      "Epoch 65: 100%|██████████| 3120/3120 [00:00<00:00, 85367.42it/s, loss=0.338, acc=0.896]\n",
      "Evaluating: 100%|██████████| 1040/1040 [00:00<00:00, 72560.98it/s]\n",
      "Evaluating: 100%|██████████| 1041/1041 [00:00<00:00, 102999.94it/s]\n"
     ]
    },
    {
     "name": "stdout",
     "output_type": "stream",
     "text": [
      "Epoch 65 Loss 0.000408, Train Acc 0.9330, Val Acc 0.3846, Test Acc 0.3746\n"
     ]
    },
    {
     "name": "stderr",
     "output_type": "stream",
     "text": [
      "Epoch 66: 100%|██████████| 3120/3120 [00:00<00:00, 99672.70it/s, loss=0.383, acc=0.938]\n",
      "Evaluating: 100%|██████████| 1040/1040 [00:00<00:00, 97933.95it/s]\n",
      "Evaluating: 100%|██████████| 1041/1041 [00:00<00:00, 102682.62it/s]\n"
     ]
    },
    {
     "name": "stdout",
     "output_type": "stream",
     "text": [
      "Epoch 66 Loss 0.000417, Train Acc 0.9391, Val Acc 0.3644, Test Acc 0.3833\n"
     ]
    },
    {
     "name": "stderr",
     "output_type": "stream",
     "text": [
      "Epoch 67: 100%|██████████| 3120/3120 [00:00<00:00, 93058.29it/s, loss=0.318, acc=0.917]\n",
      "Evaluating: 100%|██████████| 1040/1040 [00:00<00:00, 100196.99it/s]\n",
      "Evaluating: 100%|██████████| 1041/1041 [00:00<00:00, 103961.30it/s]\n"
     ]
    },
    {
     "name": "stdout",
     "output_type": "stream",
     "text": [
      "Epoch 67 Loss 0.000392, Train Acc 0.9346, Val Acc 0.3606, Test Acc 0.3814\n"
     ]
    },
    {
     "name": "stderr",
     "output_type": "stream",
     "text": [
      "Epoch 68: 100%|██████████| 3120/3120 [00:00<00:00, 84240.32it/s, loss=0.238, acc=0.938]\n",
      "Evaluating: 100%|██████████| 1040/1040 [00:00<00:00, 95884.56it/s]\n",
      "Evaluating: 100%|██████████| 1041/1041 [00:00<00:00, 95335.50it/s]\n"
     ]
    },
    {
     "name": "stdout",
     "output_type": "stream",
     "text": [
      "Epoch 68 Loss 0.000361, Train Acc 0.9391, Val Acc 0.3644, Test Acc 0.3823\n"
     ]
    },
    {
     "name": "stderr",
     "output_type": "stream",
     "text": [
      "Epoch 69: 100%|██████████| 3120/3120 [00:00<00:00, 88056.93it/s, loss=0.174, acc=1.000]\n",
      "Evaluating: 100%|██████████| 1040/1040 [00:00<00:00, 101727.52it/s]\n",
      "Evaluating: 100%|██████████| 1041/1041 [00:00<00:00, 96750.88it/s]\n"
     ]
    },
    {
     "name": "stdout",
     "output_type": "stream",
     "text": [
      "Epoch 69 Loss 0.000336, Train Acc 0.9394, Val Acc 0.3663, Test Acc 0.3823\n"
     ]
    },
    {
     "name": "stderr",
     "output_type": "stream",
     "text": [
      "Epoch 70: 100%|██████████| 3120/3120 [00:00<00:00, 76165.53it/s, loss=0.390, acc=0.896]\n",
      "Evaluating: 100%|██████████| 1040/1040 [00:00<00:00, 92914.91it/s]\n",
      "Evaluating: 100%|██████████| 1041/1041 [00:00<00:00, 92136.79it/s]\n"
     ]
    },
    {
     "name": "stdout",
     "output_type": "stream",
     "text": [
      "Epoch 70 Loss 0.000397, Train Acc 0.9401, Val Acc 0.3683, Test Acc 0.3746\n"
     ]
    },
    {
     "name": "stderr",
     "output_type": "stream",
     "text": [
      "Epoch 71: 100%|██████████| 3120/3120 [00:00<00:00, 90600.38it/s, loss=0.425, acc=0.875]\n",
      "Evaluating: 100%|██████████| 1040/1040 [00:00<00:00, 92672.11it/s]\n",
      "Evaluating: 100%|██████████| 1041/1041 [00:00<00:00, 55273.44it/s]\n"
     ]
    },
    {
     "name": "stdout",
     "output_type": "stream",
     "text": [
      "Epoch 71 Loss 0.000401, Train Acc 0.9446, Val Acc 0.3673, Test Acc 0.3794\n"
     ]
    },
    {
     "name": "stderr",
     "output_type": "stream",
     "text": [
      "Epoch 72: 100%|██████████| 3120/3120 [00:00<00:00, 94330.80it/s, loss=0.269, acc=1.000]\n",
      "Evaluating: 100%|██████████| 1040/1040 [00:00<00:00, 94197.03it/s]\n",
      "Evaluating: 100%|██████████| 1041/1041 [00:00<00:00, 94100.66it/s]\n"
     ]
    },
    {
     "name": "stdout",
     "output_type": "stream",
     "text": [
      "Epoch 72 Loss 0.000350, Train Acc 0.9468, Val Acc 0.3769, Test Acc 0.3756\n"
     ]
    },
    {
     "name": "stderr",
     "output_type": "stream",
     "text": [
      "Epoch 73: 100%|██████████| 3120/3120 [00:00<00:00, 90185.17it/s, loss=0.281, acc=0.938]\n",
      "Evaluating: 100%|██████████| 1040/1040 [00:00<00:00, 63705.05it/s]\n",
      "Evaluating: 100%|██████████| 1041/1041 [00:00<00:00, 95713.76it/s]\n"
     ]
    },
    {
     "name": "stdout",
     "output_type": "stream",
     "text": [
      "Epoch 73 Loss 0.000354, Train Acc 0.9468, Val Acc 0.3663, Test Acc 0.3785\n"
     ]
    },
    {
     "name": "stderr",
     "output_type": "stream",
     "text": [
      "Epoch 74: 100%|██████████| 3120/3120 [00:00<00:00, 97827.79it/s, loss=0.222, acc=0.979]\n",
      "Evaluating: 100%|██████████| 1040/1040 [00:00<00:00, 94311.08it/s]\n",
      "Evaluating: 100%|██████████| 1041/1041 [00:00<00:00, 96697.31it/s]\n"
     ]
    },
    {
     "name": "stdout",
     "output_type": "stream",
     "text": [
      "Epoch 74 Loss 0.000331, Train Acc 0.9449, Val Acc 0.3702, Test Acc 0.3804\n"
     ]
    },
    {
     "name": "stderr",
     "output_type": "stream",
     "text": [
      "Epoch 75: 100%|██████████| 3120/3120 [00:00<00:00, 91200.86it/s, loss=0.238, acc=0.979]\n",
      "Evaluating: 100%|██████████| 1040/1040 [00:00<00:00, 86624.75it/s]\n",
      "Evaluating: 100%|██████████| 1041/1041 [00:00<00:00, 84732.59it/s]\n"
     ]
    },
    {
     "name": "stdout",
     "output_type": "stream",
     "text": [
      "Epoch 75 Loss 0.000331, Train Acc 0.9478, Val Acc 0.3702, Test Acc 0.3814\n"
     ]
    },
    {
     "name": "stderr",
     "output_type": "stream",
     "text": [
      "Epoch 76: 100%|██████████| 3120/3120 [00:00<00:00, 94751.53it/s, loss=0.188, acc=0.958]\n",
      "Evaluating: 100%|██████████| 1040/1040 [00:00<00:00, 98114.58it/s]\n",
      "Evaluating: 100%|██████████| 1041/1041 [00:00<00:00, 99285.32it/s]\n"
     ]
    },
    {
     "name": "stdout",
     "output_type": "stream",
     "text": [
      "Epoch 76 Loss 0.000309, Train Acc 0.9471, Val Acc 0.3712, Test Acc 0.3862\n"
     ]
    },
    {
     "name": "stderr",
     "output_type": "stream",
     "text": [
      "Epoch 77: 100%|██████████| 3120/3120 [00:00<00:00, 100047.62it/s, loss=0.293, acc=0.917]\n",
      "Evaluating: 100%|██████████| 1040/1040 [00:00<00:00, 97415.61it/s]\n",
      "Evaluating: 100%|██████████| 1041/1041 [00:00<00:00, 95886.12it/s]\n"
     ]
    },
    {
     "name": "stdout",
     "output_type": "stream",
     "text": [
      "Epoch 77 Loss 0.000335, Train Acc 0.9500, Val Acc 0.3663, Test Acc 0.3794\n"
     ]
    },
    {
     "name": "stderr",
     "output_type": "stream",
     "text": [
      "Epoch 78: 100%|██████████| 3120/3120 [00:00<00:00, 90422.59it/s, loss=0.259, acc=0.917]\n",
      "Evaluating: 100%|██████████| 1040/1040 [00:00<00:00, 87238.03it/s]\n",
      "Evaluating: 100%|██████████| 1041/1041 [00:00<00:00, 89724.65it/s]\n"
     ]
    },
    {
     "name": "stdout",
     "output_type": "stream",
     "text": [
      "Epoch 78 Loss 0.000327, Train Acc 0.9465, Val Acc 0.3663, Test Acc 0.3775\n"
     ]
    },
    {
     "name": "stderr",
     "output_type": "stream",
     "text": [
      "Epoch 79: 100%|██████████| 3120/3120 [00:00<00:00, 89623.11it/s, loss=0.299, acc=0.938]\n",
      "Evaluating: 100%|██████████| 1040/1040 [00:00<00:00, 63050.36it/s]\n",
      "Evaluating: 100%|██████████| 1041/1041 [00:00<00:00, 102065.74it/s]\n"
     ]
    },
    {
     "name": "stdout",
     "output_type": "stream",
     "text": [
      "Epoch 79 Loss 0.000330, Train Acc 0.9500, Val Acc 0.3731, Test Acc 0.3708\n"
     ]
    },
    {
     "name": "stderr",
     "output_type": "stream",
     "text": [
      "Epoch 80: 100%|██████████| 3120/3120 [00:00<00:00, 93245.94it/s, loss=0.164, acc=1.000]\n",
      "Evaluating: 100%|██████████| 1040/1040 [00:00<00:00, 97986.75it/s]\n",
      "Evaluating: 100%|██████████| 1041/1041 [00:00<00:00, 101392.62it/s]\n"
     ]
    },
    {
     "name": "stdout",
     "output_type": "stream",
     "text": [
      "Epoch 80 Loss 0.000290, Train Acc 0.9522, Val Acc 0.3779, Test Acc 0.3756\n"
     ]
    },
    {
     "name": "stderr",
     "output_type": "stream",
     "text": [
      "Epoch 81: 100%|██████████| 3120/3120 [00:00<00:00, 93779.85it/s, loss=0.171, acc=0.979]\n",
      "Evaluating: 100%|██████████| 1040/1040 [00:00<00:00, 86690.17it/s]\n",
      "Evaluating: 100%|██████████| 1041/1041 [00:00<00:00, 87269.56it/s]\n"
     ]
    },
    {
     "name": "stdout",
     "output_type": "stream",
     "text": [
      "Epoch 81 Loss 0.000287, Train Acc 0.9506, Val Acc 0.3644, Test Acc 0.3737\n"
     ]
    },
    {
     "name": "stderr",
     "output_type": "stream",
     "text": [
      "Epoch 82: 100%|██████████| 3120/3120 [00:00<00:00, 95949.24it/s, loss=0.265, acc=0.958]\n",
      "Evaluating: 100%|██████████| 1040/1040 [00:00<00:00, 94669.27it/s]\n",
      "Evaluating: 100%|██████████| 1041/1041 [00:00<00:00, 103109.40it/s]\n"
     ]
    },
    {
     "name": "stdout",
     "output_type": "stream",
     "text": [
      "Epoch 82 Loss 0.000313, Train Acc 0.9522, Val Acc 0.3731, Test Acc 0.3871\n"
     ]
    },
    {
     "name": "stderr",
     "output_type": "stream",
     "text": [
      "Epoch 83: 100%|██████████| 3120/3120 [00:00<00:00, 102858.13it/s, loss=0.224, acc=0.958]\n",
      "Evaluating: 100%|██████████| 1040/1040 [00:00<00:00, 80989.16it/s]\n",
      "Evaluating: 100%|██████████| 1041/1041 [00:00<00:00, 88473.80it/s]\n"
     ]
    },
    {
     "name": "stdout",
     "output_type": "stream",
     "text": [
      "Epoch 83 Loss 0.000297, Train Acc 0.9516, Val Acc 0.3712, Test Acc 0.3708\n"
     ]
    },
    {
     "name": "stderr",
     "output_type": "stream",
     "text": [
      "Epoch 84: 100%|██████████| 3120/3120 [00:00<00:00, 86493.64it/s, loss=0.173, acc=0.958]\n",
      "Evaluating: 100%|██████████| 1040/1040 [00:00<00:00, 96980.28it/s]\n",
      "Evaluating: 100%|██████████| 1041/1041 [00:00<00:00, 96194.55it/s]\n"
     ]
    },
    {
     "name": "stdout",
     "output_type": "stream",
     "text": [
      "Epoch 84 Loss 0.000274, Train Acc 0.9558, Val Acc 0.3702, Test Acc 0.3737\n"
     ]
    },
    {
     "name": "stderr",
     "output_type": "stream",
     "text": [
      "Epoch 85: 100%|██████████| 3120/3120 [00:00<00:00, 80410.39it/s, loss=0.236, acc=0.958]\n",
      "Evaluating: 100%|██████████| 1040/1040 [00:00<00:00, 95387.63it/s]\n",
      "Evaluating: 100%|██████████| 1041/1041 [00:00<00:00, 95414.66it/s]\n"
     ]
    },
    {
     "name": "stdout",
     "output_type": "stream",
     "text": [
      "Epoch 85 Loss 0.000287, Train Acc 0.9577, Val Acc 0.3712, Test Acc 0.3766\n"
     ]
    },
    {
     "name": "stderr",
     "output_type": "stream",
     "text": [
      "Epoch 86: 100%|██████████| 3120/3120 [00:00<00:00, 98495.63it/s, loss=0.230, acc=0.958]\n",
      "Evaluating: 100%|██████████| 1040/1040 [00:00<00:00, 95350.10it/s]\n",
      "Evaluating: 100%|██████████| 1041/1041 [00:00<00:00, 98330.57it/s]\n"
     ]
    },
    {
     "name": "stdout",
     "output_type": "stream",
     "text": [
      "Epoch 86 Loss 0.000286, Train Acc 0.9583, Val Acc 0.3712, Test Acc 0.3804\n"
     ]
    },
    {
     "name": "stderr",
     "output_type": "stream",
     "text": [
      "Epoch 87: 100%|██████████| 3120/3120 [00:00<00:00, 91751.41it/s, loss=0.260, acc=0.979]\n",
      "Evaluating: 100%|██████████| 1040/1040 [00:00<00:00, 96222.98it/s]\n",
      "Evaluating: 100%|██████████| 1041/1041 [00:00<00:00, 97559.39it/s]\n"
     ]
    },
    {
     "name": "stdout",
     "output_type": "stream",
     "text": [
      "Epoch 87 Loss 0.000291, Train Acc 0.9593, Val Acc 0.3663, Test Acc 0.3756\n"
     ]
    },
    {
     "name": "stderr",
     "output_type": "stream",
     "text": [
      "Epoch 88: 100%|██████████| 3120/3120 [00:00<00:00, 102453.87it/s, loss=0.219, acc=0.958]\n",
      "Evaluating: 100%|██████████| 1040/1040 [00:00<00:00, 100441.55it/s]\n",
      "Evaluating: 100%|██████████| 1041/1041 [00:00<00:00, 88933.32it/s]\n"
     ]
    },
    {
     "name": "stdout",
     "output_type": "stream",
     "text": [
      "Epoch 88 Loss 0.000278, Train Acc 0.9599, Val Acc 0.3702, Test Acc 0.3727\n"
     ]
    },
    {
     "name": "stderr",
     "output_type": "stream",
     "text": [
      "Epoch 89: 100%|██████████| 3120/3120 [00:00<00:00, 96153.69it/s, loss=0.225, acc=0.958]\n",
      "Evaluating: 100%|██████████| 1040/1040 [00:00<00:00, 103229.75it/s]\n",
      "Evaluating: 100%|██████████| 1041/1041 [00:00<00:00, 106049.51it/s]\n"
     ]
    },
    {
     "name": "stdout",
     "output_type": "stream",
     "text": [
      "Epoch 89 Loss 0.000271, Train Acc 0.9612, Val Acc 0.3615, Test Acc 0.3727\n"
     ]
    },
    {
     "name": "stderr",
     "output_type": "stream",
     "text": [
      "Epoch 90: 100%|██████████| 3120/3120 [00:00<00:00, 104617.85it/s, loss=0.193, acc=0.958]\n",
      "Evaluating: 100%|██████████| 1040/1040 [00:00<00:00, 83171.13it/s]\n",
      "Evaluating: 100%|██████████| 1041/1041 [00:00<00:00, 104890.35it/s]\n"
     ]
    },
    {
     "name": "stdout",
     "output_type": "stream",
     "text": [
      "Epoch 90 Loss 0.000264, Train Acc 0.9580, Val Acc 0.3702, Test Acc 0.3698\n"
     ]
    },
    {
     "name": "stderr",
     "output_type": "stream",
     "text": [
      "Epoch 91: 100%|██████████| 3120/3120 [00:00<00:00, 105855.08it/s, loss=0.193, acc=0.938]\n",
      "Evaluating: 100%|██████████| 1040/1040 [00:00<00:00, 104183.91it/s]\n",
      "Evaluating: 100%|██████████| 1041/1041 [00:00<00:00, 104948.33it/s]\n"
     ]
    },
    {
     "name": "stdout",
     "output_type": "stream",
     "text": [
      "Epoch 91 Loss 0.000259, Train Acc 0.9603, Val Acc 0.3635, Test Acc 0.3727\n"
     ]
    },
    {
     "name": "stderr",
     "output_type": "stream",
     "text": [
      "Epoch 92: 100%|██████████| 3120/3120 [00:00<00:00, 99274.22it/s, loss=0.215, acc=0.958]\n",
      "Evaluating: 100%|██████████| 1040/1040 [00:00<00:00, 69954.39it/s]\n",
      "Evaluating: 100%|██████████| 1041/1041 [00:00<00:00, 98985.95it/s]\n"
     ]
    },
    {
     "name": "stdout",
     "output_type": "stream",
     "text": [
      "Epoch 92 Loss 0.000265, Train Acc 0.9603, Val Acc 0.3683, Test Acc 0.3670\n"
     ]
    },
    {
     "name": "stderr",
     "output_type": "stream",
     "text": [
      "Epoch 93: 100%|██████████| 3120/3120 [00:00<00:00, 101871.65it/s, loss=0.169, acc=0.958]\n",
      "Evaluating: 100%|██████████| 1040/1040 [00:00<00:00, 97485.28it/s]\n",
      "Evaluating: 100%|██████████| 1041/1041 [00:00<00:00, 102015.67it/s]\n"
     ]
    },
    {
     "name": "stdout",
     "output_type": "stream",
     "text": [
      "Epoch 93 Loss 0.000249, Train Acc 0.9593, Val Acc 0.3663, Test Acc 0.3708\n"
     ]
    },
    {
     "name": "stderr",
     "output_type": "stream",
     "text": [
      "Epoch 94: 100%|██████████| 3120/3120 [00:00<00:00, 99477.98it/s, loss=0.165, acc=0.958]\n",
      "Evaluating: 100%|██████████| 1040/1040 [00:00<00:00, 69948.78it/s]\n",
      "Evaluating: 100%|██████████| 1041/1041 [00:00<00:00, 98882.84it/s]\n"
     ]
    },
    {
     "name": "stdout",
     "output_type": "stream",
     "text": [
      "Epoch 94 Loss 0.000238, Train Acc 0.9660, Val Acc 0.3673, Test Acc 0.3670\n"
     ]
    },
    {
     "name": "stderr",
     "output_type": "stream",
     "text": [
      "Epoch 95: 100%|██████████| 3120/3120 [00:00<00:00, 96337.02it/s, loss=0.211, acc=0.958]\n",
      "Evaluating: 100%|██████████| 1040/1040 [00:00<00:00, 103661.51it/s]\n",
      "Evaluating: 100%|██████████| 1041/1041 [00:00<00:00, 96791.63it/s]\n"
     ]
    },
    {
     "name": "stdout",
     "output_type": "stream",
     "text": [
      "Epoch 95 Loss 0.000253, Train Acc 0.9641, Val Acc 0.3644, Test Acc 0.3670\n"
     ]
    },
    {
     "name": "stderr",
     "output_type": "stream",
     "text": [
      "Epoch 96: 100%|██████████| 3120/3120 [00:00<00:00, 98033.00it/s, loss=0.104, acc=1.000]\n",
      "Evaluating: 100%|██████████| 1040/1040 [00:00<00:00, 71973.14it/s]\n",
      "Evaluating: 100%|██████████| 1041/1041 [00:00<00:00, 102535.53it/s]\n"
     ]
    },
    {
     "name": "stdout",
     "output_type": "stream",
     "text": [
      "Epoch 96 Loss 0.000215, Train Acc 0.9663, Val Acc 0.3683, Test Acc 0.3737\n"
     ]
    },
    {
     "name": "stderr",
     "output_type": "stream",
     "text": [
      "Epoch 97: 100%|██████████| 3120/3120 [00:00<00:00, 101856.59it/s, loss=0.166, acc=0.958]\n",
      "Evaluating: 100%|██████████| 1040/1040 [00:00<00:00, 99250.88it/s]\n",
      "Evaluating: 100%|██████████| 1041/1041 [00:00<00:00, 96239.07it/s]\n"
     ]
    },
    {
     "name": "stdout",
     "output_type": "stream",
     "text": [
      "Epoch 97 Loss 0.000235, Train Acc 0.9641, Val Acc 0.3692, Test Acc 0.3535\n"
     ]
    },
    {
     "name": "stderr",
     "output_type": "stream",
     "text": [
      "Epoch 98: 100%|██████████| 3120/3120 [00:00<00:00, 95890.18it/s, loss=0.229, acc=0.958]\n",
      "Evaluating: 100%|██████████| 1040/1040 [00:00<00:00, 71349.20it/s]\n",
      "Evaluating: 100%|██████████| 1041/1041 [00:00<00:00, 98898.51it/s]\n"
     ]
    },
    {
     "name": "stdout",
     "output_type": "stream",
     "text": [
      "Epoch 98 Loss 0.000247, Train Acc 0.9679, Val Acc 0.3692, Test Acc 0.3564\n"
     ]
    },
    {
     "name": "stderr",
     "output_type": "stream",
     "text": [
      "Epoch 99: 100%|██████████| 3120/3120 [00:00<00:00, 104616.18it/s, loss=0.226, acc=0.938]\n",
      "Evaluating: 100%|██████████| 1040/1040 [00:00<00:00, 102886.43it/s]\n",
      "Evaluating: 100%|██████████| 1041/1041 [00:00<00:00, 92708.04it/s]\n"
     ]
    },
    {
     "name": "stdout",
     "output_type": "stream",
     "text": [
      "Epoch 99 Loss 0.000247, Train Acc 0.9673, Val Acc 0.3702, Test Acc 0.3670\n"
     ]
    },
    {
     "name": "stderr",
     "output_type": "stream",
     "text": [
      "Epoch 100: 100%|██████████| 3120/3120 [00:00<00:00, 103066.33it/s, loss=0.148, acc=0.979]\n",
      "Evaluating: 100%|██████████| 1040/1040 [00:00<00:00, 71589.25it/s]\n",
      "Evaluating: 100%|██████████| 1041/1041 [00:00<00:00, 107918.40it/s]\n"
     ]
    },
    {
     "name": "stdout",
     "output_type": "stream",
     "text": [
      "Epoch 100 Loss 0.000221, Train Acc 0.9692, Val Acc 0.3692, Test Acc 0.3468\n"
     ]
    },
    {
     "name": "stderr",
     "output_type": "stream",
     "text": [
      "Epoch 101: 100%|██████████| 3120/3120 [00:00<00:00, 106858.63it/s, loss=0.252, acc=0.917]\n",
      "Evaluating: 100%|██████████| 1040/1040 [00:00<00:00, 99214.76it/s]\n",
      "Evaluating: 100%|██████████| 1041/1041 [00:00<00:00, 102139.76it/s]\n"
     ]
    },
    {
     "name": "stdout",
     "output_type": "stream",
     "text": [
      "Epoch 101 Loss 0.000250, Train Acc 0.9692, Val Acc 0.3740, Test Acc 0.3689\n"
     ]
    },
    {
     "name": "stderr",
     "output_type": "stream",
     "text": [
      "Epoch 102: 100%|██████████| 3120/3120 [00:00<00:00, 99571.84it/s, loss=0.157, acc=1.000]\n",
      "Evaluating: 100%|██████████| 1040/1040 [00:00<00:00, 71631.57it/s]\n",
      "Evaluating: 100%|██████████| 1041/1041 [00:00<00:00, 97494.04it/s]\n"
     ]
    },
    {
     "name": "stdout",
     "output_type": "stream",
     "text": [
      "Epoch 102 Loss 0.000218, Train Acc 0.9708, Val Acc 0.3721, Test Acc 0.3612\n"
     ]
    },
    {
     "name": "stderr",
     "output_type": "stream",
     "text": [
      "Epoch 103: 100%|██████████| 3120/3120 [00:00<00:00, 103076.88it/s, loss=0.173, acc=0.958]\n",
      "Evaluating: 100%|██████████| 1040/1040 [00:00<00:00, 101318.75it/s]\n",
      "Evaluating: 100%|██████████| 1041/1041 [00:00<00:00, 107995.81it/s]\n"
     ]
    },
    {
     "name": "stdout",
     "output_type": "stream",
     "text": [
      "Epoch 103 Loss 0.000223, Train Acc 0.9679, Val Acc 0.3788, Test Acc 0.3679\n"
     ]
    },
    {
     "name": "stderr",
     "output_type": "stream",
     "text": [
      "Epoch 104: 100%|██████████| 3120/3120 [00:00<00:00, 107400.62it/s, loss=0.203, acc=0.958]\n",
      "Evaluating: 100%|██████████| 1040/1040 [00:00<00:00, 57036.26it/s]\n",
      "Evaluating: 100%|██████████| 1041/1041 [00:00<00:00, 103099.66it/s]\n"
     ]
    },
    {
     "name": "stdout",
     "output_type": "stream",
     "text": [
      "Epoch 104 Loss 0.000227, Train Acc 0.9702, Val Acc 0.3769, Test Acc 0.3794\n"
     ]
    },
    {
     "name": "stderr",
     "output_type": "stream",
     "text": [
      "Epoch 105: 100%|██████████| 3120/3120 [00:00<00:00, 104839.96it/s, loss=0.175, acc=0.958]\n",
      "Evaluating: 100%|██████████| 1040/1040 [00:00<00:00, 101977.23it/s]\n",
      "Evaluating: 100%|██████████| 1041/1041 [00:00<00:00, 100118.56it/s]\n"
     ]
    },
    {
     "name": "stdout",
     "output_type": "stream",
     "text": [
      "Epoch 105 Loss 0.000216, Train Acc 0.9718, Val Acc 0.3673, Test Acc 0.3708\n"
     ]
    },
    {
     "name": "stderr",
     "output_type": "stream",
     "text": [
      "Epoch 106: 100%|██████████| 3120/3120 [00:00<00:00, 101788.45it/s, loss=0.205, acc=0.917]\n",
      "Evaluating: 100%|██████████| 1040/1040 [00:00<00:00, 73741.02it/s]\n",
      "Evaluating: 100%|██████████| 1041/1041 [00:00<00:00, 110844.37it/s]\n"
     ]
    },
    {
     "name": "stdout",
     "output_type": "stream",
     "text": [
      "Epoch 106 Loss 0.000224, Train Acc 0.9718, Val Acc 0.3692, Test Acc 0.3573\n"
     ]
    },
    {
     "name": "stderr",
     "output_type": "stream",
     "text": [
      "Epoch 107: 100%|██████████| 3120/3120 [00:00<00:00, 100274.54it/s, loss=0.225, acc=0.979]\n",
      "Evaluating: 100%|██████████| 1040/1040 [00:00<00:00, 104196.35it/s]\n",
      "Evaluating: 100%|██████████| 1041/1041 [00:00<00:00, 110942.94it/s]\n"
     ]
    },
    {
     "name": "stdout",
     "output_type": "stream",
     "text": [
      "Epoch 107 Loss 0.000226, Train Acc 0.9734, Val Acc 0.3683, Test Acc 0.3660\n"
     ]
    },
    {
     "name": "stderr",
     "output_type": "stream",
     "text": [
      "Epoch 108: 100%|██████████| 3120/3120 [00:00<00:00, 108986.51it/s, loss=0.221, acc=0.958]\n",
      "Evaluating: 100%|██████████| 1040/1040 [00:00<00:00, 61628.65it/s]\n",
      "Evaluating: 100%|██████████| 1041/1041 [00:00<00:00, 102451.32it/s]\n"
     ]
    },
    {
     "name": "stdout",
     "output_type": "stream",
     "text": [
      "Epoch 108 Loss 0.000227, Train Acc 0.9728, Val Acc 0.3692, Test Acc 0.3554\n"
     ]
    },
    {
     "name": "stderr",
     "output_type": "stream",
     "text": [
      "Epoch 109: 100%|██████████| 3120/3120 [00:00<00:00, 101973.26it/s, loss=0.217, acc=0.958]\n",
      "Evaluating: 100%|██████████| 1040/1040 [00:00<00:00, 102405.77it/s]\n",
      "Evaluating: 100%|██████████| 1041/1041 [00:00<00:00, 100749.24it/s]\n"
     ]
    },
    {
     "name": "stdout",
     "output_type": "stream",
     "text": [
      "Epoch 109 Loss 0.000223, Train Acc 0.9734, Val Acc 0.3663, Test Acc 0.3564\n"
     ]
    },
    {
     "name": "stderr",
     "output_type": "stream",
     "text": [
      "Epoch 110: 100%|██████████| 3120/3120 [00:00<00:00, 106259.06it/s, loss=0.232, acc=0.896]\n",
      "Evaluating: 100%|██████████| 1040/1040 [00:00<00:00, 57016.13it/s]\n",
      "Evaluating: 100%|██████████| 1041/1041 [00:00<00:00, 108543.49it/s]\n"
     ]
    },
    {
     "name": "stdout",
     "output_type": "stream",
     "text": [
      "Epoch 110 Loss 0.000225, Train Acc 0.9724, Val Acc 0.3702, Test Acc 0.3612\n"
     ]
    },
    {
     "name": "stderr",
     "output_type": "stream",
     "text": [
      "Epoch 111: 100%|██████████| 3120/3120 [00:00<00:00, 99457.56it/s, loss=0.108, acc=0.979]\n",
      "Evaluating: 100%|██████████| 1040/1040 [00:00<00:00, 106740.96it/s]\n",
      "Evaluating: 100%|██████████| 1041/1041 [00:00<00:00, 105115.09it/s]\n"
     ]
    },
    {
     "name": "stdout",
     "output_type": "stream",
     "text": [
      "Epoch 111 Loss 0.000185, Train Acc 0.9744, Val Acc 0.3702, Test Acc 0.3612\n"
     ]
    },
    {
     "name": "stderr",
     "output_type": "stream",
     "text": [
      "Epoch 112: 100%|██████████| 3120/3120 [00:00<00:00, 105481.36it/s, loss=0.076, acc=1.000]\n",
      "Evaluating: 100%|██████████| 1040/1040 [00:00<00:00, 73497.49it/s]\n",
      "Evaluating: 100%|██████████| 1041/1041 [00:00<00:00, 108928.01it/s]\n"
     ]
    },
    {
     "name": "stdout",
     "output_type": "stream",
     "text": [
      "Epoch 112 Loss 0.000172, Train Acc 0.9731, Val Acc 0.3625, Test Acc 0.3545\n"
     ]
    },
    {
     "name": "stderr",
     "output_type": "stream",
     "text": [
      "Epoch 113: 100%|██████████| 3120/3120 [00:00<00:00, 109863.98it/s, loss=0.194, acc=0.958]\n",
      "Evaluating: 100%|██████████| 1040/1040 [00:00<00:00, 109259.50it/s]\n",
      "Evaluating: 100%|██████████| 1041/1041 [00:00<00:00, 104092.65it/s]\n"
     ]
    },
    {
     "name": "stdout",
     "output_type": "stream",
     "text": [
      "Epoch 113 Loss 0.000205, Train Acc 0.9753, Val Acc 0.3625, Test Acc 0.3602\n"
     ]
    },
    {
     "name": "stderr",
     "output_type": "stream",
     "text": [
      "Epoch 114: 100%|██████████| 3120/3120 [00:00<00:00, 109183.83it/s, loss=0.112, acc=1.000]\n",
      "Evaluating: 100%|██████████| 1040/1040 [00:00<00:00, 77233.59it/s]\n",
      "Evaluating: 100%|██████████| 1041/1041 [00:00<00:00, 112605.30it/s]\n"
     ]
    },
    {
     "name": "stdout",
     "output_type": "stream",
     "text": [
      "Epoch 114 Loss 0.000182, Train Acc 0.9750, Val Acc 0.3654, Test Acc 0.3660\n"
     ]
    },
    {
     "name": "stderr",
     "output_type": "stream",
     "text": [
      "Epoch 115: 100%|██████████| 3120/3120 [00:00<00:00, 112566.80it/s, loss=0.204, acc=0.979]\n",
      "Evaluating: 100%|██████████| 1040/1040 [00:00<00:00, 110186.83it/s]\n",
      "Evaluating: 100%|██████████| 1041/1041 [00:00<00:00, 112266.54it/s]\n"
     ]
    },
    {
     "name": "stdout",
     "output_type": "stream",
     "text": [
      "Epoch 115 Loss 0.000207, Train Acc 0.9744, Val Acc 0.3635, Test Acc 0.3622\n"
     ]
    },
    {
     "name": "stderr",
     "output_type": "stream",
     "text": [
      "Epoch 116: 100%|██████████| 3120/3120 [00:00<00:00, 104158.20it/s, loss=0.111, acc=0.979]\n",
      "Evaluating: 100%|██████████| 1040/1040 [00:00<00:00, 74358.22it/s]\n",
      "Evaluating: 100%|██████████| 1041/1041 [00:00<00:00, 105084.73it/s]\n"
     ]
    },
    {
     "name": "stdout",
     "output_type": "stream",
     "text": [
      "Epoch 116 Loss 0.000177, Train Acc 0.9766, Val Acc 0.3692, Test Acc 0.3650\n"
     ]
    },
    {
     "name": "stderr",
     "output_type": "stream",
     "text": [
      "Epoch 117: 100%|██████████| 3120/3120 [00:00<00:00, 106554.10it/s, loss=0.113, acc=0.979]\n",
      "Evaluating: 100%|██████████| 1040/1040 [00:00<00:00, 104019.94it/s]\n",
      "Evaluating: 100%|██████████| 1041/1041 [00:00<00:00, 110398.75it/s]\n"
     ]
    },
    {
     "name": "stdout",
     "output_type": "stream",
     "text": [
      "Epoch 117 Loss 0.000174, Train Acc 0.9747, Val Acc 0.3683, Test Acc 0.3689\n"
     ]
    },
    {
     "name": "stderr",
     "output_type": "stream",
     "text": [
      "Epoch 118: 100%|██████████| 3120/3120 [00:00<00:00, 111229.22it/s, loss=0.163, acc=0.979]\n",
      "Evaluating: 100%|██████████| 1040/1040 [00:00<00:00, 75052.93it/s]\n",
      "Evaluating: 100%|██████████| 1041/1041 [00:00<00:00, 105198.66it/s]\n"
     ]
    },
    {
     "name": "stdout",
     "output_type": "stream",
     "text": [
      "Epoch 118 Loss 0.000190, Train Acc 0.9731, Val Acc 0.3635, Test Acc 0.3612\n"
     ]
    },
    {
     "name": "stderr",
     "output_type": "stream",
     "text": [
      "Epoch 119: 100%|██████████| 3120/3120 [00:00<00:00, 105113.65it/s, loss=0.187, acc=0.979]\n",
      "Evaluating: 100%|██████████| 1040/1040 [00:00<00:00, 102422.60it/s]\n",
      "Evaluating: 100%|██████████| 1041/1041 [00:00<00:00, 103798.18it/s]\n"
     ]
    },
    {
     "name": "stdout",
     "output_type": "stream",
     "text": [
      "Epoch 119 Loss 0.000195, Train Acc 0.9737, Val Acc 0.3692, Test Acc 0.3641\n"
     ]
    },
    {
     "name": "stderr",
     "output_type": "stream",
     "text": [
      "Epoch 120: 100%|██████████| 3120/3120 [00:00<00:00, 104285.20it/s, loss=0.121, acc=0.979]\n",
      "Evaluating: 100%|██████████| 1040/1040 [00:00<00:00, 77852.51it/s]\n",
      "Evaluating: 100%|██████████| 1041/1041 [00:00<00:00, 105559.81it/s]\n"
     ]
    },
    {
     "name": "stdout",
     "output_type": "stream",
     "text": [
      "Epoch 120 Loss 0.000173, Train Acc 0.9753, Val Acc 0.3692, Test Acc 0.3641\n"
     ]
    },
    {
     "name": "stderr",
     "output_type": "stream",
     "text": [
      "Epoch 121: 100%|██████████| 3120/3120 [00:00<00:00, 111229.22it/s, loss=0.175, acc=0.958]\n",
      "Evaluating: 100%|██████████| 1040/1040 [00:00<00:00, 109341.66it/s]\n",
      "Evaluating: 100%|██████████| 1041/1041 [00:00<00:00, 97084.33it/s]\n"
     ]
    },
    {
     "name": "stdout",
     "output_type": "stream",
     "text": [
      "Epoch 121 Loss 0.000188, Train Acc 0.9756, Val Acc 0.3683, Test Acc 0.3583\n"
     ]
    },
    {
     "name": "stderr",
     "output_type": "stream",
     "text": [
      "Epoch 122: 100%|██████████| 3120/3120 [00:00<00:00, 111027.26it/s, loss=0.131, acc=0.979]\n",
      "Evaluating: 100%|██████████| 1040/1040 [00:00<00:00, 75973.18it/s]\n",
      "Evaluating: 100%|██████████| 1041/1041 [00:00<00:00, 105843.85it/s]\n"
     ]
    },
    {
     "name": "stdout",
     "output_type": "stream",
     "text": [
      "Epoch 122 Loss 0.000173, Train Acc 0.9779, Val Acc 0.3625, Test Acc 0.3641\n"
     ]
    },
    {
     "name": "stderr",
     "output_type": "stream",
     "text": [
      "Epoch 123: 100%|██████████| 3120/3120 [00:00<00:00, 106618.34it/s, loss=0.202, acc=0.917]\n",
      "Evaluating: 100%|██████████| 1040/1040 [00:00<00:00, 104266.09it/s]\n",
      "Evaluating: 100%|██████████| 1041/1041 [00:00<00:00, 107859.75it/s]\n"
     ]
    },
    {
     "name": "stdout",
     "output_type": "stream",
     "text": [
      "Epoch 123 Loss 0.000194, Train Acc 0.9763, Val Acc 0.3615, Test Acc 0.3766\n"
     ]
    },
    {
     "name": "stderr",
     "output_type": "stream",
     "text": [
      "Epoch 124: 100%|██████████| 3120/3120 [00:00<00:00, 107043.06it/s, loss=0.135, acc=1.000]\n",
      "Evaluating: 100%|██████████| 1040/1040 [00:00<00:00, 74656.01it/s]\n",
      "Evaluating: 100%|██████████| 1041/1041 [00:00<00:00, 113145.13it/s]\n"
     ]
    },
    {
     "name": "stdout",
     "output_type": "stream",
     "text": [
      "Epoch 124 Loss 0.000169, Train Acc 0.9804, Val Acc 0.3692, Test Acc 0.3554\n"
     ]
    },
    {
     "name": "stderr",
     "output_type": "stream",
     "text": [
      "Epoch 125: 100%|██████████| 3120/3120 [00:00<00:00, 111635.33it/s, loss=0.165, acc=0.979]\n",
      "Evaluating: 100%|██████████| 1040/1040 [00:00<00:00, 111008.43it/s]\n",
      "Evaluating: 100%|██████████| 1041/1041 [00:00<00:00, 114321.22it/s]\n"
     ]
    },
    {
     "name": "stdout",
     "output_type": "stream",
     "text": [
      "Epoch 125 Loss 0.000178, Train Acc 0.9792, Val Acc 0.3615, Test Acc 0.3641\n"
     ]
    },
    {
     "name": "stderr",
     "output_type": "stream",
     "text": [
      "Epoch 126: 100%|██████████| 3120/3120 [00:00<00:00, 114853.94it/s, loss=0.156, acc=0.958]\n",
      "Evaluating: 100%|██████████| 1040/1040 [00:00<00:00, 82588.49it/s]\n",
      "Evaluating: 100%|██████████| 1041/1041 [00:00<00:00, 93496.16it/s]\n"
     ]
    },
    {
     "name": "stdout",
     "output_type": "stream",
     "text": [
      "Epoch 126 Loss 0.000175, Train Acc 0.9798, Val Acc 0.3577, Test Acc 0.3583\n"
     ]
    },
    {
     "name": "stderr",
     "output_type": "stream",
     "text": [
      "Epoch 127: 100%|██████████| 3120/3120 [00:00<00:00, 110911.52it/s, loss=0.132, acc=0.979]\n",
      "Evaluating: 100%|██████████| 1040/1040 [00:00<00:00, 103312.87it/s]\n",
      "Evaluating: 100%|██████████| 1041/1041 [00:00<00:00, 106307.71it/s]\n"
     ]
    },
    {
     "name": "stdout",
     "output_type": "stream",
     "text": [
      "Epoch 127 Loss 0.000164, Train Acc 0.9795, Val Acc 0.3596, Test Acc 0.3564\n"
     ]
    },
    {
     "name": "stderr",
     "output_type": "stream",
     "text": [
      "Epoch 128: 100%|██████████| 3120/3120 [00:00<00:00, 112376.37it/s, loss=0.129, acc=0.979]\n",
      "Evaluating: 100%|██████████| 1040/1040 [00:00<00:00, 74864.86it/s]\n",
      "Evaluating: 100%|██████████| 1041/1041 [00:00<00:00, 106486.61it/s]\n"
     ]
    },
    {
     "name": "stdout",
     "output_type": "stream",
     "text": [
      "Epoch 128 Loss 0.000163, Train Acc 0.9824, Val Acc 0.3654, Test Acc 0.3593\n"
     ]
    },
    {
     "name": "stderr",
     "output_type": "stream",
     "text": [
      "Epoch 129: 100%|██████████| 3120/3120 [00:00<00:00, 103801.29it/s, loss=0.145, acc=0.979]\n",
      "Evaluating: 100%|██████████| 1040/1040 [00:00<00:00, 106288.41it/s]\n",
      "Evaluating: 100%|██████████| 1041/1041 [00:00<00:00, 110647.74it/s]\n"
     ]
    },
    {
     "name": "stdout",
     "output_type": "stream",
     "text": [
      "Epoch 129 Loss 0.000164, Train Acc 0.9811, Val Acc 0.3702, Test Acc 0.3660\n"
     ]
    },
    {
     "name": "stderr",
     "output_type": "stream",
     "text": [
      "Epoch 130: 100%|██████████| 3120/3120 [00:00<00:00, 112605.55it/s, loss=0.114, acc=0.979]\n",
      "Evaluating: 100%|██████████| 1040/1040 [00:00<00:00, 78553.51it/s]\n",
      "Evaluating: 100%|██████████| 1041/1041 [00:00<00:00, 102523.49it/s]\n"
     ]
    },
    {
     "name": "stdout",
     "output_type": "stream",
     "text": [
      "Epoch 130 Loss 0.000155, Train Acc 0.9788, Val Acc 0.3702, Test Acc 0.3622\n"
     ]
    },
    {
     "name": "stderr",
     "output_type": "stream",
     "text": [
      "Epoch 131: 100%|██████████| 3120/3120 [00:00<00:00, 72082.16it/s, loss=0.078, acc=0.979]\n",
      "Evaluating: 100%|██████████| 1040/1040 [00:00<00:00, 93000.09it/s]\n",
      "Evaluating: 100%|██████████| 1041/1041 [00:00<00:00, 99969.56it/s]\n"
     ]
    },
    {
     "name": "stdout",
     "output_type": "stream",
     "text": [
      "Epoch 131 Loss 0.000145, Train Acc 0.9795, Val Acc 0.3673, Test Acc 0.3622\n"
     ]
    },
    {
     "name": "stderr",
     "output_type": "stream",
     "text": [
      "Epoch 132: 100%|██████████| 3120/3120 [00:00<00:00, 93364.36it/s, loss=0.180, acc=0.979]\n",
      "Evaluating: 100%|██████████| 1040/1040 [00:00<00:00, 88829.80it/s]\n",
      "Evaluating: 100%|██████████| 1041/1041 [00:00<00:00, 63086.37it/s]\n"
     ]
    },
    {
     "name": "stdout",
     "output_type": "stream",
     "text": [
      "Epoch 132 Loss 0.000172, Train Acc 0.9801, Val Acc 0.3663, Test Acc 0.3535\n"
     ]
    },
    {
     "name": "stderr",
     "output_type": "stream",
     "text": [
      "Epoch 133: 100%|██████████| 3120/3120 [00:00<00:00, 84694.48it/s, loss=0.157, acc=0.979]\n",
      "Evaluating: 100%|██████████| 1040/1040 [00:00<00:00, 83175.89it/s]\n",
      "Evaluating: 100%|██████████| 1041/1041 [00:00<00:00, 88084.70it/s]\n"
     ]
    },
    {
     "name": "stdout",
     "output_type": "stream",
     "text": [
      "Epoch 133 Loss 0.000161, Train Acc 0.9830, Val Acc 0.3644, Test Acc 0.3545\n"
     ]
    },
    {
     "name": "stderr",
     "output_type": "stream",
     "text": [
      "Epoch 134: 100%|██████████| 3120/3120 [00:00<00:00, 84033.14it/s, loss=0.147, acc=1.000]\n",
      "Evaluating: 100%|██████████| 1040/1040 [00:00<00:00, 93049.68it/s]\n",
      "Evaluating: 100%|██████████| 1041/1041 [00:00<00:00, 96718.73it/s]\n"
     ]
    },
    {
     "name": "stdout",
     "output_type": "stream",
     "text": [
      "Epoch 134 Loss 0.000160, Train Acc 0.9814, Val Acc 0.3615, Test Acc 0.3660\n"
     ]
    },
    {
     "name": "stderr",
     "output_type": "stream",
     "text": [
      "Epoch 135: 100%|██████████| 3120/3120 [00:00<00:00, 87903.14it/s, loss=0.118, acc=0.979]\n",
      "Evaluating: 100%|██████████| 1040/1040 [00:00<00:00, 95325.09it/s]\n",
      "Evaluating: 100%|██████████| 1041/1041 [00:00<00:00, 86794.23it/s]\n"
     ]
    },
    {
     "name": "stdout",
     "output_type": "stream",
     "text": [
      "Epoch 135 Loss 0.000151, Train Acc 0.9801, Val Acc 0.3596, Test Acc 0.3650\n"
     ]
    },
    {
     "name": "stderr",
     "output_type": "stream",
     "text": [
      "Epoch 136: 100%|██████████| 3120/3120 [00:00<00:00, 76173.07it/s, loss=0.089, acc=0.979]\n",
      "Evaluating: 100%|██████████| 1040/1040 [00:00<00:00, 83055.52it/s]\n",
      "Evaluating: 100%|██████████| 1041/1041 [00:00<00:00, 85325.38it/s]\n"
     ]
    },
    {
     "name": "stdout",
     "output_type": "stream",
     "text": [
      "Epoch 136 Loss 0.000143, Train Acc 0.9788, Val Acc 0.3644, Test Acc 0.3573\n"
     ]
    },
    {
     "name": "stderr",
     "output_type": "stream",
     "text": [
      "Epoch 137: 100%|██████████| 3120/3120 [00:00<00:00, 87753.42it/s, loss=0.129, acc=0.979]\n",
      "Evaluating: 100%|██████████| 1040/1040 [00:00<00:00, 94000.13it/s]\n",
      "Evaluating: 100%|██████████| 1041/1041 [00:00<00:00, 96757.31it/s]\n"
     ]
    },
    {
     "name": "stdout",
     "output_type": "stream",
     "text": [
      "Epoch 137 Loss 0.000150, Train Acc 0.9814, Val Acc 0.3721, Test Acc 0.3554\n"
     ]
    },
    {
     "name": "stderr",
     "output_type": "stream",
     "text": [
      "Epoch 138: 100%|██████████| 3120/3120 [00:00<00:00, 96729.39it/s, loss=0.072, acc=0.979]\n",
      "Evaluating: 100%|██████████| 1040/1040 [00:00<00:00, 71817.91it/s]\n",
      "Evaluating: 100%|██████████| 1041/1041 [00:00<00:00, 46896.70it/s]\n"
     ]
    },
    {
     "name": "stdout",
     "output_type": "stream",
     "text": [
      "Epoch 138 Loss 0.000135, Train Acc 0.9804, Val Acc 0.3740, Test Acc 0.3583\n"
     ]
    },
    {
     "name": "stderr",
     "output_type": "stream",
     "text": [
      "Epoch 139: 100%|██████████| 3120/3120 [00:00<00:00, 92560.02it/s, loss=0.070, acc=0.979]\n",
      "Evaluating: 100%|██████████| 1040/1040 [00:00<00:00, 94292.73it/s]\n",
      "Evaluating: 100%|██████████| 1041/1041 [00:00<00:00, 105807.94it/s]\n"
     ]
    },
    {
     "name": "stdout",
     "output_type": "stream",
     "text": [
      "Epoch 139 Loss 0.000128, Train Acc 0.9830, Val Acc 0.3519, Test Acc 0.3573\n"
     ]
    },
    {
     "name": "stderr",
     "output_type": "stream",
     "text": [
      "Epoch 140: 100%|██████████| 3120/3120 [00:00<00:00, 103211.02it/s, loss=0.090, acc=1.000]\n",
      "Evaluating: 100%|██████████| 1040/1040 [00:00<00:00, 99411.48it/s]\n",
      "Evaluating: 100%|██████████| 1041/1041 [00:00<00:00, 78451.03it/s]\n"
     ]
    },
    {
     "name": "stdout",
     "output_type": "stream",
     "text": [
      "Epoch 140 Loss 0.000132, Train Acc 0.9843, Val Acc 0.3654, Test Acc 0.3622\n"
     ]
    },
    {
     "name": "stderr",
     "output_type": "stream",
     "text": [
      "Epoch 141: 100%|██████████| 3120/3120 [00:00<00:00, 94803.70it/s, loss=0.076, acc=0.979]\n",
      "Evaluating: 100%|██████████| 1040/1040 [00:00<00:00, 90804.70it/s]\n",
      "Evaluating: 100%|██████████| 1041/1041 [00:00<00:00, 99672.89it/s]\n"
     ]
    },
    {
     "name": "stdout",
     "output_type": "stream",
     "text": [
      "Epoch 141 Loss 0.000130, Train Acc 0.9830, Val Acc 0.3567, Test Acc 0.3468\n"
     ]
    },
    {
     "name": "stderr",
     "output_type": "stream",
     "text": [
      "Epoch 142: 100%|██████████| 3120/3120 [00:00<00:00, 88991.69it/s, loss=0.067, acc=1.000]\n",
      "Evaluating: 100%|██████████| 1040/1040 [00:00<00:00, 49364.86it/s]\n",
      "Evaluating: 100%|██████████| 1041/1041 [00:00<00:00, 91701.40it/s]\n"
     ]
    },
    {
     "name": "stdout",
     "output_type": "stream",
     "text": [
      "Epoch 142 Loss 0.000125, Train Acc 0.9833, Val Acc 0.3606, Test Acc 0.3602\n"
     ]
    },
    {
     "name": "stderr",
     "output_type": "stream",
     "text": [
      "Epoch 143: 100%|██████████| 3120/3120 [00:00<00:00, 99085.55it/s, loss=0.140, acc=1.000]\n",
      "Evaluating: 100%|██████████| 1040/1040 [00:00<00:00, 95337.59it/s]\n",
      "Evaluating: 100%|██████████| 1041/1041 [00:00<00:00, 96226.35it/s]\n"
     ]
    },
    {
     "name": "stdout",
     "output_type": "stream",
     "text": [
      "Epoch 143 Loss 0.000147, Train Acc 0.9827, Val Acc 0.3635, Test Acc 0.3631\n"
     ]
    },
    {
     "name": "stderr",
     "output_type": "stream",
     "text": [
      "Epoch 144: 100%|██████████| 3120/3120 [00:00<00:00, 85842.29it/s, loss=0.093, acc=0.979]\n",
      "Evaluating: 100%|██████████| 1040/1040 [00:00<00:00, 93939.40it/s]\n",
      "Evaluating: 100%|██████████| 1041/1041 [00:00<00:00, 96228.47it/s]\n"
     ]
    },
    {
     "name": "stdout",
     "output_type": "stream",
     "text": [
      "Epoch 144 Loss 0.000133, Train Acc 0.9830, Val Acc 0.3644, Test Acc 0.3612\n"
     ]
    },
    {
     "name": "stderr",
     "output_type": "stream",
     "text": [
      "Epoch 145: 100%|██████████| 3120/3120 [00:00<00:00, 97786.13it/s, loss=0.083, acc=1.000]\n",
      "Evaluating: 100%|██████████| 1040/1040 [00:00<00:00, 95048.83it/s]\n",
      "Evaluating: 100%|██████████| 1041/1041 [00:00<00:00, 100972.91it/s]\n"
     ]
    },
    {
     "name": "stdout",
     "output_type": "stream",
     "text": [
      "Epoch 145 Loss 0.000126, Train Acc 0.9849, Val Acc 0.3712, Test Acc 0.3622\n"
     ]
    },
    {
     "name": "stderr",
     "output_type": "stream",
     "text": [
      "Epoch 146: 100%|██████████| 3120/3120 [00:00<00:00, 93738.21it/s, loss=0.086, acc=0.979]\n",
      "Evaluating: 100%|██████████| 1040/1040 [00:00<00:00, 99965.08it/s]\n",
      "Evaluating: 100%|██████████| 1041/1041 [00:00<00:00, 93548.24it/s]\n"
     ]
    },
    {
     "name": "stdout",
     "output_type": "stream",
     "text": [
      "Epoch 146 Loss 0.000125, Train Acc 0.9846, Val Acc 0.3673, Test Acc 0.3660\n"
     ]
    },
    {
     "name": "stderr",
     "output_type": "stream",
     "text": [
      "Epoch 147: 100%|██████████| 3120/3120 [00:00<00:00, 101383.12it/s, loss=0.201, acc=0.958]\n",
      "Evaluating: 100%|██████████| 1040/1040 [00:00<00:00, 98090.31it/s]\n",
      "Evaluating: 100%|██████████| 1041/1041 [00:00<00:00, 78664.45it/s]\n"
     ]
    },
    {
     "name": "stdout",
     "output_type": "stream",
     "text": [
      "Epoch 147 Loss 0.000161, Train Acc 0.9837, Val Acc 0.3663, Test Acc 0.3698\n"
     ]
    },
    {
     "name": "stderr",
     "output_type": "stream",
     "text": [
      "Epoch 148: 100%|██████████| 3120/3120 [00:00<00:00, 98920.77it/s, loss=0.064, acc=1.000]\n",
      "Evaluating: 100%|██████████| 1040/1040 [00:00<00:00, 91348.55it/s]\n",
      "Evaluating: 100%|██████████| 1041/1041 [00:00<00:00, 98412.57it/s]\n"
     ]
    },
    {
     "name": "stdout",
     "output_type": "stream",
     "text": [
      "Epoch 148 Loss 0.000117, Train Acc 0.9853, Val Acc 0.3692, Test Acc 0.3641\n"
     ]
    },
    {
     "name": "stderr",
     "output_type": "stream",
     "text": [
      "Epoch 149: 100%|██████████| 3120/3120 [00:00<00:00, 98676.86it/s, loss=0.077, acc=1.000]\n",
      "Evaluating: 100%|██████████| 1040/1040 [00:00<00:00, 72198.29it/s]\n",
      "Evaluating: 100%|██████████| 1041/1041 [00:00<00:00, 100100.20it/s]\n"
     ]
    },
    {
     "name": "stdout",
     "output_type": "stream",
     "text": [
      "Epoch 149 Loss 0.000121, Train Acc 0.9830, Val Acc 0.3635, Test Acc 0.3679\n",
      "Best Validation Accuracy:  0.3855769230769231\n"
     ]
    },
    {
     "name": "stderr",
     "output_type": "stream",
     "text": [
      "Evaluating: 100%|██████████| 1041/1041 [00:00<00:00, 101879.98it/s]"
     ]
    },
    {
     "name": "stdout",
     "output_type": "stream",
     "text": [
      "Test Accuracy:  0.3855769230769231\n"
     ]
    },
    {
     "name": "stderr",
     "output_type": "stream",
     "text": [
      "\n"
     ]
    },
    {
     "data": {
      "text/plain": [
       "0.36023054755043227"
      ]
     },
     "execution_count": 47,
     "metadata": {},
     "output_type": "execute_result"
    }
   ],
   "source": [
    "LOG_INFO = True\n",
    "acc = train(150)\n",
    "acc"
   ]
  },
  {
   "cell_type": "code",
   "execution_count": null,
   "id": "d84add07",
   "metadata": {},
   "outputs": [],
   "source": []
  },
  {
   "cell_type": "code",
   "execution_count": null,
   "id": "2cadbbf6",
   "metadata": {},
   "outputs": [],
   "source": []
  },
  {
   "cell_type": "code",
   "execution_count": null,
   "id": "0abb8393",
   "metadata": {},
   "outputs": [],
   "source": []
  }
 ],
 "metadata": {
  "kernelspec": {
   "display_name": "Python (My py311cu117pyg200 Kernel)",
   "language": "python",
   "name": "py311cu117pyg200"
  },
  "language_info": {
   "codemirror_mode": {
    "name": "ipython",
    "version": 3
   },
   "file_extension": ".py",
   "mimetype": "text/x-python",
   "name": "python",
   "nbconvert_exporter": "python",
   "pygments_lexer": "ipython3",
   "version": "3.11.4"
  }
 },
 "nbformat": 4,
 "nbformat_minor": 5
}
