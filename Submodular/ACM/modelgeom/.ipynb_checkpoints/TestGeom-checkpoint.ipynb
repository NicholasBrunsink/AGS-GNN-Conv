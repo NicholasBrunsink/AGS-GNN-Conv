{
 "cells": [
  {
   "cell_type": "code",
   "execution_count": 1,
   "id": "027e8fb8",
   "metadata": {},
   "outputs": [],
   "source": [
    "import layers\n",
    "from models import GCN\n",
    "import torch"
   ]
  },
  {
   "cell_type": "code",
   "execution_count": 2,
   "id": "41916f4e",
   "metadata": {},
   "outputs": [],
   "source": [
    "import numpy as np\n",
    "import scipy.sparse as sp\n",
    "from torch_geometric.utils.convert import to_scipy_sparse_matrix\n",
    "\n",
    "def normalize_tensor(mx, eqvar = None):\n",
    "    \"\"\"Row-normalize sparse matrix\"\"\"\n",
    "    mx = sp.csr_matrix(mx)\n",
    "    rowsum = np.array(mx.sum(1))\n",
    "    if eqvar:\n",
    "        r_inv = np.power(rowsum, -1.0/eqvar).flatten()\n",
    "        r_inv[np.isinf(r_inv)] = 0.\n",
    "        r_mat_inv = sp.diags(r_inv, 0)\n",
    "        mx = r_mat_inv.dot(mx)    \n",
    "    else:\n",
    "        r_inv = np.power(rowsum, -1.0).flatten()\n",
    "        r_inv[np.isinf(r_inv)] = 0.\n",
    "        r_mat_inv = sp.diags(r_inv, 0)\n",
    "        mx = r_mat_inv.dot(mx)\n",
    "    return mx\n",
    "\n",
    "def sparse_mx_to_torch_sparse_tensor(sparse_mx):\n",
    "    \"\"\"Convert a scipy sparse matrix to a torch sparse tensor.\"\"\"\n",
    "    sparse_mx = sparse_mx.tocoo().astype(np.float32)\n",
    "    indices = torch.from_numpy(\n",
    "        np.vstack((sparse_mx.row, sparse_mx.col)).astype(np.int64))\n",
    "    values = torch.from_numpy(sparse_mx.data)\n",
    "    shape = torch.Size(sparse_mx.shape)\n",
    "    return torch.sparse.FloatTensor(indices, values, shape)"
   ]
  },
  {
   "cell_type": "code",
   "execution_count": 3,
   "id": "837395d4",
   "metadata": {},
   "outputs": [],
   "source": [
    "n = 7\n",
    "x = torch.Tensor([[1,0],[1,0],[1,0],[0,1],[0,1],[0,1],[0,1]])\n",
    "y = torch.LongTensor([0,0,0, 1, 1, 1, 1])\n",
    "edge_index = torch.LongTensor([[1,2],[1,4],[1,5],[2,1],[3,6],[3,7],[4,5],[4,1],[4,6],[4,7],[5,1],[5,4],[5,6],[6,3],[6,4],[6,5],[6,7],[7,3],[7,4],[7,6]]).T\n",
    "edge_index = edge_index-1"
   ]
  },
  {
   "cell_type": "code",
   "execution_count": 4,
   "id": "95de2d3f",
   "metadata": {},
   "outputs": [
    {
     "data": {
      "text/plain": [
       "GCN(\n",
       "  (gcns): ModuleList(\n",
       "    (0): GraphConvolution (2 -> 2)\n",
       "    (1): GraphConvolution (2 -> 2)\n",
       "  )\n",
       "  (mlps): ModuleList()\n",
       ")"
      ]
     },
     "execution_count": 4,
     "metadata": {},
     "output_type": "execute_result"
    }
   ],
   "source": [
    "model  = GCN(nfeat =2,\n",
    "             nhid = 2, \n",
    "             nclass = 2, \n",
    "             nlayers =2, \n",
    "             nnodes = 7,\n",
    "             dropout = 0.2,\n",
    "             model_type = 'acmgcn', \n",
    "             structure_info=0, \n",
    "             variant=False)\n",
    "model.to('cpu')"
   ]
  },
  {
   "cell_type": "code",
   "execution_count": 5,
   "id": "fcd4245a",
   "metadata": {},
   "outputs": [],
   "source": [
    "device = 'cpu'\n",
    "\n",
    "x.to(device)\n",
    "adj_low_unnormalized = to_scipy_sparse_matrix(edge_index)\n",
    "adj_low = normalize_tensor(sp.identity(n) + adj_low_unnormalized)\n",
    "adj_high = sp.identity(n) - adj_low\n",
    "adj_low = sparse_mx_to_torch_sparse_tensor(adj_low).to(device)\n",
    "adj_high = sparse_mx_to_torch_sparse_tensor(adj_high).to(device)\n",
    "adj_low_unnormalized = sparse_mx_to_torch_sparse_tensor(adj_low_unnormalized).to(device)"
   ]
  },
  {
   "cell_type": "code",
   "execution_count": 6,
   "id": "242d31ce",
   "metadata": {},
   "outputs": [
    {
     "data": {
      "text/plain": [
       "tensor([[0.3120, 0.0000],\n",
       "        [0.0493, 0.4625],\n",
       "        [0.5922, 0.0599],\n",
       "        [0.0261, 0.3692],\n",
       "        [0.0000, 0.3466],\n",
       "        [0.0000, 0.0000],\n",
       "        [0.0000, 0.0196]], grad_fn=<MulBackward0>)"
      ]
     },
     "execution_count": 6,
     "metadata": {},
     "output_type": "execute_result"
    }
   ],
   "source": [
    "model(x, adj_low, adj_high, adj_low_unnormalized)"
   ]
  },
  {
   "cell_type": "code",
   "execution_count": null,
   "id": "0e732402",
   "metadata": {},
   "outputs": [],
   "source": []
  }
 ],
 "metadata": {
  "kernelspec": {
   "display_name": "py38cu11",
   "language": "python",
   "name": "py38cu11"
  },
  "language_info": {
   "codemirror_mode": {
    "name": "ipython",
    "version": 3
   },
   "file_extension": ".py",
   "mimetype": "text/x-python",
   "name": "python",
   "nbconvert_exporter": "python",
   "pygments_lexer": "ipython3",
   "version": "3.8.13"
  }
 },
 "nbformat": 4,
 "nbformat_minor": 5
}
