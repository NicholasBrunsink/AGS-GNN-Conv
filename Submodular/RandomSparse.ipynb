{
 "cells": [
  {
   "cell_type": "markdown",
   "id": "3bffbb0c",
   "metadata": {},
   "source": [
    "# Test Dataset to check"
   ]
  },
  {
   "cell_type": "code",
   "execution_count": 1,
   "id": "c466d5be",
   "metadata": {},
   "outputs": [],
   "source": [
    "import multiprocessing\n",
    "NUM_PROCESSORS=multiprocessing.cpu_count()\n",
    "# print(\"Cpu count: \",NUM_PROCESSORS)"
   ]
  },
  {
   "cell_type": "code",
   "execution_count": 2,
   "id": "2b785488",
   "metadata": {},
   "outputs": [],
   "source": [
    "#as it turned out interactive shell (like Jupyter cannot handle CPU multiprocessing well so check which medium the code is runing)\n",
    "#we will write code in Jupyter for understanding purposes but final execuation will be in shell\n",
    "from ipynb.fs.full.Utils import isnotebook\n",
    "from ipynb.fs.full.Dataset import get_data, generate_synthetic\n",
    "import networkx as nx\n",
    "from torch_geometric.utils import to_networkx, from_networkx\n",
    "import torch_geometric.utils.homophily as homophily\n",
    "import copy\n",
    "import ipynb.fs.full.utils.MoonGraph as MoonGraph"
   ]
  },
  {
   "cell_type": "code",
   "execution_count": 3,
   "id": "f8e61e7e",
   "metadata": {},
   "outputs": [],
   "source": [
    "import torch\n",
    "import torch.nn as nn\n",
    "from torch_sparse import SparseTensor\n",
    "from tqdm import tqdm\n",
    "import math\n",
    "import time\n",
    "import torch.nn.functional as F\n",
    "\n",
    "import random\n",
    "random.seed(12345)\n",
    "import numpy as np\n",
    "np.random.seed(12345)"
   ]
  },
  {
   "cell_type": "code",
   "execution_count": 4,
   "id": "1b0d46b9",
   "metadata": {},
   "outputs": [],
   "source": [
    "import sklearn\n",
    "from sklearn.metrics import pairwise_distances\n",
    "from sklearn.metrics.pairwise import pairwise_kernels\n",
    "from sklearn.metrics.pairwise import cosine_similarity, euclidean_distances\n",
    "from multiprocessing.pool import ThreadPool, Pool"
   ]
  },
  {
   "cell_type": "markdown",
   "id": "4e3684fa",
   "metadata": {},
   "source": [
    "## Random Sparse"
   ]
  },
  {
   "cell_type": "code",
   "execution_count": 5,
   "id": "ae7d866b",
   "metadata": {},
   "outputs": [],
   "source": [
    "class RandomSparse():\n",
    "    \n",
    "    def __init__(self, data, K, log = False):\n",
    "        \n",
    "        self.N = N = data.num_nodes\n",
    "        self.E = E = data.num_edges\n",
    "        self.data = data\n",
    "        self.log = log\n",
    "        self.K = K\n",
    "        \n",
    "        self.adj = SparseTensor(\n",
    "            row=data.edge_index[0], col=data.edge_index[1],\n",
    "            value=torch.arange(E, device=data.edge_index.device),\n",
    "            sparse_sizes=(N, N))\n",
    "        \n",
    "   \n",
    "    def sparse(self):\n",
    "        \n",
    "        if self.log:\n",
    "            pbar = tqdm(total=self.N)\n",
    "            pbar.set_description(f'Nodes')\n",
    "        \n",
    "        edge_index=[]\n",
    "\n",
    "        for u in range(self.N):    \n",
    "            \n",
    "            row, col, e_index = self.adj[u,:].coo()   \n",
    "            indexs = np.random.randint(len(e_index), size=min(self.K, len(e_index)))\n",
    "            #print(e_index, indexs)\n",
    "            e_index = e_index[indexs]\n",
    "            #print(e_index)\n",
    "            \n",
    "            edge_index.extend(e_index)\n",
    "            \n",
    "            if self.log:\n",
    "                pbar.update(1)\n",
    "        \n",
    "        if self.log:\n",
    "            pbar.close()\n",
    "        \n",
    "        edge_index = self.data.edge_index[:,edge_index]\n",
    "        \n",
    "        return edge_index"
   ]
  },
  {
   "cell_type": "markdown",
   "id": "5ddbb922",
   "metadata": {},
   "source": [
    "# Main"
   ]
  },
  {
   "cell_type": "code",
   "execution_count": 6,
   "id": "ec49c506",
   "metadata": {
    "scrolled": true
   },
   "outputs": [
    {
     "name": "stdout",
     "output_type": "stream",
     "text": [
      "Data directory:  /scratch/gilbreth/das90/Dataset/\n",
      "Result directory: /scratch/gilbreth/das90/Dataset/RESULTS/\n",
      "\n",
      "Dataset: Cora():\n",
      "======================\n",
      "Number of graphs: 1\n",
      "Number of features: 1433\n",
      "Number of classes: 7\n",
      "\n",
      "Data(x=[2708, 1433], edge_index=[2, 10556], y=[2708], train_mask=[2708], val_mask=[2708], test_mask=[2708])\n",
      "===========================================================================================================\n",
      "Number of nodes: 2708\n",
      "Number of edges: 10556\n",
      "Average node degree: 3.90\n",
      "Number of training nodes: 140\n",
      "Training node label rate: 0.05\n",
      "Has isolated nodes: False\n",
      "Has self-loops: False\n",
      "Is undirected: True\n",
      "Data(x=[2708, 1433], edge_index=[2, 270800], y=[2708], train_mask=[2708], val_mask=[2708], test_mask=[2708])\n",
      "Node Homophily: 0.2527381181716919\n",
      "Edge Homophily: 0.25\n",
      "Edge_insensitive Homophily: 0.11672463268041611\n",
      "Degree:  100.0\n"
     ]
    },
    {
     "name": "stderr",
     "output_type": "stream",
     "text": [
      "Nodes: 100%|██████████| 2708/2708 [00:00<00:00, 5065.78it/s]"
     ]
    },
    {
     "name": "stdout",
     "output_type": "stream",
     "text": [
      "Execution time:  0.5447683334350586\n",
      "Node Homophily: 0.24445265531539917\n",
      "Edge Homophily: 0.25886261463165283\n",
      "Edge_insensitive Homophily: 0.12290727347135544\n",
      "Sparse Degree:  3.0\n"
     ]
    },
    {
     "name": "stderr",
     "output_type": "stream",
     "text": [
      "\n"
     ]
    }
   ],
   "source": [
    "if __name__ == '__main__':  \n",
    "    \n",
    "    data, dataset = get_data('Cora')\n",
    "    data = generate_synthetic(data, d=100, h=0.25, train=0.1, random_state=None, log=False)\n",
    "    print(data)\n",
    "    \n",
    "    print(\"Node Homophily:\", homophily(data.edge_index, data.y, method='node'))\n",
    "    print(\"Edge Homophily:\", homophily(data.edge_index, data.y, method='edge'))\n",
    "    print(\"Edge_insensitive Homophily:\", homophily(data.edge_index, data.y, method='edge_insensitive'))    \n",
    "    print('Degree: ', data.num_edges / data.num_nodes)\n",
    "    rand_sparse = RandomSparse(data, K = 3, log = True)\n",
    "    \n",
    "    start = time.time()    \n",
    "    edge_index = rand_sparse.sparse()\n",
    "    end = time.time()\n",
    "    print(\"Execution time: \", end-start)\n",
    "    \n",
    "    print(\"Node Homophily:\", homophily(edge_index, data.y, method='node'))\n",
    "    print(\"Edge Homophily:\", homophily(edge_index, data.y, method='edge'))\n",
    "    print(\"Edge_insensitive Homophily:\", homophily(edge_index, data.y, method='edge_insensitive'))    \n",
    "    print('Sparse Degree: ', edge_index.shape[1] / data.num_nodes)\n",
    "    \n",
    "    None"
   ]
  },
  {
   "cell_type": "code",
   "execution_count": 7,
   "id": "88e2c0b4",
   "metadata": {},
   "outputs": [],
   "source": [
    "# data, dataset = get_data('Cora', log= False)\n",
    "# data = generate_synthetic(data, d=5, h=0.25, train=0.1, random_state=1, log=True)\n",
    "# print(data)\n",
    "\n",
    "# print(\"Node Homophily:\", homophily(data.edge_index, data.y, method='node'))\n",
    "# print(\"Edge Homophily:\", homophily(data.edge_index, data.y, method='edge'))\n",
    "# print(\"Edge_insensitive Homophily:\", homophily(data.edge_index, data.y, method='edge_insensitive'))    "
   ]
  },
  {
   "cell_type": "code",
   "execution_count": 8,
   "id": "227e9336",
   "metadata": {},
   "outputs": [],
   "source": [
    "# submodular_weight = KNNWeight(data, 'euclidean')\n",
    "# S_G, S_edge = submodular_weight.lazy_greedy_weight(0); print(S_G); print(S_edge);\n",
    "# print(data.edge_index[:,S_edge])    \n",
    "# neighbors = data.edge_index[:,S_edge][1]\n",
    "# print(neighbors)\n",
    "# print(data.y[0])\n",
    "# print(data.y[neighbors])"
   ]
  },
  {
   "cell_type": "code",
   "execution_count": null,
   "id": "750c8d17",
   "metadata": {},
   "outputs": [],
   "source": []
  }
 ],
 "metadata": {
  "kernelspec": {
   "display_name": "py38cu11",
   "language": "python",
   "name": "py38cu11"
  },
  "language_info": {
   "codemirror_mode": {
    "name": "ipython",
    "version": 3
   },
   "file_extension": ".py",
   "mimetype": "text/x-python",
   "name": "python",
   "nbconvert_exporter": "python",
   "pygments_lexer": "ipython3",
   "version": "3.8.13"
  }
 },
 "nbformat": 4,
 "nbformat_minor": 5
}
